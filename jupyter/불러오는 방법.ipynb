{
 "cells": [
  {
   "cell_type": "code",
   "execution_count": null,
   "id": "f01614a3",
   "metadata": {},
   "outputs": [],
   "source": [
    "# 불러올 경로 지정\n",
    "# 다운로드에 불러올 경우 다운로드 파일 내부에서 압축을 푼 다음 다음 코드를 실행한다. \n",
    "model_path = \"bert-model\"\n",
    "tokenizer_path = \"bert-tokenizer\"\n",
    "\n",
    "from transformers import AutoTokenizer, AutoModelForCausalLM, TextGenerationPipeline\n",
    "import torch\n",
    "\n",
    "\n",
    "language_model = AutoModelForCausalLM.from_pretrained(model_path)\n",
    "tokenizer = AutoTokenizer.from_pretrained(tokenizer_path)"
   ]
  }
 ],
 "metadata": {
  "kernelspec": {
   "display_name": "Python 3 (ipykernel)",
   "language": "python",
   "name": "python3"
  },
  "language_info": {
   "codemirror_mode": {
    "name": "ipython",
    "version": 3
   },
   "file_extension": ".py",
   "mimetype": "text/x-python",
   "name": "python",
   "nbconvert_exporter": "python",
   "pygments_lexer": "ipython3",
   "version": "3.11.5"
  }
 },
 "nbformat": 4,
 "nbformat_minor": 5
}
