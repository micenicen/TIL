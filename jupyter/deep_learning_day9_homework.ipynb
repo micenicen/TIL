{
 "cells": [
  {
   "cell_type": "code",
   "execution_count": null,
   "id": "81921940",
   "metadata": {},
   "outputs": [],
   "source": [
    "# 문제1. 이 제품은 너무 좋은데요. 정말 좋아요. 강추합니다. 이런 댓글을 입력했을때 긍정인지 부정인지 출력하는 것을 만들어라.\n",
    "# 이것도 상품인가요? 정말 화가 납니다. 분노가 치밀어요. 개짜증납니다.\n",
    "# 함수를 만들어서 언어를 전달받아서 리턴결과가 긍정인지 부정인지 출력하라. \n",
    "# https://www.kaggle.com/datasets/uciml/sms-spam-collection-dataset"
   ]
  },
  {
   "cell_type": "code",
   "execution_count": 94,
   "id": "5932d993",
   "metadata": {},
   "outputs": [],
   "source": [
    "import re\n",
    "import pandas as pd\n",
    "import numpy as np\n",
    "import matplotlib.pyplot as plt\n",
    "import urllib.request\n",
    "from konlpy.tag import Okt   \n",
    "\n",
    "from wordcloud import WordCloud\n",
    "from sklearn.model_selection import train_test_split\n",
    "from tensorflow.keras.preprocessing.text import Tokenizer\n",
    "from tensorflow.keras.preprocessing.sequence import pad_sequences\n",
    "\n",
    "from tensorflow.keras.layers import Embedding, Dense, LSTM\n",
    "from tensorflow.keras.models import Sequential\n",
    "from tensorflow.keras.models import load_model\n",
    "from tensorflow.keras.callbacks import EarlyStopping, ModelCheckpoint"
   ]
  },
  {
   "cell_type": "code",
   "execution_count": 4,
   "id": "e7cbdc85",
   "metadata": {},
   "outputs": [],
   "source": [
    "total_data = pd.read_table('ratings_total.txt', names=['ratings', 'reviews'])"
   ]
  },
  {
   "cell_type": "code",
   "execution_count": 7,
   "id": "48d2745d",
   "metadata": {},
   "outputs": [],
   "source": [
    "total_data['lable']=np.select([total_data.ratings>3],[1],default= 0 )"
   ]
  },
  {
   "cell_type": "code",
   "execution_count": 9,
   "id": "4b958b21",
   "metadata": {},
   "outputs": [],
   "source": [
    "total_data.drop_duplicates(subset=['reviews'],inplace=True)"
   ]
  },
  {
   "cell_type": "code",
   "execution_count": 11,
   "id": "ab85dd8e",
   "metadata": {},
   "outputs": [],
   "source": [
    "total_data1 = total_data[0:20000]\n",
    "total_data2 = total_data[20000:40000]\n",
    "total_data3 = total_data[40000:60000]\n",
    "total_data4 = total_data[60000:80000]\n",
    "total_data5 = total_data[80000:100000]\n",
    "total_data6 = total_data[100000:120000]\n",
    "total_data7 = total_data[120000:140000]\n",
    "total_data8 = total_data[140000:160000]\n",
    "total_data9 = total_data[160000:180000]\n",
    "total_data10 = total_data[18000:199908]"
   ]
  },
  {
   "cell_type": "code",
   "execution_count": 12,
   "id": "48c93c99",
   "metadata": {},
   "outputs": [],
   "source": [
    "train_data1, test_data1 = train_test_split(total_data1, test_size = 0.25, random_state = 42)"
   ]
  },
  {
   "cell_type": "code",
   "execution_count": 13,
   "id": "e0432c1f",
   "metadata": {},
   "outputs": [],
   "source": [
    "train_data2, test_data2 = train_test_split(total_data2, test_size = 0.25, random_state = 42)\n",
    "train_data3, test_data3 = train_test_split(total_data3, test_size = 0.25, random_state = 42)\n",
    "train_data4, test_data4 = train_test_split(total_data4, test_size = 0.25, random_state = 42)\n",
    "train_data5, test_data5 = train_test_split(total_data5, test_size = 0.25, random_state = 42)\n",
    "train_data6, test_data6 = train_test_split(total_data6, test_size = 0.25, random_state = 42)\n",
    "train_data7, test_data7 = train_test_split(total_data7, test_size = 0.25, random_state = 42)\n",
    "train_data8, test_data8 = train_test_split(total_data8, test_size = 0.25, random_state = 42)\n",
    "train_data9, test_data9 = train_test_split(total_data9, test_size = 0.25, random_state = 42)\n",
    "train_data10, test_data10 = train_test_split(total_data10, test_size = 0.25, random_state = 42)"
   ]
  },
  {
   "cell_type": "code",
   "execution_count": 14,
   "id": "05979432",
   "metadata": {},
   "outputs": [],
   "source": [
    "train_data1['reviews'] = train_data1['reviews'].str.replace(\"[^ㄱ-ㅎㅏ-ㅣ가-힣 ]\",\"\")\n",
    "train_data2['reviews'] = train_data2['reviews'].str.replace(\"[^ㄱ-ㅎㅏ-ㅣ가-힣 ]\",\"\")\n",
    "train_data3['reviews'] = train_data3['reviews'].str.replace(\"[^ㄱ-ㅎㅏ-ㅣ가-힣 ]\",\"\")\n",
    "train_data4['reviews'] = train_data4['reviews'].str.replace(\"[^ㄱ-ㅎㅏ-ㅣ가-힣 ]\",\"\")\n",
    "train_data5['reviews'] = train_data5['reviews'].str.replace(\"[^ㄱ-ㅎㅏ-ㅣ가-힣 ]\",\"\")\n",
    "train_data6['reviews'] = train_data6['reviews'].str.replace(\"[^ㄱ-ㅎㅏ-ㅣ가-힣 ]\",\"\")\n",
    "train_data7['reviews'] = train_data7['reviews'].str.replace(\"[^ㄱ-ㅎㅏ-ㅣ가-힣 ]\",\"\")\n",
    "train_data8['reviews'] = train_data8['reviews'].str.replace(\"[^ㄱ-ㅎㅏ-ㅣ가-힣 ]\",\"\")\n",
    "train_data9['reviews'] = train_data9['reviews'].str.replace(\"[^ㄱ-ㅎㅏ-ㅣ가-힣 ]\",\"\")\n",
    "train_data10['reviews'] = train_data10['reviews'].str.replace(\"[^ㄱ-ㅎㅏ-ㅣ가-힣 ]\",\"\")"
   ]
  },
  {
   "cell_type": "code",
   "execution_count": 15,
   "id": "337b001e",
   "metadata": {},
   "outputs": [],
   "source": [
    "train_data1['reviews'].replace(\"\",np.nan,inplace=True)\n",
    "train_data2['reviews'].replace(\"\",np.nan,inplace=True)\n",
    "train_data3['reviews'].replace(\"\",np.nan,inplace=True)\n",
    "train_data4['reviews'].replace(\"\",np.nan,inplace=True)\n",
    "train_data5['reviews'].replace(\"\",np.nan,inplace=True)\n",
    "train_data6['reviews'].replace(\"\",np.nan,inplace=True)\n",
    "train_data7['reviews'].replace(\"\",np.nan,inplace=True)\n",
    "train_data8['reviews'].replace(\"\",np.nan,inplace=True)\n",
    "train_data9['reviews'].replace(\"\",np.nan,inplace=True)\n",
    "train_data10['reviews'].replace(\"\",np.nan,inplace=True)"
   ]
  },
  {
   "cell_type": "code",
   "execution_count": 37,
   "id": "dc8a2b22",
   "metadata": {},
   "outputs": [],
   "source": [
    "test_data1['reviews']=test_data1['reviews'].str.replace(\"[^ㄱ-ㅎㅏ-ㅣ가-힣 ]\",\"\")\n",
    "test_data2['reviews']=test_data2['reviews'].str.replace(\"[^ㄱ-ㅎㅏ-ㅣ가-힣 ]\",\"\")\n",
    "test_data3['reviews']=test_data3['reviews'].str.replace(\"[^ㄱ-ㅎㅏ-ㅣ가-힣 ]\",\"\")\n",
    "test_data4['reviews']=test_data4['reviews'].str.replace(\"[^ㄱ-ㅎㅏ-ㅣ가-힣 ]\",\"\")\n",
    "test_data5['reviews']=test_data5['reviews'].str.replace(\"[^ㄱ-ㅎㅏ-ㅣ가-힣 ]\",\"\")\n",
    "test_data6['reviews']=test_data6['reviews'].str.replace(\"[^ㄱ-ㅎㅏ-ㅣ가-힣 ]\",\"\")\n",
    "test_data7['reviews']=test_data7['reviews'].str.replace(\"[^ㄱ-ㅎㅏ-ㅣ가-힣 ]\",\"\")\n",
    "test_data8['reviews']=test_data8['reviews'].str.replace(\"[^ㄱ-ㅎㅏ-ㅣ가-힣 ]\",\"\")\n",
    "test_data9['reviews']=test_data9['reviews'].str.replace(\"[^ㄱ-ㅎㅏ-ㅣ가-힣 ]\",\"\")\n",
    "test_data10['reviews']=test_data10['reviews'].str.replace(\"[^ㄱ-ㅎㅏ-ㅣ가-힣 ]\",\"\")"
   ]
  },
  {
   "cell_type": "code",
   "execution_count": 38,
   "id": "9571dc80",
   "metadata": {},
   "outputs": [],
   "source": [
    "test_data1['reviews'].replace(\"\", np.nan, inplace=True)\n",
    "test_data2['reviews'].replace(\"\", np.nan, inplace=True)\n",
    "test_data3['reviews'].replace(\"\", np.nan, inplace=True)\n",
    "test_data4['reviews'].replace(\"\", np.nan, inplace=True)\n",
    "test_data5['reviews'].replace(\"\", np.nan, inplace=True)\n",
    "test_data6['reviews'].replace(\"\", np.nan, inplace=True)\n",
    "test_data7['reviews'].replace(\"\", np.nan, inplace=True)\n",
    "test_data8['reviews'].replace(\"\", np.nan, inplace=True)\n",
    "test_data9['reviews'].replace(\"\", np.nan, inplace=True)\n",
    "test_data10['reviews'].replace(\"\", np.nan, inplace=True)"
   ]
  },
  {
   "cell_type": "code",
   "execution_count": 52,
   "id": "bf1705c7",
   "metadata": {},
   "outputs": [],
   "source": [
    "okt = Okt()"
   ]
  },
  {
   "cell_type": "code",
   "execution_count": 53,
   "id": "5393116b",
   "metadata": {},
   "outputs": [],
   "source": [
    "stopwords = ['도', '는', '다', '의', '가', '이', '은', '한', '에', '하', '고', '을', '를', '인', '듯', '과', '와', '네', '들', '듯', '지', '임', '게','.','..']"
   ]
  },
  {
   "cell_type": "code",
   "execution_count": 54,
   "id": "b9c84be9",
   "metadata": {},
   "outputs": [],
   "source": [
    "train_data1['tokenized']=train_data1['reviews'].apply(okt.morphs)"
   ]
  },
  {
   "cell_type": "code",
   "execution_count": 55,
   "id": "ae24e21a",
   "metadata": {},
   "outputs": [],
   "source": [
    "train_data2['tokenized']=train_data2['reviews'].apply(okt.morphs)"
   ]
  },
  {
   "cell_type": "code",
   "execution_count": 56,
   "id": "a8083b42",
   "metadata": {},
   "outputs": [],
   "source": [
    "train_data3['tokenized']=train_data3['reviews'].apply(okt.morphs)"
   ]
  },
  {
   "cell_type": "code",
   "execution_count": 57,
   "id": "d444b2f2",
   "metadata": {},
   "outputs": [],
   "source": [
    "train_data4['tokenized']=train_data4['reviews'].apply(okt.morphs)"
   ]
  },
  {
   "cell_type": "code",
   "execution_count": 58,
   "id": "d138a15f",
   "metadata": {},
   "outputs": [],
   "source": [
    "train_data5['tokenized']=train_data5['reviews'].apply(okt.morphs)"
   ]
  },
  {
   "cell_type": "code",
   "execution_count": 59,
   "id": "c7e4a4fa",
   "metadata": {},
   "outputs": [],
   "source": [
    "train_data6['tokenized']=train_data6['reviews'].apply(okt.morphs)"
   ]
  },
  {
   "cell_type": "code",
   "execution_count": 60,
   "id": "0657322f",
   "metadata": {},
   "outputs": [],
   "source": [
    "train_data7['tokenized']=train_data7['reviews'].apply(okt.morphs)"
   ]
  },
  {
   "cell_type": "code",
   "execution_count": 61,
   "id": "ad58c56a",
   "metadata": {},
   "outputs": [],
   "source": [
    "train_data8['tokenized']=train_data8['reviews'].apply(okt.morphs)"
   ]
  },
  {
   "cell_type": "code",
   "execution_count": 62,
   "id": "9acc0902",
   "metadata": {},
   "outputs": [],
   "source": [
    "train_data9['tokenized']=train_data9['reviews'].apply(okt.morphs)"
   ]
  },
  {
   "cell_type": "code",
   "execution_count": 63,
   "id": "4d158c42",
   "metadata": {},
   "outputs": [],
   "source": [
    "train_data10['tokenized']=train_data10['reviews'].apply(okt.morphs)"
   ]
  },
  {
   "cell_type": "code",
   "execution_count": 64,
   "id": "98d0f9f5",
   "metadata": {},
   "outputs": [],
   "source": [
    "train_data1['tokenized']=train_data1['tokenized'].apply(lambda x: [item for item in x if item not in stopwords])\n",
    "train_data2['tokenized']=train_data2['tokenized'].apply(lambda x: [item for item in x if item not in stopwords])\n",
    "train_data3['tokenized']=train_data3['tokenized'].apply(lambda x: [item for item in x if item not in stopwords])\n",
    "train_data4['tokenized']=train_data4['tokenized'].apply(lambda x: [item for item in x if item not in stopwords])\n",
    "train_data5['tokenized']=train_data5['tokenized'].apply(lambda x: [item for item in x if item not in stopwords])\n",
    "train_data6['tokenized']=train_data6['tokenized'].apply(lambda x: [item for item in x if item not in stopwords])\n",
    "train_data7['tokenized']=train_data7['tokenized'].apply(lambda x: [item for item in x if item not in stopwords])\n",
    "train_data8['tokenized']=train_data8['tokenized'].apply(lambda x: [item for item in x if item not in stopwords])\n",
    "train_data9['tokenized']=train_data9['tokenized'].apply(lambda x: [item for item in x if item not in stopwords])\n",
    "train_data10['tokenized']=train_data10['tokenized'].apply(lambda x: [item for item in x if item not in stopwords])"
   ]
  },
  {
   "cell_type": "code",
   "execution_count": 71,
   "id": "2e0bb514",
   "metadata": {},
   "outputs": [],
   "source": [
    "test_data1['tokenized'] = test_data1['reviews'].apply(okt.morphs)"
   ]
  },
  {
   "cell_type": "code",
   "execution_count": 72,
   "id": "8e395d59",
   "metadata": {},
   "outputs": [],
   "source": [
    "test_data2['tokenized'] = test_data2['reviews'].apply(okt.morphs)"
   ]
  },
  {
   "cell_type": "code",
   "execution_count": 73,
   "id": "a79b0131",
   "metadata": {},
   "outputs": [],
   "source": [
    "test_data3['tokenized'] = test_data3['reviews'].apply(okt.morphs)"
   ]
  },
  {
   "cell_type": "code",
   "execution_count": 74,
   "id": "d8d79c04",
   "metadata": {},
   "outputs": [],
   "source": [
    "test_data4['tokenized'] = test_data4['reviews'].apply(okt.morphs)"
   ]
  },
  {
   "cell_type": "code",
   "execution_count": 76,
   "id": "98a8834e",
   "metadata": {},
   "outputs": [],
   "source": [
    "test_data5['tokenized'] = test_data5['reviews'].apply(okt.morphs)"
   ]
  },
  {
   "cell_type": "code",
   "execution_count": 77,
   "id": "4ed1e449",
   "metadata": {},
   "outputs": [],
   "source": [
    "test_data6['tokenized'] = test_data6['reviews'].apply(okt.morphs)"
   ]
  },
  {
   "cell_type": "code",
   "execution_count": 78,
   "id": "24ad76a3",
   "metadata": {},
   "outputs": [],
   "source": [
    "test_data7['tokenized'] = test_data7['reviews'].apply(okt.morphs)"
   ]
  },
  {
   "cell_type": "code",
   "execution_count": 79,
   "id": "52361137",
   "metadata": {},
   "outputs": [],
   "source": [
    "test_data8['tokenized'] = test_data8['reviews'].apply(okt.morphs)"
   ]
  },
  {
   "cell_type": "code",
   "execution_count": 80,
   "id": "191c4cef",
   "metadata": {},
   "outputs": [],
   "source": [
    "test_data9['tokenized'] = test_data9['reviews'].apply(okt.morphs)"
   ]
  },
  {
   "cell_type": "code",
   "execution_count": 81,
   "id": "b820c72d",
   "metadata": {},
   "outputs": [],
   "source": [
    "test_data10['tokenized'] = test_data10['reviews'].apply(okt.morphs)"
   ]
  },
  {
   "cell_type": "code",
   "execution_count": 82,
   "id": "2ee435cf",
   "metadata": {},
   "outputs": [],
   "source": [
    "test_data1['tokenized'] = test_data1['tokenized'].apply(lambda x: [item for item in x if item not in stopwords])\n",
    "test_data2['tokenized'] = test_data2['tokenized'].apply(lambda x: [item for item in x if item not in stopwords])\n",
    "test_data3['tokenized'] = test_data3['tokenized'].apply(lambda x: [item for item in x if item not in stopwords])\n",
    "test_data4['tokenized'] = test_data4['tokenized'].apply(lambda x: [item for item in x if item not in stopwords])\n",
    "test_data5['tokenized'] = test_data5['tokenized'].apply(lambda x: [item for item in x if item not in stopwords])\n",
    "test_data6['tokenized'] = test_data6['tokenized'].apply(lambda x: [item for item in x if item not in stopwords])\n",
    "test_data7['tokenized'] = test_data7['tokenized'].apply(lambda x: [item for item in x if item not in stopwords])\n",
    "test_data8['tokenized'] = test_data8['tokenized'].apply(lambda x: [item for item in x if item not in stopwords])\n",
    "test_data9['tokenized'] = test_data9['tokenized'].apply(lambda x: [item for item in x if item not in stopwords])\n",
    "test_data10['tokenized'] = test_data10['tokenized'].apply(lambda x: [item for item in x if item not in stopwords])"
   ]
  },
  {
   "cell_type": "code",
   "execution_count": 83,
   "id": "918a6eb7",
   "metadata": {},
   "outputs": [],
   "source": [
    "train_Data = pd.concat([train_data1,train_data2,train_data3,train_data4,train_data5,train_data6,train_data7,train_data8,train_data9,train_data10])    "
   ]
  },
  {
   "cell_type": "code",
   "execution_count": 84,
   "id": "493088eb",
   "metadata": {},
   "outputs": [],
   "source": [
    "test_Data = pd.concat([test_data1,test_data2,test_data3,test_data4,test_data5,test_data6,test_data7,test_data8,test_data9,test_data10])    "
   ]
  },
  {
   "cell_type": "code",
   "execution_count": 126,
   "id": "31106d9e",
   "metadata": {},
   "outputs": [],
   "source": [
    "X_train = train_Data['tokenized'].values\n",
    "y_train = train_Data['lable'].values\n",
    "X_test= test_Data['tokenized'].values\n",
    "y_test = test_Data['lable'].values"
   ]
  },
  {
   "cell_type": "code",
   "execution_count": 127,
   "id": "7c631785",
   "metadata": {},
   "outputs": [],
   "source": [
    "tokenizer = Tokenizer()\n",
    "tokenizer.fit_on_texts(X_train)"
   ]
  },
  {
   "cell_type": "code",
   "execution_count": 128,
   "id": "7a9f7415",
   "metadata": {},
   "outputs": [
    {
     "name": "stdout",
     "output_type": "stream",
     "text": [
      "단어 집합(vocabulary)의 크기 : 108288\n",
      "등장 빈도가 2번 이하인 희귀 단어의 수: 63656\n",
      "단어 집합에서 희귀 단어의 비율: 58.78398345153665\n",
      "전체 등장 빈도에서 희귀 단어 등장 빈도 비율: 2.7521878117316376\n"
     ]
    }
   ],
   "source": [
    "threshold = 3\n",
    "total_cnt = len(tokenizer.word_index)\n",
    "rare_cnt = 0\n",
    "total_freq = 0\n",
    "rare_freq = 0\n",
    "\n",
    "for key, value in tokenizer.word_counts.items():\n",
    "    total_freq = total_freq + value\n",
    "\n",
    "    if(value < threshold):\n",
    "        rare_cnt = rare_cnt + 1\n",
    "        rare_freq = rare_freq + value\n",
    "\n",
    "print('단어 집합(vocabulary)의 크기 :',total_cnt)\n",
    "print('등장 빈도가 %s번 이하인 희귀 단어의 수: %s'%(threshold - 1, rare_cnt))\n",
    "print(\"단어 집합에서 희귀 단어의 비율:\", (rare_cnt / total_cnt)*100)\n",
    "print(\"전체 등장 빈도에서 희귀 단어 등장 빈도 비율:\", (rare_freq / total_freq)*100)"
   ]
  },
  {
   "cell_type": "code",
   "execution_count": 129,
   "id": "58bab3a4",
   "metadata": {},
   "outputs": [
    {
     "name": "stdout",
     "output_type": "stream",
     "text": [
      "단어 집합의 크기 : 44634\n"
     ]
    }
   ],
   "source": [
    "vocab_size = total_cnt - rare_cnt + 2          # 2를 더한 이유는 0이라는 패딩토큰에 OOV 토큰 하나가 더 추가되었기 때문이다\n",
    "print('단어 집합의 크기 :',vocab_size)"
   ]
  },
  {
   "cell_type": "code",
   "execution_count": 130,
   "id": "252ad9ed",
   "metadata": {},
   "outputs": [],
   "source": [
    "model.compile(loss='mean_squared_error', optimizer='adam')              \n",
    "early_stop = EarlyStopping(monitor='loss', patience=5)      \n",
    "checkpoint = ModelCheckpoint('lstm2_checkpoint.h5',\n",
    "                             monitor='loss', verbose=1,\n",
    "                             save_best_only=True, mode='auto') "
   ]
  },
  {
   "cell_type": "code",
   "execution_count": 131,
   "id": "ac93a23f",
   "metadata": {},
   "outputs": [],
   "source": [
    "tokenizer = Tokenizer(vocab_size, oov_token = 'OOV')                        \n",
    "tokenizer.fit_on_texts(X_train)"
   ]
  },
  {
   "cell_type": "code",
   "execution_count": 92,
   "id": "2ce27ab9",
   "metadata": {},
   "outputs": [],
   "source": [
    "X_train = tokenizer.texts_to_sequences(X_train)\n",
    "X_test = tokenizer.texts_to_sequences(X_test)"
   ]
  },
  {
   "cell_type": "code",
   "execution_count": 93,
   "id": "9a3f34c9",
   "metadata": {},
   "outputs": [
    {
     "name": "stdout",
     "output_type": "stream",
     "text": [
      "리뷰의 최대 길이 : 77\n",
      "리뷰의 평균 길이 : 13.07044147499733\n"
     ]
    },
    {
     "data": {
      "image/png": "[encoded data removed]",
      "text/plain": [
       "<Figure size 640x480 with 1 Axes>"
      ]
     },
     "metadata": {},
     "output_type": "display_data"
    }
   ],
   "source": [
    "print('리뷰의 최대 길이 :',max(len(l) for l in X_train))\n",
    "print('리뷰의 평균 길이 :',sum(map(len, X_train))/len(X_train))\n",
    "plt.hist([len(s) for s in X_train], bins=50)\n",
    "plt.xlabel('length of samples')\n",
    "plt.ylabel('number of samples')\n",
    "plt.show()"
   ]
  },
  {
   "cell_type": "code",
   "execution_count": 95,
   "id": "5dda9ba3",
   "metadata": {},
   "outputs": [],
   "source": [
    "X_train = pad_sequences(X_train, maxlen = 77)  # 최대길이  77\n",
    "X_test = pad_sequences(X_test, maxlen = 77)     # 임베딩을 위해서 패딩을 한다. "
   ]
  },
  {
   "cell_type": "code",
   "execution_count": 99,
   "id": "04c9b0a2",
   "metadata": {},
   "outputs": [],
   "source": [
    "model = Sequential()\n",
    "model.add(Embedding(vocab_size, 128))\n",
    "model.add(LSTM(128))\n",
    "model.add(Dense(1, activation='sigmoid'))"
   ]
  },
  {
   "cell_type": "code",
   "execution_count": 100,
   "id": "8ca34850",
   "metadata": {},
   "outputs": [],
   "source": [
    "es = EarlyStopping(monitor='val_loss', verbose=1, patience=4)\n",
    "mc = ModelCheckpoint('best_model.h5', monitor='val_acc', mode='max', verbose=1, save_best_only=True)"
   ]
  },
  {
   "cell_type": "code",
   "execution_count": 101,
   "id": "47e2d865",
   "metadata": {},
   "outputs": [
    {
     "name": "stdout",
     "output_type": "stream",
     "text": [
      "Epoch 1/30\n",
      "3619/3620 [============================>.] - ETA: 0s - loss: 0.2663 - acc: 0.8991\n",
      "Epoch 1: val_acc improved from -inf to 0.91714, saving model to best_model.h5\n",
      "3620/3620 [==============================] - 273s 75ms/step - loss: 0.2663 - acc: 0.8991 - val_loss: 0.2284 - val_acc: 0.9171\n",
      "Epoch 2/30\n",
      "   1/3620 [..............................] - ETA: 5:04 - loss: 0.1017 - acc: 0.9833"
     ]
    },
    {
     "name": "stderr",
     "output_type": "stream",
     "text": [
      "C:\\Users\\user\\anaconda3\\Lib\\site-packages\\keras\\src\\engine\\training.py:3079: UserWarning: You are saving your model as an HDF5 file via `model.save()`. This file format is considered legacy. We recommend using instead the native Keras format, e.g. `model.save('my_model.keras')`.\n",
      "  saving_api.save_model(\n"
     ]
    },
    {
     "name": "stdout",
     "output_type": "stream",
     "text": [
      "3619/3620 [============================>.] - ETA: 0s - loss: 0.2084 - acc: 0.9268\n",
      "Epoch 2: val_acc improved from 0.91714 to 0.92728, saving model to best_model.h5\n",
      "3620/3620 [==============================] - 279s 77ms/step - loss: 0.2084 - acc: 0.9268 - val_loss: 0.2050 - val_acc: 0.9273\n",
      "Epoch 3/30\n",
      "3619/3620 [============================>.] - ETA: 0s - loss: 0.1810 - acc: 0.9382\n",
      "Epoch 3: val_acc improved from 0.92728 to 0.93210, saving model to best_model.h5\n",
      "3620/3620 [==============================] - 281s 78ms/step - loss: 0.1810 - acc: 0.9382 - val_loss: 0.1948 - val_acc: 0.9321\n",
      "Epoch 4/30\n",
      "3619/3620 [============================>.] - ETA: 0s - loss: 0.1599 - acc: 0.9470\n",
      "Epoch 4: val_acc improved from 0.93210 to 0.93897, saving model to best_model.h5\n",
      "3620/3620 [==============================] - 278s 77ms/step - loss: 0.1599 - acc: 0.9470 - val_loss: 0.1789 - val_acc: 0.9390\n",
      "Epoch 5/30\n",
      "3619/3620 [============================>.] - ETA: 0s - loss: 0.1424 - acc: 0.9539\n",
      "Epoch 5: val_acc improved from 0.93897 to 0.94122, saving model to best_model.h5\n",
      "3620/3620 [==============================] - 282s 78ms/step - loss: 0.1424 - acc: 0.9539 - val_loss: 0.1761 - val_acc: 0.9412\n",
      "Epoch 6/30\n",
      "3619/3620 [============================>.] - ETA: 0s - loss: 0.1280 - acc: 0.9592\n",
      "Epoch 6: val_acc did not improve from 0.94122\n",
      "3620/3620 [==============================] - 285s 79ms/step - loss: 0.1280 - acc: 0.9592 - val_loss: 0.1859 - val_acc: 0.9361\n",
      "Epoch 7/30\n",
      "3619/3620 [============================>.] - ETA: 0s - loss: 0.1157 - acc: 0.9631\n",
      "Epoch 7: val_acc improved from 0.94122 to 0.94483, saving model to best_model.h5\n",
      "3620/3620 [==============================] - 285s 79ms/step - loss: 0.1157 - acc: 0.9631 - val_loss: 0.1696 - val_acc: 0.9448\n",
      "Epoch 8/30\n",
      "3619/3620 [============================>.] - ETA: 0s - loss: 0.1048 - acc: 0.9669\n",
      "Epoch 8: val_acc improved from 0.94483 to 0.94864, saving model to best_model.h5\n",
      "3620/3620 [==============================] - 284s 78ms/step - loss: 0.1048 - acc: 0.9669 - val_loss: 0.1599 - val_acc: 0.9486\n",
      "Epoch 9/30\n",
      "1629/3620 [============>.................] - ETA: 2:21 - loss: 0.0925 - acc: 0.9706"
     ]
    },
    {
     "ename": "KeyboardInterrupt",
     "evalue": "",
     "output_type": "error",
     "traceback": [
      "\u001b[1;31m---------------------------------------------------------------------------\u001b[0m",
      "\u001b[1;31mKeyboardInterrupt\u001b[0m                         Traceback (most recent call last)",
      "Cell \u001b[1;32mIn[101], line 2\u001b[0m\n\u001b[0;32m      1\u001b[0m model\u001b[38;5;241m.\u001b[39mcompile(optimizer\u001b[38;5;241m=\u001b[39m\u001b[38;5;124m'\u001b[39m\u001b[38;5;124mrmsprop\u001b[39m\u001b[38;5;124m'\u001b[39m, loss\u001b[38;5;241m=\u001b[39m\u001b[38;5;124m'\u001b[39m\u001b[38;5;124mbinary_crossentropy\u001b[39m\u001b[38;5;124m'\u001b[39m, metrics\u001b[38;5;241m=\u001b[39m[\u001b[38;5;124m'\u001b[39m\u001b[38;5;124macc\u001b[39m\u001b[38;5;124m'\u001b[39m])\n\u001b[1;32m----> 2\u001b[0m history \u001b[38;5;241m=\u001b[39m model\u001b[38;5;241m.\u001b[39mfit(X_train, y_train, epochs\u001b[38;5;241m=\u001b[39m\u001b[38;5;241m30\u001b[39m, callbacks\u001b[38;5;241m=\u001b[39m[es, mc], batch_size\u001b[38;5;241m=\u001b[39m\u001b[38;5;241m60\u001b[39m, validation_split\u001b[38;5;241m=\u001b[39m\u001b[38;5;241m0.2\u001b[39m)\n",
      "File \u001b[1;32m~\\anaconda3\\Lib\\site-packages\\keras\\src\\utils\\traceback_utils.py:65\u001b[0m, in \u001b[0;36mfilter_traceback.<locals>.error_handler\u001b[1;34m(*args, **kwargs)\u001b[0m\n\u001b[0;32m     63\u001b[0m filtered_tb \u001b[38;5;241m=\u001b[39m \u001b[38;5;28;01mNone\u001b[39;00m\n\u001b[0;32m     64\u001b[0m \u001b[38;5;28;01mtry\u001b[39;00m:\n\u001b[1;32m---> 65\u001b[0m     \u001b[38;5;28;01mreturn\u001b[39;00m fn(\u001b[38;5;241m*\u001b[39margs, \u001b[38;5;241m*\u001b[39m\u001b[38;5;241m*\u001b[39mkwargs)\n\u001b[0;32m     66\u001b[0m \u001b[38;5;28;01mexcept\u001b[39;00m \u001b[38;5;167;01mException\u001b[39;00m \u001b[38;5;28;01mas\u001b[39;00m e:\n\u001b[0;32m     67\u001b[0m     filtered_tb \u001b[38;5;241m=\u001b[39m _process_traceback_frames(e\u001b[38;5;241m.\u001b[39m__traceback__)\n",
      "File \u001b[1;32m~\\anaconda3\\Lib\\site-packages\\keras\\src\\engine\\training.py:1783\u001b[0m, in \u001b[0;36mModel.fit\u001b[1;34m(self, x, y, batch_size, epochs, verbose, callbacks, validation_split, validation_data, shuffle, class_weight, sample_weight, initial_epoch, steps_per_epoch, validation_steps, validation_batch_size, validation_freq, max_queue_size, workers, use_multiprocessing)\u001b[0m\n\u001b[0;32m   1775\u001b[0m \u001b[38;5;28;01mwith\u001b[39;00m tf\u001b[38;5;241m.\u001b[39mprofiler\u001b[38;5;241m.\u001b[39mexperimental\u001b[38;5;241m.\u001b[39mTrace(\n\u001b[0;32m   1776\u001b[0m     \u001b[38;5;124m\"\u001b[39m\u001b[38;5;124mtrain\u001b[39m\u001b[38;5;124m\"\u001b[39m,\n\u001b[0;32m   1777\u001b[0m     epoch_num\u001b[38;5;241m=\u001b[39mepoch,\n\u001b[1;32m   (...)\u001b[0m\n\u001b[0;32m   1780\u001b[0m     _r\u001b[38;5;241m=\u001b[39m\u001b[38;5;241m1\u001b[39m,\n\u001b[0;32m   1781\u001b[0m ):\n\u001b[0;32m   1782\u001b[0m     callbacks\u001b[38;5;241m.\u001b[39mon_train_batch_begin(step)\n\u001b[1;32m-> 1783\u001b[0m     tmp_logs \u001b[38;5;241m=\u001b[39m \u001b[38;5;28mself\u001b[39m\u001b[38;5;241m.\u001b[39mtrain_function(iterator)\n\u001b[0;32m   1784\u001b[0m     \u001b[38;5;28;01mif\u001b[39;00m data_handler\u001b[38;5;241m.\u001b[39mshould_sync:\n\u001b[0;32m   1785\u001b[0m         context\u001b[38;5;241m.\u001b[39masync_wait()\n",
      "File \u001b[1;32m~\\anaconda3\\Lib\\site-packages\\tensorflow\\python\\util\\traceback_utils.py:150\u001b[0m, in \u001b[0;36mfilter_traceback.<locals>.error_handler\u001b[1;34m(*args, **kwargs)\u001b[0m\n\u001b[0;32m    148\u001b[0m filtered_tb \u001b[38;5;241m=\u001b[39m \u001b[38;5;28;01mNone\u001b[39;00m\n\u001b[0;32m    149\u001b[0m \u001b[38;5;28;01mtry\u001b[39;00m:\n\u001b[1;32m--> 150\u001b[0m   \u001b[38;5;28;01mreturn\u001b[39;00m fn(\u001b[38;5;241m*\u001b[39margs, \u001b[38;5;241m*\u001b[39m\u001b[38;5;241m*\u001b[39mkwargs)\n\u001b[0;32m    151\u001b[0m \u001b[38;5;28;01mexcept\u001b[39;00m \u001b[38;5;167;01mException\u001b[39;00m \u001b[38;5;28;01mas\u001b[39;00m e:\n\u001b[0;32m    152\u001b[0m   filtered_tb \u001b[38;5;241m=\u001b[39m _process_traceback_frames(e\u001b[38;5;241m.\u001b[39m__traceback__)\n",
      "File \u001b[1;32m~\\anaconda3\\Lib\\site-packages\\tensorflow\\python\\eager\\polymorphic_function\\polymorphic_function.py:831\u001b[0m, in \u001b[0;36mFunction.__call__\u001b[1;34m(self, *args, **kwds)\u001b[0m\n\u001b[0;32m    828\u001b[0m compiler \u001b[38;5;241m=\u001b[39m \u001b[38;5;124m\"\u001b[39m\u001b[38;5;124mxla\u001b[39m\u001b[38;5;124m\"\u001b[39m \u001b[38;5;28;01mif\u001b[39;00m \u001b[38;5;28mself\u001b[39m\u001b[38;5;241m.\u001b[39m_jit_compile \u001b[38;5;28;01melse\u001b[39;00m \u001b[38;5;124m\"\u001b[39m\u001b[38;5;124mnonXla\u001b[39m\u001b[38;5;124m\"\u001b[39m\n\u001b[0;32m    830\u001b[0m \u001b[38;5;28;01mwith\u001b[39;00m OptionalXlaContext(\u001b[38;5;28mself\u001b[39m\u001b[38;5;241m.\u001b[39m_jit_compile):\n\u001b[1;32m--> 831\u001b[0m   result \u001b[38;5;241m=\u001b[39m \u001b[38;5;28mself\u001b[39m\u001b[38;5;241m.\u001b[39m_call(\u001b[38;5;241m*\u001b[39margs, \u001b[38;5;241m*\u001b[39m\u001b[38;5;241m*\u001b[39mkwds)\n\u001b[0;32m    833\u001b[0m new_tracing_count \u001b[38;5;241m=\u001b[39m \u001b[38;5;28mself\u001b[39m\u001b[38;5;241m.\u001b[39mexperimental_get_tracing_count()\n\u001b[0;32m    834\u001b[0m without_tracing \u001b[38;5;241m=\u001b[39m (tracing_count \u001b[38;5;241m==\u001b[39m new_tracing_count)\n",
      "File \u001b[1;32m~\\anaconda3\\Lib\\site-packages\\tensorflow\\python\\eager\\polymorphic_function\\polymorphic_function.py:867\u001b[0m, in \u001b[0;36mFunction._call\u001b[1;34m(self, *args, **kwds)\u001b[0m\n\u001b[0;32m    864\u001b[0m   \u001b[38;5;28mself\u001b[39m\u001b[38;5;241m.\u001b[39m_lock\u001b[38;5;241m.\u001b[39mrelease()\n\u001b[0;32m    865\u001b[0m   \u001b[38;5;66;03m# In this case we have created variables on the first call, so we run the\u001b[39;00m\n\u001b[0;32m    866\u001b[0m   \u001b[38;5;66;03m# defunned version which is guaranteed to never create variables.\u001b[39;00m\n\u001b[1;32m--> 867\u001b[0m   \u001b[38;5;28;01mreturn\u001b[39;00m tracing_compilation\u001b[38;5;241m.\u001b[39mcall_function(\n\u001b[0;32m    868\u001b[0m       args, kwds, \u001b[38;5;28mself\u001b[39m\u001b[38;5;241m.\u001b[39m_no_variable_creation_config\n\u001b[0;32m    869\u001b[0m   )\n\u001b[0;32m    870\u001b[0m \u001b[38;5;28;01melif\u001b[39;00m \u001b[38;5;28mself\u001b[39m\u001b[38;5;241m.\u001b[39m_variable_creation_config \u001b[38;5;129;01mis\u001b[39;00m \u001b[38;5;129;01mnot\u001b[39;00m \u001b[38;5;28;01mNone\u001b[39;00m:\n\u001b[0;32m    871\u001b[0m   \u001b[38;5;66;03m# Release the lock early so that multiple threads can perform the call\u001b[39;00m\n\u001b[0;32m    872\u001b[0m   \u001b[38;5;66;03m# in parallel.\u001b[39;00m\n\u001b[0;32m    873\u001b[0m   \u001b[38;5;28mself\u001b[39m\u001b[38;5;241m.\u001b[39m_lock\u001b[38;5;241m.\u001b[39mrelease()\n",
      "File \u001b[1;32m~\\anaconda3\\Lib\\site-packages\\tensorflow\\python\\eager\\polymorphic_function\\tracing_compilation.py:139\u001b[0m, in \u001b[0;36mcall_function\u001b[1;34m(args, kwargs, tracing_options)\u001b[0m\n\u001b[0;32m    137\u001b[0m bound_args \u001b[38;5;241m=\u001b[39m function\u001b[38;5;241m.\u001b[39mfunction_type\u001b[38;5;241m.\u001b[39mbind(\u001b[38;5;241m*\u001b[39margs, \u001b[38;5;241m*\u001b[39m\u001b[38;5;241m*\u001b[39mkwargs)\n\u001b[0;32m    138\u001b[0m flat_inputs \u001b[38;5;241m=\u001b[39m function\u001b[38;5;241m.\u001b[39mfunction_type\u001b[38;5;241m.\u001b[39munpack_inputs(bound_args)\n\u001b[1;32m--> 139\u001b[0m \u001b[38;5;28;01mreturn\u001b[39;00m function\u001b[38;5;241m.\u001b[39m_call_flat(  \u001b[38;5;66;03m# pylint: disable=protected-access\u001b[39;00m\n\u001b[0;32m    140\u001b[0m     flat_inputs, captured_inputs\u001b[38;5;241m=\u001b[39mfunction\u001b[38;5;241m.\u001b[39mcaptured_inputs\n\u001b[0;32m    141\u001b[0m )\n",
      "File \u001b[1;32m~\\anaconda3\\Lib\\site-packages\\tensorflow\\python\\eager\\polymorphic_function\\concrete_function.py:1264\u001b[0m, in \u001b[0;36mConcreteFunction._call_flat\u001b[1;34m(self, tensor_inputs, captured_inputs)\u001b[0m\n\u001b[0;32m   1260\u001b[0m possible_gradient_type \u001b[38;5;241m=\u001b[39m gradients_util\u001b[38;5;241m.\u001b[39mPossibleTapeGradientTypes(args)\n\u001b[0;32m   1261\u001b[0m \u001b[38;5;28;01mif\u001b[39;00m (possible_gradient_type \u001b[38;5;241m==\u001b[39m gradients_util\u001b[38;5;241m.\u001b[39mPOSSIBLE_GRADIENT_TYPES_NONE\n\u001b[0;32m   1262\u001b[0m     \u001b[38;5;129;01mand\u001b[39;00m executing_eagerly):\n\u001b[0;32m   1263\u001b[0m   \u001b[38;5;66;03m# No tape is watching; skip to running the function.\u001b[39;00m\n\u001b[1;32m-> 1264\u001b[0m   \u001b[38;5;28;01mreturn\u001b[39;00m \u001b[38;5;28mself\u001b[39m\u001b[38;5;241m.\u001b[39m_inference_function\u001b[38;5;241m.\u001b[39mflat_call(args)\n\u001b[0;32m   1265\u001b[0m forward_backward \u001b[38;5;241m=\u001b[39m \u001b[38;5;28mself\u001b[39m\u001b[38;5;241m.\u001b[39m_select_forward_and_backward_functions(\n\u001b[0;32m   1266\u001b[0m     args,\n\u001b[0;32m   1267\u001b[0m     possible_gradient_type,\n\u001b[0;32m   1268\u001b[0m     executing_eagerly)\n\u001b[0;32m   1269\u001b[0m forward_function, args_with_tangents \u001b[38;5;241m=\u001b[39m forward_backward\u001b[38;5;241m.\u001b[39mforward()\n",
      "File \u001b[1;32m~\\anaconda3\\Lib\\site-packages\\tensorflow\\python\\eager\\polymorphic_function\\atomic_function.py:217\u001b[0m, in \u001b[0;36mAtomicFunction.flat_call\u001b[1;34m(self, args)\u001b[0m\n\u001b[0;32m    215\u001b[0m \u001b[38;5;28;01mdef\u001b[39;00m \u001b[38;5;21mflat_call\u001b[39m(\u001b[38;5;28mself\u001b[39m, args: Sequence[core\u001b[38;5;241m.\u001b[39mTensor]) \u001b[38;5;241m-\u001b[39m\u001b[38;5;241m>\u001b[39m Any:\n\u001b[0;32m    216\u001b[0m \u001b[38;5;250m  \u001b[39m\u001b[38;5;124;03m\"\"\"Calls with tensor inputs and returns the structured output.\"\"\"\u001b[39;00m\n\u001b[1;32m--> 217\u001b[0m   flat_outputs \u001b[38;5;241m=\u001b[39m \u001b[38;5;28mself\u001b[39m(\u001b[38;5;241m*\u001b[39margs)\n\u001b[0;32m    218\u001b[0m   \u001b[38;5;28;01mreturn\u001b[39;00m \u001b[38;5;28mself\u001b[39m\u001b[38;5;241m.\u001b[39mfunction_type\u001b[38;5;241m.\u001b[39mpack_output(flat_outputs)\n",
      "File \u001b[1;32m~\\anaconda3\\Lib\\site-packages\\tensorflow\\python\\eager\\polymorphic_function\\atomic_function.py:252\u001b[0m, in \u001b[0;36mAtomicFunction.__call__\u001b[1;34m(self, *args)\u001b[0m\n\u001b[0;32m    250\u001b[0m \u001b[38;5;28;01mwith\u001b[39;00m record\u001b[38;5;241m.\u001b[39mstop_recording():\n\u001b[0;32m    251\u001b[0m   \u001b[38;5;28;01mif\u001b[39;00m \u001b[38;5;28mself\u001b[39m\u001b[38;5;241m.\u001b[39m_bound_context\u001b[38;5;241m.\u001b[39mexecuting_eagerly():\n\u001b[1;32m--> 252\u001b[0m     outputs \u001b[38;5;241m=\u001b[39m \u001b[38;5;28mself\u001b[39m\u001b[38;5;241m.\u001b[39m_bound_context\u001b[38;5;241m.\u001b[39mcall_function(\n\u001b[0;32m    253\u001b[0m         \u001b[38;5;28mself\u001b[39m\u001b[38;5;241m.\u001b[39mname,\n\u001b[0;32m    254\u001b[0m         \u001b[38;5;28mlist\u001b[39m(args),\n\u001b[0;32m    255\u001b[0m         \u001b[38;5;28mlen\u001b[39m(\u001b[38;5;28mself\u001b[39m\u001b[38;5;241m.\u001b[39mfunction_type\u001b[38;5;241m.\u001b[39mflat_outputs),\n\u001b[0;32m    256\u001b[0m     )\n\u001b[0;32m    257\u001b[0m   \u001b[38;5;28;01melse\u001b[39;00m:\n\u001b[0;32m    258\u001b[0m     outputs \u001b[38;5;241m=\u001b[39m make_call_op_in_graph(\n\u001b[0;32m    259\u001b[0m         \u001b[38;5;28mself\u001b[39m,\n\u001b[0;32m    260\u001b[0m         \u001b[38;5;28mlist\u001b[39m(args),\n\u001b[0;32m    261\u001b[0m         \u001b[38;5;28mself\u001b[39m\u001b[38;5;241m.\u001b[39m_bound_context\u001b[38;5;241m.\u001b[39mfunction_call_options\u001b[38;5;241m.\u001b[39mas_attrs(),\n\u001b[0;32m    262\u001b[0m     )\n",
      "File \u001b[1;32m~\\anaconda3\\Lib\\site-packages\\tensorflow\\python\\eager\\context.py:1479\u001b[0m, in \u001b[0;36mContext.call_function\u001b[1;34m(self, name, tensor_inputs, num_outputs)\u001b[0m\n\u001b[0;32m   1477\u001b[0m cancellation_context \u001b[38;5;241m=\u001b[39m cancellation\u001b[38;5;241m.\u001b[39mcontext()\n\u001b[0;32m   1478\u001b[0m \u001b[38;5;28;01mif\u001b[39;00m cancellation_context \u001b[38;5;129;01mis\u001b[39;00m \u001b[38;5;28;01mNone\u001b[39;00m:\n\u001b[1;32m-> 1479\u001b[0m   outputs \u001b[38;5;241m=\u001b[39m execute\u001b[38;5;241m.\u001b[39mexecute(\n\u001b[0;32m   1480\u001b[0m       name\u001b[38;5;241m.\u001b[39mdecode(\u001b[38;5;124m\"\u001b[39m\u001b[38;5;124mutf-8\u001b[39m\u001b[38;5;124m\"\u001b[39m),\n\u001b[0;32m   1481\u001b[0m       num_outputs\u001b[38;5;241m=\u001b[39mnum_outputs,\n\u001b[0;32m   1482\u001b[0m       inputs\u001b[38;5;241m=\u001b[39mtensor_inputs,\n\u001b[0;32m   1483\u001b[0m       attrs\u001b[38;5;241m=\u001b[39mattrs,\n\u001b[0;32m   1484\u001b[0m       ctx\u001b[38;5;241m=\u001b[39m\u001b[38;5;28mself\u001b[39m,\n\u001b[0;32m   1485\u001b[0m   )\n\u001b[0;32m   1486\u001b[0m \u001b[38;5;28;01melse\u001b[39;00m:\n\u001b[0;32m   1487\u001b[0m   outputs \u001b[38;5;241m=\u001b[39m execute\u001b[38;5;241m.\u001b[39mexecute_with_cancellation(\n\u001b[0;32m   1488\u001b[0m       name\u001b[38;5;241m.\u001b[39mdecode(\u001b[38;5;124m\"\u001b[39m\u001b[38;5;124mutf-8\u001b[39m\u001b[38;5;124m\"\u001b[39m),\n\u001b[0;32m   1489\u001b[0m       num_outputs\u001b[38;5;241m=\u001b[39mnum_outputs,\n\u001b[1;32m   (...)\u001b[0m\n\u001b[0;32m   1493\u001b[0m       cancellation_manager\u001b[38;5;241m=\u001b[39mcancellation_context,\n\u001b[0;32m   1494\u001b[0m   )\n",
      "File \u001b[1;32m~\\anaconda3\\Lib\\site-packages\\tensorflow\\python\\eager\\execute.py:60\u001b[0m, in \u001b[0;36mquick_execute\u001b[1;34m(op_name, num_outputs, inputs, attrs, ctx, name)\u001b[0m\n\u001b[0;32m     53\u001b[0m   \u001b[38;5;66;03m# Convert any objects of type core_types.Tensor to Tensor.\u001b[39;00m\n\u001b[0;32m     54\u001b[0m   inputs \u001b[38;5;241m=\u001b[39m [\n\u001b[0;32m     55\u001b[0m       tensor_conversion_registry\u001b[38;5;241m.\u001b[39mconvert(t)\n\u001b[0;32m     56\u001b[0m       \u001b[38;5;28;01mif\u001b[39;00m \u001b[38;5;28misinstance\u001b[39m(t, core_types\u001b[38;5;241m.\u001b[39mTensor)\n\u001b[0;32m     57\u001b[0m       \u001b[38;5;28;01melse\u001b[39;00m t\n\u001b[0;32m     58\u001b[0m       \u001b[38;5;28;01mfor\u001b[39;00m t \u001b[38;5;129;01min\u001b[39;00m inputs\n\u001b[0;32m     59\u001b[0m   ]\n\u001b[1;32m---> 60\u001b[0m   tensors \u001b[38;5;241m=\u001b[39m pywrap_tfe\u001b[38;5;241m.\u001b[39mTFE_Py_Execute(ctx\u001b[38;5;241m.\u001b[39m_handle, device_name, op_name,\n\u001b[0;32m     61\u001b[0m                                       inputs, attrs, num_outputs)\n\u001b[0;32m     62\u001b[0m \u001b[38;5;28;01mexcept\u001b[39;00m core\u001b[38;5;241m.\u001b[39m_NotOkStatusException \u001b[38;5;28;01mas\u001b[39;00m e:\n\u001b[0;32m     63\u001b[0m   \u001b[38;5;28;01mif\u001b[39;00m name \u001b[38;5;129;01mis\u001b[39;00m \u001b[38;5;129;01mnot\u001b[39;00m \u001b[38;5;28;01mNone\u001b[39;00m:\n",
      "\u001b[1;31mKeyboardInterrupt\u001b[0m: "
     ]
    }
   ],
   "source": [
    "model.compile(optimizer='rmsprop', loss='binary_crossentropy', metrics=['acc'])\n",
    "history = model.fit(X_train, y_train, epochs=30, callbacks=[es, mc], batch_size=60, validation_split=0.2)"
   ]
  },
  {
   "cell_type": "code",
   "execution_count": 102,
   "id": "4a663161",
   "metadata": {},
   "outputs": [],
   "source": [
    "loaded_model = load_model('best_model.h5')"
   ]
  },
  {
   "cell_type": "code",
   "execution_count": 103,
   "id": "52f62be5",
   "metadata": {},
   "outputs": [
    {
     "name": "stdout",
     "output_type": "stream",
     "text": [
      "2828/2828 [==============================] - 55s 19ms/step - loss: 0.1792 - acc: 0.9413\n"
     ]
    },
    {
     "data": {
      "text/plain": [
       "[0.17918553948402405, 0.9413110613822937]"
      ]
     },
     "execution_count": 103,
     "metadata": {},
     "output_type": "execute_result"
    }
   ],
   "source": [
    "loaded_model.evaluate(X_test, y_test)"
   ]
  },
  {
   "cell_type": "code",
   "execution_count": null,
   "id": "fa521ed7",
   "metadata": {},
   "outputs": [],
   "source": [
    "def good_and_bad(string):\n",
    "    "
   ]
  },
  {
   "cell_type": "code",
   "execution_count": 109,
   "id": "84e2eaa6",
   "metadata": {},
   "outputs": [
    {
     "data": {
      "text/plain": [
       "'이 제품은 너무 좋은데요 정말 좋아요 강추합니다'"
      ]
     },
     "execution_count": 109,
     "metadata": {},
     "output_type": "execute_result"
    }
   ],
   "source": [
    "\n",
    "repla"
   ]
  },
  {
   "cell_type": "code",
   "execution_count": 111,
   "id": "8e3b7a20",
   "metadata": {},
   "outputs": [
    {
     "data": {
      "text/plain": [
       "['이', '제품', '은', '너무', '좋은데', '요', '정말', '좋아요', '강', '추합니다']"
      ]
     },
     "execution_count": 111,
     "metadata": {},
     "output_type": "execute_result"
    }
   ],
   "source": [
    "\n",
    "repla2"
   ]
  },
  {
   "cell_type": "code",
   "execution_count": 122,
   "id": "18e1a29f",
   "metadata": {},
   "outputs": [],
   "source": []
  },
  {
   "cell_type": "code",
   "execution_count": 148,
   "id": "d9eec30c",
   "metadata": {},
   "outputs": [],
   "source": [
    "def good_and_bad(input_text):\n",
    "    repla = re.sub(\"[^ㄱ-ㅎㅏ-ㅣ가-힣 ]\",\"\", input_text)\n",
    "    repla2 =okt.morphs(repla)\n",
    "    stopwords = ['도', '는', '다', '의', '가', '이', '은', '한', '에', '하', '고', '을', '를', '인', '듯', '과', '와', '네', '들', '듯', '지', '임', '게','.','..']\n",
    "    repla3 = []\n",
    "    for item in repla2: \n",
    "        if item not in stopwords:\n",
    "            repla3.append(item)\n",
    "    repla4 = [item for sublist in tokenizer.texts_to_sequences(repla3) for item in sublist]\n",
    "    repla5  = pad_sequences([repla4] , maxlen = 77) \n",
    "    ans = loaded_model.predict(repla5)\n",
    "    if ans[0][0]>0.5:\n",
    "        print('긍정입니다.')\n",
    "        print(f'출력결과{ans[0][0]*100}')\n",
    "    else:\n",
    "        print('부정입니다.')\n",
    "        print(f'출력결과{ans[0][0]*100}')"
   ]
  },
  {
   "cell_type": "code",
   "execution_count": 150,
   "id": "e00def38",
   "metadata": {},
   "outputs": [
    {
     "name": "stdout",
     "output_type": "stream",
     "text": [
      "1/1 [==============================] - 0s 25ms/step\n",
      "긍정입니다.\n",
      "출력결과98.92106652259827\n",
      "1/1 [==============================] - 0s 22ms/step\n",
      "부정입니다.\n",
      "출력결과0.9549354203045368\n"
     ]
    }
   ],
   "source": [
    "good_and_bad('이 제품은 너무 좋은데요. 정말 좋아요. 강추합니다.')\n",
    "good_and_bad('이것도 상품인가요? 정말 화가 납니다. 분노가 치밀어요. 개짜증납니다.')"
   ]
  },
  {
   "cell_type": "code",
   "execution_count": 165,
   "id": "d9e3f6cf",
   "metadata": {},
   "outputs": [
    {
     "name": "stdout",
     "output_type": "stream",
     "text": [
      "1/1 [==============================] - 0s 25ms/step\n",
      "부정입니다.\n",
      "출력결과1.425912231206894\n"
     ]
    }
   ],
   "source": [
    "good_and_bad()"
   ]
  },
  {
   "cell_type": "code",
   "execution_count": null,
   "id": "b1bbd5d4",
   "metadata": {},
   "outputs": [],
   "source": []
  }
 ],
 "metadata": {
  "kernelspec": {
   "display_name": "Python 3 (ipykernel)",
   "language": "python",
   "name": "python3"
  },
  "language_info": {
   "codemirror_mode": {
    "name": "ipython",
    "version": 3
   },
   "file_extension": ".py",
   "mimetype": "text/x-python",
   "name": "python",
   "nbconvert_exporter": "python",
   "pygments_lexer": "ipython3",
   "version": "3.11.5"
  }
 },
 "nbformat": 4,
 "nbformat_minor": 5
}
