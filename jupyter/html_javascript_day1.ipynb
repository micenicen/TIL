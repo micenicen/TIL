{
 "cells": [
  {
   "cell_type": "code",
   "execution_count": 1,
   "id": "6c7cbf56",
   "metadata": {},
   "outputs": [],
   "source": [
    "# 이번 시간부터는 자바스크립트와 html을 할 것이다. \n",
    "# 사실 주피터 노트북은 파이썬 기반이라서 여기서 실행할 수는 없다. \n",
    "# 여기는 복사 붙여넣기 목적으로 저장하는 곳으로 설정하자."
   ]
  },
  {
   "cell_type": "code",
   "execution_count": 2,
   "id": "9bc976b5",
   "metadata": {},
   "outputs": [],
   "source": [
    "# 인터넷과 웹 시작\n",
    "# 1969년 미국의 알파넷을 개발했고 1995년 이후부터 인터넷이 대중에 퍼지게 되었다.\n",
    "# www라는 국제 웹 표준을 1991년에 제작되었고 HTML이라는 표준체계가 만들어졌다. \n",
    "# 모자이크는 최초의 GUI이다. 넷스케이프 네비게이터로 이름이 바뀌었다. 현 파이어폭스의 전신이다.  \n",
    "# 넷 스케이프와 마이크로소프트는 표준을 지키지 않고 기능을 추가하는 상황이 발생했다.\n",
    "# 그렇게 브라우저는 웹 표준과 관계없이 발전하게 되었다. 웹 페이지 가면 설치해야 할 것이 엄청나게 많았다.\n",
    "# 액티브 x와 어도비는 이 당시의 잔재이다. 다양한 응용프로그램을 활용하기 위해서 만들어졌다. \n",
    "# 웹 2.0시대는 사용자가 함께 새로운 콘텐츠를 창조하는 것이 특징으로 2000년대부터 시작되었다.\n",
    "# 유튜브, 위키백과, 깃허브가 이 시기에 탄생했다. 사용자는 정보의 소비자를 넘어 정보의 생산자가 되었다. \n",
    "# 지금은 파인튜닝을 구하는 것은 전문가 수준을 뽑는다. 경력자들만 뽑는다. \n",
    "# 인터넷 익스플로러 플러그인은 웹 사이트를 무겁게 만드는 문제점이 발생했다.\n",
    "# Html5의 표준이 완성된 이후 대중적으로 쓰이고 있다. 그리고 인터넷 익스플로러가 대세였던 시기를 지나 지금은 크롬의 시대이다.\n",
    "# html5는 2014년에 출현하였다. 특히 스마트폰의 시대가 들어서면서 표준 준수는 매우 중요해졌다."
   ]
  },
  {
   "cell_type": "code",
   "execution_count": 3,
   "id": "de3e29cc",
   "metadata": {},
   "outputs": [],
   "source": [
    "# 웹 동작원리\n",
    "# 웹은 요청과 응답형태로 동작한다.\n",
    "# 주소를 입력해서 요청하면 웹서버에 접속하게 되고 인덱스 페이지를 생성하여 응답하게 된다. 호스트 파일을 확인하여 도메인주소를 확인한다.\n",
    "# 도메인 주소가 없다면 DNS서버에서 IP주소를 리턴받는다. IP주소를 받은 이후 연결하고 서버에서 웹페이지와 응답코드를 전송한다. \n",
    "# 정상응답의 경우에는 200을 응답하고 비정상일 경우 400, 서버이상일 경우 500으로 시작하는 응답을 하게 된다. \n",
    "# 웹 브라우저(클라이언트)는 웹페이지를 해석하여 화면에 출력하게 된다.\n",
    "# 윈도우 파일 - 시스템32 - 드라이버 - etc에 호스트 파일이 존재한다. \n",
    "# 피싱은 프라이빗과 피싱을 합친 단어이다. 피싱을 통해 호스트 파일을 바꾸는데 호스트파일 변조는 이 파일 변조를 말한다. \n",
    "# 만약 호스트 내부의 인터넷 주소를 바꾸면 가짜 주소로 이동하게 된다. \n",
    "# 시스템은 인터넷을 가동할 때 DNS서버로 안가고 바로 호스트 내부의 주소를 리턴하는 것이다.\n",
    "# 바이러스 걸린 경우는 호스트 내부의 인터넷 주소가 별도로 할당된 것이다. \n",
    "# 백신은 기본적으로 호스트 파일을 원래대로 돌려놓는 것이다. "
   ]
  },
  {
   "cell_type": "code",
   "execution_count": 4,
   "id": "14566e88",
   "metadata": {},
   "outputs": [],
   "source": [
    "# url\n",
    "# 웹에서 어떤 대상을 구분하는 주소를 말한다. \n",
    "# 웹 브라우저에서 주소를 입력하면 그 주소에 해당하는 IP주소를 전송받아서 이동하는 모양이다. \n",
    "# 클라이언트는 사용자이다. 웹 페이지를 요청하는 쪽이다. 응답하는 쪽을 서버라고 한다. \n",
    "# 서버 프로그램과 클라이언트 프로그램이 있다. 서버 프로그램은 백엔드 프로그램이라고 한다. \n"
   ]
  },
  {
   "cell_type": "code",
   "execution_count": null,
   "id": "e3c773be",
   "metadata": {},
   "outputs": [],
   "source": [
    "# 자바\n",
    "# 자바는 본래 웹프로그램을 만들기 위해서 만들어졌다.\n",
    "# 비주얼 스튜디오 제품군은 기존에 유료였으나 자바의 분포 이후 무료가 되었다. \n",
    "# 문제는 에디터가 많이 없었다. 프로그래밍 환경(IDE)이 많이 없었다. \n",
    "# 처음에는 메모장을 열고 코딩했다. 그리고 에디터들이 등장하게 되었다. \n",
    "# 자바가 처음에는 웹 프로그래밍용으로 나왔지만 이후에는 범용적인 언어가 되었다.\n",
    "# 자바로 프로그래밍하는 것은 어려웠다. 텐서플로 초기와 비슷하다.\n",
    "# JSP는 자바서블리페이지라고 한다. 자바문법을 다뤄야 하는 이유가 늘어났다. "
   ]
  },
  {
   "cell_type": "code",
   "execution_count": null,
   "id": "00f494a0",
   "metadata": {},
   "outputs": [],
   "source": [
    "# c#\n",
    "# 대규모 공장의 제어프로그래밍을 만들때 많이 쓴다. "
   ]
  },
  {
   "cell_type": "code",
   "execution_count": null,
   "id": "2c710ba1",
   "metadata": {},
   "outputs": [],
   "source": [
    "# 자바스크립트\n",
    "# 자바와 문법이 비슷하긴 하지만 엄밀하게 다른 언어이다. \n",
    "# 웹 페이지를 만들 때 웹사이트에 방문할 때 눈에 보이는 화면을 프론트엔드라고 한다. html이다.\n",
    "# 그 과정에서 어떤 액션에 따라 액션에 따라 대응하는 기능을 만들고자 하는 경우에 자바스크립트를 공부해야 한다."
   ]
  },
  {
   "cell_type": "code",
   "execution_count": null,
   "id": "3d63665c",
   "metadata": {},
   "outputs": [],
   "source": [
    "# 웹 개발에 웹 프레임워크, mvc프레임워크, 비동기 프레임워크를 활용하게 되었다. \n",
    "# 인공지능분야의 텐서플로와 파이토치를 생각하면 된다.\n",
    "# 모든 웹페이지를 만들 경우에 필요한 기능들이 있을 것이다. 회원가입이라던지 헤더라인이라든지 존재한다.\n",
    "# 결제모듈도 좀 더 쉽게 만들 수 있게 할 수 있다. \n",
    "# 회원관리를 할 수 있어야 한다. 프레임워크를 통해 좀 더 쉽게 구성할 수 있다. \n",
    "# 모든 것을 통칭해서 프레임워크라고 한다. "
   ]
  },
  {
   "cell_type": "code",
   "execution_count": null,
   "id": "9d5842d9",
   "metadata": {},
   "outputs": [],
   "source": [
    "# 클라이언트 실행 프로그램은 프론트엔드 프로그램이다. \n",
    "# 웹페이지 구성 요소를 html로 만들고 css로 꾸미고 자바스크립트로 사용자 반응처리를 편성하는 구조이다.\n",
    "# AI는 이러한 것을 만드는 것에 강력하다. 패턴을 알고 있으면 만들기 쉽기 때문이다.\n",
    "# 문법적인 오류도 금방 찾는 것이 장점이다. \n",
    "# 그래서 개발보다는 기획을 할 줄 아는 사람이 좀 더 선호되는 현상이 발생했다.\n",
    "# 많은 직업군에서 위협을 받을 것이다. 이것이 현실이다.  "
   ]
  },
  {
   "cell_type": "code",
   "execution_count": 5,
   "id": "6e1bb0cd",
   "metadata": {},
   "outputs": [],
   "source": [
    "# html은 인풋코드로 작동한다.\n",
    "# css는 컬러:검정 과 같은 쌍으로 구성된다.\n",
    "# javascript는 const ...와 같은 함수로 적용된다.\n",
    "# 멀티미디어 : 플러그인 없이 음악, 동영상을 재생할 수 있게 해준다.\n",
    "# 통신 : 서버를 통하여 소켓통신을 할 수 있다.\n",
    "# html5에는 시맨틱 웹이라는 개념이 존재한다. \n",
    "# 검색엔진같은 프로그램이 정보를 분석하고 자료를 검색하고 처리해서 제공하는 지능형 웹을 말한다. \n",
    "# 기존은 신텍스를 사용하였다. 단어 자체만 검색했다. 시멘틱웹은 검색어의 의미를 이해하고 검색한다."
   ]
  },
  {
   "cell_type": "code",
   "execution_count": 6,
   "id": "85b3a783",
   "metadata": {},
   "outputs": [],
   "source": [
    "# 일렉트론은 html5기반의 어플리케이션 개발엔징이다.\n",
    "# 리액트 네이티브는 모바일 어플리케이션을 만드는데 사용할 수 있다.\n",
    "# 비주얼 스튜디오 코드를 많이 쓴다. "
   ]
  },
  {
   "cell_type": "code",
   "execution_count": 7,
   "id": "982ab17b",
   "metadata": {},
   "outputs": [],
   "source": [
    "# 웹 페이지의 기본구조\n",
    "# 요소 : 엘리먼트라고도 부른다. 페이지를 구성하는 각 부품을 말한다.\n",
    "# 자바스크립트에서는 객체라고 부른다. \n",
    "# 태그는 요소를 만들 때 사용하는 작성 방법이다. 흔히 요소와 태그를 구분하지 않는다. \n",
    "# 내용을 가질 수 있는 요소와 없는 요소로 나뉜다. 쌍태그는 내용이 있는 요소이고 1개의 태그만 있으면 요소가 없다.\n",
    "# html은 요소 이름만으로도 시작을 말할 수 있다. xhtml은 처음부터 태그에 요소가 있는지 없는지 나타낸다. \n",
    "# 속성은 태그에 추가 정보를 부여한다. "
   ]
  },
  {
   "cell_type": "code",
   "execution_count": null,
   "id": "1761066f",
   "metadata": {},
   "outputs": [],
   "source": [
    "# 주석은 <!--주석-->으로 표시한다. 프로그램 실행에 영향을 주지 않으며 코드 설명을 위해 사용한다. "
   ]
  },
  {
   "cell_type": "code",
   "execution_count": null,
   "id": "1379f627",
   "metadata": {},
   "outputs": [],
   "source": [
    "# 페이지 구조 설명(느낌표를 통해서 바로 불러올 수 있다.)\n",
    "<!DOCTYPE html>              # html의 버젼을 나타낸다. \n",
    "<html lang=\"en\">             # 언어를 정의한다. \n",
    "<head>                       # 헤드태그이다. \n",
    "    <meta charset=\"UTF-8\">   # 세팅언어를 말한다. \n",
    "    <meta name=\"viewport\" content=\"width=device-width, initial-scale=1.0\">\n",
    "    <title>Document</title>  # 이름을 말한다. \n",
    "</head>\n",
    "<body>                       # 본문을 말한다. \n",
    "    \n",
    "</body>\n",
    "</html>"
   ]
  },
  {
   "cell_type": "code",
   "execution_count": null,
   "id": "427ae7c3",
   "metadata": {},
   "outputs": [],
   "source": [
    "# ko: 한국어\n",
    "# en: 영어\n",
    "# ja: 일본어\n",
    "# ru: 러시아어\n",
    "# zh: 중국어\n",
    "# de: 독일어"
   ]
  },
  {
   "cell_type": "code",
   "execution_count": null,
   "id": "f775e2fa",
   "metadata": {},
   "outputs": [],
   "source": [
    "# meta : 웹페이지 추가정보\n",
    "# title : 페이지 제목\n",
    "# script : 웹페이지 스크립트\n",
    "# link : 웹페이지 다른파일\n",
    "# style : 웹페이지 스타일시트\n",
    "# base : 웹페이지 기본경로"
   ]
  },
  {
   "cell_type": "code",
   "execution_count": null,
   "id": "fc910f43",
   "metadata": {},
   "outputs": [],
   "source": [
    "# 스타일시트는 내부 스타일 방법, 외부스타일방법이 있다.\n",
    "# 내부에 직접 입력하는 것이 내부 스타일 방법이다.\n",
    "# 외부 스타일 방법은 스타일 시트를 불러오는 것이다. 파일을 따로 css로 저장해서 불러오는 것이다. \n",
    "# 일반적으로 유지보수를 위해 외부 스타일 방법을 많이 사용한다. "
   ]
  },
  {
   "cell_type": "code",
   "execution_count": null,
   "id": "bc82c988",
   "metadata": {},
   "outputs": [],
   "source": [
    "# 버그\n",
    "# 프로그램이 원하지 않은 방향으로 동작하는 것이다.\n",
    "# 디버그는 버그를 잡는 행위를 말한다. \n",
    "# 웹 브라우저의 감사를 통해 쉽게 디버깅이 가능하다.\n",
    "# 엘리먼트 탭을 통해서 확인이 가능하다.\n",
    "# 콘솔을 누르면 오류 메세지를 확인할 수 있다. "
   ]
  },
  {
   "cell_type": "code",
   "execution_count": 8,
   "id": "22d9dd42",
   "metadata": {},
   "outputs": [],
   "source": [
    "# 제목과 본문 글자태그\n",
    "# 특수문자들은 종류가 많다.\n",
    "# &nbsp; 는 공백이다.공백을 부여할 글자 사이사이에 투입힌다. \n",
    "# &lt; 는 꺾쇠기호('<')를 의도적으로 출력한 것이다. \n",
    "# &Gt; 는 꺾쇠기호('>')를 의도적으로 출력한 것이다. \n",
    "# &amp; 는 &을 의도적으로 출력한 것이다. "
   ]
  },
  {
   "cell_type": "code",
   "execution_count": 9,
   "id": "45528893",
   "metadata": {},
   "outputs": [],
   "source": [
    "# 앵커태그\n",
    "# 하이퍼텍스트 : 사용자선택에 따라 고나련된 특정 정보로 이동할 수 있도록 조직된 문서를 말한다.\n",
    "# a 태그는 앵커를 의미한다. 다른 웹 페이지나 웹 페이지 내부의 특정 위치로 이동할 때 사용한다. \n",
    "# 일반적으로 <a href ='https://www.xxxxx.xxx'>엑스사이트<a>와 같이 작성된다.\n",
    "# id속성이 중복되면 먼저 나오는 태그로 이동하나 id 중복 사용은 웹 표준에 어긋난다. \n",
    "# 만약 <a href = '#'> 을 쓰면 링크는 작동하지 않는다. "
   ]
  },
  {
   "cell_type": "code",
   "execution_count": null,
   "id": "4fe3d97e",
   "metadata": {},
   "outputs": [],
   "source": [
    "# 글자모양태그\n",
    "# 실습코드를 보고 필기하는 것이 좋다. \n",
    "# html은 크게 어렵지 않다. 보이는 대로 출력하면 된다. \n",
    "# ul(순서없음, 점으로 표시), ol(순서있음,123으로 표시), li(리스트)"
   ]
  },
  {
   "cell_type": "code",
   "execution_count": null,
   "id": "2f5df856",
   "metadata": {},
   "outputs": [],
   "source": [
    "# 테이블 태그 \n",
    "# table(표 삽입)\n",
    "# tr태그(행 태그)\n",
    "# th태그(열인덱스 태그)\n",
    "# td태그(열 태그)\n",
    "# colspan과 rowspan기능을 쓴다. 행합치기, 열합치기등이 있다. 한글 기능과 비슷하다. "
   ]
  },
  {
   "cell_type": "code",
   "execution_count": 10,
   "id": "a52ef070",
   "metadata": {},
   "outputs": [],
   "source": [
    "# 미디어 태그\n",
    "# img(이미지), audio(오디오), video(비디오)등이 존재한다. "
   ]
  },
  {
   "cell_type": "code",
   "execution_count": null,
   "id": "bba4ccc3",
   "metadata": {},
   "outputs": [],
   "source": [
    "# 입력양식\n",
    "# 폼을 만드는 것이다. 사실상 디자인의 힘이다. \n",
    "# 내부적인 뼈대는 우리가 만들어가야 한다. \n",
    "# 데이터사이언티스트는 이 일을 하진 않는다. \n",
    "# 웹 페이지를 만드는 일을 하진 않는다. \n",
    "# 공부를 하는 이유는 웹 프로젝트를 위해서 배우는 것이다. \n",
    "# 웹 프로그래머는 코드를 작성하고 웹 디자이너는 꾸미는 작업을 한다. \n",
    "# 폼 태그는 많이 사용한다.플라스크와 장고에서도 많이 사용한다.\n",
    "# 입력양식을 작성할 때 많이 사용하는 폼태그는 인풋태그를 내부에 작성하고 타입을 지정한다.\n",
    "# 매서드 속성은 는 입력 데이터를 전달하는 방식이다. GET 방식과 POST 방식이 존재한다. \n",
    "# 요청페이지에 대한 정보가 모두 출력되는 경우도 있고 그렇지 않은 경우도 존재한다. \n",
    "# 어떤 페이지에 로그인을 했을 때 로그인을 하는 페이지에 대해서 \"https://shopping.naver.com/home\"와 같이연결된 것이 없다. 이게 post다\n",
    "# https://brand.naver.com/finevu/shoppingstory/detail?id=5000839294&NaPm=ct%3Dlpakt8uk%7Cci%3\n",
    "# Dshopn%7Ctr%3Dnstory%7Chk%3Dcc760583dcf1f83d2774b0be69d6789b0d0ebaae%7Ctrx%3D5000839294   이게 GET방식이다. \n",
    "# post방식은 가지고 있는 정보를 외부에 드러내지 않는 특성이 있다. 안정성이 장점으로특히 결제할 때 사용한다.\n",
    "# post방식은 용량제한이 없으며 보안관련 특징이 있다.\n",
    "# get방식은 누가 봐도 상관없다는 뜻이다. 보안적인 측면에서는 안좋으나 빠른 속도가 장점이다. 용량제한이 존재한다.\n",
    "# 액션 속성은 입력한 데이터를 전달하는 장소이다. \n",
    "# 그 저장소는 웹 서버가 일반적이다. 웹서버에서 처리/정리를 하고 데이터베이스 서버로 따로 저장한다. \n",
    "# 서버 내에 스크립트 파일이 받아서 처리한다. 데이터베이스에 저장하거나 클라이언트에 반환한다. "
   ]
  },
  {
   "cell_type": "code",
   "execution_count": 11,
   "id": "3156a12b",
   "metadata": {},
   "outputs": [],
   "source": [
    "# 공간 분할 태그\n",
    "# div태그는 화면을 여러개의 영역으로 나누는 것이다.\n",
    "# 사이트마다 몇십개~몇백개의 분할영역이 만들어진다. \n",
    "# 블록형식은 각 태그가 한 행을 차기하는 형식이다. div태그는 한 행을 모두 차지한다.\n",
    "# span태그는 인라인 방식으로 왼쪽에서 오른쪽으로 쌓이는 방식으로 나타난다. \n",
    "# h1태그, ㅔ태그는 블록 형식으로 a태그, i태그는 인라인 형식으로 출력된다. \n",
    "# 즉 제목과 인풋태그는 블록으로 줄바꿈이 일어난다. "
   ]
  },
  {
   "cell_type": "code",
   "execution_count": 12,
   "id": "5221372c",
   "metadata": {},
   "outputs": [],
   "source": [
    "# 시맨틱 태그\n",
    "# 시맨틱 웹은 컴퓨터 프로그램이 코드를 읽고 의미를 인식할 수 있는 지능형 웹이다. 웹 페이지의 태그에 의미를 부여한다.\n",
    "# 시맨틱 태그는 헤더와 푸터가 있다. 헤더와 푸터는 기본이다. \n",
    "# 네브테그는 하이퍼링크가 모여진 태그이다.\n",
    "# 어사이드 태그는 본문 밖의 노트나 팁이 있다.\n",
    "# 섹션은 문서의 장과 절에 해당한다.\n",
    "# 아티클 영역은 본문과 독립적인 콘텐츠 영역이다. "
   ]
  },
  {
   "cell_type": "code",
   "execution_count": null,
   "id": "0c609ca4",
   "metadata": {},
   "outputs": [],
   "source": [
    "# css\n",
    "# 선택지와 단위 \n",
    "# 기본선택자, 후손과 자손의 차이를 구분해야 한다.\n",
    "# 반응상태, 구조상태를 구분할 수 있어야 한다."
   ]
  },
  {
   "cell_type": "code",
   "execution_count": 13,
   "id": "d1639a8b",
   "metadata": {},
   "outputs": [],
   "source": [
    "# 스타일시트\n",
    "# css로 작성된 코드를 스타일시트라고 한다.\n",
    "# 특정 HTML태그를 선택할 때는 선택자를 사용한다. \n",
    "# 컬러스타일 속성에 레드라는 값을 적용한 CSS블록을 말한다. \n",
    "# h1 {color : red; background_color:orange;}\n",
    "# 선택자, 스타일속성, 스타일값, 배경값이 할당되었다. 모든 h1에 대한 속성이 변화하였다."
   ]
  },
  {
   "cell_type": "code",
   "execution_count": null,
   "id": "7a4c0880",
   "metadata": {},
   "outputs": [],
   "source": [
    "# 선택자\n",
    "# * : 전체선택자\n",
    "# h1 : 태그선택자\n",
    "# #id : 아이디선택자\n",
    "# .header : 클래스선택자\n",
    "#  =,~=,|, ^=,$=,*= , 속성선택자\n",
    "# header h1 : 후손선택자. 헤더는 조상이다. h1은 후손이다. \n",
    "# header > h1 : 부모와 자손선택자\n",
    "# div:active , div:hover :반응선택자\n",
    "# input:cjecked , input:focus : 상태선택자.\n",
    "# li:first_child, li:last_child :구조선택자\n",
    "# h1 + div , h1~div : 동위 선택자. "
   ]
  },
  {
   "cell_type": "code",
   "execution_count": null,
   "id": "e5b1aa93",
   "metadata": {},
   "outputs": [],
   "source": [
    "# * : 전체선택자\n",
    "* {color : red} # 모든 글자의 색은 빨강으로 설정하라."
   ]
  },
  {
   "cell_type": "code",
   "execution_count": null,
   "id": "4057528d",
   "metadata": {},
   "outputs": [],
   "source": [
    "# h1 : 태그선택자\n",
    "h1{color:blue} # 헤더1의 글자의 색을 파랑으로 설정하라.\n",
    "# 참고로 여러개를 설정하는 것도 가능하다. "
   ]
  },
  {
   "cell_type": "code",
   "execution_count": null,
   "id": "d2d1a69d",
   "metadata": {},
   "outputs": [],
   "source": [
    "# #id : 아이디선택자\n",
    "#header{width:800px; margin:0 auto; background:red;}\n",
    "# id 설정으로 헤더를 불러오면 헤더의 속성값을 그대로 가져온다. "
   ]
  },
  {
   "cell_type": "code",
   "execution_count": null,
   "id": "98061e06",
   "metadata": {},
   "outputs": [],
   "source": [
    "# .header : 클래스선택자\n",
    ".select {color:red;}\n",
    "<h1 class = 'select'> \n",
    "# 이와 같이 클래스를 설정할 수 있다. \n",
    "# 또한 태그선택자와 클래스 선택자를 한꺼번에 사용할 수 있다. \n",
    "# 재밌는 것은 li.select로 설정되면 h1의 클래스가 select라고 빨간색으로 변하지 않는다. 앞이 공백일때 전부 적용된다."
   ]
  },
  {
   "cell_type": "code",
   "execution_count": null,
   "id": "045d9592",
   "metadata": {},
   "outputs": [],
   "source": [
    "#  =,~=,|, ^=,$=,*= , 속성선택자\n",
    "# 특정 속성이 있는 태그를 선택한다. \n",
    "input[type='text']{background : orange}"
   ]
  },
  {
   "cell_type": "code",
   "execution_count": null,
   "id": "b117b802",
   "metadata": {},
   "outputs": [],
   "source": [
    "# div li : 후손선택자\n",
    "#\n",
    "# 부모              div\n",
    "#       ________________________________\n",
    "#      |             |                |\n",
    "# 자손 h1            h2              ul\n",
    "#                              ____________\n",
    "# 후손                         li   li   li\n",
    "# \n",
    "# 선택자는 다음과 같이 구분된다. 3개의 후손선택자가 선택되었다. \n",
    "# 즉 건너뛰어서 선택이 가능하다."
   ]
  },
  {
   "cell_type": "code",
   "execution_count": null,
   "id": "076b87a5",
   "metadata": {},
   "outputs": [],
   "source": [
    "# header > h1 : 부모와 자손선택자\n",
    "# 헤더 아이디 바로 아래의 h1이라는 뜻이다. \n",
    "# 즉 하나의 자손만 지정하는 것이다. "
   ]
  },
  {
   "cell_type": "code",
   "execution_count": null,
   "id": "c62bf2a6",
   "metadata": {},
   "outputs": [],
   "source": [
    "# div:active , div:hover :반응선택자\n",
    "# 액티브는 마우스를 클릭한 태그 선택을 말한다.\n",
    "# 호버는 사용자가 마우스 커서를 올린 태그에서 발생하는 이벤트를 말한다. "
   ]
  },
  {
   "cell_type": "code",
   "execution_count": null,
   "id": "18aafb4e",
   "metadata": {},
   "outputs": [],
   "source": [
    "# input:cjecked , input:focus : 상태선택자.  "
   ]
  },
  {
   "cell_type": "code",
   "execution_count": null,
   "id": "6c577b09",
   "metadata": {},
   "outputs": [],
   "source": [
    "# li:first_child, li:last_child :구조선택자\n",
    "# 첫번째로 등장하는 태그 선택, 마지막 등장 태그 선택을 말한다. "
   ]
  },
  {
   "cell_type": "code",
   "execution_count": 14,
   "id": "3dded0bb",
   "metadata": {},
   "outputs": [],
   "source": [
    "# h1 + div , h1~div : 동위 선택자. "
   ]
  },
  {
   "cell_type": "code",
   "execution_count": null,
   "id": "7a930da8",
   "metadata": {},
   "outputs": [],
   "source": [
    "# css 단위\n",
    "# 키워드 단위를 말한다. \n",
    "# 이미 자동으로 정의되어져 있다. \n",
    "# 크기는 css3에서 가장 많이 적용되는 단위이다. \n",
    "# 실습은 비주얼 스튜디오 코드에서 진행할 예정이다. "
   ]
  }
 ],
 "metadata": {
  "kernelspec": {
   "display_name": "Python 3 (ipykernel)",
   "language": "python",
   "name": "python3"
  },
  "language_info": {
   "codemirror_mode": {
    "name": "ipython",
    "version": 3
   },
   "file_extension": ".py",
   "mimetype": "text/x-python",
   "name": "python",
   "nbconvert_exporter": "python",
   "pygments_lexer": "ipython3",
   "version": "3.11.5"
  }
 },
 "nbformat": 4,
 "nbformat_minor": 5
}
