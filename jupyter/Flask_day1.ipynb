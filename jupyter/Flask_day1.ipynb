{
 "cells": [
  {
   "cell_type": "code",
   "execution_count": 1,
   "id": "f27d122e",
   "metadata": {},
   "outputs": [],
   "source": [
    "# 장고, 플라스크는 프론트앤드, 백엔드 프로그래밍이다.\n",
    "# 장고와 플라스크에 대해 먼저 설명을 확인하자.\n",
    "# 사실 플라스크를 알기 위해서는 파이썬, 자바스크립트, 폼, 데이터베이스지식들이 있어야 한다.\n",
    "# 데이터베이스지식은 후순위지만 추후에 알아두면 큰 도움이 될 것이다.\n",
    "# 사실 두 체계는 다르다. 하지만 방법은 거의 비슷하다. \n",
    "# 소스코드를 받고 시작하자. \n",
    "# 사실 타이핑을 스스로 하는 것이 더 좋다. 시간이 오래걸리는 것이 문제일 것이다. "
   ]
  },
  {
   "cell_type": "code",
   "execution_count": 3,
   "id": "3961d7fb",
   "metadata": {},
   "outputs": [],
   "source": [
    "# 자바하면 스프링이 있다. 파이썬하면 장고와 플라스크가 있다.\n",
    "# 플라스크는 매우 가볍다. 경량 웹 프레임워크이다. \n",
    "# 플라스크는 가벼운 만큼 웹 프로그래밍 구현에 제한적인 경우가 많다.\n",
    "# 장고는 무거운 특징을 가진다. \n",
    "# 그만큼 더 많은 것을 구현할 수 있는 것이 장고의 특징이다."
   ]
  },
  {
   "cell_type": "code",
   "execution_count": 4,
   "id": "ffc70438",
   "metadata": {},
   "outputs": [],
   "source": [
    "# 플라스크는 폼과 데이터베이스를 처리하는 기능이 없다. 장고는 폼과 데이터베이스를 처리하는 기능이 포함되어 있다.\n",
    "# 플라스크는 기능이 부족하다. 그래서 플라스크는 확장모듈을 사용하는 것이 필수이다. \n",
    "# 가볍다는 장점이 있지만 기능이 없어서 확장모듈에 의존하는 것이 플라스크의 현실이다. \n",
    "# 플라스크는 자유도가 높다. 확장모듈을 잘 적용한다는 전제하에! "
   ]
  },
  {
   "cell_type": "code",
   "execution_count": 1,
   "id": "5c7c1597",
   "metadata": {},
   "outputs": [],
   "source": [
    "# 파이썬 설치하기를 다시해보자. 최신버젼으로 다운로드 받아보자. \n",
    "# 그리고 Add Python 3.10 to PATH를 체크하고 설치해야 한다. \n",
    "# 이게 골때린다. "
   ]
  },
  {
   "cell_type": "code",
   "execution_count": 2,
   "id": "70de4b36",
   "metadata": {},
   "outputs": [],
   "source": [
    "# 웹 프레임워크는 쿠키, 로그인, 로그아웃, 데이터베이스 등이 존재한다.\n",
    "# 쿠키는 이미 들어간 사이트를 더 빠르게 접근하기 위해 컴퓨터 내부에 미리 사이트 구성요소를 깔아놓는 것이다.\n",
    "# 문제는 이것은 개인정보도 포함된다 그래서 관리하지 않으면 개인정보 유출이 될 가능성도 존재한다."
   ]
  },
  {
   "cell_type": "code",
   "execution_count": 3,
   "id": "98d366c0",
   "metadata": {},
   "outputs": [],
   "source": [
    "# 파이썬 가상환경에 플라스크/장고를 실행할 예정이다. \n",
    "# 파이썬 가상환경은 파이썬 프로젝트를 진행할 때 독립된 호나경을 만들어 주는 도구이다. \n",
    "# 물리적으로는 플라스크1개당 PC1개에 설치 가능하다. 하지만 가상환경이 있으면 플라스크가 여러개가 설치 가능하다. \n",
    "# 즉 프로젝트에 따라 라이브러리를 별도로 분리할 수 있다. \n",
    "# 파이썬 가상환경을 쓰려면 가상환경 디렉토리를 실행해야 한다.\n",
    "# C:\\Users\\user> cd \\\n",
    "\n",
    "# C:\\>mkdir venvs\n",
    "\n",
    "# C:\\>cd venvs\n",
    "\n",
    "# C:\\venvs>python -m venv myproject\n",
    "\n",
    "# 이런식으로 작성했다. -m은 make의 약자이다. 가상환경을 만들어라. 이름은 마이프로젝트이다. 라는 뜻이다. \n",
    "# 맥을 쓴다면 파이썬 대신 파이썬 3 명령을 사용하면 된다. \n",
    "\n",
    "# C:\\venvs> cd C:\\venvs\\myproject\\Scripts\n",
    "# C:\\venvs\\myproject\\Scripts> activate\n",
    "# (myproject) C:\\venvs\\myproject\\Scripts>                        # 가상환경에 접근이 완료된 것이다. \n",
    "\n",
    "# 만약 빠져나가려면 deactivate를 쓰면 된다. \n",
    "# 명령 프롬프트를 위아래로 움직이면 이전에 작성했던 명령어를 확인할 수 있다.  "
   ]
  },
  {
   "cell_type": "code",
   "execution_count": null,
   "id": "1b506e71",
   "metadata": {},
   "outputs": [],
   "source": [
    "# (myproject) C:\\venvs\\myproject\\Scripts> pip install flask\n",
    "# 이렇게 인스톨을 하게 된다. \n",
    "# (myproject) C:\\venvs\\myproject\\Scripts> python -m pip install --upgrade pip\n",
    "# 최신화도 완료했다.\n",
    "\n",
    "# 플라스트 프로젝트 = 웹 사이트 한 개 생성과 같다. \n",
    "# 플라스크 프로젝트 안에는 보통 한 개의 플라스크 어플리케이션이 존재한다.\n",
    "# 플라스크 프로젝트는 여러 개가 될 수 있다. 그래서 프로젝트를 모아 루트 디렉터리를 생성해야 한다. c드라이브 밑에 프로젝트 폴더를 만들어야 한다.\n",
    "# C:\\> mkdir projects\n",
    "# C:\\> cd projects\n",
    "# 프로젝트 디렉토리를 생성한 다음\n",
    "# C:\\projects> C:\\venvs\\myproject\\Scripts\\activate\n",
    "# 가상환경을 만든다. \n",
    "# (myproject) C:\\projects> mkdir myproject\n",
    "# (myproject) C:\\projects> cd myproject\n",
    "# 가상환경에 디렉토리를 만들자."
   ]
  },
  {
   "cell_type": "code",
   "execution_count": null,
   "id": "80099b45",
   "metadata": {},
   "outputs": [],
   "source": [
    "# 메모장을 켠 다음 메모장에 다음 코드를 집어넣자\n",
    "# @echo off\n",
    "# cd c:/projects/myproject\n",
    "# c:/venvs/myproject/scripts/activate\n",
    "# 이후 이 내용을 \n",
    "# [파일명: C:/venvs/myproject.cmd]\n",
    "# 로 모든 파일로 저장하여 cmd로 만들자\n",
    "# 이후 실행창에 sysdm.cpl을 사용하여 시스템 속성을 띄운다. \n",
    "# 고급 > 환경변수 > Path 편집 >유저편집 > 새로만들기 > C:\\venvs 추가 \n",
    "# 이제 확인해야한다. 기존 가상환경에서 deactivate하고 myproject를 띄울 수 있을 것이다. \n",
    "# 또는 아예 꺼서 다시 여는 것도 방법이다. \n",
    "# myproject를 입력하면 바로 되는거 보면 성공한 듯 하다. "
   ]
  },
  {
   "cell_type": "code",
   "execution_count": null,
   "id": "71262478",
   "metadata": {},
   "outputs": [],
   "source": [
    "# 파이참 환경에서 책에 뜨는 대로 그대로 했을 경우 최신버젼을 설치했기에 오류가 뜰 것이다. \n",
    "# 셋업툴스를 따로 깔아야 한다. pip을 이용해서 별도로 깔아야 한다. \n",
    "# pip install --upgrade setuptools를 파이참 명령에서 설치하는 방법도 존재한다. \n",
    "# 또는 커멘드창을 띄운 다음\n",
    "# c:\\venvs\\Scripts\\dir/n\n",
    "# pip install setuptools를 설치하면 된다.\n",
    "# flask run을 해서 오류뜨면 FLASK_APP = pybo로 바꾸고 컨트롤 c를 눌러서 나간다.\n",
    "# set FLASK_DEBUG=true 를 입력한다. \n",
    "# 그리고 flask run을 쓰면 가상의 사이트가 나올 것이다. 실행하면 정상적으로 작동할 것이다. \n",
    "# 이제 여기서 웹페이지를 만드는 작업을 하게 될 것이다. \n",
    "# 장고도 환경세팅을 해야한다. "
   ]
  }
 ],
 "metadata": {
  "kernelspec": {
   "display_name": "Python 3 (ipykernel)",
   "language": "python",
   "name": "python3"
  },
  "language_info": {
   "codemirror_mode": {
    "name": "ipython",
    "version": 3
   },
   "file_extension": ".py",
   "mimetype": "text/x-python",
   "name": "python",
   "nbconvert_exporter": "python",
   "pygments_lexer": "ipython3",
   "version": "3.11.5"
  }
 },
 "nbformat": 4,
 "nbformat_minor": 5
}
