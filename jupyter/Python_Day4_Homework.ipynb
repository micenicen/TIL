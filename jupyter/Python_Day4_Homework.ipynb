{
 "cells": [
  {
   "cell_type": "code",
   "execution_count": 2,
   "id": "8007df31",
   "metadata": {},
   "outputs": [
    {
     "name": "stdout",
     "output_type": "stream",
     "text": [
      "2\n",
      "20\n",
      "{'2': '20'}\n"
     ]
    }
   ],
   "source": [
    "#21번문제\n",
    "keys = input().split()\n",
    "nums = input().split()\n",
    "ans1 = dict(zip(keys,nums))\n",
    "print(ans1)\n"
   ]
  },
  {
   "cell_type": "code",
   "execution_count": 3,
   "id": "f39c872d",
   "metadata": {},
   "outputs": [
    {
     "name": "stdout",
     "output_type": "stream",
     "text": [
      "wonder\n",
      "odrwne\n"
     ]
    }
   ],
   "source": [
    "#22번문제\n",
    "word = input()\n",
    "print(word[1::2]+word[::2])"
   ]
  },
  {
   "cell_type": "code",
   "execution_count": 5,
   "id": "870ef6ad",
   "metadata": {},
   "outputs": [
    {
     "name": "stdout",
     "output_type": "stream",
     "text": [
      "score: 1000\n",
      "점수 입력이 잘못되었습니다.\n"
     ]
    }
   ],
   "source": [
    "#23번문제\n",
    "def hackJumb():\n",
    "    score = int(input(\"score: \"))\n",
    "    if score >= 0 and score <= 100:        \n",
    "        if 81 < score <= 100:\n",
    "            jumsu = \"A\"\n",
    "        elif 61 < score <= 80:\n",
    "            jumsu = \"B\"\n",
    "        elif 41 < score <= 60:\n",
    "            jumsu = \"C\"\n",
    "        elif 21 < score <= 40:\n",
    "            jumsu = \"D\"\n",
    "        elif 0 <= score <=20:\n",
    "            jumsu = \"E\"\n",
    "        return print(\"grade is\",jumsu)\n",
    "    else:\n",
    "        return print(\"점수 입력이 잘못되었습니다.\")\n",
    "\n",
    "hackJumb()\n",
    "\n",
    "\n",
    "    "
   ]
  },
  {
   "cell_type": "code",
   "execution_count": 18,
   "id": "52978049",
   "metadata": {},
   "outputs": [
    {
     "name": "stdout",
     "output_type": "stream",
     "text": [
      "1\n",
      "2\n",
      "3\n",
      "4\n",
      "5\n",
      "6\n",
      "7\n",
      "8\n",
      "9\n",
      "10\n",
      "11\n",
      "12\n",
      "13\n",
      "14\n",
      "15\n",
      "16\n",
      "17\n",
      "18\n",
      "19\n",
      "20\n",
      "21\n",
      "22\n",
      "23\n",
      "24\n",
      "25\n",
      "26\n",
      "27\n",
      "28\n",
      "29\n",
      "30\n",
      "31\n",
      "32\n",
      "33\n",
      "34\n",
      "35\n",
      "36\n",
      "37\n",
      "38\n",
      "39\n",
      "40\n",
      "41\n",
      "42\n",
      "43\n",
      "44\n",
      "45\n",
      "46\n",
      "47\n",
      "48\n",
      "49\n",
      "50\n",
      "51\n",
      "52\n",
      "53\n",
      "54\n",
      "55\n",
      "56\n",
      "57\n",
      "58\n",
      "59\n",
      "60\n",
      "61\n",
      "62\n",
      "63\n",
      "64\n",
      "65\n",
      "66\n",
      "67\n",
      "68\n",
      "69\n",
      "70\n",
      "71\n",
      "72\n",
      "73\n",
      "74\n",
      "75\n",
      "76\n",
      "77\n",
      "78\n",
      "79\n",
      "80\n",
      "81\n",
      "82\n",
      "83\n",
      "84\n",
      "85\n",
      "86\n",
      "87\n",
      "88\n",
      "89\n",
      "90\n",
      "91\n",
      "92\n",
      "93\n",
      "94\n",
      "95\n",
      "96\n",
      "97\n",
      "98\n",
      "99\n",
      "100\n"
     ]
    }
   ],
   "source": [
    "#24번문제\n",
    "for i in range(1,101):\n",
    "    print(i)"
   ]
  },
  {
   "cell_type": "code",
   "execution_count": 6,
   "id": "f0485eaf",
   "metadata": {},
   "outputs": [
    {
     "name": "stdout",
     "output_type": "stream",
     "text": [
      "79.0\n"
     ]
    }
   ],
   "source": [
    "#25번 문제\n",
    "result = [70, 60, 55, 75, 95, 90, 80, 80, 85, 100]\n",
    "totalSum = 0\n",
    "for i in result:\n",
    "    totalSum += i\n",
    "print(totalSum/len(result))\n",
    "    "
   ]
  },
  {
   "cell_type": "code",
   "execution_count": 7,
   "id": "d7da6352",
   "metadata": {},
   "outputs": [
    {
     "name": "stdout",
     "output_type": "stream",
     "text": [
      "입력: 200 엔\n",
      "239.2 원\n"
     ]
    }
   ],
   "source": [
    "#26번문제\n",
    "money = input(\"입력: \").split()\n",
    "if money[1] == \"달러\":\n",
    "    print(int(money[0])*1367,\"원\")\n",
    "elif money[1] == \"엔\":\n",
    "    print(int(money[0])*1.196,\"원\")\n",
    "elif money[1] == \"유로\":\n",
    "    print(int(money[0])*1368,\"원\")\n",
    "elif money[1] == \"위안\":\n",
    "    print(int(money[0])*181,\"원\")\n",
    "else :\n",
    "    print(\"입력이 잘못되었습니다.\")\n",
    "\n",
    "    "
   ]
  },
  {
   "cell_type": "code",
   "execution_count": 8,
   "id": "b0f21c52",
   "metadata": {},
   "outputs": [
    {
     "name": "stdout",
     "output_type": "stream",
     "text": [
      "input number1: 1\n",
      "input number2: 2\n",
      "input number3: 3\n",
      "3\n"
     ]
    }
   ],
   "source": [
    "#27번 문제\n",
    "numlist =[]\n",
    "numlist.append(int(input(\"input number1: \")))\n",
    "numlist.append(int(input(\"input number2: \")))\n",
    "numlist.append(int(input(\"input number3: \")))\n",
    "if numlist[0] > numlist[1] and numlist[0] > numlist[2]:\n",
    "    print(numlist[0])\n",
    "elif numlist[1] > numlist[0] and numlist[1] > numlist[2]:\n",
    "    print(numlist[1])\n",
    "else:\n",
    "    print(numlist[2])"
   ]
  },
  {
   "cell_type": "code",
   "execution_count": 26,
   "id": "c583204e",
   "metadata": {},
   "outputs": [
    {
     "name": "stdout",
     "output_type": "stream",
     "text": [
      "hello\n",
      "ex01\n",
      "intro\n"
     ]
    }
   ],
   "source": [
    "#28번문제\n",
    "list1 =  ['hello.py', 'ex01.py', 'intro.hwp']\n",
    "for i in list1:\n",
    "    division1 = i.split(\".\")\n",
    "    print(division1[0])"
   ]
  },
  {
   "cell_type": "code",
   "execution_count": 27,
   "id": "2bb6d145",
   "metadata": {},
   "outputs": [
    {
     "name": "stdout",
     "output_type": "stream",
     "text": [
      "intra.h\n",
      "define.h\n"
     ]
    }
   ],
   "source": [
    "#29번문제\n",
    "list2  = ['intra.h', 'intra.c', 'define.h', 'run.py']\n",
    "for i in list2:\n",
    "    division2 = i.split(\".\")\n",
    "    if division2[1] == \"h\":\n",
    "        print(i)"
   ]
  },
  {
   "cell_type": "code",
   "execution_count": null,
   "id": "edf391f8",
   "metadata": {},
   "outputs": [],
   "source": [
    "#30번문제\n",
    "list3 = ['intra.h', 'intra.c', 'define.h', 'run.py']\n",
    "for i in list3:\n",
    "    division3 = i.split(\".\")\n",
    "    if division2[1] == \"h\" or division2[1] == \"c\":\n",
    "        print(i)"
   ]
  },
  {
   "cell_type": "code",
   "execution_count": 9,
   "id": "47526a70",
   "metadata": {},
   "outputs": [
    {
     "name": "stdout",
     "output_type": "stream",
     "text": [
      "돈을 넣어주세요: 1500\n",
      "거스름돈 1200 를 주고 커피를 줍니다.\n",
      "돈을 넣어주세요: 0\n",
      "종료합니다.\n"
     ]
    }
   ],
   "source": [
    "#31번문제\n",
    "while True:\n",
    "    input_coin = int(input(\"돈을 넣어주세요: \"))\n",
    "    if input_coin > 300 :\n",
    "        print(\"거스름돈\",input_coin - 300,\"를 주고 커피를 줍니다.\")\n",
    "    elif input_coin == 300 :\n",
    "        print(\"커피를 줍니다.\")\n",
    "    elif 0 < input_coin < 300 :\n",
    "        print(\"돈을 다시 돌려주고 커피를 주지 않습니다.\")\n",
    "    elif input_coin <= 0:\n",
    "        print(\"종료합니다.\")\n",
    "        break\n",
    "    "
   ]
  },
  {
   "cell_type": "code",
   "execution_count": 10,
   "id": "0150e858",
   "metadata": {},
   "outputs": [
    {
     "name": "stdout",
     "output_type": "stream",
     "text": [
      "*\n",
      "**\n",
      "***\n",
      "****\n",
      "*****\n"
     ]
    }
   ],
   "source": [
    "#32번 문제\n",
    "star = \"\"\n",
    "while len(star) < 5:\n",
    "    star += \"*\"\n",
    "    print(star)"
   ]
  },
  {
   "cell_type": "code",
   "execution_count": 11,
   "id": "2ccf3a31",
   "metadata": {},
   "outputs": [
    {
     "ename": "SyntaxError",
     "evalue": "invalid decimal literal (2562822278.py, line 2)",
     "output_type": "error",
     "traceback": [
      "\u001b[1;36m  Cell \u001b[1;32mIn[11], line 2\u001b[1;36m\u001b[0m\n\u001b[1;33m    aprt=[[101호,102호,103호],[201호,202호,203호]]\u001b[0m\n\u001b[1;37m             ^\u001b[0m\n\u001b[1;31mSyntaxError\u001b[0m\u001b[1;31m:\u001b[0m invalid decimal literal\n"
     ]
    }
   ],
   "source": [
    "#33번 문제\n",
    "aprt=[[101호,102호,103호],[201호,202호,203호]]"
   ]
  },
  {
   "cell_type": "code",
   "execution_count": 12,
   "id": "25d6bf6d",
   "metadata": {},
   "outputs": [],
   "source": [
    "#34번 문제\n",
    "stock=[['시가',100,200,300], ['종가',80,210,330]]"
   ]
  },
  {
   "cell_type": "code",
   "execution_count": 13,
   "id": "f68e5e1f",
   "metadata": {},
   "outputs": [
    {
     "name": "stdout",
     "output_type": "stream",
     "text": [
      "{100: 80, 200: 210, 300: 330}\n"
     ]
    }
   ],
   "source": [
    "#35번 문제\n",
    "stock=[['시가',100,200,300], ['종가',80,210,330]]\n",
    "ans35 = dict(zip(stock[0][1:],stock[1][1:]))\n",
    "print(ans35)"
   ]
  },
  {
   "cell_type": "code",
   "execution_count": null,
   "id": "34c164d8",
   "metadata": {},
   "outputs": [],
   "source": [
    "#36번 문제\n",
    "{'10/10':[80,110,70,90],'10/11':[210,230,190,200]}\n"
   ]
  },
  {
   "cell_type": "code",
   "execution_count": 36,
   "id": "d5ff85a2",
   "metadata": {},
   "outputs": [],
   "source": [
    "apart = [ [101, 102], [201, 202], [301, 302] ]"
   ]
  },
  {
   "cell_type": "code",
   "execution_count": 39,
   "id": "fd3af0aa",
   "metadata": {},
   "outputs": [
    {
     "name": "stdout",
     "output_type": "stream",
     "text": [
      "101 호\n",
      "102 호\n",
      "201 호\n",
      "202 호\n",
      "301 호\n",
      "302 호\n"
     ]
    }
   ],
   "source": [
    "#37번 문제\n",
    "for i in range(3):\n",
    "    for j in range(2):\n",
    "        print(apart[i][j],\"호\")"
   ]
  },
  {
   "cell_type": "code",
   "execution_count": 41,
   "id": "cb845e6f",
   "metadata": {},
   "outputs": [
    {
     "name": "stdout",
     "output_type": "stream",
     "text": [
      "301 호\n",
      "302 호\n",
      "201 호\n",
      "202 호\n",
      "101 호\n",
      "102 호\n"
     ]
    }
   ],
   "source": [
    "#38번 문제\n",
    "for i in range(3):\n",
    "    for j in range(2):\n",
    "        print(apart[-1-i][j],\"호\")"
   ]
  },
  {
   "cell_type": "code",
   "execution_count": 42,
   "id": "3a3bb2f3",
   "metadata": {},
   "outputs": [
    {
     "name": "stdout",
     "output_type": "stream",
     "text": [
      "302 호\n",
      "301 호\n",
      "202 호\n",
      "201 호\n",
      "102 호\n",
      "101 호\n"
     ]
    }
   ],
   "source": [
    "#39번 문제\n",
    "for i in range(3):\n",
    "    for j in range(2):\n",
    "        print(apart[-1-i][-1-j],\"호\")"
   ]
  },
  {
   "cell_type": "code",
   "execution_count": 44,
   "id": "ff0d5609",
   "metadata": {},
   "outputs": [
    {
     "name": "stdout",
     "output_type": "stream",
     "text": [
      "101 호\n",
      "-----\n",
      "102 호\n",
      "-----\n",
      "201 호\n",
      "-----\n",
      "202 호\n",
      "-----\n",
      "301 호\n",
      "-----\n",
      "302 호\n",
      "-----\n"
     ]
    }
   ],
   "source": [
    "#40번 문제\n",
    "for i in range(3):\n",
    "    for j in range(2):\n",
    "        print(apart[i][j],\"호\")\n",
    "        print(\"-----\")"
   ]
  },
  {
   "cell_type": "code",
   "execution_count": 45,
   "id": "45d24048",
   "metadata": {},
   "outputs": [
    {
     "name": "stdout",
     "output_type": "stream",
     "text": [
      "101 호\n",
      "102 호\n",
      "-----\n",
      "201 호\n",
      "202 호\n",
      "-----\n",
      "301 호\n",
      "302 호\n",
      "-----\n"
     ]
    }
   ],
   "source": [
    "#41번 문제\n",
    "for i in range(3):\n",
    "    for j in range(2):\n",
    "        print(apart[i][j],\"호\")\n",
    "    print(\"-----\")"
   ]
  },
  {
   "cell_type": "code",
   "execution_count": null,
   "id": "fb563796",
   "metadata": {},
   "outputs": [],
   "source": [
    "#42번 문제\n",
    "for i in range(3):\n",
    "    for j in range(2):\n",
    "        print(apart[i][j],\"호\")"
   ]
  },
  {
   "cell_type": "code",
   "execution_count": null,
   "id": "fb4f82dc",
   "metadata": {},
   "outputs": [],
   "source": [
    "#강평\n",
    "#keys는 이미 있는 함수다. 쓰지 않는 것이 좋다. \n",
    "#return print는 흔히 작성하는 구문이 아니다. 리턴은 호출했던 방향으로 반환을 목적으로 한다. 프린트를 바로 한다면 리턴을 쓸 필요는 없다.\n",
    "# 리턴값은 없어도 된다. 전달할 것이 없으면 리턴하지 않아도 된다. \n",
    "# 문제 37번은 3행 2열같이 일정치 않다면 다른 방향으로 할 수 있다.\n",
    "# for i in apart:\n",
    "#     for j in i:\n",
    "# 이런식으로도 가능한 것이다. "
   ]
  },
  {
   "cell_type": "code",
   "execution_count": 18,
   "id": "c3d8fd73",
   "metadata": {},
   "outputs": [
    {
     "ename": "SyntaxError",
     "evalue": "invalid syntax (2182234403.py, line 1)",
     "output_type": "error",
     "traceback": [
      "\u001b[1;36m  Cell \u001b[1;32mIn[18], line 1\u001b[1;36m\u001b[0m\n\u001b[1;33m    ans3 = lambda i: print(\"비트코인\") for _ in range(i)\u001b[0m\n\u001b[1;37m                                   ^\u001b[0m\n\u001b[1;31mSyntaxError\u001b[0m\u001b[1;31m:\u001b[0m invalid syntax\n"
     ]
    }
   ],
   "source": [
    "ans3 = lambda i: print(\"비트코인\") for _ in range(i)\n",
    "ans3(5)"
   ]
  },
  {
   "cell_type": "code",
   "execution_count": null,
   "id": "283d3170",
   "metadata": {},
   "outputs": [],
   "source": []
  }
 ],
 "metadata": {
  "kernelspec": {
   "display_name": "Python 3 (ipykernel)",
   "language": "python",
   "name": "python3"
  },
  "language_info": {
   "codemirror_mode": {
    "name": "ipython",
    "version": 3
   },
   "file_extension": ".py",
   "mimetype": "text/x-python",
   "name": "python",
   "nbconvert_exporter": "python",
   "pygments_lexer": "ipython3",
   "version": "3.11.4"
  }
 },
 "nbformat": 4,
 "nbformat_minor": 5
}
