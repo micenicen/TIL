{
 "cells": [
  {
   "cell_type": "code",
   "execution_count": null,
   "id": "678d2688",
   "metadata": {},
   "outputs": [],
   "source": [
    "# 함수와 파일 입출력과 응용하기"
   ]
  },
  {
   "cell_type": "code",
   "execution_count": 1,
   "id": "9cf0404e",
   "metadata": {},
   "outputs": [],
   "source": [
    "# 오픈함수\n",
    "# 기존에 저장되어있는 파일을 사용하기 위해서는 파일을 열어야 한다. \n",
    "# 오픈함수는 파일을 열기 위한 함수이다.\n",
    "# open(\"파일명\",\"모드\")\n",
    "# 위와 같은 방식으로 파일을 열게 된다. 모드는 fd쓰기모드(w), 읽기모드(r), 추가모드(a) 등 3가지가 존재한다.\n",
    "# f = open(\"파일명\",\"모드\") 와 같은 방식으로 변수에다가 저장해야 한다. 이후 f는 열려있는 파일을 지칭한다.\n",
    "# f.write나 f.read같은 작업이 가능하다.\n",
    "f = open(\"0901.txt\",\"w\") #재밌는 점은 쓰기모드로 작성하면 현재 작성하는 파일 위치에 0901 텍스트파일이 생기게 된다.\n",
    "# 즉 쓰기모드는 파일을 작성하기 위함으로 사용하게 된다.\n",
    "f.write(\"2번째 줄\")\n",
    "f.close()\n",
    "g = open(\"0901.txt\",\"r\" )#읽기 모드는 해당 파일위치에 0901 텍스트파일이 있어야 한다.ㄹ\n",
    "# write는 덮어쓰기 기능으로 자료를 작성한다.\n",
    "f = open(\"0901.txt\",\"a\")\n",
    "f.write(\"3번째 줄\")\n",
    "f.close()#덮어쓰기가 아닌 내용추가가 되었다. 닫은 상태에서는 프로그램을 실행할 수 없다는 것을 우려하자. \n",
    "f = open(\"0901.txt\",\"a\")\n",
    "f.write(\"\\n4번째 줄\")\n",
    "f.close()"
   ]
  },
  {
   "cell_type": "code",
   "execution_count": 8,
   "id": "3dd6f701",
   "metadata": {},
   "outputs": [],
   "source": [
    "#간단한 문제\n",
    "g = open(\"0901_2.txt\",\"w\")\n",
    "g.close()\n",
    "g = open(\"0901_2.txt\",\"a\")\n",
    "g.write(\"1번\\n\")\n",
    "g.write(\"2번\\n\")\n",
    "g.write(\"3번\\n\")\n",
    "g.write(\"4번\\n\")\n",
    "g.write(\"5번\\n\")\n",
    "g.close()\n"
   ]
  },
  {
   "cell_type": "code",
   "execution_count": 14,
   "id": "312d1d11",
   "metadata": {},
   "outputs": [],
   "source": [
    "#사실 위의 코드보다 훨씬 간단하게 작성하는 방법이 있다. \n",
    "g = open(\"0901_2.txt\",\"w\")\n",
    "for i in range(1,6):\n",
    "    g.write(\"%d번\\n\" % i)\n",
    "g.close()\n",
    "with open(\"0901_3.txt\",\"w\")as g:\n",
    "    g.write(\"hello\")"
   ]
  },
  {
   "cell_type": "code",
   "execution_count": 15,
   "id": "80ad0f4f",
   "metadata": {},
   "outputs": [
    {
     "name": "stdout",
     "output_type": "stream",
     "text": [
      "hello\n"
     ]
    }
   ],
   "source": [
    "g = open(\"0901_3.txt\",\"r\")\n",
    "print(g.read())\n",
    "g.close()"
   ]
  },
  {
   "cell_type": "code",
   "execution_count": 20,
   "id": "5ec12b10",
   "metadata": {},
   "outputs": [],
   "source": [
    "data = [\"hello\\n\",\"hi\\n\",'bye\\n']"
   ]
  },
  {
   "cell_type": "code",
   "execution_count": 21,
   "id": "916b6cb5",
   "metadata": {},
   "outputs": [],
   "source": [
    "with open(\"0901_4.txt\",\"w\") as f:\n",
    "    f.writelines(data)#write로 작성이 오류가 났다.스트링만 가능하기 때문이다. 이 것을 writelines로 바꾸게 되면 정상적으로 작동하게 된다."
   ]
  },
  {
   "cell_type": "code",
   "execution_count": 29,
   "id": "b918a948",
   "metadata": {},
   "outputs": [
    {
     "name": "stdout",
     "output_type": "stream",
     "text": [
      "['hello\\n', 'hi\\n', 'bye\\n']\n"
     ]
    }
   ],
   "source": [
    "with open(\"0901_4.txt\",\"r\") as f:\n",
    "    # print(f.read())는 전체가 읽혀진다.\n",
    "    print(f.readlines())#리스트로 읽어진다. "
   ]
  },
  {
   "cell_type": "code",
   "execution_count": 33,
   "id": "316a73de",
   "metadata": {},
   "outputs": [
    {
     "name": "stdout",
     "output_type": "stream",
     "text": [
      "hello\n",
      "\n",
      "hi\n",
      "\n",
      "bye\n",
      "\n"
     ]
    }
   ],
   "source": [
    "with open(\"0901_4.txt\",\"r\") as f:\n",
    "    print(f.readline())# 단 한 줄만 읽어진다.\n",
    "    print(f.readline())# 특이한 점은 다음 줄이 읽어진다.\n",
    "    print(f.readline())# 줄을 알고있다면 반복문으로 출력하는 것 자체는 가능하다."
   ]
  },
  {
   "cell_type": "code",
   "execution_count": 35,
   "id": "d7790e00",
   "metadata": {},
   "outputs": [
    {
     "name": "stdout",
     "output_type": "stream",
     "text": [
      "hello\n",
      "hi\n",
      "bye\n",
      "\n"
     ]
    }
   ],
   "source": [
    "#그렇다면 이것을 반복문으로 해보자.\n",
    "line = None #만약 데이터를 아무것도 넣고싶지 않다면 넌을 사용하는 방법도 존재한다.\n",
    "with open(\"0901_4.txt\",\"r\") as f:\n",
    "    while line!='':#반복하지 않게 하기 위해서 문자내용이 없을 때 멈추게 해보자. \n",
    "        line = f.readline()\n",
    "        print(line.strip(\"\\n\"))"
   ]
  },
  {
   "cell_type": "code",
   "execution_count": 37,
   "id": "e1628ace",
   "metadata": {},
   "outputs": [],
   "source": [
    "#피클 사용법\n",
    "# 일반적에서 클래스로부터 객체가 생성된다. 특이점은 파이썬 객체를 파일로 저장할 수도 있다. \n",
    "# 피클모듈을 사용해서 객체를 파일로 저장 가능하다. 또는 읽기가 가능하다. \n",
    "import pickle\n",
    "data ={\"name\":\"kim\",\"age\":25,\"addr\":\"seoul\"}\n",
    "kor = 100\n",
    "eng = 90\n",
    "with open(\"mypic.p\",\"wb\") as f:#w는 쓰기이다. b는 바이너리로 이진수 형태로 저장하겠다는 의미이다. \n",
    "    pickle.dump(kor, f)# kor 내부의 내용을 객체형태로 저장하겠다. 덤프는 객체를 파일로 저장할 때 사용하는 함수이다.\n",
    "    #이는 kor이라는 객체를 파일로 저장하겠다는 의미이다.\n",
    "    "
   ]
  },
  {
   "cell_type": "code",
   "execution_count": 40,
   "id": "8a5ff635",
   "metadata": {},
   "outputs": [],
   "source": [
    "data ={\"name\":\"kim\",\"age\":25,\"addr\":\"seoul\"} #딕셔너리를 자료구조 통째로 저장해야 하는 상태이다. 일반적인 방식으로는 저장할 수 없다.\n",
    "with open(\"0901_5.txt\",\"wb\") as f:\n",
    "    #f.write(data)로 딕셔너리를 저장하는 것은 불가하다. write는 문자만 되기 때문에 딕셔너리를 저장하는 것이 안되는 것이다.\n",
    "    #그렇기 때문에 피클이 쓰인다. \n",
    "    pickle.dump(data,f)#저장이 되는 것을 알 수 있다. 피클파일은 일반적으로 텍스트 파일이 아니라 확장자를 p로 주게 된다.\n",
    "    #결론적으로 피클은 데이터를 객체형태로 저장하는 방식이다."
   ]
  },
  {
   "cell_type": "code",
   "execution_count": null,
   "id": "8cbda61b",
   "metadata": {},
   "outputs": [],
   "source": [
    "# adsp는 현재 필기로 보는 시험이라 만만하다. 합격률이 무난한 편이다. 암기가 많은 것이 특징이다. 단점은 R로 나온다.\n",
    "# 빅 데이터 분석기사는 현재 나온지 얼마 안되었다. 그래도 다른 자격증과 연계가 가능하다. 다만 대학졸업을 해야 한다는 조건을 가지고 있다. \n",
    "# 도서관에서 책을 빌려서 보는 것을 추천한다.\n",
    "# 정보관리기술사는 정보관련 자격증중 최고 자격증이다. 경력이 있어야 취득할 수 있으며 상당히 까다롭게 보는 특징이 있다. \n",
    "# 만약 실무경력이 갖춰져 있다면 정보관리기술사가 필요할 것이다. 자격증은 많은 것보다 제대로 된 자격증을 가진 것이 중요하다. \n",
    "# 정보시스템감리사는 기술사보다 쉬운 편이다. 정부에서 예산을 배정/집행하는데 이에 정보분야에 대해서 시행사가 정상적으로 사업을 \n",
    "# 진행하는지에 대해 확인하는 것을 검사하는 일을 한다. 쉽게 말하면 서포트 직군 중 감사역할을 한다. 출장이 잦다.\n",
    "# 정보시스템감리원이 존재한다. 폐쇄적인 특징을 가진다. 역할이 적다. \n",
    "\n"
   ]
  },
  {
   "cell_type": "code",
   "execution_count": 41,
   "id": "64426ee9",
   "metadata": {},
   "outputs": [
    {
     "name": "stdout",
     "output_type": "stream",
     "text": [
      "100\n"
     ]
    }
   ],
   "source": [
    "# 피클파일 여는 법\n",
    "with open(\"mypic.p\",\"rb\")as f: #오픈을 이용해서 기존의 파일을 여는 것이 가능하다.\n",
    "    k = pickle.load(f) # 피클 오픈을 이용해서 출력하는 것이다. \n",
    "    print(k)"
   ]
  },
  {
   "cell_type": "code",
   "execution_count": 42,
   "id": "84f5fa13",
   "metadata": {},
   "outputs": [
    {
     "name": "stdout",
     "output_type": "stream",
     "text": [
      "{'name': 'kim', 'age': 25, 'addr': 'seoul'}\n"
     ]
    }
   ],
   "source": [
    "with open(\"0901_5.txt\",\"rb\") as f:\n",
    "    obj = pickle.load(f) #마찬가지로 딕셔너리도 출력하는 것이 이상이 없다.\n",
    "    print(obj)\n",
    "    # 덤프 함수로 객체를 저장하고 로드 함수로 객체를 불러오는 것이 가능하다. 또한 피클로 저장하는 것은 데이터 용량을 적게 먹는다."
   ]
  },
  {
   "cell_type": "code",
   "execution_count": 46,
   "id": "10a4a301",
   "metadata": {},
   "outputs": [
    {
     "name": "stdout",
     "output_type": "stream",
     "text": [
      "1\n"
     ]
    }
   ],
   "source": [
    "# 함수의 정의\n",
    "# 함수는 특정 기능을 실행할 목적으로 정의된 요소이다.\n",
    "# 기존의 함수는 라이브러리(시스템 제공함수)라고 한다. 파이썬을 깔면 바로 존재하는 함수들이다. 사용자들이 자주 사용하는 명령어로 구성된다.\n",
    "# 그리고 사용자 정의 함수도 제작할 수 있다. 사용자의 필요에 따라 직접 만든 함수를 말한다. 함수를 만드는 법을 배워야 한다.\n",
    "\n",
    "############################################\n",
    "# 함수: 함수정보, 함수버젼, 함수 용도\n",
    "############################################\n",
    "#위와 같은 방식으로 함수를 정의하는 경우가 일반적이다.\n",
    "def hamsuname(): #디파인 을 쓴 다음 함수이름을 작성한다. \n",
    "    myangleuong = 1 # 이 부분은 명령문이다. \n",
    "    return myangleuong # 이 부분은 반환값이다.\n",
    "print(hamsuname())# 함수를 가동할 경우 함수명()으로 표현한다.\n",
    "#함수는 반복적으로 사용될 기능을 작성한다. \n"
   ]
  },
  {
   "cell_type": "code",
   "execution_count": 47,
   "id": "e731bc31",
   "metadata": {},
   "outputs": [
    {
     "name": "stdout",
     "output_type": "stream",
     "text": [
      "Hello. How Are You?\n"
     ]
    }
   ],
   "source": [
    "def hi(): # 함수 정의. 빈 괄호일 경우 인수가 없다고 한다.\n",
    "    print(\"Hello. How Are You?\") # 명령문 정의\n",
    "hi() # 함수 호출. 괄호를 통해서 함수가 구분된다.\n",
    "#함수도 위에서부터 아래로 수행되어지는데 만약 중간에 브레이크가 된다면 브레이크 아래 부분은 시행하지 않는다. "
   ]
  },
  {
   "cell_type": "code",
   "execution_count": 48,
   "id": "92af3b8f",
   "metadata": {},
   "outputs": [
    {
     "name": "stdout",
     "output_type": "stream",
     "text": [
      "30\n"
     ]
    }
   ],
   "source": [
    "def add(x,y): # 함수 내부에 있는 두 요소를 인수라고 한다. \n",
    "    print(x+y) # 함수 내부에서 프린트를 바로 하는 케이스이다. \n",
    "add(10,20) # 인수의 갯수는 함수에서 정해진 요소 갯수만큼 기재해야 한다. 인수의 갯수가 일치하지 않을 경우 애러가 나오게 된다."
   ]
  },
  {
   "cell_type": "code",
   "execution_count": 50,
   "id": "9b12c9dd",
   "metadata": {},
   "outputs": [
    {
     "name": "stdout",
     "output_type": "stream",
     "text": [
      "30\n",
      "30\n"
     ]
    }
   ],
   "source": [
    "def addition(x,y):  \n",
    "    return x+y # 함수 외부로 리턴하는 케이스이다. \n",
    "print(addition(10,20))# 리턴한 값을 받아서 프린트를 하는 경우이다. \n",
    "print(addition(y = 20, x = 10))#순서가 바꿔서도 가능하다. 기존에 정해져있는 인수를 기재해서 위치를 바꾸는 것도 가능하다."
   ]
  },
  {
   "cell_type": "code",
   "execution_count": 55,
   "id": "5021b25f",
   "metadata": {},
   "outputs": [
    {
     "name": "stdout",
     "output_type": "stream",
     "text": [
      "(1, 2, 3, 4, 5)\n",
      "()\n"
     ]
    }
   ],
   "source": [
    "def add3(*arg): #인수명 앞에 별이 있으면 전달받고자 하는 데이터가 몇 개여도 상관없다는 뜻이다.\n",
    "    print(arg)\n",
    "add3(1,2,3,4,5)# 여러개의 인수가 들어가도 지장이 없다. 문제는 자료구조가 튜플이 튀어나온다는 것이다.\n",
    "add3()#심지어는 괄호 안에 아무것도 없어도 실행된다."
   ]
  },
  {
   "cell_type": "code",
   "execution_count": 62,
   "id": "20469b5d",
   "metadata": {},
   "outputs": [
    {
     "name": "stdout",
     "output_type": "stream",
     "text": [
      "1\n",
      "2\n",
      "3\n",
      "4\n",
      "5\n",
      "15\n"
     ]
    }
   ],
   "source": [
    "def add3(*arg): \n",
    "    s = 0\n",
    "    for i in arg:\n",
    "        s += i\n",
    "        print(i)\n",
    "    return s\n",
    "print(add3(1,2,3,4,5))"
   ]
  },
  {
   "cell_type": "code",
   "execution_count": 69,
   "id": "71da6863",
   "metadata": {},
   "outputs": [
    {
     "name": "stdout",
     "output_type": "stream",
     "text": [
      "1\n"
     ]
    }
   ],
   "source": [
    "def add4(op, *arg): # op는 별이 없다. 반드시 값이 전달되어야 한다.\n",
    "    if op == \"mul\":\n",
    "        return arg[0] # 이와 같이 인수값이 도착할 때 특정 부분을 리턴하는 방법도 가능하다.\n",
    "add4(10)#만약 아무 값도 없으면 op라는 값이 없기 때문에 오류가 발생한다. 만약 하나의 값이라도 있으면 그 값은 op에 할당된다.\n",
    "print(add4(\"mul\",1,2,3))"
   ]
  },
  {
   "cell_type": "code",
   "execution_count": 72,
   "id": "1c517570",
   "metadata": {},
   "outputs": [
    {
     "data": {
      "text/plain": [
       "(6, 999, 333)"
      ]
     },
     "execution_count": 72,
     "metadata": {},
     "output_type": "execute_result"
    }
   ],
   "source": [
    "def add4(op, *arg):\n",
    "    res = 1\n",
    "    res2 = 999\n",
    "    res3 = 333\n",
    "    if op == \"mul\":\n",
    "        for i in arg:\n",
    "            res = res*i\n",
    "    return res , res2, res3 #리턴문은 1개만 튀어나올 때는 그 값만. 두 개 이상 리턴할 경우 튜플이 튀어나온다.\n",
    "add4(\"mul\",1,2,3) # 차례대로 곱셈을 하라는 명령을 완료하였다."
   ]
  },
  {
   "cell_type": "code",
   "execution_count": 101,
   "id": "ef654a3a",
   "metadata": {},
   "outputs": [
    {
     "name": "stdout",
     "output_type": "stream",
     "text": [
      "첫번째 숫자를 입력하세요.11\n",
      "사칙연산 기호를 입력하세요-\n",
      "두번째 숫자를 입력하세요.12\n",
      "-1\n"
     ]
    }
   ],
   "source": [
    "def calculation1(num1 , ad , num2):\n",
    "    if ad == \"+\":\n",
    "        ans = num1 + num2\n",
    "    elif ad == \"-\":\n",
    "        ans = num1 - num2\n",
    "    elif ad == \"*\":\n",
    "        ans = num1 * num2\n",
    "    elif ad == \"/\":\n",
    "        if num2 != 0:\n",
    "            ans = num1 / num2\n",
    "        else:\n",
    "            return print(\"0으로 나눌 수 없습니다.\")\n",
    "    else :\n",
    "        return print(\"기호가 올바르지 않습니다.\")        \n",
    "    return print(ans)\n",
    "\n",
    "def main():\n",
    "    num1 = int(input(\"첫번째 숫자를 입력하세요.\"))\n",
    "    ad = input(\"사칙연산 기호를 입력하세요\")\n",
    "    num2 = int(input(\"두번째 숫자를 입력하세요.\"))\n",
    "    calculation1(num1, ad, num2)\n",
    "\n",
    "main()"
   ]
  },
  {
   "cell_type": "code",
   "execution_count": null,
   "id": "5746f2e1",
   "metadata": {},
   "outputs": [],
   "source": [
    "# 강평. 함수는 간편해야 한다. 수행이 잘 되어야 하는데 이번 함수는 일반화가 잘 되어있지 않다. \n",
    "# 꽤 복잡한 함수이다. 이 것을 간결하게 바꾸는 것을 고려해보자.\n",
    "# 기본적으로 인풋함수는 문자열로 저장된다 ad에 붙는 str는 필요없다.\n",
    "# 타입체크가 사실 필요없다. 앞에서 int로 입력한 상태인데 여기서 한번 더 체크하는 것은 동선을 좀더 낭비하는 효과를 가진다.\n",
    "# ans는 오류가 발생할 경우 사용되지만 일반적으로 사용할 이유는 없다.\n",
    "# 타입확인은 이후 활용할 요소다. 기억해두자. \n",
    "# 0으로 나누는 돌발상황을 고려하지 않았다. 그렇기에 많이 부족했다. 0으로 나누면 오류가 발생한다.\n"
   ]
  }
 ],
 "metadata": {
  "kernelspec": {
   "display_name": "Python 3 (ipykernel)",
   "language": "python",
   "name": "python3"
  },
  "language_info": {
   "codemirror_mode": {
    "name": "ipython",
    "version": 3
   },
   "file_extension": ".py",
   "mimetype": "text/x-python",
   "name": "python",
   "nbconvert_exporter": "python",
   "pygments_lexer": "ipython3",
   "version": "3.11.4"
  }
 },
 "nbformat": 4,
 "nbformat_minor": 5
}
