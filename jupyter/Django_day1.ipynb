{
 "cells": [
  {
   "cell_type": "code",
   "execution_count": 1,
   "id": "0ecb3c7a",
   "metadata": {},
   "outputs": [],
   "source": [
    "# 장고는 플라스크보다 훨씬 많이 쓰이는 프론트엔드,백엔드 구축 도구이다.\n",
    "# 장고는 일반적으로 파이썬, 파이참을 쓰게 된다. 그리고 장고를 설치하는 것이 필요하다.\n",
    "# 웹프레임워크의 기능들을 사용하는 방법만 알아도 복잡한 처리들을 쉽게 처리가 가능하다. \n"
   ]
  },
  {
   "cell_type": "code",
   "execution_count": 2,
   "id": "bb7ca8e4",
   "metadata": {},
   "outputs": [],
   "source": [
    "# 쿠키\n",
    "# 쿠키라고 하는것은 서버를 방문한 클라이언트의 정보가 로컬 PC에 저장되어져있는 것을 말한다. \n",
    "# 오늘 하루 사이트를 방문하지 않음을 체크하면 하루동안 창이 안뜨는 것도 쿠키의 기능이다.\n",
    "# 또는 아이디나 비밀번호를 저장하는 기능도 쿠키의 기능이다.\n",
    "# 환경설정 값을 로컬 PC에 저장하는 것을 쿠키정보라고 한다. \n",
    "# 그래서 웹 사이트를 방문할 경우 가장 먼저 하는 것이 쿠키요청이다.\n"
   ]
  },
  {
   "cell_type": "code",
   "execution_count": 3,
   "id": "d203d69e",
   "metadata": {},
   "outputs": [],
   "source": [
    "# 세션처리\n",
    "# 세션처리는 서버에서 저장되는 정보등을 말한다. \n",
    "# 방문을 한 상태에서 남긴 다양한 정보가 있는데 서버에 저장되어져 있는 기록을 세션이라고 한다. \n",
    "# 게스트 계정으로 결제를 하는 경우가 세션처리가 가능하기 때문이다. \n",
    "# 즉 우리들에 대한 정보가 서버에 존재하기 때문이다. 세션아이디라고 한다.\n",
    "# 이를 통해 요청, 연산등을 처리할 수 있게 한다. \n"
   ]
  },
  {
   "cell_type": "code",
   "execution_count": 4,
   "id": "e5fa250a",
   "metadata": {},
   "outputs": [],
   "source": [
    "# 데이터베이스\n",
    "# 로그인을 하려면 아이디와 비밀번호를 입력하고 아이디와 비밀번호가 있는지 확인해야 한다. \n",
    "# 로그인 처리와 로그아웃 처리는 절차가 필요하다. 구현하기가 매우 어려운 편이다. 장고는 로그인/로그아웃 처리 모듈이 존재한다. \n",
    "# 또한 관리자 계정도 존재해야 한다. 권한 처리는 까다로운 분야이다. 권한에 따라 데이터를 보여주는 방식이 달라야 하는 것이다. "
   ]
  },
  {
   "cell_type": "code",
   "execution_count": 5,
   "id": "f6a3c5c6",
   "metadata": {},
   "outputs": [],
   "source": [
    "# 장고는 보안적인 측면에서도 안정적이다.\n",
    "# SQL인젝션(셀렉트라는 명령을 통해 데이터 검색이 가능하다는 점을 이용하는게 sql명령어이다. \n",
    "# 이걸 공격자가 사이트를 해킹할 목적으로 남용하는 것이다. \n",
    "# 구글링을 통해 admin 계정을 알아내는 방법으로 페이지 구조, 아이디를 검색해서 파악하는 것이다. \n",
    "# 구글링은 n%, or 등 조합으로 다양한 검색이 가능하다.\n",
    "# 에전에는 아이디를 잘못입력했다. 비밀번호를 잘못 입력했다가 명확하게 구분되어있었다. \n",
    "# 그걸 통해 계정을 추적하여 해킹하는 기술이 존재했다.\n",
    "# 그리고 아이디를 알아내면 비밀번호를 1=1을 적어서 강제로 True를 만들어서 로그인을 해버린 것이다. \n",
    "# 당연히 대규모 사이트에서는 하지 않는다. 작은 규모의 사이트에서 인젝션 공격을 한다. \n",
    "# 만약 보안이 취약한지 확인하려면 1=1을 비밀번호에 입력해보자.\n",
    "# db에 있는 정보를 전부 가져와서 아이디와 비밀번호를 입력해서 대규모사이트를 로그인하여 뚫어버리는 방식으로 해킹하는 것이다. "
   ]
  },
  {
   "cell_type": "code",
   "execution_count": null,
   "id": "337a998e",
   "metadata": {},
   "outputs": [],
   "source": [
    "# 크로스사이드 스크리핑은 클릭을 유도한다. 클릭하는 순간 개인정보들이 해커에게 전송되게 하는 것이다. \n",
    "# 클릭재킹도 마찬가지이다. 의도하지않는 클릭을 유도하는 것이다. \n",
    "# 크로스사이트 리퀘스트 포져리도 위조요청으로 공격하는 방법이다.\n",
    "# 책에서는 장고가 재밌다고 하지만 사실 장고는 재미없다. "
   ]
  },
  {
   "cell_type": "code",
   "execution_count": 7,
   "id": "4b5390e5",
   "metadata": {},
   "outputs": [
    {
     "ename": "SyntaxError",
     "evalue": "invalid syntax (890735264.py, line 4)",
     "output_type": "error",
     "traceback": [
      "\u001b[1;36m  Cell \u001b[1;32mIn[7], line 4\u001b[1;36m\u001b[0m\n\u001b[1;33m    cd venvs\u001b[0m\n\u001b[1;37m       ^\u001b[0m\n\u001b[1;31mSyntaxError\u001b[0m\u001b[1;31m:\u001b[0m invalid syntax\n"
     ]
    }
   ],
   "source": [
    "# 가상환경 구성을 해보자. \n",
    "cd\\\n",
    "# 상위 디렉토리로 이동한다. \n",
    "cd venvs\n",
    "python -m venv mysite\n",
    "cd mysite\n",
    "dir/w\n",
    "# 이렇게 해서 생성된 폴더등을 확인할 수 있다. \n",
    "cd Sc* \n",
    "# 별은 알아서 완성시키라는 뜻이다. \n",
    "# 그리고 내부에서 dir/w를 치면 명령어들이 나온다.\n",
    "# activate와 deactivate도 존재한다. \n",
    "# activate를 한 다음 pip install django==4.0.3를 해서 장고를 설치할 수 있다. \n",
    "# python -m pip install --upgrade pip 로 pip을 업그레이드 하자. \n",
    "# 장고 프로젝트 1개 = 웹 사이트 한개이다. 프로젝트 안에는 여러 개의 앱이 존재한다. 이 앱들이 모여서 웹사이트를 구성한다. \n",
    "# 예전에는 일일히 구현해야 했다. 웹사이트를 만들어도 관리가 힘들었다. 그리고 개인정보 유출을 웹사이트 제작자에게 물기도 했다.\n",
    "# 제작자의 능력이 모자랐기에 발생했던 참사들이었다."
   ]
  },
  {
   "cell_type": "code",
   "execution_count": null,
   "id": "62758413",
   "metadata": {},
   "outputs": [],
   "source": [
    "C:\\venvs\\mysite\\Scripts\\activate\n",
    "# 한방에 진입해보자.\n",
    "# 프로젝트를 생성하자.\n",
    "django-admin startproject config .\n",
    "# 점은 현재 디렉토리를 의미한다. 현재 디렉토리 기준으로 프로젝트를 생성하겠다는 의미이다. \n",
    "python manage.py runserver\n",
    "# 서버를 가동시켰다. \n",
    "# 이제 로컬호스트 8000을 접속하면 장고가 접속된다. \n",
    "http://127.0.0.1:8000/\n",
    "# 인터넷에 연결된 모든 컴퓨터들은 호스트라고 한다.\n",
    "# 그리고 컴퓨터가 가지는 각각의 이름은 IP주소라고 한다. 이 주소를 가지고 인터넷상에 연결되어져있는 다양한 호스트\n",
    "# ,서버 등으로 연결된다. 그래서 숫자로 이루어진 아이피로 접속할 수 있지만 사람이 읽기 불편하다.\n",
    "# 그래서 사람이 알아들을 수 있는 영어로 구성된 것을 도메인주소라고 한다. \n",
    "# 미리 예약이 되어져있는 아이피주소가 있다. 타인이 사용할 수 없는 주소이다. 127.0.0.1은 그러한 주소이다.\n",
    "# 컴퓨터를 웹서버로 만들고 실행한 것이다. 개인만 사용하는 주소이다. 테스트를 위해 사용되는 특별히 만들어진 주소이다. \n",
    "# 장고를 설치한 순간부터 이 컴퓨터는 웹서버이다. 그리고 이 페이지는 우리의 홈페이지이다. \n",
    "# 페이지를 만들고 웹서버를 구매해서 올리면 24시간동안 구동되는 웹서버가 만들어진다. \n",
    "# 물리적으로는 아이피주소가 한 개이다. 하지만 작업관리자를 보면 여러 개의 서버와 동시에 통신이 가능하다.\n",
    "# 소프트웨어적으로 65535개가 있는것처럼 구현한 것이다. \n",
    "# 만약 서버를 끄게 되면 이 포트는 사용할 수 없을 것이다. \n",
    "# 서버를 닫으려면 컨트롤 브레이크를 쓰거나 컨트롤 c를 쓰면 된다. "
   ]
  },
  {
   "cell_type": "code",
   "execution_count": null,
   "id": "057e39be",
   "metadata": {},
   "outputs": [],
   "source": [
    "# 파이썬 인터프리터(번역기)는 필요하다. \n",
    "# 파이썬 언어를 번역할 번역기를 만들자. \n",
    "# 마이사이트 내의 파이썬 파일을 기준으로 번역기를 사용하자. setuptools가 없으면 스크립트 파일 내에 설치하자. "
   ]
  },
  {
   "cell_type": "code",
   "execution_count": null,
   "id": "51ab1f6d",
   "metadata": {},
   "outputs": [],
   "source": []
  },
  {
   "cell_type": "code",
   "execution_count": null,
   "id": "2f9dd219",
   "metadata": {},
   "outputs": [],
   "source": []
  },
  {
   "cell_type": "code",
   "execution_count": null,
   "id": "184bede9",
   "metadata": {},
   "outputs": [],
   "source": []
  }
 ],
 "metadata": {
  "kernelspec": {
   "display_name": "Python 3 (ipykernel)",
   "language": "python",
   "name": "python3"
  },
  "language_info": {
   "codemirror_mode": {
    "name": "ipython",
    "version": 3
   },
   "file_extension": ".py",
   "mimetype": "text/x-python",
   "name": "python",
   "nbconvert_exporter": "python",
   "pygments_lexer": "ipython3",
   "version": "3.11.5"
  }
 },
 "nbformat": 4,
 "nbformat_minor": 5
}
