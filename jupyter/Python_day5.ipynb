{
 "cells": [
  {
   "cell_type": "code",
   "execution_count": null,
   "id": "e725c4c7",
   "metadata": {},
   "outputs": [],
   "source": [
    "# 내장함수/ 람다함수\n",
    "# 함수를 기존에 만들어져 있는 것을 호출해서 사용하는 것을 배워보자."
   ]
  },
  {
   "cell_type": "code",
   "execution_count": 2,
   "id": "1f26c34b",
   "metadata": {},
   "outputs": [
    {
     "name": "stdout",
     "output_type": "stream",
     "text": [
      "hi hello\n",
      "hi hello\n",
      "hi hello\n",
      "hi hello\n",
      "hi hello\n",
      "hi hello\n"
     ]
    }
   ],
   "source": [
    "# 재귀 호출\n",
    "# 함수가 자기 자신을 호출하는 것을 재귀호출이라고 한다.\n",
    "# 일반적인 호출은 다음과 같이 이루어진다.\n",
    "def hi():\n",
    "    print(\"hi hello\")\n",
    "hi()\n",
    "# 재귀호출은 자기자신을 호출하는 함수이다. 일반적으로는 많이 사용하지 않으나. 알고리즘 문제를 해결하는 과정에서 사용된다.\n",
    "# 반복적이면서도 전체 후보군을 전부 검색해야 할 경우 재귀호출이 유용하게 사용된다. 미로찾기 같은 프로그램 등을 개발할 때 쓰기도 한다.\n",
    "# 코딩테스트 할때 주요 문제 유형 중 하나가 재귀호출을 통한 문제해결이 존재한다. 최적화 작업 능력을 보는 것이다.\n",
    "# 단점은 메모리 문제가 발생한다. 함수를 메모리에 여러번 적재해야 하기에 메모리가 커야 한다는 것이다. 메모리 부족 현상이 나타날 수 있다.\n",
    "# 재귀호출을 해야하는 상황일 경우 호출횟수를 줄임으로서 메모리 부족현상이 생기지 않도록 고려해야 한다.\n",
    "# 재귀호출은 종료조건이 필수이다. 메모리 사용을 최소화 해야한다. 잘못하면 while문 무한반복이 재현된다. 수행횟수가 정해져야한다.\n",
    "\n",
    "def hi(cnt) :\n",
    "    if cnt == 0:\n",
    "        return\n",
    "    print(\"hi hello\")\n",
    "    cnt -=1\n",
    "    hi(cnt)\n",
    "hi(5)\n",
    "# 리턴은 함수를 호출했떤 곳으로 되돌아간다는 것이다. 리턴을 한다면 다시 전 단계로 리턴을 하게 된다. \n",
    "# 재귀호출을 공부하는 경우는 코원테스트를 준비하는 경우이다. 재귀호출 문제가 무조건 나온다.\n",
    "# 미로찾기에서 모든 경로를 찾아낼 수 있다. 메모리 사용량도 많다."
   ]
  },
  {
   "cell_type": "code",
   "execution_count": 13,
   "id": "db7d790e",
   "metadata": {},
   "outputs": [
    {
     "name": "stdout",
     "output_type": "stream",
     "text": [
      "6\n",
      "6\n",
      "11\n",
      "15\n"
     ]
    }
   ],
   "source": [
    "# 람다 함수\n",
    "# 일반적으로 def를 함수 만들때 작성한다. \n",
    "def myfunc(a):\n",
    "    return a+1\n",
    "print(myfunc(5))\n",
    "# 이런 식으로 작성되는 것이 일반적이다. 정의하고 호출하는 방식이다.\n",
    "# 람다 함수는 익명함수라고도 불린다. 이름이 없는 함수로 람다 표현식이라고도 불린다. 연습이 많이 필요하다.\n",
    "# 위의 식을 람다함수로 작성하면 다음과 같다.\n",
    "myfunc2 = lambda a: a+1\n",
    "print(myfunc2(5))\n",
    "# 사실 이렇게까지 할 필요도 없이 바로 실행하게 하는 경우가 많다.\n",
    "print((lambda a:a+1)(10))\n",
    "# 주의할 점은 새로운 변수를 만들 수 없다는 특징이 있다.\n",
    "#(lambda a:b=5; a+b)(10) 람다함수 내부에서 새로운 변수를 정의할 수 없다. 사용하기 위해서는 변수가 미리 선언되어야 한다.\n",
    "b = 5\n",
    "print((lambda a:a+b)(10))\n",
    "#위와 같이 미리 선언이 되어야 한다.\n",
    "# 람다함수의 장점 : 함수의 인수부분에 간단하게 함수를 만들 수 있다는 장점이다."
   ]
  },
  {
   "cell_type": "code",
   "execution_count": 17,
   "id": "34ce25a6",
   "metadata": {
    "scrolled": true
   },
   "outputs": [
    {
     "name": "stdout",
     "output_type": "stream",
     "text": [
      "[6, 7, 8]\n",
      "[6, 7, 8]\n"
     ]
    }
   ],
   "source": [
    "# map 함수\n",
    "# 먼저 함수가 이렇게 있다고 가정하자.\n",
    "def add_5(x):\n",
    "    return x+5\n",
    "data = [1,2,3] # 본인이 여기서 6,7,8의 결과값을 얻고싶다고 하자.\n",
    "# 초반에 배운 내용만 쓴다면 for문으로 일일이 집어넣는 방법을 쓸 것이다.\n",
    "res = []\n",
    "for i in data:\n",
    "    res.append(add_5(i))\n",
    "print(res)\n",
    "# map 함수는 위의 작업을 간단하게 표현하기 위해 사용된다.\n",
    "print(list(map(add_5,[1,2,3])))\n",
    "#단 한 줄로 작성이 되었다. \n"
   ]
  },
  {
   "cell_type": "code",
   "execution_count": 22,
   "id": "4a342efd",
   "metadata": {},
   "outputs": [
    {
     "name": "stdout",
     "output_type": "stream",
     "text": [
      "['1', '2', '3']\n",
      "[1, 2, 3]\n",
      "[6, 7, 8]\n"
     ]
    }
   ],
   "source": [
    "# map 함수 작성법\n",
    "# map함수는 두칸으로 나뉜다. 함수칸과 전달자료로 나뉜다. 1. 시행하고자 하는 함수, 2.함수에 사용할 자료\n",
    "# map(함수, 전달 자료)\n",
    "# 리턴될때 맵 객체로 리턴되어서 나온다. 맵 객체는 16진수로 저장된다. 그래서 바로 확인하기 위하여 리스트함수를 이용해서 변환한다. \n",
    "print(list(map(str,[1,2,3])))\n",
    "# 사용자 지정 함수 뿐 아니라 기존의 함수도 사용할 수 있다. 두 번째 인수자리의 자료가 전달되고 수행되어진 결과가 출력되는 것이다.\n",
    "print(list(map(int,['1','2','3'])))\n",
    "# for문을 돌려도 상관은 없다. 결과가 같다. 다만 코드를 간결하게 만들 수 있기에 맵함수를 사용한다.\n",
    "# 재밌는 점은 람다 함수도 함수라서 맵 함수칸에 기재가 가능하다.\n",
    "print(list(map(lambda x:x+5,[1,2,3])))\n",
    "# 람다 함수가 맵 함수의 인수로 들어가는 경우이다. 코드가 상당히 간결해졌다."
   ]
  },
  {
   "cell_type": "code",
   "execution_count": 24,
   "id": "5595ac1b",
   "metadata": {},
   "outputs": [
    {
     "name": "stdout",
     "output_type": "stream",
     "text": [
      "['1', '2', '3', '4', '5', '6', '7', '8', '9', '10']\n",
      "[1, '2', 3, '4', 5, '6', 7, '8', 9, '10']\n"
     ]
    }
   ],
   "source": [
    "# 람다함수는 맨 처음에 매개변수가 오고 식이 오는 구조이다.여기에 if문도 적용 가능하다.(lambda 변수 : 식1 if 조건식 else 식2)\n",
    "a = list(range(1,11))\n",
    "print(list(map(str, a)))#먼저 맵 함수를 이용하여 1부터 10까지 문자로 작성하게 하였다. \n",
    "# 만약 2의 배수만 표현하고 싶다면?\n",
    "print(list(map(lambda x :str(x) if x % 2 == 0 else x, a)))#2의 배수만 문자로 표현하기 위해서는 다음과 같다.\n",
    "# 이러한 구문형식은 많이 쓰인다. 특이점은 if 다음에 콜론기호를 썼지만 여기서는 사용하지 않았다. 트루일때 앞에, 폴스일때 뒤에 기재된다. \n",
    "# 또한 람다식에서는 반드시 else가 있어야 한다. "
   ]
  },
  {
   "cell_type": "code",
   "execution_count": 40,
   "id": "fbdd7d9b",
   "metadata": {},
   "outputs": [
    {
     "name": "stdout",
     "output_type": "stream",
     "text": [
      "[1, 2, 3.0, 4, 5, 6.0, 7, 8, 9.0, 10]\n",
      "['1', 2, 3.0, 4, 5, 6.0, 7, 8, 9.0, 10]\n",
      "['1', 2, 3.0, 4, 5, 6.0, 7, 8, 9.0, 10]\n",
      "['1', 2, 3.0, 4, 5, 6.0, 7, 8, 9.0, 10]\n"
     ]
    }
   ],
   "source": [
    "a = list(range(1,11))\n",
    "#현재 리스트에서 3의 배수인 경우 실수로 변환하기\n",
    "print(list(map(lambda x: float(x) if x%3==0 else x, a)))\n",
    "#여기에 추가로 1을 문자로 한다면?\n",
    "print(list(map(lambda x: float(x) if x%3==0 else str(x) if x == 1 else x, a)))\n",
    "\n",
    "#이것을 풀면 다음과 같다.\n",
    "def myfunc(x):\n",
    "    res = []\n",
    "    for i in x:\n",
    "        if i%3 == 0:\n",
    "            res.append(float(i))\n",
    "        elif i == 1: \n",
    "            res.append(str(i))\n",
    "        else:\n",
    "            res.append(i)\n",
    "    return res\n",
    "\n",
    "print(myfunc(a))\n",
    "# 또는 이것과 같다.\n",
    "b = list(range(1,11))\n",
    "def myfunc4(i):\n",
    "    if i%3 == 0:\n",
    "        return float(i)\n",
    "    elif i == 1: \n",
    "        return str(i)\n",
    "    else:\n",
    "        return i\n",
    "print(list(map(myfunc4,b)))"
   ]
  },
  {
   "cell_type": "code",
   "execution_count": 43,
   "id": "5434906b",
   "metadata": {},
   "outputs": [
    {
     "name": "stdout",
     "output_type": "stream",
     "text": [
      "[2, 4, 6]\n",
      "[2, 8, 18]\n"
     ]
    }
   ],
   "source": [
    "# 두 개 이상의 변수를 람다 함수에 활용하기\n",
    "x = [1,2,3]\n",
    "y = [2,4,6]\n",
    "# 두 리스트에 저장되어져 있는 숫자를 위치별로 곱하는 요령을 람다함수에서 하는 것을 생각해보자.\n",
    "print(list(map(lambda a:a*2,x)))# 지난 시간에 배운 방식은 이런 방식이었다.\n",
    "print(list(map(lambda a,b:a*b ,x,y)))# for 문을 써서 곱하는 것과 같은 결과가 나온다. map 내부에 변수를 여러 가지를 대입할 수 있다.\n",
    "# 이러한 형식은 많이 사용된다. 기억하자."
   ]
  },
  {
   "cell_type": "code",
   "execution_count": 54,
   "id": "c292d54e",
   "metadata": {},
   "outputs": [
    {
     "name": "stdout",
     "output_type": "stream",
     "text": [
      "[5, 6, 7]\n",
      "[5, 6, 7]\n"
     ]
    }
   ],
   "source": [
    "# 필터 함수에 대해서 알아보기\n",
    "# 조건에 부합되는 자료만 추출하는 함수이다.\n",
    "# 형식은 맵하고 유사하다. filter(함수, 자료)와 같이 구성한다.\n",
    "a = list(range(1,11))\n",
    "#만약 5 이상 8 미만에 해당하는 데이터만 추출하고자 한다면\n",
    "print(list(filter(lambda x : 5<=x<8, a)))\n",
    "# 내부의 값이 True 인지 False인지 보는 부분이 있는데 이 부분에서 참인 경우에만 적용하는 원리이다.\n",
    "def myfunc(x):\n",
    "    return x >=5 and x < 8\n",
    "print(list(filter(myfunc,a)))\n",
    "# 함수에 a를 전달한 다음 조건식이 참인 결과값을 리턴하는 구조이다.\n",
    "# 결과가 true인 것들만 출력되었다.\n",
    "# 람다함수를 통해서 처음의 공식과 같이 적용 가능하다."
   ]
  },
  {
   "cell_type": "code",
   "execution_count": 57,
   "id": "a770e452",
   "metadata": {},
   "outputs": [
    {
     "name": "stdout",
     "output_type": "stream",
     "text": [
      "[8, 7, 9]\n",
      "[8, 7, 9]\n"
     ]
    }
   ],
   "source": [
    "# a = [8, 3, 2, 10, 15, 7, 1, 9, 0, 11] 여기서 5 초과, 10 미만인 자료만 추출해보자.\n",
    "a = [8, 3, 2, 10, 15, 7, 1, 9, 0, 11]\n",
    "print(list(filter(lambda x : 5 < x < 10, a)))\n",
    "# 리스트를 이용한다면 다음과 같이 이용 가능하다.\n",
    "print([i for i in a if i>5 and i < 10])"
   ]
  },
  {
   "cell_type": "code",
   "execution_count": 5,
   "id": "7f848323",
   "metadata": {},
   "outputs": [
    {
     "name": "stdout",
     "output_type": "stream",
     "text": [
      "5\n",
      "True\n",
      "False\n",
      "True\n",
      "True\n",
      "False\n",
      "54028\n",
      "97\n",
      "파\n",
      "['__add__', '__class__', '__class_getitem__', '__contains__', '__delattr__', '__delitem__', '__dir__', '__doc__', '__eq__', '__format__', '__ge__', '__getattribute__', '__getitem__', '__getstate__', '__gt__', '__hash__', '__iadd__', '__imul__', '__init__', '__init_subclass__', '__iter__', '__le__', '__len__', '__lt__', '__mul__', '__ne__', '__new__', '__reduce__', '__reduce_ex__', '__repr__', '__reversed__', '__rmul__', '__setattr__', '__setitem__', '__sizeof__', '__str__', '__subclasshook__', 'append', 'clear', 'copy', 'count', 'extend', 'index', 'insert', 'pop', 'remove', 'reverse', 'sort']\n",
      "Help on built-in function dir in module builtins:\n",
      "\n",
      "dir(...)\n",
      "    dir([object]) -> list of strings\n",
      "    \n",
      "    If called without an argument, return the names in the current scope.\n",
      "    Else, return an alphabetized list of names comprising (some of) the attributes\n",
      "    of the given object, and of attributes reachable from it.\n",
      "    If the object supplies a method named __dir__, it will be used; otherwise\n",
      "    the default dir() logic is used and returns:\n",
      "      for a module object: the module's attributes.\n",
      "      for a class object:  its attributes, and recursively the attributes\n",
      "        of its bases.\n",
      "      for any other object: its attributes, its class's attributes, and\n",
      "        recursively the attributes of its class's base classes.\n",
      "\n",
      "(1, 3)\n",
      "1 3\n",
      "abc\n",
      "cdec\n"
     ]
    }
   ],
   "source": [
    "# 내장함수\n",
    "# 함수는 알면 알수록 작업의 편의성이 높아진다.\n",
    "# abs함수는 절대값을 리턴한다.\n",
    "\n",
    "#abs(절대값)\n",
    "print(abs(-5))#입력값에 양수를 출력한다.\n",
    "\n",
    "#all(전체 참 판별)\n",
    "print(all([1,2]))# 모든 값이 참이어야 한다. 여기서는 1 이상은 참이기에 true가 뜬다.\n",
    "print(all([0,1]))# 거짓인 요소가 하나라도 존재하면 전체가 거짓으로 뜨게 된다.\n",
    "print(all([]))# 비어있는 리스트도 참으로 나온다.\n",
    "\n",
    "#any(하나라도 참 판별)\n",
    "print(any([1,0])) #참이 하나라도 있으면 True가 출력된다.\n",
    "print(any([0,\"\"]))# 비어있는 것은 거짓으로 출력한다.\n",
    "\n",
    "#ord(유니코드값 환산)\n",
    "print(ord(\"파\"))\n",
    "print(ord(\"a\"))#약속이 되어진 코드 체계로 특정문자의 유니코드값을 확인한다.\n",
    "\n",
    "#chr(유니코드값 언어환산)\n",
    "print(chr(54028))#ord와는 정 반대의 매커니즘으로 작동한다.\n",
    "\n",
    "#dir(사용 가능한 함수목록)\n",
    "print(dir([1,2]))# 리스트에서 사용할 수 있는 함수들의 목록을 보여준다.\n",
    "#사실 점을 찍고 탭을 눌러서도 확인이 가능하다.\n",
    "\n",
    "#help(함수 설명서)\n",
    "help(dir) #dir함수에 대한 설명과 함께 사용방법을 소개한다.\n",
    "\n",
    "#divmod()\n",
    "print(divmod(8,5)) # 몫과 나머지를 출력한다. 이때 몫과 나머지는 튜플로 출력된다.\n",
    "print(8//5,8%5) # 이 두 가지를 출력하는데 일반출력은 튜플이 아니다.\n",
    "\n",
    "#endswith(끝문자 포함여부 확인)\n",
    "listies = [ 'abc' , 'cdec' , 'efg']\n",
    "for i in listies:\n",
    "    if i.endswith('c'):\n",
    "        print(i)"
   ]
  },
  {
   "cell_type": "code",
   "execution_count": 86,
   "id": "dc94f02e",
   "metadata": {},
   "outputs": [
    {
     "name": "stdout",
     "output_type": "stream",
     "text": [
      "0 h\n",
      "1 i\n",
      "2 h\n",
      "3 e\n",
      "4 l\n",
      "5 l\n",
      "6 o\n",
      "0 hi\n",
      "1 hello\n",
      "2 bye\n",
      "3\n",
      "hi\n",
      "None\n"
     ]
    }
   ],
   "source": [
    "# enumerate(열거)\n",
    "for i, a in enumerate(\"hihello\"):\n",
    "    print(i,a) #함수 내의 요소를 열거하는 방식으로 작동하며 for문과 함께 세트를 이루는 경우가 일반적이다.\n",
    "#리스트도 올 수 있고 튜플도 올 수 있다. \n",
    "for i, b in enumerate([\"hi\",\"hello\",\"bye\"]):# 리스트 구성요소 하나하나가 a 에 전달되어진다.\n",
    "    print(i,b) \n",
    "#반복적인 연산을 필요로 하는 상황에서 유용하다. 많이 쓰이는 이유는 인덱스 함수와 함께 자료들을 읽을 수 있는 함수기 때문이다.\n",
    "\n",
    "# eval(문자열 실행)\n",
    "#\"print('hi')\" 이와 같이 문자열로 표현되는 식은 바로 실행할 수 없다.\n",
    "print(eval(\"1+2\"))\n",
    "print(eval(\"print('hi')\"))# 물론 큰따옴표와 작은 따옴표 규칙은 잘 구분하여 사용하여야 한다.\n"
   ]
  },
  {
   "cell_type": "code",
   "execution_count": 90,
   "id": "8e02d9d7",
   "metadata": {},
   "outputs": [
    {
     "name": "stdout",
     "output_type": "stream",
     "text": [
      "[1, 4]\n",
      "[1, 4]\n"
     ]
    }
   ],
   "source": [
    "# 양수에 해당하는 자료만 출력하고자 한다. \n",
    "data = [-3, 1, 0 ,-5 ,4]\n",
    "print(list(filter(lambda x : x > 0, data)))\n",
    "print([ i for i in data if i > 0])\n",
    "\n"
   ]
  },
  {
   "cell_type": "code",
   "execution_count": 102,
   "id": "e91b698c",
   "metadata": {},
   "outputs": [
    {
     "name": "stdout",
     "output_type": "stream",
     "text": [
      "1\n",
      "3\n",
      "3\n",
      "8\n"
     ]
    }
   ],
   "source": [
    "# 클래스\n",
    "# 딥러닝을 개발하기 위한 환경(딥러닝 프레임워크, 텐서플로나 파이토치 등등)이 있다. 파이토치에선 필수다.\n",
    "# 특히 영상을 다룰때에 파이토치가 필요하다.\n",
    "# 클래스는 초보가 처음 배우기에 상당히 어렵다. 클래스로부터 객체가 만들어진다. 객체를 이용하여 프로그램동작을 표현할 수 있다.\n",
    "\n",
    "# def add(num):\n",
    "#     res += num\n",
    "#     return res\n",
    "# print(add(1))\n",
    "#res가 정의되어있지 않기에 애러가 나게 되었다. 애러가 나지 않게하기 위해 res를 초기화하는 구문을 추가하는 방식으로 고칠 수 있다.\n",
    "res2 = 0\n",
    "def add2(num):\n",
    "    global res2\n",
    "    res2 += num\n",
    "    return res2\n",
    "print(add2(1))\n",
    "# res2는 분명 정의되었는데 없다고 나온다. 접근할 수 없다고 떴다. 함수 외부에 있으면 특별한 명령어 없이는 사용이 불가하다.\n",
    "# global은 이때 사용한다. 함수 외부의 변수를 참조하기 위해서 사용한다. 전역변수로 만들어서 참조하는 것이다.\n",
    "def add3(num):\n",
    "    res3 = 0\n",
    "    res3 += num\n",
    "    return res3\n",
    "print(add3(3))\n",
    "#만약 여기에 누적합을 추가하고 싶다면 어떻게 해야 할까?\n",
    "#여기서는 내부에 초기화를 하고 시작하기에 누적합은 불가하다.\n",
    "res35 = 0\n",
    "def add35(num):\n",
    "    global res35\n",
    "    res35 += num\n",
    "    return res35\n",
    "print(add35(3))\n",
    "print(add35(5))#글로벌 변수인 res35의 값도 변하기 때문에 3+5인 8이 출력이 되었다. 기존의 값이 저장되는 것이다.\n",
    "# 일반적으로 스택 시스템에 사용한다.\n",
    "\n"
   ]
  },
  {
   "cell_type": "code",
   "execution_count": null,
   "id": "d886c2f3",
   "metadata": {},
   "outputs": [],
   "source": [
    "res4 = 0\n",
    "def add4(num):\n",
    "    global res4\n",
    "    res4 += num\n",
    "    return res4\n",
    "print(add4(3))\n",
    "#함수는 독립적이다. 동일한 기능을 띄고 있더라도 내부 변수의 이름이 같더라도 함수로 독립되어있는 한 둘은 아예 다르다. \n",
    "# 즉 자동차가 같은 설계도로 만들어져 있어도 두 자동차는 별개의 자동차이다. \n",
    "# 동일한 기능을 수행하는 함수가 여러 개 있어야 할 때 틀을 만들어 놓으면 쉽게 함수들을 제작할 수 있다는 뜻이다."
   ]
  },
  {
   "cell_type": "code",
   "execution_count": 108,
   "id": "2b164df3",
   "metadata": {},
   "outputs": [
    {
     "name": "stdout",
     "output_type": "stream",
     "text": [
      "단팥\n"
     ]
    }
   ],
   "source": [
    "class 붕어빵기계:\n",
    "    def __init__(self, 내용물):# def뒤에 이름이 들어가는데 __init__ 이것은 객체를 초기화하는 기능을 담당한다.\n",
    "        self.틀= 내용물 # 일종의 붕어빵 틀로 생각하자.\n",
    "    def 굽기(self,재료):\n",
    "        self.틀+=재료\n",
    "        return self.res#클래스 뒤에 함수가 두 개가 존재하고 있다. \n",
    "붕어빵1호 = 붕어빵기계(\"\")\n",
    "붕어빵2호 = 붕어빵기계(\"단팥\")\n",
    "print(붕어빵2호.틀)#이와 같이 생성된 것들의 내용물을 볼 수 있다.\n",
    "# 함수 __init__ 기본적으로 호출이 되며 인수가 init로 전달이 된다. self는 자기 자신이다. \n",
    "# 클래스는 유사한 기능을 띄는 객체를 여러개 만들기 위해서 만들며 프로그램 보수를 편하게 만든다. "
   ]
  },
  {
   "cell_type": "code",
   "execution_count": 115,
   "id": "48f4c0cf",
   "metadata": {},
   "outputs": [
    {
     "name": "stdout",
     "output_type": "stream",
     "text": [
      "계산기가 만들어질 때(객체 생성) 자동으로 호출된다.\n",
      "사람이 태어날 때 자동으로 호출된다.\n",
      "홍길동\n",
      "사람이 태어날 때 자동으로 호출된다.\n",
      "임꺽정\n"
     ]
    }
   ],
   "source": [
    "class Calc:# class명은 첫문자를 대문자로 작성하는 것이 통상적인 약속이다.\n",
    "    def __init__(self):\n",
    "        print(\"계산기가 만들어질 때(객체 생성) 자동으로 호출된다.\")\n",
    "Calc() #init는 부르지도 않았는데 호출되어졌다. 만들어지는 시점에 자동으로 호출된 것이다.이니셜라이즈의 약자이다. \n",
    "#초기화 함수라고 하며 자동으로 초기화하여 가동한다.\n",
    "#즉 init는 무조건 호출이 되어진다. init부는 모든 객체가 공통으로 행해야 하는 작업을 기재한다. \n",
    "\n",
    "class Man:\n",
    "    def __init__(self, n):\n",
    "        print(\"사람이 태어날 때 자동으로 호출된다.\")\n",
    "        # self.이름 = \"홍길동\" 만약 바로 이름을 이렇게 기입하면 모든 사람의 이름은 홍길동이 된다.\n",
    "        self.이름= n # 즉 변수를 별도로 지정해서 다른 이름을 만드는 것도 가능하다.\n",
    "    \n",
    "man1 = Man(\"홍길동\")\n",
    "print(man1.이름)\n",
    "man2 = Man(\"임꺽정\")\n",
    "print(man2.이름)\n",
    "# 객체가 방금 두 개가 생성되었다. 객체는 변수명이 동일해도 서로 다른 객체가 만들어진다. \n",
    "# 클래스 하나로 수 많은 객체들을 생성할 수 있으며 각각의 객체들은 독립적이다.\n",
    "\n",
    "\n"
   ]
  },
  {
   "cell_type": "code",
   "execution_count": 135,
   "id": "457ce38e",
   "metadata": {},
   "outputs": [
    {
     "name": "stdout",
     "output_type": "stream",
     "text": [
      "동물이 태어날 때 자동으로 호출된다.\n",
      "man\n",
      "딥러닝 를 공부한다.\n"
     ]
    },
    {
     "data": {
      "text/plain": [
       "'딥러닝'"
      ]
     },
     "execution_count": 135,
     "metadata": {},
     "output_type": "execute_result"
    }
   ],
   "source": [
    "class Animal:\n",
    "    def __init__(self, sp = \"dog\"):\n",
    "        print(\"동물이 태어날 때 자동으로 호출된다.\")\n",
    "        self.jong= sp \n",
    "    def eat(self, feed):\n",
    "        print(feed,\"를 먹는다.\")\n",
    "        self.food = feed\n",
    "    def study(self, sub):\n",
    "        print(sub,\"를 공부한다.\")\n",
    "        self.categories = sub\n",
    "        \n",
    "p1 = Animal(\"man\")\n",
    "print(p1.jong)# 객체는 정해놓으면 그 객체이름으로 표시되며 아닐 경우 디폴트로 표시된다.\n",
    "p1.study(\"딥러닝\")\n",
    "p1.categories #현재와 같은 방식으로 밑의 함수의 자료를 변경하였다."
   ]
  },
  {
   "cell_type": "code",
   "execution_count": 136,
   "id": "5d240d68",
   "metadata": {},
   "outputs": [
    {
     "name": "stdout",
     "output_type": "stream",
     "text": [
      "동물이 태어날 때 자동으로 호출된다.\n",
      "국어 를 공부한다.\n",
      "생선 를 먹는다.\n"
     ]
    },
    {
     "data": {
      "text/plain": [
       "'생선'"
      ]
     },
     "execution_count": 136,
     "metadata": {},
     "output_type": "execute_result"
    }
   ],
   "source": [
    "c1=Animal(\"고양이\")\n",
    "c1.study(\"국어\") # 현 클래스는 동물클래스이다. 동물 클래스 내부에서 공부 매서드를 정의하고 있는데 일반적으로는 잘못된 객체지정이라고 할 수 있다.\n",
    "c1.eat(\"생선\")\n",
    "c1.food"
   ]
  },
  {
   "cell_type": "code",
   "execution_count": 147,
   "id": "6f569f6d",
   "metadata": {},
   "outputs": [
    {
     "name": "stdout",
     "output_type": "stream",
     "text": [
      "5\n",
      "4\n",
      "5\n",
      "c\n",
      "a\n",
      "8\n",
      "3\n",
      "3.142\n",
      "6\n",
      "<class 'str'>\n",
      "[('a', 'd'), ('c', 'b')]\n"
     ]
    }
   ],
   "source": [
    "# 값에 대한 유용한 함수들\n",
    "print(len(\"hello\"))#문자의 길이를 알려준다.\n",
    "print(len([\"t\",\"e\",\"a\",\"m\"]))#리스트나 튜플의 내부갯수를 알려준다.\n",
    "print(max([1,2,3,4,5]))#맥스함수는 최댓값을 알려준다.\n",
    "print(max([\"a\",\"b\",\"c\"]))#문자도 가능하다. 아스키코드값으로 큰 것이 표시된다.\n",
    "print(min([\"a\",\"b\",\"c\"]))#최소는 아스키코드값중 작은 것이 표시된다.\n",
    "print(pow(2,3))#2의 3제곱을 나타낸다. 사실 2**3으로 표시해도 무난하다.\n",
    "print(round(3.14))#반올림을 하는 기능이다.\n",
    "print(round(3.141592,3))#소수 3째자리까지 기재하라는 명령이다.\n",
    "print(sum([1,2,3]))# 내부의 내용물을 더하라는 명령어이다.\n",
    "print(type(a))#내부에 기재된 자료타입을 알려준다.\n",
    "print(list(zip(['a','c'],['d','b'])))#두 개의 리스트를 압축한다.\n"
   ]
  },
  {
   "cell_type": "code",
   "execution_count": 151,
   "id": "eea97e6c",
   "metadata": {},
   "outputs": [
    {
     "name": "stdout",
     "output_type": "stream",
     "text": [
      "127 days, 0:00:00\n",
      "127\n",
      "0\n",
      "1\n"
     ]
    }
   ],
   "source": [
    "# 날짜 시간\n",
    "import datetime\n",
    "d1 = datetime.date(2023,9,4)\n",
    "d2 = datetime.date(2024,1,9)#이제부터 단순 숫자가 아니라 날짜로 인식하게 된다.\n",
    "print(d2-d1)#즉 시간까지 빼서 일수로 체크 가능하다.\n",
    "print((d2-d1).days)#데이를 뒤에 붙여서 숫자만 추출하는 것도 가능하다.\n",
    "print(d1.weekday())# 여기서 0은 월요일이다. 화요일은 1이 된다. 일요일은 6이다. \n",
    "print(d1.isoweekday())# iso를 붙이면 월요일을 1로 반영한다. "
   ]
  },
  {
   "cell_type": "code",
   "execution_count": 157,
   "id": "a1337f71",
   "metadata": {
    "scrolled": false
   },
   "outputs": [
    {
     "name": "stdout",
     "output_type": "stream",
     "text": [
      "0\n",
      "1\n",
      "2\n",
      "3\n",
      "4\n",
      "5\n",
      "6\n",
      "7\n",
      "8\n",
      "9\n",
      "10.0068039894104\n"
     ]
    }
   ],
   "source": [
    "import time\n",
    "time.time()#앞의 타임은 모듈, 뒤의 타임은 함수 이름이다. 1970년 기준하여 현재까지의 시간을 초단위로 나타낸것이다. \n",
    "# 사용법은 우리가 작성한 코드를 실행시간을 확인할때 사용한다. \n",
    "s = time.time()\n",
    "for i in range(10):\n",
    "    print(i)\n",
    "    time.sleep(1)#시간을 지연시키는 기능이다. \n",
    "e = time.time() - s\n",
    "print(e)\n",
    "#이와 같이 시작과 끝의 위치를 정해놓고 시간차를 계산할 수 있다.\n",
    "#또한 슬립을 걸 수도 있다. 타임슬립이다. 생각보다 자주 쓰인다. \n",
    "#웹사이트 페이지를 요청할 때 사진이 많으면 시간이 걸리는데 웹페이지 요청코드 가동 이후 코드를 바로 실행시켜서 안될때 쓴다. \n",
    "#텍스트 데이터 크롤링은 빠르다. 코드는 빠르지만 로딩은 느리다. "
   ]
  },
  {
   "cell_type": "code",
   "execution_count": 158,
   "id": "90cebfd2",
   "metadata": {},
   "outputs": [
    {
     "name": "stdout",
     "output_type": "stream",
     "text": [
      "2\n",
      "24\n"
     ]
    }
   ],
   "source": [
    "import math\n",
    "print(math.gcd(8,6))#최대공약수\n",
    "print(math.lcm(8,6))#최소공배수\n",
    "# 수학 모듈을 가져오는 것이다. \n",
    "# 최대공약수와 최소공배수는 평상시에는 잘 안쓰이지만 프로그래밍에서는 상당히 많이 쓰인다.\n",
    "# 로봇 프로그래밍에서 자주 사용한다. "
   ]
  },
  {
   "cell_type": "code",
   "execution_count": 4,
   "id": "8cd75ebc",
   "metadata": {},
   "outputs": [
    {
     "name": "stdout",
     "output_type": "stream",
     "text": [
      "abc\n",
      "cdec\n"
     ]
    }
   ],
   "source": [
    "listies = [ 'abc' , 'cdec' , 'efg']\n",
    "for i in listies:\n",
    "    if i.endswith('c'):\n",
    "        print(i)"
   ]
  },
  {
   "cell_type": "code",
   "execution_count": null,
   "id": "fea68e5b",
   "metadata": {},
   "outputs": [],
   "source": []
  }
 ],
 "metadata": {
  "kernelspec": {
   "display_name": "Python 3 (ipykernel)",
   "language": "python",
   "name": "python3"
  },
  "language_info": {
   "codemirror_mode": {
    "name": "ipython",
    "version": 3
   },
   "file_extension": ".py",
   "mimetype": "text/x-python",
   "name": "python",
   "nbconvert_exporter": "python",
   "pygments_lexer": "ipython3",
   "version": "3.11.4"
  }
 },
 "nbformat": 4,
 "nbformat_minor": 5
}
