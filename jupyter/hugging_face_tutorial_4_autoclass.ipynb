{
 "cells": [
  {
   "cell_type": "code",
   "execution_count": 1,
   "id": "56eea34a",
   "metadata": {},
   "outputs": [],
   "source": [
    "# 오토클래스\n",
    "# 오토클래스는 주어진 체크포인트에서 올바른 아키텍처를 자동으로 추론하여 불러온다. \n",
    "# 오토클래스를 사용하면 모델을 처음부터 학습하는데 시간과 리소스를 투입하지 않아도 된다. \n",
    "# 체크포인트에 구애받지 않는 코드를 생성한다는 것은 코드가 한 체크포인트에서 작동하면 아키텍처가 다르더라도 \n",
    "# 다른 체크포인트에서도 작동한다는 것을 의미한다. \n",
    "#\n",
    "# 아키텍처는 모델의 골격(기반)을 의미하고 체크포인트는 주어진 아키텍처에 대한 가중치(파생)이다. \n",
    "# 예를 들면 BERT는 아키텍쳐이고 bert-base-uncased는 체크포인트이다. 모델은 아키텍처일 수 있고 체크포인트일 수 있다. \n",
    "# 이 튜토리얼에서는 5개를 로드할 것이다.(토크나이저, 이미지 프로세서, 특징추출기, 프로세서, 모델)"
   ]
  },
  {
   "cell_type": "code",
   "execution_count": null,
   "id": "ddb788a7",
   "metadata": {},
   "outputs": [],
   "source": [
    "# 오토 토크나이저\n",
    "# 거의 모든 자연어처리 작업은 토크나이저로 시작된다. \n",
    "# 토크나이저는 사용자의 입력을 모델에서 처리할 수 있는 형식으로 변환한다. \n",
    "from transformers import AutoTokenizer\n",
    "\n",
    "tokenizer = AutoTokenizer.from_pretrained(\"bert-base-uncased\")\n"
   ]
  }
 ],
 "metadata": {
  "kernelspec": {
   "display_name": "Python 3 (ipykernel)",
   "language": "python",
   "name": "python3"
  },
  "language_info": {
   "codemirror_mode": {
    "name": "ipython",
    "version": 3
   },
   "file_extension": ".py",
   "mimetype": "text/x-python",
   "name": "python",
   "nbconvert_exporter": "python",
   "pygments_lexer": "ipython3",
   "version": "3.11.5"
  }
 },
 "nbformat": 4,
 "nbformat_minor": 5
}
