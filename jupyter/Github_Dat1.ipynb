{
 "cells": [
  {
   "cell_type": "code",
   "execution_count": 1,
   "id": "89e86d5c",
   "metadata": {},
   "outputs": [],
   "source": [
    "# 깃허브 강의 1일차."
   ]
  },
  {
   "cell_type": "code",
   "execution_count": 3,
   "id": "80c2dc15",
   "metadata": {},
   "outputs": [],
   "source": [
    "# 터미널 설치\n",
    "# https://git-scm.com/download/win\n",
    "# 설정을 바꿀 필요 없이 바로 설치하자.\n",
    "# 비주얼 스튜디오 코드는 설치할 때 순서가 존재한다. 여기에 그 특이사항을 기재한다.\n",
    "# 추가작업 선택 나올때 기타부분에 모든 체크를 눌러야 한다. "
   ]
  },
  {
   "cell_type": "code",
   "execution_count": 4,
   "id": "7f9622fe",
   "metadata": {},
   "outputs": [],
   "source": [
    "# 컨트롤 백틱(물결무늬)를 누르면 터미널이 뜬다. 그때 플러스 옆에 있는 select default profile을 들어가면\n",
    "# 깃대쉬를 설정하면 초록, 분홍, 노랑의 색의 터미널이 뜬다.\n",
    "# user@DESKTOP-EDQITTR MINGW64 ~/Downloads/Github\n",
    "# $ pwd\n",
    "# /c/Users/user/Downloads/Github\n",
    "# 열어놓은 파일의 위치를 확인한다.\n",
    "# https://git-scm.com/book/en/v2 깃북. 깃허브 사용법 적힌 책이다.\n",
    "# 깃은 모든 컴퓨터에 모든 과거의 기록 포함 자료를 분산해서 저장하는 시스템을 활용한다. \n",
    "# 저장을 한 이후 원격저장소에 업데이트를 시킨다. 그 원격 저장소는 깃허브이다. 컴퓨터는 이 컴퓨터일 수 있고\n",
    "# 집에 있는 컴퓨터일 수도 있다.\n",
    "# 깃과 깃허브는 다르다. 프로그램이 깃이고 깃을 업데이터하는 sns같은 공간을 깃허브라고 한다.\n",
    "# 깃은 여러 과거의 기록을 누적하는 방식으로 동작한다.\n",
    "# 단계는 워킹 디렉토리, 스테이지 에어리아, 깃 디렉토리 단계로 진행된다. \n",
    "# 워킹 디렉토리는 클라이언트 작업공간이다. 비유하자면 무대 뒤 로비이다.\n",
    "# 스테이지 에어리아는 무대이다. 워킹 디렉토리에서 add로 옮긴다.\n",
    "# 깃 디렉토리는 촬영 카메라이다. 스테이지 에어리아에서 commit으로 옮긴다."
   ]
  },
  {
   "cell_type": "code",
   "execution_count": 5,
   "id": "1af118c3",
   "metadata": {},
   "outputs": [],
   "source": [
    "# CLI\n",
    "# 컴퓨터와 사람이 소통하기 위해서는  컴퓨터와 마우스로 소통해왔다.\n",
    "# 과거에는 파일을 이동시키는 구식 방식을 사용했다. 이제는 그 방법을 사용할 것이다. \n",
    "# 깃 대쉬는 일종의 터미널이다. \n",
    "# 파워셸은 일종의 기본 프로그램이다. 리눅스 명령을 기반으로 동작한다. \n",
    "# 웬만하면 CLI의 환경을 쓴다면 영어를 쓰는 것이 좋다. 띄어쓰기도 지양한다.\n"
   ]
  },
  {
   "cell_type": "code",
   "execution_count": 6,
   "id": "e2f6344f",
   "metadata": {},
   "outputs": [],
   "source": [
    "# 대체로 ppt는 공돌이가 하고 발표를 문돌이가 한다.\n",
    "# 개발자 시장에서는 이게 통하지 않는다.  선배이름 뺀다는 것이 명확하게 가능하다.\n",
    "# 언제 업로드가 되는지 데이터로 관리가 되기 때문에 거짓으로 포장하는 것이 불가하다.\n",
    "# 프로젝트들을 깃헙으로 본다. 깃헙으로 개발경력, 관심분야등을 보게 된다.\n",
    "# 이 코드에서 무엇을 배웠는지 학습을 했는지를 기록해야 한다.\n",
    "# 먼 미래에 코드를 통해서 문제를 해결하고자 하는 사람들이 프로그래머이다. \n",
    "# 코드를 통해서 사회의 여러가지 문제를 해결해야 한다. 이 과정이 중요하다.\n",
    "# 깃헙의 기록을 어떻게 할 것인가? 그것이 이번에 배울 것이다. \n",
    "# 개발자들은 마크다운을 많이 사용한다. 현재 주피터 노트북에 적는 것처럼 사용하는 용도이다.\n",
    "# 마크다운을 사용해서 앞으로 기록을 하는 습관을 길러보자."
   ]
  },
  {
   "cell_type": "markdown",
   "id": "2ae2e5a6",
   "metadata": {},
   "source": [
    "마크다운으로 사용하기"
   ]
  },
  {
   "cell_type": "code",
   "execution_count": null,
   "id": "c6725345",
   "metadata": {},
   "outputs": [],
   "source": [
    "# readme를 쓰는 것은 필수이다. 어떻게 제작했고 어떻게 개선했고 어떻게 극복했는지 작성한다. "
   ]
  }
 ],
 "metadata": {
  "kernelspec": {
   "display_name": "Python 3 (ipykernel)",
   "language": "python",
   "name": "python3"
  },
  "language_info": {
   "codemirror_mode": {
    "name": "ipython",
    "version": 3
   },
   "file_extension": ".py",
   "mimetype": "text/x-python",
   "name": "python",
   "nbconvert_exporter": "python",
   "pygments_lexer": "ipython3",
   "version": "3.11.4"
  }
 },
 "nbformat": 4,
 "nbformat_minor": 5
}
