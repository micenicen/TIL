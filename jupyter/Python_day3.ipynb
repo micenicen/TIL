{
 "cells": [
  {
   "cell_type": "code",
   "execution_count": 5,
   "id": "9e694431",
   "metadata": {},
   "outputs": [
    {
     "name": "stdout",
     "output_type": "stream",
     "text": [
      "{' ', 'e', 'r', 'l', 'd', 'n', 'i', 'g', 'p', 'a'}\n",
      "False\n",
      "{1, 2, 3}\n"
     ]
    }
   ],
   "source": [
    "# 세트 자료구조\n",
    "# 중복된 자료를 제외할 때에 쓰인다. \n",
    "# 로또문제를 자연스럽게 해결하기 위해서 세트를 사용하는 방법도 존재한다.\n",
    "new_set = set(\"deep learning\") #세트는 기본적으로 중괄호로 묶이게 되며 각각의 요소가 중복없이 나오게 된다.\n",
    "print(new_set)#중복은 자연스럽게 제거한다.\n",
    "# 딕셔너리와 차이점은 키와 값이 있는 딕셔너리와 달리 세트는 중괄호에 데이터만 담겨있다.\n",
    "#세트는 순서가 존재하지 않는다. 즉 new_set[0]같이 위치참조가 불가하다. \n",
    "print('x' in new_set) # 세트 내부에 요소가 존재하는지에 대해서 확인하는 용도로 in을 사용할 수 있다.\n",
    "print(set([1,2,3,3])) #만약 괄호 안에 그냥 입력하면 오류가 발생한다. 리스트나 튜플을 참조해서 세트로 바꾸는 것이다. 이후 중복은 제거된다.\n",
    "print(list(new_set)) # 튜플이나 리스트로 존재한다.\n"
   ]
  },
  {
   "cell_type": "code",
   "execution_count": 11,
   "id": "4e3b5097",
   "metadata": {},
   "outputs": [
    {
     "name": "stdout",
     "output_type": "stream",
     "text": [
      "{1, 2, 3, 4, 5, 6}\n",
      "{1, 2}\n",
      "{0, 1, 2, 3, 4}\n",
      "{0, 1, 2, 3, 4, 8, 9}\n",
      "{0, 1, 2, 3, 4, 8}\n"
     ]
    }
   ],
   "source": [
    "#교집함과 합집합\n",
    "s1 = {1,2,3,4}\n",
    "s2 = {3,4,5,6}\n",
    "print(s1.union(s2)) # 합집합\n",
    "print(s1.difference(s2))\n",
    "s1.add(0) #추가하되 순서는 존재하지 않는다.\n",
    "print(s1) \n",
    "s1.update([3,8,9]) #추가는 업데이트로 한다.\n",
    "print(s1)\n",
    "s1.remove(9) #제거도 가능하다.\n",
    "print(s1)\n",
    "#여담으로 세트는 비교를 하는 것이 가능하다. 여기서는 일치여부를 본다.\n",
    "print(s1 == s2)\n",
    "len(s1)#길이를 측정하는 것도 가능하다.\n",
    "#주의할 점으로 pop()함수를 사용하면 세트 내의 랜덤한 내용이 삭제된다. discard를 통해 자신이 원하는 자료를 삭제할 수 있다."
   ]
  },
  {
   "cell_type": "code",
   "execution_count": 13,
   "id": "4cd3aa83",
   "metadata": {},
   "outputs": [
    {
     "name": "stdout",
     "output_type": "stream",
     "text": [
      "True\n",
      "[1, 2, 3, 1, 2, 3, 1, 2, 3]\n"
     ]
    }
   ],
   "source": [
    "# 시퀀스 객체\n",
    "# 순서가 있는 객체는 시퀀스 객체라고 한다. 리스트, 레인지, 튜플, 스트링 같은 계열들이 시퀀스이다. 딕셔너리와 세트는 아니다. \n",
    "# 시퀀스 객체는 in연산자를 사용하여 내부에 대상이 있는지 확인이 가능하다.\n",
    "a = [1,2,3]\n",
    "print(3 in a)\n",
    "# 또한 시퀀스 객체는 숫자를 곱해서 숫자만큼 반복시킬 수도 있다.\n",
    "print(a*3)"
   ]
  },
  {
   "cell_type": "code",
   "execution_count": 15,
   "id": "005d8c05",
   "metadata": {},
   "outputs": [
    {
     "name": "stdout",
     "output_type": "stream",
     "text": [
      "pass\n"
     ]
    }
   ],
   "source": [
    "# 반복문과 조건문\n",
    "# 프로그래밍에 필요한 요소 중 하나로 \n",
    "# 반복문은 여러가지가 존재하지만 일반적으로 for문과 while문으로 나뉘게 된다.\n",
    "# if 문은 조건문으로 불 연산을 감지하여 결과에 따라 기존에 약속된 조치를 취하는 역할을 한다.\n",
    "# 데이터를 전처리하는 과정에서 많이 사용된다. 데이터 전처리는 수집한 데이터를 가공하는 과정을 말한다. \n",
    "acc = 95\n",
    "if acc > 90 : #True와 False로 나눌 수 있는 요소를 if문으로 처리한다.\n",
    "    print(\"pass\")\n",
    "else: #사실 여기서는 else를 생략하는 것도 가능하다.\n",
    "    print(\"fail\")"
   ]
  },
  {
   "cell_type": "code",
   "execution_count": 17,
   "id": "f7e3e462",
   "metadata": {},
   "outputs": [
    {
     "name": "stdout",
     "output_type": "stream",
     "text": [
      "fail\n"
     ]
    }
   ],
   "source": [
    "# 논리연산자.\n",
    "if acc < 90 and acc<=100 : #and or을 통해서 그리고, 또는 을 붙이는 것이 가능하다. \n",
    "    print(\"pass\")\n",
    "else: #사실 여기부분은 필요가 없다. \n",
    "    print(\"fail\")\n",
    "    "
   ]
  },
  {
   "cell_type": "code",
   "execution_count": 18,
   "id": "0841d06e",
   "metadata": {},
   "outputs": [
    {
     "name": "stdout",
     "output_type": "stream",
     "text": [
      "pass\n",
      "king zzang\n",
      "next dtage\n"
     ]
    }
   ],
   "source": [
    "if acc>90 : #여기서 acc가 09 초과하는 값이면 위의 식은 True로 바뀌는 것과같다.\n",
    "print(\"pass\")\n",
    "    print(\"king zzang\")\n",
    "print('next dtage')# 이 부분은 종속되어있지 않는 파이썬이 특징을 보여준다."
   ]
  },
  {
   "cell_type": "code",
   "execution_count": 22,
   "id": "e63ef415",
   "metadata": {},
   "outputs": [
    {
     "name": "stdout",
     "output_type": "stream",
     "text": [
      "pass\n"
     ]
    }
   ],
   "source": [
    "if True and True: # 조건은 두 가지가 모두 true일때 시작한다. \n",
    "    print('pass')\n",
    "if True and False: # 또는 1을 true라고 하고 0을false로 만든다.\n",
    "    print('pass') "
   ]
  },
  {
   "cell_type": "code",
   "execution_count": null,
   "id": "5fd076bb",
   "metadata": {},
   "outputs": [],
   "source": [
    "if (1 > 0):\n",
    "    if (0 < 5) :\n",
    "        print('pass')\n",
    "        "
   ]
  },
  {
   "cell_type": "code",
   "execution_count": null,
   "id": "5fc5c0c6",
   "metadata": {},
   "outputs": [],
   "source": [
    "x = 1\n",
    "if x%2(냐머지가 얼마나 된건지)"
   ]
  },
  {
   "cell_type": "code",
   "execution_count": 23,
   "id": "4414ecbf",
   "metadata": {},
   "outputs": [
    {
     "name": "stdout",
     "output_type": "stream",
     "text": [
      "even\n"
     ]
    }
   ],
   "source": [
    "#또 다른 문제\n",
    "x = 0\n",
    "if x: # 1==true, 0,==false\n",
    "    print('odd')\n",
    "else :\n",
    "    (print('even'))"
   ]
  },
  {
   "cell_type": "markdown",
   "id": "1e37cecc",
   "metadata": {},
   "source": [
    "x = 1\n",
    "if x:\n",
    "    print(1입니다.)\n",
    "    #재밌는 점은 정수에서 0점이 아닐 경우 무조건 1로 취급한다.\n"
   ]
  },
  {
   "cell_type": "code",
   "execution_count": null,
   "id": "e2b3bef8",
   "metadata": {},
   "outputs": [],
   "source": [
    "x = 1\n",
    "if x == 1:\n",
    "x == 1 else 0"
   ]
  },
  {
   "cell_type": "code",
   "execution_count": 27,
   "id": "c14a0973",
   "metadata": {},
   "outputs": [
    {
     "name": "stdout",
     "output_type": "stream",
     "text": [
      "1\n"
     ]
    }
   ],
   "source": [
    "x = 1\n",
    "a = x if x == 1 else 0\n",
    "print(a)"
   ]
  },
  {
   "cell_type": "code",
   "execution_count": 29,
   "id": "e301bfa6",
   "metadata": {},
   "outputs": [
    {
     "name": "stdout",
     "output_type": "stream",
     "text": [
      "True\n"
     ]
    }
   ],
   "source": [
    "if 'breaktime':\n",
    "    print(\"True\")#문자도 True로 본다. \n",
    "if '':\n",
    "    print(\"True\") #대신 빈 문자열은 거짓으로 본다."
   ]
  },
  {
   "cell_type": "code",
   "execution_count": 30,
   "id": "0d377a66",
   "metadata": {},
   "outputs": [
    {
     "name": "stdout",
     "output_type": "stream",
     "text": [
      "not empty\n"
     ]
    }
   ],
   "source": [
    "if []:\n",
    "    print(\"empty\")#리스트에 내부 구성품이 아예 없으면가동하지 않는다. \n",
    "if [1 , 2]:\n",
    "    print(\"not empty\")#내부 구성품이 있기에 프린트 출력이 이루어진다. "
   ]
  },
  {
   "cell_type": "code",
   "execution_count": 31,
   "id": "dbc49491",
   "metadata": {},
   "outputs": [
    {
     "name": "stdout",
     "output_type": "stream",
     "text": [
      "empty\n"
     ]
    }
   ],
   "source": [
    "#None의 의미\n",
    "#none은 없다 라는 의미이다. \n",
    "if None:\n",
    "    print(\"msg\")#출력이 안되는 이유는 넌 자체가 폴스의 값이기 때문이다.\n",
    "\n",
    "if ():\n",
    "    print('not empty')\n",
    "else:\n",
    "    print('empty')"
   ]
  },
  {
   "cell_type": "code",
   "execution_count": null,
   "id": "1da76617",
   "metadata": {},
   "outputs": [],
   "source": [
    "# if 0 < x and x < 10같은 것도 가능하지만 if 0 < x < 10:같이 이어서 적는 것이 파이썬에서 가능하다."
   ]
  },
  {
   "cell_type": "code",
   "execution_count": 32,
   "id": "3c0a960a",
   "metadata": {},
   "outputs": [],
   "source": [
    "# not은 부정의 의미이다. if문에서도 사용 가능하다.\n",
    "if not 0:\n",
    "    pass\n",
    "else:\n",
    "    print(\"else\")"
   ]
  },
  {
   "cell_type": "code",
   "execution_count": null,
   "id": "e30b336e",
   "metadata": {},
   "outputs": [],
   "source": [
    "x = 1\n",
    "if x == 0:\n",
    "    print('0')\n",
    "elif x == -1: # elif는 if외의 다른 조건도 보고 싶을 때 사용하는 용도이다.\n",
    "    print(\"-1\")\n",
    "else:\n",
    "    print(\"999\")"
   ]
  },
  {
   "cell_type": "code",
   "execution_count": 34,
   "id": "9e654fa3",
   "metadata": {},
   "outputs": [
    {
     "name": "stdout",
     "output_type": "stream",
     "text": [
      "1\n",
      "4\n",
      "5\n",
      "4\n",
      "3\n",
      "2\n"
     ]
    }
   ],
   "source": [
    "# for 반복문\n",
    "# for 반복문은 반복횟수가 정해져 있을 경우에 사용한다.\n",
    "for i in range(1,5,3): #일반적으로 증하하는 방식으로 레인지를 설정하는 것이 좋다.\n",
    "    print(i)\n",
    "for i in range(5,1,-1):\n",
    "    print(i)"
   ]
  },
  {
   "cell_type": "code",
   "execution_count": 35,
   "id": "41acab91",
   "metadata": {},
   "outputs": [
    {
     "name": "stdout",
     "output_type": "stream",
     "text": [
      "hello\n",
      "hi\n"
     ]
    }
   ],
   "source": [
    "# 문자열을 for 에 적으면 문자 하나하나씩 인지되어진다.\n",
    "for c in [\"hello\",\"hi\"]:\n",
    "    print(c)"
   ]
  },
  {
   "cell_type": "code",
   "execution_count": 36,
   "id": "9b1add41",
   "metadata": {},
   "outputs": [
    {
     "name": "stdout",
     "output_type": "stream",
     "text": [
      "h\n",
      "e\n",
      "l\n",
      "l\n",
      "o\n",
      "<reversed object at 0x0000021D2B952AA0>\n"
     ]
    }
   ],
   "source": [
    "for c in \"hello\":\n",
    "    print(c)\n"
   ]
  },
  {
   "cell_type": "code",
   "execution_count": 37,
   "id": "b9071037",
   "metadata": {},
   "outputs": [
    {
     "name": "stdout",
     "output_type": "stream",
     "text": [
      "O\n",
      "L\n",
      "L\n",
      "E\n",
      "H\n"
     ]
    }
   ],
   "source": [
    "for c in reversed(\"HELLO\"):\n",
    "    print(c)"
   ]
  },
  {
   "cell_type": "code",
   "execution_count": 38,
   "id": "5c83a492",
   "metadata": {},
   "outputs": [
    {
     "name": "stdout",
     "output_type": "stream",
     "text": [
      "0\n",
      "1\n",
      "2\n",
      "3\n",
      "4\n",
      "5\n",
      "6\n",
      "7\n",
      "8\n",
      "9\n"
     ]
    }
   ],
   "source": [
    "#While문을 사용하는 방법\n",
    "#while문은 문장이 특정조건에 다다르기 전까지 반복하라고 명령한 것을 말한다. \n",
    "x = 0\n",
    "while x < 10:\n",
    "    print(x)\n",
    "    x +=1 #while은 브레이크가 없으면 메모리를 무한으로 잡아먹는 작업을 거쳐서 랙이 걸리게 된다. \n",
    "    #while운용에 제약을 거는 것이 필요하다. "
   ]
  },
  {
   "cell_type": "code",
   "execution_count": 39,
   "id": "950736ab",
   "metadata": {},
   "outputs": [
    {
     "name": "stdout",
     "output_type": "stream",
     "text": [
      "1\n",
      "2\n",
      "3\n",
      "4\n",
      "5\n",
      "6\n",
      "7\n",
      "8\n",
      "9\n"
     ]
    }
   ],
   "source": [
    "# 브레이크 기능\n",
    "i = 1\n",
    "while True:\n",
    "    print(i)\n",
    "    i+=1\n",
    "    if i == 10:\n",
    "        break # 브레이크는 while문을 정지시키는 요소이다. 특히 while True를 쓴다면 반드시 빠져나가야 하는 브레이크가 필요하다. "
   ]
  },
  {
   "cell_type": "code",
   "execution_count": 41,
   "id": "02d8026c",
   "metadata": {},
   "outputs": [
    {
     "name": "stdout",
     "output_type": "stream",
     "text": [
      "5\n",
      "6\n",
      "7\n",
      "8\n",
      "9\n"
     ]
    }
   ],
   "source": [
    "# 컨티뉴의 역할\n",
    "i = 1\n",
    "while True: #반복횟수가 정해져있지 않을 경우에 while True를 쓴다. 즉 반복횟수를 모르는 상태인 것이다.\n",
    "    i+=1\n",
    "    if i < 5:\n",
    "        continue #컨티뉴는 밑으로 안가고 그냥 건너뛰는 역할이다.\n",
    "    elif i < 10:\n",
    "        print(i)\n",
    "    else:\n",
    "        break"
   ]
  },
  {
   "cell_type": "code",
   "execution_count": null,
   "id": "eeb793b1",
   "metadata": {},
   "outputs": [],
   "source": [
    "# 용어정리\n",
    "# 모듈, 패키지, 라이브러리, 플랫폼, 클래스, 객체, 매서드 등 여러 요소등이 존재한다. \n",
    "# 모듈 : 비유하자면 파일이다. \n",
    "# 패키지 : 비유하자면 폴더이다. 패키지 안에는 다른 패키지나 모듈이 들어있을 수 있다.\n",
    "# 라이브러리 : 자주 사용되는 기능을 함수 단위로 만들어 제공을 하는 것을 말한다. 어떻게 보면 분류된 함수 / 모듈의 집합이다.\n",
    "# 플랫폼 : 토대, 기반이라는 의미로 코딩 플랫폼은 아나콘다, 비주얼스튜디오코드, 파이참 등이 해당된다.  \n",
    "# 클래스 : 도면, 거푸집에 해당한다. 객체를 생성하기 위한 틀이다. \n",
    "# 객체 : 완제품, 주물에 해당된다. 클래스에 의해 생성된다. (실체, 인스턴스) \n",
    "# 매서드 : 객체가 수행하는 동작을 의미한다. \n",
    "# 오버라이딩 : 기존 클래스를 기반으로 새로운 클래스를 제작하는 것이다. 자동차 제작라인을 트럭 제작라인으로 변경하는 것과 비슷하다.\n",
    "# 속성 : 객체가 가지는 여러가지 특징들을 말한다. 게임으로 치면 능력치와 같다."
   ]
  },
  {
   "cell_type": "code",
   "execution_count": 42,
   "id": "5c030e25",
   "metadata": {},
   "outputs": [
    {
     "name": "stdout",
     "output_type": "stream",
     "text": [
      "C:\\Users\\user\\anaconda3\\Lib\\random.py\n"
     ]
    }
   ],
   "source": [
    "# 랜덤모듈 \n",
    "# 랜덤값을 생성하기 위해서 랜덤모듈을 사용하게 된다.\n",
    "# 모듈 안에는 수많은 함수들이 있다. 랜덤함수들을 사용하여 난수값을 생성할 수 있게 된다. \n",
    "import inspect, random #import는 메모리에 명령을 적재하라는 의미이다. \n",
    "print(inspect.getfile(random)) # 랜덤모듈이 있는 파일의 위치를 알려주세요."
   ]
  },
  {
   "cell_type": "code",
   "execution_count": 52,
   "id": "93014fba",
   "metadata": {},
   "outputs": [
    {
     "name": "stdout",
     "output_type": "stream",
     "text": [
      "0.7738237554799334\n",
      "44\n"
     ]
    }
   ],
   "source": [
    "print(random.random()) # 1 미만의 랜덤한 숫자를 입력한다. 기준은 정규시간이다.\n",
    "print(random.randint(1,45)) # 1부터 45까지의 숫자를 입력할 수 있다. 만약 원하는 숫자만큼 뽑아내면 스택을 이용해보자."
   ]
  },
  {
   "cell_type": "code",
   "execution_count": 55,
   "id": "d1f3ed0f",
   "metadata": {},
   "outputs": [
    {
     "name": "stdout",
     "output_type": "stream",
     "text": [
      "[2, 4, 6]\n",
      "[4, 5, 6]\n"
     ]
    }
   ],
   "source": [
    "r = [1,2,3]\n",
    "r1 = []\n",
    "for i in r:\n",
    "    r1.append(i*2)\n",
    "print(r1)# 위와 같은 식으로 r의 요소를 2를 곱해서 표현 가능하다.\n",
    "r2 = [i + 3 for i in r] #리스트 내포는 코드를 한 줄로 표현하는 방법이다. r에 있는 숫자를 3씩 더한 것이다.\n",
    "print(r2)\n",
    "r3 = [i for i in r if i % 2 == 1] #현재의 것은 i가 홀수일 경우 추가하는 버젼이다. if를 사용하여 1,3만 추가시켰다.\n",
    "print(r3)"
   ]
  },
  {
   "cell_type": "code",
   "execution_count": 56,
   "id": "a989fb02",
   "metadata": {},
   "outputs": [
    {
     "name": "stdout",
     "output_type": "stream",
     "text": [
      "[2, 3, 4, 5, 6, 7, 8, 9]\n"
     ]
    }
   ],
   "source": [
    "s1 = [x for x in range(2,10)]\n",
    "print(s1)"
   ]
  },
  {
   "cell_type": "code",
   "execution_count": 57,
   "id": "875c8862",
   "metadata": {},
   "outputs": [
    {
     "name": "stdout",
     "output_type": "stream",
     "text": [
      "2 4 6 8 10 12 14 16 18 \n",
      "==================================================\n",
      "3 6 9 12 15 18 21 24 27 \n",
      "==================================================\n",
      "4 8 12 16 20 24 28 32 36 \n",
      "==================================================\n",
      "5 10 15 20 25 30 35 40 45 \n",
      "==================================================\n",
      "6 12 18 24 30 36 42 48 54 \n",
      "==================================================\n",
      "7 14 21 28 35 42 49 56 63 \n",
      "==================================================\n",
      "8 16 24 32 40 48 56 64 72 \n",
      "==================================================\n",
      "9 18 27 36 45 54 63 72 81 \n",
      "==================================================\n"
     ]
    }
   ],
   "source": [
    "for x in range(2,10):\n",
    "    for y in range(1,10): #중첩 for문으로 구구단을 구현해보았다.\n",
    "        print(x*y, end = \" \")\n",
    "    print()\n",
    "    print(\"=\"*50)"
   ]
  },
  {
   "cell_type": "code",
   "execution_count": 58,
   "id": "436e5a65",
   "metadata": {},
   "outputs": [
    {
     "name": "stdout",
     "output_type": "stream",
     "text": [
      "[2, 4, 6, 8, 10, 12, 14, 16, 18, 3, 6, 9, 12, 15, 18, 21, 24, 27, 4, 8, 12, 16, 20, 24, 28, 32, 36, 5, 10, 15, 20, 25, 30, 35, 40, 45, 6, 12, 18, 24, 30, 36, 42, 48, 54, 7, 14, 21, 28, 35, 42, 49, 56, 63, 8, 16, 24, 32, 40, 48, 56, 64, 72, 9, 18, 27, 36, 45, 54, 63, 72, 81]\n"
     ]
    }
   ],
   "source": [
    "print([x * y for x in range(2,10) for y in range(1,10)]) # 프린트에서 출력하는 것은 단 한번이다. 즉 리스트에 있는 값을 한번에 출력하는 것이다. \n",
    "#            ------1번순서-------\n",
    "#                                  ------2번순서-------\n",
    "#    -3번순서-\n",
    "#                                  ------4번순서-------\n",
    "#    -5번순서-\n",
    "#                      ...\n",
    "#            -----여기부터반복---"
   ]
  },
  {
   "cell_type": "code",
   "execution_count": 3,
   "id": "1facc0a5",
   "metadata": {},
   "outputs": [
    {
     "name": "stdout",
     "output_type": "stream",
     "text": [
      "[3, 6, 9, 12, 15, 18, 21, 24, 27, 5, 10, 15, 20, 25, 30, 35, 40, 45]\n",
      "[3, 6, 9, 12, 15, 18, 21, 24, 27, 5, 10, 15, 20, 25, 30, 35, 40, 45]\n",
      "[3, 6, 9, 12, 15, 18, 21, 24, 27, 5, 10, 15, 20, 25, 30, 35, 40, 45]\n",
      "[3, 6, 9, 12, 15, 18, 21, 24, 27, 5, 10, 15, 20, 25, 30, 35, 40, 45]\n"
     ]
    },
    {
     "name": "stderr",
     "output_type": "stream",
     "text": [
      "<>:5: SyntaxWarning: \"is\" with a literal. Did you mean \"==\"?\n",
      "<>:5: SyntaxWarning: \"is\" with a literal. Did you mean \"==\"?\n",
      "<>:5: SyntaxWarning: \"is\" with a literal. Did you mean \"==\"?\n",
      "<>:5: SyntaxWarning: \"is\" with a literal. Did you mean \"==\"?\n",
      "C:\\Users\\user\\AppData\\Local\\Temp\\ipykernel_5960\\3932908630.py:5: SyntaxWarning: \"is\" with a literal. Did you mean \"==\"?\n",
      "  print([x * y for x in range(2,10) if x is 3 or x is 5 for y in range(1,10)])#경고 메세지가 출현해도 작동 자체는 가능하다.\n",
      "C:\\Users\\user\\AppData\\Local\\Temp\\ipykernel_5960\\3932908630.py:5: SyntaxWarning: \"is\" with a literal. Did you mean \"==\"?\n",
      "  print([x * y for x in range(2,10) if x is 3 or x is 5 for y in range(1,10)])#경고 메세지가 출현해도 작동 자체는 가능하다.\n"
     ]
    }
   ],
   "source": [
    "#구구단에서 3단과 5단만 출력하고 싶다고 하자.\n",
    "print([x * y for x in range(3,6,2) for y in range(1,10)]) #일반적인 방법\n",
    "print([x * y for x in range(2,10) if x == 3 or x == 5 for y in range(1,10)])# if문을 내부에 집어넣어서 가동시키는 경우\n",
    "print([x * y for x in range(2,10) if x == 3 or x == 5 for y in range(1,10)])# 단순 숫자만 작성해도 된다. \n",
    "print([x * y for x in range(2,10) if x is 3 or x is 5 for y in range(1,10)])#경고 메세지가 출현해도 작동 자체는 가능하다."
   ]
  },
  {
   "cell_type": "code",
   "execution_count": 67,
   "id": "37720aa9",
   "metadata": {},
   "outputs": [
    {
     "name": "stdout",
     "output_type": "stream",
     "text": [
      "[2, 3, 6, 4, 8, 12, 5, 10, 15, 20, 6, 12, 18, 24, 30, 7, 14, 21, 28, 35, 42, 8, 16, 24, 32, 40, 48, 56, 9, 18, 27, 36, 45, 54, 63, 72]\n"
     ]
    }
   ],
   "source": [
    "#x가 y보다 클 때만 연산을 하고 싶다고 하자.\n",
    "print([x * y for x in range(2,10) for y in range(1,10) if x>y]) "
   ]
  },
  {
   "cell_type": "code",
   "execution_count": null,
   "id": "881adb99",
   "metadata": {},
   "outputs": [],
   "source": []
  }
 ],
 "metadata": {
  "kernelspec": {
   "display_name": "Python 3 (ipykernel)",
   "language": "python",
   "name": "python3"
  },
  "language_info": {
   "codemirror_mode": {
    "name": "ipython",
    "version": 3
   },
   "file_extension": ".py",
   "mimetype": "text/x-python",
   "name": "python",
   "nbconvert_exporter": "python",
   "pygments_lexer": "ipython3",
   "version": "3.11.4"
  }
 },
 "nbformat": 4,
 "nbformat_minor": 5
}
