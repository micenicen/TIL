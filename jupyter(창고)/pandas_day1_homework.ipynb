{
 "cells": [
  {
   "cell_type": "code",
   "execution_count": 1,
   "id": "b8465c0d",
   "metadata": {},
   "outputs": [
    {
     "name": "stdout",
     "output_type": "stream",
     "text": [
      "[True, False, False, True, False]\n"
     ]
    }
   ],
   "source": [
    "import numpy as np\n",
    "import pandas as pd\n",
    "def Duplicate_Numbers(munza):\n",
    "    zinza_gaza = []\n",
    "    names = (np.array(munza.split()))\n",
    "    for i in range(len(names)):\n",
    "        if len(names[i])==10:\n",
    "            arrr = \" \".join(names[i]).split()\n",
    "            if len(np.unique(arrr)) == 10:\n",
    "                zinza_gaza.append(True)\n",
    "            else:\n",
    "                zinza_gaza.append(False)\n",
    "        else:\n",
    "            zinza_gaza.append(False)\n",
    "    print(zinza_gaza)\n",
    "                \n",
    "    \n",
    "Duplicate_Numbers('0123456789 01234 01234567890 6789012345 012322456789')"
   ]
  },
  {
   "cell_type": "code",
   "execution_count": 10,
   "id": "656ddd0a",
   "metadata": {},
   "outputs": [
    {
     "name": "stdout",
     "output_type": "stream",
     "text": [
      "HE SLEEPS EARLY"
     ]
    }
   ],
   "source": [
    "import pandas as pd\n",
    "\n",
    "def Morse_code_Reader(munza2):\n",
    "    # 모스 부호와 알파벳 대응 관계를 정의\n",
    "    cord_keys = pd.Series({'A': \".-\", 'B': \"-...\", 'C': \"-.-.\", 'D': \"-..\", 'E': \".\",\n",
    "                           'F': \"..-.\", 'G': \"--.\", 'H': \"....\", 'I': \"..\", 'J': \".---\",\n",
    "                           'K': \"-.-\", 'L': \".-..\", 'M': \"--\", 'N': \"-.\", 'O': \"---\", 'P': \".--.\",\n",
    "                           'Q': \"--.-\", 'R': \".-.\", 'S': \"...\", 'T': \"-\", 'U': \"..-\", 'V': \"...-\",\n",
    "                           'W': \".--\", 'X': \"-..-\", 'Y': \"-.--\", 'Z': \"--..\"})\n",
    "    \n",
    "    # 모스 부호 문자열을 공백을 기준으로 분리\n",
    "    morse_codes = munza2.split(\" \")\n",
    "    \n",
    "    # 각 모스 부호를 알파벳으로 변환하여 출력\n",
    "    for morse_code in morse_codes:\n",
    "        for key, value in cord_keys.items():\n",
    "            if value == morse_code:\n",
    "                print(key, end=\"\")\n",
    "                break\n",
    "        else:\n",
    "            # 모스 부호가 알파벳과 대응되지 않을 경우 \" \" 출력\n",
    "            print(\" \", end=\"\")\n",
    "\n",
    "# 모스 부호 문자열을 호출하여 출력\n",
    "Morse_code_Reader(\".... .  ... .-.. . . .--. ...  . .- .-. .-.. -.--\")\n"
   ]
  },
  {
   "cell_type": "code",
   "execution_count": 6,
   "id": "6ca61d6d",
   "metadata": {},
   "outputs": [
    {
     "name": "stdout",
     "output_type": "stream",
     "text": [
      "[1 2 3 4 5]\n",
      "[[1]\n",
      " [2]\n",
      " [3]\n",
      " [4]\n",
      " [5]]\n",
      "[[1]\n",
      " [2]\n",
      " [3]\n",
      " [4]\n",
      " [5]]\n"
     ]
    }
   ],
   "source": [
    "import numpy as np\n",
    "\n",
    "# 1차원 배열 생성\n",
    "x = np.array([1, 2, 3, 4, 5])\n",
    "\n",
    "# 배열을 2차원 행렬로 변환 (5x1 행렬)\n",
    "x_2d = x.reshape(-1, 1)  # 또는 x.reshape(5, 1)\n",
    "\n",
    "# 배열 슬라이싱을 사용하여도 가능\n",
    "x_2d_slice = x[:, np.newaxis]  # 또는 x[:, None]\n",
    "\n",
    "print(x)\n",
    "print(x_2d)\n",
    "print(x_2d_slice)"
   ]
  },
  {
   "cell_type": "code",
   "execution_count": null,
   "id": "19699932",
   "metadata": {},
   "outputs": [],
   "source": []
  }
 ],
 "metadata": {
  "kernelspec": {
   "display_name": "Python 3 (ipykernel)",
   "language": "python",
   "name": "python3"
  },
  "language_info": {
   "codemirror_mode": {
    "name": "ipython",
    "version": 3
   },
   "file_extension": ".py",
   "mimetype": "text/x-python",
   "name": "python",
   "nbconvert_exporter": "python",
   "pygments_lexer": "ipython3",
   "version": "3.11.4"
  }
 },
 "nbformat": 4,
 "nbformat_minor": 5
}
