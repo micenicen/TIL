{
 "cells": [
  {
   "cell_type": "code",
   "execution_count": null,
   "id": "3eb3fb7d",
   "metadata": {},
   "outputs": [],
   "source": [
    "# 스태틱, 부트스트랩 위주로 학습을 진행할 예정이다.\n",
    "STATIC_URL = 'static/'\n",
    "STATICFILES_DIRS = [\n",
    "    BASE_DIR / 'static',\n",
    "]\n",
    "# 스타일시트 파일은 장고의 스태틱 디렉터리에 저장해야 한다. \n",
    "# 스태틱 디렉토리를 스타일시트가 저장되는 곳으로 설정한다는 뜻이다. \n",
    "# 물론 스태틱 디렉토리를 따로 만들긴 해야한다. \n",
    "(mysite) c:\\projects\\mysite> mkdir static\n",
    "# 스태틱 폴더를 성성했다. \n",
    "# 물론 파이보 밑에 제작하는 것은 가능하나 권장하지는 않는다. "
   ]
  },
  {
   "cell_type": "code",
   "execution_count": null,
   "id": "7023c3e1",
   "metadata": {},
   "outputs": [],
   "source": [
    "# 내부에 style.css를 생성한 다음\n",
    "textarea {\n",
    "    width:100%;\n",
    "}                          # 텍스트 구역 너비 100%로 설정. 텍스트 입력구역을 늘리는 것이다. 전체화면을 다 쓴다. \n",
    "\n",
    "input[type=submit] {       \n",
    "    margin-top:10px;\n",
    "}\n",
    "# 를 붙인다."
   ]
  },
  {
   "cell_type": "code",
   "execution_count": null,
   "id": "78a848ca",
   "metadata": {},
   "outputs": [],
   "source": [
    "# 부트스트랩은 스타일시트 집합체라고 보면 된다. 트위터에서 만들어졌으며 부트스트랩을 따로 다운로드 받아야 한다. \n",
    "# 받은 다음 bootstrap.map파일을 스태틱 파일 내부에 배치하면 된다. \n",
    "{% load static %}\n",
    "<link rel=\"stylesheet\" type=\"text/css\" href=\"{% static 'bootstrap.min.css' %}\">\n",
    "# 스태틱 밑의 부트스트랩 민의 스타일시트를 가져오라는 의미이다. "
   ]
  },
  {
   "cell_type": "code",
   "execution_count": null,
   "id": "57b6bd9a",
   "metadata": {},
   "outputs": [],
   "source": [
    "<div class=\"container my-3\">\n",
    "    <table class=\"table\">\n",
    "        <thead>\n",
    "        <tr class=\"table-dark\">                         # 검정 테이블\n",
    "            <th>번호</th>\n",
    "            <th>제목</th>\n",
    "            <th>작성일시</th>\n",
    "        </tr>\n",
    "        </thead>\n",
    "        <tbody>\n",
    "        {% if question_list %}\n",
    "        {% for question in question_list %}            # 질문 횟수만큼 반복\n",
    "        <tr>\n",
    "            <td>{{ forloop.counter }}</td>             # 열거형 같은 역할을 함.번호와 함께 대상을 읽어들임\n",
    "            <td>\n",
    "                <a href=\"{% url 'pybo:detail' question.id %}\">{{ question.subject }}</a> # 제목에 a태그가 달려있으니 링크가 걸려있음\n",
    "            </td>\n",
    "            <td>{{ question.create_date }}</td>\n",
    "        </tr>\n",
    "        {% endfor %}\n",
    "        {% else %}\n",
    "        <tr>\n",
    "            <td colspan=\"3\">질문이 없습니다.</td>\n",
    "        </tr>\n",
    "        {% endif %}\n",
    "        </tbody>\n",
    "    </table>\n",
    "</div>\n",
    "# html에 적는 이 부분은 다음과 같다. "
   ]
  },
  {
   "cell_type": "code",
   "execution_count": null,
   "id": "4601186c",
   "metadata": {},
   "outputs": [],
   "source": [
    "# 템플리 상속\n",
    "# 지금 올린 것은 표준 Html구조가 아니다. 표준이 아닐 시 웹브라우저에 따라 제대로 보이기도 하고 제대로 보이지 않을 수 있다.\n",
    "# 웹페이지가 보이지 않는 위험이 생길 수 있다. 웹 브라우저의 종류가 바뀐다고 할 지라도 html문서가 제대로 보이도록 해야한다. \n",
    "# 앞에서 작성한 질문 목록, 질문 상세 템플릿을 표준 HTML 구조가 되도록 수정해보는 것이 지금의 목적이다. \n",
    "# 템플릿 밑에 파일을 추가한다. \n",
    "{% extends 'base.html' %}\n",
    "{% block content %}\n",
    "...\n",
    "{% endblock %}\n",
    "# 이는 base.html을 상속받는다는 의미이다. \n",
    "# 이후 개발도구에 보면 html형식의 모양으로 보여지게 될 것이다. "
   ]
  },
  {
   "cell_type": "code",
   "execution_count": null,
   "id": "fbceb20e",
   "metadata": {},
   "outputs": [],
   "source": [
    "# 폼\n",
    "# 질문을 등록하기 위해서는 질문 등록하기 버튼이 있어야 한다. \n",
    "    <a href=\"{% url 'pybo:question_create' %}\" class=\"btn btn-primary\">질문 등록하기</a>\n",
    "# 질문 등록하기는 질문생성url을 연결한다. 클래스는 버튼이며 질문 등록하기를 누르면 question_create로 연결한다. \n",
    "# 문제는 아직 question_create가 없다. \n",
    "# 만들기 위해서 폼을 제작해야 한다. 파이보 파일에서 폼을 등록할 것이다. \n",
    "from django import forms\n",
    "from pybo.models import Question\n",
    "\n",
    "\n",
    "class QuestionForm(forms.ModelForm):\n",
    "    class Meta:\n",
    "        model = Question  # 사용할 모델\n",
    "        fields = ['subject', 'content']  # QuestionForm에서 사용할 Question 모델의 속성\n",
    "# 이와같이 정의될 것이다.\n",
    "# 현대 프로그래밍은 모델과 컨트롤과 뷰를 분리한다. 분리를 해야 유지보수가 쉬워진다는 것이다. \n",
    "# 먼저 따라해보자. 그 이후 실행하면 기초적인 사이트의 토대는 만들어질 것이다. 내용이 길어져서 생략하였으나 매우 중요하다. \n",
    "# https://wikidocs.net/70855"
   ]
  },
  {
   "cell_type": "code",
   "execution_count": null,
   "id": "79740ce2",
   "metadata": {},
   "outputs": [],
   "source": [
    "# 내비게이션바\n",
    "# 오른쪽 상단에 햄버거 단추라는 것이 있다. 그 햄버거 단추를 설정하는 방법이다. \n",
    "# 상단 바를 네비게이션 바라고 한다. 모든 페이지에 공통적으로 출력해야하므로 base.html에 템플릿을 추가해야 한다. \n",
    "# 즉 base.html에서 바로 상속받아서 사용할 수 있게 하는 것이다. \n",
    "# https://wikidocs.net/71108\n",
    "# 여기에서 만들어진 것을 볼 수 있다. \n",
    "# 자바스크립트 파일을 통해 기능추가도 가능하다. "
   ]
  },
  {
   "cell_type": "code",
   "execution_count": null,
   "id": "a4fca635",
   "metadata": {},
   "outputs": [],
   "source": [
    "# 인크루드\n",
    "# 페이지 하단에 존재하는 칸이다. 회사소개와 회사 안내페이지 등을 말한다. "
   ]
  },
  {
   "cell_type": "code",
   "execution_count": null,
   "id": "6d940333",
   "metadata": {},
   "outputs": [],
   "source": [
    "# 페이지리스트.\n",
    "# 페이지를 10개 단위로 나누거나 원하는 단위로 나눠서 페이지를 분류하는 것을 말한다. "
   ]
  },
  {
   "cell_type": "code",
   "execution_count": null,
   "id": "e0b414be",
   "metadata": {},
   "outputs": [],
   "source": []
  },
  {
   "cell_type": "code",
   "execution_count": null,
   "id": "1006e8c8",
   "metadata": {},
   "outputs": [],
   "source": []
  },
  {
   "cell_type": "code",
   "execution_count": null,
   "id": "4f5db2d9",
   "metadata": {},
   "outputs": [],
   "source": []
  },
  {
   "cell_type": "code",
   "execution_count": null,
   "id": "7c7d13b0",
   "metadata": {},
   "outputs": [],
   "source": []
  },
  {
   "cell_type": "code",
   "execution_count": null,
   "id": "4657f4fd",
   "metadata": {},
   "outputs": [],
   "source": []
  },
  {
   "cell_type": "code",
   "execution_count": null,
   "id": "e2cb630f",
   "metadata": {},
   "outputs": [],
   "source": []
  },
  {
   "cell_type": "code",
   "execution_count": null,
   "id": "8afe865c",
   "metadata": {},
   "outputs": [],
   "source": []
  },
  {
   "cell_type": "code",
   "execution_count": null,
   "id": "ed3f25da",
   "metadata": {},
   "outputs": [],
   "source": []
  },
  {
   "cell_type": "code",
   "execution_count": null,
   "id": "378a0112",
   "metadata": {},
   "outputs": [],
   "source": []
  },
  {
   "cell_type": "code",
   "execution_count": null,
   "id": "cb2eab43",
   "metadata": {},
   "outputs": [],
   "source": []
  },
  {
   "cell_type": "code",
   "execution_count": null,
   "id": "cd24928d",
   "metadata": {},
   "outputs": [],
   "source": []
  },
  {
   "cell_type": "code",
   "execution_count": null,
   "id": "c75f77e9",
   "metadata": {},
   "outputs": [],
   "source": []
  },
  {
   "cell_type": "code",
   "execution_count": null,
   "id": "18594940",
   "metadata": {},
   "outputs": [],
   "source": []
  },
  {
   "cell_type": "code",
   "execution_count": null,
   "id": "59a7025d",
   "metadata": {},
   "outputs": [],
   "source": []
  },
  {
   "cell_type": "code",
   "execution_count": null,
   "id": "5ffc13e9",
   "metadata": {},
   "outputs": [],
   "source": []
  },
  {
   "cell_type": "code",
   "execution_count": null,
   "id": "9fdb50d7",
   "metadata": {},
   "outputs": [],
   "source": []
  },
  {
   "cell_type": "code",
   "execution_count": null,
   "id": "97227221",
   "metadata": {},
   "outputs": [],
   "source": []
  },
  {
   "cell_type": "code",
   "execution_count": null,
   "id": "757d9c01",
   "metadata": {},
   "outputs": [],
   "source": []
  },
  {
   "cell_type": "code",
   "execution_count": null,
   "id": "3dd350a3",
   "metadata": {},
   "outputs": [],
   "source": []
  },
  {
   "cell_type": "code",
   "execution_count": null,
   "id": "7a260676",
   "metadata": {},
   "outputs": [],
   "source": []
  },
  {
   "cell_type": "code",
   "execution_count": null,
   "id": "5cba2192",
   "metadata": {},
   "outputs": [],
   "source": []
  },
  {
   "cell_type": "code",
   "execution_count": null,
   "id": "a507009d",
   "metadata": {},
   "outputs": [],
   "source": []
  },
  {
   "cell_type": "code",
   "execution_count": null,
   "id": "dfb66b9a",
   "metadata": {},
   "outputs": [],
   "source": []
  },
  {
   "cell_type": "code",
   "execution_count": null,
   "id": "40a06364",
   "metadata": {},
   "outputs": [],
   "source": []
  },
  {
   "cell_type": "code",
   "execution_count": null,
   "id": "1164fc41",
   "metadata": {},
   "outputs": [],
   "source": []
  },
  {
   "cell_type": "code",
   "execution_count": null,
   "id": "92a53342",
   "metadata": {},
   "outputs": [],
   "source": []
  },
  {
   "cell_type": "code",
   "execution_count": null,
   "id": "f1275b4a",
   "metadata": {},
   "outputs": [],
   "source": []
  },
  {
   "cell_type": "code",
   "execution_count": null,
   "id": "96988bcc",
   "metadata": {},
   "outputs": [],
   "source": []
  },
  {
   "cell_type": "code",
   "execution_count": null,
   "id": "5306acac",
   "metadata": {},
   "outputs": [],
   "source": []
  },
  {
   "cell_type": "code",
   "execution_count": null,
   "id": "390fa9ec",
   "metadata": {},
   "outputs": [],
   "source": []
  },
  {
   "cell_type": "code",
   "execution_count": null,
   "id": "68463932",
   "metadata": {},
   "outputs": [],
   "source": []
  },
  {
   "cell_type": "code",
   "execution_count": null,
   "id": "d05eed8b",
   "metadata": {},
   "outputs": [],
   "source": []
  },
  {
   "cell_type": "code",
   "execution_count": null,
   "id": "247f2ca7",
   "metadata": {},
   "outputs": [],
   "source": []
  },
  {
   "cell_type": "code",
   "execution_count": null,
   "id": "5389926f",
   "metadata": {},
   "outputs": [],
   "source": []
  },
  {
   "cell_type": "code",
   "execution_count": null,
   "id": "3f89c117",
   "metadata": {},
   "outputs": [],
   "source": []
  },
  {
   "cell_type": "code",
   "execution_count": null,
   "id": "9dabf31e",
   "metadata": {},
   "outputs": [],
   "source": []
  },
  {
   "cell_type": "code",
   "execution_count": null,
   "id": "6f93f825",
   "metadata": {},
   "outputs": [],
   "source": []
  },
  {
   "cell_type": "code",
   "execution_count": null,
   "id": "0412af2d",
   "metadata": {},
   "outputs": [],
   "source": []
  },
  {
   "cell_type": "code",
   "execution_count": null,
   "id": "2d8bde91",
   "metadata": {},
   "outputs": [],
   "source": []
  },
  {
   "cell_type": "code",
   "execution_count": null,
   "id": "576ee42c",
   "metadata": {},
   "outputs": [],
   "source": []
  },
  {
   "cell_type": "code",
   "execution_count": null,
   "id": "a381aa28",
   "metadata": {},
   "outputs": [],
   "source": []
  },
  {
   "cell_type": "code",
   "execution_count": null,
   "id": "230bb372",
   "metadata": {},
   "outputs": [],
   "source": []
  },
  {
   "cell_type": "code",
   "execution_count": null,
   "id": "ce0a9782",
   "metadata": {},
   "outputs": [],
   "source": []
  },
  {
   "cell_type": "code",
   "execution_count": null,
   "id": "4bd8f61d",
   "metadata": {},
   "outputs": [],
   "source": []
  }
 ],
 "metadata": {
  "kernelspec": {
   "display_name": "Python 3 (ipykernel)",
   "language": "python",
   "name": "python3"
  },
  "language_info": {
   "codemirror_mode": {
    "name": "ipython",
    "version": 3
   },
   "file_extension": ".py",
   "mimetype": "text/x-python",
   "name": "python",
   "nbconvert_exporter": "python",
   "pygments_lexer": "ipython3",
   "version": "3.11.5"
  }
 },
 "nbformat": 4,
 "nbformat_minor": 5
}
