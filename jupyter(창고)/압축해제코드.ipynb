{
 "cells": [
  {
   "cell_type": "code",
   "execution_count": 4,
   "id": "fc027ab8",
   "metadata": {},
   "outputs": [
    {
     "name": "stdout",
     "output_type": "stream",
     "text": [
      "Extracted 경영_남_경력.zip.part0 to 경영_남_경력\n",
      "Extracted 경영_남_신입.zip.part0 to 경영_남_신입\n",
      "Extracted 경영_여_경력.zip.part0 to 경영_여_경력\n",
      "Extracted 경영_여_신입.zip.part0 to 경영_여_신입\n",
      "Extracted 공공서비스_남_경력.zip.part0 to 공공서비스_남_경력\n",
      "Extracted 공공서비스_남_신입.zip.part0 to 공공서비스_남_신입\n",
      "Extracted 공공서비스_여_경력.zip.part0 to 공공서비스_여_경력\n",
      "Extracted 공공서비스_여_신입.zip.part0 to 공공서비스_여_신입\n",
      "Extracted 디자인_남_경력.zip.part0 to 디자인_남_경력\n",
      "Extracted 디자인_남_신입.zip.part0 to 디자인_남_신입\n",
      "Extracted 디자인_여_경력.zip.part0 to 디자인_여_경력\n",
      "Extracted 디자인_여_신입.zip.part0 to 디자인_여_신입\n",
      "Extracted 생산관리_남_경력.zip.part0 to 생산관리_남_경력\n",
      "Extracted 생산관리_남_신입.zip.part0 to 생산관리_남_신입\n",
      "Extracted 생산관리_여_경력.zip.part0 to 생산관리_여_경력\n",
      "Extracted 생산관리_여_신입.zip.part0 to 생산관리_여_신입\n",
      "Extracted 세일즈마케팅_남_경력.zip.part0 to 세일즈마케팅_남_경력\n",
      "Extracted 세일즈마케팅_남_신입.zip.part0 to 세일즈마케팅_남_신입\n",
      "Extracted 세일즈마케팅_여_경력.zip.part0 to 세일즈마케팅_여_경력\n",
      "Extracted 세일즈마케팅_여_신입.zip.part0 to 세일즈마케팅_여_신입\n",
      "Extracted 연구개발_남_경력.zip.part0 to 연구개발_남_경력\n",
      "Extracted 연구개발_남_신입.zip.part0 to 연구개발_남_신입\n",
      "Extracted 연구개발_여_경력.zip.part0 to 연구개발_여_경력\n",
      "Extracted 연구개발_여_신입.zip.part0 to 연구개발_여_신입\n",
      "Extracted 정보통신_남_경력.zip.part0 to 정보통신_남_경력\n",
      "Extracted 정보통신_남_신입.zip.part0 to 정보통신_남_신입\n",
      "Extracted 정보통신_여_경력.zip.part0 to 정보통신_여_경력\n",
      "Extracted 정보통신_여_신입.zip.part0 to 정보통신_여_신입\n"
     ]
    }
   ],
   "source": [
    "# zip.part0파일 각각 압축풀기\n",
    "import os                                                 # 운영체제 모듈 호출\n",
    "import zipfile                                            # 압축파일 모듈 호출\n",
    "\n",
    "# 압축 해제 함수\n",
    "def extract_zip_file(filepath, extract_to_folder):        # 압축해제 함수 정의(압축파일위치,지정폴더)\n",
    "    with zipfile.ZipFile(filepath, 'r') as zip_ref:       # with문을 이용하여 zipfile 을 열고 zip_ref에 할당하기 \n",
    "        zip_ref.extractall(extract_to_folder)             # 지정폴더에 압축해제하기\n",
    "                                                          # with문은 파일을 사용한 이후 닫는 목적으로\n",
    "                                                          # 컨텍스트 관리자임. 메모리 절약목적으로 \n",
    "                                                          # 리스트,튜플에 쓰이는 이터레이터랑 비슷\n",
    "            \n",
    "\n",
    "# 압축 해제할 디렉터리 설정\n",
    "directory = 'C:\\\\Users\\\\user\\\\Downloads\\\\면접자료'        # 디렉토리 위치 설정\n",
    "\n",
    "# 해당 디렉터리로 이동\n",
    "os.chdir(directory)                                       # 현재 작업중인 디렉토리를 directory로 바꿈\n",
    "                                                          # 즉 작업공간을 해당위치로 이동시킴\n",
    "# 디렉터리 내의 모든 파일을 순회하며 압축 해제\n",
    "for file in os.listdir():                                 # os.listdir()는 현재 디렉토리의 모든파일임\n",
    "    if file.endswith('.zip.part0'):                       # 파일의 끝이 '.zip.part0'로 끝나는 경우에만\n",
    "        extract_to_folder = file.split('.')[0]            # '.'기준 앞부분을 zip 파일명으로 설정\n",
    "        extract_zip_file(file, extract_to_folder)         # 해당 파일을 해당폴더이름에 압축해제\n",
    "        print(f'Extracted {file} to {extract_to_folder}') # 어떤 파일이 어디에 압축이 해제되었는지 확인"
   ]
  }
 ],
 "metadata": {
  "kernelspec": {
   "display_name": "Python 3 (ipykernel)",
   "language": "python",
   "name": "python3"
  },
  "language_info": {
   "codemirror_mode": {
    "name": "ipython",
    "version": 3
   },
   "file_extension": ".py",
   "mimetype": "text/x-python",
   "name": "python",
   "nbconvert_exporter": "python",
   "pygments_lexer": "ipython3",
   "version": "3.11.5"
  }
 },
 "nbformat": 4,
 "nbformat_minor": 5
}
