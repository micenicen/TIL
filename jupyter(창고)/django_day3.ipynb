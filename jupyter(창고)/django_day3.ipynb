{
 "cells": [
  {
   "cell_type": "code",
   "execution_count": 2,
   "id": "0bbf8ea4",
   "metadata": {},
   "outputs": [],
   "source": [
    "# 장고 배우기\n",
    "# 장고와 강화학습에 대해서 교육을 할 예정이다. \n",
    "# 장고를 하기 위해서 mysite를 생성했을 것이다. 그리고 앱을 생성하여 게시판 기능을 담당할 pybo앱을 생성했을 것이다.\n",
    "(mysite) C:\\projects\\mysite> django-admin startapp pybo\n",
    "# 이러한 명령을 통하여 파이보를 생성했다. \n",
    "# 서버를 켠 이후에 로컬호스트를 가동했을 것이다.\n",
    "(mysite) C:\\projects\\mysite> python manage.py runserver\n",
    "# 그리고 페이지를 들어가면 404경고가 나올 것이다. \n",
    "http://127.0.0.1:8000/\n",
    "# 파이보를 가동한 상태기 때문에 \n",
    "http://127.0.0.1:8000/pybo/\n",
    "# 파이보에 온 것을 환영한다는 말이 나올 것이다. \n"
   ]
  },
  {
   "cell_type": "code",
   "execution_count": null,
   "id": "a2f435e9",
   "metadata": {},
   "outputs": [],
   "source": [
    "from django.contrib import admin\n",
    "from django.urls import path\n",
    "\n",
    "from pybo import views\n",
    "\n",
    "urlpatterns = [\n",
    "    path('admin/', admin.site.urls),\n",
    "    path('pybo/', views.index),\n",
    "]\n",
    "# 사실 이렇게 매핑을 추가할 수 있다. 하지만 이렇게 하면 1층 로비에서 모든 업무를 처리하는 모양새이다.\n",
    "# 그래서 pybo.urls에서 배정을 하는 방식으로 하려고 한다. \n"
   ]
  },
  {
   "cell_type": "code",
   "execution_count": null,
   "id": "8c6c85b0",
   "metadata": {},
   "outputs": [],
   "source": [
    "from django.contrib import admin\n",
    "from django.urls import path, include\n",
    "from pybo import views  # 더 이상 필요하지 않으므로 삭제\n",
    "\n",
    "urlpatterns = [\n",
    "    path('admin/', admin.site.urls),\n",
    "    path('pybo/', include('pybo.urls')), \n",
    "]\n",
    "# 그래서 이와 같은 방식으로 코드를 작성한다. \n",
    "# config/urls.py에 모든 것을 넣지 않고 나누자는 것이다. \n",
    "# 따라서 이제 pybo/question/create, pybo/answer/create 등의 pybo/로 시작하는 URL을 추가해야 할 때 \n",
    "# config/urls.py 파일을 수정할 필요없이 pybo/urls.py 파일만 수정하면 된다.\n",
    "# 즉 건물 1층에서 모든 일을 처리하는게 아니라 1층은 안내칸만 두고 다른 층으로 안내하는 방식으로 바꾸는 것과 같다.\n"
   ]
  },
  {
   "cell_type": "code",
   "execution_count": null,
   "id": "747ed797",
   "metadata": {},
   "outputs": [],
   "source": [
    "from django.urls import path\n",
    "\n",
    "from . import views\n",
    "\n",
    "urlpatterns = [\n",
    "    path('', views.index),\n",
    "]\n",
    "# 이걸 pybo 내부에 입력했다는 뜻은 이제 http://127.0.0.1:8000/pybo/를 http://127.0.0.1:8000/로 바꾼것과 같다.\n",
    "# 파이보를 들어가는게 디폴트라는 소리이다. "
   ]
  },
  {
   "cell_type": "code",
   "execution_count": null,
   "id": "e52d25ec",
   "metadata": {},
   "outputs": [],
   "source": [
    "# migrate\n",
    "# 마이그레이트를 이미 했기 때문에 메세지가 나오지는 않을 것이다. 18개의 수행되지 않는 데이터가 있었고 \n",
    "# 이를 사용하기 위해 migrate를 수행했을 것이다. 애초에 admin, auth, contenttypes, sessions 앱들은 \n",
    "# 원하든 원하지 않든 설치되어있을 것이다. 관리자, 인증, 콘텐츠타입, 시즌 등이 있다. \n",
    "# 데이터가 필요한 일에 대해서는 migrate가 필요하다. \n",
    "# 디폴트에 'db.sqlite3'가 있을 것이다. 이것은 베이스 디렉토리에 저장되어있다고 한다. \n",
    "# db.sqlite3가 존재함으로서 테이블에 데이터 검색, 저장을 할 수 있게 되었다.  비교적 가벼운 데이터베이스이다. \n",
    "(mysite) c:\\projects\\mysite>python manage.py migrate\n",
    "# 이 명령을 실행하여 migrate 작업을 수행했을 것이다. \n"
   ]
  },
  {
   "cell_type": "code",
   "execution_count": null,
   "id": "b360a500",
   "metadata": {},
   "outputs": [],
   "source": [
    "# ORM\n",
    "# 장고의 장점 중 하나는 테이블 작업을 위해 직접 쿼리문을 수행하지 않아도 되는 것이다. \n",
    "# 이것을 장고의 ORM기능이라고 한다. \n",
    "# 사실 데이터베이스 명령어는 어렵지 않다. 다만 sql명령어는 상당히 다양하다. \n",
    "# 개발자는 한두명이 존재하는 것이 아니다. 수십명의 개발자가 존재한다. \n",
    "# 코드가 일관적이지 못하면 예기치 못한 오류가 발생할 수 있다. \n",
    "# 코드를 일관적이게 작성하기 위해 중간에 ORM이 있다. \n",
    "#\n",
    "# 쿼리문은 데이터와 나 사이에서 명령어를 주면 명령어를 이해하면 이해한 명령어를 바탕으로 수행한 결과를 \n",
    "# 나에게 되돌려주게 되는 것이다. 이때 나와 데이터베이스사이에 대화하는 것을 SQL이라고 한다. \n",
    "# 쿼리문은 데이터베이스에 명령을 내리는 명령문이다. \n",
    "# 쿼리문은 단점이 있다. 개발자마다 쿼리문이 다르다는 것이다. \n",
    "# 쿼리문을 잘못작성할 경우에는 무한반복이 일어나는 등 시스템 성능을 저하시키는 요소로 작용한다. \n",
    "# 이에 데이터베이스를 최적의 상태로 유지관리하는 직종이 있다. 또한 튜닝을 담당하는 데브옵스도 존재한다. \n",
    "# 시스템 성능이 저하된 부분을 찾아서 올리는 일을 담당한다. 이를 전문적으로 찾아서 개선해주는 사람들이다. \n"
   ]
  },
  {
   "cell_type": "code",
   "execution_count": null,
   "id": "0ab00e1c",
   "metadata": {},
   "outputs": [],
   "source": [
    "# 질문모델과 답변모델이 만들어졌다. 여기서 모델은 인공지능 모델이 아니다. \n",
    "# 인공지능 모델보다는 템플릿에 가깝다. 틀, 구조, 스키마라고 보면 된다. \n",
    "# pybo.models.py에 question 클래스와 answer클래스를 대입했을 것이다. \n",
    "# 글자수에 제한을 줄 수도 있다. \n",
    "from django.db import models\n",
    "\n",
    "\n",
    "class Question(models.Model):\n",
    "    subject = models.CharField(max_length=200)                       # 제목. 길이가 200으로 제한됨. \n",
    "    content = models.TextField()                                     # 텍스트가 적히는 장소\n",
    "    create_date = models.DateTimeField()                             # 생성시간\n",
    "\n",
    "\n",
    "class Answer(models.Model):\n",
    "    question = models.ForeignKey(Question, on_delete=models.CASCADE) # 삭제시 원문도 같이 삭제됨\n",
    "    content = models.TextField()                                     # 텍스트 필드 생성\n",
    "    create_date = models.DateTimeField()                             # 생성시간\n"
   ]
  },
  {
   "cell_type": "code",
   "execution_count": null,
   "id": "171d4459",
   "metadata": {},
   "outputs": [],
   "source": [
    "# migrate만들기\n",
    "(mysite) c:\\projects\\mysite> python manage.py makemigrations\n",
    "# 이를 수행하면 \n",
    "Migrations for 'pybo':\n",
    "  pybo\\migrations\\0001_initial.py\n",
    "    - Create model Question\n",
    "    - Create model Answer\n",
    "# 파이보 파일 내에 0001_initial.py가 뜨게 될 것이다. \n",
    "# migrate명령을 실행하기 전에 어떤 쿼리문이 실행되는지 sqlmigrate 명령으로 확인 가능하다. \n",
    "(mysite) c:\\projects\\mysite> python manage.py sqlmigrate pybo 0001\n",
    "# 커밋과 롤백이 존재한다. \n",
    "# 온라인상에서 게임을 할 때 서버가 롤백되었다고 하는 경우가 있다. 이전 시점으로 돌아간 것을 말한다. \n",
    "# 커밋은 정상완료가 되어진 상황을 말한다. 커밋이 되었다는 것은 변경사항이 반영이 완료가 된 것이다. \n",
    "(mysite) c:\\projects\\mysite> python manage.py migrate\n"
   ]
  },
  {
   "cell_type": "code",
   "execution_count": null,
   "id": "866694bb",
   "metadata": {},
   "outputs": [],
   "source": [
    "# 모델 사용에서 장고셀을 실행할 수 있다.\n",
    "python manage.py shell\n",
    "# 권장방법은 아니다. 번거로운 방식이지만 예제기에 수행한다. \n",
    "# 이후 >>>이 나오면서 입력할 수 있게 된다. \n",
    "# 질문, 답변을 입력하는 것이 가능해진다. \n",
    "# 파이보 내부의 모델 파일에서 question에서 def __str__(self):를 생성했을 것이다. \n",
    "# 여기서 subject부분을 content로 바꾸면 미리보기는 제목이 아닌 내용으로 보여질 것이다. \n"
   ]
  },
  {
   "cell_type": "code",
   "execution_count": null,
   "id": "ffd41db2",
   "metadata": {},
   "outputs": [],
   "source": [
    "# 인덱스\n",
    "Question.objects.get(id=1)\n",
    "# 이와같이 나타날 수 있다. \n",
    "Question.objects.filter(subject__contains='장고')\n",
    "# 이와같이 특정 키워드를 검색하는 것도 가능하다. "
   ]
  },
  {
   "cell_type": "code",
   "execution_count": null,
   "id": "1ae3a690",
   "metadata": {},
   "outputs": [],
   "source": [
    "# 데이터 삭제\n",
    "# 삭제를 원하는 파일을 할당한 다음 지우는 방식으로 취한다. \n",
    ">>> q = Question.objects.get(id=1)\n",
    ">>> q.delete()\n",
    "(1, {'pybo.Question': 1})\n"
   ]
  },
  {
   "cell_type": "code",
   "execution_count": null,
   "id": "29eb3f77",
   "metadata": {},
   "outputs": [],
   "source": [
    "# 장고 관리자 페이지 \n",
    "# 일반 사용자 계정으로 로그인한것만 해봤지 관리자 페이지를 사용한 적은 없을 것이다. \n",
    "# 관리자페이지는 사이트 유지보수에 매우 중요하다. \n",
    "(mysite) c:\\projects\\mysite> python manage.py createsuperuser\n",
    "사용자 이름 (leave blank to use 'pahke'): admin\n",
    "이메일 주소: admin@mysite.com\n",
    "Password:\n",
    "Password (again):\n",
    "비밀번호가 너무 짧습니다. 최소 8 문자를 포함해야 합니다.\n",
    "비밀번호가 너무 일상적인 단어입니다.\n",
    "비밀번호가 전부 숫자로 되어 있습니다.\n",
    "Bypass password validation and create user anyway? [y/N]: y\n",
    "Superuser created successfully.\n",
    "# 이와같은 명령을 통해 어드민을 생성할 수 있다. \n",
    "# 비밀번호는 보이지 않을 것이다. "
   ]
  },
  {
   "cell_type": "code",
   "execution_count": null,
   "id": "248ad848",
   "metadata": {},
   "outputs": [],
   "source": [
    "# 어드민 관리\n",
    "# 파이썬 런서버를 실행시키고 http://localhost:8000/admin/를 실행시키면 어드민 페이지가 뜰 것이다. \n",
    "# 인터페이스는 이미 만들어져있다.\n",
    "# 어드민 파일에 이것을 추가하면?\n",
    "from .models import Question\n",
    "\n",
    "admin.site.register(Question)\n",
    "# 퀘스쳔이 추가된 것을 볼 수 있다. "
   ]
  },
  {
   "cell_type": "code",
   "execution_count": null,
   "id": "47e29d3d",
   "metadata": {},
   "outputs": [],
   "source": [
    "# 검색창 추가하기\n",
    "# 행동은 나왔지만 검색창은 존재하지 않는다. 돋보기와 텍스트박스가 있었으면 좋겠다. \n",
    "from django.contrib import admin\n",
    "from .models import Question\n",
    "\n",
    "\n",
    "class QuestionAdmin(admin.ModelAdmin):\n",
    "    search_fields = ['subject']\n",
    "\n",
    "\n",
    "admin.site.register(Question, QuestionAdmin)\n",
    "# 이와 같이 바꿔서 클래스를 생성할 수 있다. \n",
    "https://docs.djangoproject.com/en/4.0/ref/contrib/admin/\n",
    "# 이 사이트에서 자세한 사항을 확인할 수 있다. "
   ]
  },
  {
   "cell_type": "code",
   "execution_count": null,
   "id": "afc0aefe",
   "metadata": {},
   "outputs": [],
   "source": [
    "from django.shortcuts import render\n",
    "from .models import Question\n",
    "\n",
    "\n",
    "def index(request):                                            # 파이보요청이 있으면 인덱스가 호출됨\n",
    "    question_list = Question.objects.order_by('-create_date')  # 내림차순 정렬이다. 오래된 퀘스트부터 밑으로 내려갈 것이다. \n",
    "    context = {'question_list': question_list}                 # 파이썬 데이터를 템플릿에 적용하여 HTML로 변환할 것이다. \n",
    "    return render(request, 'pybo/question_list.html', context) # 렌더함수를 사용하여 질문함수 이름으로 html이 변환된다. \n",
    "                                                                # 렌더링을 의미한다ㅏ. 요청을 하면 파이보, 질문리스트에 적븐한다. "
   ]
  },
  {
   "cell_type": "code",
   "execution_count": null,
   "id": "524d75d5",
   "metadata": {},
   "outputs": [],
   "source": [
    "# 템플릿 디렉터리\n",
    "# config에 템플릿이 있다. DIRS에 추가하자.\n",
    "'DIRS': [BASE_DIR / 'templates']\n",
    "# 템플릿 파일을 그대로 등록하는 것이다. \n",
    "# 그리고 템플릿 파일을 mysite에 만들어서 투입하면 된다. "
   ]
  },
  {
   "cell_type": "code",
   "execution_count": null,
   "id": "8d24bb2f",
   "metadata": {},
   "outputs": [],
   "source": [
    "# 템플릿 태그\n",
    "<!DOCTYPE html>\n",
    "<html lang=\"en\">\n",
    "<head>\n",
    "    <meta charset=\"UTF-8\">\n",
    "    <title>Title</title>\n",
    "</head>\n",
    "<body>\n",
    "{% if question_list %}                                                           # 만약 question_list가 있다면?\n",
    "    <ul>\n",
    "    {% for question in question_list %}                                          # 퀘스트에 담겨있는 리스트를 읽고\n",
    "        <li><a href=\"/pybo/{{ question.id }}/\">{{ question.subject }}</a></li>   # 여기에 출력을 하라는 뜻이다. a태그는 제목으로 제목에 링크가 걸린다는 것이다. \n",
    "    {% endfor %}                                                                  # 위의 중괄호 2개는 내부 내용을 출력하라는 뜻이다. 이건 HTML문법이 아니라 장고 문법이다. \n",
    "    </ul>                                                                         # endfor는 반복문을 끝내라는 것이다. \n",
    "{% else %}                                                                        # 질문이 없는 경우?\n",
    "    <p>질문이 없습니다.</p>                                                       # 질문이 없다고 표시\n",
    "{% endif %}                                                                       # if문 종료. \n",
    "</body>\n",
    "</html>\n",
    "# 파이보 밑의 question_list를 만든 다음 위와 같은 코드를 붙이자.\n",
    "# 물론 이거 클릭해봐야 아무것도 없을 것이다. 오류가 나올 것이다. "
   ]
  },
  {
   "cell_type": "code",
   "execution_count": null,
   "id": "7d16d428",
   "metadata": {},
   "outputs": [],
   "source": [
    "#forloop 객체\n",
    "# 파이썬의 enumerate와 비슷하다. \n",
    "# 객체, 속성을 한번에 출력할 때 사용할 수 있다.\n",
    "# 이제 질문칸에 접속을 하고싶다. \n",
    "<!DOCTYPE html>\n",
    "<html lang=\"en\">\n",
    "<head>\n",
    "    <meta charset=\"UTF-8\">\n",
    "    <title>Title</title>\n",
    "</head>\n",
    "<body>\n",
    "  <h1>{{ question.subject }}</h1>\n",
    "    <div>\n",
    "        {{ question.content }}\n",
    "    </div>\n",
    "</body>\n",
    "</html>\n",
    "# question_detail파일을 생성하고 다음과 같이 설정한다. \n",
    "# 이제 http://localhost:8000/pybo/에서는 문답이 생성되었을 것이다. \n",
    "# "
   ]
  },
  {
   "cell_type": "code",
   "execution_count": null,
   "id": "09d56997",
   "metadata": {},
   "outputs": [],
   "source": [
    "# 애러 설정\n",
    "http://localhost:8000/pybo/30/\n",
    "# 404 애러가 뜨긴 하지만 너무 섬세하게 코드까지 보여준다. \n",
    "# 내가 원하는 애러메세지로 보여줬으면 좋겠다. \n",
    "# views 파일을 바꿔서\n",
    "from django.shortcuts import render, get_object_or_404\n",
    "from .models import Question\n",
    "\n",
    "(... 생략 ...)\n",
    "\n",
    "def detail(request, question_id):\n",
    "    question = get_object_or_404(Question, pk=question_id)\n",
    "    context = {'question': question}\n",
    "    return render(request, 'pybo/question_detail.html', context)\n",
    "# 이렇게 설정하면 404애러로 넘어간다. 간결하고 확실하게 설정된다. "
   ]
  },
  {
   "cell_type": "code",
   "execution_count": null,
   "id": "993bc51e",
   "metadata": {},
   "outputs": [],
   "source": [
    "# url 별칭\n",
    "# 실제 프로젝트에서 URL 리팩토링은 빈번하게 발생한다. url이 바뀌는 경우는 생각보다 자주 발생한다. \n",
    "from django.urls import path\n",
    "\n",
    "from . import views\n",
    "\n",
    "urlpatterns = [\n",
    "    path('', views.index, name='index'),\n",
    "    path('<int:question_id>/', views.detail, name='detail'),\n",
    "]\n",
    "#urls를 이렇게 바꾸자. 그러면 별칭으로 url이 작성된다. 인덱스라는 이름으로 사용될 것이다. \n",
    "# 이제는 템플릿에서 detail이라는 이름을 사용할 수 있다. "
   ]
  },
  {
   "cell_type": "code",
   "execution_count": null,
   "id": "88928d1c",
   "metadata": {},
   "outputs": [],
   "source": [
    "# 그리고 질문 리스트에 있는 내용은 이렇게 바꾼다.\n",
    "{% if question_list %}\n",
    "    <ul>\n",
    "    {% for question in question_list %}\n",
    "        <li><a href=\"{% url 'detail' question.id %}\">{{ question.subject }}</a></li>\n",
    "    {% endfor %}\n",
    "    </ul>\n",
    "{% else %}\n",
    "    <p>질문이 없습니다.</p>\n",
    "{% endif %}\n",
    "# 이렇게 바꿈으로서 하드코딩 되어 있던 /pybo/{{ question.id }} 링크를 {% url 'detail' question.id %}로 변경했다. \n",
    "# 여기서 question.id는 URL 매핑에 정의된 <int:question_id>에 전달해야 하는 값을 의미한다.\n"
   ]
  },
  {
   "cell_type": "code",
   "execution_count": null,
   "id": "81ada68c",
   "metadata": {},
   "outputs": [],
   "source": [
    "# 네임스페이스\n",
    "# 동일한 url은 두 개 존재하지 못한다. 하나의 하늘에 두 개의 태양이 떠서는 안되는 법이다. \n",
    "# pybo의 urls에서 app_name변수를 추가하자.\n",
    "app_name = 'pybo'\n",
    "# 파일 이름이 동일하게 두 개가 있더라도 폴더가 다르면 구분된다. 같은 폴더에 있는 파일이 2개가 같을 수는 없어도 \n",
    "# 다른 폴더인 같은 이름의 파일 2개는 존재할 수 있다. 이를 이용한 것이다. 폴더가 다르면 충돌이 일어나지 않는다. \n",
    "# 이를 네임스페이스라고 한다. 공간이 다르면 구분이 되는 것이다. 많이 나오는 용어이다. \n",
    "# 이제 내부공간에 애러가 발생했다. 디테일과 인덱스는 app_name안에서 쓰이는 것이다보니 디테일을 별도로 지정해야 한다. \n",
    "# 그래서 디테일의 내부를 바꾸자. \n",
    "{% if question_list %}\n",
    "    <ul>\n",
    "    {% for question in question_list %}\n",
    "        <li><a href=\"{% url 'pybo:detail' question.id %}\">{{ question.subject }}</a></li>\n",
    "    {% endfor %}\n",
    "    </ul>\n",
    "{% else %}\n",
    "    <p>질문이 없습니다.</p>\n",
    "{% endif %}\n",
    "# pybo:detail을 추가하면 다시 정상가동할 것이다. "
   ]
  },
  {
   "cell_type": "code",
   "execution_count": null,
   "id": "3ac86adb",
   "metadata": {},
   "outputs": [],
   "source": [
    "# 답변 등록 폼\n",
    "<h1>{{ question.subject }}</h1>\n",
    "<div>\n",
    "    {{ question.content }}\n",
    "</div>\n",
    "<form action=\"{% url 'pybo:answer_create' question.id %}\" method=\"post\">  # 이동하고자 하는 주소이다. 포스트는 외부에 보이지 않는다. \n",
    "{% csrf_token %}                                                          # 보안관련이라 무조건 달아야 하는 부분이다. 폼에서 작성한건지 검증하는 부분이다. \n",
    "<textarea name=\"content\" id=\"content\" rows=\"15\"></textarea>               # 정확하게는 이 부분을 가져오고자 하는 것이다. 이름은 컨텐트고 15줄이 디폴트이다. \n",
    "<input type=\"submit\" value=\"답변등록\">                                    # 답변등록을 누르면 한칸 위의 부분이 주소로 전달되는 것이다.\n",
    "</form>\n",
    "# div에 다음과 같은 폼을 추가하면 오류가 뜰 것이다. answer_create를 지정하지 않았다. \n",
    "# 폼 태그로 되어있다. 폼 태그는 서버로 전달하기 위해서 사용한다. \n",
    "# 보안토큰은 서버전달 값과 해커가 보낸값이 일치하지 않는 것을 감지해서 바로 블록킹하는 기능이다. \n",
    "# csrf공격을 방지하는 기술이다. ㅏ웹사이트 취약점 공격 방지 기술이다. \n"
   ]
  },
  {
   "cell_type": "code",
   "execution_count": null,
   "id": "484313a5",
   "metadata": {},
   "outputs": [],
   "source": [
    "from django.urls import path\n",
    "\n",
    "from . import views\n",
    "\n",
    "app_name = 'pybo'\n",
    "\n",
    "urlpatterns = [\n",
    "    path('', views.index, name='index'),\n",
    "    path('<int:question_id>/', views.detail, name='detail'),\n",
    "    path('answer/create/<int:question_id>/', views.answer_create, name='answer_create'),\n",
    "]\n",
    "# answer_create를 지정하고 싶다. 이렇게 하자. \n",
    "# 추가될 페이지에 대한 패스로 지정하는 것이다. 'answer/create/<int:question_id>/'순으로 답안이 할당될 것이다. "
   ]
  },
  {
   "cell_type": "code",
   "execution_count": null,
   "id": "a6af9a75",
   "metadata": {},
   "outputs": [],
   "source": [
    "# 뷰 함수에 추가하기\n",
    "from django.shortcuts import render, get_object_or_404, redirect\n",
    "from django.utils import timezone\n",
    "from .models import Question\n",
    "\n",
    "(... 생략 ...)\n",
    "\n",
    "def answer_create(request, question_id):\n",
    "    question = get_object_or_404(Question, pk=question_id)\n",
    "    question.answer_set.create(content=request.POST.get('content'), create_date=timezone.now())\n",
    "    return redirect('pybo:detail', question_id=question.id)\n",
    "# 답변을 작성하고 답변을 등록하는 것이 컨텐트이다. 15줄이 디폴트이다. \n",
    "# 이제 박스 나오고 답변을 달 수 잇게 나올 것이다. 텍스트 줄이 15줄이다. "
   ]
  },
  {
   "cell_type": "code",
   "execution_count": null,
   "id": "5fdf7715",
   "metadata": {},
   "outputs": [],
   "source": [
    "# 답변 추가하기\n",
    "# 먼저 answer_create에 다음과 같이 대체한다.\n",
    "answer = Answer(question=question, content=request.POST.get('content'), create_date=timezone.now())\n",
    "answer.save()\n",
    "# 그리고 question_detail에 다음과 같은 코드를 body안에 추가한다.\n",
    "<h5>{{ question.answer_set.count }}개의 답변이 있습니다.</h5>\n",
    "<div>\n",
    "    <ul>\n",
    "    {% for answer in question.answer_set.all %}\n",
    "        <li>{{ answer.content }}</li>\n",
    "    {% endfor %}\n",
    "    </ul>\n",
    "</div>\n",
    "# 이를 통해 추가된 답변을 확인하는 것이 가능하다. \n",
    "# 디자인 적인 측면은 스태틱과 부트스트랩으로 할 것이다. "
   ]
  },
  {
   "cell_type": "code",
   "execution_count": null,
   "id": "ff7d6a16",
   "metadata": {},
   "outputs": [],
   "source": []
  },
  {
   "cell_type": "code",
   "execution_count": null,
   "id": "2fd55e6d",
   "metadata": {},
   "outputs": [],
   "source": []
  },
  {
   "cell_type": "code",
   "execution_count": null,
   "id": "d2096556",
   "metadata": {},
   "outputs": [],
   "source": []
  },
  {
   "cell_type": "code",
   "execution_count": null,
   "id": "b006e41f",
   "metadata": {},
   "outputs": [],
   "source": []
  },
  {
   "cell_type": "code",
   "execution_count": null,
   "id": "d7e6cb2e",
   "metadata": {},
   "outputs": [],
   "source": []
  },
  {
   "cell_type": "code",
   "execution_count": null,
   "id": "44969a37",
   "metadata": {},
   "outputs": [],
   "source": []
  },
  {
   "cell_type": "code",
   "execution_count": null,
   "id": "96789a40",
   "metadata": {},
   "outputs": [],
   "source": []
  },
  {
   "cell_type": "code",
   "execution_count": null,
   "id": "b27b2456",
   "metadata": {},
   "outputs": [],
   "source": []
  }
 ],
 "metadata": {
  "kernelspec": {
   "display_name": "Python 3 (ipykernel)",
   "language": "python",
   "name": "python3"
  },
  "language_info": {
   "codemirror_mode": {
    "name": "ipython",
    "version": 3
   },
   "file_extension": ".py",
   "mimetype": "text/x-python",
   "name": "python",
   "nbconvert_exporter": "python",
   "pygments_lexer": "ipython3",
   "version": "3.11.5"
  }
 },
 "nbformat": 4,
 "nbformat_minor": 5
}
