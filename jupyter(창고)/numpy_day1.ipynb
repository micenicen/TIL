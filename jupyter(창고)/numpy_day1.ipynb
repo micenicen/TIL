{
 "cells": [
  {
   "cell_type": "code",
   "execution_count": 89,
   "id": "8667892a",
   "metadata": {},
   "outputs": [
    {
     "name": "stdout",
     "output_type": "stream",
     "text": [
      "[0, 0, 0, 0, 0, 0, 0, 0, 0]\n",
      "[0, 0, 0, 0, 0, 0, 0, 0, 0]\n",
      "[0, 0, 0, 0, 0, 0, 0, 0, 0]\n",
      "[0, 0, 0, 0, 0, 0, 0, 0, 0]\n",
      "[0, 0, 0, 0, 0, 0, 0, 0, 0]\n",
      "[0, 0, 0, 0, 0, 0, 0, 0, 0]\n",
      "[0, 0, 0, 0, 0, 0, 0, 0, 0]\n",
      "[0, 0, 0, 0, 0, 0, 0, 0, 0]\n",
      "좌표 (2, 3): 0\n",
      "[0, 0, 0, 0, 0, 0, 0, 0, 0]\n",
      "[1, 0, 0, 0, 0, 0, 0, 1, 0]\n",
      "[1, 0, 0, 0, 0, 1, 0, 1, 0]\n",
      "[1, 0, 0, 0, 0, 1, 0, 1, 0]\n",
      "[1, 1, 0, 0, 0, 1, 0, 1, 0]\n",
      "[1, 1, 0, 0, 0, 1, 0, 1, 0]\n",
      "[1, 1, 1, 0, 0, 1, 0, 1, 0]\n",
      "[1, 1, 1, 0, 0, 1, 0, 1, 0]\n"
     ]
    }
   ],
   "source": [
    "#문제풀이 순서를 정해보자.\n",
    "# 문제에 쓰일 재료를 준비하자.\n",
    "gravity=[7,4,2,0,0,6,0,7,0]\n",
    "# 0으로 이루어진 리스트를 만들어보자.\n",
    "matrix = [[0 for _ in range(9)] for _ in range(8)]\n",
    "\n",
    "# 리스트를 출력해보자\n",
    "for row in matrix:\n",
    "    print(row)\n",
    "    \n",
    "# 좌표출력은 다음과 같이 이루어진다.\n",
    "print(f\"좌표 ({x}, {y}): {matrix[x][y]}\")\n",
    "\n",
    "# 그래비티의 값만큼 매트릭스의 값을 증가시켜보자.\n",
    "for i in range(len(gravity)):\n",
    "    num_stack = gravity[i]\n",
    "    while num_stack > 0:\n",
    "        matrix[-num_stack][i] = 1\n",
    "        num_stack -= 1\n",
    "for row in matrix:\n",
    "    print(row)\n",
    "# 그림과 같이 숫자가 채워졌다. g2에서 주어진 그림과 같다.\n",
    "\n",
    "\n",
    "\n",
    "\n",
    "    "
   ]
  },
  {
   "cell_type": "code",
   "execution_count": 90,
   "id": "b748c980",
   "metadata": {},
   "outputs": [
    {
     "name": "stdout",
     "output_type": "stream",
     "text": [
      "-1-1\n",
      "-1-3\n",
      "-1-5\n",
      "-1-6\n",
      "-2-1\n",
      "-2-3\n",
      "-2-5\n",
      "-2-6\n",
      "-3-1\n",
      "-3-3\n",
      "-3-5\n",
      "-3-6\n",
      "-3-7\n",
      "-4-1\n",
      "-4-3\n",
      "-4-5\n",
      "-4-6\n",
      "-4-7\n",
      "-5-1\n",
      "-5-3\n",
      "-5-5\n",
      "-5-6\n",
      "-5-7\n",
      "-5-8\n",
      "-6-1\n",
      "-6-3\n",
      "-6-5\n",
      "-6-6\n",
      "-6-7\n",
      "-6-8\n",
      "-7-1\n",
      "-7-3\n",
      "-7-4\n",
      "-7-5\n",
      "-7-6\n",
      "-7-7\n",
      "-7-8\n",
      "-8-1\n",
      "-8-2\n",
      "-8-3\n",
      "-8-4\n",
      "-8-5\n",
      "-8-6\n",
      "-8-7\n",
      "-8-8\n",
      "-8-9\n"
     ]
    }
   ],
   "source": [
    "# 이제 문제를 풀기 위해서 상자를 오른쪽으로 붙이는 시도를 해보자.\n",
    "for k in range(-1,-9,-1):\n",
    "    for l in range(-1,-10,-1):\n",
    "        if matrix[k][l] == 0:\n",
    "            print(f\"{k}{l}\")\n",
    "# 맨 아래 구석부터 왼쪽으로 가는 것을 볼 수 있다. 이것을 이용할 것이다."
   ]
  },
  {
   "cell_type": "code",
   "execution_count": 91,
   "id": "0a1b3b71",
   "metadata": {},
   "outputs": [
    {
     "name": "stdout",
     "output_type": "stream",
     "text": [
      "[0, 0, 0, 0, 0, 0, 0, 0, 0]\n",
      "[0, 0, 0, 0, 0, 0, 0, 1, 1]\n",
      "[0, 0, 0, 0, 0, 0, 1, 1, 1]\n",
      "[0, 0, 0, 0, 0, 0, 1, 1, 1]\n",
      "[0, 0, 0, 0, 0, 1, 1, 1, 1]\n",
      "[0, 0, 0, 0, 0, 1, 1, 1, 1]\n",
      "[0, 0, 0, 0, 1, 1, 1, 1, 1]\n",
      "[0, 0, 0, 0, 1, 1, 1, 1, 1]\n",
      "7\n"
     ]
    }
   ],
   "source": [
    "ans_list = []\n",
    "for k in range(-1, -9, -1):\n",
    "    move_stack = 0\n",
    "    for l in range(-1, -10, -1):\n",
    "        if matrix[k][l] == 0:\n",
    "            move_stack += 1\n",
    "        elif matrix[k][l] == 1:\n",
    "            matrix[k][l] = 0\n",
    "            matrix[k][l + move_stack] = 1\n",
    "            ans_list.append(move_stack)\n",
    "# 리스트를 출력해보자\n",
    "for row in matrix:\n",
    "    print(row)         \n",
    "# 자. 한쪽으로 몰린 것을 볼 수 있을것이다. \n",
    "# 내부에 무브스택을 기재해서 1이 움직인 값을 기록한다.\n",
    "max_value = max(ans_list)\n",
    "# 무브스택이 기록된 리스트 내부에서 최댓값을 구한다.\n",
    "print(max_value)\n",
    "# 이런 식으로 최댓값을 구해서 답을 찾는게 가능하다.\n"
   ]
  },
  {
   "cell_type": "code",
   "execution_count": 82,
   "id": "05a6a38d",
   "metadata": {},
   "outputs": [
    {
     "name": "stdout",
     "output_type": "stream",
     "text": [
      "4\n",
      "4\n",
      "5\n",
      "5\n",
      "6\n",
      "6\n",
      "7\n"
     ]
    }
   ],
   "source": [
    "gravity=[7,4,2,0,0,6,0,7,0]\n",
    "gravity.reverse()\n",
    "num=max(gravity)\n",
    "list1=[]\n",
    "\n",
    "for i in gravity:\n",
    "    if i==0:\n",
    "        list1.append([str(i)*max(gravity)])\n",
    "    else:\n",
    "        list1.append([(\"1\"*i)+(\"0\"*(num-i))])\n",
    "        list1\n",
    "#----------------------\n",
    "column_sums = [0] * len(list1[0][0])\n",
    "for row in list1:\n",
    "    for i, digit in enumerate(row[0]):\n",
    "        column_sums[i] += int(digit)\n",
    "# 결과 출력\n",
    "for column_sum in column_sums:\n",
    "    print(9-column_sum)"
   ]
  },
  {
   "cell_type": "code",
   "execution_count": 83,
   "id": "3c174461",
   "metadata": {},
   "outputs": [
    {
     "name": "stdout",
     "output_type": "stream",
     "text": [
      "[7,4,2,0,0,6,0,7,0]\n"
     ]
    },
    {
     "ename": "ValueError",
     "evalue": "invalid literal for int() with base 10: '['",
     "output_type": "error",
     "traceback": [
      "\u001b[1;31m---------------------------------------------------------------------------\u001b[0m",
      "\u001b[1;31mValueError\u001b[0m                                Traceback (most recent call last)",
      "Cell \u001b[1;32mIn[83], line 30\u001b[0m\n\u001b[0;32m     26\u001b[0m     final_min\n\u001b[0;32m     28\u001b[0m     \u001b[38;5;28mprint\u001b[39m(\u001b[38;5;124m\"\u001b[39m\u001b[38;5;124m정답은\u001b[39m\u001b[38;5;124m\"\u001b[39m,lis[final_min\u001b[38;5;241m-\u001b[39m\u001b[38;5;241m1\u001b[39m],\u001b[38;5;124m\"\u001b[39m\u001b[38;5;124m입니다\u001b[39m\u001b[38;5;124m\"\u001b[39m)\n\u001b[1;32m---> 30\u001b[0m nakcha()\n",
      "Cell \u001b[1;32mIn[83], line 4\u001b[0m, in \u001b[0;36mnakcha\u001b[1;34m()\u001b[0m\n\u001b[0;32m      3\u001b[0m \u001b[38;5;28;01mdef\u001b[39;00m \u001b[38;5;21mnakcha\u001b[39m():\n\u001b[1;32m----> 4\u001b[0m     lis \u001b[38;5;241m=\u001b[39m \u001b[38;5;28mlist\u001b[39m(\u001b[38;5;28mmap\u001b[39m(\u001b[38;5;28mint\u001b[39m, \u001b[38;5;28mlist\u001b[39m(\u001b[38;5;28minput\u001b[39m())))\n\u001b[0;32m      6\u001b[0m     Tetris \u001b[38;5;241m=\u001b[39m np\u001b[38;5;241m.\u001b[39mzeros((\u001b[38;5;28mlen\u001b[39m(lis),\u001b[38;5;28mlen\u001b[39m(lis)))\n\u001b[0;32m      8\u001b[0m     n\u001b[38;5;241m=\u001b[39m\u001b[38;5;241m0\u001b[39m\n",
      "\u001b[1;31mValueError\u001b[0m: invalid literal for int() with base 10: '['"
     ]
    }
   ],
   "source": [
    "import numpy as np\n",
    "\n",
    "def nakcha():\n",
    "    lis = list(map(int, list(input())))\n",
    "\n",
    "    Tetris = np.zeros((len(lis),len(lis)))\n",
    "\n",
    "    n=0\n",
    "    for i in lis:\n",
    "        Tetris[:i,n] = n+1\n",
    "        n+=1\n",
    "\n",
    "    non_zero_count_list = []\n",
    "    for i in range(0,len(lis)):\n",
    "        selected_row = Tetris[i,:]\n",
    "        non_zero_count = np.count_nonzero(selected_row)\n",
    "        non_zero_count_list.append(non_zero_count)\n",
    "    \n",
    "\n",
    "    min_Tetris = np.argmin(non_zero_count_list)\n",
    "    min_Tetris\n",
    "    \n",
    "    final = Tetris[min_Tetris,:]\n",
    "\n",
    "    final_min = np.argmin(final)\n",
    "    final_min\n",
    "\n",
    "    print(\"정답은\",lis[final_min-1],\"입니다\")\n",
    "\n",
    "nakcha()"
   ]
  },
  {
   "cell_type": "code",
   "execution_count": 84,
   "id": "c10ac54d",
   "metadata": {},
   "outputs": [
    {
     "data": {
      "text/plain": [
       "7"
      ]
     },
     "execution_count": 84,
     "metadata": {},
     "output_type": "execute_result"
    }
   ],
   "source": [
    "array=[[1,1,1,0,0,1,0,1,0],[1,1,1,0,0,1,0,1,0],[1,1,0,0,0,1,0,1,0],\n",
    "       [1,1,0,0,0,1,0,1,0],[1,0,0,0,0,1,0,1,0],[1,0,0,0,0,1,0,1,0],[1,0,0,0,0,0,0,1,0]]\n",
    "\n",
    "count_zero=[]          #0의 갯수가 낙차를 의미\n",
    "for i in range(len(array)):\n",
    "    count_zero.append(array[i].count(0))\n",
    "    \n",
    "\n",
    "max(count_zero)     #0의 갯수 중 최대값"
   ]
  },
  {
   "cell_type": "code",
   "execution_count": 95,
   "id": "a8ab7282",
   "metadata": {},
   "outputs": [
    {
     "name": "stdout",
     "output_type": "stream",
     "text": [
      "[[ 0  1  0]\n",
      " [ 1  2 -2]\n",
      " [ 6  3  2]\n",
      " [-1  0 -1]\n",
      " [ 1  0  1]]\n"
     ]
    }
   ],
   "source": [
    "import numpy as np\n",
    "arr = np.array([[0, 1, 0], [1, 2, -2], [6, 3, 2], [-1, 0, -1], [1, 0, 1]])\n",
    "print(arr)"
   ]
  },
  {
   "cell_type": "code",
   "execution_count": 97,
   "id": "301f5b9a",
   "metadata": {},
   "outputs": [
    {
     "name": "stdout",
     "output_type": "stream",
     "text": [
      "[[ 0  1  6 -1  1]\n",
      " [ 1  2  3  0  0]\n",
      " [ 0 -2  2 -1  1]]\n"
     ]
    }
   ],
   "source": [
    "print(arr.T)"
   ]
  },
  {
   "cell_type": "code",
   "execution_count": 98,
   "id": "7ee7c5b6",
   "metadata": {},
   "outputs": [
    {
     "name": "stdout",
     "output_type": "stream",
     "text": [
      "[[ 1  2  3  0  0]\n",
      " [ 2  9  8  1 -1]\n",
      " [ 3  8 49 -8  8]\n",
      " [ 0  1 -8  2 -2]\n",
      " [ 0 -1  8 -2  2]]\n"
     ]
    }
   ],
   "source": [
    "print(np.dot(arr,arr.T))"
   ]
  },
  {
   "cell_type": "code",
   "execution_count": 99,
   "id": "e693df75",
   "metadata": {},
   "outputs": [
    {
     "name": "stdout",
     "output_type": "stream",
     "text": [
      "[[ 1  2  3  0  0]\n",
      " [ 2  9  8  1 -1]\n",
      " [ 3  8 49 -8  8]\n",
      " [ 0  1 -8  2 -2]\n",
      " [ 0 -1  8 -2  2]]\n"
     ]
    }
   ],
   "source": [
    "print(arr@ arr.T)#이것이 왜 곱해지는 것인지 모르겠습니다."
   ]
  },
  {
   "cell_type": "code",
   "execution_count": 104,
   "id": "92c5157b",
   "metadata": {},
   "outputs": [
    {
     "name": "stdout",
     "output_type": "stream",
     "text": [
      "[10  7 10  9  9  4]\n"
     ]
    }
   ],
   "source": [
    "print(np.random.randint(1,11,6)) # 난수를 뽑아내기"
   ]
  },
  {
   "cell_type": "code",
   "execution_count": 109,
   "id": "fe7843f7",
   "metadata": {},
   "outputs": [
    {
     "name": "stdout",
     "output_type": "stream",
     "text": [
      "[[ 8  3]\n",
      " [10 10]\n",
      " [ 4  7]]\n"
     ]
    }
   ],
   "source": [
    "print(np.random.randint(1, 11, size=(3,2))) # 랜덤한 수를 뽑아내기"
   ]
  },
  {
   "cell_type": "code",
   "execution_count": 113,
   "id": "e4ee7951",
   "metadata": {
    "scrolled": true
   },
   "outputs": [
    {
     "name": "stdout",
     "output_type": "stream",
     "text": [
      "[[ 6  9]\n",
      " [15  9]\n",
      " [50 43]\n",
      " [-6 -6]\n",
      " [ 6  6]]\n",
      "[[ 0  1  0]\n",
      " [ 1  2 -2]\n",
      " [ 6  3  2]\n",
      " [-1  0 -1]\n",
      " [ 1  0  1]]\n",
      "[[5 1]\n",
      " [6 9]\n",
      " [1 5]]\n"
     ]
    }
   ],
   "source": [
    "arr2 = np.random.randint(1, 11, size=(3,2))\n",
    "print(arr@ arr2)\n",
    "print(arr)\n",
    "print(arr2)"
   ]
  },
  {
   "cell_type": "code",
   "execution_count": null,
   "id": "8dae7d9a",
   "metadata": {},
   "outputs": [],
   "source": [
    "# 벡터에 대해서\n",
    "# 날짜에 따라 장부를 작성한다고 하자. 사과, 배, 딸기, 바나나 순으로 판매된 수량을 적어놓았다.\n",
    "(5,2,1,0)\n",
    "(0,1,2,3)\n",
    "...\n",
    "(2,3,1,0)\n",
    "# 여기서 사과, 배, 딸기, 바나나의 가격을 기준하였다.\n",
    "# 사과 = 200, 배 = 100 , 딸기 = 300, 바나나 = 500\n",
    "# 여기서 자료를 읽는 순서를 행렬이라고 한다.\n",
    "# 행 벡터, 열 백터로 나누는 것이다.\n",
    "# 방금 있던 행렬의 곱셈을 한다면 다음과 같다.\n",
    "(5,2,1,0)  사과   200  \n",
    "(0,1,2,3)  배     100\n",
    "...        딸기   300\n",
    "(2,3,1,0)  바나나 500\n",
    "#만약 1일치를 곱한다면 5*200+ 2*100 + 1*300 + 0*500 = 1500\n",
    "#이런식으로 작성이 되는 것이다.\n"
   ]
  },
  {
   "cell_type": "code",
   "execution_count": null,
   "id": "6e075739",
   "metadata": {},
   "outputs": [],
   "source": [
    "arr3 = np.array([[0, 0, 1], [0, 1, 0], [1, 0, 0]])\n",
    "arr4 = np.array([[100],[200],[500]])\n",
    "print(arr3 @ arr4)\n",
    "#곱은 이런 식으로 이루어진다."
   ]
  },
  {
   "cell_type": "code",
   "execution_count": 154,
   "id": "bb9a9923",
   "metadata": {},
   "outputs": [
    {
     "name": "stdout",
     "output_type": "stream",
     "text": [
      "[[1500]\n",
      " [2200]\n",
      " [1000]]\n"
     ]
    }
   ],
   "source": [
    "# 만약 위의 사례같은 케이스로 기준하자면\n",
    "machul = np.array([[5,2,1,0],[0,1,2,3],[2,3,1,0]])\n",
    "gaguak = np.array([[200],[100],[300],[500]])\n",
    "print(machul@gaguak)\n",
    "# 하루의 매출을 이렇게 정리를 할 수 있게 되었다.\n",
    "# 곱셈의 원리는 이렇게 이루어지는 것이다. "
   ]
  },
  {
   "cell_type": "code",
   "execution_count": null,
   "id": "4d4dd855",
   "metadata": {},
   "outputs": [],
   "source": [
    "# 영상처리에서도 자주 사용된다. \n",
    "# 사람얼굴 이미지가 흑백 이미지는 1개의 채널이 있다. \n",
    "# 0부터 255까지 출력하는 것은 컬러 이미지로 나오게 된다.\n",
    "# 이미지도 결국 행렬이다. 이미지로부터 자료도 이런 행렬로 바뀐다.\n",
    "# 색을 변화시키는 것도 결국 저 내부의 숫자를 바꾼 결과물이다.\n",
    "# 줌인 줌아웃, 이미지 변환, 회전 등 전부 행렬에 대해서 연산한 결과이다.\n",
    "# 특히 이미지 처리 쪽에서 행렬연산을 많이한다."
   ]
  },
  {
   "cell_type": "code",
   "execution_count": null,
   "id": "7c973e2c",
   "metadata": {},
   "outputs": [],
   "source": [
    "# 정규분포는 종 모양으로 대칭을 이루는 데이터모양이다.\n",
    "# 중간값을 기준으로 종모양처럼 튀어나와있다는 것이다.\n",
    "# 평균을 디폴트값으로 지정하고(대체로 0) 표준편차를 1로 정의한 분포를 \"표준정규분포\"라고 한다.\n",
    "# 표준정규분포로부터 난수를 발생시키는 함수를 두고 스탠다드 노멀이라고 한다.\n",
    "# 표준정규분포로부터 데이터를 추출하는 것이다.\n"
   ]
  },
  {
   "cell_type": "code",
   "execution_count": 117,
   "id": "730a6867",
   "metadata": {},
   "outputs": [
    {
     "name": "stdout",
     "output_type": "stream",
     "text": [
      "[[ 0.58013993  0.81716738 -1.54767469  1.0818598 ]\n",
      " [-0.17508613 -0.4501625   0.79115164 -0.87969175]\n",
      " [ 0.73420238 -1.17876216  0.26712432 -0.40431998]\n",
      " [-1.01920977 -0.4679291   0.07751787  0.92354151]]\n"
     ]
    }
   ],
   "source": [
    "samples = np.random.standard_normal(size=(4,4))\n",
    "print(samples)"
   ]
  },
  {
   "cell_type": "code",
   "execution_count": 118,
   "id": "9ea7ba47",
   "metadata": {},
   "outputs": [
    {
     "data": {
      "text/plain": [
       "-0.05313320327527734"
      ]
     },
     "execution_count": 118,
     "metadata": {},
     "output_type": "execute_result"
    }
   ],
   "source": [
    "np.mean(samples) #샘플의 의미는 무엇인가?"
   ]
  },
  {
   "cell_type": "code",
   "execution_count": 119,
   "id": "76013d33",
   "metadata": {},
   "outputs": [
    {
     "data": {
      "text/plain": [
       "0.8076973329869945"
      ]
     },
     "execution_count": 119,
     "metadata": {},
     "output_type": "execute_result"
    }
   ],
   "source": [
    "np.std(samples) #1에 가깝게 수렴한다. "
   ]
  },
  {
   "cell_type": "code",
   "execution_count": 122,
   "id": "30ee0fa4",
   "metadata": {},
   "outputs": [],
   "source": [
    "xarr = np.array([1.1, 1.2, 1.3, 1.4, 1.5])\n",
    "yarr = np.array([2.1, 2.2, 2.3, 2.4, 2.5])\n",
    "cond = np.array([True, False, True, True, False])"
   ]
  },
  {
   "cell_type": "code",
   "execution_count": 128,
   "id": "7b5fc6fc",
   "metadata": {
    "scrolled": true
   },
   "outputs": [
    {
     "name": "stdout",
     "output_type": "stream",
     "text": [
      "[1.1 2.2 1.3 1.4 2.5]\n"
     ]
    }
   ],
   "source": [
    "print((xarr * cond) + (yarr * ~cond)) # 덧셈을 하면 요소끼리 덧셈을 해버린다. \n",
    "#즉 트루면 곱한것에 폴스만 곱한것을 더하는 식이다."
   ]
  },
  {
   "cell_type": "code",
   "execution_count": 130,
   "id": "141841ad",
   "metadata": {},
   "outputs": [
    {
     "name": "stdout",
     "output_type": "stream",
     "text": [
      "[1.1, 2.2, 1.3, 1.4, 2.5]\n"
     ]
    }
   ],
   "source": [
    "print([(x if c else y)for x, y ,c in zip(xarr, yarr, cond)])"
   ]
  },
  {
   "cell_type": "code",
   "execution_count": 132,
   "id": "d868da63",
   "metadata": {},
   "outputs": [
    {
     "name": "stdout",
     "output_type": "stream",
     "text": [
      "[1.1 2.2 1.3 1.4 2.5]\n"
     ]
    }
   ],
   "source": [
    "np.where(True,\"참\",\"거짓\")#조건에 대한 수행 결과는 첫번째 칸, 참일때는 두번째, 거짓일 때는 세번째칸에 대입이 가능하다.\n",
    "print(np.where(cond,xarr,yarr)) #엔피웨어는 잘 쓰면 굉장히 편하다. "
   ]
  },
  {
   "cell_type": "code",
   "execution_count": 141,
   "id": "df5de2ba",
   "metadata": {},
   "outputs": [
    {
     "data": {
      "text/plain": [
       "array([[1.08566414, 0.        , 0.        , 0.01241491],\n",
       "       [0.08875437, 0.        , 0.        , 0.08406801],\n",
       "       [0.        , 0.        , 0.        , 0.11059884],\n",
       "       [0.        , 0.82750095, 0.        , 0.41213991]])"
      ]
     },
     "execution_count": 141,
     "metadata": {},
     "output_type": "execute_result"
    }
   ],
   "source": [
    "np.where(arr<0,0,arr)#np.where를 이런 식으로 사용한다. "
   ]
  },
  {
   "cell_type": "code",
   "execution_count": 146,
   "id": "57f01fff",
   "metadata": {},
   "outputs": [
    {
     "data": {
      "text/html": [
       "<div>\n",
       "<style scoped>\n",
       "    .dataframe tbody tr th:only-of-type {\n",
       "        vertical-align: middle;\n",
       "    }\n",
       "\n",
       "    .dataframe tbody tr th {\n",
       "        vertical-align: top;\n",
       "    }\n",
       "\n",
       "    .dataframe thead th {\n",
       "        text-align: right;\n",
       "    }\n",
       "</style>\n",
       "<table border=\"1\" class=\"dataframe\">\n",
       "  <thead>\n",
       "    <tr style=\"text-align: right;\">\n",
       "      <th></th>\n",
       "      <th>제품</th>\n",
       "      <th>수량</th>\n",
       "      <th>제조일시</th>\n",
       "    </tr>\n",
       "  </thead>\n",
       "  <tbody>\n",
       "    <tr>\n",
       "      <th>0</th>\n",
       "      <td>milk</td>\n",
       "      <td>3</td>\n",
       "      <td>2020-01-01 01:00:00</td>\n",
       "    </tr>\n",
       "    <tr>\n",
       "      <th>1</th>\n",
       "      <td>juice</td>\n",
       "      <td>5</td>\n",
       "      <td>2019-12-20 15:01:00</td>\n",
       "    </tr>\n",
       "    <tr>\n",
       "      <th>2</th>\n",
       "      <td>bread</td>\n",
       "      <td>10</td>\n",
       "      <td>2019-12-31 00:00:00</td>\n",
       "    </tr>\n",
       "    <tr>\n",
       "      <th>3</th>\n",
       "      <td>icecream</td>\n",
       "      <td>2</td>\n",
       "      <td>2020-01-02 02:03:01</td>\n",
       "    </tr>\n",
       "  </tbody>\n",
       "</table>\n",
       "</div>"
      ],
      "text/plain": [
       "         제품  수량                제조일시\n",
       "0      milk   3 2020-01-01 01:00:00\n",
       "1     juice   5 2019-12-20 15:01:00\n",
       "2     bread  10 2019-12-31 00:00:00\n",
       "3  icecream   2 2020-01-02 02:03:01"
      ]
     },
     "execution_count": 146,
     "metadata": {},
     "output_type": "execute_result"
    }
   ],
   "source": [
    "import pandas as pd\n",
    "import numpy as np\n",
    "\n",
    "lst_A = {'제품':['milk','juice','bread','icecream'],\n",
    "         '수량':[3,5,10,2],\n",
    "         '제조일시':['2020-01-01 01:00:00','2019-12-20 15:01:00','2019-12-31 00:00:00','2020-01-02 02:03:01']}\n",
    "\n",
    "df = pd.DataFrame(lst_A)\n",
    "\n",
    "df['제조일시'] = pd.to_datetime(df['제조일시'])\n",
    "df\n",
    "df['제조일시'] = pd.to_datetime(df[\"제조일시\"])\n",
    "df"
   ]
  },
  {
   "cell_type": "code",
   "execution_count": 150,
   "id": "e4672418",
   "metadata": {},
   "outputs": [
    {
     "data": {
      "text/html": [
       "<div>\n",
       "<style scoped>\n",
       "    .dataframe tbody tr th:only-of-type {\n",
       "        vertical-align: middle;\n",
       "    }\n",
       "\n",
       "    .dataframe tbody tr th {\n",
       "        vertical-align: top;\n",
       "    }\n",
       "\n",
       "    .dataframe thead th {\n",
       "        text-align: right;\n",
       "    }\n",
       "</style>\n",
       "<table border=\"1\" class=\"dataframe\">\n",
       "  <thead>\n",
       "    <tr style=\"text-align: right;\">\n",
       "      <th></th>\n",
       "      <th>제품</th>\n",
       "      <th>수량</th>\n",
       "      <th>제조일시</th>\n",
       "      <th>초과여부</th>\n",
       "    </tr>\n",
       "  </thead>\n",
       "  <tbody>\n",
       "    <tr>\n",
       "      <th>0</th>\n",
       "      <td>milk</td>\n",
       "      <td>3</td>\n",
       "      <td>2020-01-01 01:00:00</td>\n",
       "      <td>적정</td>\n",
       "    </tr>\n",
       "    <tr>\n",
       "      <th>1</th>\n",
       "      <td>juice</td>\n",
       "      <td>5</td>\n",
       "      <td>2019-12-20 15:01:00</td>\n",
       "      <td>초과</td>\n",
       "    </tr>\n",
       "    <tr>\n",
       "      <th>2</th>\n",
       "      <td>bread</td>\n",
       "      <td>10</td>\n",
       "      <td>2019-12-31 00:00:00</td>\n",
       "      <td>초과</td>\n",
       "    </tr>\n",
       "    <tr>\n",
       "      <th>3</th>\n",
       "      <td>icecream</td>\n",
       "      <td>2</td>\n",
       "      <td>2020-01-02 02:03:01</td>\n",
       "      <td>적정</td>\n",
       "    </tr>\n",
       "  </tbody>\n",
       "</table>\n",
       "</div>"
      ],
      "text/plain": [
       "         제품  수량                제조일시 초과여부\n",
       "0      milk   3 2020-01-01 01:00:00   적정\n",
       "1     juice   5 2019-12-20 15:01:00   초과\n",
       "2     bread  10 2019-12-31 00:00:00   초과\n",
       "3  icecream   2 2020-01-02 02:03:01   적정"
      ]
     },
     "execution_count": 150,
     "metadata": {},
     "output_type": "execute_result"
    }
   ],
   "source": [
    "#수량이 5 미만이면 적정으로, 그렇지 않으면 초과로 문자열을 초과여부 면에 추가하고 싶다. \n",
    "#수량이 5 미만일 때 초과여부를 열에 저장하고 싶다면? 넘파이의  where함수를 이용해서 풀 수 있따.\n",
    "df['초과여부'] = np.where(df['수량']<5, \"적정\", \"초과\")\n",
    "df\n",
    "#np.where는 다양한 연산, 작업, 출력을 수행할 수 있게 해 준다.\n"
   ]
  },
  {
   "cell_type": "code",
   "execution_count": 151,
   "id": "af0e9506",
   "metadata": {},
   "outputs": [
    {
     "data": {
      "text/html": [
       "<div>\n",
       "<style scoped>\n",
       "    .dataframe tbody tr th:only-of-type {\n",
       "        vertical-align: middle;\n",
       "    }\n",
       "\n",
       "    .dataframe tbody tr th {\n",
       "        vertical-align: top;\n",
       "    }\n",
       "\n",
       "    .dataframe thead th {\n",
       "        text-align: right;\n",
       "    }\n",
       "</style>\n",
       "<table border=\"1\" class=\"dataframe\">\n",
       "  <thead>\n",
       "    <tr style=\"text-align: right;\">\n",
       "      <th></th>\n",
       "      <th>제품</th>\n",
       "      <th>수량</th>\n",
       "      <th>제조일시</th>\n",
       "      <th>초과여부</th>\n",
       "      <th>제품종류</th>\n",
       "    </tr>\n",
       "  </thead>\n",
       "  <tbody>\n",
       "    <tr>\n",
       "      <th>0</th>\n",
       "      <td>milk</td>\n",
       "      <td>3</td>\n",
       "      <td>2020-01-01 01:00:00</td>\n",
       "      <td>적정</td>\n",
       "      <td>음료</td>\n",
       "    </tr>\n",
       "    <tr>\n",
       "      <th>1</th>\n",
       "      <td>juice</td>\n",
       "      <td>5</td>\n",
       "      <td>2019-12-20 15:01:00</td>\n",
       "      <td>초과</td>\n",
       "      <td>음료</td>\n",
       "    </tr>\n",
       "    <tr>\n",
       "      <th>2</th>\n",
       "      <td>bread</td>\n",
       "      <td>10</td>\n",
       "      <td>2019-12-31 00:00:00</td>\n",
       "      <td>초과</td>\n",
       "      <td>간식</td>\n",
       "    </tr>\n",
       "    <tr>\n",
       "      <th>3</th>\n",
       "      <td>icecream</td>\n",
       "      <td>2</td>\n",
       "      <td>2020-01-02 02:03:01</td>\n",
       "      <td>적정</td>\n",
       "      <td>간식</td>\n",
       "    </tr>\n",
       "  </tbody>\n",
       "</table>\n",
       "</div>"
      ],
      "text/plain": [
       "         제품  수량                제조일시 초과여부 제품종류\n",
       "0      milk   3 2020-01-01 01:00:00   적정   음료\n",
       "1     juice   5 2019-12-20 15:01:00   초과   음료\n",
       "2     bread  10 2019-12-31 00:00:00   초과   간식\n",
       "3  icecream   2 2020-01-02 02:03:01   적정   간식"
      ]
     },
     "execution_count": 151,
     "metadata": {},
     "output_type": "execute_result"
    }
   ],
   "source": [
    "#만약 제품종류 열을 추가하고 싶다고 하자. 제품 열 값이 'juice' -> 음료라는 텍스트를 넣고 아니면 간식으로 추가해보자.\n",
    "df['제품종류'] = np.where((df['제품']=='juice')|(df['제품']=='milk'), '음료','간식')\n",
    "df"
   ]
  },
  {
   "cell_type": "code",
   "execution_count": null,
   "id": "a7048ee3",
   "metadata": {},
   "outputs": [],
   "source": [
    "# 인공지능을 잘하기 위해서는 어떤 것을 해야하는가? 사실 다 잘해야 한다.\n",
    "# 인공지능은 분량과 관계가 없다. 잘하는 것이 많을 수록 좋다. 관심이 있으면 더 좋다. \n",
    "# 농업, 어업, 광업 등 특정 분야에 대해서 분석을 하게 되면 전문가가 아니더라도 찾아보고 알아보게 되어있다.\n",
    "# 분석결과를 보고 분석결과를 해석하는 능력도 중요하다."
   ]
  },
  {
   "cell_type": "code",
   "execution_count": 158,
   "id": "83546b99",
   "metadata": {},
   "outputs": [
    {
     "name": "stdout",
     "output_type": "stream",
     "text": [
      "[[ 1.08566414 -0.02259017 -2.08907487  0.01241491]\n",
      " [ 0.08875437 -0.67075695 -0.19629262  0.08406801]\n",
      " [-0.43162076 -1.6082035  -2.1775646   0.11059884]\n",
      " [-2.19352672  0.82750095 -0.82481705  0.41213991]]\n",
      "-0.4745816321219424\n",
      "-0.4745816321219424\n",
      "-7.593306113951078\n",
      "-7.593306113951078\n"
     ]
    }
   ],
   "source": [
    "print(arr) #아까 사용한 난수모음을 가져와보았다.\n",
    "print(arr.mean()) # 평균이 나올 것이다.\n",
    "print(np.mean(arr)) # 같은 평균이 나올것이다.\n",
    "print(np.sum(arr)) # 내부 더하기도 다음과 같다.\n",
    "print(arr.sum()) # 방법은 동일하다."
   ]
  },
  {
   "cell_type": "code",
   "execution_count": 160,
   "id": "7b56a835",
   "metadata": {},
   "outputs": [
    {
     "data": {
      "text/plain": [
       "array([10, 21, 33, 46, 60])"
      ]
     },
     "execution_count": 160,
     "metadata": {},
     "output_type": "execute_result"
    }
   ],
   "source": [
    "arr = np.arange(10,15)\n",
    "print(arr.cumsum())#누적합. 점점 하나씩 더해간다."
   ]
  },
  {
   "cell_type": "code",
   "execution_count": 162,
   "id": "1b90ebe4",
   "metadata": {},
   "outputs": [
    {
     "name": "stdout",
     "output_type": "stream",
     "text": [
      "[[10 11]\n",
      " [12 13]\n",
      " [14 15]]\n"
     ]
    }
   ],
   "source": [
    "arr = np.arange(10,16).reshape(3,2)\n",
    "print(arr)#3행 2열로 재정렬"
   ]
  },
  {
   "cell_type": "code",
   "execution_count": 164,
   "id": "3aecfc58",
   "metadata": {},
   "outputs": [
    {
     "data": {
      "text/plain": [
       "array([[10, 11],\n",
       "       [22, 24],\n",
       "       [36, 39]])"
      ]
     },
     "execution_count": 164,
     "metadata": {},
     "output_type": "execute_result"
    }
   ],
   "source": [
    "arr.cumsum(axis=0) #열단위로 누적합이 구해진다."
   ]
  },
  {
   "cell_type": "code",
   "execution_count": 165,
   "id": "6e8c6571",
   "metadata": {},
   "outputs": [
    {
     "data": {
      "text/plain": [
       "array([[10, 21],\n",
       "       [12, 25],\n",
       "       [14, 29]])"
      ]
     },
     "execution_count": 165,
     "metadata": {},
     "output_type": "execute_result"
    }
   ],
   "source": [
    "arr.cumsum(axis=1) #행단위로 누적합이 구해진다."
   ]
  },
  {
   "cell_type": "code",
   "execution_count": 167,
   "id": "f234a088",
   "metadata": {},
   "outputs": [
    {
     "name": "stdout",
     "output_type": "stream",
     "text": [
      "75\n"
     ]
    }
   ],
   "source": [
    "# 파이썬과 넘파이의 리스트는 전혀 다르다.\n",
    "a = [[10,11],[12,13],[14,15]]\n",
    "#만약 파이썬에서 전부 더한다면 for문을 돌려야 하는 번거로움이 존재한다.\n",
    "stack_num = 0\n",
    "for i in a:\n",
    "    for j in i:\n",
    "        stack_num += j\n",
    "print(stack_num)"
   ]
  },
  {
   "cell_type": "code",
   "execution_count": 169,
   "id": "5bc242db",
   "metadata": {},
   "outputs": [
    {
     "name": "stdout",
     "output_type": "stream",
     "text": [
      "75\n"
     ]
    }
   ],
   "source": [
    "#근데 넘파이는 이게 너무 쉽게 된다.\n",
    "print(arr.sum())"
   ]
  },
  {
   "cell_type": "code",
   "execution_count": 171,
   "id": "c8318353",
   "metadata": {},
   "outputs": [
    {
     "name": "stdout",
     "output_type": "stream",
     "text": [
      "42\n"
     ]
    }
   ],
   "source": [
    "#만약 13 이상의 값을 출력한다고 한다면? \n",
    "stack_num = 0\n",
    "for i in a:\n",
    "    for j in i:\n",
    "        if j>=13:\n",
    "            stack_num += j\n",
    "print(stack_num)"
   ]
  },
  {
   "cell_type": "code",
   "execution_count": 181,
   "id": "4eb76a74",
   "metadata": {},
   "outputs": [
    {
     "name": "stdout",
     "output_type": "stream",
     "text": [
      "[[False False]\n",
      " [False False]\n",
      " [ True  True]]\n",
      "[[10 11]\n",
      " [12 13]\n",
      " [14 15]]\n",
      "75\n",
      "42\n"
     ]
    }
   ],
   "source": [
    "# 넘파이에서는 더 쉽다.\n",
    "print(arr>13) # 리스트 내에서 바로 일치여부 확인이 가능하다.\n",
    "print(arr)\n",
    "print(arr[arr>=13].sum()) # 매우 간단하다. 한줄로 처리되었다.\n"
   ]
  },
  {
   "cell_type": "code",
   "execution_count": 184,
   "id": "32e7428c",
   "metadata": {},
   "outputs": [
    {
     "name": "stdout",
     "output_type": "stream",
     "text": [
      "[10 11]\n",
      "[12 13]\n",
      "[14 15]\n"
     ]
    }
   ],
   "source": [
    "print(arr[0])\n",
    "print(arr[1])\n",
    "print(arr[2])\n",
    "# 행을 순서대로 출력하면 이렇게 된다. 만약 다른 방식대로 출력해보면?\n"
   ]
  },
  {
   "cell_type": "code",
   "execution_count": 185,
   "id": "3c69f55a",
   "metadata": {},
   "outputs": [
    {
     "ename": "IndexError",
     "evalue": "too many indices for array: array is 2-dimensional, but 3 were indexed",
     "output_type": "error",
     "traceback": [
      "\u001b[1;31m---------------------------------------------------------------------------\u001b[0m",
      "\u001b[1;31mIndexError\u001b[0m                                Traceback (most recent call last)",
      "Cell \u001b[1;32mIn[185], line 1\u001b[0m\n\u001b[1;32m----> 1\u001b[0m \u001b[38;5;28mprint\u001b[39m(arr[\u001b[38;5;241m1\u001b[39m,\u001b[38;5;241m0\u001b[39m,\u001b[38;5;241m2\u001b[39m])\n",
      "\u001b[1;31mIndexError\u001b[0m: too many indices for array: array is 2-dimensional, but 3 were indexed"
     ]
    }
   ],
   "source": [
    "print(arr[1,0,2])#파이썬 문법대로 한다면 오류가 발생한다."
   ]
  },
  {
   "cell_type": "code",
   "execution_count": 187,
   "id": "a6552091",
   "metadata": {},
   "outputs": [
    {
     "name": "stdout",
     "output_type": "stream",
     "text": [
      "[[12 13]\n",
      " [10 11]\n",
      " [14 15]]\n",
      "[[10 11]\n",
      " [12 13]\n",
      " [14 15]]\n"
     ]
    }
   ],
   "source": [
    "print(arr[[1,0,2]])#신기한건 대괄호를 두번 씌우면 잘 된다.\n",
    "brr = arr[[1,0,2]]\n",
    "brr.sort(axis=0)\n",
    "print(brr)#신기한 것은 sort를 쓰면 열 단위로 오름차순으로 정렬되었다. \n",
    "brr.sort(axis=1) # 이러면 행 단위로 오름차순으로 정렬되었다.\n"
   ]
  },
  {
   "cell_type": "code",
   "execution_count": 190,
   "id": "01488b20",
   "metadata": {},
   "outputs": [
    {
     "name": "stdout",
     "output_type": "stream",
     "text": [
      "['Bob' 'Joe' 'Will']\n"
     ]
    }
   ],
   "source": [
    "names = np.array([\"Bob\", \"Will\", \"Joe\", \"Bob\", \"Will\", \"Joe\", \"Joe\"])\n",
    "#데이터가 중복된 경우가 존재한다. 중복 데이터를 제거하는 법을 알아보자\n",
    "print(np.unique(names)) # 중복 데이터를 사라지게 했다. 마치 세트와 비슷하다."
   ]
  },
  {
   "cell_type": "code",
   "execution_count": 199,
   "id": "f3f22401",
   "metadata": {},
   "outputs": [
    {
     "name": "stdout",
     "output_type": "stream",
     "text": [
      "[1 2 3 4]\n"
     ]
    }
   ],
   "source": [
    "ints = np.array([3, 3, 3, 2, 2, 1, 1, 4, 4])\n",
    "print(np.unique(ints)) # 숫자도 세트마냥 중복데이터를 삭제했다."
   ]
  },
  {
   "cell_type": "code",
   "execution_count": 198,
   "id": "aa996c03",
   "metadata": {},
   "outputs": [
    {
     "name": "stdout",
     "output_type": "stream",
     "text": [
      "{'Bob', 'Will', 'Joe'}\n"
     ]
    }
   ],
   "source": [
    "print(set(names)) #유니크는 세트처럼 중복을 제거한다. 하지만 세트는 자료구조가 세트이며 유니크는 array자료구조이다.\n",
    "# 세트는 위치값이 존재하지 않는다. 하지만 array는 자료 위치가 존재한다!"
   ]
  },
  {
   "cell_type": "code",
   "execution_count": 200,
   "id": "bc1d008d",
   "metadata": {},
   "outputs": [
    {
     "data": {
      "text/plain": [
       "array([0.93298435, 0.19528376, 0.29197328])"
      ]
     },
     "execution_count": 200,
     "metadata": {},
     "output_type": "execute_result"
    }
   ],
   "source": [
    "np.random.rand(3)#0에서 1까지의 난수가 3개가 나올것이다.\n",
    "#재밌는 것은 랜덤환 난수를 동기화시키는 법이 존재한다! \n"
   ]
  },
  {
   "cell_type": "code",
   "execution_count": 202,
   "id": "0f411031",
   "metadata": {},
   "outputs": [
    {
     "data": {
      "text/plain": [
       "array([0.64824332, 0.27289441, 0.9663242 ])"
      ]
     },
     "execution_count": 202,
     "metadata": {},
     "output_type": "execute_result"
    }
   ],
   "source": [
    "np.random.seed(20230907)\n",
    "np.random.rand(3) # 다른 컴퓨터와 동일하게 난수가 발생할 것이다. 시드가 같은 숫자여야만 동일한 난수가 발생한다.\n",
    "#그리고 난수는 고정되었다."
   ]
  },
  {
   "cell_type": "code",
   "execution_count": 209,
   "id": "2caad842",
   "metadata": {},
   "outputs": [
    {
     "name": "stdout",
     "output_type": "stream",
     "text": [
      "[0 1 2 3 4 5 6 7 8 9]\n",
      "[5 3 1 8 6 9 7 2 0 4]\n"
     ]
    }
   ],
   "source": [
    "x= np.arange(10)\n",
    "print(x)\n",
    "np.random.shuffle(x)\n",
    "print(x)"
   ]
  },
  {
   "cell_type": "code",
   "execution_count": 210,
   "id": "76fece29",
   "metadata": {},
   "outputs": [
    {
     "name": "stdout",
     "output_type": "stream",
     "text": [
      "[1 9 8 6 3 5 7 0 2 4]\n"
     ]
    }
   ],
   "source": [
    "np.random.seed(20230907)\n",
    "np.random.shuffle(x)\n",
    "print(x)"
   ]
  },
  {
   "cell_type": "code",
   "execution_count": 223,
   "id": "0c0faa3a",
   "metadata": {},
   "outputs": [],
   "source": [
    "np.random.seed(20230907)"
   ]
  },
  {
   "cell_type": "code",
   "execution_count": 224,
   "id": "c5153d81",
   "metadata": {},
   "outputs": [],
   "source": [
    "np.random.shuffle(x)"
   ]
  },
  {
   "cell_type": "code",
   "execution_count": 225,
   "id": "9cc8299e",
   "metadata": {},
   "outputs": [
    {
     "data": {
      "text/plain": [
       "array([3, 9, 7, 4, 5, 1, 0, 2, 8, 6])"
      ]
     },
     "execution_count": 225,
     "metadata": {},
     "output_type": "execute_result"
    }
   ],
   "source": [
    "x"
   ]
  },
  {
   "cell_type": "code",
   "execution_count": 226,
   "id": "dd683531",
   "metadata": {},
   "outputs": [
    {
     "data": {
      "text/plain": [
       "1"
      ]
     },
     "execution_count": 226,
     "metadata": {},
     "output_type": "execute_result"
    }
   ],
   "source": [
    "np.random.choice(5) # 0부터 4까지 나오게 된다."
   ]
  },
  {
   "cell_type": "code",
   "execution_count": 227,
   "id": "6fcdebb4",
   "metadata": {},
   "outputs": [
    {
     "data": {
      "text/plain": [
       "array([0, 4, 0])"
      ]
     },
     "execution_count": 227,
     "metadata": {},
     "output_type": "execute_result"
    }
   ],
   "source": [
    "np.random.choice(5, 3) # 0부터 4까지 3개가 나오게 된다.\n",
    "#랜덤하게 추출될 때 동일하게 추출될 수 있다."
   ]
  },
  {
   "cell_type": "code",
   "execution_count": 228,
   "id": "8974d854",
   "metadata": {},
   "outputs": [
    {
     "data": {
      "text/plain": [
       "array([4, 3, 2])"
      ]
     },
     "execution_count": 228,
     "metadata": {},
     "output_type": "execute_result"
    }
   ],
   "source": [
    "np.random.choice(5, 3, replace=False) # 0부터 4까지 중복되지 않는 3개의 수가 나온다."
   ]
  },
  {
   "cell_type": "code",
   "execution_count": 229,
   "id": "b49c22d8",
   "metadata": {},
   "outputs": [
    {
     "ename": "ValueError",
     "evalue": "Cannot take a larger sample than population when 'replace=False'",
     "output_type": "error",
     "traceback": [
      "\u001b[1;31m---------------------------------------------------------------------------\u001b[0m",
      "\u001b[1;31mValueError\u001b[0m                                Traceback (most recent call last)",
      "Cell \u001b[1;32mIn[229], line 1\u001b[0m\n\u001b[1;32m----> 1\u001b[0m np\u001b[38;5;241m.\u001b[39mrandom\u001b[38;5;241m.\u001b[39mchoice(\u001b[38;5;241m5\u001b[39m, \u001b[38;5;241m10\u001b[39m, replace\u001b[38;5;241m=\u001b[39m\u001b[38;5;28;01mFalse\u001b[39;00m)\n",
      "File \u001b[1;32mmtrand.pyx:984\u001b[0m, in \u001b[0;36mnumpy.random.mtrand.RandomState.choice\u001b[1;34m()\u001b[0m\n",
      "\u001b[1;31mValueError\u001b[0m: Cannot take a larger sample than population when 'replace=False'"
     ]
    }
   ],
   "source": [
    "np.random.choice(5, 10, replace=False) # 0부터 4까지 주고 10개를 추출하라고 하면 당연히 애러가 난다."
   ]
  },
  {
   "cell_type": "code",
   "execution_count": 231,
   "id": "ecfda47e",
   "metadata": {},
   "outputs": [
    {
     "name": "stdout",
     "output_type": "stream",
     "text": [
      "[39 37 12 22 10 33]\n"
     ]
    }
   ],
   "source": [
    "print(np.random.choice(46,6,replace=False))"
   ]
  },
  {
   "cell_type": "code",
   "execution_count": null,
   "id": "43d3ccbf",
   "metadata": {},
   "outputs": [],
   "source": []
  }
 ],
 "metadata": {
  "kernelspec": {
   "display_name": "Python 3 (ipykernel)",
   "language": "python",
   "name": "python3"
  },
  "language_info": {
   "codemirror_mode": {
    "name": "ipython",
    "version": 3
   },
   "file_extension": ".py",
   "mimetype": "text/x-python",
   "name": "python",
   "nbconvert_exporter": "python",
   "pygments_lexer": "ipython3",
   "version": "3.11.4"
  }
 },
 "nbformat": 4,
 "nbformat_minor": 5
}
