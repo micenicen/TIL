{
 "cells": [
  {
   "cell_type": "code",
   "execution_count": 1,
   "id": "0ecb3c7a",
   "metadata": {},
   "outputs": [],
   "source": [
    "# 장고는 플라스크보다 훨씬 많이 쓰이는 프론트엔드,백엔드 구축 도구이다.\n",
    "# 장고는 일반적으로 파이썬, 파이참을 쓰게 된다. 그리고 장고를 설치하는 것이 필요하다.\n",
    "# 웹프레임워크의 기능들을 사용하는 방법만 알아도 복잡한 처리들을 쉽게 처리가 가능하다. \n"
   ]
  },
  {
   "cell_type": "code",
   "execution_count": 2,
   "id": "bb7ca8e4",
   "metadata": {},
   "outputs": [],
   "source": [
    "# 쿠키\n",
    "# 쿠키라고 하는것은 서버를 방문한 클라이언트의 정보가 로컬 PC에 저장되어져있는 것을 말한다. \n",
    "# 오늘 하루 사이트를 방문하지 않음을 체크하면 하루동안 창이 안뜨는 것도 쿠키의 기능이다.\n",
    "# 또는 아이디나 비밀번호를 저장하는 기능도 쿠키의 기능이다.\n",
    "# 환경설정 값을 로컬 PC에 저장하는 것을 쿠키정보라고 한다. \n",
    "# 그래서 웹 사이트를 방문할 경우 가장 먼저 하는 것이 쿠키요청이다.\n"
   ]
  },
  {
   "cell_type": "code",
   "execution_count": 3,
   "id": "d203d69e",
   "metadata": {},
   "outputs": [],
   "source": [
    "# 세션처리\n",
    "# 세션처리는 서버에서 저장되는 정보등을 말한다. \n",
    "# 방문을 한 상태에서 남긴 다양한 정보가 있는데 서버에 저장되어져 있는 기록을 세션이라고 한다. \n",
    "# 게스트 계정으로 결제를 하는 경우가 세션처리가 가능하기 때문이다. \n",
    "# 즉 우리들에 대한 정보가 서버에 존재하기 때문이다. 세션아이디라고 한다.\n",
    "# 이를 통해 요청, 연산등을 처리할 수 있게 한다. \n"
   ]
  },
  {
   "cell_type": "code",
   "execution_count": 4,
   "id": "e5fa250a",
   "metadata": {},
   "outputs": [],
   "source": [
    "# 데이터베이스\n",
    "# 로그인을 하려면 아이디와 비밀번호를 입력하고 아이디와 비밀번호가 있는지 확인해야 한다. \n",
    "# 로그인 처리와 로그아웃 처리는 절차가 필요하다. 구현하기가 매우 어려운 편이다. 장고는 로그인/로그아웃 처리 모듈이 존재한다. \n",
    "# 또한 관리자 계정도 존재해야 한다. 권한 처리는 까다로운 분야이다. 권한에 따라 데이터를 보여주는 방식이 달라야 하는 것이다. "
   ]
  },
  {
   "cell_type": "code",
   "execution_count": 5,
   "id": "f6a3c5c6",
   "metadata": {},
   "outputs": [],
   "source": [
    "# 장고는 보안적인 측면에서도 안정적이다.\n",
    "# SQL인젝션(셀렉트라는 명령을 통해 데이터 검색이 가능하다는 점을 이용하는게 sql명령어이다. \n",
    "# 이걸 공격자가 사이트를 해킹할 목적으로 남용하는 것이다. \n",
    "# 구글링을 통해 admin 계정을 알아내는 방법으로 페이지 구조, 아이디를 검색해서 파악하는 것이다. \n",
    "# 구글링은 n%, or 등 조합으로 다양한 검색이 가능하다.\n",
    "# 에전에는 아이디를 잘못입력했다. 비밀번호를 잘못 입력했다가 명확하게 구분되어있었다. \n",
    "# 그걸 통해 계정을 추적하여 해킹하는 기술이 존재했다.\n",
    "# 그리고 아이디를 알아내면 비밀번호를 1=1을 적어서 강제로 True를 만들어서 로그인을 해버린 것이다. \n",
    "# 당연히 대규모 사이트에서는 하지 않는다. 작은 규모의 사이트에서 인젝션 공격을 한다. \n",
    "# 만약 보안이 취약한지 확인하려면 1=1을 비밀번호에 입력해보자.\n",
    "# db에 있는 정보를 전부 가져와서 아이디와 비밀번호를 입력해서 대규모사이트를 로그인하여 뚫어버리는 방식으로 해킹하는 것이다. "
   ]
  },
  {
   "cell_type": "code",
   "execution_count": null,
   "id": "337a998e",
   "metadata": {},
   "outputs": [],
   "source": [
    "# 크로스사이드 스크리핑은 클릭을 유도한다. 클릭하는 순간 개인정보들이 해커에게 전송되게 하는 것이다. \n",
    "# 클릭재킹도 마찬가지이다. 의도하지않는 클릭을 유도하는 것이다. \n",
    "# 크로스사이트 리퀘스트 포져리도 위조요청으로 공격하는 방법이다.\n",
    "# 책에서는 장고가 재밌다고 하지만 사실 장고는 재미없다. "
   ]
  },
  {
   "cell_type": "code",
   "execution_count": 7,
   "id": "4b5390e5",
   "metadata": {},
   "outputs": [
    {
     "ename": "SyntaxError",
     "evalue": "invalid syntax (890735264.py, line 4)",
     "output_type": "error",
     "traceback": [
      "\u001b[1;36m  Cell \u001b[1;32mIn[7], line 4\u001b[1;36m\u001b[0m\n\u001b[1;33m    cd venvs\u001b[0m\n\u001b[1;37m       ^\u001b[0m\n\u001b[1;31mSyntaxError\u001b[0m\u001b[1;31m:\u001b[0m invalid syntax\n"
     ]
    }
   ],
   "source": [
    "# 가상환경 구성을 해보자. \n",
    "cd\\\n",
    "# 상위 디렉토리로 이동한다. \n",
    "cd venvs\n",
    "python -m venv mysite\n",
    "cd mysite\n",
    "dir/w\n",
    "# 이렇게 해서 생성된 폴더등을 확인할 수 있다. \n",
    "cd Sc* \n",
    "# 별은 알아서 완성시키라는 뜻이다. \n",
    "# 그리고 내부에서 dir/w를 치면 명령어들이 나온다.\n",
    "# activate와 deactivate도 존재한다. \n",
    "# activate를 한 다음 pip install django==4.0.3를 해서 장고를 설치할 수 있다. \n",
    "# python -m pip install --upgrade pip 로 pip을 업그레이드 하자. \n",
    "# 장고 프로젝트 1개 = 웹 사이트 한개이다. 프로젝트 안에는 여러 개의 앱이 존재한다. 이 앱들이 모여서 웹사이트를 구성한다. \n",
    "# 예전에는 일일히 구현해야 했다. 웹사이트를 만들어도 관리가 힘들었다. 그리고 개인정보 유출을 웹사이트 제작자에게 물기도 했다.\n",
    "# 제작자의 능력이 모자랐기에 발생했던 참사들이었다."
   ]
  },
  {
   "cell_type": "code",
   "execution_count": null,
   "id": "62758413",
   "metadata": {},
   "outputs": [],
   "source": [
    "C:\\venvs\\mysite\\Scripts\\activate\n",
    "# 한방에 진입해보자.\n",
    "# 프로젝트를 생성하자.\n",
    "django-admin startproject config .\n",
    "# 점은 현재 디렉토리를 의미한다. 현재 디렉토리 기준으로 프로젝트를 생성하겠다는 의미이다. \n",
    "python manage.py runserver\n",
    "# 서버를 가동시켰다. \n",
    "# 이제 로컬호스트 8000을 접속하면 장고가 접속된다. \n",
    "http://127.0.0.1:8000/\n",
    "# 인터넷에 연결된 모든 컴퓨터들은 호스트라고 한다.\n",
    "# 그리고 컴퓨터가 가지는 각각의 이름은 IP주소라고 한다. 이 주소를 가지고 인터넷상에 연결되어져있는 다양한 호스트\n",
    "# ,서버 등으로 연결된다. 그래서 숫자로 이루어진 아이피로 접속할 수 있지만 사람이 읽기 불편하다.\n",
    "# 그래서 사람이 알아들을 수 있는 영어로 구성된 것을 도메인주소라고 한다. \n",
    "# 미리 예약이 되어져있는 아이피주소가 있다. 타인이 사용할 수 없는 주소이다. 127.0.0.1은 그러한 주소이다.\n",
    "# 컴퓨터를 웹서버로 만들고 실행한 것이다. 개인만 사용하는 주소이다. 테스트를 위해 사용되는 특별히 만들어진 주소이다. \n",
    "# 장고를 설치한 순간부터 이 컴퓨터는 웹서버이다. 그리고 이 페이지는 우리의 홈페이지이다. \n",
    "# 페이지를 만들고 웹서버를 구매해서 올리면 24시간동안 구동되는 웹서버가 만들어진다. \n",
    "# 물리적으로는 아이피주소가 한 개이다. 하지만 작업관리자를 보면 여러 개의 서버와 동시에 통신이 가능하다.\n",
    "# 소프트웨어적으로 65535개가 있는것처럼 구현한 것이다. \n",
    "# 만약 서버를 끄게 되면 이 포트는 사용할 수 없을 것이다. \n",
    "# 서버를 닫으려면 컨트롤 브레이크를 쓰거나 컨트롤 c를 쓰면 된다. "
   ]
  },
  {
   "cell_type": "code",
   "execution_count": null,
   "id": "057e39be",
   "metadata": {},
   "outputs": [],
   "source": [
    "# 파이썬 인터프리터(번역기)는 필요하다. \n",
    "# 파이썬 언어를 번역할 번역기를 만들자. \n",
    "# 마이사이트 내의 파이썬 파일을 기준으로 번역기를 사용하자. setuptools가 없으면 스크립트 파일 내에 설치하자. "
   ]
  },
  {
   "cell_type": "code",
   "execution_count": 1,
   "id": "51ab1f6d",
   "metadata": {},
   "outputs": [],
   "source": [
    "# 과거의 웹사이트들은 디자인과 내부적인 백엔드를 구분하지 않았다. 전체를 하나의 파일에 작성했다. \n",
    "# 이는 유지보수가 매우 어려운 특징을 가졌다. \n",
    "# 이후 MVC(model, view, controler)를 별개로 설계하는 방식이 나타났다. 즉 html, css, javascript와 같은 것이다.\n",
    "# 장고는 뷰 함수가 작동하는 view.py가 별도로 존재한다. urls는 다른 인터페이스로 보내는 역할을 한다. \n",
    "# 장고가 무겁고 플라스크가 가볍다. MVC가 그 이유가 될 것이다. "
   ]
  },
  {
   "cell_type": "code",
   "execution_count": 2,
   "id": "2f9dd219",
   "metadata": {},
   "outputs": [
    {
     "ename": "SyntaxError",
     "evalue": "invalid syntax (1504112621.py, line 4)",
     "output_type": "error",
     "traceback": [
      "\u001b[1;36m  Cell \u001b[1;32mIn[2], line 4\u001b[1;36m\u001b[0m\n\u001b[1;33m    django-admin startapp pybo\u001b[0m\n\u001b[1;37m                 ^\u001b[0m\n\u001b[1;31mSyntaxError\u001b[0m\u001b[1;31m:\u001b[0m invalid syntax\n"
     ]
    }
   ],
   "source": [
    "# 파이보를 만들어보자. 파이보는 완성된 빌딩을 말한다. 우리는 기초공사를 해야한다. \n",
    "# 우리는 장고ORM을 이용해서 데이터베이스를 제어할 것이다. \n",
    "# 장고 어드민 앱 생성을 할 수 있다. \n",
    "django-admin startapp pybo\n",
    "# 먼저 파이보 앱을 생성하자.\n",
    "http://localhost:8000/pybo\n",
    "# 물론 404 오류가 뜰 것이다. 아직 만들어진 것은 없다. \n",
    "# 2로 시작할 때 정상적으로 작동하며 5로 시작하면 서버오류이다. 4로 시작하는 것은 페이지 오류이다. \n",
    "# 오류의 내용을 자세히 읽어보면 config/urls.py 파일에 요청한 pybo/ URL에 해당되는 매핑이 없다고 적혀 있다.\n",
    "# 이게 무슨뜻이냐면 파이보라는 주소가 매핑되어있지 않다는 뜻이다. 파이보를 알려달라는 것이다. \n",
    "# 즉 urls는 매핑을 하는 용도로 사용된다. \n",
    "# 장고는 외부에서 페이지요청이 들어오면 그것을 처리하는 urls파일이 따로 존재한다. "
   ]
  },
  {
   "cell_type": "code",
   "execution_count": null,
   "id": "184bede9",
   "metadata": {},
   "outputs": [],
   "source": [
    "# 즉 상단의 주소에 대한 요청이 있으면 처리할 수 있는 매핑되는 주소를 추가하면 되는 것이다. \n",
    "# 장고의 urls.py는 페이지요청이 발생하면 가장 먼저 호출된다. URL뷰 함수 간의 매핑을 정의하는 역할을 수행한다. \n",
    "from django.contrib import admin\n",
    "from django.urls import path\n",
    "\n",
    "from pybo import views\n",
    "\n",
    "urlpatterns = [\n",
    "    path('admin/', admin.site.urls),\n",
    "    path('pybo/', views.index),\n",
    "]\n",
    "# 이것을 사용한다. 뷰의 인덱스를 호출하라는 의미이다. 위는 어드민에 대한 호출을 말한다. \n",
    "# 문제는 이러한 오류가 발생할 것이다. \n",
    "# AttributeError: module 'pybo.views' has no attribute 'index'\n",
    "# 즉 파이보 파일dksdp views.index가 없다는 것이다. \n",
    "# 또한 파이보 뒤에 슬래시를 하나 더 붙어주는데 안붙여도 url 맨 뒤에 '/'가 알아서 붙는다. \n",
    "# 뷰 파일 안에는 아무것도 존재하지 않는다. 오류가 뜰 수 밖에 없다. "
   ]
  },
  {
   "cell_type": "code",
   "execution_count": null,
   "id": "a5391d54",
   "metadata": {},
   "outputs": [],
   "source": [
    "from django.http import HttpResponse\n",
    "\n",
    "\n",
    "def index(request):\n",
    "    return HttpResponse(\"안녕하세요 pybo에 오신것을 환영합니다.\")\n",
    "# 이 구문을 투입하여 http://127.0.0.1:8000/pybo/에 접속하자. 잘 작동할 것이다. \n",
    "# [1] 브라우저에서 로컬 서버로 http://localhost:8000/pybo 페이지를 요청하면\n",
    "# [2] urls.py 파일에서 /pybo URL 매핑을 확인하여 views.py 파일의 index 함수를 호출하고\n",
    "# [3] 호출한 결과를 브라우저에 반영한다.\n",
    "# 이러한 구조로 작동하는 것이다. "
   ]
  },
  {
   "cell_type": "code",
   "execution_count": null,
   "id": "2f9a7317",
   "metadata": {},
   "outputs": [],
   "source": [
    "# config는 환경구성이다. 홈페지를 방문하면 바로 환경구성 폴더로 와서 urls를 바로 접하고 적절한 파일을 호출하게 할 것이다. \n",
    "# urls의 내부는 \n",
    "from django.contrib import admin\n",
    "from django.urls import path, include\n",
    "\n",
    "urlpatterns = [\n",
    "    path('admin/', admin.site.urls),\n",
    "    path('pybo/', include('pybo.urls')),\n",
    "]\n",
    "# 이런 식으로 구성하자. config의 urls에 url매핑만 추가하자. 왜냐하면 우리는 urls를 안내용도로만 쓸 것이다.\n",
    "# 만약 다른 페이지가 엄청 많다면 그 페이지에 대해 일일히 import를 하는 짓은 하기 싫을 것이다. \n",
    "# 매핑 규칙을 모두 urls에 담는 짓을 하기 싫지 않은가? 폴더를 만드는 이유는 관리하기 편하게 하려는 목적이다. \n",
    "#\n",
    "# 인크루드라는 함수가 추가되었을 것이다. 그리고 인크루드 대상은 pybo.urls이다. \n",
    "# 그리고 pybo.urls는 존재하지 않는다. 만들어야 할 것이다. \n",
    "# config.urls : 건물 내 1층에 위치한 인포메이션, 층 안내\n",
    "# 각층.urls : 각 층에 위치한 인포메이션, 사무실 호수 안내같은 느낌이다. \n",
    "# 파이보로 시작하는 url을 사용한다면 파이보 하위 폴더의 urls에서만 바꾸게 만들면 \n",
    "# config를 일일히 바꾸는 수고를 할 필요는 없을 것이다. \n"
   ]
  },
  {
   "cell_type": "code",
   "execution_count": null,
   "id": "44caab24",
   "metadata": {},
   "outputs": [],
   "source": [
    "# 파이보 하위 파일에 urls를 만들었고 거기에 이렇게 추가했다.\n",
    "from django.urls import path\n",
    "\n",
    "from . import views\n",
    "\n",
    "urlpatterns = [\n",
    "    path('', views.index),\n",
    "]\n",
    "# from . 은 파이보 전체를 말한다. 즉 파이보 현재의 디렉토리를 말한다. \n",
    "# 만약 점을 두 개 쓰면 상위 디렉토리에 할당된다. mysite가 점 두개인 것이다. \n",
    "# 패스에 빈 문자를 넣은 까닭은 현재 위치가 파이보이기 때문이다. 그래서 괜히 기재할 필요가 없다는 것이다. \n",
    "# 경로를 파이보로 설정하라는 것인데 그 위치가 자기 자신이라는 뜻이다. \n",
    "http://127.0.0.1:8000/pybo/\n",
    "# 다시 작동이 잘 되는 것을 볼 수 있을 것이다."
   ]
  },
  {
   "cell_type": "code",
   "execution_count": null,
   "id": "194c504d",
   "metadata": {},
   "outputs": [],
   "source": [
    "# 모델\n",
    "# 보통 데이터베이스에 데이터를 저장하고 조회하기 위해서 SQL 쿼리문을 이용해야 하지만 \n",
    "# 장고의 모델(Model)을 사용하면 이런 SQL 쿼리문의 도움없이 데이터를 쉽게 처리할 수 있다.\n",
    "# 플라스크와 장고 둘 다 이 것이 장점이긴 하지만 SQL은 기본적으로 배워야 하기에 의미는 크게 없다. \n",
    "# SQLite는 데이터베이스 서버 경량버젼이다. \n",
    "# "
   ]
  },
  {
   "cell_type": "code",
   "execution_count": null,
   "id": "5400b029",
   "metadata": {},
   "outputs": [],
   "source": [
    "# SQLite\n",
    "# 안드로이드 안에는 기본적으로 공장에서 나올 때 앱이 많이 설치된 것을 볼 수 있을 것이다. \n",
    "# 전화앱과 같은 기본앱들이 설치되어 있다. \n",
    "# 삼성전자는 안드로이드 팀이 따로 있다. 기본적으로 설치되어져있는 앱들이다. \n",
    "# 추가적인 것들은 마켓플레이스에서 받아서 쓸 것이지만..\n",
    "# 앱을 사용할 때 전화번호같은 것은 데이터베이스가 무조건 있어야 한다. \n",
    "# 저장이 되어져 있어야 한다. 휴대폰을 폐기하기 전 까지는 전화번호 등은 저장이 가능해야 한다. 추가, 수정, 삭제도 가능해야한다. \n",
    "# 저장은 단순하게 램처럼 휴대폰이 켜져있는 동안에만 저장되어져 있는 것이 아닌 영구적인 저장을 해야 한다.\n",
    "# 스마트폰에도 데이터베이스가 존재한다. 문제는 스마트폰은 메모리, CPU같은 것들이 상당히 제한적이다. \n",
    "# 스마트폰에는 기본적으로 SQLite가 설치되어있다고 보면 된다. \n",
    "# 안드로이드 운영체제는 백그라운드 어플리케이션이 있다. 프로세스 일부를 일부러 죽여서 앱을 실행시키는 방식이다.\n",
    "# 고사양 게임을 하는 동안에 전화가 오는 것도 이로 인해 가능하다. "
   ]
  },
  {
   "cell_type": "code",
   "execution_count": null,
   "id": "3a0a8ea8",
   "metadata": {},
   "outputs": [],
   "source": [
    "# 장고앱 migrate\n",
    "# 가상서버를 구동시키면 다음과 같은 경고가 뜬다. \n",
    "# You have 18 unapplied migration(s).\n",
    "# 18개의 마이그레이션이 작동하지 않는다는 것이다.\n",
    "# config의 세팅스 파일을 열어보자. \n",
    "# INSTALLED_APPS = 에 설치된 앱들이 보인다. \n",
    "# 데이터베이스에 있는 앱들 중 필요한 것만 작동시켜야 할 것이다. \n",
    "DATABASES = {\n",
    "    'default': {\n",
    "        'ENGINE': 'django.db.backends.sqlite3',\n",
    "        'NAME': BASE_DIR / 'db.sqlite3',\n",
    "    }\n",
    "}\n",
    "# 데이터베이스 내부는 sqlite3로 가동한다.\n",
    "python manage.py migrate\n",
    "# 를 서버 끈 상태에서 실행해보자. migrate 테이블이 생성되어진다. 쓸 일은 많이 없을 것이다."
   ]
  },
  {
   "cell_type": "code",
   "execution_count": null,
   "id": "109a58d6",
   "metadata": {},
   "outputs": [],
   "source": [
    "https://sqlitebrowser.org/dl/\n",
    "# sqlite를 받아보자. 이제는 명령어를 입력하지 않고서도 데이터작업을 할 수 있게 된다. \n",
    "# ORM을 사용하여 데이터베이스의 테이블을 모델화하기 때문에 데이터베이스종류가 바뀌더라도 쿼리문이 아닌 모델을 쓴다.\n",
    "# 즉 프로그램을 수정하기 위해서 고생할 필요가 없다는 것이다. "
   ]
  },
  {
   "cell_type": "code",
   "execution_count": null,
   "id": "658f8d31",
   "metadata": {},
   "outputs": [],
   "source": []
  },
  {
   "cell_type": "code",
   "execution_count": null,
   "id": "2dac858a",
   "metadata": {},
   "outputs": [],
   "source": []
  },
  {
   "cell_type": "code",
   "execution_count": null,
   "id": "66aca206",
   "metadata": {},
   "outputs": [],
   "source": []
  },
  {
   "cell_type": "code",
   "execution_count": null,
   "id": "e1ac8b53",
   "metadata": {},
   "outputs": [],
   "source": []
  },
  {
   "cell_type": "code",
   "execution_count": null,
   "id": "f92a745f",
   "metadata": {},
   "outputs": [],
   "source": []
  }
 ],
 "metadata": {
  "kernelspec": {
   "display_name": "Python 3 (ipykernel)",
   "language": "python",
   "name": "python3"
  },
  "language_info": {
   "codemirror_mode": {
    "name": "ipython",
    "version": 3
   },
   "file_extension": ".py",
   "mimetype": "text/x-python",
   "name": "python",
   "nbconvert_exporter": "python",
   "pygments_lexer": "ipython3",
   "version": "3.11.5"
  }
 },
 "nbformat": 4,
 "nbformat_minor": 5
}
