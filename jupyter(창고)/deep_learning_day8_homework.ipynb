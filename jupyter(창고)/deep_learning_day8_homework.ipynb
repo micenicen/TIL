{
 "cells": [
  {
   "cell_type": "code",
   "execution_count": 171,
   "id": "eacc6fde",
   "metadata": {},
   "outputs": [],
   "source": [
    "import pandas as pd\n",
    "import numpy as np\n",
    "import matplotlib.pyplot as plt\n",
    "import seaborn as sns"
   ]
  },
  {
   "cell_type": "code",
   "execution_count": 186,
   "id": "64016892",
   "metadata": {},
   "outputs": [
    {
     "data": {
      "text/html": [
       "<div>\n",
       "<style scoped>\n",
       "    .dataframe tbody tr th:only-of-type {\n",
       "        vertical-align: middle;\n",
       "    }\n",
       "\n",
       "    .dataframe tbody tr th {\n",
       "        vertical-align: top;\n",
       "    }\n",
       "\n",
       "    .dataframe thead th {\n",
       "        text-align: right;\n",
       "    }\n",
       "</style>\n",
       "<table border=\"1\" class=\"dataframe\">\n",
       "  <thead>\n",
       "    <tr style=\"text-align: right;\">\n",
       "      <th></th>\n",
       "      <th>time</th>\n",
       "      <th>open</th>\n",
       "      <th>high</th>\n",
       "      <th>low</th>\n",
       "      <th>close</th>\n",
       "      <th>Volume</th>\n",
       "      <th>Volume MA</th>\n",
       "    </tr>\n",
       "  </thead>\n",
       "  <tbody>\n",
       "    <tr>\n",
       "      <th>0</th>\n",
       "      <td>2020-01-02T08:30:00+09:00</td>\n",
       "      <td>21.6800</td>\n",
       "      <td>21.6800</td>\n",
       "      <td>21.5200</td>\n",
       "      <td>21.5600</td>\n",
       "      <td>NaN</td>\n",
       "      <td>NaN</td>\n",
       "    </tr>\n",
       "    <tr>\n",
       "      <th>1</th>\n",
       "      <td>2020-01-02T09:30:00+09:00</td>\n",
       "      <td>21.5100</td>\n",
       "      <td>21.5600</td>\n",
       "      <td>21.4000</td>\n",
       "      <td>21.5600</td>\n",
       "      <td>NaN</td>\n",
       "      <td>NaN</td>\n",
       "    </tr>\n",
       "    <tr>\n",
       "      <th>2</th>\n",
       "      <td>2020-01-02T10:30:00+09:00</td>\n",
       "      <td>21.6000</td>\n",
       "      <td>21.6000</td>\n",
       "      <td>21.4700</td>\n",
       "      <td>21.5200</td>\n",
       "      <td>NaN</td>\n",
       "      <td>NaN</td>\n",
       "    </tr>\n",
       "    <tr>\n",
       "      <th>3</th>\n",
       "      <td>2020-01-02T11:30:00+09:00</td>\n",
       "      <td>21.5000</td>\n",
       "      <td>21.5100</td>\n",
       "      <td>21.4200</td>\n",
       "      <td>21.4600</td>\n",
       "      <td>NaN</td>\n",
       "      <td>NaN</td>\n",
       "    </tr>\n",
       "    <tr>\n",
       "      <th>4</th>\n",
       "      <td>2020-01-02T12:30:00+09:00</td>\n",
       "      <td>21.4400</td>\n",
       "      <td>21.4400</td>\n",
       "      <td>21.3500</td>\n",
       "      <td>21.4300</td>\n",
       "      <td>NaN</td>\n",
       "      <td>NaN</td>\n",
       "    </tr>\n",
       "    <tr>\n",
       "      <th>...</th>\n",
       "      <td>...</td>\n",
       "      <td>...</td>\n",
       "      <td>...</td>\n",
       "      <td>...</td>\n",
       "      <td>...</td>\n",
       "      <td>...</td>\n",
       "      <td>...</td>\n",
       "    </tr>\n",
       "    <tr>\n",
       "      <th>21630</th>\n",
       "      <td>2023-11-09T11:30:00+09:00</td>\n",
       "      <td>1.7429</td>\n",
       "      <td>1.7584</td>\n",
       "      <td>1.7429</td>\n",
       "      <td>1.7429</td>\n",
       "      <td>NaN</td>\n",
       "      <td>NaN</td>\n",
       "    </tr>\n",
       "    <tr>\n",
       "      <th>21631</th>\n",
       "      <td>2023-11-09T12:30:00+09:00</td>\n",
       "      <td>1.7429</td>\n",
       "      <td>1.7598</td>\n",
       "      <td>1.7429</td>\n",
       "      <td>1.7584</td>\n",
       "      <td>NaN</td>\n",
       "      <td>NaN</td>\n",
       "    </tr>\n",
       "    <tr>\n",
       "      <th>21632</th>\n",
       "      <td>2023-11-09T13:30:00+09:00</td>\n",
       "      <td>1.7549</td>\n",
       "      <td>1.7584</td>\n",
       "      <td>1.7429</td>\n",
       "      <td>1.7584</td>\n",
       "      <td>NaN</td>\n",
       "      <td>NaN</td>\n",
       "    </tr>\n",
       "    <tr>\n",
       "      <th>21633</th>\n",
       "      <td>2023-11-09T14:30:00+09:00</td>\n",
       "      <td>1.7575</td>\n",
       "      <td>1.7595</td>\n",
       "      <td>1.7533</td>\n",
       "      <td>1.7533</td>\n",
       "      <td>NaN</td>\n",
       "      <td>NaN</td>\n",
       "    </tr>\n",
       "    <tr>\n",
       "      <th>21634</th>\n",
       "      <td>2023-11-09T15:30:00+09:00</td>\n",
       "      <td>1.7429</td>\n",
       "      <td>1.7553</td>\n",
       "      <td>1.7382</td>\n",
       "      <td>1.7529</td>\n",
       "      <td>NaN</td>\n",
       "      <td>NaN</td>\n",
       "    </tr>\n",
       "  </tbody>\n",
       "</table>\n",
       "<p>21635 rows × 7 columns</p>\n",
       "</div>"
      ],
      "text/plain": [
       "                            time     open     high      low    close  Volume  \\\n",
       "0      2020-01-02T08:30:00+09:00  21.6800  21.6800  21.5200  21.5600     NaN   \n",
       "1      2020-01-02T09:30:00+09:00  21.5100  21.5600  21.4000  21.5600     NaN   \n",
       "2      2020-01-02T10:30:00+09:00  21.6000  21.6000  21.4700  21.5200     NaN   \n",
       "3      2020-01-02T11:30:00+09:00  21.5000  21.5100  21.4200  21.4600     NaN   \n",
       "4      2020-01-02T12:30:00+09:00  21.4400  21.4400  21.3500  21.4300     NaN   \n",
       "...                          ...      ...      ...      ...      ...     ...   \n",
       "21630  2023-11-09T11:30:00+09:00   1.7429   1.7584   1.7429   1.7429     NaN   \n",
       "21631  2023-11-09T12:30:00+09:00   1.7429   1.7598   1.7429   1.7584     NaN   \n",
       "21632  2023-11-09T13:30:00+09:00   1.7549   1.7584   1.7429   1.7584     NaN   \n",
       "21633  2023-11-09T14:30:00+09:00   1.7575   1.7595   1.7533   1.7533     NaN   \n",
       "21634  2023-11-09T15:30:00+09:00   1.7429   1.7553   1.7382   1.7529     NaN   \n",
       "\n",
       "       Volume MA  \n",
       "0            NaN  \n",
       "1            NaN  \n",
       "2            NaN  \n",
       "3            NaN  \n",
       "4            NaN  \n",
       "...          ...  \n",
       "21630        NaN  \n",
       "21631        NaN  \n",
       "21632        NaN  \n",
       "21633        NaN  \n",
       "21634        NaN  \n",
       "\n",
       "[21635 rows x 7 columns]"
      ]
     },
     "execution_count": 186,
     "metadata": {},
     "output_type": "execute_result"
    }
   ],
   "source": [
    "data = pd.read_csv('lisk_checker.csv')\n",
    "data"
   ]
  },
  {
   "cell_type": "code",
   "execution_count": 187,
   "id": "e5554b36",
   "metadata": {},
   "outputs": [],
   "source": [
    "data.drop(['Volume','Volume MA','time'],axis=1,inplace=True)"
   ]
  },
  {
   "cell_type": "code",
   "execution_count": 188,
   "id": "e2fda46e",
   "metadata": {},
   "outputs": [
    {
     "data": {
      "text/html": [
       "<div>\n",
       "<style scoped>\n",
       "    .dataframe tbody tr th:only-of-type {\n",
       "        vertical-align: middle;\n",
       "    }\n",
       "\n",
       "    .dataframe tbody tr th {\n",
       "        vertical-align: top;\n",
       "    }\n",
       "\n",
       "    .dataframe thead th {\n",
       "        text-align: right;\n",
       "    }\n",
       "</style>\n",
       "<table border=\"1\" class=\"dataframe\">\n",
       "  <thead>\n",
       "    <tr style=\"text-align: right;\">\n",
       "      <th></th>\n",
       "      <th>open</th>\n",
       "      <th>high</th>\n",
       "      <th>low</th>\n",
       "      <th>close</th>\n",
       "    </tr>\n",
       "  </thead>\n",
       "  <tbody>\n",
       "    <tr>\n",
       "      <th>0</th>\n",
       "      <td>21.6800</td>\n",
       "      <td>21.6800</td>\n",
       "      <td>21.5200</td>\n",
       "      <td>21.5600</td>\n",
       "    </tr>\n",
       "    <tr>\n",
       "      <th>1</th>\n",
       "      <td>21.5100</td>\n",
       "      <td>21.5600</td>\n",
       "      <td>21.4000</td>\n",
       "      <td>21.5600</td>\n",
       "    </tr>\n",
       "    <tr>\n",
       "      <th>2</th>\n",
       "      <td>21.6000</td>\n",
       "      <td>21.6000</td>\n",
       "      <td>21.4700</td>\n",
       "      <td>21.5200</td>\n",
       "    </tr>\n",
       "    <tr>\n",
       "      <th>3</th>\n",
       "      <td>21.5000</td>\n",
       "      <td>21.5100</td>\n",
       "      <td>21.4200</td>\n",
       "      <td>21.4600</td>\n",
       "    </tr>\n",
       "    <tr>\n",
       "      <th>4</th>\n",
       "      <td>21.4400</td>\n",
       "      <td>21.4400</td>\n",
       "      <td>21.3500</td>\n",
       "      <td>21.4300</td>\n",
       "    </tr>\n",
       "    <tr>\n",
       "      <th>...</th>\n",
       "      <td>...</td>\n",
       "      <td>...</td>\n",
       "      <td>...</td>\n",
       "      <td>...</td>\n",
       "    </tr>\n",
       "    <tr>\n",
       "      <th>21630</th>\n",
       "      <td>1.7429</td>\n",
       "      <td>1.7584</td>\n",
       "      <td>1.7429</td>\n",
       "      <td>1.7429</td>\n",
       "    </tr>\n",
       "    <tr>\n",
       "      <th>21631</th>\n",
       "      <td>1.7429</td>\n",
       "      <td>1.7598</td>\n",
       "      <td>1.7429</td>\n",
       "      <td>1.7584</td>\n",
       "    </tr>\n",
       "    <tr>\n",
       "      <th>21632</th>\n",
       "      <td>1.7549</td>\n",
       "      <td>1.7584</td>\n",
       "      <td>1.7429</td>\n",
       "      <td>1.7584</td>\n",
       "    </tr>\n",
       "    <tr>\n",
       "      <th>21633</th>\n",
       "      <td>1.7575</td>\n",
       "      <td>1.7595</td>\n",
       "      <td>1.7533</td>\n",
       "      <td>1.7533</td>\n",
       "    </tr>\n",
       "    <tr>\n",
       "      <th>21634</th>\n",
       "      <td>1.7429</td>\n",
       "      <td>1.7553</td>\n",
       "      <td>1.7382</td>\n",
       "      <td>1.7529</td>\n",
       "    </tr>\n",
       "  </tbody>\n",
       "</table>\n",
       "<p>21635 rows × 4 columns</p>\n",
       "</div>"
      ],
      "text/plain": [
       "          open     high      low    close\n",
       "0      21.6800  21.6800  21.5200  21.5600\n",
       "1      21.5100  21.5600  21.4000  21.5600\n",
       "2      21.6000  21.6000  21.4700  21.5200\n",
       "3      21.5000  21.5100  21.4200  21.4600\n",
       "4      21.4400  21.4400  21.3500  21.4300\n",
       "...        ...      ...      ...      ...\n",
       "21630   1.7429   1.7584   1.7429   1.7429\n",
       "21631   1.7429   1.7598   1.7429   1.7584\n",
       "21632   1.7549   1.7584   1.7429   1.7584\n",
       "21633   1.7575   1.7595   1.7533   1.7533\n",
       "21634   1.7429   1.7553   1.7382   1.7529\n",
       "\n",
       "[21635 rows x 4 columns]"
      ]
     },
     "execution_count": 188,
     "metadata": {},
     "output_type": "execute_result"
    }
   ],
   "source": [
    "data"
   ]
  },
  {
   "cell_type": "code",
   "execution_count": 189,
   "id": "22044cb3",
   "metadata": {},
   "outputs": [],
   "source": [
    "training_size = int(len(data)*0.80)                              \n",
    "data_len = len(data)                                            \n",
    "train, test = data[0:training_size],data[training_size:data_len]"
   ]
  },
  {
   "cell_type": "code",
   "execution_count": 190,
   "id": "1fe8269d",
   "metadata": {},
   "outputs": [],
   "source": [
    "from sklearn.preprocessing import StandardScaler\n"
   ]
  },
  {
   "cell_type": "code",
   "execution_count": 191,
   "id": "15951b30",
   "metadata": {},
   "outputs": [
    {
     "name": "stderr",
     "output_type": "stream",
     "text": [
      "C:\\Users\\user\\anaconda3\\Lib\\site-packages\\sklearn\\utils\\validation.py:767: FutureWarning: is_sparse is deprecated and will be removed in a future version. Check `isinstance(dtype, pd.SparseDtype)` instead.\n",
      "  if not hasattr(array, \"sparse\") and array.dtypes.apply(is_sparse).any():\n",
      "C:\\Users\\user\\anaconda3\\Lib\\site-packages\\sklearn\\utils\\validation.py:605: FutureWarning: is_sparse is deprecated and will be removed in a future version. Check `isinstance(dtype, pd.SparseDtype)` instead.\n",
      "  if is_sparse(pd_dtype):\n",
      "C:\\Users\\user\\anaconda3\\Lib\\site-packages\\sklearn\\utils\\validation.py:614: FutureWarning: is_sparse is deprecated and will be removed in a future version. Check `isinstance(dtype, pd.SparseDtype)` instead.\n",
      "  if is_sparse(pd_dtype) or not is_extension_array_dtype(pd_dtype):\n",
      "C:\\Users\\user\\anaconda3\\Lib\\site-packages\\sklearn\\utils\\validation.py:767: FutureWarning: is_sparse is deprecated and will be removed in a future version. Check `isinstance(dtype, pd.SparseDtype)` instead.\n",
      "  if not hasattr(array, \"sparse\") and array.dtypes.apply(is_sparse).any():\n",
      "C:\\Users\\user\\anaconda3\\Lib\\site-packages\\sklearn\\utils\\validation.py:605: FutureWarning: is_sparse is deprecated and will be removed in a future version. Check `isinstance(dtype, pd.SparseDtype)` instead.\n",
      "  if is_sparse(pd_dtype):\n",
      "C:\\Users\\user\\anaconda3\\Lib\\site-packages\\sklearn\\utils\\validation.py:614: FutureWarning: is_sparse is deprecated and will be removed in a future version. Check `isinstance(dtype, pd.SparseDtype)` instead.\n",
      "  if is_sparse(pd_dtype) or not is_extension_array_dtype(pd_dtype):\n",
      "C:\\Users\\user\\anaconda3\\Lib\\site-packages\\sklearn\\utils\\validation.py:767: FutureWarning: is_sparse is deprecated and will be removed in a future version. Check `isinstance(dtype, pd.SparseDtype)` instead.\n",
      "  if not hasattr(array, \"sparse\") and array.dtypes.apply(is_sparse).any():\n",
      "C:\\Users\\user\\anaconda3\\Lib\\site-packages\\sklearn\\utils\\validation.py:605: FutureWarning: is_sparse is deprecated and will be removed in a future version. Check `isinstance(dtype, pd.SparseDtype)` instead.\n",
      "  if is_sparse(pd_dtype):\n",
      "C:\\Users\\user\\anaconda3\\Lib\\site-packages\\sklearn\\utils\\validation.py:614: FutureWarning: is_sparse is deprecated and will be removed in a future version. Check `isinstance(dtype, pd.SparseDtype)` instead.\n",
      "  if is_sparse(pd_dtype) or not is_extension_array_dtype(pd_dtype):\n",
      "C:\\Users\\user\\anaconda3\\Lib\\site-packages\\sklearn\\utils\\validation.py:767: FutureWarning: is_sparse is deprecated and will be removed in a future version. Check `isinstance(dtype, pd.SparseDtype)` instead.\n",
      "  if not hasattr(array, \"sparse\") and array.dtypes.apply(is_sparse).any():\n",
      "C:\\Users\\user\\anaconda3\\Lib\\site-packages\\sklearn\\utils\\validation.py:605: FutureWarning: is_sparse is deprecated and will be removed in a future version. Check `isinstance(dtype, pd.SparseDtype)` instead.\n",
      "  if is_sparse(pd_dtype):\n",
      "C:\\Users\\user\\anaconda3\\Lib\\site-packages\\sklearn\\utils\\validation.py:614: FutureWarning: is_sparse is deprecated and will be removed in a future version. Check `isinstance(dtype, pd.SparseDtype)` instead.\n",
      "  if is_sparse(pd_dtype) or not is_extension_array_dtype(pd_dtype):\n"
     ]
    }
   ],
   "source": [
    "scaler = StandardScaler()    \n",
    "scaler2 = StandardScaler()   \n",
    "train = scaler.fit_transform(train)  \n",
    "test = scaler.fit_transform(test) "
   ]
  },
  {
   "cell_type": "code",
   "execution_count": 192,
   "id": "11d67a40",
   "metadata": {},
   "outputs": [],
   "source": [
    "x_train = train[:,0:3]\n",
    "y_train = train[:,3]\n",
    "x_test = test[:,0:3]\n",
    "y_test = test[:,3]"
   ]
  },
  {
   "cell_type": "code",
   "execution_count": null,
   "id": "8d2175c3",
   "metadata": {},
   "outputs": [],
   "source": []
  },
  {
   "cell_type": "code",
   "execution_count": 193,
   "id": "8438a84e",
   "metadata": {},
   "outputs": [
    {
     "data": {
      "text/plain": [
       "array([[0.16731292, 0.15728843, 0.14562566],\n",
       "       [0.13827412, 0.13322749, 0.13445199],\n",
       "       [0.13478947, 0.1274987 , 0.13680434],\n",
       "       [0.13711257, 0.12520718, 0.13151155],\n",
       "       [0.12491627, 0.11489535, 0.12269023],\n",
       "       [0.11388153, 0.10916655, 0.12210214],\n",
       "       [0.11504308, 0.11145807, 0.11974979],\n",
       "       [0.11504308, 0.10343776, 0.12563067],\n",
       "       [0.11794696, 0.10916655, 0.12621876],\n",
       "       [0.11271998, 0.102292  , 0.11622126],\n",
       "       [0.10923532, 0.09770896, 0.11092847],\n",
       "       [0.10110446, 0.09599032, 0.11151656],\n",
       "       [0.10749299, 0.09599032, 0.10916421],\n",
       "       [0.10284678, 0.09255305, 0.11151656],\n",
       "       [0.10226601, 0.10458352, 0.11269274],\n",
       "       [0.1144623 , 0.1051564 , 0.11504509],\n",
       "       [0.11852774, 0.11088519, 0.11563318],\n",
       "       [0.10807377, 0.10114624, 0.11092847],\n",
       "       [0.11155842, 0.11145807, 0.12151405],\n",
       "       [0.12085084, 0.10916655, 0.12269023],\n",
       "       [0.11736618, 0.10973943, 0.12563067],\n",
       "       [0.11794696, 0.11031231, 0.12269023],\n",
       "       [0.11910851, 0.11489535, 0.12621876],\n",
       "       [0.11678541, 0.12119702, 0.11739744],\n",
       "       [0.10865454, 0.10973943, 0.10681186],\n",
       "       [0.09703902, 0.0965632 , 0.10622377],\n",
       "       [0.10110446, 0.09484457, 0.10563568],\n",
       "       [0.09645825, 0.0965632 , 0.10151907],\n",
       "       [0.10168523, 0.09198017, 0.10210716],\n",
       "       [0.09645825, 0.09885472, 0.10563568],\n",
       "       [0.10110446, 0.08968865, 0.11151656],\n",
       "       [0.14466266, 0.2140035 , 0.15562315],\n",
       "       [0.22539053, 0.24837627, 0.21796046],\n",
       "       [0.2381676 , 0.22947125, 0.19149651],\n",
       "       [0.1922863 , 0.18249513, 0.16032785],\n",
       "       [0.16092439, 0.15270539, 0.1579755 ],\n",
       "       [0.15221275, 0.15270539, 0.16326829],\n",
       "       [0.16324749, 0.16015283, 0.17208961],\n",
       "       [0.16324749, 0.15098676, 0.1532708 ],\n",
       "       [0.14582421, 0.13551901, 0.14621374]])"
      ]
     },
     "execution_count": 193,
     "metadata": {},
     "output_type": "execute_result"
    }
   ],
   "source": [
    "x_train[60:100,:3]"
   ]
  },
  {
   "cell_type": "code",
   "execution_count": 194,
   "id": "c49a8e33",
   "metadata": {},
   "outputs": [
    {
     "name": "stdout",
     "output_type": "stream",
     "text": [
      "X_train_ shape: (17248, 60, 3)\n",
      "y_train_ shape: (17248,)\n",
      "X_test_ shape: (4267, 60, 3)\n",
      "y_test_ shape: (4267,)\n"
     ]
    }
   ],
   "source": [
    "timesteps = 60\n",
    "X_train_ = []\n",
    "y_train_ = []\n",
    "X_test_ = []\n",
    "y_test_ = []\n",
    "for i in range(timesteps, x_train.shape[0]):\n",
    "    X_train_.append(x_train[i-timesteps:i, :3])\n",
    "    y_train_.append(y_train[i])\n",
    "\n",
    "X_train_ = np.array(X_train_)\n",
    "y_train_ = np.array(y_train_)\n",
    "for i in range(timesteps, x_test.shape[0]):\n",
    "    X_test_.append(x_test[i-timesteps:i, :3])\n",
    "    y_test_.append(y_test[i])\n",
    "\n",
    "X_test_ = np.array(X_test_)\n",
    "y_test_ = np.array(y_test_)\n",
    "print(\"X_train_ shape:\", X_train_.shape)\n",
    "print(\"y_train_ shape:\", y_train_.shape)\n",
    "print(\"X_test_ shape:\", X_test_.shape)\n",
    "print(\"y_test_ shape:\", y_test_.shape)"
   ]
  },
  {
   "cell_type": "code",
   "execution_count": 218,
   "id": "4380094a",
   "metadata": {},
   "outputs": [
    {
     "data": {
      "text/plain": [
       "(4267,)"
      ]
     },
     "execution_count": 218,
     "metadata": {},
     "output_type": "execute_result"
    }
   ],
   "source": [
    "y_test_.shape"
   ]
  },
  {
   "cell_type": "code",
   "execution_count": 195,
   "id": "c9c854b4",
   "metadata": {},
   "outputs": [
    {
     "data": {
      "text/plain": [
       "(17248, 60, 3)"
      ]
     },
     "execution_count": 195,
     "metadata": {},
     "output_type": "execute_result"
    }
   ],
   "source": [
    "X_train_.shape"
   ]
  },
  {
   "cell_type": "code",
   "execution_count": null,
   "id": "79aad984",
   "metadata": {},
   "outputs": [],
   "source": []
  },
  {
   "cell_type": "code",
   "execution_count": null,
   "id": "f58bbb36",
   "metadata": {},
   "outputs": [],
   "source": []
  },
  {
   "cell_type": "code",
   "execution_count": 196,
   "id": "cecdb942",
   "metadata": {},
   "outputs": [],
   "source": [
    "from keras.models import Sequential\n",
    "from keras.layers import Dense\n",
    "from keras.layers import SimpleRNN\n",
    "from keras.layers import Dropout\n",
    "from keras.callbacks import EarlyStopping, ModelCheckpoint"
   ]
  },
  {
   "cell_type": "code",
   "execution_count": 197,
   "id": "b5b5e5ca",
   "metadata": {},
   "outputs": [],
   "source": [
    "regressor = Sequential()\n",
    "regressor.add(SimpleRNN(units=50,activation='tanh',return_sequences=True,input_shape=(X_train_.shape[1],X_train_.shape[2])))\n",
    "regressor.add(Dropout(0.2))\n",
    "regressor.add(SimpleRNN(units=50,activation='tanh',return_sequences=True))\n",
    "regressor.add(Dropout(0.2))\n",
    "regressor.add(SimpleRNN(units=50,activation='tanh',return_sequences=True))\n",
    "regressor.add(Dropout(0.2))\n",
    "regressor.add(SimpleRNN(units=50,activation='tanh'))\n",
    "regressor.add(Dropout(0.2))\n",
    "regressor.add(Dense(units=1))"
   ]
  },
  {
   "cell_type": "code",
   "execution_count": 198,
   "id": "03c5c234",
   "metadata": {},
   "outputs": [],
   "source": [
    "regressor.compile(optimizer= \"adam\", loss = \"mean_squared_error\")\n",
    "early_stop = EarlyStopping(monitor='loss', patience=5)        # 5번 체크 \n",
    "checkpoint = ModelCheckpoint('lst_checkpoint.h5', monitor='loss', save_best_only=True, mode='auto') \n"
   ]
  },
  {
   "cell_type": "code",
   "execution_count": 199,
   "id": "24e55927",
   "metadata": {},
   "outputs": [
    {
     "name": "stdout",
     "output_type": "stream",
     "text": [
      "Epoch 1/100\n",
      "863/863 [==============================] - 19s 19ms/step - loss: 0.1894\n",
      "Epoch 2/100\n",
      " 10/863 [..............................] - ETA: 16s - loss: 0.1028"
     ]
    },
    {
     "name": "stderr",
     "output_type": "stream",
     "text": [
      "C:\\Users\\user\\anaconda3\\Lib\\site-packages\\keras\\src\\engine\\training.py:3079: UserWarning: You are saving your model as an HDF5 file via `model.save()`. This file format is considered legacy. We recommend using instead the native Keras format, e.g. `model.save('my_model.keras')`.\n",
      "  saving_api.save_model(\n"
     ]
    },
    {
     "name": "stdout",
     "output_type": "stream",
     "text": [
      "863/863 [==============================] - 17s 19ms/step - loss: 0.0575\n",
      "Epoch 3/100\n",
      "863/863 [==============================] - 16s 18ms/step - loss: 0.0501\n",
      "Epoch 4/100\n",
      "863/863 [==============================] - 16s 18ms/step - loss: 0.0397\n",
      "Epoch 5/100\n",
      "863/863 [==============================] - 16s 18ms/step - loss: 0.0367\n",
      "Epoch 6/100\n",
      "863/863 [==============================] - 16s 19ms/step - loss: 0.0329\n",
      "Epoch 7/100\n",
      "863/863 [==============================] - 16s 18ms/step - loss: 0.0424\n",
      "Epoch 8/100\n",
      "863/863 [==============================] - 16s 18ms/step - loss: 0.0388\n",
      "Epoch 9/100\n",
      "863/863 [==============================] - 16s 18ms/step - loss: 0.0276\n",
      "Epoch 10/100\n",
      "863/863 [==============================] - 16s 19ms/step - loss: 0.0278\n",
      "Epoch 11/100\n",
      "863/863 [==============================] - 16s 19ms/step - loss: 0.0248\n",
      "Epoch 12/100\n",
      "863/863 [==============================] - 17s 19ms/step - loss: 0.0226\n",
      "Epoch 13/100\n",
      "863/863 [==============================] - 16s 19ms/step - loss: 0.0210\n",
      "Epoch 14/100\n",
      "863/863 [==============================] - 16s 19ms/step - loss: 0.0360\n",
      "Epoch 15/100\n",
      "863/863 [==============================] - 17s 19ms/step - loss: 0.0260\n",
      "Epoch 16/100\n",
      "863/863 [==============================] - 16s 18ms/step - loss: 0.0229\n",
      "Epoch 17/100\n",
      "863/863 [==============================] - 16s 18ms/step - loss: 0.0214\n",
      "Epoch 18/100\n",
      "863/863 [==============================] - 16s 18ms/step - loss: 0.0240\n"
     ]
    },
    {
     "data": {
      "text/plain": [
       "<keras.src.callbacks.History at 0x18a312ffa50>"
      ]
     },
     "execution_count": 199,
     "metadata": {},
     "output_type": "execute_result"
    }
   ],
   "source": [
    "epochs = 100 \n",
    "batch_size = 20\n",
    "regressor.fit(X_train_, y_train_, epochs = epochs, batch_size = batch_size,                   # 자료나눔 25% , 알림 활성화\n",
    "                  callbacks=[early_stop,checkpoint])  "
   ]
  },
  {
   "cell_type": "code",
   "execution_count": 200,
   "id": "bf76bfdd",
   "metadata": {},
   "outputs": [
    {
     "name": "stdout",
     "output_type": "stream",
     "text": [
      "134/134 [==============================] - 1s 8ms/step\n"
     ]
    }
   ],
   "source": [
    "pred=regressor.predict(X_test_)"
   ]
  },
  {
   "cell_type": "code",
   "execution_count": 207,
   "id": "8345ed3d",
   "metadata": {},
   "outputs": [
    {
     "data": {
      "text/plain": [
       "(4267, 1)"
      ]
     },
     "execution_count": 207,
     "metadata": {},
     "output_type": "execute_result"
    }
   ],
   "source": [
    "pred.shape"
   ]
  },
  {
   "cell_type": "code",
   "execution_count": 202,
   "id": "f124290f",
   "metadata": {},
   "outputs": [],
   "source": [
    "pred2 = np.tile(pred,(1,4))  "
   ]
  },
  {
   "cell_type": "code",
   "execution_count": 222,
   "id": "3c680669",
   "metadata": {},
   "outputs": [
    {
     "data": {
      "text/plain": [
       "(4267, 4)"
      ]
     },
     "execution_count": 222,
     "metadata": {},
     "output_type": "execute_result"
    }
   ],
   "source": [
    "pred2.shape"
   ]
  },
  {
   "cell_type": "code",
   "execution_count": 223,
   "id": "ab90bbbb",
   "metadata": {},
   "outputs": [],
   "source": [
    "ans = scaler.inverse_transform(pred2)  "
   ]
  },
  {
   "cell_type": "code",
   "execution_count": 210,
   "id": "a5f8e03d",
   "metadata": {},
   "outputs": [],
   "source": [
    "ans =ans[:,0]"
   ]
  },
  {
   "cell_type": "code",
   "execution_count": 212,
   "id": "ab838540",
   "metadata": {},
   "outputs": [],
   "source": [
    "real_price =real_price[:,0]"
   ]
  },
  {
   "cell_type": "code",
   "execution_count": null,
   "id": "51413e7e",
   "metadata": {},
   "outputs": [],
   "source": []
  },
  {
   "cell_type": "code",
   "execution_count": 214,
   "id": "bd23f230",
   "metadata": {},
   "outputs": [
    {
     "data": {
      "text/plain": [
       "(1,)"
      ]
     },
     "execution_count": 214,
     "metadata": {},
     "output_type": "execute_result"
    }
   ],
   "source": []
  },
  {
   "cell_type": "code",
   "execution_count": 213,
   "id": "f631b163",
   "metadata": {},
   "outputs": [
    {
     "data": {
      "image/png": "[encoded data removed]",
      "text/plain": [
       "<Figure size 640x480 with 1 Axes>"
      ]
     },
     "metadata": {},
     "output_type": "display_data"
    }
   ],
   "source": [
    "plt.plot(real_price, color = \"red\", label = \"Real Stock Price\")\n",
    "plt.plot(ans, color = \"black\", label = \"Predict Stock Price\")\n",
    "plt.title(\"Stock Price Prediction\")\n",
    "plt.xlabel(\"Time\")\n",
    "plt.ylabel(\"Tesla Stock Price\")\n",
    "plt.legend()\n",
    "plt.show()"
   ]
  },
  {
   "cell_type": "code",
   "execution_count": null,
   "id": "c526c9d2",
   "metadata": {},
   "outputs": [],
   "source": []
  }
 ],
 "metadata": {
  "kernelspec": {
   "display_name": "Python 3 (ipykernel)",
   "language": "python",
   "name": "python3"
  },
  "language_info": {
   "codemirror_mode": {
    "name": "ipython",
    "version": 3
   },
   "file_extension": ".py",
   "mimetype": "text/x-python",
   "name": "python",
   "nbconvert_exporter": "python",
   "pygments_lexer": "ipython3",
   "version": "3.11.5"
  }
 },
 "nbformat": 4,
 "nbformat_minor": 5
}
