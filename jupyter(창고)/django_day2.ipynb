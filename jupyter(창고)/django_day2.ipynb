{
 "cells": [
  {
   "cell_type": "code",
   "execution_count": 1,
   "id": "d26d376a",
   "metadata": {},
   "outputs": [],
   "source": [
    "# 장고 2일차\n",
    "# python manage.py runserver\n",
    "# 장고 실행은 런 서버를 통해서 작동하였다. \n",
    "# http://127.0.0.1:8000/pybo/\n",
    "# 작동은 제대로 될 것이다. \n",
    "# 쿼리문은 데이터베이스의 데이터를 생성, 조회, 수정, 삭제하기 위해 사용하는 질의문이다. \n",
    "# 장고는 테이블 작업을 위해 직접 쿼리문을 수행하지 않아도 된다는 것이다. \n"
   ]
  },
  {
   "cell_type": "code",
   "execution_count": 2,
   "id": "95bd3d07",
   "metadata": {},
   "outputs": [],
   "source": [
    "# ORM\n",
    "# 전통적으로 데이터베이스를 사용하는 프로그램들은 데이터를 조회하거나 저장하기 위해서 쿼리문을 사용해야 했다. \n",
    "# 이 방식은 여전히 많이 사용되고 있지만 개발자마다 쿼리문이 다르고 잘못작성된 쿼리는 시스템의 성능을 저하시킨다.\n",
    "# 데이터베이스를 튜닝하는 사람들이 따로 존재한다. 데브옵스라고 한다. \n",
    "# 데브옵스는 노하우의 결정체이다. 많은 경력이 있어야 한다. \n",
    "# 개발자마다 쿼리문이 다르다보니 공부를 다시해야한다. 표준화된 쿼리가 존재한다.\n",
    "# ORM을 사용하면 데이터베이스의 테이블을 모델화하여 사용한다. \n",
    "# 독특한 쿼리문이나 잘못된 쿼리문이 나오지 않게 된다. \n",
    "# 주의사항은 '데이터 모델'은 데이터베이스이다. 인공지능 모델이 아니다. "
   ]
  },
  {
   "cell_type": "code",
   "execution_count": null,
   "id": "b06d45e4",
   "metadata": {},
   "outputs": [],
   "source": [
    "# 질문 모델\n",
    "# 질문모델은 질문의 제목(subject), 질문 내용(content),일자(create_Date)등으로 구성된다. \n",
    "# 답변모델은 질문(question), 답변내용(content), 일자(create_date) 등으로 구성된다. \n",
    "from django.db import models\n",
    "\n",
    "\n",
    "class Question(models.Model):                                        # 질문모델이다. \n",
    "    subject = models.CharField(max_length=200)                       # 문자길이는 최대 200개로 고정된다. \n",
    "    content = models.TextField()                                     # 텍스트 필드이다. \n",
    "    create_date = models.DateTimeField()                             # 날짜속성이다. \n",
    "\n",
    "\n",
    "class Answer(models.Model):                                          # 질문에 대한 답변이다. \n",
    "    question = models.ForeignKey(Question, on_delete=models.CASCADE) # 질문에 대한 답변이다. 질문과 연결되어야 한다. ForeignKey로 연결한다. \n",
    "                                                                     # on delete에서 on은 'delete가 이루어졌을때'로 해석하면 된다.\n",
    "                                                                     # CASCADE는 원 글이 삭제가 이루어지면 답변도 같이 삭제한다는 의미이다. \n",
    "    content = models.TextField()                                     # 답변 내용이다. \n",
    "    create_date = models.DateTimeField()                             # 날짜속성이다.\n",
    "    \n",
    "# 물론 이것만 만드는 것으로 끝나지 않는다. 작성한 모델을 실행하기 위해서 config/settings.py 파일의 installed_apps에 항목을 추가하자.\n"
   ]
  },
  {
   "cell_type": "code",
   "execution_count": null,
   "id": "ee9f9518",
   "metadata": {},
   "outputs": [],
   "source": [
    "INSTALLED_APPS = [\n",
    "    'pybo.apps.PyboConfig',\n",
    "    'django.contrib.admin',\n",
    "    'django.contrib.auth',\n",
    "    'django.contrib.contenttypes',\n",
    "    'django.contrib.sessions',\n",
    "    'django.contrib.messages',\n",
    "    'django.contrib.staticfiles',\n",
    "]\n",
    "# 이렇게 수정하기. apps.py를 추가하는 것이다. migrate하면 비로소 테이블이 생성된다. \n",
    "# 그리고 마이그레이트를 하면\n",
    "python manage.py migrate\n",
    "# 경고창이 뜰 것이다. 마이그레이션을 새로 만들어야 한다는 이야기이다. \n",
    "python manage.py makemigrations\n",
    "# 마이그레이션을 새로 만들자\n",
    "# 그리고 마이그레이트가 실행되기 전에 어떤 명령어가 실행되는지 확인해보자. \n",
    "python manage.py sqlmigrate pybo 0001"
   ]
  },
  {
   "cell_type": "code",
   "execution_count": null,
   "id": "d1a59f3b",
   "metadata": {},
   "outputs": [],
   "source": [
    "# 이제 migrate를 할 수 있을 것이다.\n",
    "python manage.py migrate\n",
    "# SQLlite에서 확인하여 question과 answer가 있는지 확인하자.\n"
   ]
  },
  {
   "cell_type": "code",
   "execution_count": null,
   "id": "bb51c7d0",
   "metadata": {},
   "outputs": [],
   "source": [
    "# 웹사이트 제작에서 가장 많이 하는 작업은 db작업이다. \n",
    "# 질문을 생성, 변경, 추가,삭제작업을 CRUD라고 한다. "
   ]
  },
  {
   "cell_type": "code",
   "execution_count": null,
   "id": "96f93c42",
   "metadata": {},
   "outputs": [],
   "source": []
  },
  {
   "cell_type": "code",
   "execution_count": null,
   "id": "ddf9af2b",
   "metadata": {},
   "outputs": [],
   "source": []
  },
  {
   "cell_type": "code",
   "execution_count": null,
   "id": "3474a7bf",
   "metadata": {},
   "outputs": [],
   "source": []
  },
  {
   "cell_type": "code",
   "execution_count": null,
   "id": "a74bb89e",
   "metadata": {},
   "outputs": [],
   "source": []
  },
  {
   "cell_type": "code",
   "execution_count": null,
   "id": "87158257",
   "metadata": {},
   "outputs": [],
   "source": []
  },
  {
   "cell_type": "code",
   "execution_count": null,
   "id": "192fd9ef",
   "metadata": {},
   "outputs": [],
   "source": []
  },
  {
   "cell_type": "code",
   "execution_count": null,
   "id": "7a5d2e30",
   "metadata": {},
   "outputs": [],
   "source": []
  },
  {
   "cell_type": "code",
   "execution_count": null,
   "id": "52c53d28",
   "metadata": {},
   "outputs": [],
   "source": []
  },
  {
   "cell_type": "code",
   "execution_count": null,
   "id": "708c50d9",
   "metadata": {},
   "outputs": [],
   "source": []
  },
  {
   "cell_type": "code",
   "execution_count": null,
   "id": "f6802228",
   "metadata": {},
   "outputs": [],
   "source": []
  }
 ],
 "metadata": {
  "kernelspec": {
   "display_name": "Python 3 (ipykernel)",
   "language": "python",
   "name": "python3"
  },
  "language_info": {
   "codemirror_mode": {
    "name": "ipython",
    "version": 3
   },
   "file_extension": ".py",
   "mimetype": "text/x-python",
   "name": "python",
   "nbconvert_exporter": "python",
   "pygments_lexer": "ipython3",
   "version": "3.11.5"
  }
 },
 "nbformat": 4,
 "nbformat_minor": 5
}
