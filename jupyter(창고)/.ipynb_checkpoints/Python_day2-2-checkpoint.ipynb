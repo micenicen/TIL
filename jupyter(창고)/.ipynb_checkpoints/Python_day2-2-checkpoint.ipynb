{
 "cells": [
  {
   "cell_type": "code",
   "execution_count": 3,
   "id": "153d7554",
   "metadata": {},
   "outputs": [
    {
     "name": "stdout",
     "output_type": "stream",
     "text": [
      "[1, 3, 5, 7, 9]\n",
      "[1, 'a', 'b', 7, 9]\n",
      "[1, 'i', 'b', 'j', 9]\n"
     ]
    }
   ],
   "source": [
    "# 슬라이싱이란?\n",
    "# 데이터가 주어질 때 원하는 데이터만 얻어내는 방법 중 하나.\n",
    "x = list(range(1,10,2))\n",
    "print(x)\n",
    "x[1:3]=['a','b']#원하는 데이터를 치환하는 방법 중 하나이다. \n",
    "print(x)\n",
    "x[1:5:2] = ['i','j']#1번과 3번 자리에 알파벳이 채워지게 만들어보았다.\n",
    "print(x)"
   ]
  },
  {
   "cell_type": "code",
   "execution_count": 7,
   "id": "6177b9bd",
   "metadata": {},
   "outputs": [
    {
     "name": "stdout",
     "output_type": "stream",
     "text": [
      "80\n",
      "50\n",
      "100\n"
     ]
    }
   ],
   "source": [
    "# 딕셔너리 \n",
    "# 매우 많이 사용하는 자료구조로 키, 밸류로 구성된다.\n",
    "# 기존의 리스트와 튜플같은 경우는 데이터값만 저장할 수 있을 뿐 데이터에 대한 정보를 저장할 수 없는 한계점이 존재했다.\n",
    "# 딕셔너리 구조는 각각의 데이터가 무엇을 나타내는지 알 수 있도록 데이터와 함께 데이터의 의미를 알 수 있는 키를 같이 저장한다.{키:값,키:값}\n",
    "# 딕셔너리 안에도 또 다른 딕셔너리가 들어갈 수 있다. 중첩구조가 가능해서 복잡한 구조의 데이터표현이 가능해진다.\n",
    "# 딕셔너리 구조로 성적을 작성해보면 다음과 같이 작성이 가능하다.\n",
    "score = {'kor': 100, 'eng': 90, 'mat':80} \n",
    "#리스트는 사전에 위치를 알아야 점수를 참고를 해야한다. 하지만 딕셔너리는 키만 가지고 값을 참조할 수 있다.\n",
    "print(score['mat']) # 키 만으로 위치를 알 필요 없이 바로 원하는 자료를 찾을 수 있다.\n",
    "score = {'kor': 100, 'eng': 90, 'mat':80, 'kor':50} \n",
    "print(score['kor'])\n",
    "# 딕셔너리의 키가 중복이 되는 경우가 있다.그럴 경우 마지막에 저장된 값으로 출력한다. 그 이전에 중복을 가능하면 일어나지 않게 하자.\n",
    "# 만약 값을 중복된 곳에 저장하기 위해서 리스트를 사용하는 것을 고려해보자.\n",
    "score = {'kor': [100,50], 'eng': 90, 'mat':80} \n",
    "print(score['kor'][0])#이와 같은 경우 데이터는 리스트로 추출이 된다.리스트 내에서 추출하는 방식으로 활용하면 다음과 같다."
   ]
  },
  {
   "cell_type": "code",
   "execution_count": 11,
   "id": "ce53b22a",
   "metadata": {},
   "outputs": [
    {
     "name": "stdout",
     "output_type": "stream",
     "text": [
      "{}\n",
      "{}\n",
      "{'kor': 100, 'eng': 90, 'mat': 100}\n"
     ]
    }
   ],
   "source": [
    "# dict 함수\n",
    "# 딕셔너리를 만들 때는 dict()함수를 사용한다.\n",
    "d1 = dict()\n",
    "print(d1)\n",
    "# 사실 중괄호를 직접 그려서 만드는 것도 가능하다.\n",
    "d2 = {}\n",
    "print(d2)\n",
    "d = dict(kor = 100, eng = 90, mat = 100) # 입력할 경우에는 콜론이 아닌 이콜 기호가 사용된다.\n",
    "print(d)"
   ]
  },
  {
   "cell_type": "code",
   "execution_count": 20,
   "id": "58ca20dd",
   "metadata": {},
   "outputs": [
    {
     "name": "stdout",
     "output_type": "stream",
     "text": [
      "[(1, 10), (2, 20), (3, 30)]\n",
      "20\n",
      "{'kor': 100, 'eng': 90, 'mat': 80}\n",
      "{'kor': [100, 50], 'eng': 90, 'mat': 95, 'ds': 100}\n",
      "{'kor': [100, 50], 'eng': 90, 'mat': 95, 'ds': 100}\n",
      "True\n",
      "False\n",
      "4\n"
     ]
    }
   ],
   "source": [
    "# zip 함수\n",
    "a = [1,2,3]\n",
    "b = [10,20,30]\n",
    "c = list(zip(a,b)) # 단순하게 압축하면 잘 작동하지 않는다. 그래서 리스트로 묶도록 한다.\n",
    "print(c) # 같은 데이터의 위치끼리 묶여있다. 그리고 내부에 튜플이 튀어나온다.\n",
    "print(c[1][1]) # 내부의 자료를 추출하고 싶다면 이런 방식으로 추출하는 것도 가능하다.\n",
    "sco = dict(zip(['kor','eng','mat'],[100,90,80])) # 같은 원리로 압축이 가능하다.\n",
    "print(sco)\n",
    "score['mat'] = 95 # 값을 추가할 때는 키 이름을 적고 이콜 뒤에 저장하고자 하는 값을 작성하면 된다.\n",
    "print(score)\n",
    "score['ds'] = 100 # 딕셔너리에 추가하는 것은 다음과 같이 추가한다.\n",
    "print(score) \n",
    "# score['pr]같이 만약 키 이름이 존재하지 않으면 키 애러가 발생한다. 만약 키가 있는지 없는지 확인하기 위해서는 in연산자를 사용한다.\n",
    "print(\"kor\" in score)\n",
    "print(\"sg\" in score) # 물론 not in으로도 확인 가능하다. \n",
    "print(len(score)) # 길이는 키 갯수만큼 나오게 된다."
   ]
  },
  {
   "cell_type": "code",
   "execution_count": 30,
   "id": "498bb47a",
   "metadata": {},
   "outputs": [
    {
     "name": "stdout",
     "output_type": "stream",
     "text": [
      "100\n",
      "dict_items([('kor', 100), ('eng', 90), ('mat', 100), ('test', {'f': 50, 's': 100})])\n",
      "dict_keys(['kor', 'eng', 'mat', 'test'])\n",
      "dict_values([100, 90, 100, {'f': 50, 's': 100}])\n",
      "100\n",
      "('kor', 100)\n",
      "('eng', 90)\n",
      "('mat', 100)\n",
      "('test', {'f': 50, 's': 100})\n"
     ]
    }
   ],
   "source": [
    "# 응용해보기 \n",
    "d = dict(kor = 100, eng = 90, mat = 100, test = {'f':50,'s':100}) # 딕셔너리 내부에 딕셔너리를 만든 예시이다.\n",
    "print(d['test']['s']) # 딕셔너리 내부의 딕셔너리를 보는 방법 중 하나이다.\n",
    "print(d.items()) # 아이템 함수는 키와 값이 한꺼번에 나온다.\n",
    "print(d.keys()) # 키들만 출력하는 함수이다.\n",
    "print(d.values()) # 값만 출력한다.\n",
    "#특이한 점은 dict_0000로 이루어지는 특이사항이 있다. 그리고 리스트 구조로 만들지 않는 탐색은 추출되지 않는다.d.values()[0]은 안된다.\n",
    "print(list(d.values())[0]) # 그렇기에 리스트 함수로 묶어서 참조하는 방식을 사용한다. \n"
   ]
  },
  {
   "cell_type": "code",
   "execution_count": null,
   "id": "328e9db0",
   "metadata": {},
   "outputs": [],
   "source": [
    "# for 반복문\n",
    "for i in d.items(): # 녹색으로 나타나는 문자들은 사전에 약속이 된 단어라는 의미이다. 즉 약속이 된 함수들은 처음부터 기능이 약속되어졌다.\n",
    "    print(i) # 반복문을 통해서 키를 하나씩 나열하는 것이다. \n",
    "# for 는 ~하는 동안이라는 뜻으로 for i in range(1,1001)의 의미는 레인지값이 1부터 1000까지 진행되는 동안 i에 레인지 값을 저장해서 실행하라는 뜻이다.\n",
    "# 들여쓰기는 TAB 키를 눌러서 띄어쓴다. 파이썬에서 매우 중요하며 들여쓰기는 칼같아야 한다.\n",
    "# 들여쓰기를 한개만 해도 작동은 하지만 문법애러가 출력된다. 그래서 약속된 들여쓰기로 작성하는 것이 좋다.\n",
    "# for 문은 횟수가 정해져 있을 경우에 유용하다.\n"
   ]
  },
  {
   "cell_type": "code",
   "execution_count": 34,
   "id": "ae15ef86",
   "metadata": {},
   "outputs": [
    {
     "name": "stdout",
     "output_type": "stream",
     "text": [
      "90\n",
      "90\n",
      "None\n",
      "default\n"
     ]
    }
   ],
   "source": [
    "d = dict(kor = 100, eng = 90, mat = 100, test = {'f':50,'s':100})\n",
    "print(d['eng']) # 영어점수를 확인하는 것은 일반적으로 이렇게 확인한다.\n",
    "print(d.get('eng')) # 이것도 동일하게 영어점수가 나온다. 다만 차이가 있다. 설령 영어키가 없어도 애러가 출력하지 않는다.\n",
    "print(d.get(\"ne\")) # 오류 대신 none을 출력하고 이것은 false처럼 쓰이게 된다.\n",
    "# 또한 get에서 또다른 옵션이 존재한다.\n",
    "print(d.get(\"ne\",'default')) # ai값이 없을 경우 디폴트를 출력하라! 라는 의미이다. "
   ]
  },
  {
   "cell_type": "code",
   "execution_count": 46,
   "id": "0b096cb0",
   "metadata": {},
   "outputs": [
    {
     "name": "stdout",
     "output_type": "stream",
     "text": [
      "{'a': 10, 'b': 20, 'c': 30, 'd': 40, 'e': None}\n",
      "{'a': 10, 'b': 20, 'c': 30, 'd': 40, 'e': None, 'f': 100}\n",
      "{'a': 100, 'b': 20, 'c': 30, 'd': 40, 'e': None, 'f': 100}\n",
      "{'a': 100, 'b': 20, 'c': 30, 'd': 40, 'e': None, 'f': 100, 'i': 50}\n",
      "{'a': 100, 'b': 200, 'c': 30, 'd': 40, 'e': None, 'f': 100, 'i': 50, 'g': 100}\n"
     ]
    }
   ],
   "source": [
    "#딕셔너리 내용 할당\n",
    "x = {'a': 10, 'b': 20, 'c': 30, 'd' : 40}\n",
    "x.setdefault('e') #딕셔너리에 키값을 정할 때 사용할 수 있는 함수이다.\n",
    "print(x)\n",
    "x.setdefault('f', 100) # 키에 대한 기본값을 지정할 때 f가 할당되는 것을 볼 수 있다.\n",
    "print(x)\n",
    "x.update(a=100)\n",
    "print(x) # a의 값을 100으로 업데이트 한 결과이다. 기존의 값을 변경할 때 사용한다.\n",
    "x.update(i=50)\n",
    "print(x) # 업데이트 하는 키값이 존재하지 않으면 새롭게 추가된다.\n",
    "x.update(b = 200, g=100)\n",
    "print(x) # b는 이미 존재했기에 기존의 값을 덮어 씌웠고 g는 키가 존재하지 않았기에 키가 추가되었다.\n"
   ]
  },
  {
   "cell_type": "code",
   "execution_count": 47,
   "id": "e4644e73",
   "metadata": {},
   "outputs": [
    {
     "name": "stdout",
     "output_type": "stream",
     "text": [
      "{'b': 200, 'c': 30, 'd': 40, 'e': None, 'f': 100, 'i': 50, 'g': 100}\n",
      "{'c': 30, 'd': 40, 'e': None, 'f': 100, 'i': 50, 'g': 100}\n",
      "{'c': 30, 'd': 40, 'e': None, 'f': 100, 'i': 50}\n",
      "{}\n"
     ]
    }
   ],
   "source": [
    "# 딕셔너리 내용 삭제\n",
    "# 딕셔너리에서도 팝을 사용할 수 있다.\n",
    "x.pop('a') #pop으로 삭제한 케이스. 다만 pop()는 작동하지 않는다. 인수가 존재하지 않는다고 뜬다. \n",
    "print(x)\n",
    "del x['b'] #del로 삭제한 케이스\n",
    "print(x)\n",
    "x.popitem() #pop()이 작동하지 않는 대신 다음과 같은 함수가 작동한다. 맨 뒤의 딕셔너리 내용이 삭제된다.\n",
    "print(x)\n",
    "x.clear() #전체 삭제 명령이다. 딕셔너리 내부 모든 내용이 삭제된다.\n",
    "print(x)"
   ]
  },
  {
   "cell_type": "code",
   "execution_count": 49,
   "id": "c94a2b2a",
   "metadata": {},
   "outputs": [
    {
     "name": "stdout",
     "output_type": "stream",
     "text": [
      "{'a': None, 'b': None}\n"
     ]
    }
   ],
   "source": [
    "k_list = ['a','b'] #이 요소를 딕셔너리로 만들기 위해서는 키값과 내용이 각각 존재해야 한다. \n",
    "k_dictionary = dict.fromkeys(k_list) #기초적으로 넌을 대입한다. 만약 추가로 대입하고 싶으면 (k_list,10)이렇게 해서 none을 10으로 대체한다.\n",
    "print(k_dictionary)"
   ]
  },
  {
   "cell_type": "code",
   "execution_count": 4,
   "id": "1e2f53f7",
   "metadata": {},
   "outputs": [
    {
     "name": "stdout",
     "output_type": "stream",
     "text": [
      "[32, 22, 10]\n"
     ]
    }
   ],
   "source": [
    "print([number for number in [3,5,45,97,32,22,10,19,39,43] if number % 2 == 0])"
   ]
  },
  {
   "cell_type": "code",
   "execution_count": null,
   "id": "18cd5769",
   "metadata": {},
   "outputs": [],
   "source": []
  }
 ],
 "metadata": {
  "kernelspec": {
   "display_name": "Python 3 (ipykernel)",
   "language": "python",
   "name": "python3"
  },
  "language_info": {
   "codemirror_mode": {
    "name": "ipython",
    "version": 3
   },
   "file_extension": ".py",
   "mimetype": "text/x-python",
   "name": "python",
   "nbconvert_exporter": "python",
   "pygments_lexer": "ipython3",
   "version": "3.11.5"
  }
 },
 "nbformat": 4,
 "nbformat_minor": 5
}
