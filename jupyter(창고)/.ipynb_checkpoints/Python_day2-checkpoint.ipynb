{
 "cells": [
  {
   "cell_type": "code",
   "execution_count": 2,
   "id": "3c238f06",
   "metadata": {},
   "outputs": [
    {
     "name": "stdout",
     "output_type": "stream",
     "text": [
      "[10, 20, 30]\n",
      "10\n",
      "20\n",
      "30\n"
     ]
    }
   ],
   "source": [
    "#리스트의 정의\n",
    "#리스트 자료구조는 데이터의 타입이 다르게 표현되어있어도 저장이 가능하고 관리될 수 있다. 즉 숫자, 문자등이 저장될 수 있어서 유연하다.\n",
    "#변수는 한개의 값만 저장할 수 있다. 일일히 변수를 지정해서 늘리는 것은 한계가 있다. 그렇기에 리스트를 사용한다. \n",
    "#변수를 한꺼번에 저장 및 관리가 가능하다. 리스트 내부의 값은 요소라고 한다.\n",
    "#변수는 x = 1 과 같은 방식으로 저장한다. 리스트는 x = []와 같이 구분한다. 구분은 콤마로 한다. \n",
    "x = [10,20,30]\n",
    "print(x)\n",
    "for i in x:\n",
    "    print(i)"
   ]
  },
  {
   "cell_type": "code",
   "execution_count": 11,
   "id": "9dd53206",
   "metadata": {},
   "outputs": [
    {
     "name": "stdout",
     "output_type": "stream",
     "text": [
      "['kim', 25, 180, 70, 'female', False, 4.1]\n",
      "['kim', 25, 180, 70, 'female', False, 4.1, [100, 90, 100]]\n",
      "female\n",
      "90\n"
     ]
    }
   ],
   "source": [
    "#리스트의 특징\n",
    "p = ['kim',25,180,70,'female',False, 4.1] #불, 실수, 소수, 정수, 문자 등 모두 입력 가능하다.\n",
    "print(p)\n",
    "q = ['kim',25,180,70,'female',False, 4.1,[100,90,100]]#리스트 내부에 리스트가 존재할 수 있다. \n",
    "print(q)\n",
    "print(p[4])#리스트는 0번부터 시작한다. 0번부터 해서 요소의 순서가 매겨지며 위치를 알면 원하는 자료를 찾을 수 있다.\n",
    "print(q[-1][1])#마이너스를 사용하여 뒤에서도 참조할 수 있다. 또한 리스트 내부의 리스트를 찾을 수도 있다."
   ]
  },
  {
   "cell_type": "code",
   "execution_count": 15,
   "id": "efb9087e",
   "metadata": {},
   "outputs": [
    {
     "name": "stdout",
     "output_type": "stream",
     "text": [
      "AI\n",
      "[90, 100]\n"
     ]
    }
   ],
   "source": [
    "#리스트 내부 리스트\n",
    "q = ['kim',25,180,70,'female',False, 4.1,[100,90,100,['sesac',3,'AI']]]#이와같이 3중으로 리스트를 씌우는 것도 가능하다.\n",
    "print(q[-1][-1][-1])#또한 3중으로 내부의 정보를 찾는 것도 가능하다.\n",
    "print(q[-1][1:3])#1일차에 배웠던 방식으로 연속으로 찾은 케이스, 연속으로 출력하는 것이기에 출력결과가 리스트로 나온다."
   ]
  },
  {
   "cell_type": "code",
   "execution_count": 27,
   "id": "bccef35d",
   "metadata": {},
   "outputs": [
    {
     "name": "stdout",
     "output_type": "stream",
     "text": [
      "[1, 2, 3, 4]\n",
      "[1, 2, 1, 2, 1, 2, 1, 2, 1, 2]\n",
      "10\n"
     ]
    }
   ],
   "source": [
    "#리스트의 병합\n",
    "x , y = [1,2],[3,4]\n",
    "print(x+y) #리스트 두개를 더하면 리스트 두 개를 합치는 결과가 나오게 된다.\n",
    "#만약 리스트의 요소를 더하고 싶다면 반복문으로 더한다. 또는 넘파이로 덧셈연산을 하는 방법도 존재한다.\n",
    "print(x * 5)#또한 리스트를 곱하면 리스트 5개를 연속으로 합치는 결과가 나온다. \n",
    "print(len(x*5))#리스트의 길이는 10이다."
   ]
  },
  {
   "cell_type": "code",
   "execution_count": 37,
   "id": "6231952a",
   "metadata": {},
   "outputs": [
    {
     "name": "stdout",
     "output_type": "stream",
     "text": [
      "['kim', 26, 180, 70, 'female', False, 4.1]\n"
     ]
    }
   ],
   "source": [
    "#리스트의 변경\n",
    "p = ['kim',25,180,70,'female',False, 4.1]\n",
    "p[1] = 26 #리스트의 특정 위치에 있는 값을 바꾼 케이스이다.\n",
    "print(p)"
   ]
  },
  {
   "cell_type": "code",
   "execution_count": 21,
   "id": "3b0ff393",
   "metadata": {},
   "outputs": [
    {
     "name": "stdout",
     "output_type": "stream",
     "text": [
      "['kim', 26, 180, False, 4.1]\n",
      "['kim', 25, 180, 70, 'female', False, 4.1, [90, 100, ['sesac', 3, 'AI']]]\n"
     ]
    }
   ],
   "source": [
    "#리스트 내부 자료 삭제\n",
    "del p[3]#4번째 칸을 삭제한 케이스이다. \n",
    "print(p)\n",
    "q = ['kim',25,180,70,'female',False, 4.1,[100,90,100,['sesac',3,'AI']]]\n",
    "del q[-1][0]#리스트 내부의 리스트를 삭제하는 방법은 이와 같다. 해당 위치를 참조를 하고 그 위치의 자료를 삭제하라는 의미이다.\n",
    "print(q)#del q[4:]와 같이 범위삭제도 가능하다.\n",
    "#del함수는 특이하게도 뒤에 괄호가 없다. "
   ]
  },
  {
   "cell_type": "code",
   "execution_count": 26,
   "id": "8aeb71fa",
   "metadata": {},
   "outputs": [
    {
     "name": "stdout",
     "output_type": "stream",
     "text": [
      "range(0, 5)\n",
      "[0, 1, 2, 3, 4]\n",
      "[1, 2, 3, 4]\n",
      "[1, 3]\n",
      "[-1, -2, -3, -4]\n"
     ]
    }
   ],
   "source": [
    "#레인지를 활용하는 방법\n",
    "print(range(5)) #레인지는 0부터 시작해서 적힌 숫자 이전까지 해당하는 범위를 지정한다. 즉 0번부터 4번까지 지정한다.\n",
    "print(list(range(5)))#레인지는 연속된 숫자를 생성한다. 레인지 객체를 리스트에 넣어서 출력하면 다음과 같다.\n",
    "print(list(range(1,5)))#시작하는 값을 나타낼 경우 콤마를 사용한다.\n",
    "print(list(range(1,5,2)))#증가값을 지정할 수 있다. 증가값은 기본적으로 1씩 증가한다. 콤마 하나 더 추가하여 원하는 값을 추가할 수 있다.\n",
    "print(list(range(-1,-5,-1)))#감소도 가능하다. 여기에서 주의할 점은 시작지점과 마지막 지점을 고려한다."
   ]
  },
  {
   "cell_type": "code",
   "execution_count": 36,
   "id": "3df09a56",
   "metadata": {},
   "outputs": [
    {
     "name": "stdout",
     "output_type": "stream",
     "text": [
      "[10, 30, 50, 70, 90]\n",
      "[10, 30, 50, 70, 90, 100]\n"
     ]
    }
   ],
   "source": [
    "#리스트에 자료를 추가하기\n",
    "#리스트에 자료를 추가하는 방법은 append, extend, insert와 같이 3가지가 존재한다. 이 방법들은 차이가 존재한다.\n",
    "#데이터에 대해서 분석을 할 때 현재시점에 저장되어있는 데이터를 분석하는 것이 일반적이다.\n",
    "#분석 이후 데이터가 지속적으로 저장되는 경우 기존의 리스트에 추가해야한다. 이런 상황에서 위와 같은 방법을 사용한다.\n",
    "#append는 데이터를 1개 추가할 때 사용한다. 추가되는 위치는 맨 마지막 위치이다..\n",
    "#extend는 리스트를 확장할 때 사용한다.\n",
    "#insert는 특정 위치에 데이터를 추가한다.\n"
   ]
  },
  {
   "cell_type": "code",
   "execution_count": 40,
   "id": "1459d228",
   "metadata": {},
   "outputs": [
    {
     "name": "stdout",
     "output_type": "stream",
     "text": [
      "[10, 30, 50, 70, 90]\n",
      "[10, 30, 50, 70, 90, 100]\n"
     ]
    }
   ],
   "source": [
    "#append 사용하기\n",
    "x = list(range(10,100,20))#빈 리스트를 작성하고 해도 상관없다. 파이썬은 바로 리스트를 생성하는 것이 가능하다.\n",
    "print(x)\n",
    "x.append(100)#append는 1개씩 추가할 수 있다.\n",
    "#즉 x.append(200,300)은 오류가 발생한다. append는 인수가 1개만 가능하지만 입력된 인수가 2개이기 때문에 작동하지 않는 것이다.\n",
    "print(x)"
   ]
  },
  {
   "cell_type": "code",
   "execution_count": 46,
   "id": "21fa2cf0",
   "metadata": {},
   "outputs": [
    {
     "name": "stdout",
     "output_type": "stream",
     "text": [
      "[10, 30, 50, 70, 90, [300, 400]]\n",
      "[10, 30, 50, 70, 90, 300, 400]\n"
     ]
    }
   ],
   "source": [
    "#EXTEND 사용하기\n",
    "x = list(range(10,100,20))\n",
    "x.append([300,400])#append로 두 개의 요소를 추가하려면 이렇게 해야하는데 문제는 자료가 리스트로 들어간다. \n",
    "print(x)#마음에 들지 않는다. 리스트로 들어가서 너저분한 것이 단점이다.\n",
    "del x[-1]\n",
    "x.extend([300,400])#이와 같은 방식으로 리스트를 연장하는 것이 가능하다.\n",
    "print(x)"
   ]
  },
  {
   "cell_type": "code",
   "execution_count": 50,
   "id": "ba8d2201",
   "metadata": {},
   "outputs": [
    {
     "name": "stdout",
     "output_type": "stream",
     "text": [
      "[10, 30, 50, 70, 80, 90]\n",
      "[0, 10, 30, 50, 70, 80, 90]\n",
      "[0, 10, 30, 50, 70, 80, 90, 500]\n"
     ]
    }
   ],
   "source": [
    "#insert 사용하기\n",
    "x = list(range(10,100,20))\n",
    "x.insert(4,80)#추가하고자 하는 위치를 먼저 작성하고 추가하고자 하는 값을 작성한다.\n",
    "print(x)\n",
    "x.insert(0,0)#맨 앞에도 가능하다. \n",
    "print(x)\n",
    "x.insert(len(x),500)#맨 뒤에는 다음과 같이 추가하는 것이 가능하다.\n",
    "print(x)"
   ]
  },
  {
   "cell_type": "code",
   "execution_count": 51,
   "id": "a5d94e64",
   "metadata": {},
   "outputs": [
    {
     "name": "stdout",
     "output_type": "stream",
     "text": [
      "[0, 10, 30, 50, 55, 65, 70, 80, 90, 500]\n"
     ]
    }
   ],
   "source": [
    "#기타 팁\n",
    "x[4:4] = [55,65]#이와 같은 방법으로 70을 소거하지 않고 중간에 끼워넣기가 가능하다. 자주 사용하는 기술은 아니다.\n",
    "print(x)"
   ]
  },
  {
   "cell_type": "code",
   "execution_count": 52,
   "id": "1e494d58",
   "metadata": {},
   "outputs": [
    {
     "name": "stdout",
     "output_type": "stream",
     "text": [
      "[500, 90, 80, 70, 65, 55, 50, 30, 10, 0]\n"
     ]
    }
   ],
   "source": [
    "#역순으로 사용하기\n",
    "x.reverse()#x에 해당하는 값을 뒤집을 때 사용한다.\n",
    "print(x)\n",
    "x.reverse()"
   ]
  },
  {
   "cell_type": "code",
   "execution_count": null,
   "id": "40142242",
   "metadata": {},
   "outputs": [],
   "source": [
    "#리스트 자료 삭제하는 요령\n",
    "#del을 이용하는 것 말고도 pop,remove가 존재한다."
   ]
  },
  {
   "cell_type": "code",
   "execution_count": 54,
   "id": "c4e8f6eb",
   "metadata": {},
   "outputs": [
    {
     "name": "stdout",
     "output_type": "stream",
     "text": [
      "[500, 90, 80, 70, 65, 55, 50, 30, 10]\n",
      "[500, 90, 80, 70, 65, 55, 50, 30]\n",
      "[500, 90, 80, 65, 55, 50, 30]\n"
     ]
    }
   ],
   "source": [
    "#pop 사용법\n",
    "print(x)\n",
    "x.pop()#팝은 자료를 삭제하는 역할을 담당하며 기본적으로 맨 뒤의 자료를 삭제한다.\n",
    "print(x)\n",
    "x.pop(3)#특정 위치의 자료를 삭제할 수 있다. \n",
    "print(x)"
   ]
  },
  {
   "cell_type": "code",
   "execution_count": 55,
   "id": "ee1cf91a",
   "metadata": {},
   "outputs": [
    {
     "name": "stdout",
     "output_type": "stream",
     "text": [
      "[500, 90, 80, 65, 55, 50, 30]\n",
      "[500, 90, 80, 65, 55, 30]\n"
     ]
    }
   ],
   "source": [
    "#remove 사용법\n",
    "#remove는 직접 데이터를 사용한다. \n",
    "print(x)\n",
    "x.remove(50)#리스트 내부에 50이라는 숫자를 삭제한다. 특정 데이터를 삭제하는 것이다.\n",
    "print(x)\n",
    "#이후 다시 리무브를 하면 애러가 뜨게 된다. 50이 리스트 안에 없기 때문이다."
   ]
  },
  {
   "cell_type": "code",
   "execution_count": 58,
   "id": "9da8183e",
   "metadata": {},
   "outputs": [
    {
     "name": "stdout",
     "output_type": "stream",
     "text": [
      "[500, 90, 80, 65, 55, 30, 10, 5, 10, 5, 3, 1]\n",
      "[500, 90, 80, 65, 55, 30, 10, 5, 10, 5, 3, 1, 10, 5]\n",
      "[500, 90, 80, 65, 55, 30, 10, 5, 10, 5, 3, 1, 10, 5, 3, 1]\n"
     ]
    }
   ],
   "source": [
    "#리스트를 직접 더하는 방법\n",
    "print(x)\n",
    "#여기에 리스트를 더해본다면 다음과 같다.\n",
    "x.extend([10,5])\n",
    "print(x)\n",
    "x += [3,1]#이런 식으로 더하는 것이 가능하다. 리스트를 리스트끼리 더하는 것이다.\n",
    "print(x)"
   ]
  },
  {
   "cell_type": "code",
   "execution_count": 64,
   "id": "c40b94f6",
   "metadata": {},
   "outputs": [
    {
     "name": "stdout",
     "output_type": "stream",
     "text": [
      "[1, 2, 3, 4, 5]\n",
      "[5, 4, 3, 2, 1]\n",
      "[10, 20, 30, 40, 50]\n",
      "[50, 40, 20, 10, 30]\n",
      "[10, 20, 30, 40, 50]\n"
     ]
    }
   ],
   "source": [
    "#오름차순과 내림차순 정렬\n",
    "#sort는 오름차순으로 정렬하는 방법이다.\n",
    "a = [5,1,4,2,3]\n",
    "a.sort()#오름차순 정렬을 사용한다.\n",
    "print(a)\n",
    "a.sort(reverse = True)#내림차순으로 정렬하기 위해서는 다음과 같이 사용한다.\n",
    "print(a)\n",
    "#sorted함수도 존재한다. \n",
    "a2 = [50,40,20,10,30]\n",
    "print(sorted(a2))#괄호 안에 집어넣는 방식이다.\n",
    "print(a2)#재밌는 점은 sorted는 임시로 사용한다는 점이다. 결과는 저장이 되지 않는다. 원본을 손상시키기 않는다.\n",
    "a3 = sorted(a2)\n",
    "print(a3)#복사본을 따로 추출하여 프린트한 경우이다. a2 원본은 유지된 채로 복사본으로 결과가 출력되었다."
   ]
  },
  {
   "cell_type": "code",
   "execution_count": 66,
   "id": "0e967082",
   "metadata": {},
   "outputs": [
    {
     "name": "stdout",
     "output_type": "stream",
     "text": [
      "[500, 90, 80, 65, 55, 30, 10, 5, 10, 5, 3, 1, 10, 5, 3, 1]\n",
      "[]\n"
     ]
    }
   ],
   "source": [
    "print(x)\n",
    "x.clear()#del x[:]는 전부 삭제하는 명령어이다. 이것의 함수이다.\n",
    "print(x)#아무것도 없는 리스트 내부의 길이는 0이다."
   ]
  },
  {
   "cell_type": "code",
   "execution_count": 68,
   "id": "e3f2cb39",
   "metadata": {},
   "outputs": [
    {
     "name": "stdout",
     "output_type": "stream",
     "text": [
      "[10, 12, 14, 16, 18]\n",
      "[10, 12, 14, 16, 18]\n",
      "[10, 12, 20, 16, 18]\n"
     ]
    }
   ],
   "source": [
    "#얕은 복사\n",
    "#리스트를 사용하다보면 리스트를 복사해서 사용해야 하는 경우가 있고 리스트를 할당해서 사용해야 하는 경우가 있다. 엄밀히 다르다.\n",
    "a = list(range(10,20,2))\n",
    "print(a)\n",
    "b = a #a에 있는 값을 b로 출력을 한다. 출력은 동일할 것이다.\n",
    "print(b)\n",
    "b[2] = 20 #b의 중간값을 바꾸었다. \n",
    "print(b)\n",
    "print(a)#문제는 a의 값도 바뀌었다. b의 값만 바꾸었지만 a도 바꾼 것이다. \n",
    "#즉 b = a 는 대입의 의미 뿐만 아니라 \"공유\"하는 의미도 포함한다. 즉 리스트가 서로 공유되기 때문에 같이 바뀌어버리는 것이다.\n",
    "#이것을 얕은 복사라고 한다. "
   ]
  },
  {
   "cell_type": "code",
   "execution_count": 70,
   "id": "a47c86b9",
   "metadata": {},
   "outputs": [
    {
     "name": "stdout",
     "output_type": "stream",
     "text": [
      "[10, 12, 14, 16, 18]\n",
      "[10, 12, 14, 16, 18]\n",
      "[10, 12, 1, 16, 18]\n",
      "[10, 12, 14, 16, 18]\n"
     ]
    }
   ],
   "source": [
    "#깊은 복사\n",
    "#깊은 복사는 a 와b를 분리하는 것이다.\n",
    "a2 = list(range(10,20,2))\n",
    "print(a2)\n",
    "b2 = a2.copy()\n",
    "print(b2)\n",
    "b2[2] = 1\n",
    "print(b2)\n",
    "print(a2) # a2가 b2의 값에 따라 바뀌지 않았다."
   ]
  },
  {
   "cell_type": "code",
   "execution_count": 73,
   "id": "6111af2f",
   "metadata": {},
   "outputs": [
    {
     "name": "stdout",
     "output_type": "stream",
     "text": [
      "True\n",
      "False\n",
      "[10, 12, 14, 16, 18]\n",
      "[10, 12, 14, 16, 18]\n",
      "False\n"
     ]
    }
   ],
   "source": [
    "# is 사용법\n",
    "print(a is b) #a와 b는 같은 값을 \"공유\"하고 있다. \n",
    "print(a2 is b2) #a2 와b2는 서로 \"공유\"되지 않는다.\n",
    "b2[2] = 14\n",
    "print(a2)\n",
    "print(b2)\n",
    "print(a2 is b2) # 설령 내부의 값이 같아도 독립적인 리스트이기 때문에 둘은 같지 않다고 나온다."
   ]
  },
  {
   "cell_type": "code",
   "execution_count": 76,
   "id": "0dd304b9",
   "metadata": {},
   "outputs": [
    {
     "name": "stdout",
     "output_type": "stream",
     "text": [
      "<class 'tuple'>\n",
      "<class 'int'>\n",
      "<class 'tuple'>\n",
      "(0, 1, 2, 3, 4)\n",
      "[0, 1, 2, 3, 4]\n",
      "1\n"
     ]
    }
   ],
   "source": [
    "# 튜플\n",
    "# 데이터를 모델링하다보면 튜플이 출력이 되는 경우가 종종 존재한다.\n",
    "# 리스트와 유사하게 1차원 구조로 저장이 되어진다. 하지만 튜플 내부의 자료는 데이터를 변경, 추가, 삭제를 할 수 없다. 읽기만 가능하다.\n",
    "# 리스트는 대괄호[] 튜플은 소괄호로 표현한다.\n",
    "a2 =(\"kim\", 10,20) # 튜플도 리스트처럼 문자와 숫자를 혼용하여 저장이 가능하다.\n",
    "a3 = (10) # 이런 경우는 괄호로 묶었지만 튜플이 아니다. 그냥 a3에 10을 대입하는 것이다.\n",
    "a4 = (10,) # 이것은 튜플이다. 콤마가 들어가게 되어서 튜플이 성립한다. \n",
    "print(type(a2))\n",
    "print(type(a3))\n",
    "print(type(a4))\n",
    "# 튜플은 내부 데이터의 변화가 불가하다. 즉 del a2[1]을 입력하면 애러가 발생한다. 삭제, 할당, 추가 다 불가하다.\n",
    "# 튜플은 그래서 많이 쓰지 않는다. 대신 원본훼손이 없어야 하는 경우 원본을 튜플로 하는 경우가 있다. 사용빈도는 낮다.\n",
    "# 튜플끼리 더하면 튜플이 합쳐지고 튜플을 곱하면 곱한만큼 길이가 증가한다.\n",
    "t = tuple(range(5))\n",
    "print(t) # 튜플로 생성한 레인지 5\n",
    "tl = list(t)\n",
    "print(tl) # 튜플은 리스트로 손쉽게 바꿀 수 있다.\n",
    "x , y , z = 1 , 2, 3 # 이러한 형태로 여러 개의 변수를 지정할 수 있다. 리스트, 튜플로 만드는 것도 가능하다.\n",
    "x = [1,2,3]\n",
    "x1 , x2 , x3 = x\n",
    "print(x1) # 여러개의 변수를 실행하는 것은 이런 식으로 가능하다."
   ]
  },
  {
   "cell_type": "code",
   "execution_count": 78,
   "id": "1669df45",
   "metadata": {},
   "outputs": [
    {
     "name": "stdout",
     "output_type": "stream",
     "text": [
      "10 20\n"
     ]
    },
    {
     "data": {
      "text/plain": [
       "'10 20'"
      ]
     },
     "execution_count": 78,
     "metadata": {},
     "output_type": "execute_result"
    }
   ],
   "source": [
    "# 인풋박스\n",
    "# 인풋값은 자료를 입력할 때 사용한다. 입력한 순서대로 변수에 저장이 되어진다.\n",
    "input() \n",
    "# 코딩계에서는 많이 쓰이지만 현 교육에서는 생각보다 많이 쓰이지 않을 것이다."
   ]
  },
  {
   "cell_type": "code",
   "execution_count": 82,
   "id": "b992ad3a",
   "metadata": {},
   "outputs": [
    {
     "name": "stdout",
     "output_type": "stream",
     "text": [
      "10 20\n",
      "10\n",
      "20\n"
     ]
    }
   ],
   "source": [
    "# 인풋박스 어나더\n",
    "a1, a2 = input().split()\n",
    "print(a1)\n",
    "print(a2)"
   ]
  },
  {
   "cell_type": "code",
   "execution_count": 84,
   "id": "cd13c883",
   "metadata": {},
   "outputs": [
    {
     "name": "stdout",
     "output_type": "stream",
     "text": [
      "11\n"
     ]
    }
   ],
   "source": [
    "# 문자 데이터와 숫자 데이터\n",
    "# 인풋값은 문자로 기록이 되어있다. 더하기 작업은 숫자, 문자와 같이 아예 다른 것과 더하면 애러가 발생한다. \n",
    "# print(a1 + 1)는 수행할 수 없다. 그렇기에 a1을 int형으로 바꿔야 한다.\n",
    "print(int(a1)+ 1) #즉 숫자로 변환해야 숫자끼리 더한 것으로 인정된다."
   ]
  },
  {
   "cell_type": "code",
   "execution_count": 119,
   "id": "f1a0cdc6",
   "metadata": {},
   "outputs": [
    {
     "name": "stdout",
     "output_type": "stream",
     "text": [
      "True\n",
      "True\n",
      "True\n",
      "True\n",
      "True\n"
     ]
    }
   ],
   "source": [
    "# in 함수\n",
    "list1 = [10, 20, 30] # 리스트에 저장된 데이터 중에서 특정 데이터가 있는지 없는지 알고싶은 경우가 있는데 이럴때 in이라는 함수를 사용한다.\n",
    "print(10 in list1) # 10 이라는 숫자가 리스트 안에 있습니까? 라고 묻는 것과 같다.\n",
    "print(100 not in list1)# 100 이라는 숫자가 리스트 안에 없습니까? 라고 묻는 것이다.\n",
    "tlist1 = tuple(list1)\n",
    "print(10 in tlist1)# 튜플도 가능하다. \n",
    "print(10 in range(10,40,10))#레인지도 가능하다.\n",
    "print(\"h\" in \"hi hello\")#문자찾기도 가능하다.\n",
    "# 생각보다 자주 쓰인다. 기억해두자."
   ]
  },
  {
   "cell_type": "code",
   "execution_count": 125,
   "id": "db92a4d8",
   "metadata": {},
   "outputs": [
    {
     "ename": "TypeError",
     "evalue": "'list' object is not callable",
     "output_type": "error",
     "traceback": [
      "\u001b[1;31m---------------------------------------------------------------------------\u001b[0m",
      "\u001b[1;31mTypeError\u001b[0m                                 Traceback (most recent call last)",
      "Cell \u001b[1;32mIn[125], line 3\u001b[0m\n\u001b[0;32m      1\u001b[0m \u001b[38;5;66;03m# range(0,5) + range(5,10)는 오류가 발생한다. 연결을 하기 위해서는 다음과 같이 바꿔야 한다.\u001b[39;00m\n\u001b[0;32m      2\u001b[0m a \u001b[38;5;241m=\u001b[39m []\n\u001b[1;32m----> 3\u001b[0m a \u001b[38;5;241m=\u001b[39m \u001b[38;5;28mlist\u001b[39m(\u001b[38;5;28mrange\u001b[39m(\u001b[38;5;241m0\u001b[39m,\u001b[38;5;241m5\u001b[39m)) \u001b[38;5;241m+\u001b[39m \u001b[38;5;28mlist\u001b[39m(\u001b[38;5;28mrange\u001b[39m(\u001b[38;5;241m5\u001b[39m,\u001b[38;5;241m10\u001b[39m))\n\u001b[0;32m      4\u001b[0m \u001b[38;5;28mprint\u001b[39m(a)\n",
      "\u001b[1;31mTypeError\u001b[0m: 'list' object is not callable"
     ]
    }
   ],
   "source": [
    "# range(0,5) + range(5,10)는 오류가 발생한다. 연결을 하기 위해서는 다음과 같이 바꿔야 한다.\n",
    "a = []\n",
    "a = list(range(0,5)) + list(range(5,10))\n",
    "print(a) # 다른 파일에서 작동은 이상없음."
   ]
  },
  {
   "cell_type": "code",
   "execution_count": 114,
   "id": "79c9e658",
   "metadata": {},
   "outputs": [
    {
     "name": "stdout",
     "output_type": "stream",
     "text": [
      "hihello\n",
      "hi1\n",
      "5\n",
      "5\n",
      "15\n"
     ]
    }
   ],
   "source": [
    "# 기타\n",
    "print(\"hi\"+\"hello\") # 문자끼리 결합한 것이다.\n",
    "print(\"hi\"+ str(1)) # 숫자가 아닌 문자로 바꾼 1을 더하는 것이다.\n",
    "print(len(\"안녕하세요\")) # 한글과 한자같은 아시아권의 문자들은 유니코드 인코딩을 한다. 유니코드는 3바이트를 잡아먹는다. \n",
    "# 만일 더 적은 용량을 사용하고 싶으면 아스키 코드 등 적은 용량의 코드를 사용하는 것이 좋다.\n",
    "print(len(\"hello\".encode('utf-8'))) # 길이가 5를 차지한다.\n",
    "print(len(\"안녕하세요\".encode('utf-8')))# 길이가 15를 차지한다."
   ]
  },
  {
   "cell_type": "code",
   "execution_count": 126,
   "id": "8c0612e2",
   "metadata": {},
   "outputs": [
    {
     "name": "stdout",
     "output_type": "stream",
     "text": [
      "range(1, 10, 2)\n"
     ]
    }
   ],
   "source": [
    "# 슬라이싱이란?\n",
    "# 데이터가 주어질 때 원하는 데이터만 얻어내는 방법 중 하나.\n",
    "print(tuplerange(1,10,2))"
   ]
  },
  {
   "cell_type": "code",
   "execution_count": null,
   "id": "083004ac",
   "metadata": {},
   "outputs": [],
   "source": []
  }
 ],
 "metadata": {
  "kernelspec": {
   "display_name": "Python 3 (ipykernel)",
   "language": "python",
   "name": "python3"
  },
  "language_info": {
   "codemirror_mode": {
    "name": "ipython",
    "version": 3
   },
   "file_extension": ".py",
   "mimetype": "text/x-python",
   "name": "python",
   "nbconvert_exporter": "python",
   "pygments_lexer": "ipython3",
   "version": "3.11.5"
  }
 },
 "nbformat": 4,
 "nbformat_minor": 5
}
