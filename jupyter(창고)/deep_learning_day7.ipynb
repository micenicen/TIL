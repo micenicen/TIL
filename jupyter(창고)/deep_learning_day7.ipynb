{
 "cells": [
  {
   "cell_type": "code",
   "execution_count": 1,
   "id": "52a6438c",
   "metadata": {},
   "outputs": [],
   "source": [
    "# 순환신경망 \n",
    "# 각각의 단어를 원 핫 인코딩을 한다면 메모리 문제가 생길 수 있다. \n",
    "# 그래서 이것을 저차원으로 임베딩을 했었다. \n",
    "# 실제값과 예측값이 다르면 백프라퍼게이션으로 업데이트를 일괄적으로 진행했다.\n",
    "# http://www.gutenberg.org/\n",
    "# 영어원서들을 저작권 걱정 없이 사용하는 사이트이다. 영어 임베딩할때 참고해보자."
   ]
  },
  {
   "cell_type": "code",
   "execution_count": 2,
   "id": "0c80185b",
   "metadata": {},
   "outputs": [],
   "source": [
    "# 워드 임베딩\n",
    "# 단어표현에는 희소표현과 밀집표현이 존재한다.\n",
    "# 희소표현은 어제 했던것과 같다. \n",
    "# 단어의 종류가 1만개가 있으면 1만차원의 벡터공간을 만들어서 강아지 위치에만 1을 쓰는 식이다.\n",
    "# 어제 했던 내용으로 공간낭비가 매우 심한 것이 특징이다.\n",
    "# 그래서 차원을 줄이는 작업이 필요하다. \n",
    "# 밀집표현\n",
    "# 단어를 밀집형태로 표현하는 방법을 워드 임베딩이라고 한다. \n",
    "# 이 밀집 임베딩 과정을 통해 나온 결과는 임베딩 벡터라고 한다.\n",
    "# 원핫벡터는 1과 0으로 표현한다. 하지만 임베딩 벡터는 실수 기반으로 사용한다."
   ]
  },
  {
   "cell_type": "code",
   "execution_count": 3,
   "id": "d4cef040",
   "metadata": {},
   "outputs": [],
   "source": [
    "# 워드 투 벡터(Word2Vec)\n",
    "# 워드 투 벡터는 많이 일반화가 되어있는 상태이다. 꽤 많이 사용된다. \n",
    "# 자연어가 발전이 더뎠다. 단어를 단순히 숫자로 표현하고 원핫인코딩 하는 정도로 표현했다.\n",
    "# 주어진 단어에 대한 의미를 해석하는데 한계가 있었다. 단순히 순서대로만 말할 수 밖에 없었다.\n",
    "# 단어는 전부 독립적이었다. 서로 관련이 없는 것이나 다름 없었다. \n",
    "# 텍스트가 담고있는 문맥을 파악하는 딥러닝이 필요로 했다. 핵심은 단어의 유사도를 파악하는 것이었다. \n",
    "# 단어의 의미를 아는 것이 아닌 단어 간의 유사한 정도를 파악하는 것이었다.\n",
    "# 워트 투 벡터는 단어의 의미를 표현할 수는 없어도 단어간의 유사한 정도만 나타낼 수 있다. \n",
    "# 벡터 공간에 단어들을 표현하게 된다면 단어간의 벡터 연산을 통해서 추론까지 가능하게 할 수 있다.\n",
    "# http://w.elnn.kr/search/\n",
    "# 이 사이트에서 워드 투 벡터를 볼 수 있다. \n",
    "# 덧셈, 뻴셈을 통해 벡터를 찾는 것이다.\n",
    "# 임베딩된 벡터 공간에 유사한 단어들이 모여있는 경향이 많이 있다. \n",
    "# 유사한 단어들이 가까이 있는 것을 바탕으로 관련성이 깊은 단어들을 찾아내는 것이다. \n"
   ]
  },
  {
   "cell_type": "code",
   "execution_count": 4,
   "id": "b5c535bb",
   "metadata": {},
   "outputs": [],
   "source": [
    "# 벡터의 연산\n",
    "# https://ballpen.blog/%EB%B2%A1%ED%84%B0%EC%9D%98-%EB%BA%84%EC%85%88-%EB%B2%A1%ED%84%B0%EC%9D%98-%EB%B3%80%ED%99%94%EB%9F%89/\n",
    "# 벡터연산에 대한 정리를 잘 한 블로그이다. \n",
    "# 벡터의 덧셈은 간단하다. 그냥 평행사변형이 된다. \n",
    "# 벡터의 뻴셈은 좀 더 어렵다.\n",
    "# 뺄 벡터를 반대로 180도 돌려버린 다음 덧셈처럼 연결하는 것이다. "
   ]
  },
  {
   "cell_type": "code",
   "execution_count": 5,
   "id": "eb8c2be8",
   "metadata": {},
   "outputs": [],
   "source": [
    "# CBOW\n",
    "# 워드 투 벡터를 만드는 것은 두 가지 방법이 있다. 그 중 하나가 CBOW이다.\n",
    "# 중심에 있는 단어를 예측하는 기법이다. \n",
    "# 윈도우의 크기를 n으로 기준하면 타겟 단어 옆으로 n개만큼 확인한다.\n",
    "# 윈도우의 크기가 상당히 중요한데 중심단어를 기준으로 주변단어들을 확인하는 갯수가 달라진다.\n",
    "# 슬라이딩 윈도우 기법을 통해서 순서대로 움직이면서 주변단어를 확인하는 식이다. \n",
    "# 그 주변의 단어들을 원핫 벡터로 정제해서 훈련을 한다. \n",
    "# 여기서 입력층을 주변 단어를 입력하고 가운데를 출력하는 방식이 있고\n",
    "# 입력층 중앙의 단어를 주고 주변 단어를 출력하게 하는 방식이 존재한다.\n",
    "# 여기서 히든계층은 투사층(projection layer)이라고 부른다. \n",
    "# 워드 투 벡터는 은닉층이 1개인 얕은 신경망이 바탕이다. \n",
    "# 참조(Look-up) 테이블 연산을 담당하는 층으로 투사층이라고 부른다. \n",
    "# 투사층 크기가 중요하다. 투사층의 크기만큼 임베딩 벡터의 크기가 결정된다. \n",
    "# V는 단어벡터의 크기이다. M은 임베딩하고자 하는 임베딩 차원이다. \n",
    "# 가중치 행렬은 VxM으로 정의할 수 있다. \n",
    "# 여기서 M의 숫자는 임의로 정해지는 수이다. 임베딩 벡터의 차원이다. \n",
    "# 즉 M은 단어를 나타내는 차원의 수이다. \n",
    "# 기존 신경망과 차이는 히든레이어를 빼버리고 투사층만 사용한 것이다. \n",
    "# 즉 투사층이 북치고 장구치고 다 하는 것이다. \n",
    "# M 안에는 글자들이 벡터형식으로 표시되어 있다.\n",
    "# 예를 들면 지구는 [1,3], 우주는 [1,1], 멸치는 [12,5], 바다는 [5,4] 이런식으로 배치되는 식이다. \n",
    "# 가까이 배치된 단어가 연관성이 높다고 판단하는 식이다. \n",
    "# 최근접 이웃 참조랑 비슷하다. "
   ]
  },
  {
   "cell_type": "code",
   "execution_count": 6,
   "id": "258dda55",
   "metadata": {},
   "outputs": [],
   "source": [
    "# 워드 투 벡터의 한계\n",
    "# 워드 투 벡터는 단어의 위치를 파악하는데 도움이 된다. \n",
    "# 하지만 워드 투 벡터는 단어의 뜻을 파악하는 것는 불가하다. \n",
    "# 연관성이 있는 단어를 찾을 수 있지만 그 단어의 의미를 담지 못한다.\n",
    "# 이번 것은 코랩에서 진행할 것이다. "
   ]
  },
  {
   "cell_type": "code",
   "execution_count": 1,
   "id": "e6799d46",
   "metadata": {},
   "outputs": [],
   "source": [
    "import re                                                # 정규표현식 \n",
    "import urllib.request                                    # 웹 접속하여 리소스 가져오기\n",
    "import zipfile                                           # 압축파일 해제 모듈\n",
    "from lxml import etree                                   # lxml 분석기\n",
    "from nltk.tokenize import word_tokenize, sent_tokenize   # 단어토큰화 작업용"
   ]
  },
  {
   "cell_type": "code",
   "execution_count": 8,
   "id": "bcea482a",
   "metadata": {},
   "outputs": [
    {
     "data": {
      "text/plain": [
       "('ted_en-20160408.xml', <http.client.HTTPMessage at 0x1fb4a75add0>)"
      ]
     },
     "execution_count": 8,
     "metadata": {},
     "output_type": "execute_result"
    }
   ],
   "source": [
    "urllib.request.urlretrieve(\"https://raw.githubusercontent.com/ukairia777/tensorflow-nlp-tutorial/main/09.%20Word%20Embedding/dataset/ted_en-20160408.xml\", filename=\"ted_en-20160408.xml\")\n",
    "# 테드 연사 다운로드. 사이즈가 꽤 크다. \n",
    "# 전처리하는 와중에 버려야 할 파일들이 많다. 의미없는 자료가 많이 있다. \n",
    "# 콘텐츠(content)를 가져와서 word2vector로 만들려고 한다. \n",
    "# 만약 만들게 되면 단어를 입력하면 다음 단어를 출력하게 된다. \n",
    "# 이 데이터를 가지고 전처리작업부터 시작하여 모델링하는 과정을 진행할 것이다. \n",
    "# 먼저 파일을 읽어들이는 작업을 해보자. "
   ]
  },
  {
   "cell_type": "code",
   "execution_count": 2,
   "id": "eb922633",
   "metadata": {},
   "outputs": [
    {
     "data": {
      "text/plain": [
       "<_io.TextIOWrapper name='ted_en-20160408.xml' mode='r' encoding='utf-8'>"
      ]
     },
     "execution_count": 2,
     "metadata": {},
     "output_type": "execute_result"
    }
   ],
   "source": [
    "targetXML =open('ted_en-20160408.xml', 'r', encoding= 'utf-8')     # 파일을 불러왔다. 만약에 불러와지지 않으면 인코딩 방식을 변경한다. \n",
    "targetXML                                   \n",
    "# 이 데이터를 이용하여 구문분석을 해야한다. etree는 xml파일을 분석할 수 있는 모듈이다. "
   ]
  },
  {
   "cell_type": "code",
   "execution_count": 3,
   "id": "ef14b276",
   "metadata": {},
   "outputs": [],
   "source": [
    "target_text = etree.parse(targetXML)\n",
    "# 우리가 찾는 부분은 <content>본문</content>\n",
    "# 이런식으로 찾을 수 있다. "
   ]
  },
  {
   "cell_type": "code",
   "execution_count": 4,
   "id": "d15796bd",
   "metadata": {},
   "outputs": [],
   "source": [
    "parse_text = '\\n'.join(target_text.xpath(\"//content/text()\"))# 콘텐츠 태그로 묶인 것들d이 전부 나온다. \n",
    "# 줄바꿈을 해서 텍스트를 정렬하였다. 그리고 (AUDIO)같이 괄호로 묶여있는 경우가 있다. \n",
    "# 이러한 것들을 제거해야 한다. "
   ]
  },
  {
   "cell_type": "code",
   "execution_count": 5,
   "id": "d6e9a338",
   "metadata": {},
   "outputs": [],
   "source": [
    "content_text = re.sub(r'\\([^)]*\\)', '', parse_text)  # 대괄호 안의 문자 빼고 전부 다 어떤 문자든 와도 된다는 뜻이다. \n",
    "# 괄호로 묶여있으면 모두 제거하라는 뜻이다. \n",
    "# "
   ]
  },
  {
   "cell_type": "code",
   "execution_count": 6,
   "id": "fec4792a",
   "metadata": {},
   "outputs": [],
   "source": [
    "sent_text = sent_tokenize(content_text)"
   ]
  },
  {
   "cell_type": "code",
   "execution_count": 7,
   "id": "78248fba",
   "metadata": {},
   "outputs": [],
   "source": [
    "normalized_text = []\n",
    "for string in sent_text:\n",
    "     tokens = re.sub(r\"[^a-z0-9]+\", \" \", string.lower()) # 소문자로 전부 바꾼다. 이후 소문자와 숫자 모두를 제외한 나머지를 제거한다.  \n",
    "     normalized_text.append(tokens)"
   ]
  },
  {
   "cell_type": "code",
   "execution_count": 8,
   "id": "b5650611",
   "metadata": {},
   "outputs": [],
   "source": [
    "result = [word_tokenize(sentence) for sentence in normalized_text] #"
   ]
  },
  {
   "cell_type": "code",
   "execution_count": 10,
   "id": "34e2cfdf",
   "metadata": {},
   "outputs": [
    {
     "data": {
      "text/plain": [
       "273424"
      ]
     },
     "execution_count": 10,
     "metadata": {},
     "output_type": "execute_result"
    }
   ],
   "source": [
    "len(result) # 문장은 273424개가 있다. "
   ]
  },
  {
   "cell_type": "code",
   "execution_count": 9,
   "id": "e0eff880",
   "metadata": {},
   "outputs": [
    {
     "data": {
      "text/plain": [
       "54775"
      ]
     },
     "execution_count": 9,
     "metadata": {},
     "output_type": "execute_result"
    }
   ],
   "source": [
    "len(set([word for sentence in result for word in sentence])) # 사실 이게 정답이다. \n",
    "# 나는 유일한 1개만 찾으려고 했다.그냥 유니크랑 다를 바 없었다. \n",
    "# 중복을 제외한 유일한 단어의 갯수였다. \n",
    "# 차원의 갯수를 줄이는 것이 이번의 핵심이었다. "
   ]
  },
  {
   "cell_type": "code",
   "execution_count": 10,
   "id": "99465eae",
   "metadata": {},
   "outputs": [],
   "source": [
    "from gensim.models import Word2Vec        # 워드 투 벡터는 젠심에 들어있는 모델이다. \n",
    "from gensim.models import KeyedVectors    # "
   ]
  },
  {
   "cell_type": "code",
   "execution_count": 12,
   "id": "286d19d0",
   "metadata": {},
   "outputs": [],
   "source": [
    "model = Word2Vec(sentences=result,vector_size=100,window=5,min_count=5, sg=0,workers=4) # 모델 제작 \n",
    "# 학습에 사용되는 문장, 워드 임베딩 벡터의 크기/차원 수 지정, 윈도우 크기 지정, \n",
    "# 최소 빈도수를 가진 단어, sg=0은 CBOW 모델/ sg=1은 Skip-gram 모델, 병렬 처리 작업 CPU 수(-1은 전체)\n",
    "# https://pypi.org/project/gensim/ 이 사이트에서 정보들이 있다. \n",
    "# 물론 지금은 이것보다 더 좋은 것들이 많다. 이것이 기본이 된 알고리즘이다. \n",
    "# 현재의 모델을 저장하고 싶다. "
   ]
  },
  {
   "cell_type": "code",
   "execution_count": 14,
   "id": "e865bb20",
   "metadata": {},
   "outputs": [
    {
     "data": {
      "text/plain": [
       "[('card', 0.7454236745834351),\n",
       " ('phones', 0.6911575198173523),\n",
       " ('facebook', 0.6784269213676453),\n",
       " ('smartphone', 0.650154173374176),\n",
       " ('license', 0.6384608745574951),\n",
       " ('glasses', 0.6346081495285034),\n",
       " ('camera', 0.6292386651039124),\n",
       " ('car', 0.6266731023788452),\n",
       " ('telephone', 0.6264563202857971),\n",
       " ('mobile', 0.6128072738647461)]"
      ]
     },
     "execution_count": 14,
     "metadata": {},
     "output_type": "execute_result"
    }
   ],
   "source": [
    "model.wv.most_similar('phone')"
   ]
  },
  {
   "cell_type": "code",
   "execution_count": 15,
   "id": "62f44cf7",
   "metadata": {},
   "outputs": [],
   "source": [
    "model.wv.save_word2vec_format('eng_w2v')    # 현재의 모델 저장하기"
   ]
  },
  {
   "cell_type": "code",
   "execution_count": 18,
   "id": "56070791",
   "metadata": {},
   "outputs": [],
   "source": [
    "loaded_model = KeyedVectors.load_word2vec_format('eng_w2v')# 모델 불러오기"
   ]
  },
  {
   "cell_type": "code",
   "execution_count": 19,
   "id": "c0178c86",
   "metadata": {},
   "outputs": [
    {
     "data": {
      "text/plain": [
       "[('attention', 0.6342179179191589),\n",
       " ('cash', 0.6150590181350708),\n",
       " ('credit', 0.5785629749298096),\n",
       " ('revenue', 0.570227861404419),\n",
       " ('food', 0.5678467154502869),\n",
       " ('funding', 0.55295729637146),\n",
       " ('effort', 0.547121524810791),\n",
       " ('resources', 0.5459961295127869),\n",
       " ('electricity', 0.5449052453041077),\n",
       " ('budget', 0.5413394570350647)]"
      ]
     },
     "execution_count": 19,
     "metadata": {},
     "output_type": "execute_result"
    }
   ],
   "source": [
    "loaded_model.most_similar('money')"
   ]
  },
  {
   "cell_type": "code",
   "execution_count": 20,
   "id": "7660bc19",
   "metadata": {},
   "outputs": [],
   "source": [
    "# 모델 업데이트 방법\n",
    "# 1. 파이프라인 : 데이터 수집, 정제, 전처리, 모델링을 자동화하는 과정이다. \n",
    "# 이것을 자동화, 주기적으로 하는 방법이 있다. \n",
    "# 2. 파인튜닝 : 추가학습모델\n",
    "# 퍼러미터를 미세하게 조정하는 과정이다. "
   ]
  },
  {
   "cell_type": "code",
   "execution_count": 21,
   "id": "16ccf882",
   "metadata": {},
   "outputs": [],
   "source": [
    "import pandas as pd\n",
    "import matplotlib.pyplot as plt\n",
    "import urllib.request\n",
    "from gensim.models.word2vec import Word2Vec\n",
    "from konlpy.tag import Okt"
   ]
  },
  {
   "cell_type": "code",
   "execution_count": 22,
   "id": "e8af6f68",
   "metadata": {},
   "outputs": [
    {
     "data": {
      "text/plain": [
       "('ratings.txt', <http.client.HTTPMessage at 0x1639d69b690>)"
      ]
     },
     "execution_count": 22,
     "metadata": {},
     "output_type": "execute_result"
    }
   ],
   "source": [
    "urllib.request.urlretrieve(\"https://raw.githubusercontent.com/e9t/nsmc/master/ratings.txt\", filename=\"ratings.txt\")\n"
   ]
  },
  {
   "cell_type": "code",
   "execution_count": 23,
   "id": "28139114",
   "metadata": {},
   "outputs": [],
   "source": [
    "train_data = pd.read_table('ratings.txt')"
   ]
  },
  {
   "cell_type": "code",
   "execution_count": 24,
   "id": "ff3652ab",
   "metadata": {},
   "outputs": [],
   "source": [
    "train_data = train_data.dropna(how = 'any') # "
   ]
  },
  {
   "cell_type": "code",
   "execution_count": 25,
   "id": "8da64ed5",
   "metadata": {},
   "outputs": [
    {
     "name": "stdout",
     "output_type": "stream",
     "text": [
      "199992\n"
     ]
    }
   ],
   "source": [
    "print(len(train_data))"
   ]
  },
  {
   "cell_type": "code",
   "execution_count": 26,
   "id": "b4aeea65",
   "metadata": {},
   "outputs": [],
   "source": [
    "train_data['document'] = train_data['document'].str.replace(\"[^ㄱ-ㅎㅏ-ㅣ가-힣 ]\",\"\")"
   ]
  },
  {
   "cell_type": "code",
   "execution_count": 27,
   "id": "9d22af64",
   "metadata": {},
   "outputs": [],
   "source": [
    "# 불용어 정의\n",
    "stopwords = ['의','가','이','은','들','는','좀','잘','걍','과','도','를','으로','자','에','와','한','하다']\n",
    "\n",
    "# 형태소 분석기 OKT를 사용한 토큰화 작업 (다소 시간 소요)\n",
    "okt = Okt()"
   ]
  },
  {
   "cell_type": "code",
   "execution_count": 30,
   "id": "ec92b797",
   "metadata": {},
   "outputs": [
    {
     "data": {
      "text/plain": [
       "'어릴때보고 지금다시봐도 재밌어요ㅋㅋ'"
      ]
     },
     "execution_count": 30,
     "metadata": {},
     "output_type": "execute_result"
    }
   ],
   "source": [
    "train_data['document'][0]"
   ]
  },
  {
   "cell_type": "code",
   "execution_count": 31,
   "id": "64dccfbb",
   "metadata": {},
   "outputs": [
    {
     "data": {
      "text/plain": [
       "['어릴', '때', '보고', '지금', '다시', '봐도', '재밌어요', 'ㅋㅋ']"
      ]
     },
     "execution_count": 31,
     "metadata": {},
     "output_type": "execute_result"
    }
   ],
   "source": [
    "okt.morphs(train_data['document'][0])"
   ]
  },
  {
   "cell_type": "code",
   "execution_count": 32,
   "id": "5eeb54ea",
   "metadata": {},
   "outputs": [
    {
     "data": {
      "text/plain": [
       "['어리다', '때', '보고', '지금', '다시', '보다', '재밌다', 'ㅋㅋ']"
      ]
     },
     "execution_count": 32,
     "metadata": {},
     "output_type": "execute_result"
    }
   ],
   "source": [
    "okt.morphs(train_data['document'][0],stem = True)"
   ]
  },
  {
   "cell_type": "code",
   "execution_count": 33,
   "id": "938b3885",
   "metadata": {},
   "outputs": [
    {
     "name": "stdout",
     "output_type": "stream",
     "text": [
      "Requirement already satisfied: tqdm in c:\\users\\user\\anaconda3\\lib\\site-packages (4.65.0)\n",
      "Requirement already satisfied: colorama in c:\\users\\user\\anaconda3\\lib\\site-packages (from tqdm) (0.4.6)\n",
      "Note: you may need to restart the kernel to use updated packages.\n"
     ]
    }
   ],
   "source": [
    "pip install tqdm              # tqdm을 사용해보자. "
   ]
  },
  {
   "cell_type": "code",
   "execution_count": 36,
   "id": "741f6d62",
   "metadata": {},
   "outputs": [],
   "source": [
    "from tqdm import tqdm"
   ]
  },
  {
   "cell_type": "code",
   "execution_count": null,
   "id": "15ba57f0",
   "metadata": {},
   "outputs": [],
   "source": [
    "# 토큰화 작업을 해야한다. "
   ]
  },
  {
   "cell_type": "code",
   "execution_count": 37,
   "id": "a191383b",
   "metadata": {},
   "outputs": [
    {
     "name": "stderr",
     "output_type": "stream",
     "text": [
      "100%|█████████████████████████████████████████████████████████████████████████| 199992/199992 [14:53<00:00, 223.78it/s]\n"
     ]
    }
   ],
   "source": [
    "tokenized_data = []\n",
    "for sentence in tqdm(train_data['document']):                             # tqdm을 데이터로 입력하여 1개씩 반복한다. \n",
    "    tokenized_sentence = okt.morphs(sentence, stem=True)                  # 토큰화. 스템은 True다. \n",
    "    stopwords_removed_sentence = [word for word in tokenized_sentence if not word in stopwords] # 불용어 제거부. \n",
    "    tokenized_data.append(stopwords_removed_sentence)                     # 이중 리스트로 저장하기 "
   ]
  },
  {
   "cell_type": "code",
   "execution_count": 38,
   "id": "3605923b",
   "metadata": {},
   "outputs": [],
   "source": [
    "# 단어 차원을 몇 차원으로 할 것인가를 고민해야 한다. 디폴트는 100차원이다. \n",
    "from gensim.models import Word2Vec\n",
    "\n",
    "model = Word2Vec(sentences = tokenized_data, vector_size = 100,        # 100 벡터사이즈이다. 100개의 차원으로 단어를 나타낸다. \n",
    "                 window = 5, min_count = 5, workers = 4, sg = 0)       # 윈도우 5, 최소카운트5, 작업4,  CBOW모델 사용      "
   ]
  },
  {
   "cell_type": "code",
   "execution_count": 39,
   "id": "b81259a0",
   "metadata": {},
   "outputs": [
    {
     "data": {
      "text/plain": [
       "(17615, 100)"
      ]
     },
     "execution_count": 39,
     "metadata": {},
     "output_type": "execute_result"
    }
   ],
   "source": [
    "model.wv.vectors.shape"
   ]
  },
  {
   "cell_type": "code",
   "execution_count": 40,
   "id": "0f5894d2",
   "metadata": {},
   "outputs": [
    {
     "name": "stdout",
     "output_type": "stream",
     "text": [
      "[('삼류', 0.6199633479118347), ('졸작', 0.5910975933074951), ('OO', 0.538964033126831), ('OOOO', 0.5131309628486633), ('똥', 0.5012091398239136), ('OOO', 0.4945148527622223), ('망하다', 0.4811770021915436), ('병맛', 0.4811655580997467), ('ㅄ', 0.47963789105415344), ('빨갱이', 0.474771648645401)]\n"
     ]
    }
   ],
   "source": [
    "print(model.wv.most_similar(\"쓰레기\"))  # 꽤 많이 쓰인 모양이다. "
   ]
  },
  {
   "cell_type": "code",
   "execution_count": 41,
   "id": "0d0146d6",
   "metadata": {},
   "outputs": [
    {
     "name": "stdout",
     "output_type": "stream",
     "text": [
      "[('콩가루', 0.7485252022743225), ('질의', 0.7484718561172485), ('지리하다', 0.7460928559303284), ('꾼', 0.7402157783508301), ('추잡하다', 0.7307684421539307), ('필연', 0.7193666696548462), ('설움', 0.7178344130516052), ('리즘', 0.7175979018211365), ('싸이코', 0.7155318856239319), ('비화', 0.7102872729301453)]\n"
     ]
    }
   ],
   "source": [
    "print(model.wv.most_similar(\"사이코\")) # 꽤 많이 쓰인 모양이다. "
   ]
  },
  {
   "cell_type": "code",
   "execution_count": 42,
   "id": "4bfcd7cf",
   "metadata": {},
   "outputs": [
    {
     "ename": "KeyError",
     "evalue": "\"Key '초승달' not present in vocabulary\"",
     "output_type": "error",
     "traceback": [
      "\u001b[1;31m---------------------------------------------------------------------------\u001b[0m",
      "\u001b[1;31mKeyError\u001b[0m                                  Traceback (most recent call last)",
      "Cell \u001b[1;32mIn[42], line 1\u001b[0m\n\u001b[1;32m----> 1\u001b[0m \u001b[38;5;28mprint\u001b[39m(model\u001b[38;5;241m.\u001b[39mwv\u001b[38;5;241m.\u001b[39mmost_similar(\u001b[38;5;124m\"\u001b[39m\u001b[38;5;124m초승달\u001b[39m\u001b[38;5;124m\"\u001b[39m))\n",
      "File \u001b[1;32m~\\anaconda3\\Lib\\site-packages\\gensim\\models\\keyedvectors.py:841\u001b[0m, in \u001b[0;36mKeyedVectors.most_similar\u001b[1;34m(self, positive, negative, topn, clip_start, clip_end, restrict_vocab, indexer)\u001b[0m\n\u001b[0;32m    838\u001b[0m         weight[idx] \u001b[38;5;241m=\u001b[39m item[\u001b[38;5;241m1\u001b[39m]\n\u001b[0;32m    840\u001b[0m \u001b[38;5;66;03m# compute the weighted average of all keys\u001b[39;00m\n\u001b[1;32m--> 841\u001b[0m mean \u001b[38;5;241m=\u001b[39m \u001b[38;5;28mself\u001b[39m\u001b[38;5;241m.\u001b[39mget_mean_vector(keys, weight, pre_normalize\u001b[38;5;241m=\u001b[39m\u001b[38;5;28;01mTrue\u001b[39;00m, post_normalize\u001b[38;5;241m=\u001b[39m\u001b[38;5;28;01mTrue\u001b[39;00m, ignore_missing\u001b[38;5;241m=\u001b[39m\u001b[38;5;28;01mFalse\u001b[39;00m)\n\u001b[0;32m    842\u001b[0m all_keys \u001b[38;5;241m=\u001b[39m [\n\u001b[0;32m    843\u001b[0m     \u001b[38;5;28mself\u001b[39m\u001b[38;5;241m.\u001b[39mget_index(key) \u001b[38;5;28;01mfor\u001b[39;00m key \u001b[38;5;129;01min\u001b[39;00m keys \u001b[38;5;28;01mif\u001b[39;00m \u001b[38;5;28misinstance\u001b[39m(key, _KEY_TYPES) \u001b[38;5;129;01mand\u001b[39;00m \u001b[38;5;28mself\u001b[39m\u001b[38;5;241m.\u001b[39mhas_index_for(key)\n\u001b[0;32m    844\u001b[0m ]\n\u001b[0;32m    846\u001b[0m \u001b[38;5;28;01mif\u001b[39;00m indexer \u001b[38;5;129;01mis\u001b[39;00m \u001b[38;5;129;01mnot\u001b[39;00m \u001b[38;5;28;01mNone\u001b[39;00m \u001b[38;5;129;01mand\u001b[39;00m \u001b[38;5;28misinstance\u001b[39m(topn, \u001b[38;5;28mint\u001b[39m):\n",
      "File \u001b[1;32m~\\anaconda3\\Lib\\site-packages\\gensim\\models\\keyedvectors.py:518\u001b[0m, in \u001b[0;36mKeyedVectors.get_mean_vector\u001b[1;34m(self, keys, weights, pre_normalize, post_normalize, ignore_missing)\u001b[0m\n\u001b[0;32m    516\u001b[0m         total_weight \u001b[38;5;241m+\u001b[39m\u001b[38;5;241m=\u001b[39m \u001b[38;5;28mabs\u001b[39m(weights[idx])\n\u001b[0;32m    517\u001b[0m     \u001b[38;5;28;01melif\u001b[39;00m \u001b[38;5;129;01mnot\u001b[39;00m ignore_missing:\n\u001b[1;32m--> 518\u001b[0m         \u001b[38;5;28;01mraise\u001b[39;00m \u001b[38;5;167;01mKeyError\u001b[39;00m(\u001b[38;5;124mf\u001b[39m\u001b[38;5;124m\"\u001b[39m\u001b[38;5;124mKey \u001b[39m\u001b[38;5;124m'\u001b[39m\u001b[38;5;132;01m{\u001b[39;00mkey\u001b[38;5;132;01m}\u001b[39;00m\u001b[38;5;124m'\u001b[39m\u001b[38;5;124m not present in vocabulary\u001b[39m\u001b[38;5;124m\"\u001b[39m)\n\u001b[0;32m    520\u001b[0m \u001b[38;5;28;01mif\u001b[39;00m total_weight \u001b[38;5;241m>\u001b[39m \u001b[38;5;241m0\u001b[39m:\n\u001b[0;32m    521\u001b[0m     mean \u001b[38;5;241m=\u001b[39m mean \u001b[38;5;241m/\u001b[39m total_weight\n",
      "\u001b[1;31mKeyError\u001b[0m: \"Key '초승달' not present in vocabulary\""
     ]
    }
   ],
   "source": [
    "print(model.wv.most_similar(\"초승달\"))   # 없을것이다. 시적 표현을 쓰는 사람은 많지 않다. "
   ]
  },
  {
   "cell_type": "code",
   "execution_count": 43,
   "id": "fe19aacd",
   "metadata": {},
   "outputs": [],
   "source": [
    "import gensim\n",
    "import urllib.request"
   ]
  },
  {
   "cell_type": "code",
   "execution_count": 44,
   "id": "c5abfc21",
   "metadata": {},
   "outputs": [
    {
     "name": "stdout",
     "output_type": "stream",
     "text": [
      "[--------------------------------------------------] 1.4% 23.4/1662.8MB downloaded"
     ]
    },
    {
     "name": "stderr",
     "output_type": "stream",
     "text": [
      "IOPub message rate exceeded.\n",
      "The notebook server will temporarily stop sending output\n",
      "to the client in order to avoid crashing it.\n",
      "To change this limit, set the config variable\n",
      "`--NotebookApp.iopub_msg_rate_limit`.\n",
      "\n",
      "Current values:\n",
      "NotebookApp.iopub_msg_rate_limit=1000.0 (msgs/sec)\n",
      "NotebookApp.rate_limit_window=3.0 (secs)\n",
      "\n"
     ]
    },
    {
     "name": "stdout",
     "output_type": "stream",
     "text": [
      "[==------------------------------------------------] 4.0% 67.1/1662.8MB downloaded"
     ]
    },
    {
     "name": "stderr",
     "output_type": "stream",
     "text": [
      "IOPub message rate exceeded.\n",
      "The notebook server will temporarily stop sending output\n",
      "to the client in order to avoid crashing it.\n",
      "To change this limit, set the config variable\n",
      "`--NotebookApp.iopub_msg_rate_limit`.\n",
      "\n",
      "Current values:\n",
      "NotebookApp.iopub_msg_rate_limit=1000.0 (msgs/sec)\n",
      "NotebookApp.rate_limit_window=3.0 (secs)\n",
      "\n"
     ]
    },
    {
     "name": "stdout",
     "output_type": "stream",
     "text": [
      "[===-----------------------------------------------] 6.7% 110.8/1662.8MB downloaded"
     ]
    },
    {
     "name": "stderr",
     "output_type": "stream",
     "text": [
      "IOPub message rate exceeded.\n",
      "The notebook server will temporarily stop sending output\n",
      "to the client in order to avoid crashing it.\n",
      "To change this limit, set the config variable\n",
      "`--NotebookApp.iopub_msg_rate_limit`.\n",
      "\n",
      "Current values:\n",
      "NotebookApp.iopub_msg_rate_limit=1000.0 (msgs/sec)\n",
      "NotebookApp.rate_limit_window=3.0 (secs)\n",
      "\n"
     ]
    },
    {
     "name": "stdout",
     "output_type": "stream",
     "text": [
      "[====----------------------------------------------] 9.3% 154.3/1662.8MB downloaded"
     ]
    },
    {
     "name": "stderr",
     "output_type": "stream",
     "text": [
      "IOPub message rate exceeded.\n",
      "The notebook server will temporarily stop sending output\n",
      "to the client in order to avoid crashing it.\n",
      "To change this limit, set the config variable\n",
      "`--NotebookApp.iopub_msg_rate_limit`.\n",
      "\n",
      "Current values:\n",
      "NotebookApp.iopub_msg_rate_limit=1000.0 (msgs/sec)\n",
      "NotebookApp.rate_limit_window=3.0 (secs)\n",
      "\n"
     ]
    },
    {
     "name": "stdout",
     "output_type": "stream",
     "text": [
      "[=====---------------------------------------------] 11.9% 198.0/1662.8MB downloaded"
     ]
    },
    {
     "name": "stderr",
     "output_type": "stream",
     "text": [
      "IOPub message rate exceeded.\n",
      "The notebook server will temporarily stop sending output\n",
      "to the client in order to avoid crashing it.\n",
      "To change this limit, set the config variable\n",
      "`--NotebookApp.iopub_msg_rate_limit`.\n",
      "\n",
      "Current values:\n",
      "NotebookApp.iopub_msg_rate_limit=1000.0 (msgs/sec)\n",
      "NotebookApp.rate_limit_window=3.0 (secs)\n",
      "\n"
     ]
    },
    {
     "name": "stdout",
     "output_type": "stream",
     "text": [
      "[=======-------------------------------------------] 14.5% 241.6/1662.8MB downloaded"
     ]
    },
    {
     "name": "stderr",
     "output_type": "stream",
     "text": [
      "IOPub message rate exceeded.\n",
      "The notebook server will temporarily stop sending output\n",
      "to the client in order to avoid crashing it.\n",
      "To change this limit, set the config variable\n",
      "`--NotebookApp.iopub_msg_rate_limit`.\n",
      "\n",
      "Current values:\n",
      "NotebookApp.iopub_msg_rate_limit=1000.0 (msgs/sec)\n",
      "NotebookApp.rate_limit_window=3.0 (secs)\n",
      "\n"
     ]
    },
    {
     "name": "stdout",
     "output_type": "stream",
     "text": [
      "[========------------------------------------------] 17.2% 286.8/1662.8MB downloaded"
     ]
    },
    {
     "name": "stderr",
     "output_type": "stream",
     "text": [
      "IOPub message rate exceeded.\n",
      "The notebook server will temporarily stop sending output\n",
      "to the client in order to avoid crashing it.\n",
      "To change this limit, set the config variable\n",
      "`--NotebookApp.iopub_msg_rate_limit`.\n",
      "\n",
      "Current values:\n",
      "NotebookApp.iopub_msg_rate_limit=1000.0 (msgs/sec)\n",
      "NotebookApp.rate_limit_window=3.0 (secs)\n",
      "\n"
     ]
    },
    {
     "name": "stdout",
     "output_type": "stream",
     "text": [
      "[=========-----------------------------------------] 19.9% 331.7/1662.8MB downloaded"
     ]
    },
    {
     "name": "stderr",
     "output_type": "stream",
     "text": [
      "IOPub message rate exceeded.\n",
      "The notebook server will temporarily stop sending output\n",
      "to the client in order to avoid crashing it.\n",
      "To change this limit, set the config variable\n",
      "`--NotebookApp.iopub_msg_rate_limit`.\n",
      "\n",
      "Current values:\n",
      "NotebookApp.iopub_msg_rate_limit=1000.0 (msgs/sec)\n",
      "NotebookApp.rate_limit_window=3.0 (secs)\n",
      "\n"
     ]
    },
    {
     "name": "stdout",
     "output_type": "stream",
     "text": [
      "[===========---------------------------------------] 22.6% 375.2/1662.8MB downloaded"
     ]
    },
    {
     "name": "stderr",
     "output_type": "stream",
     "text": [
      "IOPub message rate exceeded.\n",
      "The notebook server will temporarily stop sending output\n",
      "to the client in order to avoid crashing it.\n",
      "To change this limit, set the config variable\n",
      "`--NotebookApp.iopub_msg_rate_limit`.\n",
      "\n",
      "Current values:\n",
      "NotebookApp.iopub_msg_rate_limit=1000.0 (msgs/sec)\n",
      "NotebookApp.rate_limit_window=3.0 (secs)\n",
      "\n"
     ]
    },
    {
     "name": "stdout",
     "output_type": "stream",
     "text": [
      "[============--------------------------------------] 25.2% 419.3/1662.8MB downloaded"
     ]
    },
    {
     "name": "stderr",
     "output_type": "stream",
     "text": [
      "IOPub message rate exceeded.\n",
      "The notebook server will temporarily stop sending output\n",
      "to the client in order to avoid crashing it.\n",
      "To change this limit, set the config variable\n",
      "`--NotebookApp.iopub_msg_rate_limit`.\n",
      "\n",
      "Current values:\n",
      "NotebookApp.iopub_msg_rate_limit=1000.0 (msgs/sec)\n",
      "NotebookApp.rate_limit_window=3.0 (secs)\n",
      "\n"
     ]
    },
    {
     "name": "stdout",
     "output_type": "stream",
     "text": [
      "[=============-------------------------------------] 27.9% 463.9/1662.8MB downloaded"
     ]
    },
    {
     "name": "stderr",
     "output_type": "stream",
     "text": [
      "IOPub message rate exceeded.\n",
      "The notebook server will temporarily stop sending output\n",
      "to the client in order to avoid crashing it.\n",
      "To change this limit, set the config variable\n",
      "`--NotebookApp.iopub_msg_rate_limit`.\n",
      "\n",
      "Current values:\n",
      "NotebookApp.iopub_msg_rate_limit=1000.0 (msgs/sec)\n",
      "NotebookApp.rate_limit_window=3.0 (secs)\n",
      "\n"
     ]
    },
    {
     "name": "stdout",
     "output_type": "stream",
     "text": [
      "[===============-----------------------------------] 30.6% 508.4/1662.8MB downloaded"
     ]
    },
    {
     "name": "stderr",
     "output_type": "stream",
     "text": [
      "IOPub message rate exceeded.\n",
      "The notebook server will temporarily stop sending output\n",
      "to the client in order to avoid crashing it.\n",
      "To change this limit, set the config variable\n",
      "`--NotebookApp.iopub_msg_rate_limit`.\n",
      "\n",
      "Current values:\n",
      "NotebookApp.iopub_msg_rate_limit=1000.0 (msgs/sec)\n",
      "NotebookApp.rate_limit_window=3.0 (secs)\n",
      "\n"
     ]
    },
    {
     "name": "stdout",
     "output_type": "stream",
     "text": [
      "[================----------------------------------] 33.2% 552.1/1662.8MB downloaded"
     ]
    },
    {
     "name": "stderr",
     "output_type": "stream",
     "text": [
      "IOPub message rate exceeded.\n",
      "The notebook server will temporarily stop sending output\n",
      "to the client in order to avoid crashing it.\n",
      "To change this limit, set the config variable\n",
      "`--NotebookApp.iopub_msg_rate_limit`.\n",
      "\n",
      "Current values:\n",
      "NotebookApp.iopub_msg_rate_limit=1000.0 (msgs/sec)\n",
      "NotebookApp.rate_limit_window=3.0 (secs)\n",
      "\n"
     ]
    },
    {
     "name": "stdout",
     "output_type": "stream",
     "text": [
      "[=================---------------------------------] 35.8% 594.7/1662.8MB downloaded"
     ]
    },
    {
     "name": "stderr",
     "output_type": "stream",
     "text": [
      "IOPub message rate exceeded.\n",
      "The notebook server will temporarily stop sending output\n",
      "to the client in order to avoid crashing it.\n",
      "To change this limit, set the config variable\n",
      "`--NotebookApp.iopub_msg_rate_limit`.\n",
      "\n",
      "Current values:\n",
      "NotebookApp.iopub_msg_rate_limit=1000.0 (msgs/sec)\n",
      "NotebookApp.rate_limit_window=3.0 (secs)\n",
      "\n"
     ]
    },
    {
     "name": "stdout",
     "output_type": "stream",
     "text": [
      "[==================--------------------------------] 37.8% 629.2/1662.8MB downloaded"
     ]
    },
    {
     "name": "stderr",
     "output_type": "stream",
     "text": [
      "IOPub message rate exceeded.\n",
      "The notebook server will temporarily stop sending output\n",
      "to the client in order to avoid crashing it.\n",
      "To change this limit, set the config variable\n",
      "`--NotebookApp.iopub_msg_rate_limit`.\n",
      "\n",
      "Current values:\n",
      "NotebookApp.iopub_msg_rate_limit=1000.0 (msgs/sec)\n",
      "NotebookApp.rate_limit_window=3.0 (secs)\n",
      "\n"
     ]
    },
    {
     "name": "stdout",
     "output_type": "stream",
     "text": [
      "[===================-------------------------------] 39.8% 662.6/1662.8MB downloaded"
     ]
    },
    {
     "name": "stderr",
     "output_type": "stream",
     "text": [
      "IOPub message rate exceeded.\n",
      "The notebook server will temporarily stop sending output\n",
      "to the client in order to avoid crashing it.\n",
      "To change this limit, set the config variable\n",
      "`--NotebookApp.iopub_msg_rate_limit`.\n",
      "\n",
      "Current values:\n",
      "NotebookApp.iopub_msg_rate_limit=1000.0 (msgs/sec)\n",
      "NotebookApp.rate_limit_window=3.0 (secs)\n",
      "\n"
     ]
    },
    {
     "name": "stdout",
     "output_type": "stream",
     "text": [
      "[====================------------------------------] 41.8% 694.9/1662.8MB downloaded"
     ]
    },
    {
     "name": "stderr",
     "output_type": "stream",
     "text": [
      "IOPub message rate exceeded.\n",
      "The notebook server will temporarily stop sending output\n",
      "to the client in order to avoid crashing it.\n",
      "To change this limit, set the config variable\n",
      "`--NotebookApp.iopub_msg_rate_limit`.\n",
      "\n",
      "Current values:\n",
      "NotebookApp.iopub_msg_rate_limit=1000.0 (msgs/sec)\n",
      "NotebookApp.rate_limit_window=3.0 (secs)\n",
      "\n"
     ]
    },
    {
     "name": "stdout",
     "output_type": "stream",
     "text": [
      "[=====================-----------------------------] 43.9% 730.7/1662.8MB downloaded"
     ]
    },
    {
     "name": "stderr",
     "output_type": "stream",
     "text": [
      "IOPub message rate exceeded.\n",
      "The notebook server will temporarily stop sending output\n",
      "to the client in order to avoid crashing it.\n",
      "To change this limit, set the config variable\n",
      "`--NotebookApp.iopub_msg_rate_limit`.\n",
      "\n",
      "Current values:\n",
      "NotebookApp.iopub_msg_rate_limit=1000.0 (msgs/sec)\n",
      "NotebookApp.rate_limit_window=3.0 (secs)\n",
      "\n"
     ]
    },
    {
     "name": "stdout",
     "output_type": "stream",
     "text": [
      "[=======================---------------------------] 46.2% 769.0/1662.8MB downloaded"
     ]
    },
    {
     "name": "stderr",
     "output_type": "stream",
     "text": [
      "IOPub message rate exceeded.\n",
      "The notebook server will temporarily stop sending output\n",
      "to the client in order to avoid crashing it.\n",
      "To change this limit, set the config variable\n",
      "`--NotebookApp.iopub_msg_rate_limit`.\n",
      "\n",
      "Current values:\n",
      "NotebookApp.iopub_msg_rate_limit=1000.0 (msgs/sec)\n",
      "NotebookApp.rate_limit_window=3.0 (secs)\n",
      "\n"
     ]
    },
    {
     "name": "stdout",
     "output_type": "stream",
     "text": [
      "[========================--------------------------] 48.3% 803.3/1662.8MB downloaded"
     ]
    },
    {
     "name": "stderr",
     "output_type": "stream",
     "text": [
      "IOPub message rate exceeded.\n",
      "The notebook server will temporarily stop sending output\n",
      "to the client in order to avoid crashing it.\n",
      "To change this limit, set the config variable\n",
      "`--NotebookApp.iopub_msg_rate_limit`.\n",
      "\n",
      "Current values:\n",
      "NotebookApp.iopub_msg_rate_limit=1000.0 (msgs/sec)\n",
      "NotebookApp.rate_limit_window=3.0 (secs)\n",
      "\n"
     ]
    },
    {
     "name": "stdout",
     "output_type": "stream",
     "text": [
      "[=========================-------------------------] 50.4% 838.4/1662.8MB downloaded"
     ]
    },
    {
     "name": "stderr",
     "output_type": "stream",
     "text": [
      "IOPub message rate exceeded.\n",
      "The notebook server will temporarily stop sending output\n",
      "to the client in order to avoid crashing it.\n",
      "To change this limit, set the config variable\n",
      "`--NotebookApp.iopub_msg_rate_limit`.\n",
      "\n",
      "Current values:\n",
      "NotebookApp.iopub_msg_rate_limit=1000.0 (msgs/sec)\n",
      "NotebookApp.rate_limit_window=3.0 (secs)\n",
      "\n"
     ]
    },
    {
     "name": "stdout",
     "output_type": "stream",
     "text": [
      "[==========================------------------------] 52.6% 875.3/1662.8MB downloaded"
     ]
    },
    {
     "name": "stderr",
     "output_type": "stream",
     "text": [
      "IOPub message rate exceeded.\n",
      "The notebook server will temporarily stop sending output\n",
      "to the client in order to avoid crashing it.\n",
      "To change this limit, set the config variable\n",
      "`--NotebookApp.iopub_msg_rate_limit`.\n",
      "\n",
      "Current values:\n",
      "NotebookApp.iopub_msg_rate_limit=1000.0 (msgs/sec)\n",
      "NotebookApp.rate_limit_window=3.0 (secs)\n",
      "\n"
     ]
    },
    {
     "name": "stdout",
     "output_type": "stream",
     "text": [
      "[===========================-----------------------] 54.8% 910.9/1662.8MB downloaded"
     ]
    },
    {
     "name": "stderr",
     "output_type": "stream",
     "text": [
      "IOPub message rate exceeded.\n",
      "The notebook server will temporarily stop sending output\n",
      "to the client in order to avoid crashing it.\n",
      "To change this limit, set the config variable\n",
      "`--NotebookApp.iopub_msg_rate_limit`.\n",
      "\n",
      "Current values:\n",
      "NotebookApp.iopub_msg_rate_limit=1000.0 (msgs/sec)\n",
      "NotebookApp.rate_limit_window=3.0 (secs)\n",
      "\n"
     ]
    },
    {
     "name": "stdout",
     "output_type": "stream",
     "text": [
      "[============================----------------------] 56.9% 946.9/1662.8MB downloaded"
     ]
    },
    {
     "name": "stderr",
     "output_type": "stream",
     "text": [
      "IOPub message rate exceeded.\n",
      "The notebook server will temporarily stop sending output\n",
      "to the client in order to avoid crashing it.\n",
      "To change this limit, set the config variable\n",
      "`--NotebookApp.iopub_msg_rate_limit`.\n",
      "\n",
      "Current values:\n",
      "NotebookApp.iopub_msg_rate_limit=1000.0 (msgs/sec)\n",
      "NotebookApp.rate_limit_window=3.0 (secs)\n",
      "\n"
     ]
    },
    {
     "name": "stdout",
     "output_type": "stream",
     "text": [
      "[=============================---------------------] 58.7% 976.2/1662.8MB downloaded"
     ]
    },
    {
     "name": "stderr",
     "output_type": "stream",
     "text": [
      "IOPub message rate exceeded.\n",
      "The notebook server will temporarily stop sending output\n",
      "to the client in order to avoid crashing it.\n",
      "To change this limit, set the config variable\n",
      "`--NotebookApp.iopub_msg_rate_limit`.\n",
      "\n",
      "Current values:\n",
      "NotebookApp.iopub_msg_rate_limit=1000.0 (msgs/sec)\n",
      "NotebookApp.rate_limit_window=3.0 (secs)\n",
      "\n"
     ]
    },
    {
     "name": "stdout",
     "output_type": "stream",
     "text": [
      "[==============================--------------------] 61.0% 1014.8/1662.8MB downloaded"
     ]
    },
    {
     "name": "stderr",
     "output_type": "stream",
     "text": [
      "IOPub message rate exceeded.\n",
      "The notebook server will temporarily stop sending output\n",
      "to the client in order to avoid crashing it.\n",
      "To change this limit, set the config variable\n",
      "`--NotebookApp.iopub_msg_rate_limit`.\n",
      "\n",
      "Current values:\n",
      "NotebookApp.iopub_msg_rate_limit=1000.0 (msgs/sec)\n",
      "NotebookApp.rate_limit_window=3.0 (secs)\n",
      "\n"
     ]
    },
    {
     "name": "stdout",
     "output_type": "stream",
     "text": [
      "[===============================-------------------] 62.8% 1044.2/1662.8MB downloaded"
     ]
    },
    {
     "name": "stderr",
     "output_type": "stream",
     "text": [
      "IOPub message rate exceeded.\n",
      "The notebook server will temporarily stop sending output\n",
      "to the client in order to avoid crashing it.\n",
      "To change this limit, set the config variable\n",
      "`--NotebookApp.iopub_msg_rate_limit`.\n",
      "\n",
      "Current values:\n",
      "NotebookApp.iopub_msg_rate_limit=1000.0 (msgs/sec)\n",
      "NotebookApp.rate_limit_window=3.0 (secs)\n",
      "\n"
     ]
    },
    {
     "name": "stdout",
     "output_type": "stream",
     "text": [
      "[================================------------------] 64.9% 1079.1/1662.8MB downloaded"
     ]
    },
    {
     "name": "stderr",
     "output_type": "stream",
     "text": [
      "IOPub message rate exceeded.\n",
      "The notebook server will temporarily stop sending output\n",
      "to the client in order to avoid crashing it.\n",
      "To change this limit, set the config variable\n",
      "`--NotebookApp.iopub_msg_rate_limit`.\n",
      "\n",
      "Current values:\n",
      "NotebookApp.iopub_msg_rate_limit=1000.0 (msgs/sec)\n",
      "NotebookApp.rate_limit_window=3.0 (secs)\n",
      "\n"
     ]
    },
    {
     "name": "stdout",
     "output_type": "stream",
     "text": [
      "[=================================-----------------] 66.8% 1111.1/1662.8MB downloaded"
     ]
    },
    {
     "name": "stderr",
     "output_type": "stream",
     "text": [
      "IOPub message rate exceeded.\n",
      "The notebook server will temporarily stop sending output\n",
      "to the client in order to avoid crashing it.\n",
      "To change this limit, set the config variable\n",
      "`--NotebookApp.iopub_msg_rate_limit`.\n",
      "\n",
      "Current values:\n",
      "NotebookApp.iopub_msg_rate_limit=1000.0 (msgs/sec)\n",
      "NotebookApp.rate_limit_window=3.0 (secs)\n",
      "\n"
     ]
    },
    {
     "name": "stdout",
     "output_type": "stream",
     "text": [
      "[==================================----------------] 68.8% 1143.8/1662.8MB downloaded"
     ]
    },
    {
     "name": "stderr",
     "output_type": "stream",
     "text": [
      "IOPub message rate exceeded.\n",
      "The notebook server will temporarily stop sending output\n",
      "to the client in order to avoid crashing it.\n",
      "To change this limit, set the config variable\n",
      "`--NotebookApp.iopub_msg_rate_limit`.\n",
      "\n",
      "Current values:\n",
      "NotebookApp.iopub_msg_rate_limit=1000.0 (msgs/sec)\n",
      "NotebookApp.rate_limit_window=3.0 (secs)\n",
      "\n"
     ]
    },
    {
     "name": "stdout",
     "output_type": "stream",
     "text": [
      "[===================================---------------] 70.9% 1178.7/1662.8MB downloaded"
     ]
    },
    {
     "name": "stderr",
     "output_type": "stream",
     "text": [
      "IOPub message rate exceeded.\n",
      "The notebook server will temporarily stop sending output\n",
      "to the client in order to avoid crashing it.\n",
      "To change this limit, set the config variable\n",
      "`--NotebookApp.iopub_msg_rate_limit`.\n",
      "\n",
      "Current values:\n",
      "NotebookApp.iopub_msg_rate_limit=1000.0 (msgs/sec)\n",
      "NotebookApp.rate_limit_window=3.0 (secs)\n",
      "\n"
     ]
    },
    {
     "name": "stdout",
     "output_type": "stream",
     "text": [
      "[=====================================-------------] 74.9% 1245.0/1662.8MB downloaded"
     ]
    },
    {
     "name": "stderr",
     "output_type": "stream",
     "text": [
      "IOPub message rate exceeded.\n",
      "The notebook server will temporarily stop sending output\n",
      "to the client in order to avoid crashing it.\n",
      "To change this limit, set the config variable\n",
      "`--NotebookApp.iopub_msg_rate_limit`.\n",
      "\n",
      "Current values:\n",
      "NotebookApp.iopub_msg_rate_limit=1000.0 (msgs/sec)\n",
      "NotebookApp.rate_limit_window=3.0 (secs)\n",
      "\n"
     ]
    },
    {
     "name": "stdout",
     "output_type": "stream",
     "text": [
      "[======================================------------] 76.6% 1274.4/1662.8MB downloaded"
     ]
    },
    {
     "name": "stderr",
     "output_type": "stream",
     "text": [
      "IOPub message rate exceeded.\n",
      "The notebook server will temporarily stop sending output\n",
      "to the client in order to avoid crashing it.\n",
      "To change this limit, set the config variable\n",
      "`--NotebookApp.iopub_msg_rate_limit`.\n",
      "\n",
      "Current values:\n",
      "NotebookApp.iopub_msg_rate_limit=1000.0 (msgs/sec)\n",
      "NotebookApp.rate_limit_window=3.0 (secs)\n",
      "\n"
     ]
    },
    {
     "name": "stdout",
     "output_type": "stream",
     "text": [
      "[=======================================-----------] 78.5% 1305.0/1662.8MB downloaded"
     ]
    },
    {
     "name": "stderr",
     "output_type": "stream",
     "text": [
      "IOPub message rate exceeded.\n",
      "The notebook server will temporarily stop sending output\n",
      "to the client in order to avoid crashing it.\n",
      "To change this limit, set the config variable\n",
      "`--NotebookApp.iopub_msg_rate_limit`.\n",
      "\n",
      "Current values:\n",
      "NotebookApp.iopub_msg_rate_limit=1000.0 (msgs/sec)\n",
      "NotebookApp.rate_limit_window=3.0 (secs)\n",
      "\n"
     ]
    },
    {
     "name": "stdout",
     "output_type": "stream",
     "text": [
      "[========================================----------] 80.6% 1339.7/1662.8MB downloaded"
     ]
    },
    {
     "name": "stderr",
     "output_type": "stream",
     "text": [
      "IOPub message rate exceeded.\n",
      "The notebook server will temporarily stop sending output\n",
      "to the client in order to avoid crashing it.\n",
      "To change this limit, set the config variable\n",
      "`--NotebookApp.iopub_msg_rate_limit`.\n",
      "\n",
      "Current values:\n",
      "NotebookApp.iopub_msg_rate_limit=1000.0 (msgs/sec)\n",
      "NotebookApp.rate_limit_window=3.0 (secs)\n",
      "\n"
     ]
    },
    {
     "name": "stdout",
     "output_type": "stream",
     "text": [
      "[=========================================---------] 82.8% 1377.1/1662.8MB downloaded"
     ]
    },
    {
     "name": "stderr",
     "output_type": "stream",
     "text": [
      "IOPub message rate exceeded.\n",
      "The notebook server will temporarily stop sending output\n",
      "to the client in order to avoid crashing it.\n",
      "To change this limit, set the config variable\n",
      "`--NotebookApp.iopub_msg_rate_limit`.\n",
      "\n",
      "Current values:\n",
      "NotebookApp.iopub_msg_rate_limit=1000.0 (msgs/sec)\n",
      "NotebookApp.rate_limit_window=3.0 (secs)\n",
      "\n"
     ]
    },
    {
     "name": "stdout",
     "output_type": "stream",
     "text": [
      "[==========================================--------] 85.3% 1417.8/1662.8MB downloaded"
     ]
    },
    {
     "name": "stderr",
     "output_type": "stream",
     "text": [
      "IOPub message rate exceeded.\n",
      "The notebook server will temporarily stop sending output\n",
      "to the client in order to avoid crashing it.\n",
      "To change this limit, set the config variable\n",
      "`--NotebookApp.iopub_msg_rate_limit`.\n",
      "\n",
      "Current values:\n",
      "NotebookApp.iopub_msg_rate_limit=1000.0 (msgs/sec)\n",
      "NotebookApp.rate_limit_window=3.0 (secs)\n",
      "\n"
     ]
    },
    {
     "name": "stdout",
     "output_type": "stream",
     "text": [
      "[===========================================-------] 87.9% 1461.2/1662.8MB downloaded"
     ]
    },
    {
     "name": "stderr",
     "output_type": "stream",
     "text": [
      "IOPub message rate exceeded.\n",
      "The notebook server will temporarily stop sending output\n",
      "to the client in order to avoid crashing it.\n",
      "To change this limit, set the config variable\n",
      "`--NotebookApp.iopub_msg_rate_limit`.\n",
      "\n",
      "Current values:\n",
      "NotebookApp.iopub_msg_rate_limit=1000.0 (msgs/sec)\n",
      "NotebookApp.rate_limit_window=3.0 (secs)\n",
      "\n"
     ]
    },
    {
     "name": "stdout",
     "output_type": "stream",
     "text": [
      "[=============================================-----] 90.5% 1504.4/1662.8MB downloaded"
     ]
    },
    {
     "name": "stderr",
     "output_type": "stream",
     "text": [
      "IOPub message rate exceeded.\n",
      "The notebook server will temporarily stop sending output\n",
      "to the client in order to avoid crashing it.\n",
      "To change this limit, set the config variable\n",
      "`--NotebookApp.iopub_msg_rate_limit`.\n",
      "\n",
      "Current values:\n",
      "NotebookApp.iopub_msg_rate_limit=1000.0 (msgs/sec)\n",
      "NotebookApp.rate_limit_window=3.0 (secs)\n",
      "\n"
     ]
    },
    {
     "name": "stdout",
     "output_type": "stream",
     "text": [
      "[==============================================----] 93.1% 1548.2/1662.8MB downloaded"
     ]
    },
    {
     "name": "stderr",
     "output_type": "stream",
     "text": [
      "IOPub message rate exceeded.\n",
      "The notebook server will temporarily stop sending output\n",
      "to the client in order to avoid crashing it.\n",
      "To change this limit, set the config variable\n",
      "`--NotebookApp.iopub_msg_rate_limit`.\n",
      "\n",
      "Current values:\n",
      "NotebookApp.iopub_msg_rate_limit=1000.0 (msgs/sec)\n",
      "NotebookApp.rate_limit_window=3.0 (secs)\n",
      "\n"
     ]
    },
    {
     "name": "stdout",
     "output_type": "stream",
     "text": [
      "[===============================================---] 95.8% 1592.2/1662.8MB downloaded"
     ]
    },
    {
     "name": "stderr",
     "output_type": "stream",
     "text": [
      "IOPub message rate exceeded.\n",
      "The notebook server will temporarily stop sending output\n",
      "to the client in order to avoid crashing it.\n",
      "To change this limit, set the config variable\n",
      "`--NotebookApp.iopub_msg_rate_limit`.\n",
      "\n",
      "Current values:\n",
      "NotebookApp.iopub_msg_rate_limit=1000.0 (msgs/sec)\n",
      "NotebookApp.rate_limit_window=3.0 (secs)\n",
      "\n"
     ]
    },
    {
     "name": "stdout",
     "output_type": "stream",
     "text": [
      "[==================================================] 100.0% 1662.8/1662.8MB downloaded\n"
     ]
    }
   ],
   "source": [
    "import gensim.downloader as api\n",
    "\n",
    "wv = api.load('word2vec-google-news-300')"
   ]
  },
  {
   "cell_type": "code",
   "execution_count": 46,
   "id": "7cf7f41e",
   "metadata": {},
   "outputs": [
    {
     "data": {
      "text/plain": [
       "(3000000, 300)"
      ]
     },
     "execution_count": 46,
     "metadata": {},
     "output_type": "execute_result"
    }
   ],
   "source": [
    "wv.vectors.shape # 300만개의 단어와 300차원이다. "
   ]
  },
  {
   "cell_type": "code",
   "execution_count": 45,
   "id": "8e489cc0",
   "metadata": {},
   "outputs": [
    {
     "ename": "NameError",
     "evalue": "name 'word2vec_model' is not defined",
     "output_type": "error",
     "traceback": [
      "\u001b[1;31m---------------------------------------------------------------------------\u001b[0m",
      "\u001b[1;31mNameError\u001b[0m                                 Traceback (most recent call last)",
      "Cell \u001b[1;32mIn[45], line 1\u001b[0m\n\u001b[1;32m----> 1\u001b[0m \u001b[38;5;28mprint\u001b[39m(word2vec_model\u001b[38;5;241m.\u001b[39msimilarity(\u001b[38;5;124m'\u001b[39m\u001b[38;5;124mthis\u001b[39m\u001b[38;5;124m'\u001b[39m, \u001b[38;5;124m'\u001b[39m\u001b[38;5;124mis\u001b[39m\u001b[38;5;124m'\u001b[39m))\n\u001b[0;32m      2\u001b[0m \u001b[38;5;28mprint\u001b[39m(word2vec_model\u001b[38;5;241m.\u001b[39msimilarity(\u001b[38;5;124m'\u001b[39m\u001b[38;5;124mpost\u001b[39m\u001b[38;5;124m'\u001b[39m, \u001b[38;5;124m'\u001b[39m\u001b[38;5;124mbook\u001b[39m\u001b[38;5;124m'\u001b[39m))\n",
      "\u001b[1;31mNameError\u001b[0m: name 'word2vec_model' is not defined"
     ]
    }
   ],
   "source": [
    "print(word2vec_model.similarity('this', 'is'))\n",
    "print(word2vec_model.similarity('post', 'book'))"
   ]
  },
  {
   "cell_type": "code",
   "execution_count": 47,
   "id": "7c285f2e",
   "metadata": {},
   "outputs": [
    {
     "data": {
      "text/plain": [
       "0.057204388"
      ]
     },
     "execution_count": 47,
     "metadata": {},
     "output_type": "execute_result"
    }
   ],
   "source": [
    "wv.similarity(\"post\",\"book\")"
   ]
  },
  {
   "cell_type": "code",
   "execution_count": 48,
   "id": "b19995c5",
   "metadata": {},
   "outputs": [
    {
     "data": {
      "text/plain": [
       "0.40797037"
      ]
     },
     "execution_count": 48,
     "metadata": {},
     "output_type": "execute_result"
    }
   ],
   "source": [
    "wv.similarity(\"this\",\"is\")"
   ]
  },
  {
   "cell_type": "code",
   "execution_count": 50,
   "id": "97a500ae",
   "metadata": {},
   "outputs": [
    {
     "data": {
      "text/plain": [
       "287"
      ]
     },
     "execution_count": 50,
     "metadata": {},
     "output_type": "execute_result"
    }
   ],
   "source": [
    "wv['book'].argmax()"
   ]
  },
  {
   "cell_type": "code",
   "execution_count": 51,
   "id": "ba246ace",
   "metadata": {},
   "outputs": [],
   "source": [
    "# 초거대 언어모델도 이런 것들을 기반으로 만들어진다. \n",
    "# 언어모델을 영화 댓글로 만든 것이다. \n",
    "# 신조어는 항상 생길 것이다. 이러한 것들도 업데이트 되어야 한다. \n",
    "# https://projector.tensorflow.org/ 여기서도 확인 가능해질 것이다. \n",
    "# 단어 지도를 3차원으로 보여주는 사이트이다. \n",
    "# 원래는 100차원이다. 3차원이 아니라는 것을 주의하자. 차원축소를 해서 보여주는 것이다. \n",
    "model.wv.save_word2vec_format(\"kor_w2v\")"
   ]
  },
  {
   "cell_type": "code",
   "execution_count": 52,
   "id": "5c9ab16d",
   "metadata": {},
   "outputs": [
    {
     "name": "stderr",
     "output_type": "stream",
     "text": [
      "2023-11-08 15:10:19,462 - word2vec2tensor - INFO - running C:\\Users\\user\\anaconda3\\Lib\\site-packages\\gensim\\scripts\\word2vec2tensor.py --input kor_w2v --output kor_w2v\n",
      "2023-11-08 15:10:19,462 - keyedvectors - INFO - loading projection weights from kor_w2v\n",
      "2023-11-08 15:10:20,465 - utils - INFO - KeyedVectors lifecycle event {'msg': 'loaded (17615, 100) matrix of type float32 from kor_w2v', 'binary': False, 'encoding': 'utf8', 'datetime': '2023-11-08T15:10:20.457927', 'gensim': '4.3.0', 'python': '3.11.5 | packaged by Anaconda, Inc. | (main, Sep 11 2023, 13:26:23) [MSC v.1916 64 bit (AMD64)]', 'platform': 'Windows-10-10.0.19045-SP0', 'event': 'load_word2vec_format'}\n",
      "2023-11-08 15:10:21,299 - word2vec2tensor - INFO - 2D tensor file saved to kor_w2v_tensor.tsv\n",
      "2023-11-08 15:10:21,299 - word2vec2tensor - INFO - Tensor metadata file saved to kor_w2v_metadata.tsv\n",
      "2023-11-08 15:10:21,300 - word2vec2tensor - INFO - finished running word2vec2tensor.py\n"
     ]
    }
   ],
   "source": [
    "!python -m gensim.scripts.word2vec2tensor --input kor_w2v --output kor_w2v # 파일을 변환하자. tsv파일로 바꿔야 한다.\n",
    "# 이제 자신의 모델을 이용해서 자신의 언어모음들의 텐서들을 볼 수 있다."
   ]
  },
  {
   "cell_type": "code",
   "execution_count": null,
   "id": "8f7dbfd1",
   "metadata": {},
   "outputs": [],
   "source": [
    "# 연습문제가 주어질 예정이다. \n",
    "# 원하는 언어들을 를 직접 스크랩을 한다 - 워드 임베딩을 해보자. \n",
    "# 적당한 크기를 써서 워드 임베딩과 시각화를 해보자. "
   ]
  }
 ],
 "metadata": {
  "kernelspec": {
   "display_name": "Python 3 (ipykernel)",
   "language": "python",
   "name": "python3"
  },
  "language_info": {
   "codemirror_mode": {
    "name": "ipython",
    "version": 3
   },
   "file_extension": ".py",
   "mimetype": "text/x-python",
   "name": "python",
   "nbconvert_exporter": "python",
   "pygments_lexer": "ipython3",
   "version": "3.11.5"
  }
 },
 "nbformat": 4,
 "nbformat_minor": 5
}
