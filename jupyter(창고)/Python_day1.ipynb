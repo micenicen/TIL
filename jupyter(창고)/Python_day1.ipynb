{
 "cells": [
  {
   "cell_type": "code",
   "execution_count": 10,
   "id": "961169c5",
   "metadata": {
    "scrolled": false
   },
   "outputs": [
    {
     "name": "stdout",
     "output_type": "stream",
     "text": [
      "Hello sesac\n",
      "nice to meet you\n"
     ]
    }
   ],
   "source": [
    "print(\"Hello sesac\")\n",
    "print(\"nice to meet you\")"
   ]
  },
  {
   "cell_type": "code",
   "execution_count": 41,
   "id": "65375bd8",
   "metadata": {},
   "outputs": [
    {
     "name": "stdout",
     "output_type": "stream",
     "text": [
      "hello\n",
      " world\n"
     ]
    }
   ],
   "source": [
    "hello = \"hello world\"\n",
    "print(hello)"
   ]
  },
  {
   "cell_type": "code",
   "execution_count": 13,
   "id": "24ea6c85",
   "metadata": {},
   "outputs": [
    {
     "name": "stdout",
     "output_type": "stream",
     "text": [
      "hello sesac\n"
     ]
    }
   ],
   "source": [
    "print(\"hello sesac\")"
   ]
  },
  {
   "cell_type": "code",
   "execution_count": 14,
   "id": "9012590d",
   "metadata": {},
   "outputs": [
    {
     "data": {
      "text/plain": [
       "'hello sesac'"
      ]
     },
     "execution_count": 14,
     "metadata": {},
     "output_type": "execute_result"
    }
   ],
   "source": [
    "\"hello sesac\"\n",
    "\"hello sesac\""
   ]
  },
  {
   "cell_type": "code",
   "execution_count": 19,
   "id": "78f79fe3",
   "metadata": {},
   "outputs": [
    {
     "name": "stdout",
     "output_type": "stream",
     "text": [
      "3\n",
      "2\n"
     ]
    }
   ],
   "source": [
    "x = 3\n",
    "y = 2\n",
    "print(x)\n",
    "print(y)"
   ]
  },
  {
   "cell_type": "markdown",
   "id": "88ccbb30",
   "metadata": {},
   "source": [
    "1+2"
   ]
  },
  {
   "cell_type": "code",
   "execution_count": 22,
   "id": "ff32fcab",
   "metadata": {},
   "outputs": [
    {
     "data": {
      "text/plain": [
       "12300"
      ]
     },
     "execution_count": 22,
     "metadata": {},
     "output_type": "execute_result"
    }
   ],
   "source": [
    "123*100"
   ]
  },
  {
   "cell_type": "code",
   "execution_count": 23,
   "id": "27850120",
   "metadata": {},
   "outputs": [
    {
     "data": {
      "text/plain": [
       "3"
      ]
     },
     "execution_count": 23,
     "metadata": {},
     "output_type": "execute_result"
    }
   ],
   "source": [
    "x = 1\n",
    "y = 2\n",
    "x + y"
   ]
  },
  {
   "cell_type": "code",
   "execution_count": 24,
   "id": "8dc79699",
   "metadata": {},
   "outputs": [
    {
     "name": "stdout",
     "output_type": "stream",
     "text": [
      "<class 'int'>\n",
      "<class 'float'>\n"
     ]
    }
   ],
   "source": [
    "x = 1\n",
    "y = 1.5\n",
    "print(type(x))\n",
    "print(type(y))"
   ]
  },
  {
   "cell_type": "code",
   "execution_count": 25,
   "id": "8714da82",
   "metadata": {},
   "outputs": [
    {
     "data": {
      "text/plain": [
       "31000000000.0"
      ]
     },
     "execution_count": 25,
     "metadata": {},
     "output_type": "execute_result"
    }
   ],
   "source": [
    "3.1e10\n"
   ]
  },
  {
   "cell_type": "code",
   "execution_count": 29,
   "id": "7c4a66dc",
   "metadata": {},
   "outputs": [
    {
     "data": {
      "text/plain": [
       "13"
      ]
     },
     "execution_count": 29,
     "metadata": {},
     "output_type": "execute_result"
    }
   ],
   "source": [
    "0o15"
   ]
  },
  {
   "cell_type": "code",
   "execution_count": 30,
   "id": "451f45af",
   "metadata": {},
   "outputs": [
    {
     "data": {
      "text/plain": [
       "239"
      ]
     },
     "execution_count": 30,
     "metadata": {},
     "output_type": "execute_result"
    }
   ],
   "source": [
    "0xef"
   ]
  },
  {
   "cell_type": "code",
   "execution_count": 34,
   "id": "bedc1952",
   "metadata": {},
   "outputs": [
    {
     "data": {
      "text/plain": [
       "2"
      ]
     },
     "execution_count": 34,
     "metadata": {},
     "output_type": "execute_result"
    }
   ],
   "source": [
    "3 ** 4\n",
    "5 % 3\n"
   ]
  },
  {
   "cell_type": "code",
   "execution_count": 42,
   "id": "1fafee3d",
   "metadata": {},
   "outputs": [
    {
     "data": {
      "text/plain": [
       "\"kim's\""
      ]
     },
     "execution_count": 42,
     "metadata": {},
     "output_type": "execute_result"
    }
   ],
   "source": [
    "n = 'kim\\'s'\n",
    "n"
   ]
  },
  {
   "cell_type": "code",
   "execution_count": 48,
   "id": "6febdbed",
   "metadata": {},
   "outputs": [
    {
     "name": "stdout",
     "output_type": "stream",
     "text": [
      "hello\n",
      "world\n"
     ]
    }
   ],
   "source": [
    "msg = \"hello\\nworld\"\n",
    "print(msg)"
   ]
  },
  {
   "cell_type": "code",
   "execution_count": 50,
   "id": "1c0bc6a7",
   "metadata": {},
   "outputs": [
    {
     "name": "stdout",
     "output_type": "stream",
     "text": [
      "hi hi hi hi hi hi hi hi hi hi \n"
     ]
    }
   ],
   "source": [
    "asasa = \"hi \"*10\n",
    "print(asasa)"
   ]
  },
  {
   "cell_type": "code",
   "execution_count": 52,
   "id": "61693f2a",
   "metadata": {},
   "outputs": [
    {
     "data": {
      "text/plain": [
       "6"
      ]
     },
     "execution_count": 52,
     "metadata": {},
     "output_type": "execute_result"
    }
   ],
   "source": [
    "len(\"hello\")"
   ]
  },
  {
   "cell_type": "code",
   "execution_count": 1,
   "id": "bd7c2cd0",
   "metadata": {},
   "outputs": [
    {
     "data": {
      "text/plain": [
       "'o'"
      ]
     },
     "execution_count": 1,
     "metadata": {},
     "output_type": "execute_result"
    }
   ],
   "source": [
    "a = \"hello\"\n",
    "a[-1]"
   ]
  },
  {
   "cell_type": "code",
   "execution_count": 74,
   "id": "cde0b333",
   "metadata": {},
   "outputs": [
    {
     "name": "stdout",
     "output_type": "stream",
     "text": [
      "hl\n",
      "hlowrd\n",
      "llo world\n",
      "hel\n"
     ]
    }
   ],
   "source": [
    "b = \"hello world\"\n",
    "print(b[0:4:2])\n",
    "print(b[::2])\n",
    "print(b[2:])\n",
    "print(b[:3])"
   ]
  },
  {
   "cell_type": "code",
   "execution_count": 79,
   "id": "d51a7ee8",
   "metadata": {},
   "outputs": [
    {
     "data": {
      "text/plain": [
       "'오늘은 교육 2 일째 입니다.'"
      ]
     },
     "execution_count": 79,
     "metadata": {},
     "output_type": "execute_result"
    }
   ],
   "source": [
    "\"오늘은 교육 %d 일째 입니다.\" % 2"
   ]
  },
  {
   "cell_type": "code",
   "execution_count": 80,
   "id": "4f184a6b",
   "metadata": {},
   "outputs": [
    {
     "data": {
      "text/plain": [
       "'오늘은 교육 이틀째 입니다.'"
      ]
     },
     "execution_count": 80,
     "metadata": {},
     "output_type": "execute_result"
    }
   ],
   "source": [
    "\"오늘은 교육 %s째 입니다.\" % \"이틀\""
   ]
  },
  {
   "cell_type": "code",
   "execution_count": 87,
   "id": "6667179a",
   "metadata": {},
   "outputs": [
    {
     "data": {
      "text/plain": [
       "'오늘은 교육 2 일째 5교시 실습 입니다.'"
      ]
     },
     "execution_count": 87,
     "metadata": {},
     "output_type": "execute_result"
    }
   ],
   "source": [
    "\"오늘은 교육 %d 일째 %d교시 %s 입니다.\" % (2, 5, \"실습\")"
   ]
  },
  {
   "cell_type": "code",
   "execution_count": 86,
   "id": "182422a5",
   "metadata": {},
   "outputs": [
    {
     "data": {
      "text/plain": [
       "'모델의 정확도가 90% 입니다.'"
      ]
     },
     "execution_count": 86,
     "metadata": {},
     "output_type": "execute_result"
    }
   ],
   "source": [
    "\"모델의 정확도가 %d%% 입니다.\" %90"
   ]
  },
  {
   "cell_type": "code",
   "execution_count": 90,
   "id": "f3482053",
   "metadata": {},
   "outputs": [
    {
     "name": "stdout",
     "output_type": "stream",
     "text": [
      "        hi\n",
      "     hello\n"
     ]
    }
   ],
   "source": [
    "print(\"%10s\" %\"hi\")\n",
    "print(\"%10s\" %\"hello\")"
   ]
  },
  {
   "cell_type": "code",
   "execution_count": 93,
   "id": "1d8cac2a",
   "metadata": {},
   "outputs": [
    {
     "name": "stdout",
     "output_type": "stream",
     "text": [
      "      3.14\n",
      "      2.72\n"
     ]
    }
   ],
   "source": [
    "print(\"%10.2f\" % 3.141592)\n",
    "print(\"%10.2f\" % 2.718)"
   ]
  },
  {
   "cell_type": "code",
   "execution_count": 97,
   "id": "67e58452",
   "metadata": {},
   "outputs": [
    {
     "data": {
      "text/plain": [
       "'5일동안 훈련한 모델의 acc가 90%입니다.'"
      ]
     },
     "execution_count": 97,
     "metadata": {},
     "output_type": "execute_result"
    }
   ],
   "source": [
    "\"{2}일동안 훈련한 모델의 {0}가 {1}%입니다.\".format(\"acc\",90, 5)"
   ]
  },
  {
   "cell_type": "code",
   "execution_count": 102,
   "id": "5d005415",
   "metadata": {},
   "outputs": [
    {
     "name": "stdout",
     "output_type": "stream",
     "text": [
      "-1\n",
      "2\n"
     ]
    }
   ],
   "source": [
    "x = \"머신러닝딥러닝\"\n",
    "print(x.find(\"라\")) #찾는 값이 없다면 -1이 나오게 됨.\n",
    "print(x.find(\"러\")) #최초로 등장하는 곳이 2번 위치에 있기에 2라는 결과가 나왔음.\n",
    "#즉 파인드 함수는 검색에 실패할 때 검색실패 이벤트를 따로 제작할 수 있음."
   ]
  },
  {
   "cell_type": "code",
   "execution_count": 104,
   "id": "8364bd7d",
   "metadata": {},
   "outputs": [
    {
     "name": "stdout",
     "output_type": "stream",
     "text": [
      "2\n"
     ]
    }
   ],
   "source": [
    "x = \"머신러닝딥러닝\"\n",
    "#print(x.index(\"라\")) #찾는 값이 없다면 애러가 남.\n",
    "print(x.index(\"러\")) #위와 같음. \n",
    "#별도의 애러처리가 되어야만 사용이 가능함. 그래서 잘 안쓰이는 편"
   ]
  },
  {
   "cell_type": "code",
   "execution_count": 105,
   "id": "22e24dd0",
   "metadata": {},
   "outputs": [
    {
     "data": {
      "text/plain": [
       "'머신학습딥학습'"
      ]
     },
     "execution_count": 105,
     "metadata": {},
     "output_type": "execute_result"
    }
   ],
   "source": [
    "x = \"머신러닝딥러닝\"\n",
    "x.replace(\"러닝\",\"학습\")"
   ]
  },
  {
   "cell_type": "code",
   "execution_count": 106,
   "id": "0fe38598",
   "metadata": {},
   "outputs": [
    {
     "data": {
      "text/plain": [
       "'머신런닝딥런닝'"
      ]
     },
     "execution_count": 106,
     "metadata": {},
     "output_type": "execute_result"
    }
   ],
   "source": [
    "x = \"머신러닝딥러닝\"\n",
    "trule = str.maketrans(\"러\",\"런\") #문자열에 대해서 변환하는 규칙을 만들겠다는 의미. 앞에는 바꾸고 싶은 문자, 뒤는 바꿀 문자임\n",
    "x.translate(trule) # x의 내용물을 트렌스레이트 함수를 적용하되 trule을 적용한 것이다."
   ]
  },
  {
   "cell_type": "code",
   "execution_count": 107,
   "id": "69141b20",
   "metadata": {},
   "outputs": [
    {
     "data": {
      "text/plain": [
       "'머신런닝딥런닝'"
      ]
     },
     "execution_count": 107,
     "metadata": {},
     "output_type": "execute_result"
    }
   ],
   "source": [
    "trule2 = str.maketrans(\"러닝\",\"런닝\")\n",
    "x.translate(trule2)"
   ]
  },
  {
   "cell_type": "code",
   "execution_count": 108,
   "id": "592ec6c0",
   "metadata": {},
   "outputs": [
    {
     "data": {
      "text/plain": [
       "['머신', '러닝', '딥', '러닝']"
      ]
     },
     "execution_count": 108,
     "metadata": {},
     "output_type": "execute_result"
    }
   ],
   "source": [
    "\"머신 러닝 딥 러닝\".split()"
   ]
  },
  {
   "cell_type": "code",
   "execution_count": 109,
   "id": "902bfa0b",
   "metadata": {},
   "outputs": [
    {
     "data": {
      "text/plain": [
       "['머신 러닝', '딥 러닝']"
      ]
     },
     "execution_count": 109,
     "metadata": {},
     "output_type": "execute_result"
    }
   ],
   "source": [
    "\"머신 러닝@딥 러닝\".split(\"@\")"
   ]
  },
  {
   "cell_type": "code",
   "execution_count": 114,
   "id": "ca4ab778",
   "metadata": {},
   "outputs": [
    {
     "name": "stdout",
     "output_type": "stream",
     "text": [
      "['모레까지', '200㎜', '폭우…주말', '태풍', '하이쿠이', '영향', '비']\n"
     ]
    }
   ],
   "source": [
    "content = \"모레까지 200㎜ 폭우…주말 태풍 하이쿠이 영향 비\"\n",
    "title_split = content.split()\n",
    "print(title_split)"
   ]
  },
  {
   "cell_type": "code",
   "execution_count": 123,
   "id": "f14e52f0",
   "metadata": {},
   "outputs": [
    {
     "name": "stdout",
     "output_type": "stream",
     "text": [
      "200\n"
     ]
    }
   ],
   "source": [
    "content = \"모레까지 200㎜ 폭우…주말 태풍 하이쿠이 영향 비\"\n",
    "print(content[5:8])"
   ]
  },
  {
   "cell_type": "code",
   "execution_count": 125,
   "id": "5e81c469",
   "metadata": {},
   "outputs": [
    {
     "name": "stdout",
     "output_type": "stream",
     "text": [
      "x,y,z\n",
      "['x', 'y', 'z']\n"
     ]
    }
   ],
   "source": [
    "res = \",\".join(\"xyz\")\n",
    "print(res)\n",
    "print(res.split(\",\"))"
   ]
  },
  {
   "cell_type": "code",
   "execution_count": 127,
   "id": "050c4106",
   "metadata": {},
   "outputs": [
    {
     "name": "stdout",
     "output_type": "stream",
     "text": [
      "HELLO\n",
      "hello\n"
     ]
    }
   ],
   "source": [
    "print(\"hello\".upper())\n",
    "print(\"HELLO\".lower())#대문자와 소문자"
   ]
  },
  {
   "cell_type": "code",
   "execution_count": 130,
   "id": "64302431",
   "metadata": {},
   "outputs": [
    {
     "name": "stdout",
     "output_type": "stream",
     "text": [
      "python\n",
      " python\n",
      "python    \n"
     ]
    }
   ],
   "source": [
    "print(\"   python    \".strip()) #공백제거\n",
    "print(\" python    \".rstrip()) #오른쪽 공백제거\n",
    "print(\"   python    \".lstrip()) #왼쪽 공백제거"
   ]
  },
  {
   "cell_type": "code",
   "execution_count": 154,
   "id": "4a390bfb",
   "metadata": {},
   "outputs": [
    {
     "name": "stdout",
     "output_type": "stream",
     "text": [
      "   ,   python   \n",
      " ,   python.    \n",
      "example\n"
     ]
    }
   ],
   "source": [
    "print(\"   ,   python   \".strip(\",\"))\n",
    "print(\" ,   python.    \".strip(\".,\"))\n",
    "print('www.example.com'.strip('cmowz.'))"
   ]
  },
  {
   "cell_type": "code",
   "execution_count": 145,
   "id": "8e4651e4",
   "metadata": {},
   "outputs": [
    {
     "name": "stdout",
     "output_type": "stream",
     "text": [
      "00123\n",
      "000hi\n"
     ]
    }
   ],
   "source": [
    "print(\"123\".zfill(5))\n",
    "print(\"hi\".zfill(5)) # 공백을 0으로 채워서 자릿수를 맞추는 목적으로 사용함"
   ]
  },
  {
   "cell_type": "code",
   "execution_count": 152,
   "id": "73e3f426",
   "metadata": {},
   "outputs": [
    {
     "name": "stdout",
     "output_type": "stream",
     "text": [
      "0\n",
      "9\n",
      "-1\n"
     ]
    }
   ],
   "source": [
    "print(\"apple pineapple\".find(\"ap\"))\n",
    "print(\"apple pineapple\".find(\"eap\"))\n",
    "print(\"apple pineapple\".find(\"xy\"))"
   ]
  },
  {
   "cell_type": "code",
   "execution_count": 155,
   "id": "c47e3605",
   "metadata": {},
   "outputs": [],
   "source": [
    "#자료구조는 자료를 저장 및 관리하는 방법이라고 한다.(리스트, 딕셔너리, 세트, 튜플) 알고리즘은 문제를 해결하는 방법을 말한다.\n",
    "#좋은 알고리즘은 때에 따라 다르다. 해당 환경에 좋은 문제해결 방식이 좋은 알고리즘이다.\n",
    "#리스트와 딕셔너리가 가장 많이 사용되는 자료구조이다.\n",
    "\n",
    "#프로그래밍 알고리즘은 상당히 다양하다. 우리가 공부하고자 하는 알고리즘은 딥 러닝 알고리즘이다. \n",
    "#일반적으로는 검색 알고리즘과 정렬 알고리즘은 대체로 회사 코딩테스트에 제출하는 알고리즘이다. \n",
    "#검색은 순차, 이진같은 것이고 정렬은 선택, 버블과 같은 것이다. 검색과 정렬 둘다 모집단이 정해져 있을 때 사용한다.\n",
    "\n",
    "#예측/분류 모델(머신러닝,딥러닝 : 의사결정트리, 랜덤포레슽, 신경망 등등을 말하며 모집단이 너무 클 때 샘플링을 해서 모델링을 하는 기술이다.\n",
    "#정답이 아닌 정답에 가까운 근사치에 해당하는 값을 찾는다. 인공지능은 명확한 답이 아니라 확률에 근거해서 답을 하게 된다."
   ]
  },
  {
   "cell_type": "code",
   "execution_count": 171,
   "id": "98fad5c2",
   "metadata": {
    "scrolled": true
   },
   "outputs": [
    {
     "name": "stdout",
     "output_type": "stream",
     "text": [
      "252\n"
     ]
    }
   ],
   "source": [
    "#문제풀이\n",
    "'''\n",
    "[서울=뉴시스]이인준 기자 = 챗GPT 같은 생성형 AI를 통해 한국의 기업 생산량이 최대 620조원(4763억달러) 증가할 수 있다는 분석이 제기됐다.\n",
    "대한상공회의소가 28일 마이크로소프트, 영국 컨설팅그룹 엑세스파트너십과 함께 발간한 '생성형 AI가 한국경제에 미치는 영향 보고서'에 따르면 생성형 AI 적용에 따른 한국 경제의 잠재적 생산역량(productive capacity)은 지난해 국내총생산(GDP) 2150조6000억원(명목) 대비 29%에 달한다.\n",
    "'''\n",
    "coloum = \"[서울=뉴시스]이인준 기자 = 챗GPT 같은 생성형 AI를 통해 한국의 기업 생산량이 최대 620조원(4763억달러) 증가할 수 있다는 분석이 제기됐다.대한상공회의소가 28일 마이크로소프트, 영국 컨설팅그룹 엑세스파트너십과 함께 발간한 '생성형 AI가 한국경제에 미치는 영향 보고서'에 따르면 생성형 AI 적용에 따른 한국 경제의 잠재적 생산역량(productive capacity)은 지난해 국내총생산(GDP) 2150조6000억원(명목) 대비 29%에 달한다.\"\n",
    "\n",
    "print(coloum.find(\"%\"))\n"
   ]
  },
  {
   "cell_type": "code",
   "execution_count": 2,
   "id": "f22b9314",
   "metadata": {},
   "outputs": [
    {
     "name": "stdout",
     "output_type": "stream",
     "text": [
      "[0, 1, 2, 3, 4, 5, 6, 7, 8, 9]\n"
     ]
    }
   ],
   "source": []
  },
  {
   "cell_type": "code",
   "execution_count": null,
   "id": "0f874f52",
   "metadata": {},
   "outputs": [],
   "source": []
  }
 ],
 "metadata": {
  "kernelspec": {
   "display_name": "Python 3 (ipykernel)",
   "language": "python",
   "name": "python3"
  },
  "language_info": {
   "codemirror_mode": {
    "name": "ipython",
    "version": 3
   },
   "file_extension": ".py",
   "mimetype": "text/x-python",
   "name": "python",
   "nbconvert_exporter": "python",
   "pygments_lexer": "ipython3",
   "version": "3.11.5"
  }
 },
 "nbformat": 4,
 "nbformat_minor": 5
}
