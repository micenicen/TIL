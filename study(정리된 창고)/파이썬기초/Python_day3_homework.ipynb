{
 "cells": [
  {
   "cell_type": "code",
   "execution_count": 1,
   "id": "045d6f97",
   "metadata": {},
   "outputs": [
    {
     "name": "stdout",
     "output_type": "stream",
     "text": [
      "['닥터 스트레인지', '스플릿', '럭키']\n"
     ]
    }
   ],
   "source": [
    "# 1번 문제\n",
    "movie_rank = [] \n",
    "movie_rank.append(\"닥터 스트레인지\")\n",
    "movie_rank.extend([\"스플릿\", \"럭키\"])\n",
    "print(movie_rank)"
   ]
  },
  {
   "cell_type": "code",
   "execution_count": 2,
   "id": "6569595d",
   "metadata": {},
   "outputs": [
    {
     "name": "stdout",
     "output_type": "stream",
     "text": [
      "['닥터 스트레인지', '스플릿', '럭키', '배트맨']\n"
     ]
    }
   ],
   "source": [
    "# 2번 문제\n",
    "movie_rank.append(\"배트맨\")\n",
    "print(movie_rank)"
   ]
  },
  {
   "cell_type": "code",
   "execution_count": 3,
   "id": "340b2012",
   "metadata": {},
   "outputs": [
    {
     "name": "stdout",
     "output_type": "stream",
     "text": [
      "['닥터 스트레인지', '슈퍼맨', '스플릿', '럭키', '배트맨']\n"
     ]
    }
   ],
   "source": [
    "# 3번 문제\n",
    "movie_rank.insert(1, \"슈퍼맨\")\n",
    "print(movie_rank)"
   ]
  },
  {
   "cell_type": "code",
   "execution_count": 4,
   "id": "c63b268d",
   "metadata": {},
   "outputs": [
    {
     "name": "stdout",
     "output_type": "stream",
     "text": [
      "['닥터 스트레인지', '슈퍼맨', '스플릿', '배트맨']\n"
     ]
    }
   ],
   "source": [
    "# 4번 문제\n",
    "movie_rank.remove(\"럭키\")\n",
    "print(movie_rank)"
   ]
  },
  {
   "cell_type": "code",
   "execution_count": 5,
   "id": "2ec948b9",
   "metadata": {},
   "outputs": [
    {
     "name": "stdout",
     "output_type": "stream",
     "text": [
      "['닥터 스트레인지', '슈퍼맨']\n"
     ]
    }
   ],
   "source": [
    "# 5번 문제\n",
    "del movie_rank[2:]\n",
    "print(movie_rank)"
   ]
  },
  {
   "cell_type": "code",
   "execution_count": 6,
   "id": "7c65816b",
   "metadata": {},
   "outputs": [
    {
     "name": "stdout",
     "output_type": "stream",
     "text": [
      "[100, 130, 140, 150, 160, 170]\n"
     ]
    }
   ],
   "source": [
    "# 6번 문제\n",
    "price = ['20180728', 100, 130, 140, 150, 160, 170]\n",
    "print(price[1:])"
   ]
  },
  {
   "cell_type": "code",
   "execution_count": 7,
   "id": "5eb6c143",
   "metadata": {},
   "outputs": [
    {
     "name": "stdout",
     "output_type": "stream",
     "text": [
      "[1, 3, 5, 7, 9]\n"
     ]
    }
   ],
   "source": [
    "# 7번 문제\n",
    "nums = [1, 2, 3, 4, 5, 6, 7, 8, 9, 10]\n",
    "print(nums[::2])"
   ]
  },
  {
   "cell_type": "code",
   "execution_count": 14,
   "id": "c0a3f499",
   "metadata": {},
   "outputs": [
    {
     "name": "stdout",
     "output_type": "stream",
     "text": [
      "[5, 4, 3, 2, 1]\n",
      "[5, 4, 3, 2, 1]\n"
     ]
    }
   ],
   "source": [
    "# 8번 문제\n",
    "nums = [1, 2, 3, 4, 5]\n",
    "print(nums[::-1])#첫번째 방법\n"
   ]
  },
  {
   "cell_type": "code",
   "execution_count": 27,
   "id": "b4d8a642",
   "metadata": {},
   "outputs": [
    {
     "name": "stdout",
     "output_type": "stream",
     "text": [
      "삼성전자 Naver "
     ]
    }
   ],
   "source": [
    "# 9번 문제\n",
    "interest = ['삼성전자', 'LG전자', 'Naver']\n",
    "interest.remove('LG전자')\n",
    "for i in interest:\n",
    "    print(i, end =\" \")\n"
   ]
  },
  {
   "cell_type": "code",
   "execution_count": 28,
   "id": "95d4adf9",
   "metadata": {},
   "outputs": [
    {
     "name": "stdout",
     "output_type": "stream",
     "text": [
      "삼성전자 LG전자 Naver SK하이닉스 미래에셋대우 "
     ]
    }
   ],
   "source": [
    "# 10번 문제\n",
    "interest = ['삼성전자', 'LG전자', 'Naver', 'SK하이닉스', '미래에셋대우']\n",
    "for i in interest:\n",
    "    print(i, end =\" \")"
   ]
  },
  {
   "cell_type": "code",
   "execution_count": 30,
   "id": "06f4e9f7",
   "metadata": {},
   "outputs": [
    {
     "name": "stdout",
     "output_type": "stream",
     "text": [
      "삼성전자\n",
      "LG전자\n",
      "Naver\n",
      "SK하이닉스\n",
      "미래에셋대우\n"
     ]
    }
   ],
   "source": [
    "# 11번 문제\n",
    "print(\"\\n\".join(interest))"
   ]
  },
  {
   "cell_type": "code",
   "execution_count": 35,
   "id": "dd5c1c0b",
   "metadata": {},
   "outputs": [
    {
     "name": "stdout",
     "output_type": "stream",
     "text": [
      "None\n"
     ]
    }
   ],
   "source": [
    "# 12번 문제\n",
    "data = [2, 4, 3, 1, 5, 10, 9]\n",
    "data.sort()\n",
    "print(data)"
   ]
  },
  {
   "cell_type": "code",
   "execution_count": 44,
   "id": "8e4045aa",
   "metadata": {},
   "outputs": [
    {
     "name": "stdout",
     "output_type": "stream",
     "text": [
      "19881120 1068234\n"
     ]
    }
   ],
   "source": [
    "#13번 문제\n",
    "bandit = \"881120-1068234\"\n",
    "num_base = bandit.split(\"-\")\n",
    "birthday = \"19\"+num_base[0]\n",
    "print(birthday,num_base[1])"
   ]
  },
  {
   "cell_type": "code",
   "execution_count": 46,
   "id": "3b917a9d",
   "metadata": {},
   "outputs": [
    {
     "name": "stdout",
     "output_type": "stream",
     "text": [
      "(1, 2, 3, 4)\n"
     ]
    }
   ],
   "source": [
    "#14번 문제\n",
    "tup1 = (1,2,3)\n",
    "lis1 = list(tup1)\n",
    "lis1.append(4)\n",
    "tup1 = tuple(lis1)\n",
    "print(tup1)"
   ]
  },
  {
   "cell_type": "code",
   "execution_count": 48,
   "id": "04549e28",
   "metadata": {},
   "outputs": [
    {
     "name": "stdout",
     "output_type": "stream",
     "text": [
      "80\n"
     ]
    }
   ],
   "source": [
    "#15번 문제\n",
    "a = {'A':90, 'B':80, 'C':70}\n",
    "print(a.pop('B'))"
   ]
  },
  {
   "cell_type": "code",
   "execution_count": 49,
   "id": "221929d7",
   "metadata": {},
   "outputs": [
    {
     "name": "stdout",
     "output_type": "stream",
     "text": [
      "3.0\n"
     ]
    }
   ],
   "source": [
    "#16번 문제\n",
    "nums = [1, 2, 3, 4, 5]\n",
    "addition = 0\n",
    "for i in nums:\n",
    "    addition += i\n",
    "print(addition/len(nums))"
   ]
  },
  {
   "cell_type": "code",
   "execution_count": 50,
   "id": "4765628f",
   "metadata": {},
   "outputs": [
    {
     "name": "stdout",
     "output_type": "stream",
     "text": [
      "[1, 3, 5, 7, 9]\n"
     ]
    }
   ],
   "source": [
    "# 17번 문제\n",
    "nums = [1, 2, 3, 4, 5, 6, 7, 8, 9, 10]\n",
    "ans = []\n",
    "for i in nums:\n",
    "    if i % 2 == 1:\n",
    "        ans.append(i)\n",
    "print(ans)"
   ]
  },
  {
   "cell_type": "code",
   "execution_count": null,
   "id": "c0ece9f4",
   "metadata": {},
   "outputs": [],
   "source": [
    "# 18번 문제\n",
    "nums = [1, 2, 3, 4, 5]\n",
    "nums.reverse()#두번째 방법\n",
    "print(nums)"
   ]
  },
  {
   "cell_type": "code",
   "execution_count": 52,
   "id": "a160059d",
   "metadata": {},
   "outputs": [
    {
     "name": "stdout",
     "output_type": "stream",
     "text": [
      "{'메로나': 1000, '폴라포': 1200, '빵빠레': 1800}\n"
     ]
    }
   ],
   "source": [
    "# 19번 문제\n",
    "brand = ['메로나','폴라포','빵빠레']\n",
    "price = [1000, 1200, 1800]\n",
    "ans19 = dict(zip(brand,price))\n",
    "print(ans19)"
   ]
  },
  {
   "cell_type": "code",
   "execution_count": 53,
   "id": "13206970",
   "metadata": {},
   "outputs": [
    {
     "name": "stdout",
     "output_type": "stream",
     "text": [
      "{'메로나': 1000, '폴라포': 1200, '빵빠레': 1800, '죠스바': 1200, '월드콘': 1500}\n"
     ]
    }
   ],
   "source": [
    "# 20번 문제\n",
    "ans19['죠스바'] = 1200\n",
    "ans19['월드콘'] = 1500\n",
    "print(ans19)"
   ]
  },
  {
   "cell_type": "code",
   "execution_count": 1,
   "id": "3528fcc1",
   "metadata": {},
   "outputs": [],
   "source": [
    "# 강평\n",
    "# 기존에 존재하는 함수(예: 프린트)같은 함수는 변수로 사용하는 것을 추천하지 않는다. \n",
    "# 만약 실수로 함수를 변수로 사용한 경우 del 함수를 사용하여 변수를 제거하면 다시 사용 가능해진다.\n",
    "# 예시로 print = 1로 지정한 경우 프린트 함수는 다시 사용할 수 없다. 프린트 함수 재사용을 위해서는 del print를 하면 된다. \n",
    "# 람다함수가 존재한다."
   ]
  },
  {
   "cell_type": "code",
   "execution_count": null,
   "id": "f05c6621",
   "metadata": {},
   "outputs": [],
   "source": []
  },
  {
   "cell_type": "code",
   "execution_count": null,
   "id": "0a37236e",
   "metadata": {},
   "outputs": [],
   "source": []
  }
 ],
 "metadata": {
  "kernelspec": {
   "display_name": "Python 3 (ipykernel)",
   "language": "python",
   "name": "python3"
  },
  "language_info": {
   "codemirror_mode": {
    "name": "ipython",
    "version": 3
   },
   "file_extension": ".py",
   "mimetype": "text/x-python",
   "name": "python",
   "nbconvert_exporter": "python",
   "pygments_lexer": "ipython3",
   "version": "3.11.4"
  }
 },
 "nbformat": 4,
 "nbformat_minor": 5
}
