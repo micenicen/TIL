{
 "cells": [
  {
   "cell_type": "markdown",
   "id": "b2704369",
   "metadata": {},
   "source": [
    "#1번문제\n",
    "for a in range(100):\n",
    "    print(a)"
   ]
  },
  {
   "cell_type": "code",
   "execution_count": 2,
   "id": "aa181d56",
   "metadata": {},
   "outputs": [
    {
     "name": "stdout",
     "output_type": "stream",
     "text": [
      "2002\n",
      "2006\n",
      "2010\n",
      "2014\n",
      "2018\n",
      "2022\n",
      "2026\n",
      "2030\n",
      "2034\n",
      "2038\n",
      "2042\n",
      "2046\n",
      "2050\n"
     ]
    }
   ],
   "source": [
    "#2번문제 \n",
    "for i in range(2002,2051,4):\n",
    "        print(i)"
   ]
  },
  {
   "cell_type": "code",
   "execution_count": 12,
   "id": "5a4f3f64",
   "metadata": {},
   "outputs": [
    {
     "name": "stdout",
     "output_type": "stream",
     "text": [
      "0.0\n",
      "0.1\n",
      "0.2\n",
      "0.3\n",
      "0.4\n",
      "0.5\n",
      "0.6\n",
      "0.7\n",
      "0.8\n",
      "0.9\n",
      "1.0\n",
      "1.1\n",
      "1.2\n",
      "1.3\n",
      "1.4\n",
      "1.5\n",
      "1.6\n",
      "1.7\n",
      "1.8\n",
      "1.9\n",
      "2.0\n",
      "2.1\n",
      "2.2\n",
      "2.3\n",
      "2.4\n",
      "2.5\n",
      "2.6\n",
      "2.7\n",
      "2.8\n",
      "2.9\n",
      "3.0\n",
      "3.1\n",
      "3.2\n",
      "3.3\n",
      "3.4\n",
      "3.5\n",
      "3.6\n",
      "3.7\n",
      "3.8\n",
      "3.9\n",
      "4.0\n"
     ]
    }
   ],
   "source": [
    "#3번 문제\n",
    "\n",
    "for i in range(41):\n",
    "    print(i/10)"
   ]
  },
  {
   "cell_type": "code",
   "execution_count": 13,
   "id": "b21685da",
   "metadata": {},
   "outputs": [
    {
     "name": "stdout",
     "output_type": "stream",
     "text": [
      "3 x 1 = 3\n",
      "3 x 2 = 6\n",
      "3 x 3 = 9\n",
      "3 x 4 = 12\n",
      "3 x 5 = 15\n",
      "3 x 6 = 18\n",
      "3 x 7 = 21\n",
      "3 x 8 = 24\n",
      "3 x 9 = 27\n"
     ]
    }
   ],
   "source": [
    "# 4번 문제\n",
    "for i in range(1,10):\n",
    "    print(f\"3 x {i} = {3*i}\")"
   ]
  },
  {
   "cell_type": "code",
   "execution_count": 14,
   "id": "1b347a32",
   "metadata": {},
   "outputs": [
    {
     "name": "stdout",
     "output_type": "stream",
     "text": [
      "3 x 1 = 3\n",
      "3 x 3 = 9\n",
      "3 x 5 = 15\n",
      "3 x 7 = 21\n",
      "3 x 9 = 27\n"
     ]
    }
   ],
   "source": [
    "# 5번 문제\n",
    "for i in range(1,10):\n",
    "    if i%2 == 1:\n",
    "        print(f\"3 x {i} = {3*i}\")"
   ]
  },
  {
   "cell_type": "code",
   "execution_count": 23,
   "id": "b3b40cc1",
   "metadata": {},
   "outputs": [
    {
     "name": "stdout",
     "output_type": "stream",
     "text": [
      "가 나\n",
      "나 다\n",
      "다 라\n"
     ]
    }
   ],
   "source": [
    "#6번 문제\n",
    "my_list = [\"가\", \"나\", \"다\", \"라\"]\n",
    "for i in range(len(my_list)-1):\n",
    "    print(my_list[i],my_list[i+1])"
   ]
  },
  {
   "cell_type": "code",
   "execution_count": 25,
   "id": "f3d7cd70",
   "metadata": {},
   "outputs": [
    {
     "name": "stdout",
     "output_type": "stream",
     "text": [
      "가 나 다\n",
      "나 다 라\n",
      "다 라 마\n"
     ]
    }
   ],
   "source": [
    "#7번 문제\n",
    "my_list = [\"가\", \"나\", \"다\", \"라\",\"마\"]\n",
    "for i in range(len(my_list)-2):\n",
    "    print(my_list[i],my_list[i+1],my_list[i+2])"
   ]
  },
  {
   "cell_type": "code",
   "execution_count": 32,
   "id": "295d1f96",
   "metadata": {},
   "outputs": [
    {
     "name": "stdout",
     "output_type": "stream",
     "text": [
      "라 다\n",
      "다 나\n",
      "나 가\n"
     ]
    }
   ],
   "source": [
    "#8번 문제\n",
    "my_list = [\"가\", \"나\", \"다\", \"라\"]\n",
    "for i in range(len(my_list)-1):\n",
    "    print(my_list[-i-1],my_list[-i-2])"
   ]
  },
  {
   "cell_type": "code",
   "execution_count": 39,
   "id": "b1273338",
   "metadata": {},
   "outputs": [
    {
     "name": "stdout",
     "output_type": "stream",
     "text": [
      "100\n",
      "200\n",
      "400\n"
     ]
    }
   ],
   "source": [
    "#9번 문제\n",
    "my_list = [100, 200, 400, 800]\n",
    "for i in range(len(my_list)-1):\n",
    "    ans = my_list[i+1]- my_list[i]\n",
    "    print(ans)"
   ]
  },
  {
   "cell_type": "code",
   "execution_count": 44,
   "id": "e41d43c9",
   "metadata": {},
   "outputs": [
    {
     "name": "stdout",
     "output_type": "stream",
     "text": [
      "233.33333333333334\n",
      "466.6666666666667\n",
      "733.3333333333334\n",
      "1033.3333333333333\n"
     ]
    }
   ],
   "source": [
    "#10번 문제 \n",
    "import math\n",
    "my_list = [100, 200, 400, 800, 1000, 1300]\n",
    "for i in range(len(my_list)-2):\n",
    "    ans10 = (my_list[i]+my_list[i+1]+my_list[i+2])/3\n",
    "    print(ans10)"
   ]
  },
  {
   "cell_type": "code",
   "execution_count": 46,
   "id": "c61ad746",
   "metadata": {},
   "outputs": [
    {
     "name": "stdout",
     "output_type": "stream",
     "text": [
      "[50, 100, 30, 80, 0]\n"
     ]
    }
   ],
   "source": [
    "#11번 문제 \n",
    "low_prices  = [100, 200, 400, 800, 1000]\n",
    "high_prices = [150, 300, 430, 880, 1000]\n",
    "volatility = list(map(lambda a,b:abs(a-b) ,low_prices,high_prices))\n",
    "print(volatility)"
   ]
  },
  {
   "cell_type": "code",
   "execution_count": 51,
   "id": "e17a2921",
   "metadata": {},
   "outputs": [
    {
     "name": "stdout",
     "output_type": "stream",
     "text": [
      "2000.28\n",
      "3050.427\n",
      "2050.2870000000003\n",
      "1980.2772\n",
      "7501.05\n",
      "2050.2870000000003\n",
      "2050.2870000000003\n",
      "1980.2772\n",
      "15452.163\n",
      "15052.107\n",
      "15552.177\n",
      "14902.086000000001\n"
     ]
    }
   ],
   "source": [
    "#12번 문제 \n",
    "data = [\n",
    "    [ 2000,  3050,  2050,  1980],\n",
    "    [ 7500,  2050,  2050,  1980],\n",
    "    [15450, 15050, 15550, 14900]\n",
    "]\n",
    "for i in range(len(data)):\n",
    "    for j in range(len(data[0])):\n",
    "        print(data[i][j]*1.00014)\n",
    "    "
   ]
  },
  {
   "cell_type": "code",
   "execution_count": 52,
   "id": "d1020f41",
   "metadata": {},
   "outputs": [
    {
     "name": "stdout",
     "output_type": "stream",
     "text": [
      "2000.28\n",
      "3050.427\n",
      "2050.2870000000003\n",
      "1980.2772\n",
      "----\n",
      "7501.05\n",
      "2050.2870000000003\n",
      "2050.2870000000003\n",
      "1980.2772\n",
      "----\n",
      "15452.163\n",
      "15052.107\n",
      "15552.177\n",
      "14902.086000000001\n",
      "----\n"
     ]
    }
   ],
   "source": [
    "#13번 문제 \n",
    "for i in range(len(data)):\n",
    "    for j in range(len(data[0])):\n",
    "        print(data[i][j]*1.00014)\n",
    "    print(\"----\")"
   ]
  },
  {
   "cell_type": "code",
   "execution_count": 53,
   "id": "215b5d4d",
   "metadata": {},
   "outputs": [
    {
     "name": "stdout",
     "output_type": "stream",
     "text": [
      "[2000.28, 3050.427, 2050.2870000000003, 1980.2772, 7501.05, 2050.2870000000003, 2050.2870000000003, 1980.2772, 15452.163, 15052.107, 15552.177, 14902.086000000001]\n"
     ]
    }
   ],
   "source": [
    "#14번 문제\n",
    "data2 = []\n",
    "for i in range(len(data)):\n",
    "    for j in range(len(data[0])):\n",
    "        data2.append(data[i][j]*1.00014)\n",
    "print(data2)"
   ]
  },
  {
   "cell_type": "code",
   "execution_count": 54,
   "id": "d0af2510",
   "metadata": {},
   "outputs": [
    {
     "name": "stdout",
     "output_type": "stream",
     "text": [
      "100\n",
      "190\n",
      "310\n"
     ]
    }
   ],
   "source": [
    "#15번 문제\n",
    "ohlc = [[\"open\", \"high\", \"low\", \"close\"],\n",
    "        [100, 110, 70, 100],\n",
    "        [200, 210, 180, 190],\n",
    "        [300, 310, 300, 310]]\n",
    "for i in range(1, len(ohlc)):\n",
    "    print(ohlc[i][3])"
   ]
  },
  {
   "cell_type": "code",
   "execution_count": 55,
   "id": "566466b7",
   "metadata": {},
   "outputs": [
    {
     "name": "stdout",
     "output_type": "stream",
     "text": [
      "190\n",
      "310\n"
     ]
    }
   ],
   "source": [
    "# 16번 문제\n",
    "for i in range(1, len(ohlc)):\n",
    "    if ohlc[i][3] > 150:\n",
    "        print(ohlc[i][3])"
   ]
  },
  {
   "cell_type": "code",
   "execution_count": 56,
   "id": "822f9ee8",
   "metadata": {},
   "outputs": [
    {
     "name": "stdout",
     "output_type": "stream",
     "text": [
      "100\n",
      "310\n"
     ]
    }
   ],
   "source": [
    "# 17번 문제\n",
    "for i in range(1, len(ohlc)):\n",
    "        if ohlc[i][3] >= ohlc[i][0]:\n",
    "            print(ohlc[i][3])"
   ]
  },
  {
   "cell_type": "code",
   "execution_count": 66,
   "id": "515b4b0b",
   "metadata": {},
   "outputs": [
    {
     "name": "stdout",
     "output_type": "stream",
     "text": [
      "[40, 30, 10]\n"
     ]
    }
   ],
   "source": [
    "# 18번 문제\n",
    "volatility = []\n",
    "for i in range(1, len(ohlc)):\n",
    "    volatility.append(abs(ohlc[i][1] - ohlc[i][2]))\n",
    "print(volatility)\n",
    "    "
   ]
  },
  {
   "cell_type": "code",
   "execution_count": 67,
   "id": "f182133e",
   "metadata": {},
   "outputs": [
    {
     "name": "stdout",
     "output_type": "stream",
     "text": [
      "10\n"
     ]
    }
   ],
   "source": [
    "#19번 문제\n",
    "for i in range(1, len(ohlc)):\n",
    "    if ohlc[i][0] < ohlc[i][3]:\n",
    "        print(ohlc[i][1]-ohlc[i][2])"
   ]
  },
  {
   "cell_type": "code",
   "execution_count": 68,
   "id": "e047974a",
   "metadata": {},
   "outputs": [
    {
     "name": "stdout",
     "output_type": "stream",
     "text": [
      "0\n",
      "-10\n",
      "10\n"
     ]
    }
   ],
   "source": [
    "#20번 문제\n",
    "for i in range(1, len(ohlc)):\n",
    "    print(ohlc[i][3]-ohlc[i][0])"
   ]
  },
  {
   "cell_type": "code",
   "execution_count": 70,
   "id": "27f1c67f",
   "metadata": {},
   "outputs": [
    {
     "name": "stdout",
     "output_type": "stream",
     "text": [
      "497929222.97912794\n"
     ]
    }
   ],
   "source": [
    "#21번 문제\n",
    "print(1000*1.3**50)"
   ]
  },
  {
   "cell_type": "code",
   "execution_count": 71,
   "id": "ef26f698",
   "metadata": {},
   "outputs": [
    {
     "name": "stdout",
     "output_type": "stream",
     "text": [
      "136\n"
     ]
    }
   ],
   "source": [
    "#22번 문제\n",
    "my_list = [20, 38, 41, 50, 2, 4, 3, 4, 5, 8, 9, 10]\n",
    "summit = 0\n",
    "for i in my_list:\n",
    "    if i%2 == 0:\n",
    "        summit += i\n",
    "print(summit)"
   ]
  },
  {
   "cell_type": "code",
   "execution_count": 76,
   "id": "4889cdba",
   "metadata": {},
   "outputs": [
    {
     "name": "stdout",
     "output_type": "stream",
     "text": [
      "136\n"
     ]
    }
   ],
   "source": [
    "#23번 문제\n",
    "my_list = [ [20, 38], [41, 50], [2, 4], [3, 4], [5, 8], [9, 10] ]\n",
    "summit = 0\n",
    "for i in my_list:\n",
    "    for j in i:\n",
    "        if j%2 == 0:\n",
    "            summit += j\n",
    "print(summit)"
   ]
  },
  {
   "cell_type": "code",
   "execution_count": 78,
   "id": "186ce2a8",
   "metadata": {},
   "outputs": [
    {
     "name": "stdout",
     "output_type": "stream",
     "text": [
      "***\n",
      "**\n",
      "*\n"
     ]
    }
   ],
   "source": [
    "#24번 문제\n",
    "star = \"***\"\n",
    "while len(star) > 0:\n",
    "    print(star)\n",
    "    star = star[:-1] "
   ]
  },
  {
   "cell_type": "code",
   "execution_count": 2,
   "id": "84659ee2",
   "metadata": {},
   "outputs": [
    {
     "name": "stdout",
     "output_type": "stream",
     "text": [
      "\n",
      "*\n",
      "**\n",
      "***\n",
      "****\n",
      "*****\n",
      "****\n",
      "***\n",
      "**\n",
      "*\n"
     ]
    }
   ],
   "source": [
    "#25번 문제\n",
    "stack = 0\n",
    "\n",
    "def winkle_star(num):\n",
    "    global stack\n",
    "    if stack < num:\n",
    "        print('*' * stack)\n",
    "        stack += 1\n",
    "        winkle_star(num)\n",
    "        print('*' * stack)\n",
    "        stack -= 1\n",
    "\n",
    "winkle_star(5)\n"
   ]
  },
  {
   "cell_type": "code",
   "execution_count": 3,
   "id": "8445e827",
   "metadata": {},
   "outputs": [
    {
     "name": "stdout",
     "output_type": "stream",
     "text": [
      " *****\n",
      "  ****\n",
      "   ***\n",
      "    **\n",
      "     *\n",
      "     *\n",
      "    **\n",
      "   ***\n",
      "  ****\n",
      " *****\n"
     ]
    }
   ],
   "source": [
    "#26번 문제\n",
    "def winkle_star1(num):\n",
    "    if num > 1: \n",
    "        num -= 1\n",
    "        print(\" \"*(5-num),\"*\"*num)\n",
    "        winkle_star1(num)\n",
    "        print(\" \"*(5-num),\"*\"*num)\n",
    "        \n",
    "winkle_star1(6)"
   ]
  },
  {
   "cell_type": "code",
   "execution_count": null,
   "id": "0f6da1e5",
   "metadata": {},
   "outputs": [],
   "source": []
  }
 ],
 "metadata": {
  "kernelspec": {
   "display_name": "Python 3 (ipykernel)",
   "language": "python",
   "name": "python3"
  },
  "language_info": {
   "codemirror_mode": {
    "name": "ipython",
    "version": 3
   },
   "file_extension": ".py",
   "mimetype": "text/x-python",
   "name": "python",
   "nbconvert_exporter": "python",
   "pygments_lexer": "ipython3",
   "version": "3.11.4"
  }
 },
 "nbformat": 4,
 "nbformat_minor": 5
}
