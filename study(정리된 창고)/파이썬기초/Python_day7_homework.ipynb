{
 "cells": [
  {
   "cell_type": "code",
   "execution_count": 18,
   "id": "ed54beda",
   "metadata": {},
   "outputs": [
    {
     "name": "stdout",
     "output_type": "stream",
     "text": [
      "Life is too short\n",
      "You need java\n"
     ]
    }
   ],
   "source": [
    "# 1 \"test.txt\"라는 파일에 \"Life is too short\" 문자열을 저장한 후 다시 그 파일을 읽어서 출력하는 프로그램을 작성해 보자.\n",
    "f = open(\"test.txt\",\"w\")\n",
    "f.write(\"Life is too short\\nYou need java\")\n",
    "f.close()\n",
    "# 작성 및 저장단계\n",
    "f = open(\"test.txt\",\"r\")\n",
    "print(f.read())\n",
    "f.close()"
   ]
  },
  {
   "cell_type": "code",
   "execution_count": 20,
   "id": "d8fc4cd2",
   "metadata": {},
   "outputs": [],
   "source": [
    "#2 다음과 같은 내용을 지닌 파일 test.txt가 있다. 이 파일의 내용 중 \"java\"라는 문자열을 \"python\"으로 바꾸어서 저장해 보자.\n",
    "f = open(\"test.txt\", \"r\")\n",
    "text = f.read()\n",
    "f.close()\n",
    "# 기존에 있는 텍스트를 추출하는 단계\n",
    "new_text = text.replace(\"java\", \"python\")\n",
    "#텍스트를 추출한 이후 단어 바꾸기\n",
    "f = open(\"test.txt\", \"w\")\n",
    "f.write(new_text)\n",
    "f.close()\n",
    "# 수정된 내용을 파일에 쓰기( w모드가 덮어쓰기 a는 추가모드라서 제거되지 않음.)\n"
   ]
  },
  {
   "cell_type": "code",
   "execution_count": 21,
   "id": "aa42cf37",
   "metadata": {},
   "outputs": [
    {
     "name": "stdout",
     "output_type": "stream",
     "text": [
      "[1, 2, '짝', 4, 5, '짝', 7, 8, '짝']\n"
     ]
    }
   ],
   "source": [
    "#3 369 게임은 숫자에 3, 6, 9가 들어가면 박수를 치고, 나머지 숫자는 그대로 이야기하는 게임입니다. \n",
    "#369 게임을 시뮬레이션하는 game_369 함수를 정의하라. 함수는 숫자의 리스트를 입력받는다. 리스트에는 0 ~ 9 까지의 숫자가 들어있다. \n",
    "# 입력된 숫자에 3/6/9가 포함되면 \"짝\" 문자열을 그렇지 않을 경우 숫자를 그대로 리스트에 저장한다. \n",
    "#* 함수는 변환된 리스트를 반환한다.\n",
    "\n",
    "game_369 =  [1, 2, 3, 4, 5, 6, 7, 8, 9] \n",
    "ans3 = []\n",
    "for i in game_369:\n",
    "    if i%3 == 0:\n",
    "        ans3.append(\"짝\")\n",
    "    else:\n",
    "        ans3.append(i)\n",
    "print(ans3)\n",
    "        "
   ]
  },
  {
   "cell_type": "code",
   "execution_count": 41,
   "id": "80b77539",
   "metadata": {},
   "outputs": [
    {
     "name": "stdout",
     "output_type": "stream",
     "text": [
      "[0, 1, 2, '짝', 4, 5, '짝', 7, 8, '짝', 10, 11, 12, '짝', 14, 15, '짝', 17, 18, '짝', 20, 21, 22, '짝', 24, 25, '짝', 27, 28, '짝', '짝', '짝', '짝', '짝', '짝', '짝', '짝', '짝', '짝', '짝', 40, 41, 42, '짝', 44, 45, '짝', 47, 48, '짝', 50, 51, 52, '짝', 54, 55, '짝', 57, 58, '짝', '짝', '짝', '짝', '짝', '짝', '짝', '짝', '짝', '짝', '짝', 70, 71, 72, '짝', 74, 75, '짝', 77, 78, '짝', 80, 81, 82, '짝', 84, 85, '짝', 87, 88, '짝', '짝', '짝', '짝', '짝', '짝', '짝', '짝', '짝', '짝', '짝']\n"
     ]
    }
   ],
   "source": [
    "#4 3번에 정의한 함수를 0~99 까지 정상동작하도록 수정하라.\n",
    "ans3 = []\n",
    "for i in range(0,100):\n",
    "    if i//10 == 0 :\n",
    "        if i%3 == 0 and i!=0:\n",
    "            ans3.append(\"짝\")\n",
    "        else:\n",
    "            ans3.append(i)\n",
    "    else:\n",
    "        j = i//10\n",
    "        k = i%10\n",
    "        if j!=0 and j%3 == 0 or k!=0 and k%3 == 0:\n",
    "            ans3.append(\"짝\")\n",
    "        else:\n",
    "            ans3.append(i)\n",
    "print(ans3)"
   ]
  },
  {
   "cell_type": "code",
   "execution_count": 48,
   "id": "2d0234c9",
   "metadata": {},
   "outputs": [
    {
     "name": "stdout",
     "output_type": "stream",
     "text": [
      "{33, 3, 5, 43, 19, 22}\n"
     ]
    }
   ],
   "source": [
    "# 5아래 코드는 임의의 수를 생성하는 코드이다. randint(1, 10)은 1부터 10사이의 수를 임의로 생성한다. 코드를 실행할 때마다 다른 숫자가 출력된다.\n",
    "import random\n",
    "# print(random.randint(1, 10))\n",
    "# 중복되는 수가 없이 6개의 로또 번호를 생성하는 make_lotto_without_replacement 함수를 정의하라.\n",
    "def make_lotto_without_replacement():\n",
    "    lotto_list = set()\n",
    "    while len(lotto_list) < 6:\n",
    "        a = random.randint(1, 45)\n",
    "        lotto_list.add(a)\n",
    "    print(lotto_list)\n",
    "\n",
    "make_lotto_without_replacement() \n"
   ]
  },
  {
   "cell_type": "code",
   "execution_count": 72,
   "id": "a3ce228f",
   "metadata": {},
   "outputs": [
    {
     "name": "stdout",
     "output_type": "stream",
     "text": [
      "파일명을 입력하세요: 12.xip\n",
      "012.xip\n"
     ]
    }
   ],
   "source": [
    "# 6 표준 입력으로 숫자.확장자 형식으로 된 파일 이름 여러 개가 입력됩니다. \n",
    "# 파일 이름이 숫자 3개이면서 앞에 0이 들어가는 형식으로 출력되게 만드세요. \n",
    "# 예를 들어 1.png는 001.png, 99.docx는 099.docx, 100.xlsx는 100.xlsx처럼 출력되어야 합니다. \n",
    "# 그리고 람다 표현식을 사용해야 하며 출력 결과는 리스트 형태라야 합니다. \n",
    "# 람다 표현식에서 파일명을 처리할 때는 문자열 포매팅과 문자열 메서드를 활용하세요.\n",
    "\n",
    "nametwo = (input(\"파일명을 입력하세요: \")).split(\".\")\n",
    "print((lambda x: f\"{int(x[0]):03d}.{x[1]}\")(nametwo))\n"
   ]
  },
  {
   "cell_type": "code",
   "execution_count": 4,
   "id": "25e92bdc",
   "metadata": {},
   "outputs": [
    {
     "name": "stdout",
     "output_type": "stream",
     "text": [
      "숫자를 입력하세요: 005934678\n",
      "0*05-9-34*678\n"
     ]
    }
   ],
   "source": [
    "# 7  DashInsert 함수는 숫자로 구성된 문자열을 입력받은 뒤 문자열 안에서 홀수가 연속되면 두 수 사이에 - 를 추가하고, \n",
    "# 가 연속되면 * 를 추가하는 기능을 갖고 있다. c 함수를 완성하시오.\n",
    "def DashInsert(num):\n",
    "    retu = [num[0]]     \n",
    "    for i in range(1, len(num)):\n",
    "        now = int(num[i])\n",
    "        prev = int(num[i - 1])\n",
    "        \n",
    "        # 현재 숫자와 이전 숫자가 모두 홀수일 때\n",
    "        if now % 2 == 1 and prev % 2 == 1:\n",
    "            retu.extend([\"-\", str(now)])  \n",
    "        # 현재 숫자와 이전 숫자가 모두 짝수일 때\n",
    "        elif now % 2 == 0 and prev % 2 == 0:\n",
    "            retu.extend([\"*\", str(now)]) \n",
    "        else:\n",
    "            retu.append(str(now)) \n",
    "    \n",
    "    return ''.join(retu)\n",
    "\n",
    "num = input(\"숫자를 입력하세요: \")\n",
    "print(DashInsert(num))"
   ]
  },
  {
   "cell_type": "code",
   "execution_count": 79,
   "id": "a083caa1",
   "metadata": {},
   "outputs": [
    {
     "name": "stdout",
     "output_type": "stream",
     "text": [
      "숫자를 입력하세요: 1122345566\n",
      "1-12*2345-56*6\n"
     ]
    }
   ],
   "source": [
    "8 문자열 압축하기\n",
    "문자열을 입력받아 같은 문자가 연속적으로 반복되는 경우에 그 반복 횟수를 표시해 문자열을 압축하여 표시하시오."
   ]
  },
  {
   "cell_type": "code",
   "execution_count": 86,
   "id": "a1f3e95e",
   "metadata": {},
   "outputs": [
    {
     "name": "stdout",
     "output_type": "stream",
     "text": [
      "알파벳 문자를 입력하세요: aaaavvvggggddddd\n",
      "a4v3g4"
     ]
    }
   ],
   "source": [
    "munza = input(\"알파벳 문자를 입력하세요: \")\n",
    "\n",
    "stack = 1\n",
    "for i in range(len(munza)-1):\n",
    "    if munza[i] == munza[i + 1]:\n",
    "        stack += 1\n",
    "    elif munza[i] != munza[i + 1]:\n",
    "        print(f\"{munza[i]}{stack}\",end =\"\")\n",
    "        stack = 1\n",
    "        \n",
    "        \n",
    "    "
   ]
  },
  {
   "cell_type": "code",
   "execution_count": null,
   "id": "83e697a9",
   "metadata": {},
   "outputs": [],
   "source": []
  }
 ],
 "metadata": {
  "kernelspec": {
   "display_name": "Python 3 (ipykernel)",
   "language": "python",
   "name": "python3"
  },
  "language_info": {
   "codemirror_mode": {
    "name": "ipython",
    "version": 3
   },
   "file_extension": ".py",
   "mimetype": "text/x-python",
   "name": "python",
   "nbconvert_exporter": "python",
   "pygments_lexer": "ipython3",
   "version": "3.11.4"
  }
 },
 "nbformat": 4,
 "nbformat_minor": 5
}
