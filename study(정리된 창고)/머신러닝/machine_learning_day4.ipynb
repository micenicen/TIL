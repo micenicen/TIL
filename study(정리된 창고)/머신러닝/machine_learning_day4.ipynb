{
 "cells": [
  {
   "cell_type": "code",
   "execution_count": null,
   "id": "98bcdfad",
   "metadata": {},
   "outputs": [],
   "source": [
    "# knn regressor를 사용해보자. \n",
    "# knn알고리즘은 동일하다. 다만 regressor는 다른 점이 있다.예측 방향이 다르다. 원리 자체는 같다.\n",
    "# 어제의 분류는 이진분류를 수행하였다. 클래스가 여러개가 있더라도 분류가 가능하다. 다중분류 또한 knn으로 할 수 있다.\n",
    "# k-means++, h-clustering, DBSCAN 수업예정이다.\n",
    "# 미국 5만명 청소년이 sns 상에서 친구들과 주고받은 대화 중 빈도수가 높은 단어를 가지고 클러스터링 및 해석 실습을 해보자. \n"
   ]
  },
  {
   "cell_type": "code",
   "execution_count": null,
   "id": "3b85503b",
   "metadata": {},
   "outputs": [],
   "source": [
    "# 클러스터링(군집화)은 클러스터(군집)를 생성하는 작업을 말한다. 유사한 데이터끼리 묶는 것이다.\n",
    "# 데이터에 레이블이 없다는 특징이 있다. 예시로 뉴스기사도 레이블이 없다.  \n",
    "# 정답은 따로 분류되어있지 않다. 다만 유사한 것과 묶는 것은 시도할 수 있다.\n",
    "# 뉴스기사(데이터)는 레이블이 따로 없으므로 레이블을 만드는 방식으로 따로 학습하는 것이다. \n"
   ]
  },
  {
   "cell_type": "code",
   "execution_count": 1,
   "id": "ea10dcbe",
   "metadata": {},
   "outputs": [],
   "source": [
    "# 비지도학습 \n",
    "# 레이블이 없는 데이터에서 특징 파악을 통해 일정한 규칙을 찾아내는 머신러닝 기법이다.\n",
    "# 비지도학습으로 정답을 주지 않고 시작한다. \n",
    "# knn알고리즘은 정답을 주고 판단했다. 이번에는 정답을 주지 않고 학습을 할 것이다.\n",
    "# 유사한 데이터를 묶는 작업을 하는 것도 비지도 학습이라고 할 수 있다.\n",
    "# 뉴스, 사진, 음악별로 묶는 것도 이에 해당된다. "
   ]
  },
  {
   "cell_type": "code",
   "execution_count": 2,
   "id": "66d55342",
   "metadata": {},
   "outputs": [],
   "source": [
    "# 군집 알고리즘 종류\n",
    "# 1. K평균 군집화 \n",
    "# 2. 계층적 군집화 \n",
    "# 3. DBSCAN\n"
   ]
  },
  {
   "cell_type": "code",
   "execution_count": 3,
   "id": "f8529892",
   "metadata": {},
   "outputs": [],
   "source": [
    "# K평균 군집화 \n",
    "# 가장 많이 사용하는 군집화 방법이다.\n",
    "# k값을 설정하고 중심을 설정한다 -> 데이터의 클러스터를 결정한다. -> 클러스터 내 중심을 이동한다.. -> 중심이 변경되지 않을때까지 2,3단계를 반복한다.\n",
    "# 엘보우 그래프를 그리면 최적의 k값을 알아낼 수 있다. 군집의 중심점과 군집에 속하 데이터사이의 거리에 해당하는 k값을 최적의 k값으로 본다. \n",
    "# 좋은 군집화 결과의 의미는 군집과 군집사이의 거리는 멀리 떨어지고 같은 군집의 데이터끼리는 거리가 좁아야 한다.\n",
    "# 우리는 군집화가 잘 되어있기를 원한다. \n",
    "# 먼저 중심점을 정한 이후 모든 데이터들과의 거리를 전부 구한다. \n",
    "# 거리를 구할 때 유클리드 사용하게된다.\n",
    "# 주의점은 모든 데이터의 거리를 구할 경우 정규화/표준화작업을 먼저 진행하고 해야 한다. \n",
    "# 클러스터의 중심점이 이동을 하지만 클러스터의 평균 점의 위치를 알아내게 되어 알아내게 된다. \n",
    "# 중심점이 변경되지 않을때까지 계속 반복될 것이다. 평균값으로 중심점을 계속서 추가하는 것이다. \n",
    "# 초기에 k개만큼의 중심설정이 나오자마자 전체 결과에서도 매우 중요하다. \n",
    "# 또한 위치 또한 중요하다. K값의 지정이 매우 중요하다. \n"
   ]
  },
  {
   "cell_type": "code",
   "execution_count": 4,
   "id": "4108a209",
   "metadata": {},
   "outputs": [],
   "source": [
    "# k값과 최초 중심설정은 무작위적,직접 설정하기(이건 시각화를 해 봐야한다. kmeans(어재까지 사용한 자료이다. )\n",
    "# kmeans++은 임의의 점을 스스로 선태까능하다.\n",
    "# 표면상의 위치에서 가장 멀리떨진 곳을 찾는다. \n",
    "# 데이터 점과 가장 멀리떨어진 중심점을 찾는다. \n",
    "# 무작위로 알고리즘을 설정한 다음에 무작위로 클러스터 중심으로 정한다. \n",
    "# 그리고 데이터를 가장 가까운 클러스터로 결정한다. \n",
    "# 간단한 알고리즘으로 구현하는게 용이하다는 장점이 있으며 속도가 빠르다.\n",
    "# 초기 클러스터의 개수와 중심에 따라 결과가 크게 달라지는 단점이 존재하며 결과해석의 결과는 제각각이다. \n",
    "# 엘보우 그래프를 통해 적절한 k값을 찾거나 차원축소를 해야한다. "
   ]
  },
  {
   "cell_type": "code",
   "execution_count": 5,
   "id": "cf8b9cce",
   "metadata": {},
   "outputs": [],
   "source": [
    "# 계층별 군집화 (h-clustering)\n",
    "# 계층적 트리모형을 이용하여 개별 개체들을 순차적, 계층적으로 우사한 그롭과 통합하여 군집화를 수행하는 알고리즘이다.\n",
    "# 군집간의 거리를 기반으로 군집화를 수행한다. \n",
    "# 마치 나무뿌리처럼 생겼다고 해서 덴드로그램이라고 한다. \n",
    "# 위쪽에 하나의 군집이 있고 밑으로 내려갈수록 군집이 많아진다.\n",
    "# 군집의 갯수를 처음에 정할 필요가 없다. 군집도를 보고 선택하면 된다. \n",
    "# 순차적, 계층적으로 유사한 데이터들을 합치면서 나아가는 군집화 방법이다.\n",
    "# 군집간의 거리를 계산할때 유클리드 측정을 하는데 만약 점이 여러개일때 어떤 점을 기준으로 하느냐가 의문일 것이다.\n",
    "# 가장 가까운 단일기준결합방식, 가장 먼 완전기준결합방식,평균기준 결합방식\n",
    "# 단일기준결합방식은 가장 가깝고 완전기준결하방식은 가장 멀다. \n",
    "# 시간이 걸리고 성능이중요하다면 현재가 훨씬 더 효율량에서 앞선다. \n",
    "# 데이터를 직접 선택하는 특성상 적정한 수준의 군집의 갯수를 설정하면 된다.\n"
   ]
  },
  {
   "cell_type": "code",
   "execution_count": 6,
   "id": "32bc32e7",
   "metadata": {},
   "outputs": [],
   "source": [
    "# DBSCAN\n",
    "# 공간클러스팅을 기반으로 데이터를 나누는데 \n",
    "# 밀도를 계산하기 위해서는 점이 많이 모인 쪽이 정보가 많다고 판단하고 클러스터링을 한다.\n",
    "# 두 개 이상의 파일은 서로 젼혀 다른 파일이다.\n",
    "# 반경 안에 들어가야할 점의 갓수를 지정하는 경우가 많다.\n",
    "# 반경 엡실론 이내에 점의 갯수가 사전에 설정된 갯수만큼 있을 때 군집으로 보게 된다. \n",
    "# 그 중심이 되는 점을 코어포인트라고 부른다. \n",
    "# 기준점으로부터 반경을 엡실론(반경, 반지름)이라고 한다. 그리고 가운데 점을 코어포인트라고 한다. \n",
    "# 어떠한 점은 코어포인트가 될 수 있고 어떠한 점은 코어포인트로서 적합하지 않다. \n",
    "# 설정을 mmpts = 4로 하면 minimum mean points를 의미한다. 반경 이내에 점이 3개 이하라면 이것은 corepoints라고 할 수 없다. \n",
    "# 다만 군집의 중심점이 될 수 없더라도 다른 군집에서 데이터포인트가 될 수 있다. 이것을 경계점(border points이라고 한다. \n",
    "# 다른 코어 포인트가 포함되어져 있는 경우가 존재한다. 이런 경우는 군집이 합쳐지는 경우이다. \n",
    "# 군집포인트가 합쳐진 경우인 것이다. \n",
    "# 혼자 떨어진 존재는 노이즈, 아웃라이어(극단치)라고 부른다. \n",
    "# 즉 노이즈를 찾는데 상당히 유용하다.\n",
    "# 포인트를 데이터라고 해석하면 된다. "
   ]
  },
  {
   "cell_type": "code",
   "execution_count": 7,
   "id": "e2ecd932",
   "metadata": {},
   "outputs": [],
   "source": [
    "# 밀집기반\n",
    "# 비선형구조로 되어있을 경우 구분이 어렵다. 이런 상황에서 DB스캔을 사용하는 것이다.\n",
    "# 데이터가 가까우면 같은 클러스터화된다. 데이터가 멀면 독립 클러스터로 정해진다.\n",
    "# 그림을 식별하는 원리는 이와 같은 것이다. 반경이 적당해야 하고 데이터 수도 적당해야 한다. 너무 작게하면 뭉쳐버리고 크게하면 흩어진다. \n",
    "# 하이퍼파라미터는 mean과 epsilon을 직접 지정해야 한다."
   ]
  },
  {
   "cell_type": "code",
   "execution_count": 8,
   "id": "831b8084",
   "metadata": {},
   "outputs": [],
   "source": [
    "# knn regressor 에 대한 설명\n",
    "# 리그레서는 상당수의 머신러닝 알고리즘에서 가지고 있다. \n",
    "# knn에서 regressor가 있고 classifrer가 있다. "
   ]
  },
  {
   "cell_type": "code",
   "execution_count": 9,
   "id": "4b5d20d1",
   "metadata": {},
   "outputs": [],
   "source": [
    "# 회귀 알고리즘\n",
    "# 연속형 값을 예측하는 알고리즘이다.\n",
    "# 우리는 knn알고리즘을 공부했었다. 특정 반경 내의 데이터로 현 데이터를 분류하는 것이었다. \n",
    "# 범위와 이웃의 갯수를 고려해야 했다. \n",
    "# 실제값과 예측값 사이의 차이를 애러라고 부른다. \n",
    "# squared error를 해서 전부 더해서 평균을 구하는데 이것을 MSE(mene squared error)라고 한다.\n",
    "# 더 나아가서 제곱근(루트)를 씌워서 RMSE(route mene squared error)로 사용하기도 한다.\n",
    "# 실제값과 예측값이 얼마나 다른지를 나타내는 것들이다. 이 숫자들이 낮을수록 오류가 적다고 본다.\n",
    "# 이게 regressor의 기본 동작 원리이다.\n",
    "# 결측값을 대체할 경우에 많이 쓴다. 불어시험을 봤지만 입력자가 실수를 하거나 삭제하는 등 다른 값으로 대체해야하는데 이럴경우 knn regressor를 쓴다.\n",
    "# 실제값과 예측값 사이의 차이를 가지고 평가하게 된다. \n",
    "# 가중평균은 거리가 가까울수록 더 크게 반영햐는 방식이다. \n",
    "# 가중평균은 각각의 거리의 역수를 취한다. 모두를 더한다. 거리가 1,2,3이면 1/1, 1/2, 1/3을 취급하는 것이다. \n",
    "# 이 역수를 전부 더한 값인 11/6을 거리역수라고 한다. 그리고 분자가 구하고자 하는 값, 분모는 거리의 역수로 하여 나눈다. "
   ]
  },
  {
   "cell_type": "code",
   "execution_count": 10,
   "id": "00af0287",
   "metadata": {},
   "outputs": [],
   "source": [
    "# knn regressor를 본격적으로 이용해보자.\n",
    "import pandas as pd\n",
    "import numpy as np"
   ]
  },
  {
   "cell_type": "code",
   "execution_count": 46,
   "id": "3a3df6b3",
   "metadata": {},
   "outputs": [
    {
     "name": "stderr",
     "output_type": "stream",
     "text": [
      "C:\\Users\\user\\AppData\\Local\\Temp\\ipykernel_10688\\2553230274.py:1: DtypeWarning: Columns (4) have mixed types. Specify dtype option on import or set low_memory=False.\n",
      "  movie_dataset = pd.read_csv(\"title.basics.tsv\",delimiter=\"\\t\") # tsv파일은 공백으로 구분이 된 파일들이다. 딜리미터를 이용하여 열어야 한다.\n"
     ]
    },
    {
     "data": {
      "text/html": [
       "<div>\n",
       "<style scoped>\n",
       "    .dataframe tbody tr th:only-of-type {\n",
       "        vertical-align: middle;\n",
       "    }\n",
       "\n",
       "    .dataframe tbody tr th {\n",
       "        vertical-align: top;\n",
       "    }\n",
       "\n",
       "    .dataframe thead th {\n",
       "        text-align: right;\n",
       "    }\n",
       "</style>\n",
       "<table border=\"1\" class=\"dataframe\">\n",
       "  <thead>\n",
       "    <tr style=\"text-align: right;\">\n",
       "      <th></th>\n",
       "      <th>tconst</th>\n",
       "      <th>titleType</th>\n",
       "      <th>primaryTitle</th>\n",
       "      <th>originalTitle</th>\n",
       "      <th>isAdult</th>\n",
       "      <th>startYear</th>\n",
       "      <th>endYear</th>\n",
       "      <th>runtimeMinutes</th>\n",
       "      <th>genres</th>\n",
       "    </tr>\n",
       "  </thead>\n",
       "  <tbody>\n",
       "    <tr>\n",
       "      <th>0</th>\n",
       "      <td>tt0000001</td>\n",
       "      <td>short</td>\n",
       "      <td>Carmencita</td>\n",
       "      <td>Carmencita</td>\n",
       "      <td>0</td>\n",
       "      <td>1894</td>\n",
       "      <td>\\N</td>\n",
       "      <td>1</td>\n",
       "      <td>Documentary,Short</td>\n",
       "    </tr>\n",
       "    <tr>\n",
       "      <th>1</th>\n",
       "      <td>tt0000002</td>\n",
       "      <td>short</td>\n",
       "      <td>Le clown et ses chiens</td>\n",
       "      <td>Le clown et ses chiens</td>\n",
       "      <td>0</td>\n",
       "      <td>1892</td>\n",
       "      <td>\\N</td>\n",
       "      <td>5</td>\n",
       "      <td>Animation,Short</td>\n",
       "    </tr>\n",
       "    <tr>\n",
       "      <th>2</th>\n",
       "      <td>tt0000003</td>\n",
       "      <td>short</td>\n",
       "      <td>Pauvre Pierrot</td>\n",
       "      <td>Pauvre Pierrot</td>\n",
       "      <td>0</td>\n",
       "      <td>1892</td>\n",
       "      <td>\\N</td>\n",
       "      <td>4</td>\n",
       "      <td>Animation,Comedy,Romance</td>\n",
       "    </tr>\n",
       "    <tr>\n",
       "      <th>3</th>\n",
       "      <td>tt0000004</td>\n",
       "      <td>short</td>\n",
       "      <td>Un bon bock</td>\n",
       "      <td>Un bon bock</td>\n",
       "      <td>0</td>\n",
       "      <td>1892</td>\n",
       "      <td>\\N</td>\n",
       "      <td>12</td>\n",
       "      <td>Animation,Short</td>\n",
       "    </tr>\n",
       "    <tr>\n",
       "      <th>4</th>\n",
       "      <td>tt0000005</td>\n",
       "      <td>short</td>\n",
       "      <td>Blacksmith Scene</td>\n",
       "      <td>Blacksmith Scene</td>\n",
       "      <td>0</td>\n",
       "      <td>1893</td>\n",
       "      <td>\\N</td>\n",
       "      <td>1</td>\n",
       "      <td>Comedy,Short</td>\n",
       "    </tr>\n",
       "    <tr>\n",
       "      <th>...</th>\n",
       "      <td>...</td>\n",
       "      <td>...</td>\n",
       "      <td>...</td>\n",
       "      <td>...</td>\n",
       "      <td>...</td>\n",
       "      <td>...</td>\n",
       "      <td>...</td>\n",
       "      <td>...</td>\n",
       "      <td>...</td>\n",
       "    </tr>\n",
       "    <tr>\n",
       "      <th>10240753</th>\n",
       "      <td>tt9916848</td>\n",
       "      <td>tvEpisode</td>\n",
       "      <td>Episode #3.17</td>\n",
       "      <td>Episode #3.17</td>\n",
       "      <td>0</td>\n",
       "      <td>2009</td>\n",
       "      <td>\\N</td>\n",
       "      <td>\\N</td>\n",
       "      <td>Action,Drama,Family</td>\n",
       "    </tr>\n",
       "    <tr>\n",
       "      <th>10240754</th>\n",
       "      <td>tt9916850</td>\n",
       "      <td>tvEpisode</td>\n",
       "      <td>Episode #3.19</td>\n",
       "      <td>Episode #3.19</td>\n",
       "      <td>0</td>\n",
       "      <td>2010</td>\n",
       "      <td>\\N</td>\n",
       "      <td>\\N</td>\n",
       "      <td>Action,Drama,Family</td>\n",
       "    </tr>\n",
       "    <tr>\n",
       "      <th>10240755</th>\n",
       "      <td>tt9916852</td>\n",
       "      <td>tvEpisode</td>\n",
       "      <td>Episode #3.20</td>\n",
       "      <td>Episode #3.20</td>\n",
       "      <td>0</td>\n",
       "      <td>2010</td>\n",
       "      <td>\\N</td>\n",
       "      <td>\\N</td>\n",
       "      <td>Action,Drama,Family</td>\n",
       "    </tr>\n",
       "    <tr>\n",
       "      <th>10240756</th>\n",
       "      <td>tt9916856</td>\n",
       "      <td>short</td>\n",
       "      <td>The Wind</td>\n",
       "      <td>The Wind</td>\n",
       "      <td>0</td>\n",
       "      <td>2015</td>\n",
       "      <td>\\N</td>\n",
       "      <td>27</td>\n",
       "      <td>Short</td>\n",
       "    </tr>\n",
       "    <tr>\n",
       "      <th>10240757</th>\n",
       "      <td>tt9916880</td>\n",
       "      <td>tvEpisode</td>\n",
       "      <td>Horrid Henry Knows It All</td>\n",
       "      <td>Horrid Henry Knows It All</td>\n",
       "      <td>0</td>\n",
       "      <td>2014</td>\n",
       "      <td>\\N</td>\n",
       "      <td>10</td>\n",
       "      <td>Adventure,Animation,Comedy</td>\n",
       "    </tr>\n",
       "  </tbody>\n",
       "</table>\n",
       "<p>10240758 rows × 9 columns</p>\n",
       "</div>"
      ],
      "text/plain": [
       "             tconst  titleType               primaryTitle  \\\n",
       "0         tt0000001      short                 Carmencita   \n",
       "1         tt0000002      short     Le clown et ses chiens   \n",
       "2         tt0000003      short             Pauvre Pierrot   \n",
       "3         tt0000004      short                Un bon bock   \n",
       "4         tt0000005      short           Blacksmith Scene   \n",
       "...             ...        ...                        ...   \n",
       "10240753  tt9916848  tvEpisode              Episode #3.17   \n",
       "10240754  tt9916850  tvEpisode              Episode #3.19   \n",
       "10240755  tt9916852  tvEpisode              Episode #3.20   \n",
       "10240756  tt9916856      short                   The Wind   \n",
       "10240757  tt9916880  tvEpisode  Horrid Henry Knows It All   \n",
       "\n",
       "                      originalTitle isAdult startYear endYear runtimeMinutes  \\\n",
       "0                        Carmencita       0      1894      \\N              1   \n",
       "1            Le clown et ses chiens       0      1892      \\N              5   \n",
       "2                    Pauvre Pierrot       0      1892      \\N              4   \n",
       "3                       Un bon bock       0      1892      \\N             12   \n",
       "4                  Blacksmith Scene       0      1893      \\N              1   \n",
       "...                             ...     ...       ...     ...            ...   \n",
       "10240753              Episode #3.17       0      2009      \\N             \\N   \n",
       "10240754              Episode #3.19       0      2010      \\N             \\N   \n",
       "10240755              Episode #3.20       0      2010      \\N             \\N   \n",
       "10240756                   The Wind       0      2015      \\N             27   \n",
       "10240757  Horrid Henry Knows It All       0      2014      \\N             10   \n",
       "\n",
       "                              genres  \n",
       "0                  Documentary,Short  \n",
       "1                    Animation,Short  \n",
       "2           Animation,Comedy,Romance  \n",
       "3                    Animation,Short  \n",
       "4                       Comedy,Short  \n",
       "...                              ...  \n",
       "10240753         Action,Drama,Family  \n",
       "10240754         Action,Drama,Family  \n",
       "10240755         Action,Drama,Family  \n",
       "10240756                       Short  \n",
       "10240757  Adventure,Animation,Comedy  \n",
       "\n",
       "[10240758 rows x 9 columns]"
      ]
     },
     "execution_count": 46,
     "metadata": {},
     "output_type": "execute_result"
    }
   ],
   "source": [
    "movie_dataset = pd.read_csv(\"title.basics.tsv\",delimiter=\"\\t\") # tsv파일은 공백으로 구분이 된 파일들이다. 딜리미터를 이용하여 열어야 한다.\n",
    "movie_dataset # 천만건의 데이터가 존재한다. "
   ]
  },
  {
   "cell_type": "code",
   "execution_count": 47,
   "id": "e0b04844",
   "metadata": {},
   "outputs": [
    {
     "data": {
      "text/html": [
       "<div>\n",
       "<style scoped>\n",
       "    .dataframe tbody tr th:only-of-type {\n",
       "        vertical-align: middle;\n",
       "    }\n",
       "\n",
       "    .dataframe tbody tr th {\n",
       "        vertical-align: top;\n",
       "    }\n",
       "\n",
       "    .dataframe thead th {\n",
       "        text-align: right;\n",
       "    }\n",
       "</style>\n",
       "<table border=\"1\" class=\"dataframe\">\n",
       "  <thead>\n",
       "    <tr style=\"text-align: right;\">\n",
       "      <th></th>\n",
       "      <th>tconst</th>\n",
       "      <th>averageRating</th>\n",
       "      <th>numVotes</th>\n",
       "    </tr>\n",
       "  </thead>\n",
       "  <tbody>\n",
       "    <tr>\n",
       "      <th>0</th>\n",
       "      <td>tt0000001</td>\n",
       "      <td>5.7</td>\n",
       "      <td>2002</td>\n",
       "    </tr>\n",
       "    <tr>\n",
       "      <th>1</th>\n",
       "      <td>tt0000002</td>\n",
       "      <td>5.8</td>\n",
       "      <td>269</td>\n",
       "    </tr>\n",
       "    <tr>\n",
       "      <th>2</th>\n",
       "      <td>tt0000003</td>\n",
       "      <td>6.5</td>\n",
       "      <td>1892</td>\n",
       "    </tr>\n",
       "    <tr>\n",
       "      <th>3</th>\n",
       "      <td>tt0000004</td>\n",
       "      <td>5.5</td>\n",
       "      <td>178</td>\n",
       "    </tr>\n",
       "    <tr>\n",
       "      <th>4</th>\n",
       "      <td>tt0000005</td>\n",
       "      <td>6.2</td>\n",
       "      <td>2679</td>\n",
       "    </tr>\n",
       "    <tr>\n",
       "      <th>...</th>\n",
       "      <td>...</td>\n",
       "      <td>...</td>\n",
       "      <td>...</td>\n",
       "    </tr>\n",
       "    <tr>\n",
       "      <th>1359874</th>\n",
       "      <td>tt9916730</td>\n",
       "      <td>7.6</td>\n",
       "      <td>11</td>\n",
       "    </tr>\n",
       "    <tr>\n",
       "      <th>1359875</th>\n",
       "      <td>tt9916766</td>\n",
       "      <td>7.0</td>\n",
       "      <td>22</td>\n",
       "    </tr>\n",
       "    <tr>\n",
       "      <th>1359876</th>\n",
       "      <td>tt9916778</td>\n",
       "      <td>7.2</td>\n",
       "      <td>36</td>\n",
       "    </tr>\n",
       "    <tr>\n",
       "      <th>1359877</th>\n",
       "      <td>tt9916840</td>\n",
       "      <td>8.8</td>\n",
       "      <td>6</td>\n",
       "    </tr>\n",
       "    <tr>\n",
       "      <th>1359878</th>\n",
       "      <td>tt9916880</td>\n",
       "      <td>8.2</td>\n",
       "      <td>6</td>\n",
       "    </tr>\n",
       "  </tbody>\n",
       "</table>\n",
       "<p>1359879 rows × 3 columns</p>\n",
       "</div>"
      ],
      "text/plain": [
       "            tconst  averageRating  numVotes\n",
       "0        tt0000001            5.7      2002\n",
       "1        tt0000002            5.8       269\n",
       "2        tt0000003            6.5      1892\n",
       "3        tt0000004            5.5       178\n",
       "4        tt0000005            6.2      2679\n",
       "...            ...            ...       ...\n",
       "1359874  tt9916730            7.6        11\n",
       "1359875  tt9916766            7.0        22\n",
       "1359876  tt9916778            7.2        36\n",
       "1359877  tt9916840            8.8         6\n",
       "1359878  tt9916880            8.2         6\n",
       "\n",
       "[1359879 rows x 3 columns]"
      ]
     },
     "execution_count": 47,
     "metadata": {},
     "output_type": "execute_result"
    }
   ],
   "source": [
    "movie_ratings=pd.read_csv(\"title.ratings.tsv\", delimiter=\"\\t\")\n",
    "movie_ratings # 영화의 평점들의 모임이다. "
   ]
  },
  {
   "cell_type": "code",
   "execution_count": 48,
   "id": "de2eafa5",
   "metadata": {},
   "outputs": [
    {
     "name": "stdout",
     "output_type": "stream",
     "text": [
      "<class 'pandas.core.frame.DataFrame'>\n",
      "RangeIndex: 10240758 entries, 0 to 10240757\n",
      "Data columns (total 9 columns):\n",
      " #   Column          Dtype \n",
      "---  ------          ----- \n",
      " 0   tconst          object\n",
      " 1   titleType       object\n",
      " 2   primaryTitle    object\n",
      " 3   originalTitle   object\n",
      " 4   isAdult         object\n",
      " 5   startYear       object\n",
      " 6   endYear         object\n",
      " 7   runtimeMinutes  object\n",
      " 8   genres          object\n",
      "dtypes: object(9)\n",
      "memory usage: 703.2+ MB\n"
     ]
    }
   ],
   "source": [
    "# 데이터가 너무 많기 때문에 일부만 작업하자. \n",
    "# 먼저 정보를 확인해보자.\n",
    "movie_dataset.info()"
   ]
  },
  {
   "cell_type": "code",
   "execution_count": 49,
   "id": "b46d6236",
   "metadata": {},
   "outputs": [
    {
     "data": {
      "text/plain": [
       "0           1894\n",
       "1           1892\n",
       "2           1892\n",
       "3           1892\n",
       "4           1893\n",
       "            ... \n",
       "10240753    2009\n",
       "10240754    2010\n",
       "10240755    2010\n",
       "10240756    2015\n",
       "10240757    2014\n",
       "Name: startYear, Length: 10240758, dtype: object"
      ]
     },
     "execution_count": 49,
     "metadata": {},
     "output_type": "execute_result"
    }
   ],
   "source": [
    "movie_dataset['startYear'] # 연도를 추출해보자. "
   ]
  },
  {
   "cell_type": "code",
   "execution_count": 50,
   "id": "cb3a695f",
   "metadata": {},
   "outputs": [],
   "source": [
    "movie_dataset=movie_dataset[:100]\n",
    "movie_ratings=movie_ratings[:100]"
   ]
  },
  {
   "cell_type": "code",
   "execution_count": 51,
   "id": "eb8dedb6",
   "metadata": {},
   "outputs": [
    {
     "data": {
      "text/html": [
       "<div>\n",
       "<style scoped>\n",
       "    .dataframe tbody tr th:only-of-type {\n",
       "        vertical-align: middle;\n",
       "    }\n",
       "\n",
       "    .dataframe tbody tr th {\n",
       "        vertical-align: top;\n",
       "    }\n",
       "\n",
       "    .dataframe thead th {\n",
       "        text-align: right;\n",
       "    }\n",
       "</style>\n",
       "<table border=\"1\" class=\"dataframe\">\n",
       "  <thead>\n",
       "    <tr style=\"text-align: right;\">\n",
       "      <th></th>\n",
       "      <th>startYear</th>\n",
       "      <th>runtimeMinutes</th>\n",
       "    </tr>\n",
       "  </thead>\n",
       "  <tbody>\n",
       "    <tr>\n",
       "      <th>0</th>\n",
       "      <td>1894</td>\n",
       "      <td>1</td>\n",
       "    </tr>\n",
       "    <tr>\n",
       "      <th>1</th>\n",
       "      <td>1892</td>\n",
       "      <td>5</td>\n",
       "    </tr>\n",
       "    <tr>\n",
       "      <th>2</th>\n",
       "      <td>1892</td>\n",
       "      <td>4</td>\n",
       "    </tr>\n",
       "    <tr>\n",
       "      <th>3</th>\n",
       "      <td>1892</td>\n",
       "      <td>12</td>\n",
       "    </tr>\n",
       "    <tr>\n",
       "      <th>4</th>\n",
       "      <td>1893</td>\n",
       "      <td>1</td>\n",
       "    </tr>\n",
       "    <tr>\n",
       "      <th>...</th>\n",
       "      <td>...</td>\n",
       "      <td>...</td>\n",
       "    </tr>\n",
       "    <tr>\n",
       "      <th>95</th>\n",
       "      <td>1896</td>\n",
       "      <td>\\N</td>\n",
       "    </tr>\n",
       "    <tr>\n",
       "      <th>96</th>\n",
       "      <td>1896</td>\n",
       "      <td>\\N</td>\n",
       "    </tr>\n",
       "    <tr>\n",
       "      <th>97</th>\n",
       "      <td>1896</td>\n",
       "      <td>\\N</td>\n",
       "    </tr>\n",
       "    <tr>\n",
       "      <th>98</th>\n",
       "      <td>1896</td>\n",
       "      <td>\\N</td>\n",
       "    </tr>\n",
       "    <tr>\n",
       "      <th>99</th>\n",
       "      <td>1896</td>\n",
       "      <td>\\N</td>\n",
       "    </tr>\n",
       "  </tbody>\n",
       "</table>\n",
       "<p>100 rows × 2 columns</p>\n",
       "</div>"
      ],
      "text/plain": [
       "   startYear runtimeMinutes\n",
       "0       1894              1\n",
       "1       1892              5\n",
       "2       1892              4\n",
       "3       1892             12\n",
       "4       1893              1\n",
       "..       ...            ...\n",
       "95      1896             \\N\n",
       "96      1896             \\N\n",
       "97      1896             \\N\n",
       "98      1896             \\N\n",
       "99      1896             \\N\n",
       "\n",
       "[100 rows x 2 columns]"
      ]
     },
     "execution_count": 51,
     "metadata": {},
     "output_type": "execute_result"
    }
   ],
   "source": [
    "movie_dataset = movie_dataset[['startYear','runtimeMinutes']]\n",
    "movie_dataset"
   ]
  },
  {
   "cell_type": "code",
   "execution_count": 52,
   "id": "09f6b220",
   "metadata": {},
   "outputs": [
    {
     "name": "stdout",
     "output_type": "stream",
     "text": [
      "<class 'pandas.core.frame.DataFrame'>\n",
      "RangeIndex: 100 entries, 0 to 99\n",
      "Data columns (total 2 columns):\n",
      " #   Column          Non-Null Count  Dtype \n",
      "---  ------          --------------  ----- \n",
      " 0   startYear       100 non-null    object\n",
      " 1   runtimeMinutes  100 non-null    object\n",
      "dtypes: object(2)\n",
      "memory usage: 1.7+ KB\n"
     ]
    }
   ],
   "source": [
    "movie_dataset.info()#둘다 오브젝트로 나온다. "
   ]
  },
  {
   "cell_type": "code",
   "execution_count": 53,
   "id": "e43ebedd",
   "metadata": {},
   "outputs": [
    {
     "data": {
      "text/plain": [
       "1896    67\n",
       "1895    18\n",
       "1894     6\n",
       "1892     3\n",
       "1897     3\n",
       "1898     2\n",
       "1893     1\n",
       "Name: startYear, dtype: int64"
      ]
     },
     "execution_count": 53,
     "metadata": {},
     "output_type": "execute_result"
    }
   ],
   "source": [
    "movie_dataset.startYear.value_counts()#저장된 것이 문자형식으로 저장된 모양이다."
   ]
  },
  {
   "cell_type": "code",
   "execution_count": 54,
   "id": "18dfe553",
   "metadata": {},
   "outputs": [
    {
     "data": {
      "text/plain": [
       "\\N    56\n",
       "1     38\n",
       "5      1\n",
       "4      1\n",
       "12     1\n",
       "45     1\n",
       "2      1\n",
       "3      1\n",
       "Name: runtimeMinutes, dtype: int64"
      ]
     },
     "execution_count": 54,
     "metadata": {},
     "output_type": "execute_result"
    }
   ],
   "source": [
    "movie_dataset.runtimeMinutes.value_counts()#아마 결측값이 N인 모양이다. \n",
    "# 모든 데이터타입을 정수로 변환해보자. 역슬래시n은 최빈수로인 1로 변경을 해보자. "
   ]
  },
  {
   "cell_type": "code",
   "execution_count": 42,
   "id": "277f930a",
   "metadata": {},
   "outputs": [
    {
     "ename": "AttributeError",
     "evalue": "'NoneType' object has no attribute 'runtimeMinutes'",
     "output_type": "error",
     "traceback": [
      "\u001b[1;31m---------------------------------------------------------------------------\u001b[0m",
      "\u001b[1;31mAttributeError\u001b[0m                            Traceback (most recent call last)",
      "Cell \u001b[1;32mIn[42], line 2\u001b[0m\n\u001b[0;32m      1\u001b[0m movie_dataset\u001b[38;5;241m=\u001b[39mmovie_dataset\u001b[38;5;241m.\u001b[39mruntimeMinutes\u001b[38;5;241m.\u001b[39mreplace({\u001b[38;5;124m'\u001b[39m\u001b[38;5;130;01m\\\\\u001b[39;00m\u001b[38;5;124mN\u001b[39m\u001b[38;5;124m'\u001b[39m:\u001b[38;5;124m'\u001b[39m\u001b[38;5;124m1\u001b[39m\u001b[38;5;124m'\u001b[39m},inplace\u001b[38;5;241m=\u001b[39m\u001b[38;5;28;01mTrue\u001b[39;00m)\n\u001b[1;32m----> 2\u001b[0m movie_dataset\u001b[38;5;241m.\u001b[39mruntimeMinutes\u001b[38;5;241m.\u001b[39mastype(\u001b[38;5;124m'\u001b[39m\u001b[38;5;124mint\u001b[39m\u001b[38;5;124m'\u001b[39m)\n",
      "\u001b[1;31mAttributeError\u001b[0m: 'NoneType' object has no attribute 'runtimeMinutes'"
     ]
    }
   ],
   "source": [
    "movie_dataset=movie_dataset.runtimeMinutes.replace({'\\\\N':'1'})\n",
    "movie_dataset.runtimeMinutes.astype('int64')"
   ]
  },
  {
   "cell_type": "code",
   "execution_count": 55,
   "id": "49ce82c7",
   "metadata": {},
   "outputs": [],
   "source": [
    "movie_dataset['startYear'] = movie_dataset['startYear'].astype('int64')\n",
    "\n",
    "movie_dataset['runtimeMinutes'] = movie_dataset['runtimeMinutes'].replace(\"\\\\N\",\"1\").astype('int64')"
   ]
  },
  {
   "cell_type": "code",
   "execution_count": 58,
   "id": "36d89802",
   "metadata": {},
   "outputs": [
    {
     "name": "stdout",
     "output_type": "stream",
     "text": [
      "<class 'pandas.core.frame.DataFrame'>\n",
      "RangeIndex: 100 entries, 0 to 99\n",
      "Data columns (total 2 columns):\n",
      " #   Column          Non-Null Count  Dtype\n",
      "---  ------          --------------  -----\n",
      " 0   startYear       100 non-null    int64\n",
      " 1   runtimeMinutes  100 non-null    int64\n",
      "dtypes: int64(2)\n",
      "memory usage: 1.7 KB\n"
     ]
    }
   ],
   "source": [
    "movie_dataset.info()#일단 잘 된다."
   ]
  },
  {
   "cell_type": "code",
   "execution_count": 60,
   "id": "f9bcd4a4",
   "metadata": {},
   "outputs": [
    {
     "data": {
      "text/html": [
       "<div>\n",
       "<style scoped>\n",
       "    .dataframe tbody tr th:only-of-type {\n",
       "        vertical-align: middle;\n",
       "    }\n",
       "\n",
       "    .dataframe tbody tr th {\n",
       "        vertical-align: top;\n",
       "    }\n",
       "\n",
       "    .dataframe thead th {\n",
       "        text-align: right;\n",
       "    }\n",
       "</style>\n",
       "<table border=\"1\" class=\"dataframe\">\n",
       "  <thead>\n",
       "    <tr style=\"text-align: right;\">\n",
       "      <th></th>\n",
       "      <th>tconst</th>\n",
       "      <th>averageRating</th>\n",
       "      <th>numVotes</th>\n",
       "    </tr>\n",
       "  </thead>\n",
       "  <tbody>\n",
       "    <tr>\n",
       "      <th>0</th>\n",
       "      <td>tt0000001</td>\n",
       "      <td>5.7</td>\n",
       "      <td>2002</td>\n",
       "    </tr>\n",
       "    <tr>\n",
       "      <th>1</th>\n",
       "      <td>tt0000002</td>\n",
       "      <td>5.8</td>\n",
       "      <td>269</td>\n",
       "    </tr>\n",
       "    <tr>\n",
       "      <th>2</th>\n",
       "      <td>tt0000003</td>\n",
       "      <td>6.5</td>\n",
       "      <td>1892</td>\n",
       "    </tr>\n",
       "    <tr>\n",
       "      <th>3</th>\n",
       "      <td>tt0000004</td>\n",
       "      <td>5.5</td>\n",
       "      <td>178</td>\n",
       "    </tr>\n",
       "    <tr>\n",
       "      <th>4</th>\n",
       "      <td>tt0000005</td>\n",
       "      <td>6.2</td>\n",
       "      <td>2679</td>\n",
       "    </tr>\n",
       "    <tr>\n",
       "      <th>...</th>\n",
       "      <td>...</td>\n",
       "      <td>...</td>\n",
       "      <td>...</td>\n",
       "    </tr>\n",
       "    <tr>\n",
       "      <th>95</th>\n",
       "      <td>tt0000097</td>\n",
       "      <td>4.9</td>\n",
       "      <td>34</td>\n",
       "    </tr>\n",
       "    <tr>\n",
       "      <th>96</th>\n",
       "      <td>tt0000098</td>\n",
       "      <td>5.2</td>\n",
       "      <td>37</td>\n",
       "    </tr>\n",
       "    <tr>\n",
       "      <th>97</th>\n",
       "      <td>tt0000099</td>\n",
       "      <td>4.6</td>\n",
       "      <td>33</td>\n",
       "    </tr>\n",
       "    <tr>\n",
       "      <th>98</th>\n",
       "      <td>tt0000100</td>\n",
       "      <td>4.8</td>\n",
       "      <td>55</td>\n",
       "    </tr>\n",
       "    <tr>\n",
       "      <th>99</th>\n",
       "      <td>tt0000101</td>\n",
       "      <td>4.5</td>\n",
       "      <td>29</td>\n",
       "    </tr>\n",
       "  </tbody>\n",
       "</table>\n",
       "<p>100 rows × 3 columns</p>\n",
       "</div>"
      ],
      "text/plain": [
       "       tconst  averageRating  numVotes\n",
       "0   tt0000001            5.7      2002\n",
       "1   tt0000002            5.8       269\n",
       "2   tt0000003            6.5      1892\n",
       "3   tt0000004            5.5       178\n",
       "4   tt0000005            6.2      2679\n",
       "..        ...            ...       ...\n",
       "95  tt0000097            4.9        34\n",
       "96  tt0000098            5.2        37\n",
       "97  tt0000099            4.6        33\n",
       "98  tt0000100            4.8        55\n",
       "99  tt0000101            4.5        29\n",
       "\n",
       "[100 rows x 3 columns]"
      ]
     },
     "execution_count": 60,
     "metadata": {},
     "output_type": "execute_result"
    }
   ],
   "source": [
    "movie_ratings #투표수, 별점등이 있다. 점수만 남기고 제거해보자. "
   ]
  },
  {
   "cell_type": "code",
   "execution_count": 61,
   "id": "f23c76da",
   "metadata": {},
   "outputs": [
    {
     "data": {
      "text/plain": [
       "0     5.7\n",
       "1     5.8\n",
       "2     6.5\n",
       "3     5.5\n",
       "4     6.2\n",
       "     ... \n",
       "95    4.9\n",
       "96    5.2\n",
       "97    4.6\n",
       "98    4.8\n",
       "99    4.5\n",
       "Name: averageRating, Length: 100, dtype: float64"
      ]
     },
     "execution_count": 61,
     "metadata": {},
     "output_type": "execute_result"
    }
   ],
   "source": [
    "movie_ratings = movie_ratings.averageRating\n",
    "movie_ratings"
   ]
  },
  {
   "cell_type": "code",
   "execution_count": 62,
   "id": "bfd51f59",
   "metadata": {},
   "outputs": [
    {
     "data": {
      "text/html": [
       "<div>\n",
       "<style scoped>\n",
       "    .dataframe tbody tr th:only-of-type {\n",
       "        vertical-align: middle;\n",
       "    }\n",
       "\n",
       "    .dataframe tbody tr th {\n",
       "        vertical-align: top;\n",
       "    }\n",
       "\n",
       "    .dataframe thead th {\n",
       "        text-align: right;\n",
       "    }\n",
       "</style>\n",
       "<table border=\"1\" class=\"dataframe\">\n",
       "  <thead>\n",
       "    <tr style=\"text-align: right;\">\n",
       "      <th></th>\n",
       "      <th>startYear</th>\n",
       "      <th>runtimeMinutes</th>\n",
       "    </tr>\n",
       "  </thead>\n",
       "  <tbody>\n",
       "    <tr>\n",
       "      <th>0</th>\n",
       "      <td>1894</td>\n",
       "      <td>1</td>\n",
       "    </tr>\n",
       "    <tr>\n",
       "      <th>1</th>\n",
       "      <td>1892</td>\n",
       "      <td>5</td>\n",
       "    </tr>\n",
       "    <tr>\n",
       "      <th>2</th>\n",
       "      <td>1892</td>\n",
       "      <td>4</td>\n",
       "    </tr>\n",
       "    <tr>\n",
       "      <th>3</th>\n",
       "      <td>1892</td>\n",
       "      <td>12</td>\n",
       "    </tr>\n",
       "    <tr>\n",
       "      <th>4</th>\n",
       "      <td>1893</td>\n",
       "      <td>1</td>\n",
       "    </tr>\n",
       "    <tr>\n",
       "      <th>...</th>\n",
       "      <td>...</td>\n",
       "      <td>...</td>\n",
       "    </tr>\n",
       "    <tr>\n",
       "      <th>95</th>\n",
       "      <td>1896</td>\n",
       "      <td>1</td>\n",
       "    </tr>\n",
       "    <tr>\n",
       "      <th>96</th>\n",
       "      <td>1896</td>\n",
       "      <td>1</td>\n",
       "    </tr>\n",
       "    <tr>\n",
       "      <th>97</th>\n",
       "      <td>1896</td>\n",
       "      <td>1</td>\n",
       "    </tr>\n",
       "    <tr>\n",
       "      <th>98</th>\n",
       "      <td>1896</td>\n",
       "      <td>1</td>\n",
       "    </tr>\n",
       "    <tr>\n",
       "      <th>99</th>\n",
       "      <td>1896</td>\n",
       "      <td>1</td>\n",
       "    </tr>\n",
       "  </tbody>\n",
       "</table>\n",
       "<p>100 rows × 2 columns</p>\n",
       "</div>"
      ],
      "text/plain": [
       "    startYear  runtimeMinutes\n",
       "0        1894               1\n",
       "1        1892               5\n",
       "2        1892               4\n",
       "3        1892              12\n",
       "4        1893               1\n",
       "..        ...             ...\n",
       "95       1896               1\n",
       "96       1896               1\n",
       "97       1896               1\n",
       "98       1896               1\n",
       "99       1896               1\n",
       "\n",
       "[100 rows x 2 columns]"
      ]
     },
     "execution_count": 62,
     "metadata": {},
     "output_type": "execute_result"
    }
   ],
   "source": [
    "movie_dataset"
   ]
  },
  {
   "cell_type": "code",
   "execution_count": 63,
   "id": "cde13098",
   "metadata": {},
   "outputs": [],
   "source": [
    "from sklearn.neighbors import KNeighborsRegressor"
   ]
  },
  {
   "cell_type": "code",
   "execution_count": 66,
   "id": "5751c4e5",
   "metadata": {},
   "outputs": [],
   "source": [
    "model = KNeighborsRegressor(n_neighbors=5, weights='distance')"
   ]
  },
  {
   "cell_type": "markdown",
   "id": "a3cfccff",
   "metadata": {},
   "source": [
    "model.fit(movie_dataset.movie_ratings)"
   ]
  },
  {
   "cell_type": "code",
   "execution_count": 67,
   "id": "3ddc6b51",
   "metadata": {},
   "outputs": [
    {
     "data": {
      "text/html": [
       "<style>#sk-container-id-1 {color: black;}#sk-container-id-1 pre{padding: 0;}#sk-container-id-1 div.sk-toggleable {background-color: white;}#sk-container-id-1 label.sk-toggleable__label {cursor: pointer;display: block;width: 100%;margin-bottom: 0;padding: 0.3em;box-sizing: border-box;text-align: center;}#sk-container-id-1 label.sk-toggleable__label-arrow:before {content: \"▸\";float: left;margin-right: 0.25em;color: #696969;}#sk-container-id-1 label.sk-toggleable__label-arrow:hover:before {color: black;}#sk-container-id-1 div.sk-estimator:hover label.sk-toggleable__label-arrow:before {color: black;}#sk-container-id-1 div.sk-toggleable__content {max-height: 0;max-width: 0;overflow: hidden;text-align: left;background-color: #f0f8ff;}#sk-container-id-1 div.sk-toggleable__content pre {margin: 0.2em;color: black;border-radius: 0.25em;background-color: #f0f8ff;}#sk-container-id-1 input.sk-toggleable__control:checked~div.sk-toggleable__content {max-height: 200px;max-width: 100%;overflow: auto;}#sk-container-id-1 input.sk-toggleable__control:checked~label.sk-toggleable__label-arrow:before {content: \"▾\";}#sk-container-id-1 div.sk-estimator input.sk-toggleable__control:checked~label.sk-toggleable__label {background-color: #d4ebff;}#sk-container-id-1 div.sk-label input.sk-toggleable__control:checked~label.sk-toggleable__label {background-color: #d4ebff;}#sk-container-id-1 input.sk-hidden--visually {border: 0;clip: rect(1px 1px 1px 1px);clip: rect(1px, 1px, 1px, 1px);height: 1px;margin: -1px;overflow: hidden;padding: 0;position: absolute;width: 1px;}#sk-container-id-1 div.sk-estimator {font-family: monospace;background-color: #f0f8ff;border: 1px dotted black;border-radius: 0.25em;box-sizing: border-box;margin-bottom: 0.5em;}#sk-container-id-1 div.sk-estimator:hover {background-color: #d4ebff;}#sk-container-id-1 div.sk-parallel-item::after {content: \"\";width: 100%;border-bottom: 1px solid gray;flex-grow: 1;}#sk-container-id-1 div.sk-label:hover label.sk-toggleable__label {background-color: #d4ebff;}#sk-container-id-1 div.sk-serial::before {content: \"\";position: absolute;border-left: 1px solid gray;box-sizing: border-box;top: 0;bottom: 0;left: 50%;z-index: 0;}#sk-container-id-1 div.sk-serial {display: flex;flex-direction: column;align-items: center;background-color: white;padding-right: 0.2em;padding-left: 0.2em;position: relative;}#sk-container-id-1 div.sk-item {position: relative;z-index: 1;}#sk-container-id-1 div.sk-parallel {display: flex;align-items: stretch;justify-content: center;background-color: white;position: relative;}#sk-container-id-1 div.sk-item::before, #sk-container-id-1 div.sk-parallel-item::before {content: \"\";position: absolute;border-left: 1px solid gray;box-sizing: border-box;top: 0;bottom: 0;left: 50%;z-index: -1;}#sk-container-id-1 div.sk-parallel-item {display: flex;flex-direction: column;z-index: 1;position: relative;background-color: white;}#sk-container-id-1 div.sk-parallel-item:first-child::after {align-self: flex-end;width: 50%;}#sk-container-id-1 div.sk-parallel-item:last-child::after {align-self: flex-start;width: 50%;}#sk-container-id-1 div.sk-parallel-item:only-child::after {width: 0;}#sk-container-id-1 div.sk-dashed-wrapped {border: 1px dashed gray;margin: 0 0.4em 0.5em 0.4em;box-sizing: border-box;padding-bottom: 0.4em;background-color: white;}#sk-container-id-1 div.sk-label label {font-family: monospace;font-weight: bold;display: inline-block;line-height: 1.2em;}#sk-container-id-1 div.sk-label-container {text-align: center;}#sk-container-id-1 div.sk-container {/* jupyter's `normalize.less` sets `[hidden] { display: none; }` but bootstrap.min.css set `[hidden] { display: none !important; }` so we also need the `!important` here to be able to override the default hidden behavior on the sphinx rendered scikit-learn.org. See: https://github.com/scikit-learn/scikit-learn/issues/21755 */display: inline-block !important;position: relative;}#sk-container-id-1 div.sk-text-repr-fallback {display: none;}</style><div id=\"sk-container-id-1\" class=\"sk-top-container\"><div class=\"sk-text-repr-fallback\"><pre>KNeighborsRegressor(weights=&#x27;distance&#x27;)</pre><b>In a Jupyter environment, please rerun this cell to show the HTML representation or trust the notebook. <br />On GitHub, the HTML representation is unable to render, please try loading this page with nbviewer.org.</b></div><div class=\"sk-container\" hidden><div class=\"sk-item\"><div class=\"sk-estimator sk-toggleable\"><input class=\"sk-toggleable__control sk-hidden--visually\" id=\"sk-estimator-id-1\" type=\"checkbox\" checked><label for=\"sk-estimator-id-1\" class=\"sk-toggleable__label sk-toggleable__label-arrow\">KNeighborsRegressor</label><div class=\"sk-toggleable__content\"><pre>KNeighborsRegressor(weights=&#x27;distance&#x27;)</pre></div></div></div></div></div>"
      ],
      "text/plain": [
       "KNeighborsRegressor(weights='distance')"
      ]
     },
     "execution_count": 67,
     "metadata": {},
     "output_type": "execute_result"
    }
   ],
   "source": [
    "model.fit(movie_dataset,movie_ratings)"
   ]
  },
  {
   "cell_type": "code",
   "execution_count": 68,
   "id": "2d765ec5",
   "metadata": {},
   "outputs": [
    {
     "name": "stderr",
     "output_type": "stream",
     "text": [
      "C:\\Users\\user\\anaconda3\\Lib\\site-packages\\sklearn\\base.py:464: UserWarning: X does not have valid feature names, but KNeighborsRegressor was fitted with feature names\n",
      "  warnings.warn(\n"
     ]
    },
    {
     "data": {
      "text/plain": [
       "array([5.96542182, 5.09853186, 5.025     ])"
      ]
     },
     "execution_count": 68,
     "metadata": {},
     "output_type": "execute_result"
    }
   ],
   "source": [
    "model.predict([[1892,2],[2020,6],[1900,1]])\n",
    "# 가까운 거리일수록 높은 가중치를 부여하여 확인한 결과이다.\n",
    "# knn을 이용해서 문제를 해결하였다. "
   ]
  },
  {
   "cell_type": "code",
   "execution_count": null,
   "id": "d3dba2fa",
   "metadata": {},
   "outputs": [],
   "source": [
    "# 숙제는 인디언 당뇨에 대한 정보 추출하기\n",
    "# 암 분류기 569에서 1~400으로 훈련데이터로 하고 나머지로 테스트데이터로 사용하기. "
   ]
  }
 ],
 "metadata": {
  "kernelspec": {
   "display_name": "Python 3 (ipykernel)",
   "language": "python",
   "name": "python3"
  },
  "language_info": {
   "codemirror_mode": {
    "name": "ipython",
    "version": 3
   },
   "file_extension": ".py",
   "mimetype": "text/x-python",
   "name": "python",
   "nbconvert_exporter": "python",
   "pygments_lexer": "ipython3",
   "version": "3.11.4"
  }
 },
 "nbformat": 4,
 "nbformat_minor": 5
}
