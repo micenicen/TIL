{
 "cells": [
  {
   "cell_type": "code",
   "execution_count": 2,
   "id": "10faaa5e",
   "metadata": {},
   "outputs": [
    {
     "name": "stdout",
     "output_type": "stream",
     "text": [
      "최대 숫자를 입력하세요100000\n",
      "한자리 숫자를 입력하세요7\n",
      "50000\n"
     ]
    }
   ],
   "source": [
    "# 1. 1부터 100,000까지 7이라는 숫자가 총 몇번 나오는가?\n",
    "# 7이 포함되어 있는 숫자의 갯수를 카운팅 하는 것이 아니라 7이라는 숫자를 모두 카운팅 해야 한다.\n",
    "# (※ 예를들어 77077은 4, 77777은 5로 카운팅 해야 함)\n",
    "\n",
    "# 문제의 핵심은 10이라는 숫자에 7이 한번만 나온다는 것이다. 즉 7이 나오는 횟수는 10 기준 1회, 100 기준 10회 이런식으로 계산이 된다는 것이다.\n",
    "# 1의 자리에 7이 들어가는 경우는 10000번이다. 70이 100000에 들어가는 횟수는7이 1만회에 들어가는 것과 같이 1000회이다.\n",
    "# 답은 11111이 나오게 되는데 이 것을 코딩으로 풀어야 한다.\n",
    "maxi = input(\"최대 숫자를 입력하세요\")\n",
    "danwi = input(\"한자리 숫자를 입력하세요\")\n",
    "counter = 0\n",
    "\n",
    "for i in range(1,int(maxi)):\n",
    "    basket = list(str(i))\n",
    "    for j in range(len(basket)):\n",
    "        if danwi  == basket[j] :\n",
    "            counter += 1\n",
    "print(counter)"
   ]
  },
  {
   "cell_type": "code",
   "execution_count": 3,
   "id": "09fe89bf",
   "metadata": {
    "scrolled": true
   },
   "outputs": [
    {
     "name": "stdout",
     "output_type": "stream",
     "text": [
      "(3, 4)\n"
     ]
    }
   ],
   "source": [
    "# 2. 1차원의 점들이 주어졌을 때, 그 중 가장 거리가 짧은 것의 쌍을 출력하는 함수를 작성하시오. (단 점들의 배열은 모두 정렬되어있다고 가정한다.)\n",
    "# 예를들어 S={1, 3, 4, 8, 13, 17, 20} 이 주어졌다면, 결과값은 (3, 4)가 될 것이다.\n",
    "import numpy as np\n",
    "import pandas as pd\n",
    "S={1, 3, 4, 8, 13, 17, 20} \n",
    "s_list = sorted(list(S))\n",
    "s_list1 = pd.Series(s_list[1:])\n",
    "s_list2 = pd.Series(s_list[:-1])\n",
    "answer2 = s_list1-s_list2\n",
    "answer22 = s_list2[answer2.argmin()],s_list1[answer2.argmin()]\n",
    "print(answer22)\n"
   ]
  },
  {
   "cell_type": "code",
   "execution_count": 121,
   "id": "53c9484e",
   "metadata": {},
   "outputs": [
    {
     "name": "stdout",
     "output_type": "stream",
     "text": [
      "문자열 입력이유덕,이재영,권종표,이재영,박민호,강상희,이재영,김지완,최승혁,이성연,박영서,박민호,전경헌,송정환,김재성,이유덕,전경헌\n",
      "      0\n",
      "0   이유덕\n",
      "1   이재영\n",
      "2   권종표\n",
      "3   이재영\n",
      "4   박민호\n",
      "5   강상희\n",
      "6   이재영\n",
      "7   김지완\n",
      "8   최승혁\n",
      "9   이성연\n",
      "10  박영서\n",
      "11  박민호\n",
      "12  전경헌\n",
      "13  송정환\n",
      "14  김재성\n",
      "15  이유덕\n",
      "16  전경헌\n",
      "김씨 2 명 이씨 6 명\n",
      "이재영 반복횟수 3\n",
      "['이유덕' '이재영' '권종표' '박민호' '강상희' '김지완' '최승혁' '이성연' '박영서' '전경헌' '송정환' '김재성']\n",
      "['강상희', '권종표', '김재성', '김지완', '박민호', '박영서', '송정환', '이성연', '이유덕', '이재영', '전경헌', '최승혁']\n"
     ]
    }
   ],
   "source": [
    "# 3. 주어진 문자열(공백 없이 쉼표로 구분되어 있음)을 가지고 아래 문제에 대한 프로그램을 작성하세요.\n",
    "# 이유덕,이재영,권종표,이재영,박민호,강상희,이재영,김지완,최승혁,이성연,박영서,박민호,전경헌,송정환,김재성,이유덕,전경헌\n",
    "# 1)김씨와 이씨는 각각 몇 명 인가요?\n",
    "# 2)\"이재영\"이란 이름이 몇 번 반복되나요?\n",
    "# 3)중복을 제거한 이름을 출력하세요.\n",
    "# 4)중복을 제거한 이름을 오름차순으로 정렬하여 출력하세요.\n",
    "import numpy as np\n",
    "import pandas as pd\n",
    "\n",
    "names = pd.DataFrame(input(\"문자열 입력\").split(\",\"))\n",
    "#1번문제\n",
    "print(names)\n",
    "sung = names[0].map(lambda x : x[:1])\n",
    "count_lee = (sung == \"이\").sum()\n",
    "count_kim = (sung == \"김\").sum()\n",
    "print(\"김씨\",count_kim,\"명\",\"이씨\",count_lee,\"명\")\n",
    "#2번문제\n",
    "count_leezae = (names == \"이재영\").sum()\n",
    "print(\"이재영 반복횟수\",count_leezae[0])\n",
    "#3번문제 \n",
    "uniques = names[0].unique()\n",
    "print(uniques)\n",
    "#4번문제 \n",
    "print(sorted(uniques))"
   ]
  },
  {
   "cell_type": "code",
   "execution_count": 123,
   "id": "af7bfdd9",
   "metadata": {},
   "outputs": [
    {
     "name": "stdout",
     "output_type": "stream",
     "text": [
      "Requirement already satisfied: finance-datareader in c:\\users\\user\\anaconda3\\lib\\site-packages (0.9.50)\n",
      "Requirement already satisfied: pandas>=0.19.2 in c:\\users\\user\\anaconda3\\lib\\site-packages (from finance-datareader) (1.5.3)\n",
      "Requirement already satisfied: requests>=2.3.0 in c:\\users\\user\\anaconda3\\lib\\site-packages (from finance-datareader) (2.31.0)\n",
      "Requirement already satisfied: requests-file in c:\\users\\user\\anaconda3\\lib\\site-packages (from finance-datareader) (1.5.1)\n",
      "Requirement already satisfied: lxml in c:\\users\\user\\anaconda3\\lib\\site-packages (from finance-datareader) (4.9.2)\n",
      "Requirement already satisfied: tqdm in c:\\users\\user\\anaconda3\\lib\\site-packages (from finance-datareader) (4.65.0)\n",
      "Requirement already satisfied: python-dateutil>=2.8.1 in c:\\users\\user\\anaconda3\\lib\\site-packages (from pandas>=0.19.2->finance-datareader) (2.8.2)\n",
      "Requirement already satisfied: pytz>=2020.1 in c:\\users\\user\\anaconda3\\lib\\site-packages (from pandas>=0.19.2->finance-datareader) (2022.7)\n",
      "Requirement already satisfied: numpy>=1.21.0 in c:\\users\\user\\anaconda3\\lib\\site-packages (from pandas>=0.19.2->finance-datareader) (1.24.3)\n",
      "Requirement already satisfied: charset-normalizer<4,>=2 in c:\\users\\user\\anaconda3\\lib\\site-packages (from requests>=2.3.0->finance-datareader) (2.0.4)\n",
      "Requirement already satisfied: idna<4,>=2.5 in c:\\users\\user\\anaconda3\\lib\\site-packages (from requests>=2.3.0->finance-datareader) (3.4)\n",
      "Requirement already satisfied: urllib3<3,>=1.21.1 in c:\\users\\user\\anaconda3\\lib\\site-packages (from requests>=2.3.0->finance-datareader) (1.26.16)\n",
      "Requirement already satisfied: certifi>=2017.4.17 in c:\\users\\user\\anaconda3\\lib\\site-packages (from requests>=2.3.0->finance-datareader) (2023.7.22)\n",
      "Requirement already satisfied: six in c:\\users\\user\\anaconda3\\lib\\site-packages (from requests-file->finance-datareader) (1.16.0)\n",
      "Requirement already satisfied: colorama in c:\\users\\user\\anaconda3\\lib\\site-packages (from tqdm->finance-datareader) (0.4.6)\n"
     ]
    }
   ],
   "source": [
    "# 4. 2023년도 삼성전자 주가데이터를 가져온 다음 아래와 같은 작업을 수행해보세요.\n",
    "# 1) 각 열 단위로 최대값을 출력하시오.\n",
    "# 2) 각 열 단위로 최소값을 출력하시오.\n",
    "# 3) 각 열 단위로 최대값-최소값을 출력하시오.\n",
    "# 4) 기술통계를 구하시오.\n",
    "!pip install -U finance-datareader\n",
    "import FinanceDataReader as fdr\n",
    "samsung = fdr.DataReader(\"005930\",'2023') \n",
    "samsung"
   ]
  },
  {
   "cell_type": "code",
   "execution_count": 152,
   "id": "9f161a31",
   "metadata": {},
   "outputs": [
    {
     "name": "stdout",
     "output_type": "stream",
     "text": [
      "최댓값\n",
      "Open 73400\n",
      "High 73600\n",
      "Low 72900\n",
      "Close 73400\n",
      "Volume 30016221\n",
      "Change 0.06128550074738426\n",
      "최솟값\n",
      "Open 55400\n",
      "High 56000\n",
      "Low 54500\n",
      "Close 55400\n",
      "Volume 5824628\n",
      "Change -0.0363349131121643\n",
      "최댓값과 최솟값의 차\n",
      "Open 18000\n",
      "High 17600\n",
      "Low 18400\n",
      "Close 18000\n",
      "Volume 24191593\n",
      "Change 0.09762041385954856\n"
     ]
    },
    {
     "data": {
      "text/html": [
       "<div>\n",
       "<style scoped>\n",
       "    .dataframe tbody tr th:only-of-type {\n",
       "        vertical-align: middle;\n",
       "    }\n",
       "\n",
       "    .dataframe tbody tr th {\n",
       "        vertical-align: top;\n",
       "    }\n",
       "\n",
       "    .dataframe thead th {\n",
       "        text-align: right;\n",
       "    }\n",
       "</style>\n",
       "<table border=\"1\" class=\"dataframe\">\n",
       "  <thead>\n",
       "    <tr style=\"text-align: right;\">\n",
       "      <th></th>\n",
       "      <th>Open</th>\n",
       "      <th>High</th>\n",
       "      <th>Low</th>\n",
       "      <th>Close</th>\n",
       "      <th>Volume</th>\n",
       "      <th>Change</th>\n",
       "    </tr>\n",
       "  </thead>\n",
       "  <tbody>\n",
       "    <tr>\n",
       "      <th>count</th>\n",
       "      <td>174.000000</td>\n",
       "      <td>174.000000</td>\n",
       "      <td>174.000000</td>\n",
       "      <td>174.000000</td>\n",
       "      <td>1.740000e+02</td>\n",
       "      <td>174.000000</td>\n",
       "    </tr>\n",
       "    <tr>\n",
       "      <th>mean</th>\n",
       "      <td>66134.482759</td>\n",
       "      <td>66591.379310</td>\n",
       "      <td>65537.931034</td>\n",
       "      <td>66063.218391</td>\n",
       "      <td>1.352039e+07</td>\n",
       "      <td>0.001492</td>\n",
       "    </tr>\n",
       "    <tr>\n",
       "      <th>std</th>\n",
       "      <td>4401.821157</td>\n",
       "      <td>4392.213992</td>\n",
       "      <td>4360.681958</td>\n",
       "      <td>4378.603123</td>\n",
       "      <td>4.350531e+06</td>\n",
       "      <td>0.013923</td>\n",
       "    </tr>\n",
       "    <tr>\n",
       "      <th>min</th>\n",
       "      <td>55400.000000</td>\n",
       "      <td>56000.000000</td>\n",
       "      <td>54500.000000</td>\n",
       "      <td>55400.000000</td>\n",
       "      <td>5.824628e+06</td>\n",
       "      <td>-0.036335</td>\n",
       "    </tr>\n",
       "    <tr>\n",
       "      <th>25%</th>\n",
       "      <td>62700.000000</td>\n",
       "      <td>63000.000000</td>\n",
       "      <td>62025.000000</td>\n",
       "      <td>62375.000000</td>\n",
       "      <td>1.069394e+07</td>\n",
       "      <td>-0.006983</td>\n",
       "    </tr>\n",
       "    <tr>\n",
       "      <th>50%</th>\n",
       "      <td>65850.000000</td>\n",
       "      <td>66150.000000</td>\n",
       "      <td>65300.000000</td>\n",
       "      <td>65700.000000</td>\n",
       "      <td>1.243526e+07</td>\n",
       "      <td>0.001400</td>\n",
       "    </tr>\n",
       "    <tr>\n",
       "      <th>75%</th>\n",
       "      <td>70200.000000</td>\n",
       "      <td>70975.000000</td>\n",
       "      <td>69800.000000</td>\n",
       "      <td>70400.000000</td>\n",
       "      <td>1.495951e+07</td>\n",
       "      <td>0.007915</td>\n",
       "    </tr>\n",
       "    <tr>\n",
       "      <th>max</th>\n",
       "      <td>73400.000000</td>\n",
       "      <td>73600.000000</td>\n",
       "      <td>72900.000000</td>\n",
       "      <td>73400.000000</td>\n",
       "      <td>3.001622e+07</td>\n",
       "      <td>0.061286</td>\n",
       "    </tr>\n",
       "  </tbody>\n",
       "</table>\n",
       "</div>"
      ],
      "text/plain": [
       "               Open          High           Low         Close        Volume  \\\n",
       "count    174.000000    174.000000    174.000000    174.000000  1.740000e+02   \n",
       "mean   66134.482759  66591.379310  65537.931034  66063.218391  1.352039e+07   \n",
       "std     4401.821157   4392.213992   4360.681958   4378.603123  4.350531e+06   \n",
       "min    55400.000000  56000.000000  54500.000000  55400.000000  5.824628e+06   \n",
       "25%    62700.000000  63000.000000  62025.000000  62375.000000  1.069394e+07   \n",
       "50%    65850.000000  66150.000000  65300.000000  65700.000000  1.243526e+07   \n",
       "75%    70200.000000  70975.000000  69800.000000  70400.000000  1.495951e+07   \n",
       "max    73400.000000  73600.000000  72900.000000  73400.000000  3.001622e+07   \n",
       "\n",
       "           Change  \n",
       "count  174.000000  \n",
       "mean     0.001492  \n",
       "std      0.013923  \n",
       "min     -0.036335  \n",
       "25%     -0.006983  \n",
       "50%      0.001400  \n",
       "75%      0.007915  \n",
       "max      0.061286  "
      ]
     },
     "execution_count": 152,
     "metadata": {},
     "output_type": "execute_result"
    }
   ],
   "source": [
    "samsung = fdr.DataReader(\"005930\",'2023') \n",
    "#1번 문제\n",
    "print(\"최댓값\")\n",
    "for i in samsung.columns:\n",
    "    seriri = pd.Series(i)\n",
    "    print(seriri[0],max(samsung[seriri[0]]))\n",
    "#2번 문제\n",
    "print(\"최솟값\")\n",
    "for i in samsung.columns:\n",
    "    seriri = pd.Series(i)\n",
    "    print(seriri[0],min(samsung[seriri[0]]))\n",
    "#3번 문제\n",
    "print('최댓값과 최솟값의 차')\n",
    "for i in samsung.columns:\n",
    "    seriri = pd.Series(i)\n",
    "    print(seriri[0],max(samsung[seriri[0]]) - min(samsung[seriri[0]]))\n",
    "#4번 문제\n",
    "samsung. describe()\n",
    "    "
   ]
  },
  {
   "cell_type": "code",
   "execution_count": null,
   "id": "2a840937",
   "metadata": {},
   "outputs": [],
   "source": []
  },
  {
   "cell_type": "code",
   "execution_count": null,
   "id": "21800888",
   "metadata": {},
   "outputs": [],
   "source": [
    "\n"
   ]
  },
  {
   "cell_type": "code",
   "execution_count": null,
   "id": "7fcafc74",
   "metadata": {},
   "outputs": [],
   "source": []
  },
  {
   "cell_type": "code",
   "execution_count": null,
   "id": "5f076eec",
   "metadata": {},
   "outputs": [],
   "source": []
  }
 ],
 "metadata": {
  "kernelspec": {
   "display_name": "Python 3 (ipykernel)",
   "language": "python",
   "name": "python3"
  },
  "language_info": {
   "codemirror_mode": {
    "name": "ipython",
    "version": 3
   },
   "file_extension": ".py",
   "mimetype": "text/x-python",
   "name": "python",
   "nbconvert_exporter": "python",
   "pygments_lexer": "ipython3",
   "version": "3.11.4"
  }
 },
 "nbformat": 4,
 "nbformat_minor": 5
}
