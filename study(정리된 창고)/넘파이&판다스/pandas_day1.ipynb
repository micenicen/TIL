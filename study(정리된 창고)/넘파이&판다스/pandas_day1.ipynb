{
 "cells": [
  {
   "cell_type": "code",
   "execution_count": null,
   "id": "3d805106",
   "metadata": {},
   "outputs": [],
   "source": [
    "# 자격증과 산출물 등은 취업어필에 도움이 될 것이다.\n",
    "# 특히 깃허브에서 산출물 관리를 잘 하는 것이 도움이 될 것이다.\n",
    "# 산출물을 토대로 논문을 작성해서 학술대회에 작성을 하는 것도 좋다. 컨퍼런스 대회에서 제출하며 논문의 분량은 3~4장가량 된다.\n",
    "# 논문지도 받고 싶으면 이야기하면 논문작성에 도움을 줄 수 있다.\n",
    "# 공모전 입상경력은 도움이 된다. 현업에서 가장 어필이 많이 된다. https://dacon.io/\n"
   ]
  },
  {
   "cell_type": "code",
   "execution_count": 5,
   "id": "47964286",
   "metadata": {},
   "outputs": [],
   "source": [
    "# 넘파이 배열에 대해서 어제에 이어서 진행한다. 어제는 참조하는 것 위주로 시행했다.\n",
    "import numpy as np\n",
    "import pandas as pd"
   ]
  },
  {
   "cell_type": "code",
   "execution_count": 6,
   "id": "03968a1e",
   "metadata": {},
   "outputs": [],
   "source": [
    "x = np.array([1,2,3.0])"
   ]
  },
  {
   "cell_type": "code",
   "execution_count": 7,
   "id": "40d7c831",
   "metadata": {},
   "outputs": [
    {
     "data": {
      "text/plain": [
       "dtype('float64')"
      ]
     },
     "execution_count": 7,
     "metadata": {},
     "output_type": "execute_result"
    }
   ],
   "source": [
    "x.dtype # 데이터 타입은 실수이다. 플로트"
   ]
  },
  {
   "cell_type": "code",
   "execution_count": 8,
   "id": "12451c2a",
   "metadata": {},
   "outputs": [
    {
     "data": {
      "text/plain": [
       "dtype('int32')"
      ]
     },
     "execution_count": 8,
     "metadata": {},
     "output_type": "execute_result"
    }
   ],
   "source": [
    "y = np.array([1,2,3])\n",
    "y.dtype # 특별한 것이 없으면 타입은 인트로 나올 것이다. "
   ]
  },
  {
   "cell_type": "code",
   "execution_count": 9,
   "id": "155b4dab",
   "metadata": {},
   "outputs": [
    {
     "data": {
      "text/plain": [
       "dtype('float32')"
      ]
     },
     "execution_count": 9,
     "metadata": {},
     "output_type": "execute_result"
    }
   ],
   "source": [
    "z = np.array([1,2,3], dtype = 'f')\n",
    "z.dtype # 사용자가 실수타입으로 정의하는 것도 가능하다."
   ]
  },
  {
   "cell_type": "code",
   "execution_count": 10,
   "id": "87ec9205",
   "metadata": {},
   "outputs": [
    {
     "name": "stderr",
     "output_type": "stream",
     "text": [
      "C:\\Users\\user\\AppData\\Local\\Temp\\ipykernel_11700\\4124948042.py:1: RuntimeWarning: divide by zero encountered in divide\n",
      "  np.array([0,1,-1,0])/ np.array([1,0,0,0])\n",
      "C:\\Users\\user\\AppData\\Local\\Temp\\ipykernel_11700\\4124948042.py:1: RuntimeWarning: invalid value encountered in divide\n",
      "  np.array([0,1,-1,0])/ np.array([1,0,0,0])\n"
     ]
    },
    {
     "data": {
      "text/plain": [
       "array([  0.,  inf, -inf,  nan])"
      ]
     },
     "execution_count": 10,
     "metadata": {},
     "output_type": "execute_result"
    }
   ],
   "source": [
    "np.array([0,1,-1,0])/ np.array([1,0,0,0])\n",
    "#출력결과가 나오는 이유를 해설해보면\n",
    "# inf는 무한대라는 이야기이다. 인피니티의 약자이다. 즉 [제로,무한, -무한, 숫자 없음]으로 출력된 것이다.\n",
    "# infinity, not a number의 약자들이다."
   ]
  },
  {
   "cell_type": "code",
   "execution_count": 11,
   "id": "93404333",
   "metadata": {},
   "outputs": [
    {
     "data": {
      "text/plain": [
       "array([  0.,  25.,  50.,  75., 100.])"
      ]
     },
     "execution_count": 11,
     "metadata": {},
     "output_type": "execute_result"
    }
   ],
   "source": [
    "np.linspace(0,100,5)#린스페이스함수는 다음과 같이 쓰는데 0부터 100까지 5구간으로 나누라는 의미이다."
   ]
  },
  {
   "cell_type": "code",
   "execution_count": 12,
   "id": "0cba18a3",
   "metadata": {},
   "outputs": [
    {
     "data": {
      "text/plain": [
       "array([1., 2., 3.])"
      ]
     },
     "execution_count": 12,
     "metadata": {},
     "output_type": "execute_result"
    }
   ],
   "source": [
    "x"
   ]
  },
  {
   "cell_type": "code",
   "execution_count": 13,
   "id": "615fb0fb",
   "metadata": {},
   "outputs": [
    {
     "data": {
      "text/plain": [
       "array([1., 2., 3.])"
      ]
     },
     "execution_count": 13,
     "metadata": {},
     "output_type": "execute_result"
    }
   ],
   "source": [
    "x.T#위와 같은 결과가 나온다."
   ]
  },
  {
   "cell_type": "code",
   "execution_count": 14,
   "id": "031b9c4e",
   "metadata": {},
   "outputs": [
    {
     "data": {
      "text/plain": [
       "array([[0, 1],\n",
       "       [2, 3],\n",
       "       [4, 5]])"
      ]
     },
     "execution_count": 14,
     "metadata": {},
     "output_type": "execute_result"
    }
   ],
   "source": [
    "x2 = np.arange(6).reshape(3,2)\n",
    "x2 #3행 2열이 나왔다."
   ]
  },
  {
   "cell_type": "code",
   "execution_count": 15,
   "id": "45481034",
   "metadata": {},
   "outputs": [
    {
     "data": {
      "text/plain": [
       "array([[0, 2, 4],\n",
       "       [1, 3, 5]])"
      ]
     },
     "execution_count": 15,
     "metadata": {},
     "output_type": "execute_result"
    }
   ],
   "source": [
    "x2.T# 재밌는 점은 T를 붙이니 행과 열이 바뀌었다."
   ]
  },
  {
   "cell_type": "code",
   "execution_count": 16,
   "id": "abd36778",
   "metadata": {},
   "outputs": [
    {
     "data": {
      "text/plain": [
       "array([[0, 1, 2],\n",
       "       [3, 4, 5]])"
      ]
     },
     "execution_count": 16,
     "metadata": {},
     "output_type": "execute_result"
    }
   ],
   "source": [
    "np.arange(6).reshape(2,-1) # 마이너스는 알아서 결정하라는 의미로 봐도 된다."
   ]
  },
  {
   "cell_type": "code",
   "execution_count": 17,
   "id": "56f6e1dd",
   "metadata": {},
   "outputs": [
    {
     "data": {
      "text/plain": [
       "array([0, 1, 2, 3, 4, 5])"
      ]
     },
     "execution_count": 17,
     "metadata": {},
     "output_type": "execute_result"
    }
   ],
   "source": [
    "x2.flatten()#2차원을 1차원으로 바꾸는 평탄화(flatten)작업이다. "
   ]
  },
  {
   "cell_type": "code",
   "execution_count": 18,
   "id": "d462a2ad",
   "metadata": {},
   "outputs": [
    {
     "data": {
      "text/plain": [
       "array([[[ 0,  1,  2,  3],\n",
       "        [ 4,  5,  6,  7],\n",
       "        [ 8,  9, 10, 11]],\n",
       "\n",
       "       [[12, 13, 14, 15],\n",
       "        [16, 17, 18, 19],\n",
       "        [20, 21, 22, 23]]])"
      ]
     },
     "execution_count": 18,
     "metadata": {},
     "output_type": "execute_result"
    }
   ],
   "source": [
    "x3 = np.arange(24).reshape(2,3,-1)#2개로 나뉘고 3개로 나뉘면서 나머지인 4개가 나누어졌다.\n",
    "x3"
   ]
  },
  {
   "cell_type": "code",
   "execution_count": 19,
   "id": "70c55c78",
   "metadata": {},
   "outputs": [
    {
     "data": {
      "text/plain": [
       "array([ 0,  1,  2,  3,  4,  5,  6,  7,  8,  9, 10, 11, 12, 13, 14, 15, 16,\n",
       "       17, 18, 19, 20, 21, 22, 23])"
      ]
     },
     "execution_count": 19,
     "metadata": {},
     "output_type": "execute_result"
    }
   ],
   "source": [
    "x3.flatten()# 다차원을 1차원으로 만드는 것이다."
   ]
  },
  {
   "cell_type": "code",
   "execution_count": 20,
   "id": "cd4ea606",
   "metadata": {},
   "outputs": [
    {
     "data": {
      "text/plain": [
       "array([ 0,  1,  2,  3,  4,  5,  6,  7,  8,  9, 10, 11, 12, 13, 14, 15, 16,\n",
       "       17, 18, 19, 20, 21, 22, 23])"
      ]
     },
     "execution_count": 20,
     "metadata": {},
     "output_type": "execute_result"
    }
   ],
   "source": [
    "x3.ravel() # 다차원을 1차원으로 만드는 것으로 플래튼과 비슷하다."
   ]
  },
  {
   "cell_type": "code",
   "execution_count": 23,
   "id": "8c8b70fb",
   "metadata": {},
   "outputs": [
    {
     "data": {
      "text/plain": [
       "array([0, 1, 2, 3, 4, 5])"
      ]
     },
     "execution_count": 23,
     "metadata": {},
     "output_type": "execute_result"
    }
   ],
   "source": [
    "#차원을 감소시키는 것도 되었다면 반대로 차원을 증가시키는 것도 가능하다.\n",
    "x1 = x2.flatten()\n",
    "x1"
   ]
  },
  {
   "cell_type": "code",
   "execution_count": 24,
   "id": "2348765e",
   "metadata": {},
   "outputs": [
    {
     "data": {
      "text/plain": [
       "array([0, 1, 2, 3, 4, 5])"
      ]
     },
     "execution_count": 24,
     "metadata": {},
     "output_type": "execute_result"
    }
   ],
   "source": [
    "x5 = x1.T\n",
    "x5"
   ]
  },
  {
   "cell_type": "code",
   "execution_count": 25,
   "id": "75ec6047",
   "metadata": {},
   "outputs": [
    {
     "data": {
      "text/plain": [
       "array([[0],\n",
       "       [1],\n",
       "       [2],\n",
       "       [3],\n",
       "       [4],\n",
       "       [5]])"
      ]
     },
     "execution_count": 25,
     "metadata": {},
     "output_type": "execute_result"
    }
   ],
   "source": [
    "x1[:,np.newaxis]# 뉴액시스로 차원을 증가시켰다.\n"
   ]
  },
  {
   "cell_type": "code",
   "execution_count": 26,
   "id": "6259b984",
   "metadata": {},
   "outputs": [
    {
     "data": {
      "text/plain": [
       "array([[1., 1., 1.],\n",
       "       [1., 1., 1.]])"
      ]
     },
     "execution_count": 26,
     "metadata": {},
     "output_type": "execute_result"
    }
   ],
   "source": [
    "a1 = np.ones((2,3))\n",
    "a1\n"
   ]
  },
  {
   "cell_type": "code",
   "execution_count": 29,
   "id": "bddd87a3",
   "metadata": {},
   "outputs": [
    {
     "data": {
      "text/plain": [
       "array([[0., 0.],\n",
       "       [0., 0.]])"
      ]
     },
     "execution_count": 29,
     "metadata": {},
     "output_type": "execute_result"
    }
   ],
   "source": [
    "a2 = np.zeros((2,2))\n",
    "a2 #행렬 두개를 합치고자 한다면?"
   ]
  },
  {
   "cell_type": "code",
   "execution_count": 30,
   "id": "3f42edb8",
   "metadata": {},
   "outputs": [
    {
     "data": {
      "text/plain": [
       "array([[1., 1., 1., 0., 0.],\n",
       "       [1., 1., 1., 0., 0.]])"
      ]
     },
     "execution_count": 30,
     "metadata": {},
     "output_type": "execute_result"
    }
   ],
   "source": [
    "#스택 함수는 쌓는 함수이다. hvtack(horizon stack수평스택), vstack(vertical stack수직스택)이 있다.\n",
    "np.hstack([a1,a2]) #옆으로 합쳐지면 이렇게 합쳐졌다."
   ]
  },
  {
   "cell_type": "code",
   "execution_count": 31,
   "id": "9b95b85b",
   "metadata": {},
   "outputs": [
    {
     "ename": "ValueError",
     "evalue": "all the input array dimensions except for the concatenation axis must match exactly, but along dimension 1, the array at index 0 has size 3 and the array at index 1 has size 2",
     "output_type": "error",
     "traceback": [
      "\u001b[1;31m---------------------------------------------------------------------------\u001b[0m",
      "\u001b[1;31mValueError\u001b[0m                                Traceback (most recent call last)",
      "Cell \u001b[1;32mIn[31], line 1\u001b[0m\n\u001b[1;32m----> 1\u001b[0m np\u001b[38;5;241m.\u001b[39mvstack([a1,a2])\n",
      "File \u001b[1;32m<__array_function__ internals>:200\u001b[0m, in \u001b[0;36mvstack\u001b[1;34m(*args, **kwargs)\u001b[0m\n",
      "File \u001b[1;32m~\\anaconda3\\Lib\\site-packages\\numpy\\core\\shape_base.py:296\u001b[0m, in \u001b[0;36mvstack\u001b[1;34m(tup, dtype, casting)\u001b[0m\n\u001b[0;32m    294\u001b[0m \u001b[38;5;28;01mif\u001b[39;00m \u001b[38;5;129;01mnot\u001b[39;00m \u001b[38;5;28misinstance\u001b[39m(arrs, \u001b[38;5;28mlist\u001b[39m):\n\u001b[0;32m    295\u001b[0m     arrs \u001b[38;5;241m=\u001b[39m [arrs]\n\u001b[1;32m--> 296\u001b[0m \u001b[38;5;28;01mreturn\u001b[39;00m _nx\u001b[38;5;241m.\u001b[39mconcatenate(arrs, \u001b[38;5;241m0\u001b[39m, dtype\u001b[38;5;241m=\u001b[39mdtype, casting\u001b[38;5;241m=\u001b[39mcasting)\n",
      "File \u001b[1;32m<__array_function__ internals>:200\u001b[0m, in \u001b[0;36mconcatenate\u001b[1;34m(*args, **kwargs)\u001b[0m\n",
      "\u001b[1;31mValueError\u001b[0m: all the input array dimensions except for the concatenation axis must match exactly, but along dimension 1, the array at index 0 has size 3 and the array at index 1 has size 2"
     ]
    }
   ],
   "source": [
    "np.vstack([a1,a2]) # 애러가 발생한다. 열의 갯수가 동일하지 않는데 합치기 시도를 했기 때문이다."
   ]
  },
  {
   "cell_type": "code",
   "execution_count": 32,
   "id": "6d0dfc52",
   "metadata": {},
   "outputs": [
    {
     "data": {
      "text/plain": [
       "array([[0., 0., 0.],\n",
       "       [0., 0., 0.]])"
      ]
     },
     "execution_count": 32,
     "metadata": {},
     "output_type": "execute_result"
    }
   ],
   "source": [
    "b1 = np.zeros((2,3))#열의 갯수를 동일시해보자\n",
    "b1"
   ]
  },
  {
   "cell_type": "code",
   "execution_count": 33,
   "id": "6f232324",
   "metadata": {},
   "outputs": [
    {
     "data": {
      "text/plain": [
       "array([[1., 1., 1.],\n",
       "       [1., 1., 1.],\n",
       "       [0., 0., 0.],\n",
       "       [0., 0., 0.]])"
      ]
     },
     "execution_count": 33,
     "metadata": {},
     "output_type": "execute_result"
    }
   ],
   "source": [
    "np.vstack([a1,b1])#열의 갯수가 동일하면 정상적으로 합쳐진다."
   ]
  },
  {
   "cell_type": "code",
   "execution_count": null,
   "id": "0210e998",
   "metadata": {},
   "outputs": [],
   "source": [
    "#데이터가 여러개의 파일로 존재하는 경우가 존재한다. 그럴 경우 불러오는 데이터가 여러가개 있는데 이 데이터들을 하나로 합쳐야 할 수도 있다.\n",
    "#그럴때에 사용된다. 데이터를 쉽게 병합할 수 있다.\n"
   ]
  },
  {
   "cell_type": "code",
   "execution_count": 34,
   "id": "0871d95d",
   "metadata": {},
   "outputs": [
    {
     "data": {
      "text/plain": [
       "array([[1., 1., 1., 1.],\n",
       "       [1., 1., 1., 1.],\n",
       "       [1., 1., 1., 1.]])"
      ]
     },
     "execution_count": 34,
     "metadata": {},
     "output_type": "execute_result"
    }
   ],
   "source": [
    "c1 = np.ones((3,4))\n",
    "c1"
   ]
  },
  {
   "cell_type": "code",
   "execution_count": 35,
   "id": "f03bdf39",
   "metadata": {},
   "outputs": [
    {
     "data": {
      "text/plain": [
       "array([[0., 0., 0., 0.],\n",
       "       [0., 0., 0., 0.],\n",
       "       [0., 0., 0., 0.]])"
      ]
     },
     "execution_count": 35,
     "metadata": {},
     "output_type": "execute_result"
    }
   ],
   "source": [
    "c2 = np.zeros((3,4))\n",
    "c2# 이 행렬들을 3차원 행렬로 구성하기 위해서는? "
   ]
  },
  {
   "cell_type": "code",
   "execution_count": 38,
   "id": "f9e26ba4",
   "metadata": {},
   "outputs": [
    {
     "data": {
      "text/plain": [
       "array([[[1., 0.],\n",
       "        [1., 0.],\n",
       "        [1., 0.],\n",
       "        [1., 0.]],\n",
       "\n",
       "       [[1., 0.],\n",
       "        [1., 0.],\n",
       "        [1., 0.],\n",
       "        [1., 0.]],\n",
       "\n",
       "       [[1., 0.],\n",
       "        [1., 0.],\n",
       "        [1., 0.],\n",
       "        [1., 0.]]])"
      ]
     },
     "execution_count": 38,
     "metadata": {},
     "output_type": "execute_result"
    }
   ],
   "source": [
    "d2 = np.dstack([c1,c2]) # 문제는 마지막 차원에 연결되어 버린다.\n",
    "d2"
   ]
  },
  {
   "cell_type": "code",
   "execution_count": 39,
   "id": "f2a000c7",
   "metadata": {},
   "outputs": [
    {
     "data": {
      "text/plain": [
       "(3, 4, 2)"
      ]
     },
     "execution_count": 39,
     "metadata": {},
     "output_type": "execute_result"
    }
   ],
   "source": [
    "d2.shape#새로운 차원은 맨 마지막에 추가가 되었다.\n",
    "#사실상 뎁스가 3이 되어버린 것이다. \n"
   ]
  },
  {
   "cell_type": "code",
   "execution_count": 40,
   "id": "2509dbad",
   "metadata": {},
   "outputs": [
    {
     "data": {
      "text/plain": [
       "array([[[1., 1., 1., 1.],\n",
       "        [1., 1., 1., 1.],\n",
       "        [1., 1., 1., 1.]],\n",
       "\n",
       "       [[0., 0., 0., 0.],\n",
       "        [0., 0., 0., 0.],\n",
       "        [0., 0., 0., 0.]]])"
      ]
     },
     "execution_count": 40,
     "metadata": {},
     "output_type": "execute_result"
    }
   ],
   "source": [
    "#만약 스택을 바로 쓰면 어떨까?\n",
    "e2 = np.stack([c1,c2])\n",
    "e2# 차원이 맨 처음에 추가되었다.\n",
    "# 3행 4열 행렬이 두개가 저장되는 구조가 된 것이다.\n"
   ]
  },
  {
   "cell_type": "code",
   "execution_count": 41,
   "id": "bee2504c",
   "metadata": {},
   "outputs": [
    {
     "data": {
      "text/plain": [
       "array([[[1., 1., 1., 1.],\n",
       "        [1., 1., 1., 1.],\n",
       "        [1., 1., 1., 1.]],\n",
       "\n",
       "       [[0., 0., 0., 0.],\n",
       "        [0., 0., 0., 0.],\n",
       "        [0., 0., 0., 0.]]])"
      ]
     },
     "execution_count": 41,
     "metadata": {},
     "output_type": "execute_result"
    }
   ],
   "source": [
    "#엑시스는 기본값이 0이다. 별도로 설정하지 않으면 엑시스(축)은 0으로 결정된다. 즉 내가 원하는 위치의 축을 정하는 것이 가능하다.\n",
    "e2 = np.stack([c1,c2],axis=0)\n",
    "e2\n",
    "# 축은 axis, 축들은 axes로 나타낸다. "
   ]
  },
  {
   "cell_type": "code",
   "execution_count": 42,
   "id": "e9bc5ae1",
   "metadata": {},
   "outputs": [
    {
     "data": {
      "text/plain": [
       "array([[[1., 1., 1., 1.],\n",
       "        [0., 0., 0., 0.]],\n",
       "\n",
       "       [[1., 1., 1., 1.],\n",
       "        [0., 0., 0., 0.]],\n",
       "\n",
       "       [[1., 1., 1., 1.],\n",
       "        [0., 0., 0., 0.]]])"
      ]
     },
     "execution_count": 42,
     "metadata": {},
     "output_type": "execute_result"
    }
   ],
   "source": [
    "f2 = np.stack([c1,c2], axis = 1)\n",
    "f2# 중간에 축을 추가한 모양이다. "
   ]
  },
  {
   "cell_type": "code",
   "execution_count": 43,
   "id": "a026922b",
   "metadata": {},
   "outputs": [
    {
     "data": {
      "text/plain": [
       "array([ 1,  2,  3, 11, 12, 13])"
      ]
     },
     "execution_count": 43,
     "metadata": {},
     "output_type": "execute_result"
    }
   ],
   "source": [
    "np.r_[np.array([1,2,3]),np.array([11,12,13])] # r언더바는 옆으로 붙인다.\n"
   ]
  },
  {
   "cell_type": "code",
   "execution_count": 44,
   "id": "b86ae1f2",
   "metadata": {},
   "outputs": [
    {
     "data": {
      "text/plain": [
       "array([[ 1, 11],\n",
       "       [ 2, 12],\n",
       "       [ 3, 13]])"
      ]
     },
     "execution_count": 44,
     "metadata": {},
     "output_type": "execute_result"
    }
   ],
   "source": [
    "np.c_[np.array([1,2,3]),np.array([11,12,13])] # c언더바는 아래로 붙인다."
   ]
  },
  {
   "cell_type": "code",
   "execution_count": 46,
   "id": "59d58e5c",
   "metadata": {},
   "outputs": [
    {
     "data": {
      "text/plain": [
       "array([[0, 1],\n",
       "       [1, 2]])"
      ]
     },
     "execution_count": 46,
     "metadata": {},
     "output_type": "execute_result"
    }
   ],
   "source": [
    "a = np.array([[0,1],[1,2]])\n",
    "a # 현재의 배열을 반복하고 싶다면?"
   ]
  },
  {
   "cell_type": "code",
   "execution_count": 48,
   "id": "fd94cdba",
   "metadata": {},
   "outputs": [
    {
     "data": {
      "text/plain": [
       "array([[0, 1, 0, 1],\n",
       "       [1, 2, 1, 2],\n",
       "       [0, 1, 0, 1],\n",
       "       [1, 2, 1, 2],\n",
       "       [0, 1, 0, 1],\n",
       "       [1, 2, 1, 2]])"
      ]
     },
     "execution_count": 48,
     "metadata": {},
     "output_type": "execute_result"
    }
   ],
   "source": [
    "np.tile(a,(3,2)) # a를 밑으로 3칸, 옆으로 2칸이 붙었다."
   ]
  },
  {
   "cell_type": "code",
   "execution_count": null,
   "id": "a8729204",
   "metadata": {},
   "outputs": [],
   "source": [
    "# 이걸 만들고 싶다고 해보자.\n",
    "array([[   0.,    0.,    0.,    1.,    1.],\n",
    "       [   0.,    0.,    0.,    1.,    1.],\n",
    "       [   0.,    0.,    0.,    1.,    1.],\n",
    "       [  10.,   20.,   30.,   40.,   50.],\n",
    "       [  60.,   70.,   80.,   90.,  100.],\n",
    "       [ 110.,  120.,  130.,  140.,  150.],\n",
    "       [   0.,    0.,    0.,    1.,    1.],\n",
    "       [   0.,    0.,    0.,    1.,    1.],\n",
    "       [   0.,    0.,    0.,    1.,    1.],\n",
    "       [  10.,   20.,   30.,   40.,   50.],\n",
    "       [  60.,   70.,   80.,   90.,  100.],\n",
    "       [ 110.,  120.,  130.,  140.,  150.]])"
   ]
  },
  {
   "cell_type": "code",
   "execution_count": 52,
   "id": "c27dd47d",
   "metadata": {},
   "outputs": [
    {
     "data": {
      "text/plain": [
       "array([[ 10.,  20.,  30.,  40.,  50.],\n",
       "       [ 60.,  70.,  80.,  90., 100.],\n",
       "       [110., 120., 130., 140., 150.]])"
      ]
     },
     "execution_count": 52,
     "metadata": {},
     "output_type": "execute_result"
    }
   ],
   "source": [
    "c = np.linspace(10,150,15).reshape(3,5)\n",
    "# 밑의 부분을 만든다."
   ]
  },
  {
   "cell_type": "code",
   "execution_count": 58,
   "id": "58528566",
   "metadata": {},
   "outputs": [
    {
     "data": {
      "text/plain": [
       "array([[0., 0., 0.],\n",
       "       [0., 0., 0.],\n",
       "       [0., 0., 0.]])"
      ]
     },
     "execution_count": 58,
     "metadata": {},
     "output_type": "execute_result"
    }
   ],
   "source": [
    "np.zeros((3,3)) #제로부분을 만든다. 같은 원리로 1부분을 만든다."
   ]
  },
  {
   "cell_type": "code",
   "execution_count": 55,
   "id": "abf46d17",
   "metadata": {},
   "outputs": [
    {
     "data": {
      "text/plain": [
       "array([[0., 0., 0., 1., 1.],\n",
       "       [0., 0., 0., 1., 1.],\n",
       "       [0., 0., 0., 1., 1.]])"
      ]
     },
     "execution_count": 55,
     "metadata": {},
     "output_type": "execute_result"
    }
   ],
   "source": [
    "np.hstack([np.zeros((3,3)),np.ones((3,2))])#둘을 가로로 합친다."
   ]
  },
  {
   "cell_type": "code",
   "execution_count": 56,
   "id": "b06b6381",
   "metadata": {},
   "outputs": [
    {
     "data": {
      "text/plain": [
       "array([[  0.,   0.,   0.,   1.,   1.],\n",
       "       [  0.,   0.,   0.,   1.,   1.],\n",
       "       [  0.,   0.,   0.,   1.,   1.],\n",
       "       [ 10.,  20.,  30.,  40.,  50.],\n",
       "       [ 60.,  70.,  80.,  90., 100.],\n",
       "       [110., 120., 130., 140., 150.]])"
      ]
     },
     "execution_count": 56,
     "metadata": {},
     "output_type": "execute_result"
    }
   ],
   "source": [
    "np.vstack([np.hstack([np.zeros((3,3)),np.ones((3,2))]),np.linspace(10,150,15).reshape(3,5)])# 둘을 세로로 합친다."
   ]
  },
  {
   "cell_type": "code",
   "execution_count": 60,
   "id": "008ff04a",
   "metadata": {},
   "outputs": [
    {
     "data": {
      "text/plain": [
       "array([[  0.,   0.,   0.,   1.,   1.],\n",
       "       [  0.,   0.,   0.,   1.,   1.],\n",
       "       [  0.,   0.,   0.,   1.,   1.],\n",
       "       [ 10.,  20.,  30.,  40.,  50.],\n",
       "       [ 60.,  70.,  80.,  90., 100.],\n",
       "       [110., 120., 130., 140., 150.],\n",
       "       [  0.,   0.,   0.,   1.,   1.],\n",
       "       [  0.,   0.,   0.,   1.,   1.],\n",
       "       [  0.,   0.,   0.,   1.,   1.],\n",
       "       [ 10.,  20.,  30.,  40.,  50.],\n",
       "       [ 60.,  70.,  80.,  90., 100.],\n",
       "       [110., 120., 130., 140., 150.]])"
      ]
     },
     "execution_count": 60,
     "metadata": {},
     "output_type": "execute_result"
    }
   ],
   "source": [
    "np.tile(np.vstack([np.hstack([np.zeros((3,3)),np.ones((3,2))]),np.linspace(10,150,15).reshape(3,5)]),(2,1)) \n",
    "#이걸 두개를 위아래로 복사해서 이어서 완성한다."
   ]
  },
  {
   "cell_type": "code",
   "execution_count": 62,
   "id": "b190eba9",
   "metadata": {},
   "outputs": [
    {
     "data": {
      "text/plain": [
       "0    4\n",
       "1    3\n",
       "2   -2\n",
       "3    1\n",
       "dtype: int64"
      ]
     },
     "execution_count": 62,
     "metadata": {},
     "output_type": "execute_result"
    }
   ],
   "source": [
    "#판다스에는 두 가지 자료구조가 존재한다.\n",
    "obj = pd.Series([4,3,-2,1])\n",
    "obj\n",
    "#시리즈는 1차원으로 자료를 저장할 때 사용한다. \n",
    "#리스트를 만들고 시리즈 함수에 전달이 되면 하나의 시리즈가 만들어진다.\n",
    "# 0123순으로 적힌 숫자는 행 인덱스이다. \n",
    "#아직은 열 인덱스는 없다. "
   ]
  },
  {
   "cell_type": "code",
   "execution_count": 63,
   "id": "281ff837",
   "metadata": {},
   "outputs": [
    {
     "data": {
      "text/plain": [
       "pandas.core.series.Series"
      ]
     },
     "execution_count": 63,
     "metadata": {},
     "output_type": "execute_result"
    }
   ],
   "source": [
    "type(obj) #타입은 판다스 코어 시리즈라고 나온다. 약칭 시리즈이다. 1차원 구조가 특징이다."
   ]
  },
  {
   "cell_type": "code",
   "execution_count": 64,
   "id": "981e1599",
   "metadata": {},
   "outputs": [
    {
     "data": {
      "text/plain": [
       "<PandasArray>\n",
       "[4, 3, -2, 1]\n",
       "Length: 4, dtype: int64"
      ]
     },
     "execution_count": 64,
     "metadata": {},
     "output_type": "execute_result"
    }
   ],
   "source": [
    "obj.array # 판다스 어레이로 출력되었다."
   ]
  },
  {
   "cell_type": "code",
   "execution_count": 65,
   "id": "2f694e82",
   "metadata": {},
   "outputs": [
    {
     "data": {
      "text/plain": [
       "RangeIndex(start=0, stop=4, step=1)"
      ]
     },
     "execution_count": 65,
     "metadata": {},
     "output_type": "execute_result"
    }
   ],
   "source": [
    "obj.index # 레인지 인덱스가 출력되었다. 0번부터 3번까지 있으며 1씩 증가한다는 뜻이다."
   ]
  },
  {
   "cell_type": "code",
   "execution_count": 66,
   "id": "3239ed86",
   "metadata": {},
   "outputs": [
    {
     "data": {
      "text/plain": [
       "d    4\n",
       "b    3\n",
       "a   -2\n",
       "c    1\n",
       "dtype: int64"
      ]
     },
     "execution_count": 66,
     "metadata": {},
     "output_type": "execute_result"
    }
   ],
   "source": [
    "obj2 = pd.Series([4,3,-2,1], index=['d','b','a','c'])\n",
    "obj2 # 인덱스 순서가 0123에서 dbac로 바뀌었다.\n"
   ]
  },
  {
   "cell_type": "code",
   "execution_count": 67,
   "id": "15acfb09",
   "metadata": {},
   "outputs": [
    {
     "data": {
      "text/plain": [
       "Index(['d', 'b', 'a', 'c'], dtype='object')"
      ]
     },
     "execution_count": 67,
     "metadata": {},
     "output_type": "execute_result"
    }
   ],
   "source": [
    "obj2.index #레인지 인덱스가 아니다. 그냥 인덱스로 나왔다. 인덱스의 타입이 오브젝트라는 뜻이다.\n"
   ]
  },
  {
   "cell_type": "code",
   "execution_count": 68,
   "id": "fb1738b0",
   "metadata": {},
   "outputs": [
    {
     "data": {
      "text/plain": [
       "3"
      ]
     },
     "execution_count": 68,
     "metadata": {},
     "output_type": "execute_result"
    }
   ],
   "source": [
    "obj2['b'] #마치 딕셔너리처럼 직접참조도 가능하다."
   ]
  },
  {
   "cell_type": "code",
   "execution_count": 69,
   "id": "5f06afa5",
   "metadata": {},
   "outputs": [
    {
     "data": {
      "text/plain": [
       "d     4\n",
       "b    10\n",
       "a    -2\n",
       "c     1\n",
       "dtype: int64"
      ]
     },
     "execution_count": 69,
     "metadata": {},
     "output_type": "execute_result"
    }
   ],
   "source": [
    "obj2['b'] = 10\n",
    "obj2 # 딕셔너리처럼 특정 데이터를 변경하는 것도 가능하다."
   ]
  },
  {
   "cell_type": "code",
   "execution_count": 70,
   "id": "4185c973",
   "metadata": {},
   "outputs": [
    {
     "ename": "KeyError",
     "evalue": "'key of type tuple not found and not a MultiIndex'",
     "output_type": "error",
     "traceback": [
      "\u001b[1;31m---------------------------------------------------------------------------\u001b[0m",
      "\u001b[1;31mKeyError\u001b[0m                                  Traceback (most recent call last)",
      "Cell \u001b[1;32mIn[70], line 1\u001b[0m\n\u001b[1;32m----> 1\u001b[0m obj2[\u001b[38;5;124m'\u001b[39m\u001b[38;5;124mb\u001b[39m\u001b[38;5;124m'\u001b[39m,\u001b[38;5;124m'\u001b[39m\u001b[38;5;124mc\u001b[39m\u001b[38;5;124m'\u001b[39m,\u001b[38;5;124m'\u001b[39m\u001b[38;5;124ma\u001b[39m\u001b[38;5;124m'\u001b[39m]\n",
      "File \u001b[1;32m~\\anaconda3\\Lib\\site-packages\\pandas\\core\\series.py:1007\u001b[0m, in \u001b[0;36mSeries.__getitem__\u001b[1;34m(self, key)\u001b[0m\n\u001b[0;32m   1004\u001b[0m     key \u001b[38;5;241m=\u001b[39m np\u001b[38;5;241m.\u001b[39masarray(key, dtype\u001b[38;5;241m=\u001b[39m\u001b[38;5;28mbool\u001b[39m)\n\u001b[0;32m   1005\u001b[0m     \u001b[38;5;28;01mreturn\u001b[39;00m \u001b[38;5;28mself\u001b[39m\u001b[38;5;241m.\u001b[39m_get_values(key)\n\u001b[1;32m-> 1007\u001b[0m \u001b[38;5;28;01mreturn\u001b[39;00m \u001b[38;5;28mself\u001b[39m\u001b[38;5;241m.\u001b[39m_get_with(key)\n",
      "File \u001b[1;32m~\\anaconda3\\Lib\\site-packages\\pandas\\core\\series.py:1022\u001b[0m, in \u001b[0;36mSeries._get_with\u001b[1;34m(self, key)\u001b[0m\n\u001b[0;32m   1017\u001b[0m     \u001b[38;5;28;01mraise\u001b[39;00m \u001b[38;5;167;01mTypeError\u001b[39;00m(\n\u001b[0;32m   1018\u001b[0m         \u001b[38;5;124m\"\u001b[39m\u001b[38;5;124mIndexing a Series with DataFrame is not \u001b[39m\u001b[38;5;124m\"\u001b[39m\n\u001b[0;32m   1019\u001b[0m         \u001b[38;5;124m\"\u001b[39m\u001b[38;5;124msupported, use the appropriate DataFrame column\u001b[39m\u001b[38;5;124m\"\u001b[39m\n\u001b[0;32m   1020\u001b[0m     )\n\u001b[0;32m   1021\u001b[0m \u001b[38;5;28;01melif\u001b[39;00m \u001b[38;5;28misinstance\u001b[39m(key, \u001b[38;5;28mtuple\u001b[39m):\n\u001b[1;32m-> 1022\u001b[0m     \u001b[38;5;28;01mreturn\u001b[39;00m \u001b[38;5;28mself\u001b[39m\u001b[38;5;241m.\u001b[39m_get_values_tuple(key)\n\u001b[0;32m   1024\u001b[0m \u001b[38;5;28;01melif\u001b[39;00m \u001b[38;5;129;01mnot\u001b[39;00m is_list_like(key):\n\u001b[0;32m   1025\u001b[0m     \u001b[38;5;66;03m# e.g. scalars that aren't recognized by lib.is_scalar, GH#32684\u001b[39;00m\n\u001b[0;32m   1026\u001b[0m     \u001b[38;5;28;01mreturn\u001b[39;00m \u001b[38;5;28mself\u001b[39m\u001b[38;5;241m.\u001b[39mloc[key]\n",
      "File \u001b[1;32m~\\anaconda3\\Lib\\site-packages\\pandas\\core\\series.py:1060\u001b[0m, in \u001b[0;36mSeries._get_values_tuple\u001b[1;34m(self, key)\u001b[0m\n\u001b[0;32m   1057\u001b[0m     \u001b[38;5;28;01mreturn\u001b[39;00m result\n\u001b[0;32m   1059\u001b[0m \u001b[38;5;28;01mif\u001b[39;00m \u001b[38;5;129;01mnot\u001b[39;00m \u001b[38;5;28misinstance\u001b[39m(\u001b[38;5;28mself\u001b[39m\u001b[38;5;241m.\u001b[39mindex, MultiIndex):\n\u001b[1;32m-> 1060\u001b[0m     \u001b[38;5;28;01mraise\u001b[39;00m \u001b[38;5;167;01mKeyError\u001b[39;00m(\u001b[38;5;124m\"\u001b[39m\u001b[38;5;124mkey of type tuple not found and not a MultiIndex\u001b[39m\u001b[38;5;124m\"\u001b[39m)\n\u001b[0;32m   1062\u001b[0m \u001b[38;5;66;03m# If key is contained, would have returned by now\u001b[39;00m\n\u001b[0;32m   1063\u001b[0m indexer, new_index \u001b[38;5;241m=\u001b[39m \u001b[38;5;28mself\u001b[39m\u001b[38;5;241m.\u001b[39mindex\u001b[38;5;241m.\u001b[39mget_loc_level(key)\n",
      "\u001b[1;31mKeyError\u001b[0m: 'key of type tuple not found and not a MultiIndex'"
     ]
    }
   ],
   "source": [
    "obj2['b','c','a']\n",
    "#다만 참조는 1개씩만 가능하다. 여러개를 참고하고 싶다면 리스트로 묶어야 한다."
   ]
  },
  {
   "cell_type": "code",
   "execution_count": 71,
   "id": "9d141e4c",
   "metadata": {},
   "outputs": [
    {
     "data": {
      "text/plain": [
       "b    10\n",
       "c     1\n",
       "a    -2\n",
       "dtype: int64"
      ]
     },
     "execution_count": 71,
     "metadata": {},
     "output_type": "execute_result"
    }
   ],
   "source": [
    "obj2[['b','c','a']]\n",
    "#즉 bca를 새로운 리스트로 만들어서 출력시킨 것이다. 여러개를 한번에 참조할 때는 이렇게 하면 된다.\n"
   ]
  },
  {
   "cell_type": "code",
   "execution_count": 72,
   "id": "1e7c3cfe",
   "metadata": {},
   "outputs": [
    {
     "data": {
      "text/plain": [
       "d     True\n",
       "b     True\n",
       "a    False\n",
       "c     True\n",
       "dtype: bool"
      ]
     },
     "execution_count": 72,
     "metadata": {},
     "output_type": "execute_result"
    }
   ],
   "source": [
    "#만약 양수만 추출하고자 하면\n",
    "obj2 > 0"
   ]
  },
  {
   "cell_type": "code",
   "execution_count": 73,
   "id": "3f6c6494",
   "metadata": {},
   "outputs": [
    {
     "data": {
      "text/plain": [
       "d     4\n",
       "b    10\n",
       "c     1\n",
       "dtype: int64"
      ]
     },
     "execution_count": 73,
     "metadata": {},
     "output_type": "execute_result"
    }
   ],
   "source": [
    "#불린 참조로 한다면\n",
    "obj2[obj2 > 0]\n",
    "#불린 참조는 매우 많이 사용된다. 그리고 파이썬에는 저런 문법이 존재하지 않기에 햇갈릴 수 있다."
   ]
  },
  {
   "cell_type": "code",
   "execution_count": 74,
   "id": "cf4cf15f",
   "metadata": {},
   "outputs": [
    {
     "data": {
      "text/plain": [
       "d     4\n",
       "b    10\n",
       "a    -2\n",
       "c     1\n",
       "dtype: int64"
      ]
     },
     "execution_count": 74,
     "metadata": {},
     "output_type": "execute_result"
    }
   ],
   "source": [
    "obj2"
   ]
  },
  {
   "cell_type": "code",
   "execution_count": 75,
   "id": "fd855a07",
   "metadata": {},
   "outputs": [
    {
     "data": {
      "text/plain": [
       "d     8\n",
       "b    20\n",
       "a    -4\n",
       "c     2\n",
       "dtype: int64"
      ]
     },
     "execution_count": 75,
     "metadata": {},
     "output_type": "execute_result"
    }
   ],
   "source": [
    "obj2*2 #각각의 요소에 대해서 두배가 되었다. 넘파이 array랑 동일하다."
   ]
  },
  {
   "cell_type": "code",
   "execution_count": 76,
   "id": "c9bdacd1",
   "metadata": {},
   "outputs": [
    {
     "data": {
      "text/plain": [
       "True"
      ]
     },
     "execution_count": 76,
     "metadata": {},
     "output_type": "execute_result"
    }
   ],
   "source": [
    "'b' in obj2 # 단순하게 참조할 수 있다. 불 형식으로 답장이 온다."
   ]
  },
  {
   "cell_type": "code",
   "execution_count": 77,
   "id": "0bd26f94",
   "metadata": {},
   "outputs": [
    {
     "data": {
      "text/plain": [
       "False"
      ]
     },
     "execution_count": 77,
     "metadata": {},
     "output_type": "execute_result"
    }
   ],
   "source": [
    "'k' in obj2 # 없는 경우 다음과 같이 출력된다."
   ]
  },
  {
   "cell_type": "code",
   "execution_count": 78,
   "id": "5f98f25e",
   "metadata": {},
   "outputs": [
    {
     "data": {
      "text/plain": [
       "Ohio      35000\n",
       "Texas     71000\n",
       "Oregon    16000\n",
       "Utah       5000\n",
       "dtype: int64"
      ]
     },
     "execution_count": 78,
     "metadata": {},
     "output_type": "execute_result"
    }
   ],
   "source": [
    "sdata = {\"Ohio\": 35000, \"Texas\": 71000, \"Oregon\": 16000, \"Utah\": 5000}\n",
    "obj3 = pd.Series(sdata) #딕셔너리로부터 시리즈를 만들었다. 시리즈는 딕셔너리로부터 만드는 것도 가능하다. \n",
    "# 딕셔너리를 시리즈로 바끄면 키는 인덱스로 변한다. 그리고 데이터타입이 하단에 출력된다.\n",
    "# 숫자는 경단위로 바뀌는 순간 오브젝트로 바뀌게 된다.920경까지는 int64였다가 920경이 넘는 순간 요브젝트가 된다.\n",
    "# 오브젝트는 문자타입니다. 파이썬의 str이 아닌 obj인것이다. obj는 문자다.\n",
    "# 또는 실수타입(float타입)으로 변환하는 것도 방법이다. 대부분의 숫자들이 구현 가능하다. int64보다 범위가 더 넓다.\n",
    "# 즉 표현범위는 int32< int64< float32< float64 인 것이다.\n",
    "obj3"
   ]
  },
  {
   "cell_type": "code",
   "execution_count": 79,
   "id": "739e552b",
   "metadata": {},
   "outputs": [
    {
     "data": {
      "text/plain": [
       "{'Ohio': 35000, 'Texas': 71000, 'Oregon': 16000, 'Utah': 5000}"
      ]
     },
     "execution_count": 79,
     "metadata": {},
     "output_type": "execute_result"
    }
   ],
   "source": [
    "obj3.to_dict()# 기존의 시리즈에서 딕셔너리로 바꾸는 법니다."
   ]
  },
  {
   "cell_type": "code",
   "execution_count": 80,
   "id": "e9d54e38",
   "metadata": {},
   "outputs": [
    {
     "data": {
      "text/plain": [
       "California        NaN\n",
       "Ohio          35000.0\n",
       "Oregon        16000.0\n",
       "Texas         71000.0\n",
       "dtype: float64"
      ]
     },
     "execution_count": 80,
     "metadata": {},
     "output_type": "execute_result"
    }
   ],
   "source": [
    "states = [\"California\", \"Ohio\", \"Oregon\", \"Texas\"]\n",
    "obj4 = pd.Series(sdata, index=states)\n",
    "obj4 # 하이인덱스는 직접 줄 수 있다. 직접 준 값으로 시리즈를 만들었는데. 캘리포니아는 존재하지 않아서 NaN으로 나왔다.\n",
    "#nan이 존재하면 모든 자료는 자동으로 float로 바뀐다. ISN\n"
   ]
  },
  {
   "cell_type": "code",
   "execution_count": 84,
   "id": "c678439e",
   "metadata": {},
   "outputs": [
    {
     "data": {
      "text/plain": [
       "California     True\n",
       "Ohio          False\n",
       "Oregon        False\n",
       "Texas         False\n",
       "dtype: bool"
      ]
     },
     "execution_count": 84,
     "metadata": {},
     "output_type": "execute_result"
    }
   ],
   "source": [
    "# 그래서 자료를 제작할 때는 항상 계측값의 유무를 확인해야한다.\n",
    "pd.isna(obj4) # is함수로는 내부에 NAN값이 나오는지 확인 가능하다. 자주 쓰인다."
   ]
  },
  {
   "cell_type": "code",
   "execution_count": 85,
   "id": "ac54629e",
   "metadata": {},
   "outputs": [
    {
     "data": {
      "text/plain": [
       "California         NaN\n",
       "Ohio           70000.0\n",
       "Oregon         32000.0\n",
       "Texas         142000.0\n",
       "Utah               NaN\n",
       "dtype: float64"
      ]
     },
     "execution_count": 85,
     "metadata": {},
     "output_type": "execute_result"
    }
   ],
   "source": [
    "obj3 +  obj4"
   ]
  },
  {
   "cell_type": "code",
   "execution_count": null,
   "id": "086895d1",
   "metadata": {},
   "outputs": [],
   "source": [
    "# NaN하고 더하면 결과가 nan가 나온다.\n",
    "# 어느 한쪽에만 인덱스가 있고 어느 한쪽에만 없는 경우 여지없이 nan이 나온다.\n",
    "# 양쪽 모두에 있는 경우 더해서 출력한다."
   ]
  },
  {
   "cell_type": "code",
   "execution_count": 86,
   "id": "96432149",
   "metadata": {},
   "outputs": [
    {
     "data": {
      "text/plain": [
       "California        NaN\n",
       "Ohio          35000.0\n",
       "Oregon        16000.0\n",
       "Texas         71000.0\n",
       "dtype: float64"
      ]
     },
     "execution_count": 86,
     "metadata": {},
     "output_type": "execute_result"
    }
   ],
   "source": [
    "obj4 # 만약 오하요주의 값을 출력한다면"
   ]
  },
  {
   "cell_type": "code",
   "execution_count": 88,
   "id": "2477d0e1",
   "metadata": {},
   "outputs": [
    {
     "data": {
      "text/plain": [
       "35000.0"
      ]
     },
     "execution_count": 88,
     "metadata": {},
     "output_type": "execute_result"
    }
   ],
   "source": [
    "obj4['Ohio'] # 딕셔너리랑 비슷하다."
   ]
  },
  {
   "cell_type": "code",
   "execution_count": 89,
   "id": "e185b75d",
   "metadata": {},
   "outputs": [
    {
     "data": {
      "text/plain": [
       "서울    9904312\n",
       "부산    3448737\n",
       "인천    2890451\n",
       "대구    2466052\n",
       "dtype: int64"
      ]
     },
     "execution_count": 89,
     "metadata": {},
     "output_type": "execute_result"
    }
   ],
   "source": [
    "s = pd.Series([9904312, 3448737, 2890451, 2466052],\n",
    "              index=[\"서울\", \"부산\", \"인천\", \"대구\"])\n",
    "s"
   ]
  },
  {
   "cell_type": "code",
   "execution_count": 90,
   "id": "cfa76da4",
   "metadata": {},
   "outputs": [
    {
     "data": {
      "text/plain": [
       "0    9904312\n",
       "1    3448737\n",
       "2    2890451\n",
       "3    2466052\n",
       "dtype: int64"
      ]
     },
     "execution_count": 90,
     "metadata": {},
     "output_type": "execute_result"
    }
   ],
   "source": [
    "s2 = pd.Series([9904312, 3448737, 2890451, 2466052])\n",
    "s2# 인덱스를 지정하지 않았기에 자동적으로 0번부터 일련번호가 붙었다."
   ]
  },
  {
   "cell_type": "code",
   "execution_count": 91,
   "id": "204f0d29",
   "metadata": {},
   "outputs": [
    {
     "data": {
      "text/plain": [
       "0    11\n",
       "1    12\n",
       "2    13\n",
       "3    14\n",
       "dtype: int64"
      ]
     },
     "execution_count": 91,
     "metadata": {},
     "output_type": "execute_result"
    }
   ],
   "source": [
    "pd.Series(range(11,15))#리스트와 딕셔너리 말고도 레인지도 출력이 되는 것을 알 수 있다."
   ]
  },
  {
   "cell_type": "code",
   "execution_count": 93,
   "id": "72746195",
   "metadata": {},
   "outputs": [
    {
     "data": {
      "text/plain": [
       "Index(['서울', '부산', '인천', '대구'], dtype='object')"
      ]
     },
     "execution_count": 93,
     "metadata": {},
     "output_type": "execute_result"
    }
   ],
   "source": [
    "s.index # 인덱스만 출력되었다."
   ]
  },
  {
   "cell_type": "code",
   "execution_count": 94,
   "id": "5de369c4",
   "metadata": {},
   "outputs": [
    {
     "data": {
      "text/plain": [
       "array([9904312, 3448737, 2890451, 2466052], dtype=int64)"
      ]
     },
     "execution_count": 94,
     "metadata": {},
     "output_type": "execute_result"
    }
   ],
   "source": [
    "s.values # 벨류만 출력되었다."
   ]
  },
  {
   "cell_type": "code",
   "execution_count": 98,
   "id": "aa1acd35",
   "metadata": {},
   "outputs": [],
   "source": [
    "s.name = \"인구\" #이름을 부여해보자."
   ]
  },
  {
   "cell_type": "code",
   "execution_count": 99,
   "id": "0aed4364",
   "metadata": {},
   "outputs": [
    {
     "data": {
      "text/plain": [
       "서울    9904312\n",
       "부산    3448737\n",
       "인천    2890451\n",
       "대구    2466052\n",
       "Name: 인구, dtype: int64"
      ]
     },
     "execution_count": 99,
     "metadata": {},
     "output_type": "execute_result"
    }
   ],
   "source": [
    " # 이름이 붙은 것을 볼 수 있다. 별도로 붙이는 경우는 흔치는 않음"
   ]
  },
  {
   "cell_type": "code",
   "execution_count": 100,
   "id": "6f87c2c5",
   "metadata": {},
   "outputs": [
    {
     "data": {
      "text/plain": [
       "서울    9.904312\n",
       "부산    3.448737\n",
       "인천    2.890451\n",
       "대구    2.466052\n",
       "Name: 인구, dtype: float64"
      ]
     },
     "execution_count": 100,
     "metadata": {},
     "output_type": "execute_result"
    }
   ],
   "source": [
    "s /1000000# 시리즈에 대해 연산을 하게 되면 시리즈 내부의 구성성분에 대해 동일하게 연산이 이루어진다."
   ]
  },
  {
   "cell_type": "code",
   "execution_count": 102,
   "id": "ce43e705",
   "metadata": {},
   "outputs": [
    {
     "data": {
      "text/plain": [
       "3448737"
      ]
     },
     "execution_count": 102,
     "metadata": {},
     "output_type": "execute_result"
    }
   ],
   "source": [
    "s['부산']"
   ]
  },
  {
   "cell_type": "code",
   "execution_count": 103,
   "id": "0b241baf",
   "metadata": {},
   "outputs": [
    {
     "data": {
      "text/plain": [
       "3448737"
      ]
     },
     "execution_count": 103,
     "metadata": {},
     "output_type": "execute_result"
    }
   ],
   "source": [
    "s[1] # 인덱스가 저장되어있는 번호가 적혀있어도 값이 출력되는 것을 볼 수 있다.\n",
    "# 번호는 0번부터 존재한다는 것은 파이썬과 같다."
   ]
  },
  {
   "cell_type": "code",
   "execution_count": 107,
   "id": "d9843cb7",
   "metadata": {},
   "outputs": [
    {
     "data": {
      "text/plain": [
       "서울    9904312\n",
       "대구    2466052\n",
       "부산    3448737\n",
       "Name: 인구, dtype: int64"
      ]
     },
     "execution_count": 107,
     "metadata": {},
     "output_type": "execute_result"
    }
   ],
   "source": [
    "#출력순서를 바꾸고자 한다면?\n",
    "#서울 대구 부산순서대로 출력해보도록 한다면\n",
    "s[[0,3,1]] # 아까 배운대로 대괄호를 두개를 씌워야 한다. 여러개 참조할때는 대괄호 두개다."
   ]
  },
  {
   "cell_type": "code",
   "execution_count": 108,
   "id": "8663cef8",
   "metadata": {},
   "outputs": [
    {
     "data": {
      "text/plain": [
       "서울    9904312\n",
       "부산    3448737\n",
       "인천    2890451\n",
       "대구    2466052\n",
       "Name: 인구, dtype: int64"
      ]
     },
     "execution_count": 108,
     "metadata": {},
     "output_type": "execute_result"
    }
   ],
   "source": [
    "s\n"
   ]
  },
  {
   "cell_type": "code",
   "execution_count": 117,
   "id": "7c79406a",
   "metadata": {},
   "outputs": [
    {
     "data": {
      "text/plain": [
       "서울    False\n",
       "부산     True\n",
       "인천     True\n",
       "대구    False\n",
       "Name: 인구, dtype: bool"
      ]
     },
     "execution_count": 117,
     "metadata": {},
     "output_type": "execute_result"
    }
   ],
   "source": [
    "# 조건을 주는 방식으로 해보자. 250만 이상. 500만 이하로 해보자. 불린참조를 써보자.\n",
    "#2500000 <=s \n",
    "s < 5000000\n",
    "# 두 개의 조건을 둘다 만족하려면?\n",
    "(s>=2500000) & (s <5000000)# 앤드를 써서 붙이도록 하자."
   ]
  },
  {
   "cell_type": "code",
   "execution_count": 118,
   "id": "4791cef7",
   "metadata": {},
   "outputs": [
    {
     "data": {
      "text/plain": [
       "부산    3448737\n",
       "인천    2890451\n",
       "Name: 인구, dtype: int64"
      ]
     },
     "execution_count": 118,
     "metadata": {},
     "output_type": "execute_result"
    }
   ],
   "source": [
    "s[(s>=2500000) & (s <5000000)] #이처럼 부산과 인천만 출력되었다. 이러한 용법은 굉장히 많이 쓰인다."
   ]
  },
  {
   "cell_type": "code",
   "execution_count": 121,
   "id": "c1f2b6ba",
   "metadata": {},
   "outputs": [
    {
     "data": {
      "text/plain": [
       "서울    9904312\n",
       "부산    3448737\n",
       "인천    2890451\n",
       "대구    2466052\n",
       "Name: 인구, dtype: int64"
      ]
     },
     "execution_count": 121,
     "metadata": {},
     "output_type": "execute_result"
    }
   ],
   "source": [
    "s[:]#콜론기호는 전체출력이다."
   ]
  },
  {
   "cell_type": "code",
   "execution_count": 122,
   "id": "11637157",
   "metadata": {},
   "outputs": [
    {
     "data": {
      "text/plain": [
       "부산    3448737\n",
       "인천    2890451\n",
       "대구    2466052\n",
       "Name: 인구, dtype: int64"
      ]
     },
     "execution_count": 122,
     "metadata": {},
     "output_type": "execute_result"
    }
   ],
   "source": [
    "s[1:]#1번 행 인덱스부터 마지막까지 출력한다."
   ]
  },
  {
   "cell_type": "code",
   "execution_count": 123,
   "id": "6171d267",
   "metadata": {},
   "outputs": [
    {
     "data": {
      "text/plain": [
       "서울    9904312\n",
       "부산    3448737\n",
       "Name: 인구, dtype: int64"
      ]
     },
     "execution_count": 123,
     "metadata": {},
     "output_type": "execute_result"
    }
   ],
   "source": [
    "s[:2]#0번과 1번을 출력했다."
   ]
  },
  {
   "cell_type": "code",
   "execution_count": 124,
   "id": "947ffa45",
   "metadata": {},
   "outputs": [
    {
     "data": {
      "text/plain": [
       "부산    3448737\n",
       "인천    2890451\n",
       "Name: 인구, dtype: int64"
      ]
     },
     "execution_count": 124,
     "metadata": {},
     "output_type": "execute_result"
    }
   ],
   "source": [
    "s[1:3]#1번과 2번을 출력했다."
   ]
  },
  {
   "cell_type": "code",
   "execution_count": 126,
   "id": "2ac43370",
   "metadata": {},
   "outputs": [
    {
     "data": {
      "text/plain": [
       "부산    3448737\n",
       "인천    2890451\n",
       "대구    2466052\n",
       "Name: 인구, dtype: int64"
      ]
     },
     "execution_count": 126,
     "metadata": {},
     "output_type": "execute_result"
    }
   ],
   "source": [
    "s['부산':\"대구\"] #인덱스 이름을 주는 것도 가능하다. 근데 이번것은 마지막 번호까지 포함했다.숫자 인덱스와 차이가 이것이다."
   ]
  },
  {
   "cell_type": "code",
   "execution_count": null,
   "id": "69a923d2",
   "metadata": {},
   "outputs": [],
   "source": [
    "# 시리즈에서 행 단위로 데이터를 추출할때는 인덱스 이름이나 행 인덱스 번호를 주면 된다.\n",
    "# 일정한 범위 내의 데이터를 추출하고자 할 때에는 행에 대한 번호로 범위를 참조할 수 있고 행 이름을 직접 기재하여 참조가 가능하다.\n",
    "# 이름으로 직접 기재할 경우 이름까지 전체 참조한다."
   ]
  },
  {
   "cell_type": "code",
   "execution_count": 127,
   "id": "f7f17a36",
   "metadata": {},
   "outputs": [
    {
     "data": {
      "text/plain": [
       "3448737"
      ]
     },
     "execution_count": 127,
     "metadata": {},
     "output_type": "execute_result"
    }
   ],
   "source": [
    "s.부산 # 한글의 경우에도 정상적으로 값이 출력이 되었다. "
   ]
  },
  {
   "cell_type": "code",
   "execution_count": 129,
   "id": "6d0a2803",
   "metadata": {},
   "outputs": [
    {
     "data": {
      "text/plain": [
       "True"
      ]
     },
     "execution_count": 129,
     "metadata": {},
     "output_type": "execute_result"
    }
   ],
   "source": [
    "\"인천\" in s # 묻는 것도 가능하다."
   ]
  },
  {
   "cell_type": "code",
   "execution_count": 130,
   "id": "81dabedc",
   "metadata": {},
   "outputs": [
    {
     "data": {
      "text/plain": [
       "False"
      ]
     },
     "execution_count": 130,
     "metadata": {},
     "output_type": "execute_result"
    }
   ],
   "source": [
    "\"강릉\" in s "
   ]
  },
  {
   "cell_type": "code",
   "execution_count": 132,
   "id": "f6eafe4b",
   "metadata": {},
   "outputs": [
    {
     "data": {
      "text/plain": [
       "<zip at 0x1af67cad0c0>"
      ]
     },
     "execution_count": 132,
     "metadata": {},
     "output_type": "execute_result"
    }
   ],
   "source": [
    "#인덱스와 데이터를 구분해서 읽고싶은 경우도 있을 것이다. \n",
    "s.items() # 이런 식으로 압축을 먼저 한다."
   ]
  },
  {
   "cell_type": "code",
   "execution_count": 133,
   "id": "30e0e2b0",
   "metadata": {},
   "outputs": [
    {
     "name": "stdout",
     "output_type": "stream",
     "text": [
      "서울\n",
      "9904312\n",
      "부산\n",
      "3448737\n",
      "인천\n",
      "2890451\n",
      "대구\n",
      "2466052\n"
     ]
    }
   ],
   "source": [
    "for k,v in s.items(): #k와 v에 저장하였다.\n",
    "    print(k)\n",
    "    print(v)"
   ]
  },
  {
   "cell_type": "code",
   "execution_count": 134,
   "id": "4692985e",
   "metadata": {},
   "outputs": [
    {
     "data": {
      "text/plain": [
       "서울    9631482\n",
       "부산    3393191\n",
       "인천    2632035\n",
       "대전    1490158\n",
       "dtype: int64"
      ]
     },
     "execution_count": 134,
     "metadata": {},
     "output_type": "execute_result"
    }
   ],
   "source": [
    "s2 = pd.Series({\"서울\": 9631482, \"부산\": 3393191, \"인천\": 2632035, \"대전\": 1490158})\n",
    "s2"
   ]
  },
  {
   "cell_type": "code",
   "execution_count": 136,
   "id": "19153aab",
   "metadata": {},
   "outputs": [
    {
     "data": {
      "text/plain": [
       "부산    3393191\n",
       "서울    9631482\n",
       "인천    2632035\n",
       "대전    1490158\n",
       "dtype: int64"
      ]
     },
     "execution_count": 136,
     "metadata": {},
     "output_type": "execute_result"
    }
   ],
   "source": [
    "s2 = pd.Series({\"서울\": 9631482, \"부산\": 3393191, \"인천\": 2632035, \"대전\": 1490158},\n",
    "               index=[\"부산\", \"서울\", \"인천\",\"대전\"])\n",
    "s2 # 인덱스가 추가되면 기존에 적혀있는 순서는 무시되고 인덱스 순으로 출력된다."
   ]
  },
  {
   "cell_type": "code",
   "execution_count": 137,
   "id": "efef55af",
   "metadata": {},
   "outputs": [
    {
     "data": {
      "text/plain": [
       "부산    3393191.0\n",
       "서울    9631482.0\n",
       "인천    2632035.0\n",
       "대전    1490158.0\n",
       "광주          NaN\n",
       "dtype: float64"
      ]
     },
     "execution_count": 137,
     "metadata": {},
     "output_type": "execute_result"
    }
   ],
   "source": [
    "s2 = pd.Series({\"서울\": 9631482, \"부산\": 3393191, \"인천\": 2632035, \"대전\": 1490158},\n",
    "               index=[\"부산\", \"서울\", \"인천\",\"대전\",\"광주\"])\n",
    "s2 # 광주에 대한 키가 존재하나 데이터가 존재하지 않아서 NAN이 출력되었다.\n"
   ]
  },
  {
   "cell_type": "code",
   "execution_count": 138,
   "id": "c657fd38",
   "metadata": {},
   "outputs": [
    {
     "data": {
      "text/plain": [
       "서울    9904312\n",
       "부산    3448737\n",
       "인천    2890451\n",
       "대구    2466052\n",
       "Name: 인구, dtype: int64"
      ]
     },
     "execution_count": 138,
     "metadata": {},
     "output_type": "execute_result"
    }
   ],
   "source": [
    "s"
   ]
  },
  {
   "cell_type": "code",
   "execution_count": 139,
   "id": "0b85e8e8",
   "metadata": {},
   "outputs": [
    {
     "data": {
      "text/plain": [
       "부산    3393191.0\n",
       "서울    9631482.0\n",
       "인천    2632035.0\n",
       "대전    1490158.0\n",
       "광주          NaN\n",
       "dtype: float64"
      ]
     },
     "execution_count": 139,
     "metadata": {},
     "output_type": "execute_result"
    }
   ],
   "source": [
    "s2"
   ]
  },
  {
   "cell_type": "code",
   "execution_count": 141,
   "id": "77e5c470",
   "metadata": {},
   "outputs": [
    {
     "data": {
      "text/plain": [
       "광주         NaN\n",
       "대구         NaN\n",
       "대전         NaN\n",
       "부산     55546.0\n",
       "서울    272830.0\n",
       "인천    258416.0\n",
       "dtype: float64"
      ]
     },
     "execution_count": 141,
     "metadata": {},
     "output_type": "execute_result"
    }
   ],
   "source": [
    "ds = s-s2 # 데이터가 어느 한쪽에만 있는 경우 산술결과가 nan이 나온다.\n",
    "ds"
   ]
  },
  {
   "cell_type": "code",
   "execution_count": 144,
   "id": "9d72dd0e",
   "metadata": {},
   "outputs": [
    {
     "data": {
      "text/plain": [
       "광주     True\n",
       "대구     True\n",
       "대전     True\n",
       "부산    False\n",
       "서울    False\n",
       "인천    False\n",
       "dtype: bool"
      ]
     },
     "execution_count": 144,
     "metadata": {},
     "output_type": "execute_result"
    }
   ],
   "source": [
    "ds.isna() # 사용할 수 없는 데이터인가? 데이터가 있냐 없냐의 차이이다. \n"
   ]
  },
  {
   "cell_type": "code",
   "execution_count": 145,
   "id": "d1cada15",
   "metadata": {},
   "outputs": [
    {
     "data": {
      "text/plain": [
       "광주     True\n",
       "대구     True\n",
       "대전     True\n",
       "부산    False\n",
       "서울    False\n",
       "인천    False\n",
       "dtype: bool"
      ]
     },
     "execution_count": 145,
     "metadata": {},
     "output_type": "execute_result"
    }
   ],
   "source": [
    "ds.isnull() #값이 없는가? 아까랑 결과가 같다."
   ]
  },
  {
   "cell_type": "code",
   "execution_count": 146,
   "id": "4431bb4e",
   "metadata": {},
   "outputs": [
    {
     "data": {
      "text/plain": [
       "광주    False\n",
       "대구    False\n",
       "대전    False\n",
       "부산     True\n",
       "서울     True\n",
       "인천     True\n",
       "dtype: bool"
      ]
     },
     "execution_count": 146,
     "metadata": {},
     "output_type": "execute_result"
    }
   ],
   "source": [
    "ds.notnull() # 아까와 정 반대의 질문이다."
   ]
  },
  {
   "cell_type": "code",
   "execution_count": 147,
   "id": "639a4873",
   "metadata": {},
   "outputs": [
    {
     "data": {
      "text/plain": [
       "부산     55546.0\n",
       "서울    272830.0\n",
       "인천    258416.0\n",
       "dtype: float64"
      ]
     },
     "execution_count": 147,
     "metadata": {},
     "output_type": "execute_result"
    }
   ],
   "source": [
    "ds[ds.notnull()] # null이 아닌 자료들만 찾아서 출력하기"
   ]
  },
  {
   "cell_type": "code",
   "execution_count": 148,
   "id": "e3101a48",
   "metadata": {},
   "outputs": [
    {
     "data": {
      "text/plain": [
       "서울    272830.0\n",
       "인천    258416.0\n",
       "dtype: float64"
      ]
     },
     "execution_count": 148,
     "metadata": {},
     "output_type": "execute_result"
    }
   ],
   "source": [
    "ds[ds >= 200000] # ds에서 20만 이상의 자료만 추출해보았다."
   ]
  },
  {
   "cell_type": "code",
   "execution_count": 149,
   "id": "8ba70ef8",
   "metadata": {},
   "outputs": [],
   "source": [
    "ds.부산 = 50000"
   ]
  },
  {
   "cell_type": "code",
   "execution_count": 151,
   "id": "ed922708",
   "metadata": {},
   "outputs": [],
   "source": [
    "ds['속초'] = 100000"
   ]
  },
  {
   "cell_type": "code",
   "execution_count": 152,
   "id": "f6909e22",
   "metadata": {},
   "outputs": [
    {
     "data": {
      "text/plain": [
       "광주         NaN\n",
       "대구         NaN\n",
       "대전         NaN\n",
       "부산     50000.0\n",
       "서울    272830.0\n",
       "인천    258416.0\n",
       "속초    100000.0\n",
       "dtype: float64"
      ]
     },
     "execution_count": 152,
     "metadata": {},
     "output_type": "execute_result"
    }
   ],
   "source": [
    "ds # 데이터를 변경하는 방법과 데이터를 추가하는 방법은 동일하다."
   ]
  },
  {
   "cell_type": "code",
   "execution_count": 153,
   "id": "97dd7a0d",
   "metadata": {},
   "outputs": [],
   "source": [
    "del ds[\"대구\"]"
   ]
  },
  {
   "cell_type": "code",
   "execution_count": 154,
   "id": "7671d224",
   "metadata": {},
   "outputs": [
    {
     "data": {
      "text/plain": [
       "광주         NaN\n",
       "대전         NaN\n",
       "부산     50000.0\n",
       "서울    272830.0\n",
       "인천    258416.0\n",
       "속초    100000.0\n",
       "dtype: float64"
      ]
     },
     "execution_count": 154,
     "metadata": {},
     "output_type": "execute_result"
    }
   ],
   "source": [
    "ds"
   ]
  },
  {
   "cell_type": "code",
   "execution_count": 156,
   "id": "8ef30c0e",
   "metadata": {},
   "outputs": [
    {
     "name": "stdout",
     "output_type": "stream",
     "text": [
      "[ 1  2  3  4  5  6  7  8  9 10 11 12 13 14 15 16 17 18 19 20 21 22 23 24\n",
      " 25 26 27 28 29 30 31 32 33 34 35 36 37 38 39 40 41 42 43 44 45 46 47 48\n",
      " 49 50 51 52 53 54 55 56 57 58 59 60 61 62 63 64 65 66 67 68 69 70 71 72\n",
      " 73 74 75 76 77 78 79 80 81 82 83 84 85 86 87 88 89 90 91 92 93 94 95 96\n",
      " 97 98 99]\n",
      "[10001 10002 10003 10004 10005 10006 10007 10008 10009 10010 10011 10012\n",
      " 10013 10014 10015 10016 10017 10018 10019 10020 10021 10022 10023 10024\n",
      " 10025 10026 10027 10028 10029 10030 10031 10032 10033 10034 10035 10036\n",
      " 10037 10038 10039 10040 10041 10042 10043 10044 10045 10046 10047 10048\n",
      " 10049 10050 10051 10052 10053 10054 10055 10056 10057 10058 10059 10060\n",
      " 10061 10062 10063 10064 10065 10066 10067 10068 10069 10070 10071 10072\n",
      " 10073 10074 10075 10076 10077 10078 10079 10080 10081 10082 10083 10084\n",
      " 10085 10086 10087 10088 10089 10090 10091 10092 10093 10094 10095 10096\n",
      " 10097 10098 10099]\n"
     ]
    }
   ],
   "source": [
    "# 배열에서 연산을 하는 법에 대해서 알아보자.\n",
    "x = np.arange(1,100)\n",
    "y = np.arange(10001,10100)#각각 99개씩 존재할 것이다.\n",
    "print(x);print(y)\n",
    "#시리즈가 아니다. 배열array이다."
   ]
  },
  {
   "cell_type": "code",
   "execution_count": 158,
   "id": "942222bc",
   "metadata": {},
   "outputs": [
    {
     "name": "stdout",
     "output_type": "stream",
     "text": [
      "[10002 10004 10006 10008 10010 10012 10014 10016 10018 10020 10022 10024\n",
      " 10026 10028 10030 10032 10034 10036 10038 10040 10042 10044 10046 10048\n",
      " 10050 10052 10054 10056 10058 10060 10062 10064 10066 10068 10070 10072\n",
      " 10074 10076 10078 10080 10082 10084 10086 10088 10090 10092 10094 10096\n",
      " 10098 10100 10102 10104 10106 10108 10110 10112 10114 10116 10118 10120\n",
      " 10122 10124 10126 10128 10130 10132 10134 10136 10138 10140 10142 10144\n",
      " 10146 10148 10150 10152 10154 10156 10158 10160 10162 10164 10166 10168\n",
      " 10170 10172 10174 10176 10178 10180 10182 10184 10186 10188 10190 10192\n",
      " 10194 10196 10198]\n"
     ]
    }
   ],
   "source": [
    "print(x+y) # 파이썬은 리스트끼리 합치려면 for문을 써야하지만 넘파이에서는 배열끼리 수식을 한번에 연산하게 된다.\n",
    "# 이를 벡터연산이라고 한다. C언어로 구성이 되어있어서 빠른 연산이 가능하다."
   ]
  },
  {
   "cell_type": "code",
   "execution_count": 159,
   "id": "7b9a19f7",
   "metadata": {},
   "outputs": [
    {
     "name": "stdout",
     "output_type": "stream",
     "text": [
      "[False False False False False False False False False False False False\n",
      " False False False False False False False False False False False False\n",
      " False False False False False False False False False False False False\n",
      " False False False False False False False False False False False False\n",
      " False False False False False False False False False False False False\n",
      " False False False False False False False False False False False False\n",
      " False False False False False False False False False False False False\n",
      " False False False False False False False False False False False False\n",
      " False False False]\n"
     ]
    }
   ],
   "source": [
    "print(x>y) # for문을 쓸 필요 없이 각각 사용하게 된다. "
   ]
  },
  {
   "cell_type": "code",
   "execution_count": 160,
   "id": "6018e076",
   "metadata": {},
   "outputs": [],
   "source": [
    "a = np.array([1, 2, 3, 4])\n",
    "b = np.array([4, 2, 2, 4])\n",
    "c = np.array([1, 2, 3, 4])"
   ]
  },
  {
   "cell_type": "code",
   "execution_count": 161,
   "id": "240b1089",
   "metadata": {},
   "outputs": [
    {
     "data": {
      "text/plain": [
       "array([False,  True, False,  True])"
      ]
     },
     "execution_count": 161,
     "metadata": {},
     "output_type": "execute_result"
    }
   ],
   "source": [
    "#3개의 배열에 대해서 연산을 해보자.\n",
    "a == b\n",
    "#연산자 하나로 비교연산이 수행되어버렸다."
   ]
  },
  {
   "cell_type": "code",
   "execution_count": 162,
   "id": "64189a86",
   "metadata": {},
   "outputs": [
    {
     "data": {
      "text/plain": [
       "array([2, 4])"
      ]
     },
     "execution_count": 162,
     "metadata": {},
     "output_type": "execute_result"
    }
   ],
   "source": [
    "c[a == b] #a와 b가 같은 위치의 c의 값을 출력하라는 뜻이다. true에 해당하는 것을 참조한다는 것이다.\n"
   ]
  },
  {
   "cell_type": "code",
   "execution_count": 163,
   "id": "36a2dbee",
   "metadata": {},
   "outputs": [
    {
     "data": {
      "text/plain": [
       "array([ True,  True,  True,  True])"
      ]
     },
     "execution_count": 163,
     "metadata": {},
     "output_type": "execute_result"
    }
   ],
   "source": [
    "a==c # 요소끼리 일치하는 것을 말한다."
   ]
  },
  {
   "cell_type": "code",
   "execution_count": 164,
   "id": "20155fc5",
   "metadata": {},
   "outputs": [
    {
     "data": {
      "text/plain": [
       "True"
      ]
     },
     "execution_count": 164,
     "metadata": {},
     "output_type": "execute_result"
    }
   ],
   "source": [
    "np.all(a==c) #모든 값이 일치하는가?"
   ]
  },
  {
   "cell_type": "code",
   "execution_count": 165,
   "id": "49a98031",
   "metadata": {},
   "outputs": [
    {
     "data": {
      "text/plain": [
       "True"
      ]
     },
     "execution_count": 165,
     "metadata": {},
     "output_type": "execute_result"
    }
   ],
   "source": [
    "np.any(a==b) #하나라도 일치하는가?"
   ]
  },
  {
   "cell_type": "code",
   "execution_count": 167,
   "id": "fb03415f",
   "metadata": {},
   "outputs": [
    {
     "data": {
      "text/plain": [
       "10"
      ]
     },
     "execution_count": 167,
     "metadata": {},
     "output_type": "execute_result"
    }
   ],
   "source": [
    "a = np.array([1, 2, 3, 4])\n",
    "np.sum(a)#더하는 것은 쉽게 이루어진다.\n"
   ]
  },
  {
   "cell_type": "code",
   "execution_count": 168,
   "id": "032d0db6",
   "metadata": {},
   "outputs": [
    {
     "data": {
      "text/plain": [
       "10"
      ]
     },
     "execution_count": 168,
     "metadata": {},
     "output_type": "execute_result"
    }
   ],
   "source": [
    "a.sum()#배열쓰고 함수써도 동일하다."
   ]
  },
  {
   "cell_type": "code",
   "execution_count": 169,
   "id": "38d001f7",
   "metadata": {},
   "outputs": [
    {
     "name": "stdout",
     "output_type": "stream",
     "text": [
      "4\n",
      "1\n"
     ]
    }
   ],
   "source": [
    "print(a.max())#최댓값이 나온다.\n",
    "print(a.min())#최솟값이 나온다.\n"
   ]
  },
  {
   "cell_type": "code",
   "execution_count": 173,
   "id": "fc1d94f4",
   "metadata": {},
   "outputs": [
    {
     "name": "stdout",
     "output_type": "stream",
     "text": [
      "3\n",
      "0\n"
     ]
    }
   ],
   "source": [
    "print(a.argmax())#최대값이 저장된 위치값(키)이 출력된다. argument의 약자다.\n",
    "print(a.argmin())#최소값이 저장된 위치값(키)이 출력된다.\n"
   ]
  },
  {
   "cell_type": "code",
   "execution_count": 177,
   "id": "6faf2090",
   "metadata": {},
   "outputs": [],
   "source": [
    "a = np.array([1,2,8,9,10])"
   ]
  },
  {
   "cell_type": "code",
   "execution_count": 178,
   "id": "172734bc",
   "metadata": {},
   "outputs": [
    {
     "name": "stdout",
     "output_type": "stream",
     "text": [
      "6.0\n"
     ]
    }
   ],
   "source": [
    "print(a.mean()) #평균 출력 "
   ]
  },
  {
   "cell_type": "code",
   "execution_count": 179,
   "id": "80687910",
   "metadata": {},
   "outputs": [
    {
     "name": "stdout",
     "output_type": "stream",
     "text": [
      "8.0\n"
     ]
    }
   ],
   "source": [
    "print(np.median(a)) #중위수 출력. 평균과 중위수는 중심경향치를 파악하는데 사용한다.\n",
    "# 평균은 어느 한쪽에 치우쳐저 있거나 극단적인 값이 많이 존재하는 경우에 왜곡이 될 수 있다.\n",
    "# 전체 데이터를 대표하는 대표값을 알고자 할 때 전체 데이터에 중심위치의 경향을 알고싶을때 사용한다.\n",
    "# 왜곡이 되는지를 확인하고 싶다면 데이터화를 해서 그래프로 그리면 된다.\n",
    "# 왜곡이 많이 발생하면 중위수를 흔히 쓴다. 극단적인 값에 대해서 중간값을 구하면 되기 때문이다.\n",
    "# 최빈수가 존재한다. 최대 빈도수로 등장한 수를 말한다. 데이터의 중심경향치로 참고할 수 있다."
   ]
  },
  {
   "cell_type": "code",
   "execution_count": 180,
   "id": "c8ef07a2",
   "metadata": {},
   "outputs": [],
   "source": [
    "# 편차(deviation)는 관측값에서 평균 또는 중앙값을 뺀 것이다.\n",
    "# 앞으로 자주 사용할 개념이다."
   ]
  },
  {
   "cell_type": "code",
   "execution_count": 181,
   "id": "f3ccac3a",
   "metadata": {},
   "outputs": [
    {
     "data": {
      "text/plain": [
       "array([[ 4,  3,  5,  7],\n",
       "       [ 1, 12, 11,  9],\n",
       "       [ 2, 15,  1, 14]])"
      ]
     },
     "execution_count": 181,
     "metadata": {},
     "output_type": "execute_result"
    }
   ],
   "source": [
    "a = np.array([[4,  3,  5,  7],\n",
    "              [1, 12, 11,  9],\n",
    "              [2, 15,  1, 14]])\n",
    "a"
   ]
  },
  {
   "cell_type": "code",
   "execution_count": 184,
   "id": "f7099a55",
   "metadata": {},
   "outputs": [
    {
     "data": {
      "text/plain": [
       "array([[ 3,  4,  5,  7],\n",
       "       [ 1,  9, 11, 12],\n",
       "       [ 1,  2, 14, 15]])"
      ]
     },
     "execution_count": 184,
     "metadata": {},
     "output_type": "execute_result"
    }
   ],
   "source": [
    "a.sort() # 하나의 행을 기준하여 열 방향으로 이동하여 정렬하였다. 즉 열 단위로 정렬했다.\n",
    "a # 엑시스(행)이 다르면 정렬은 따로따로 진행된다."
   ]
  },
  {
   "cell_type": "code",
   "execution_count": 193,
   "id": "0d45be83",
   "metadata": {},
   "outputs": [
    {
     "data": {
      "text/plain": [
       "array([[ 4,  3,  5,  7],\n",
       "       [ 1, 12, 11,  9],\n",
       "       [ 2, 15,  1, 14]])"
      ]
     },
     "execution_count": 193,
     "metadata": {},
     "output_type": "execute_result"
    }
   ],
   "source": [
    "a = np.array([[4,  3,  5,  7],\n",
    "              [1, 12, 11,  9],\n",
    "              [2, 15,  1, 14]])\n",
    "a"
   ]
  },
  {
   "cell_type": "code",
   "execution_count": 192,
   "id": "2d5550d9",
   "metadata": {},
   "outputs": [
    {
     "data": {
      "text/plain": [
       "array([[ 1,  3,  1,  7],\n",
       "       [ 2, 12,  5,  9],\n",
       "       [ 4, 15, 11, 14]])"
      ]
     },
     "execution_count": 192,
     "metadata": {},
     "output_type": "execute_result"
    }
   ],
   "source": [
    "a.sort(axis = 0) #재밌는 것은 위아래단위로 정렬이 되었다.아까는 좌에서 우로 정렬되었지만 엑시스가 0이면 위에서 아래로 정렬된다.\n",
    "a"
   ]
  },
  {
   "cell_type": "code",
   "execution_count": 194,
   "id": "b16e2370",
   "metadata": {},
   "outputs": [],
   "source": [
    "#만약 내림차순으로 정렬한다면 a에 대해 reverse를 하면 될 것이다.\n"
   ]
  },
  {
   "cell_type": "code",
   "execution_count": 195,
   "id": "15192e6f",
   "metadata": {},
   "outputs": [
    {
     "data": {
      "text/plain": [
       "array([2, 3, 1, 0], dtype=int64)"
      ]
     },
     "execution_count": 195,
     "metadata": {},
     "output_type": "execute_result"
    }
   ],
   "source": [
    "a = np.array([42, 38, 12, 25])  \n",
    "np.argsort(a) # 오름차순 정렬 시 해당 인덱스의 위치를 나타낸다. \n",
    "#아그소트는 자주 쓰인다. "
   ]
  },
  {
   "cell_type": "code",
   "execution_count": 196,
   "id": "c26042c8",
   "metadata": {},
   "outputs": [
    {
     "data": {
      "text/plain": [
       "array([12, 25, 38, 42])"
      ]
     },
     "execution_count": 196,
     "metadata": {},
     "output_type": "execute_result"
    }
   ],
   "source": [
    "a[np.argsort(a)] # 그래서 이것을 그대로 집어넣으면 결과가 그대로 나오게 된다."
   ]
  },
  {
   "cell_type": "code",
   "execution_count": 198,
   "id": "2b1c6b31",
   "metadata": {},
   "outputs": [
    {
     "data": {
      "text/plain": [
       "array([42, 38, 25, 12])"
      ]
     },
     "execution_count": 198,
     "metadata": {},
     "output_type": "execute_result"
    }
   ],
   "source": [
    "a[np.argsort(a)][::-1] # reverse는 쉽게 하자."
   ]
  },
  {
   "cell_type": "code",
   "execution_count": 200,
   "id": "60a9e34e",
   "metadata": {},
   "outputs": [
    {
     "data": {
      "text/plain": [
       "26"
      ]
     },
     "execution_count": 200,
     "metadata": {},
     "output_type": "execute_result"
    }
   ],
   "source": [
    "x = np.array([18,   5,  10,  23,  19,  -8,  10,   0,   0,   5,   2,  15,   8,\n",
    "              2,   5,   4,  15,  -1,   4,  -7, -24,   7,   9,  -6,  23, -13])\n",
    "len(x)"
   ]
  },
  {
   "cell_type": "code",
   "execution_count": 201,
   "id": "167dce15",
   "metadata": {},
   "outputs": [
    {
     "name": "stdout",
     "output_type": "stream",
     "text": [
      "4.8076923076923075\n",
      "4.8076923076923075\n",
      "4.8076923076923075\n"
     ]
    }
   ],
   "source": [
    "#일반적으로 평균을 구하는 것은 이렇게 해왔다.\n",
    "print(x.sum()/len(x))\n",
    "print(x.mean()) #이제는 새로운 방법도 쓰자.\n",
    "print(np.mean(x)) #매우 간단하게 할 수 있다."
   ]
  },
  {
   "cell_type": "code",
   "execution_count": 202,
   "id": "a8f0fe4c",
   "metadata": {},
   "outputs": [],
   "source": [
    "# 분산은 데이터가 평균 인근에 얼마나 흩어져있는지를 나타내는 정도이다.\n",
    "# 분산의 정의는 각각의 데이터가 얼마나 평균에 떨어져있는지 보여주는 것이다. .\n",
    "# 각각의 데이터에서 평균을 뺀다(편차) 데이터가 평균보다 크면 양수, 작으면 음수가 나온다.\n",
    "# 각 데이터-평균을 제곱해서 음수부호를 먼저 없앤 상태에서 전부 더한다. 1/n(sum((data-mean)**2))으로 나타낸다. \n",
    "# 이것을 모분산이라고 한다. 전체 데이터에 대한 분산이다. 데이터의 갯수가 n개니까."
   ]
  },
  {
   "cell_type": "code",
   "execution_count": 203,
   "id": "c84edf91",
   "metadata": {},
   "outputs": [],
   "source": [
    "# 표본분산은 다르다. 1/n(sum((data-mean)**2))로 정의한다. \n",
    "# 표준편차는 분산의 제곱근이다. 분산에 루트를 씌운 것이다. \n",
    "# co variance는 공분산이다. 변수가 한개가 아니라 두개가 있는 경우의 분산을 말한다.\n",
    ".\n"
   ]
  },
  {
   "cell_type": "code",
   "execution_count": 204,
   "id": "e138ac5d",
   "metadata": {},
   "outputs": [],
   "source": [
    "# (합(데이터 - 평균))/데이터 갯수 이대로 하면 마이너스 데이터로 인해 데이터가 오염된다.\n",
    "# (합(데이터 - 평균)제곱)/데이터 갯수로 계산을 하는 것이 일반적이다.\n"
   ]
  },
  {
   "cell_type": "code",
   "execution_count": 208,
   "id": "c2853de8",
   "metadata": {},
   "outputs": [
    {
     "name": "stdout",
     "output_type": "stream",
     "text": [
      "\n"
     ]
    }
   ],
   "source": [
    "# 상관분석\n",
    "# 부모님의 키와 자식의 키 사이에 관계가 있을까?와 같은 질문의 대답에 필요하다.\n",
    "# 즉 상관성이 있는지 없는지를 알고싶을때 사용한다.\n",
    "# 부모님의 키의 변화에 따른 자식키의 변화하는 정도를 알 수 있다면 부모님키와 자식키간의 상관관계를 분석할 수 있다.\n",
    "'''\n",
    "                                           ^ 자녀키\n",
    "2사분면                                    |                                                      1사분면\n",
    "              부모키는 작은데              |\n",
    "             자녀키는 더 크다.             |\n",
    "             (음의 상관관계)               |\n",
    "                                           |                부모키, 자녀키가 둘다 크다.(양의 상관관계)\n",
    "                                           |\n",
    "                                           |\n",
    "------------------------------------------------------------------------------------------------------>\n",
    "                                           |                                                        부모님 키\n",
    "                                           |\n",
    "    부모키가 작고 자녀키도 작다.           |\n",
    "     (양의 상관관계)                       |\n",
    "                                           |               부모키가 큰데 자녀키가 작다.\n",
    "                                           |               (음의 상관관계)\n",
    "3사분면                                    |                                                      4사분면\n",
    "'''\n",
    "print()\n",
    "# 만약 모든 사분면에 동일하게 위치한다면 뭐라고 하기 딱 말할 수 없다. \n",
    "# 그 이전에 위에 데이터만을 가지고 판단하기 어렵다.\n",
    "# 다만 데이터가 중앙에서 멀리 떨어질 수록 특성을 더 강력하게 가지고 있다고 말할 수 있다.\n",
    "# 그렇기에 면적을 구해서 더하자는 것이다. 공분산은 그렇게 만들어지는 것이다.\n",
    "# 더 멀리 떨어져 있는 데이터는 더 강한 영향을 발휘한다고 본다. \n",
    "# 현재 키를 기준으로 계산하는데 센티미터로 이루어지는 경우와 미터단위로 이루어지는 경우가 단위차이가 크게 난다.\n",
    "# 공분산 값은 단위에 따라 달라지기에 단위를 통일할 필요가 있다. 기준이 되는 단위를 정하는 것을 표준화 라고 한다.\n"
   ]
  },
  {
   "cell_type": "code",
   "execution_count": 209,
   "id": "6809e361",
   "metadata": {},
   "outputs": [],
   "source": [
    "# 상관분석을 반드시 해야한다. 엄청나게 많은 정보(가족력, 혈액형, 신장, 무게, 발병여부)들을 가지고 조사한다.\n",
    "# 변수들을 전부 쓸 수 있어도 의미없는 변수를 쓸 필요는 없다. 관련이 없는 것은 소거해야 한다.\n",
    "# 당뇨병 발병에 영향을 주는 중요한 요소들을 종합해야 하는데 그 상관관계를 조사하는데 공분산을 쓴다.\n",
    "# 상관계수가 큰 것을 기준으로 상관분석을 하면 좋은 분석결과가 나온다는 것이다.\n",
    "# 예측모델을 만들때 중요하지 않는 변수를 사용하지 않기 위해. 좋은 변수를 최대한 끌어내기 위해. 상관분석이 반드시 필요하다.\n",
    "# 상관분석도 상당히 여러 종류가 존재한다. \n",
    "# 평균을 구할 수 있어야 하고 분산을 구할 수 있어야 한다. "
   ]
  },
  {
   "cell_type": "code",
   "execution_count": 210,
   "id": "30f88171",
   "metadata": {},
   "outputs": [
    {
     "data": {
      "text/plain": [
       "array([ 18,   5,  10,  23,  19,  -8,  10,   0,   0,   5,   2,  15,   8,\n",
       "         2,   5,   4,  15,  -1,   4,  -7, -24,   7,   9,  -6,  23, -13])"
      ]
     },
     "execution_count": 210,
     "metadata": {},
     "output_type": "execute_result"
    }
   ],
   "source": [
    "x"
   ]
  },
  {
   "cell_type": "code",
   "execution_count": 212,
   "id": "44b7050b",
   "metadata": {},
   "outputs": [
    {
     "data": {
      "text/plain": [
       "115.23224852071006"
      ]
     },
     "execution_count": 212,
     "metadata": {},
     "output_type": "execute_result"
    }
   ],
   "source": [
    "np.var(x) #분산을 출력한다."
   ]
  },
  {
   "cell_type": "code",
   "execution_count": 216,
   "id": "17077130",
   "metadata": {},
   "outputs": [
    {
     "data": {
      "text/plain": [
       "115.23224852071006"
      ]
     },
     "execution_count": 216,
     "metadata": {},
     "output_type": "execute_result"
    }
   ],
   "source": [
    "np.sum((x-np.mean(x))**2)/len(x) # 분산을 구하는 공식이다."
   ]
  },
  {
   "cell_type": "code",
   "execution_count": 217,
   "id": "ba234775",
   "metadata": {},
   "outputs": [
    {
     "data": {
      "text/plain": [
       "10.734628476137871"
      ]
     },
     "execution_count": 217,
     "metadata": {},
     "output_type": "execute_result"
    }
   ],
   "source": [
    "np.std(x) # 이것이 표준편차이다.\n"
   ]
  },
  {
   "cell_type": "code",
   "execution_count": 218,
   "id": "44838522",
   "metadata": {},
   "outputs": [
    {
     "data": {
      "text/plain": [
       "10.734628476137871"
      ]
     },
     "execution_count": 218,
     "metadata": {},
     "output_type": "execute_result"
    }
   ],
   "source": [
    "np.sqrt(np.sum((x-np.mean(x))**2)/len(x))#편차를 sqrt로 씌우면 표준편차를 구할 수 있다."
   ]
  },
  {
   "cell_type": "code",
   "execution_count": 220,
   "id": "fdeabc9c",
   "metadata": {},
   "outputs": [
    {
     "data": {
      "text/plain": [
       "-24.0"
      ]
     },
     "execution_count": 220,
     "metadata": {},
     "output_type": "execute_result"
    }
   ],
   "source": [
    "np.percentile(x,0) # 제일 작은 값이다. 0퍼센트 지점이다."
   ]
  },
  {
   "cell_type": "code",
   "execution_count": 221,
   "id": "c0cdc365",
   "metadata": {},
   "outputs": [
    {
     "data": {
      "text/plain": [
       "0.0"
      ]
     },
     "execution_count": 221,
     "metadata": {},
     "output_type": "execute_result"
    }
   ],
   "source": [
    "np.percentile(x,25) # 1사분위수. 25퍼센트 지점이다.\n"
   ]
  },
  {
   "cell_type": "code",
   "execution_count": 222,
   "id": "777d08b5",
   "metadata": {},
   "outputs": [
    {
     "data": {
      "text/plain": [
       "5.0"
      ]
     },
     "execution_count": 222,
     "metadata": {},
     "output_type": "execute_result"
    }
   ],
   "source": [
    "np.percentile(x,50) # 2사분위수. 50퍼센트 지점이다."
   ]
  },
  {
   "cell_type": "code",
   "execution_count": 223,
   "id": "c32f7d03",
   "metadata": {},
   "outputs": [
    {
     "data": {
      "text/plain": [
       "10.0"
      ]
     },
     "execution_count": 223,
     "metadata": {},
     "output_type": "execute_result"
    }
   ],
   "source": [
    "np.percentile(x,75) # 3사분위수. 75퍼센트 지점이다."
   ]
  },
  {
   "cell_type": "code",
   "execution_count": 224,
   "id": "cd037cb7",
   "metadata": {},
   "outputs": [
    {
     "data": {
      "text/plain": [
       "23.0"
      ]
     },
     "execution_count": 224,
     "metadata": {},
     "output_type": "execute_result"
    }
   ],
   "source": [
    "np.percentile(x,100) # 4사분위수. 100퍼센트 지점이다."
   ]
  },
  {
   "cell_type": "code",
   "execution_count": null,
   "id": "02caf19c",
   "metadata": {},
   "outputs": [],
   "source": []
  }
 ],
 "metadata": {
  "kernelspec": {
   "display_name": "Python 3 (ipykernel)",
   "language": "python",
   "name": "python3"
  },
  "language_info": {
   "codemirror_mode": {
    "name": "ipython",
    "version": 3
   },
   "file_extension": ".py",
   "mimetype": "text/x-python",
   "name": "python",
   "nbconvert_exporter": "python",
   "pygments_lexer": "ipython3",
   "version": "3.11.4"
  }
 },
 "nbformat": 4,
 "nbformat_minor": 5
}
