{
 "cells": [
  {
   "cell_type": "code",
   "execution_count": null,
   "id": "aa88fde7",
   "metadata": {},
   "outputs": [],
   "source": [
    "# 파이썬 기초\n",
    "print(\"Hello\")                                                   # print 출력\n",
    "hello = \"hello\"                                                  # 변수 할당\n",
    "print(hello)                                                     # 프린트 출력\n",
    "print(3.1e10)                                                    # 3.1에 10을 10번곱하기\n",
    "print(0o15)                                                      # 8진수 15는 13 \n",
    "print(0xef)                                                      # 16진수 ef는 239\n",
    "3 ** 4                                                           # 3의 4제곱\n",
    "5 % 3                                                            # 5를 3으로 나눈 나머지\n",
    "print('kim\\'s')                                                  # 콤마기호 반영\n",
    "print(\"hello\\nworld\")                                            # 엔터기호\n",
    "\"hi \"*10                                                         # 10번 반복 출력\n",
    "len(\"hello\")                                                     # 단어길이확인\n",
    "print(\"%10s\" %\"hi\")                                              # 10칸 공간만들고 뒤에 hi출력\n",
    "print(\"%10.2f\" % 3.141592)                                       # 소수 둘째짜리까지 출력하기 \n",
    "\"hello world\".split()                                            # 빈칸으로 분할하기\n",
    "\",\".join(\"hello\")                                                # 단어사이에 , 추가하기\n",
    "print(\"hello\".upper())                                           # 대문자로 바꾸기\n",
    "print(\"HELLO\".lower())                                           # 소문자로 바꾸기\n",
    "print(\"   python    \".strip())                                   # 공백제거\n",
    "print(\" python    \".rstrip())                                    # 오른쪽 공백제거\n",
    "print(\"   python    \".lstrip())                                  # 왼쪽 공백제거\n",
    "print(\"123\".zfill(5))                                            # 자릿수 채우기\n",
    "input()                                                          # 자료입력\n",
    "a1, a2 = input().split()                                         # 띄어쓰기 기준 2개 할당"
   ]
  },
  {
   "cell_type": "code",
   "execution_count": null,
   "id": "cfc15a7a",
   "metadata": {},
   "outputs": [],
   "source": [
    "# 인덱스\n",
    "a = \"hello\"\n",
    "a[0]                                                             # 맨 첫 번째 글자 출력(인덱스)\n",
    "a[-1]                                                            # 맨 마지막 글자 출력(마이너스 인덱스)\n",
    "print(a[0:2:2])                                                  # 0번부터 2번까지 2칸간격으로\n",
    "print(a[::2])                                                    # 전체를 2칸 간격으로\n",
    "print(a[2:])                                                     # 2번 인덱스부터\n",
    "print(a[:3])                                                     # 3번 인덱스 까지\n",
    "print(a.find(\"z\"))                                               # 해당단어 위치찾기, 찾는값이 없으면 -1이 나옴\n",
    "print(a.index(\"h\"))                                              # 해당단어 위치찾기, 찾는값이 없으면 애러가 뜸(잘 안쓰임)\n",
    "a.replace(\"h\",\"m\")                                               # 단어교체\n",
    "\"오늘은 교육 %d 일째 %d교시 %s 입니다.\" % (2, 5, \"실습\")         # 퍼센트 할당\n",
    "\"{2}일동안 훈련한 모델의 {0}가 {1}%입니다.\".format(\"acc\",90, 5)  # 포맷할당"
   ]
  },
  {
   "cell_type": "code",
   "execution_count": null,
   "id": "410cb652",
   "metadata": {},
   "outputs": [],
   "source": [
    "# 리스트 기초\n",
    "x = list()                                                       # 리스트 할당\n",
    "x = [10,20,30]                                                   # 리스트 할당\n",
    "q = ['kim',25,180,70,'female',False, 4.1,[100,90,100]]          # 리스트 내부 할당 특징\n",
    "print(q[4])                                                      # 리스트 4번 인덱스 확인\n",
    "print(q[-1][1])                                                  # 리스트 맨 뒤의 1번 인덱스 출력\n",
    "x , y = [1,2],[3,4]\n",
    "print(x+y)                                                       # 리스트 합치기\n",
    "x += [3,1]                                                       # 리스트 합치기\n",
    "print(x * 5)                                                     # 같은 리스트 5개 합치기\n",
    "q[1] = 26                                                        # 리스트 내부자료 변경\n",
    "range(5)                                                         # 0부터 4까지 숫자\n",
    "range(1,5,2)                                                     # 1부터 4까지 2칸간격"
   ]
  },
  {
   "cell_type": "code",
   "execution_count": null,
   "id": "64cd5c21",
   "metadata": {},
   "outputs": [],
   "source": [
    "# 리스트 추가 삭제\n",
    "x = list(range(10,100,20))\n",
    "x.append(110)                                                    # 맨 뒤에 요소 추가하기\n",
    "x.extend([130,150])                                              # 맨 뒤에 리스트 연장하기\n",
    "x.insert(4,80)                                                   # 4번 인덱스에 추가하기\n",
    "x.reverse()                                                      # 순서 뒤집기\n",
    "del x[0]                                                         # 리스트 해당 인덱스 삭제\n",
    "x.pop()                                                          # 리스트 맨 뒷 자료 삭제\n",
    "x.remove(50)                                                     # 리스트 내부 해당자료 삭제"
   ]
  },
  {
   "cell_type": "code",
   "execution_count": null,
   "id": "7afa0781",
   "metadata": {},
   "outputs": [],
   "source": [
    "# 리스트 관리\n",
    "a = [5,1,4,2,3]\n",
    "a.sort()                                                         # 리스트 오름차순 정렬\n",
    "a.sort(reverse = True)                                          # 리스트 내림차순 정렬\n",
    "sorted(a)                                                        # 리스트 오름차순 정렬(원본손상없이, 복사용 활용가능)\n",
    "b = a                                                            # 얕은 복사\n",
    "b = a.copy()                                                     # 복사(내부요소의 복사에는 한계)\n",
    "import copy\n",
    "b = copy.deepcopy(a)                                             # 깊은 복사(완전히 새로운 값으로 할당)\n",
    "print(a is b)                                                    # a는 b인가?(공유여부 확인)\n",
    "print(1 in a)                                                    # a에 1이 있는가?\n",
    "print(1 not in a)                                                # a에 1이 없는가? \n",
    "a.clear()                                                        # 리스트 내부 전부삭제"
   ]
  },
  {
   "cell_type": "code",
   "execution_count": null,
   "id": "e2e82258",
   "metadata": {},
   "outputs": [],
   "source": [
    "# 튜플 \n",
    "a = tuple()                                                      # 튜플 할당\n",
    "a = (10,)                                                        # 튜플 할당"
   ]
  },
  {
   "cell_type": "code",
   "execution_count": null,
   "id": "dff9d7fb",
   "metadata": {},
   "outputs": [],
   "source": [
    "# 딕셔너리\n",
    "score = dict()                                                   # 딕셔너리 할당\n",
    "score = {'kor': 100, 'eng': 90, 'mat':80}                        # 딕셔너리 할당 \n",
    "sco = dict(zip(['kor','eng','mat'],[100,90,80]))                 # 딕셔너리 압축기술\n",
    "print(sco('eng'))                                                # 키값 출력(키값 없을시 애러)\n",
    "print(sco.get('eng'))                                            # 키값 출력(키값 없으면 none 출력)\n",
    "print(sco.get('eng','default'))                                  # 키값 출력(키값 없으면 default 출력)\n",
    "x = {'a': 10, 'b': 20, 'c': 30, 'd' : 40}\n",
    "x.setdefault('e')                                                # 키값 할당(none으로 할당됨)\n",
    "x.setdefault('f', 100)                                           # 키값 할당(100 할당됨)\n",
    "x.update(e=50)                                                   # 키값 할당(50으로 수정됨)\n",
    "x.update(g=200)                                                  # 키값 할당(없으면 새로 추가됨)\n",
    "x.update(b = 200, i=100)                                         # 키값할당(있으면 수정, 없으면 추가) \n",
    "x.pop('a')                                                       # 키값 삭제\n",
    "del x['b']                                                       # 키값 삭제\n",
    "x.popitem()                                                      # 맨 뒤 삭제\n",
    "x.clear()                                                        # 전체 삭제"
   ]
  },
  {
   "cell_type": "code",
   "execution_count": null,
   "id": "6c361197",
   "metadata": {},
   "outputs": [],
   "source": [
    "# 세트\n",
    "new_set = set()                                                  # 세트 할당\n",
    "s1 = {1,2,3,4}\n",
    "s2 = {3,4,5,6}\n",
    "print(s1.union(s2))                                              # 합집합\n",
    "print(s1.difference(s2))                                         # 차집합\n",
    "s1.update([3,8,9])                                               # 세트 업데이트\n",
    "s1.remove(9)                                                     # 세트요소 제거\n"
   ]
  },
  {
   "cell_type": "code",
   "execution_count": null,
   "id": "88ee368d",
   "metadata": {},
   "outputs": [],
   "source": [
    "# 조건문\n",
    "acc = 95\n",
    "if acc > 90 : \n",
    "    print(\"pass\")\n",
    "else: \n",
    "    print(\"fail\")                                                # 조건문 기본\n",
    "    \n",
    "if (1 > 0):\n",
    "    if (0 < 5) :\n",
    "        print('pass')                                            # 다중조건문\n",
    "        \n",
    "if acc > 90 : \n",
    "    print(\"pass\")\n",
    "elif acc == 95: \n",
    "    print(\"accuracy\")                                               \n",
    "else: \n",
    "    print(\"fail\")                                                # elif 조건문\n",
    "    \n",
    "if not 0:\n",
    "    pass\n",
    "else:\n",
    "    print(\"else\")                                                # if not 부정문   "
   ]
  },
  {
   "cell_type": "code",
   "execution_count": null,
   "id": "d033a36f",
   "metadata": {},
   "outputs": [],
   "source": [
    "# 반복문(for)\n",
    "for i in range(5):                                              # 0부터 4까지 출력하기\n",
    "    print(i)\n",
    "    \n",
    "for c in [\"hello\",\"hi\"]:                                        # 문자 출력하기\n",
    "    print(c)"
   ]
  },
  {
   "cell_type": "code",
   "execution_count": null,
   "id": "dffadede",
   "metadata": {},
   "outputs": [],
   "source": [
    "# 반복문 while\n",
    "x = 0\n",
    "while x < 10:\n",
    "    print(x)\n",
    "    x +=1                                                       # 조건이 True면 무한반복\n",
    "\n",
    "i = 1\n",
    "while True:\n",
    "    print(i)\n",
    "    i+=1\n",
    "    if i == 10:\n",
    "        break                                                   # while True일 경우 무한반복 브레이크 요령\n",
    "\n",
    "i = 1\n",
    "while True: \n",
    "    i+=1\n",
    "    if i < 5:\n",
    "        continue \n",
    "    elif i < 10:\n",
    "        print(i)\n",
    "    else:\n",
    "        break                                                   # continue로 건너뛸 부분 정하기 "
   ]
  },
  {
   "cell_type": "code",
   "execution_count": null,
   "id": "97c5a3df",
   "metadata": {},
   "outputs": [],
   "source": [
    "# 랜덤모듈\n",
    "import inspect, random                                          # 랜덤모듈 호출, 파일위치추적모듈 호출\n",
    "print(inspect.getfile(random))                                   # 랜덤모듈 파일 위치추적\n",
    "print(random.random())                                           # 0부터 1 사이 랜덤값 출력\n",
    "print(random.randint(1,45))                                      # 1부터 45사이의 숫자 출력"
   ]
  },
  {
   "cell_type": "code",
   "execution_count": null,
   "id": "9d19cdbc",
   "metadata": {},
   "outputs": [],
   "source": [
    "# 오픈함수 \n",
    "f = open(\"0901.txt\",\"w\")                                         # 0901텍스트파일 쓰기모드로 열기(파일이 없으면 파일 생성)\n",
    "f.write(\"2번째 줄\")                                              # 파일에 적기\n",
    "f.close()                                                        # 파일 닫기\n",
    "g = open(\"0901.txt\",\"r\" )                                        # 파일 읽기모드\n",
    "f = open(\"0901.txt\",\"a\")                                         # 파일 추가모드\n",
    "f.write(\"3번째 줄\")                                              \n",
    "f.close()\n",
    "\n",
    "g = open(\"0901_2.txt\",\"w\")\n",
    "for i in range(1,6):\n",
    "    g.write(\"%d번\\n\" % i)\n",
    "g.close()                                                        # 반복문으로 위의 절차 진행하기\n",
    "\n",
    "with open(\"0901_3.txt\",\"w\")as g:\n",
    "    g.write(\"hello\")                                             # with문을 사용하여 열기(파인튜닝때 자주쓰임)"
   ]
  },
  {
   "cell_type": "code",
   "execution_count": null,
   "id": "02322bec",
   "metadata": {},
   "outputs": [],
   "source": [
    "# 피클 - 데이터 객채형태로 저장하기\n",
    "import pickle                                                   # 피클모듈 불러오기                  \n",
    "kor = 100\n",
    "with open(\"mypic.p\",\"wb\") as f:                                 # w : 쓰기, b : 바이너리 이진수형태 저장\n",
    "    pickle.dump(kor, f)                                          # 피클파일을 객체형태로 저장(dump)\n",
    "    \n",
    "data ={\"name\":\"kim\",\"age\":25,\"addr\":\"seoul\"}                     \n",
    "with open(\"0901_5.txt\",\"wb\") as f:                              \n",
    "    pickle.dump(data,f)                                          # 딕셔너리 데이터 객체형태로 저장하기"
   ]
  },
  {
   "cell_type": "code",
   "execution_count": null,
   "id": "c94b8676",
   "metadata": {},
   "outputs": [],
   "source": [
    "# 함수의 정의 \n",
    "def hamsuname():                                                 # 함수 정의 \n",
    "    myangleuong = 1                                              # 함수 명령정의 \n",
    "    return myangleuong                                           # 함수 반환값 확인\n",
    "print(hamsuname())                                               # 함수 결과값 확인\n",
    "\n",
    "def hi(): \n",
    "    print(\"Hello. How Are You?\")                                 # 리턴없이 출력하는 함수정의\n",
    "hi()\n",
    "\n",
    "def addition(x,y):\n",
    "    return x+y                                                  # 즉시처리 함수구현\n",
    "\n",
    "def add3(*arg):                                                 # 인수 데이터 갯수 제한없음\n",
    "    print(arg)"
   ]
  },
  {
   "cell_type": "code",
   "execution_count": null,
   "id": "0621387e",
   "metadata": {},
   "outputs": [],
   "source": [
    "# 재귀호출 \n",
    "def hi(cnt) :\n",
    "    if cnt == 0:\n",
    "        return\n",
    "    print(\"hi hello\")\n",
    "    cnt -=1\n",
    "    hi(cnt)\n",
    "hi(5)                                                            # 자기 자신을 5번 호출하는 함수"
   ]
  },
  {
   "cell_type": "code",
   "execution_count": null,
   "id": "be8221f4",
   "metadata": {},
   "outputs": [],
   "source": [
    "# 람다함수\n",
    "b = 5\n",
    "print((lambda a:a+b)(10))                                      # 즉석에서 함수 제작실행\n",
    "\n",
    "x = [1,2,3]\n",
    "y = [2,4,6]\n",
    "print(list(map(lambda a,b:a*b ,x,y)))                          # x,y를 a,b에 적용시켜 곱하기"
   ]
  },
  {
   "cell_type": "code",
   "execution_count": null,
   "id": "e5343c36",
   "metadata": {},
   "outputs": [],
   "source": [
    "# map 함수\n",
    "def add_5(x):\n",
    "    return x+5                                                 # 함수 정의\n",
    "\n",
    "print(list(map(add_5,[1,2,3])))                                 # 리스트에 함수 즉석에서 적용하기"
   ]
  },
  {
   "cell_type": "code",
   "execution_count": null,
   "id": "7bb3ba24",
   "metadata": {},
   "outputs": [],
   "source": [
    "# 필터함수\n",
    "a = list(range(1,11))\n",
    "def myfunc(x):\n",
    "    return x >=5 and x < 8\n",
    "print(list(filter(myfunc,a)))                                  # 5이상 8이하의 값 추출"
   ]
  },
  {
   "cell_type": "code",
   "execution_count": null,
   "id": "61b21842",
   "metadata": {},
   "outputs": [],
   "source": [
    "# 내장함수\n",
    "print(abs(-5))                                                 # 입력값에 절대값 출력\n",
    "print(all([1,2]))                                              # 모든 값이 참일 시 참\n",
    "print(all([0,1]))                                              # 하나라도 거짓일 시 거짓\n",
    "print(all([]))                                                 # 참으로 출력\n",
    "print(any([1,0]))                                              # 하나라도 참일 시 참\n",
    "print(any([0,\"\"]))                                             # 비어있을 시 거짓\n",
    "print(ord(\"a\"))                                                # 유니코드값 확인\n",
    "print(chr(54028))                                              # 해당 유니코드값 환산\n",
    "print(dir([1,2]))                                              # 사용가능 함수목록\n",
    "help(dir)                                                      # dir함수 사용설명서\n",
    "print(divmod(8,5))                                             # 몫과 나머지를 튜플로 출력\n",
    "listies = [ 'abc' , 'cdec' , 'efg']\n",
    "for i in listies:\n",
    "    if i.endswith('c'):                                        # 끝문자 포함여부 확인\n",
    "        print(i)"
   ]
  },
  {
   "cell_type": "code",
   "execution_count": null,
   "id": "355f9251",
   "metadata": {},
   "outputs": [],
   "source": [
    "# enumerate(열거),eval(문자열 실행)\n",
    "for i, a in enumerate(\"hihello\"):\n",
    "    print(i,a)                                                 # 함수요소 열거하여 실행\n",
    "print(eval(\"1+2\"))                                             # 문자를 코드로 바꿔서 실행"
   ]
  },
  {
   "cell_type": "code",
   "execution_count": null,
   "id": "4c79d6c9",
   "metadata": {},
   "outputs": [],
   "source": [
    "# 클래스 기초\n",
    "class 붕어빵기계:\n",
    "    def __init__(self, 내용물):                                # 객체초기화, 변수할당\n",
    "        self.틀= 내용물                                        # 생성함수정의\n",
    "    def 굽기(self,재료):                                       # 클래스 함수 정의\n",
    "        self.틀+=재료\n",
    "        return self.res                                         \n",
    "붕어빵1호 = 붕어빵기계(\"\")                            \n",
    "붕어빵2호 = 붕어빵기계(\"단팥\")\n",
    "print(붕어빵2호.틀)\n",
    "\n",
    "class Animal:\n",
    "    def __init__(self, sp = \"dog\"):                           # 디폴트값 설정\n",
    "        print(\"동물이 태어날 때 자동으로 호출된다.\")\n",
    "        self.jong= sp \n",
    "    def eat(self, feed):\n",
    "        print(feed,\"를 먹는다.\")\n",
    "        self.food = feed\n",
    "    def study(self, sub):\n",
    "        print(sub,\"를 공부한다.\")\n",
    "        self.categories = sub\n",
    "        \n",
    "p1 = Animal(\"man\")                                             # 특정 클래스 정의\n",
    "print(p1.jong)\n",
    "p1.study(\"딥러닝\")                                             # 클래스 함수 호출"
   ]
  },
  {
   "cell_type": "code",
   "execution_count": null,
   "id": "77322e4f",
   "metadata": {},
   "outputs": [],
   "source": [
    "# 값에 대한 유용한 함수들\n",
    "print(len(\"hello\"))                                            # 문자의 길이\n",
    "print(len([\"t\",\"e\",\"a\",\"m\"]))                                  # 리스트 길이\n",
    "print(max([1,2,3,4,5]))                                        # 최댓값 확인\n",
    "print(max([\"a\",\"b\",\"c\"]))                                      # 아스키코드값중 큰 값\n",
    "print(min([\"a\",\"b\",\"c\"]))                                      # 아스키코드값중 최소값\n",
    "print(pow(2,3))                                                # 2의 3제곱\n",
    "print(round(3.14))                                             # 반올림\n",
    "print(round(3.141592,3))                                       # 소수 3째자리까지 기재\n",
    "print(sum([1,2,3]))                                            # 내부 총합\n",
    "print(type('a'))                                               # 자료타입\n",
    "print(list(zip(['a','c'],['d','b'])))                          # 두 개의 리스트를 압축\n",
    "import math                                                   # 수학함수 호출\n",
    "print(math.gcd(8,6))                                           # 최대공약수   \n",
    "print(math.lcm(8,6))                                           # 최소공배수"
   ]
  },
  {
   "cell_type": "code",
   "execution_count": null,
   "id": "612d2757",
   "metadata": {},
   "outputs": [],
   "source": [
    "# 시간관련 함수\n",
    "import datetime                                               # 날짜모듈 호출\n",
    "d1 = datetime.date(2023,9,4)                                   # 년월일 지정\n",
    "d2 = datetime.date(2024,1,9)\n",
    "print(d2-d1)                                                   # 일수 체크(시간단위)\n",
    "print((d2-d1).days)                                            # 일수 숫자만 추출\n",
    "print(d1.weekday())                                            # 요일 확인(숫자로 표기, 월요일이 0)\n",
    "print(d1.isoweekday())                                         # 요일확인(월요일이 1)\n",
    "\n",
    "import time                                                   # 시간모듈 호출\n",
    "s = time.time()                                               # 1970.1.1기준 흐른 시간\n",
    "for i in range(10):\n",
    "    print(i)\n",
    "    time.sleep(1)                                             # 시간 1초 지연 \n",
    "e = time.time() - s                                           # 함수가동시간"
   ]
  },
  {
   "cell_type": "code",
   "execution_count": null,
   "id": "31ce2551",
   "metadata": {},
   "outputs": [],
   "source": []
  },
  {
   "cell_type": "code",
   "execution_count": null,
   "id": "9af83583",
   "metadata": {},
   "outputs": [],
   "source": []
  },
  {
   "cell_type": "code",
   "execution_count": null,
   "id": "bc023c8e",
   "metadata": {},
   "outputs": [],
   "source": []
  }
 ],
 "metadata": {
  "kernelspec": {
   "display_name": "Python 3 (ipykernel)",
   "language": "python",
   "name": "python3"
  },
  "language_info": {
   "codemirror_mode": {
    "name": "ipython",
    "version": 3
   },
   "file_extension": ".py",
   "mimetype": "text/x-python",
   "name": "python",
   "nbconvert_exporter": "python",
   "pygments_lexer": "ipython3",
   "version": "3.11.5"
  }
 },
 "nbformat": 4,
 "nbformat_minor": 5
}
