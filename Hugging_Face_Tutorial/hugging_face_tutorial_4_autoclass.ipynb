{
 "cells": [
  {
   "cell_type": "code",
   "execution_count": 1,
   "id": "56eea34a",
   "metadata": {},
   "outputs": [],
   "source": [
    "# 오토클래스\n",
    "# 오토클래스는 주어진 체크포인트에서 올바른 아키텍처를 자동으로 추론하여 불러온다. \n",
    "# 오토클래스를 사용하면 모델을 처음부터 학습하는데 시간과 리소스를 투입하지 않아도 된다. \n",
    "# 체크포인트에 구애받지 않는 코드를 생성한다는 것은 코드가 한 체크포인트에서 작동하면 아키텍처가 다르더라도 \n",
    "# 다른 체크포인트에서도 작동한다는 것을 의미한다. \n",
    "#\n",
    "# 아키텍처는 모델의 골격(기반)을 의미하고 체크포인트는 주어진 아키텍처에 대한 가중치(파생)이다. \n",
    "# 예를 들면 BERT는 아키텍쳐이고 bert-base-uncased는 체크포인트이다. 모델은 아키텍처일 수 있고 체크포인트일 수 있다. \n",
    "# 이 튜토리얼에서는 5개를 로드할 것이다.(토크나이저, 이미지 프로세서, 특징추출기, 프로세서, 모델)"
   ]
  },
  {
   "cell_type": "code",
   "execution_count": null,
   "id": "ddb788a7",
   "metadata": {},
   "outputs": [],
   "source": [
    "# 오토 토크나이저\n",
    "# 거의 모든 자연어처리 작업은 토크나이저로 시작된다. \n",
    "# 토크나이저는 사용자의 입력을 모델에서 처리할 수 있는 형식으로 변환한다. \n",
    "from transformers import AutoTokenizer\n",
    "\n",
    "tokenizer = AutoTokenizer.from_pretrained(\"bert-base-uncased\")\n",
    "sequence = \"In a hole in the ground there lived a hobbit.\"\n",
    "print(tokenizer(sequence))\n",
    "\n",
    "# 토큰화는 다음과 같이 이루어질 것이다. \n",
    "{'input_ids': [101, 1999, 1037, 4920, 1999, 1996, 2598, 2045, 2973, 1037, 7570, 10322, 4183, 1012, 102], \n",
    " 'token_type_ids': [0, 0, 0, 0, 0, 0, 0, 0, 0, 0, 0, 0, 0, 0, 0], \n",
    " 'attention_mask': [1, 1, 1, 1, 1, 1, 1, 1, 1, 1, 1, 1, 1, 1, 1]}"
   ]
  },
  {
   "cell_type": "code",
   "execution_count": null,
   "id": "1c6f3e48",
   "metadata": {},
   "outputs": [],
   "source": [
    "# 오토 이미지 프로세서\n",
    "# 비전작업의 경우 이미지 프로세서가 이미지를 올바른 입력방식으로 처리한다. \n",
    "from transformers import AutoImageProcessor\n",
    "image_processor = AutoImageProcessor.from_pretrained(\"google/vit-base-patch16-224\")"
   ]
  },
  {
   "cell_type": "code",
   "execution_count": null,
   "id": "ddd92516",
   "metadata": {},
   "outputs": [],
   "source": [
    "# 오토 피쳐 익스트렉터(특징추출기)\n",
    "# 오디오 작업의 경우 특징 추출기가 오디오 신호를 올바른 입력형식으로 처리한다. \n",
    "from transformers import AutoFeatureExtractor\n",
    "\n",
    "feature_extractor = AutoFeatureExtractor.from_pretrained(\n",
    "    \"ehcalabres/wav2vec2-lg-xlsr-en-speech-emotion-recognition\"\n",
    ")"
   ]
  },
  {
   "cell_type": "code",
   "execution_count": null,
   "id": "8465cc99",
   "metadata": {},
   "outputs": [],
   "source": [
    "# 오토 프로세서\n",
    "# 멀티모달 작업에는 두 가지 유형의 전처리 도구를 결합한 프로세서가 필요하다. 만약 LayoutLMV2"
   ]
  },
  {
   "cell_type": "code",
   "execution_count": null,
   "id": "b4b83828",
   "metadata": {},
   "outputs": [],
   "source": []
  },
  {
   "cell_type": "code",
   "execution_count": null,
   "id": "09cb04bf",
   "metadata": {},
   "outputs": [],
   "source": []
  },
  {
   "cell_type": "code",
   "execution_count": null,
   "id": "c12f079a",
   "metadata": {},
   "outputs": [],
   "source": []
  },
  {
   "cell_type": "code",
   "execution_count": null,
   "id": "0b588285",
   "metadata": {},
   "outputs": [],
   "source": []
  },
  {
   "cell_type": "code",
   "execution_count": null,
   "id": "0733aa35",
   "metadata": {},
   "outputs": [],
   "source": []
  },
  {
   "cell_type": "code",
   "execution_count": null,
   "id": "f0eaccbe",
   "metadata": {},
   "outputs": [],
   "source": []
  },
  {
   "cell_type": "code",
   "execution_count": null,
   "id": "34f1d476",
   "metadata": {},
   "outputs": [],
   "source": []
  },
  {
   "cell_type": "code",
   "execution_count": null,
   "id": "86592c85",
   "metadata": {},
   "outputs": [],
   "source": []
  },
  {
   "cell_type": "code",
   "execution_count": null,
   "id": "bf28168a",
   "metadata": {},
   "outputs": [],
   "source": []
  },
  {
   "cell_type": "code",
   "execution_count": null,
   "id": "9731b20e",
   "metadata": {},
   "outputs": [],
   "source": []
  },
  {
   "cell_type": "code",
   "execution_count": null,
   "id": "33290833",
   "metadata": {},
   "outputs": [],
   "source": []
  },
  {
   "cell_type": "code",
   "execution_count": null,
   "id": "e0e1c8a1",
   "metadata": {},
   "outputs": [],
   "source": []
  },
  {
   "cell_type": "code",
   "execution_count": null,
   "id": "d58aa973",
   "metadata": {},
   "outputs": [],
   "source": []
  },
  {
   "cell_type": "code",
   "execution_count": null,
   "id": "61f4a922",
   "metadata": {},
   "outputs": [],
   "source": []
  },
  {
   "cell_type": "code",
   "execution_count": null,
   "id": "c7b2c578",
   "metadata": {},
   "outputs": [],
   "source": []
  },
  {
   "cell_type": "code",
   "execution_count": null,
   "id": "2897936c",
   "metadata": {},
   "outputs": [],
   "source": []
  },
  {
   "cell_type": "code",
   "execution_count": null,
   "id": "cf790a4d",
   "metadata": {},
   "outputs": [],
   "source": []
  },
  {
   "cell_type": "code",
   "execution_count": null,
   "id": "d68b867b",
   "metadata": {},
   "outputs": [],
   "source": []
  },
  {
   "cell_type": "code",
   "execution_count": null,
   "id": "371a155e",
   "metadata": {},
   "outputs": [],
   "source": []
  },
  {
   "cell_type": "code",
   "execution_count": null,
   "id": "4b9cf78b",
   "metadata": {},
   "outputs": [],
   "source": []
  },
  {
   "cell_type": "code",
   "execution_count": null,
   "id": "b1c77861",
   "metadata": {},
   "outputs": [],
   "source": []
  },
  {
   "cell_type": "code",
   "execution_count": null,
   "id": "ef728400",
   "metadata": {},
   "outputs": [],
   "source": []
  },
  {
   "cell_type": "code",
   "execution_count": null,
   "id": "06497c95",
   "metadata": {},
   "outputs": [],
   "source": []
  },
  {
   "cell_type": "code",
   "execution_count": null,
   "id": "8c2fae96",
   "metadata": {},
   "outputs": [],
   "source": []
  }
 ],
 "metadata": {
  "kernelspec": {
   "display_name": "Python 3 (ipykernel)",
   "language": "python",
   "name": "python3"
  },
  "language_info": {
   "codemirror_mode": {
    "name": "ipython",
    "version": 3
   },
   "file_extension": ".py",
   "mimetype": "text/x-python",
   "name": "python",
   "nbconvert_exporter": "python",
   "pygments_lexer": "ipython3",
   "version": "3.11.5"
  }
 },
 "nbformat": 4,
 "nbformat_minor": 5
}
