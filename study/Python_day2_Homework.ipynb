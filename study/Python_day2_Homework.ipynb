{
 "cells": [
  {
   "cell_type": "code",
   "execution_count": 5,
   "id": "f0a76594",
   "metadata": {},
   "outputs": [
    {
     "name": "stdout",
     "output_type": "stream",
     "text": [
      "7 층\n"
     ]
    }
   ],
   "source": [
    "# 1번문제\n",
    "noise = 0.2467*12 + 4.159\n",
    "answer1 = noise // 1 \n",
    "print(int(answer1),\"층\")"
   ]
  },
  {
   "cell_type": "code",
   "execution_count": 7,
   "id": "8e3eab00",
   "metadata": {},
   "outputs": [
    {
     "name": "stdout",
     "output_type": "stream",
     "text": [
      "1749024 원\n"
     ]
    }
   ],
   "source": [
    "# 2번문제\n",
    "cost = 48584\n",
    "month = 36\n",
    "print(cost*month,\"원\")"
   ]
  },
  {
   "cell_type": "code",
   "execution_count": 31,
   "id": "26050e37",
   "metadata": {},
   "outputs": [
    {
     "name": "stdout",
     "output_type": "stream",
     "text": [
      "a#b&c%d"
     ]
    }
   ],
   "source": [
    "# 3번문제\n",
    "s =\"a@b@c@d\"\n",
    "s1 = s.split(\"@\")\n",
    "s1.insert(1,'#')\n",
    "s1.insert(3,'&')\n",
    "s1.insert(5,'%')\n",
    "for i in s1: \n",
    "    print(i, end =\"\")"
   ]
  },
  {
   "cell_type": "code",
   "execution_count": 36,
   "id": "2f418730",
   "metadata": {},
   "outputs": [
    {
     "name": "stdout",
     "output_type": "stream",
     "text": [
      "btc krw\n"
     ]
    }
   ],
   "source": [
    "# 4번 문제\n",
    "answer = \"btc_krw\"\n",
    "answer4 = answer.split(\"_\")\n",
    "print(answer4[0],answer4[1])"
   ]
  },
  {
   "cell_type": "code",
   "execution_count": 49,
   "id": "1acc158a",
   "metadata": {},
   "outputs": [
    {
     "name": "stdout",
     "output_type": "stream",
     "text": [
      "2020년 12월 30일"
     ]
    }
   ],
   "source": [
    "# 5번 문제\n",
    "date = \"2020-12-30\"\n",
    "date2 = date.split(\"-\")\n",
    "date2.insert(1,'년 ')\n",
    "date2.insert(3,'월 ')\n",
    "date2.insert(5,'일')\n",
    "for i in date2:\n",
    "    print(i, end=\"\")\n"
   ]
  },
  {
   "cell_type": "code",
   "execution_count": 53,
   "id": "903cb57f",
   "metadata": {},
   "outputs": [
    {
     "name": "stdout",
     "output_type": "stream",
     "text": [
      "039490\n"
     ]
    }
   ],
   "source": [
    "#6번 문제\n",
    "data = \"039490       \"  \n",
    "print(data.strip())"
   ]
  },
  {
   "cell_type": "code",
   "execution_count": 58,
   "id": "44d943c4",
   "metadata": {},
   "outputs": [
    {
     "name": "stdout",
     "output_type": "stream",
     "text": [
      "이름: 김민수 나이: 10\n",
      "이름: 이철희 나이: 13\n"
     ]
    }
   ],
   "source": [
    "#7번 문제\n",
    "name1 = \"김민수\" \n",
    "age1 = 10\n",
    "name2 = \"이철희\"\n",
    "age2 = 13\n",
    "test = '이름: %s 나이: %d' % (name1 ,age1)\n",
    "test2 = '이름: %s 나이: %d' % (name2 ,age2)\n",
    "print(test)  \n",
    "print(test2)  "
   ]
  },
  {
   "cell_type": "code",
   "execution_count": 60,
   "id": "7b773bc0",
   "metadata": {},
   "outputs": [
    {
     "name": "stdout",
     "output_type": "stream",
     "text": [
      "이름: 김민수 나이: 10\n",
      "이름: 이철희 나이: 13\n"
     ]
    }
   ],
   "source": [
    "# 8번 문제\n",
    "test3 =\"이름: {0} 나이: {1}\".format(name1 ,age1)\n",
    "test4 =\"이름: {0} 나이: {1}\".format(name2 ,age2)\n",
    "print(test3)\n",
    "print(test4)"
   ]
  },
  {
   "cell_type": "code",
   "execution_count": 72,
   "id": "fc4c9810",
   "metadata": {},
   "outputs": [
    {
     "name": "stdout",
     "output_type": "stream",
     "text": [
      "5969782550 <class 'int'>\n"
     ]
    }
   ],
   "source": [
    "# 9번 문제\n",
    "price = \"5,969,782,550\"\n",
    "price2 = price.replace(\",\",\"\")\n",
    "answer9 = int(price2)\n",
    "print(answer9, type(answer9))"
   ]
  },
  {
   "cell_type": "code",
   "execution_count": 74,
   "id": "54b6804c",
   "metadata": {},
   "outputs": [
    {
     "name": "stdout",
     "output_type": "stream",
     "text": [
      "2020/12\n"
     ]
    }
   ],
   "source": [
    "#10번 문제\n",
    "querter = \"2020/12(E) (IFRS연결)\"\n",
    "print(querter[:7])"
   ]
  },
  {
   "cell_type": "code",
   "execution_count": 77,
   "id": "97475931",
   "metadata": {},
   "outputs": [
    {
     "name": "stdout",
     "output_type": "stream",
     "text": [
      "Abcdfe2A354A32A\n"
     ]
    }
   ],
   "source": [
    "#11번 문제\n",
    "string = 'abcdfe2a354a32a'\n",
    "print(string.replace(\"a\",\"A\"))"
   ]
  },
  {
   "cell_type": "code",
   "execution_count": 83,
   "id": "67306837",
   "metadata": {},
   "outputs": [
    {
     "name": "stdout",
     "output_type": "stream",
     "text": [
      "1\n"
     ]
    }
   ],
   "source": [
    "#12번 문제\n",
    "pin = \"881120-1068234\"\n",
    "print(pin[pin.find(\"-\")+1])"
   ]
  },
  {
   "cell_type": "code",
   "execution_count": 78,
   "id": "529c6cbd",
   "metadata": {},
   "outputs": [
    {
     "name": "stdout",
     "output_type": "stream",
     "text": [
      "Life is too short\n"
     ]
    }
   ],
   "source": [
    "#13번 문제 \n",
    "write = ['Life', 'is', 'too', 'short']\n",
    "write2 = ' '.join(write)\n",
    "print(write2)\n"
   ]
  },
  {
   "cell_type": "code",
   "execution_count": 82,
   "id": "89214bd2",
   "metadata": {},
   "outputs": [
    {
     "name": "stdout",
     "output_type": "stream",
     "text": [
      "[1, 2]\n",
      "[3, ['a', 'b', 'c'], 4, 5]\n",
      "[2, 3]\n",
      "b\n",
      "['a']\n",
      "3\n",
      "c\n"
     ]
    }
   ],
   "source": [
    "# 14번 문제\n",
    "a = [1, 2, 3, ['a', 'b', 'c'], 4, 5] \n",
    "print(a[:2])\n",
    "print(a[2:])\n",
    "print(a[1:3])\n",
    "print(a[3][1])\n",
    "print(a[3][:1])\n",
    "print(a[-4])\n",
    "print(a[-3][-1])"
   ]
  },
  {
   "cell_type": "code",
   "execution_count": 84,
   "id": "b74b4f48",
   "metadata": {},
   "outputs": [
    {
     "name": "stdout",
     "output_type": "stream",
     "text": [
      "[1, 2, 3, 4, 5]\n"
     ]
    }
   ],
   "source": [
    "#15번 문제\n",
    "a = [1, 1, 1, 2, 2, 3, 3, 3, 4, 4, 5]\n",
    "b = []\n",
    "for i in a:\n",
    "    if i not in b:\n",
    "        b.append(i)\n",
    "    else:\n",
    "        continue\n",
    "print(b)\n",
    "    "
   ]
  },
  {
   "cell_type": "code",
   "execution_count": 86,
   "id": "0278bbea",
   "metadata": {},
   "outputs": [
    {
     "name": "stdout",
     "output_type": "stream",
     "text": [
      "[21, 42, 63, 84, 105, 126, 147, 168, 189, 210, 231, 252, 273, 294, 315, 336, 357, 378, 399, 420, 441, 462, 483, 504, 525, 546, 567, 588, 609, 630, 651, 672, 693, 714, 735, 756, 777, 798, 819, 840, 861, 882, 903, 924, 945, 966, 987]\n"
     ]
    }
   ],
   "source": [
    "#16번 문제\n",
    "count = 0\n",
    "ans = []\n",
    "while True:\n",
    "    if count < 1001:\n",
    "        count += 1\n",
    "        if count % 3 ==0 and count % 7 == 0 :\n",
    "            ans.append(count)\n",
    "    else:\n",
    "        break\n",
    "print(ans)\n",
    "    "
   ]
  },
  {
   "cell_type": "code",
   "execution_count": 87,
   "id": "14439234",
   "metadata": {},
   "outputs": [
    {
     "name": "stdout",
     "output_type": "stream",
     "text": [
      "[32, 22, 10]\n"
     ]
    }
   ],
   "source": [
    "#17번 문제 (패스)"
   ]
  },
  {
   "cell_type": "code",
   "execution_count": 88,
   "id": "e19b5d8b",
   "metadata": {},
   "outputs": [
    {
     "name": "stdout",
     "output_type": "stream",
     "text": [
      "[10, 60, 12, 80, 110]\n"
     ]
    }
   ],
   "source": [
    "#18번 문제\n",
    "lst1=[4,54,6,74,104]\n",
    "lst2=[]\n",
    "\n",
    "for i in lst1:\n",
    "    lst2.append(i+6)\n",
    "print(lst2)\n"
   ]
  },
  {
   "cell_type": "code",
   "execution_count": 90,
   "id": "db1346d9",
   "metadata": {},
   "outputs": [
    {
     "name": "stdout",
     "output_type": "stream",
     "text": [
      "[54, 74, 104]\n"
     ]
    }
   ],
   "source": [
    "#19번 문제\n",
    "lst1=[4,54,6,74,104]\n",
    "lst2=[]\n",
    "for i in lst1:\n",
    "    if i**2 > 50:\n",
    "        lst2.append(i)\n",
    "print(lst2)\n"
   ]
  },
  {
   "cell_type": "code",
   "execution_count": 93,
   "id": "afde5b1d",
   "metadata": {},
   "outputs": [
    {
     "name": "stdout",
     "output_type": "stream",
     "text": [
      "[28, 41, 38, 22, 26, 37]\n"
     ]
    }
   ],
   "source": [
    "#20번 문제\n",
    "import random \n",
    "basket = []\n",
    "while True:\n",
    "    if len(basket) < 6:\n",
    "        lotto = random.randint(1,46)\n",
    "        if lotto not in basket:\n",
    "            basket.append(lotto)\n",
    "    else:\n",
    "        break\n",
    "print(basket)\n"
   ]
  },
  {
   "cell_type": "code",
   "execution_count": null,
   "id": "23bc4e7b",
   "metadata": {},
   "outputs": [],
   "source": [
    "# 강평\n",
    "# 코드를 작성할 때에는 가독성이 좋은 코드를 작성하는 것이 중요하다. \n",
    "# 이 업계는 이직이 매우 잦다. 그래서 새로운 사람이 오게 되거나 기존의 사람이 나갈 때 그 사람이 나가게 되면 외계인 코드가 되어있기에\n",
    "# 프로젝트가 실패하는 경우가 매우 잦다. \n",
    "# 변수명 작성 규칙은 회사마다 매우 다르다. 변수명을 만들때 합성어로 표현한다. \n",
    "# 물론 코드의 길이가 너무 길다면 가독성이 떨어진다. \n",
    "# 한글 변수를 가능하면 쓰지 않는것이 좋다. 프로그램 실행환경에 따라 다르지만 한글은 메모리를 많이 먹는다. \n",
    "# 나의 코드는 정석적인 코드보다는 긴 편이다. "
   ]
  }
 ],
 "metadata": {
  "kernelspec": {
   "display_name": "Python 3 (ipykernel)",
   "language": "python",
   "name": "python3"
  },
  "language_info": {
   "codemirror_mode": {
    "name": "ipython",
    "version": 3
   },
   "file_extension": ".py",
   "mimetype": "text/x-python",
   "name": "python",
   "nbconvert_exporter": "python",
   "pygments_lexer": "ipython3",
   "version": "3.11.4"
  }
 },
 "nbformat": 4,
 "nbformat_minor": 5
}
