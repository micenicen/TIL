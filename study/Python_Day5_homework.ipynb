{
 "cells": [
  {
   "cell_type": "code",
   "execution_count": 57,
   "id": "0769bafa",
   "metadata": {},
   "outputs": [],
   "source": [
    "#1번 문제\n",
    "def print_coin():\n",
    "    return \"비트코인\"\n",
    "\n"
   ]
  },
  {
   "cell_type": "code",
   "execution_count": 58,
   "id": "fd43a462",
   "metadata": {},
   "outputs": [
    {
     "name": "stdout",
     "output_type": "stream",
     "text": [
      "비트코인\n"
     ]
    }
   ],
   "source": [
    "#2번 문제\n",
    "print(print_coin())\n"
   ]
  },
  {
   "cell_type": "code",
   "execution_count": 90,
   "id": "7bcecc03",
   "metadata": {
    "scrolled": true
   },
   "outputs": [
    {
     "name": "stdout",
     "output_type": "stream",
     "text": [
      "['비트코인', '비트코인', '비트코인', '비트코인', '비트코인', '비트코인', '비트코인', '비트코인', '비트코인', '비트코인', '비트코인', '비트코인', '비트코인', '비트코인', '비트코인', '비트코인', '비트코인', '비트코인', '비트코인', '비트코인', '비트코인', '비트코인', '비트코인', '비트코인', '비트코인', '비트코인', '비트코인', '비트코인', '비트코인', '비트코인', '비트코인', '비트코인', '비트코인', '비트코인', '비트코인', '비트코인', '비트코인', '비트코인', '비트코인', '비트코인', '비트코인', '비트코인', '비트코인', '비트코인', '비트코인', '비트코인', '비트코인', '비트코인', '비트코인', '비트코인', '비트코인', '비트코인', '비트코인', '비트코인', '비트코인', '비트코인', '비트코인', '비트코인', '비트코인', '비트코인', '비트코인', '비트코인', '비트코인', '비트코인', '비트코인', '비트코인', '비트코인', '비트코인', '비트코인', '비트코인', '비트코인', '비트코인', '비트코인', '비트코인', '비트코인', '비트코인', '비트코인', '비트코인', '비트코인', '비트코인', '비트코인', '비트코인', '비트코인', '비트코인', '비트코인', '비트코인', '비트코인', '비트코인', '비트코인', '비트코인', '비트코인', '비트코인', '비트코인', '비트코인', '비트코인', '비트코인', '비트코인', '비트코인', '비트코인', '비트코인']\n"
     ]
    }
   ],
   "source": [
    "#3번 문제(람다버젼)\n",
    "ans3 = lambda i: [\"비트코인\" for _ in range(i)]\n",
    "print(ans3(100))"
   ]
  },
  {
   "cell_type": "code",
   "execution_count": 91,
   "id": "65144163",
   "metadata": {},
   "outputs": [
    {
     "name": "stdout",
     "output_type": "stream",
     "text": [
      "비트코인\n",
      "비트코인\n",
      "비트코인\n",
      "비트코인\n",
      "비트코인\n",
      "비트코인\n",
      "비트코인\n",
      "비트코인\n",
      "비트코인\n",
      "비트코인\n",
      "비트코인\n",
      "비트코인\n",
      "비트코인\n",
      "비트코인\n",
      "비트코인\n",
      "비트코인\n",
      "비트코인\n",
      "비트코인\n",
      "비트코인\n",
      "비트코인\n",
      "비트코인\n",
      "비트코인\n",
      "비트코인\n",
      "비트코인\n",
      "비트코인\n",
      "비트코인\n",
      "비트코인\n",
      "비트코인\n",
      "비트코인\n",
      "비트코인\n",
      "비트코인\n",
      "비트코인\n",
      "비트코인\n",
      "비트코인\n",
      "비트코인\n",
      "비트코인\n",
      "비트코인\n",
      "비트코인\n",
      "비트코인\n",
      "비트코인\n",
      "비트코인\n",
      "비트코인\n",
      "비트코인\n",
      "비트코인\n",
      "비트코인\n",
      "비트코인\n",
      "비트코인\n",
      "비트코인\n",
      "비트코인\n",
      "비트코인\n",
      "비트코인\n",
      "비트코인\n",
      "비트코인\n",
      "비트코인\n",
      "비트코인\n",
      "비트코인\n",
      "비트코인\n",
      "비트코인\n",
      "비트코인\n",
      "비트코인\n",
      "비트코인\n",
      "비트코인\n",
      "비트코인\n",
      "비트코인\n",
      "비트코인\n",
      "비트코인\n",
      "비트코인\n",
      "비트코인\n",
      "비트코인\n",
      "비트코인\n",
      "비트코인\n",
      "비트코인\n",
      "비트코인\n",
      "비트코인\n",
      "비트코인\n",
      "비트코인\n",
      "비트코인\n",
      "비트코인\n",
      "비트코인\n",
      "비트코인\n",
      "비트코인\n",
      "비트코인\n",
      "비트코인\n",
      "비트코인\n",
      "비트코인\n",
      "비트코인\n",
      "비트코인\n",
      "비트코인\n",
      "비트코인\n",
      "비트코인\n",
      "비트코인\n",
      "비트코인\n",
      "비트코인\n",
      "비트코인\n",
      "비트코인\n",
      "비트코인\n",
      "비트코인\n",
      "비트코인\n",
      "비트코인\n",
      "비트코인\n"
     ]
    }
   ],
   "source": [
    "#4번 문제\n",
    "for i in range(100):print(print_coin())\n"
   ]
  },
  {
   "cell_type": "code",
   "execution_count": 26,
   "id": "75dcaee8",
   "metadata": {},
   "outputs": [
    {
     "ename": "SyntaxError",
     "evalue": "invalid syntax (171247114.py, line 5)",
     "output_type": "error",
     "traceback": [
      "\u001b[1;36m  Cell \u001b[1;32mIn[26], line 5\u001b[1;36m\u001b[0m\n\u001b[1;33m    NameError: name 'hello' is not defined\u001b[0m\n\u001b[1;37m                    ^\u001b[0m\n\u001b[1;31mSyntaxError\u001b[0m\u001b[1;31m:\u001b[0m invalid syntax\n"
     ]
    }
   ],
   "source": [
    "#5번문제\n",
    "hello()\n",
    "def hello():\n",
    "    print(\"Hi\")\n",
    "NameError: name 'hello' is not defined\n",
    "#hello라는 변수가 정의되지 않았다는 뜻으로 함수 선언 이전에 hello함수를 선언하였다. 이로인하여 없는 함수를 불러오게 되어 애러가 발생하였다.\n",
    "#만약 hello()를 함수 아래에 두면 정상적으로 작동이 될 것이다."
   ]
  },
  {
   "cell_type": "code",
   "execution_count": 27,
   "id": "1f34030f",
   "metadata": {},
   "outputs": [
    {
     "name": "stdout",
     "output_type": "stream",
     "text": [
      "A\n",
      "B\n",
      "C\n",
      "A\n",
      "B\n"
     ]
    }
   ],
   "source": [
    "#6번문제\n",
    "#메세지를 정의하면 \"A\" 와\"B\"가 정의된다. 다만 프린트는 기본적으로 \\n이 포함이 되어있다.\n",
    "# 즉 다음과 같은 결과가 나올 것이다.\n",
    "#A\n",
    "#B\n",
    "#C\n",
    "#A\n",
    "#B"
   ]
  },
  {
   "cell_type": "code",
   "execution_count": 29,
   "id": "769eafdc",
   "metadata": {},
   "outputs": [
    {
     "name": "stdout",
     "output_type": "stream",
     "text": [
      "A\n",
      "C\n",
      "B\n"
     ]
    }
   ],
   "source": [
    "#7번 문제\n",
    "# 먼저 \"A\"가 프린트되었다.\n",
    "# 그리고 함수가 존재하는데 함수는 가동하지 않았다.\n",
    "# \"C\"가 프린트 된 이후 함수가 작동하여서 \"B\"가 출력될 것이다."
   ]
  },
  {
   "cell_type": "code",
   "execution_count": 31,
   "id": "c90726c1",
   "metadata": {},
   "outputs": [
    {
     "name": "stdout",
     "output_type": "stream",
     "text": [
      "A\n",
      "C\n"
     ]
    },
    {
     "ename": "NameError",
     "evalue": "name 'message1' is not defined",
     "output_type": "error",
     "traceback": [
      "\u001b[1;31m---------------------------------------------------------------------------\u001b[0m",
      "\u001b[1;31mNameError\u001b[0m                                 Traceback (most recent call last)",
      "Cell \u001b[1;32mIn[31], line 15\u001b[0m\n\u001b[0;32m     13\u001b[0m \u001b[38;5;28;01mdef\u001b[39;00m \u001b[38;5;21mmessages2\u001b[39m() :\n\u001b[0;32m     14\u001b[0m     \u001b[38;5;28mprint\u001b[39m(\u001b[38;5;124m\"\u001b[39m\u001b[38;5;124mD\u001b[39m\u001b[38;5;124m\"\u001b[39m)\n\u001b[1;32m---> 15\u001b[0m message1()\n\u001b[0;32m     16\u001b[0m \u001b[38;5;28mprint\u001b[39m(\u001b[38;5;124m\"\u001b[39m\u001b[38;5;124mE\u001b[39m\u001b[38;5;124m\"\u001b[39m)\n\u001b[0;32m     17\u001b[0m message2()\n",
      "\u001b[1;31mNameError\u001b[0m: name 'message1' is not defined"
     ]
    }
   ],
   "source": [
    "#8번 문제\n",
    "# \"A\"가 먼저 실행된 이후 함수가 정의되었다. 함수는 호출하지 않으면 작동하지 않는다.\n",
    "# 함수는 호출되었을 때 프린트를 하라는 명령이다. 다음과 같은 순서로 작동한다.\n",
    "# \"A\"\n",
    "# \"C\"\n",
    "# \"B\"\n",
    "# \"E\"\n",
    "# \"D\"\n",
    "# 오답. messages1와 message1의 스펠링이 달랐기에 A와 C 까지 나오고 네임애러가 발생했다."
   ]
  },
  {
   "cell_type": "code",
   "execution_count": 32,
   "id": "b6d520d4",
   "metadata": {},
   "outputs": [
    {
     "ename": "SyntaxError",
     "evalue": "expected ':' (4073762891.py, line 6)",
     "output_type": "error",
     "traceback": [
      "\u001b[1;36m  Cell \u001b[1;32mIn[32], line 6\u001b[1;36m\u001b[0m\n\u001b[1;33m    def message1()\u001b[0m\n\u001b[1;37m                  ^\u001b[0m\n\u001b[1;31mSyntaxError\u001b[0m\u001b[1;31m:\u001b[0m expected ':'\n"
     ]
    }
   ],
   "source": [
    "#9번 문제\n",
    "# 메세지1 코드는 메세지2가 동작한 이후 활성화가 된다. 이에 나는 답을 이렇게 예측했다.\n",
    "# \"B\"\n",
    "# \"A\"\n",
    "# 오답. 콜론이 붙지 않은 함수는 애러를 발생하였다."
   ]
  },
  {
   "cell_type": "code",
   "execution_count": null,
   "id": "0a426703",
   "metadata": {},
   "outputs": [],
   "source": [
    "# 10번 문제\n",
    "# 9번 문제와 같이 코드 뒤에 콜론이 붙지 않았다. 즉 9번문제와 같이 신텍스 애러가 발생한다. \n",
    "# 만약에 전 함수에 콜론이 정상적으로 붙을 경우 \n",
    "# \"B\"\n",
    "# \"C\"\n",
    "# \"B\"\n",
    "# \"C\"\n",
    "# \"B\"\n",
    "# \"C\"\n",
    "# \"A\"\n",
    "#순서대로 나올 것이다. for문이 전부 작동한 다음에 메세지1이 작동하기 때문이다. "
   ]
  },
  {
   "cell_type": "code",
   "execution_count": 33,
   "id": "75742482",
   "metadata": {},
   "outputs": [
    {
     "name": "stdout",
     "output_type": "stream",
     "text": [
      "안녕\n",
      "Hi\n"
     ]
    }
   ],
   "source": [
    "# 11번 문제.\n",
    "# 문자열이 함수의 변수이며 내부에 변수를 print하라는 명령이다. \n",
    "# 안녕\n",
    "# Hi\n",
    "#로 출력될 것을 예상한다."
   ]
  },
  {
   "cell_type": "code",
   "execution_count": 34,
   "id": "e7ec118a",
   "metadata": {},
   "outputs": [
    {
     "name": "stdout",
     "output_type": "stream",
     "text": [
      "7\n",
      "15\n"
     ]
    }
   ],
   "source": [
    "# 12번 문제\n",
    "# 함수는 변수를 두 개를 받아서 두 개의 값을 더하여 프린트한다. \n",
    "# 7\n",
    "# 15\n",
    "#로 출력될 것을 예상한다."
   ]
  },
  {
   "cell_type": "code",
   "execution_count": null,
   "id": "4e5764e3",
   "metadata": {},
   "outputs": [],
   "source": [
    "#13번 문제\n",
    "# 함수를 제작할 당시 \"문자열\"이라는 변수값을 받도록 설정하여 변수값을 프린트하는 형식으로 제작되었다.\n",
    "# 하지만 함수를 호출할 때 변수설정을 하지 않았다. 즉 아무것도 보내지 않은 상태에서 함수만 호출하였다."
   ]
  },
  {
   "cell_type": "code",
   "execution_count": null,
   "id": "97124efe",
   "metadata": {},
   "outputs": [],
   "source": [
    "# 14번 문제\n",
    "# 변수 두 개를 더하는 함수를 가동시켰다.\n",
    "# 파이썬은 문자+문자를 지원하며 숫자+숫자를 지원하지만 문자+숫자를 지원하지 않는다. \n",
    "# 즉 3이라는 숫자를 문자로 바꿔야한다. 그렇기에 타입애러가 발생하였다."
   ]
  },
  {
   "cell_type": "code",
   "execution_count": 36,
   "id": "edc00944",
   "metadata": {},
   "outputs": [
    {
     "name": "stdout",
     "output_type": "stream",
     "text": [
      "반갑습니다. :D\n"
     ]
    }
   ],
   "source": [
    "# 15번 문제\n",
    "def print_with_smile(talk = \"반갑습니다.\"):\n",
    "    print(talk, \":D\")\n",
    "print_with_smile()"
   ]
  },
  {
   "cell_type": "code",
   "execution_count": 37,
   "id": "46fe42cb",
   "metadata": {},
   "outputs": [
    {
     "name": "stdout",
     "output_type": "stream",
     "text": [
      "안녕하세요 :D\n"
     ]
    }
   ],
   "source": [
    "#16번 문제\n",
    "print_with_smile(\"안녕하세요\")"
   ]
  },
  {
   "cell_type": "code",
   "execution_count": 39,
   "id": "a3bb9bb4",
   "metadata": {},
   "outputs": [
    {
     "name": "stdout",
     "output_type": "stream",
     "text": [
      "130.0\n"
     ]
    }
   ],
   "source": [
    "#17번 문제\n",
    "def print_upper_price(price):\n",
    "    return int(price)*1.3\n",
    "print(print_upper_price(100))"
   ]
  },
  {
   "cell_type": "code",
   "execution_count": 40,
   "id": "efd729ce",
   "metadata": {},
   "outputs": [
    {
     "name": "stdout",
     "output_type": "stream",
     "text": [
      "4\n"
     ]
    }
   ],
   "source": [
    "#18번 문제\n",
    "def print_sum(a,b):\n",
    "    return a+b\n",
    "print(print_sum(1,3))"
   ]
  },
  {
   "cell_type": "code",
   "execution_count": 44,
   "id": "c17acba7",
   "metadata": {},
   "outputs": [
    {
     "name": "stdout",
     "output_type": "stream",
     "text": [
      "1 + 2 = 3\n",
      "1 - 2 = -1\n",
      "1 * 2 = 2\n",
      "1 / 2 = 0.5\n"
     ]
    }
   ],
   "source": [
    "#19번 문제\n",
    "def print_arithmetic_operation(a,b):\n",
    "    print(f\"{a} + {b} = {a+b}\")\n",
    "    print(f\"{a} - {b} = {a-b}\")\n",
    "    print(f\"{a} * {b} = {a*b}\")\n",
    "    print(f\"{a} / {b} = {a/b}\")\n",
    "print_arithmetic_operation(3,4)"
   ]
  },
  {
   "cell_type": "code",
   "execution_count": 45,
   "id": "94e82f4f",
   "metadata": {},
   "outputs": [
    {
     "name": "stdout",
     "output_type": "stream",
     "text": [
      "4\n"
     ]
    }
   ],
   "source": [
    "#20번 문제\n",
    "def print_max(a,b,c):\n",
    "    if a > b and a > c:\n",
    "        print(a)\n",
    "    elif b > a and b > c:\n",
    "        print(b)\n",
    "    else:\n",
    "        print(c)\n",
    "print_max(1,3,4)"
   ]
  },
  {
   "cell_type": "code",
   "execution_count": 92,
   "id": "72e4022c",
   "metadata": {},
   "outputs": [
    {
     "data": {
      "text/plain": [
       "'hi:D'"
      ]
     },
     "execution_count": 92,
     "metadata": {},
     "output_type": "execute_result"
    }
   ],
   "source": [
    "# 15번 문제(람다버젼)\n",
    "print_with_smile = lambda talk: talk+\":D\"\n",
    "print_with_smile(\"hi\")"
   ]
  },
  {
   "cell_type": "code",
   "execution_count": 93,
   "id": "e4977ecb",
   "metadata": {},
   "outputs": [
    {
     "name": "stdout",
     "output_type": "stream",
     "text": [
      "130.0\n"
     ]
    }
   ],
   "source": [
    "#17번 문제(람다버젼)\n",
    "print_upper_price = lambda price : int(price)*1.3\n",
    "print(print_upper_price(100))\n",
    "# 람다 2\n",
    "print((lambda price : int(price)*1.3)(100))"
   ]
  },
  {
   "cell_type": "code",
   "execution_count": 96,
   "id": "0611d24d",
   "metadata": {},
   "outputs": [
    {
     "name": "stdout",
     "output_type": "stream",
     "text": [
      "4\n",
      "4\n"
     ]
    }
   ],
   "source": [
    "#18번 문제(람다버젼)\n",
    "print_sum = lambda a, b : a+b\n",
    "print(print_sum(1,3))\n",
    "# 람다 2\n",
    "print((lambda a, b : a+b)(1,3))"
   ]
  },
  {
   "cell_type": "code",
   "execution_count": 107,
   "id": "a88b0d0a",
   "metadata": {},
   "outputs": [
    {
     "name": "stdout",
     "output_type": "stream",
     "text": [
      "3 + 4 = 7\n",
      "3 - 4 = -1\n",
      "3 * 4 = 12\n",
      "3 / 4 = 0.75\n"
     ]
    },
    {
     "data": {
      "text/plain": [
       "[None, None, None, None]"
      ]
     },
     "execution_count": 107,
     "metadata": {},
     "output_type": "execute_result"
    }
   ],
   "source": [
    "#19번 문제(람다버젼)\n",
    "print_arithmetic_operation = lambda a, b: [print(f\"{a} {op} {b} = {eval(str(a) + op + str(b))}\") for op in ['+', '-', '*', '/']]\n",
    "print_arithmetic_operation(3, 4)\n"
   ]
  },
  {
   "cell_type": "code",
   "execution_count": 109,
   "id": "b0e767e3",
   "metadata": {},
   "outputs": [
    {
     "name": "stdout",
     "output_type": "stream",
     "text": [
      "4\n"
     ]
    }
   ],
   "source": [
    "#20번 문제(람다버젼)\n",
    "print_max = lambda a , b , c: a if a > b and a > c else b if b > a and b > c else c\n",
    "print(print_max(1,3,4))"
   ]
  },
  {
   "cell_type": "code",
   "execution_count": null,
   "id": "3d05cddf",
   "metadata": {},
   "outputs": [],
   "source": [
    "# 강평\n",
    "# 코딩을 할 때에는 메모리 관점도 생각해야한다. 스마트폰은 용량을 고려해야한다. 함수 갯수를 가능하면 적게 하는 것이 좋다.\n",
    "# 함수는 재사용을 고려하는 것이 목적이다. 다만 내용을 반복수행해야한다면 함수를 적게 만드는 것이 유익하다."
   ]
  }
 ],
 "metadata": {
  "kernelspec": {
   "display_name": "Python 3 (ipykernel)",
   "language": "python",
   "name": "python3"
  },
  "language_info": {
   "codemirror_mode": {
    "name": "ipython",
    "version": 3
   },
   "file_extension": ".py",
   "mimetype": "text/x-python",
   "name": "python",
   "nbconvert_exporter": "python",
   "pygments_lexer": "ipython3",
   "version": "3.11.4"
  }
 },
 "nbformat": 4,
 "nbformat_minor": 5
}
