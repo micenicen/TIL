{
 "cells": [
  {
   "cell_type": "code",
   "execution_count": null,
   "id": "9682f87d",
   "metadata": {},
   "outputs": [],
   "source": [
    "# 파이썬 데이터 분석은 개인적으로 공부하는 것을 추천한다. \n",
    "# 책에 있는것보다 훨씬 더 많이 다뤄야 하기 때문에 개인공부가 필요하다.\n",
    "# 프로젝트를 주제를 정하고 해야 한다. \n",
    "# 패키지는 넘파이, 판다스를 공부하고 맷플랍립, 플랏리, 태블로, 씨본 등 시각화 도구를 사용할 것이다.\n",
    "# 넘파이 공부 = 배열 프로그래밍을 공부한다 \n"
   ]
  },
  {
   "cell_type": "code",
   "execution_count": null,
   "id": "c86352b0",
   "metadata": {},
   "outputs": [],
   "source": [
    "# 배열 프로그래밍이란 대량의 데이터를 빠르게 연산하는 과정이다. 많은 숫자 데이터를 관리하고 저장할 경우 속도가 많이 느려진다.\n",
    "# 기존에 사용되는 파이썬 리스트는 속도가 느리고 메모리 차지비중이 매우 높다. \n",
    "# 넘파이(수치연산 패키지) 배열은 속도가 더 빠르고 메모리를 덜 차지한다. 그렇기에 넘파이 배열을 이용한다. 파이썬 리스트와 비슷하기도 하고..\n",
    "# 넘파이 배열의 유일한 단점은 넘파이는 원소의 갯수가 변경되지 않는다는 것이다.\n",
    "# 파이썬은 자체적으로 배열을 제공하지 않는다. 파이썬에서 배열을 쓰고 싶을 경우 넘파이를 사용해야한다.\n",
    "# 일반적으로 선형대수 연산을 수행한다.(벡터, 행렬 등) 내부적으로 C 언어로 구현되어져 있다. 구문도 간단하다.\n"
   ]
  },
  {
   "cell_type": "code",
   "execution_count": 3,
   "id": "72795779",
   "metadata": {},
   "outputs": [
    {
     "name": "stdout",
     "output_type": "stream",
     "text": [
      "[1.1 2.  3. ]\n",
      "<class 'numpy.ndarray'>\n"
     ]
    }
   ],
   "source": [
    "import numpy as np\n",
    "ar = np.array([1.1,2,3]) # array(배열)로 저장되었다. 점은 플롯이다. 점을 붙이는 순간 다른 타입도 점이 생기는 것을 볼 수 있다.\n",
    "print(ar)\n",
    "print(type(ar))"
   ]
  },
  {
   "cell_type": "code",
   "execution_count": 13,
   "id": "00e32834",
   "metadata": {},
   "outputs": [
    {
     "name": "stdout",
     "output_type": "stream",
     "text": [
      "[0, 1, 2, 3, 4, 5, 6, 7, 8, 9]\n",
      "[0 1 2 3 4 5 6 7 8 9]\n"
     ]
    }
   ],
   "source": [
    "myarr = np.arange(10)\n",
    "mylist = list(np.arange(10))\n",
    "print(mylist)\n",
    "print(np.arange(10))\n"
   ]
  },
  {
   "cell_type": "code",
   "execution_count": 15,
   "id": "50786639",
   "metadata": {},
   "outputs": [
    {
     "name": "stdout",
     "output_type": "stream",
     "text": [
      "714 ns ± 7.82 ns per loop (mean ± std. dev. of 7 runs, 1,000,000 loops each)\n",
      "735 ns ± 5.73 ns per loop (mean ± std. dev. of 7 runs, 1,000,000 loops each)\n"
     ]
    }
   ],
   "source": [
    "%timeit myarr2 = myarr*2\n",
    "%timeit mylist2=[x*2 for x in mylist]\n",
    "#연산할 때 속도가 매우 차이가 많이 난다."
   ]
  },
  {
   "cell_type": "code",
   "execution_count": 16,
   "id": "8e5f798b",
   "metadata": {},
   "outputs": [
    {
     "name": "stdout",
     "output_type": "stream",
     "text": [
      "720 ns ± 6.04 ns per loop (mean ± std. dev. of 7 runs, 1,000,000 loops each)\n",
      "733 ns ± 9.61 ns per loop (mean ± std. dev. of 7 runs, 1,000,000 loops each)\n"
     ]
    }
   ],
   "source": [
    "%timeit myarr3 = myarr*2\n",
    "%timeit mylist3=[x*2 for x in mylist]"
   ]
  },
  {
   "cell_type": "code",
   "execution_count": 17,
   "id": "2e349c6b",
   "metadata": {},
   "outputs": [],
   "source": [
    "#넘파이가 빠른 이유는 수행하는 문장의 차이로 인함이다.\n",
    "# 평소에는 넘파이 쓰자. 그 다음에 필요할 때만 리스트를 이용하는 것이 유용하다.\n"
   ]
  },
  {
   "cell_type": "code",
   "execution_count": 101,
   "id": "773aa315",
   "metadata": {},
   "outputs": [
    {
     "name": "stdout",
     "output_type": "stream",
     "text": [
      "[[ 1.  -0.1  2. ]\n",
      " [ 0.  -3.   6. ]]\n"
     ]
    }
   ],
   "source": [
    "data = np.array([[1.0, -0.1, 2.0],\n",
    "                 [0.0, -3.0, 6.0]])\n",
    "print(data)"
   ]
  },
  {
   "cell_type": "code",
   "execution_count": 103,
   "id": "f0738b1d",
   "metadata": {},
   "outputs": [
    {
     "name": "stdout",
     "output_type": "stream",
     "text": [
      "[[1.0, -0.1, 2.0], [0.0, -3.0, 6.0], [1.0, -0.1, 2.0], [0.0, -3.0, 6.0]]\n"
     ]
    }
   ],
   "source": [
    "data = data.tolist()  # NumPy 배열을 리스트로 변환\n",
    "result = list(data + data)  # 리스트를 두 번 사용\n",
    "\n",
    "print(result)"
   ]
  },
  {
   "cell_type": "code",
   "execution_count": 105,
   "id": "e69f4bd3",
   "metadata": {},
   "outputs": [
    {
     "name": "stdout",
     "output_type": "stream",
     "text": [
      "1\n",
      "int32\n",
      "[ 4  7 10]\n"
     ]
    }
   ],
   "source": [
    "arr=np.array([1,2,3])\n",
    "print(arr.ndim)# 넘파이 차원수. 현재것은 1이 반환된다.\n",
    "print(arr.dtype) # 데이터 타입. int32 가 반환됨\n",
    "print(arr*3+1) # 각 배열에 3을 곱하고 1을 더하라!\n"
   ]
  },
  {
   "cell_type": "code",
   "execution_count": null,
   "id": "2411dee1",
   "metadata": {},
   "outputs": [],
   "source": [
    "([1,2,3])\n"
   ]
  },
  {
   "cell_type": "code",
   "execution_count": 3,
   "id": "c2846fdd",
   "metadata": {},
   "outputs": [
    {
     "ename": "NameError",
     "evalue": "name 'array540' is not defined",
     "output_type": "error",
     "traceback": [
      "\u001b[1;31m---------------------------------------------------------------------------\u001b[0m",
      "\u001b[1;31mNameError\u001b[0m                                 Traceback (most recent call last)",
      "Cell \u001b[1;32mIn[3], line 1\u001b[0m\n\u001b[1;32m----> 1\u001b[0m array540 \u001b[38;5;241m==\u001b[39m\u001b[38;5;241m2\u001b[39m\n\u001b[0;32m      2\u001b[0m array(\u001b[38;5;28;01mFalse\u001b[39;00m \u001b[38;5;241m==\u001b[39m \u001b[38;5;28;01mFalse\u001b[39;00m, \u001b[38;5;28;01mTrue\u001b[39;00m)\n",
      "\u001b[1;31mNameError\u001b[0m: name 'array540' is not defined"
     ]
    }
   ],
   "source": [
    "array540 == 2\n",
    "array(False == False, True)"
   ]
  },
  {
   "cell_type": "markdown",
   "id": "414a124f",
   "metadata": {},
   "source": [
    "(arr == 2) (|arr>2)"
   ]
  },
  {
   "cell_type": "code",
   "execution_count": 108,
   "id": "6e0bf556",
   "metadata": {},
   "outputs": [
    {
     "name": "stdout",
     "output_type": "stream",
     "text": [
      "<class 'numpy.ndarray'>\n"
     ]
    }
   ],
   "source": [
    "print(type(arr))\n",
    "#출력결과는 numpy.ndarray 타입인 것을 확인할 수 있다.\n"
   ]
  },
  {
   "cell_type": "code",
   "execution_count": 35,
   "id": "babf2937",
   "metadata": {},
   "outputs": [
    {
     "name": "stdout",
     "output_type": "stream",
     "text": [
      "[0. 0. 0. 0. 0. 0. 0. 0. 0. 0.]\n",
      "[[0. 0.]\n",
      " [0. 0.]\n",
      " [0. 0.]]\n",
      "[[1. 1.]\n",
      " [1. 1.]\n",
      " [1. 1.]]\n",
      "[[2. 2.]\n",
      " [2. 2.]\n",
      " [2. 2.]]\n"
     ]
    }
   ],
   "source": [
    "print(np.zeros(10))\n",
    "print(np.zeros((3,2)))\n",
    "print(np.ones((3,2)))\n",
    "print(np.ones((3,2))*2)"
   ]
  },
  {
   "cell_type": "code",
   "execution_count": 37,
   "id": "0162430d",
   "metadata": {},
   "outputs": [
    {
     "name": "stdout",
     "output_type": "stream",
     "text": [
      "[1 2 3]\n"
     ]
    }
   ],
   "source": [
    "#초기화는 0이나 1로 하는 경우가 많다.\n",
    "# 만약 다른 숫자로 하고싶다면 1로 설정하고 원하는 값을 곱하자.\n",
    "print(arr)"
   ]
  },
  {
   "cell_type": "code",
   "execution_count": 47,
   "id": "ddf44c11",
   "metadata": {},
   "outputs": [
    {
     "name": "stdout",
     "output_type": "stream",
     "text": [
      "[1. 1. 1.]\n",
      "[2. 3. 4.]\n",
      "[1. 2. 3.]\n",
      "[1. 2. 3.]\n",
      "float64\n",
      "[1 2 3]\n"
     ]
    }
   ],
   "source": [
    "arr2 = np.ones(3)\n",
    "print(arr2)\n",
    "print(arr+arr2)\n",
    "print(arr*arr2)\n",
    "#같은 위치의 요소끼리 연산이 된다.\n",
    "arr1 = arr.astype(np.float64)#타입변환 명령어이다. 플롯으로 변화시키는 것으로 arr1.astype(float)도 가능하다.\n",
    "print(arr1)\n",
    "print(arr1.dtype)\n",
    "arr1 = arr.astype(np.int32)\n",
    "print(arr1) \n",
    "#이런 식으로 타입변화가 가능하다."
   ]
  },
  {
   "cell_type": "code",
   "execution_count": 48,
   "id": "88da9ad7",
   "metadata": {},
   "outputs": [
    {
     "name": "stdout",
     "output_type": "stream",
     "text": [
      "[False  True  True]\n"
     ]
    }
   ],
   "source": [
    "print(arr > arr2)#요소간 연산이 이루어졌다."
   ]
  },
  {
   "cell_type": "code",
   "execution_count": 109,
   "id": "6133f314",
   "metadata": {},
   "outputs": [
    {
     "name": "stdout",
     "output_type": "stream",
     "text": [
      "[0 1 2 3 4 5 6 7 8 9]\n"
     ]
    }
   ],
   "source": [
    "arr = np.arange(10)\n",
    "print(arr)"
   ]
  },
  {
   "cell_type": "code",
   "execution_count": 54,
   "id": "afcad391",
   "metadata": {},
   "outputs": [
    {
     "name": "stdout",
     "output_type": "stream",
     "text": [
      "[  0   1   2   3   4 100 100 100   8   9]\n",
      "[100 100 100]\n",
      "[  0 999   2   3   4 100 100 100   8   9]\n",
      "[10 10 10 10 10 10 10 10 10 10]\n"
     ]
    }
   ],
   "source": [
    "arr[5:8] = 100\n",
    "print(arr)#567이 한번에 100이 되었다. 일괄적으로 특정영역의 값을 변환하는 것이 가능하다.\n",
    "# 비슷한 원리로 따로 저장도 가능하다\n",
    "hund = arr[5:8]\n",
    "print(hund)\n",
    "arr[1] = 999\n",
    "print(arr)\n",
    "#특정값, 특정위치, 특정범위 바꾸는 것, 저장하는 것 다 가능하다\n",
    "arr= np.arange(10)\n",
    "arr[:]=10#일괄적으로 변환시키는 방법이다.\n",
    "print(arr)\n"
   ]
  },
  {
   "cell_type": "code",
   "execution_count": 57,
   "id": "04dbc7ec",
   "metadata": {},
   "outputs": [
    {
     "name": "stdout",
     "output_type": "stream",
     "text": [
      "5\n",
      "6\n"
     ]
    }
   ],
   "source": [
    "arr2d = np.arange(1,10).reshape(3,3)#reshape를 이용하여 리스트 3개의 형식으로 변경하였다.\n",
    "print(arr2d[1][1]) #행렬 구성값을 이렇게 만들어보았다.\n",
    "print(arr2d[1,2])#사실 같이 지정해도 무난하다.\n"
   ]
  },
  {
   "cell_type": "code",
   "execution_count": 61,
   "id": "1280cda4",
   "metadata": {},
   "outputs": [
    {
     "name": "stdout",
     "output_type": "stream",
     "text": [
      "10\n",
      "3\n",
      "4\n"
     ]
    }
   ],
   "source": [
    "#1~12까지 값으로 3행 4열을 만들고 데이터 10을 참조한다면?\n",
    "arr2d2 = np.arange(1,13).reshape(3,4)\n",
    "print(arr2d2[2,1])\n",
    "print(len(arr2d2))\n",
    "print(len(arr2d2[0]))"
   ]
  },
  {
   "cell_type": "code",
   "execution_count": 65,
   "id": "13339880",
   "metadata": {},
   "outputs": [
    {
     "name": "stdout",
     "output_type": "stream",
     "text": [
      "[[[ 1  2  3  4]\n",
      "  [ 5  6  7  8]\n",
      "  [ 9 10 11 12]]\n",
      "\n",
      " [[13 14 15 16]\n",
      "  [17 18 19 20]\n",
      "  [21 22 23 24]]]\n",
      "3\n",
      "(2, 3, 4)\n"
     ]
    }
   ],
   "source": [
    "d = np.arange(1, 25).reshape(2,3,4)\n",
    "print(d) # 이것을 3차원 배열이라고 한다. 깊이, 행 열 순으로 배열되기 때문이다.\n",
    "len(d)#차원이 먼저 출력이 되었다.\n",
    "len(d[0]) #행의 갯수가 출력되었다.\n",
    "len(d[0][0]) # 열의 갯수가 출력되었다.\n",
    "print(d.ndim)#3차원\n",
    "print(d.shape)#배열 구성은?\n",
    "#3차원 배열 참조방법\n",
    "# 3차원은 축이 상당히 중요하다. "
   ]
  },
  {
   "cell_type": "code",
   "execution_count": 71,
   "id": "d1b4a5b9",
   "metadata": {},
   "outputs": [
    {
     "name": "stdout",
     "output_type": "stream",
     "text": [
      "100\n",
      "100\n"
     ]
    }
   ],
   "source": [
    "print(np.sum(arr))#전체합계\n",
    "print(np.sum(arr,axis=0))"
   ]
  },
  {
   "cell_type": "code",
   "execution_count": 76,
   "id": "bb307464",
   "metadata": {},
   "outputs": [
    {
     "name": "stdout",
     "output_type": "stream",
     "text": [
      "300\n",
      "[[14 16 18 20]\n",
      " [22 24 26 28]\n",
      " [30 32 34 36]]\n",
      "[[15 18 21 24]\n",
      " [51 54 57 60]]\n",
      "[[10 26 42]\n",
      " [58 74 90]]\n"
     ]
    }
   ],
   "source": [
    "print(np.sum(d)) #전체합계는 300이다. 점 하나로 압축하였다.\n",
    "print(np.sum(d,axis = 0))# 차원. 축을 기준으로 합계를 구하였다. 연산 이후 차원이 감소되었다.(2,3,4)에서 2가 사라졌다.\n",
    "print(np.sum(d,axis = 1))# n차원에서 차원끼리 합을 하게 되면 n-1차원으로 감소한다. 현재는 행을 기준으로 합계가 이루어졌다.(2,3,4)에서 3이 사라졌다. \n",
    "print(np.sum(d,axis = 2))# 열을 기준으로 합이 이루어졌다. (2,3,4)에서 4가 사라졌다.\n"
   ]
  },
  {
   "cell_type": "code",
   "execution_count": 85,
   "id": "365cfb68",
   "metadata": {},
   "outputs": [
    {
     "name": "stdout",
     "output_type": "stream",
     "text": [
      "[[ 1  2  3  4]\n",
      " [ 5  6  7  8]\n",
      " [ 9 10 11 12]]\n",
      "[[ 1  2  3  4]\n",
      " [ 5  6  7  8]\n",
      " [ 9 10 11 12]]\n",
      "[[ 5  6  7  8]\n",
      " [17 18 19 20]]\n"
     ]
    }
   ],
   "source": [
    "#배열 인덱싱\n",
    "print(d[0])\n",
    "print(d[0,:])\n",
    "print(d[:,1])"
   ]
  },
  {
   "cell_type": "code",
   "execution_count": 92,
   "id": "2c7fdba5",
   "metadata": {},
   "outputs": [
    {
     "name": "stdout",
     "output_type": "stream",
     "text": [
      "[ 3  7 11]\n",
      "[7 8]\n",
      "[ 9 10]\n"
     ]
    }
   ],
   "source": [
    "import numpy as np\n",
    "\n",
    "arr = np.array([[ 1,  2,  3,  4],\n",
    "                [ 5,  6,  7,  8],\n",
    "                [ 9, 10, 11, 12]])\n",
    "print(arr[:, 2])\n",
    "print(arr[1,2:])\n",
    "print(arr[2,:2])"
   ]
  },
  {
   "cell_type": "code",
   "execution_count": 110,
   "id": "87487b13",
   "metadata": {},
   "outputs": [
    {
     "name": "stdout",
     "output_type": "stream",
     "text": [
      "[1 2 3]\n",
      "[1 3]\n"
     ]
    }
   ],
   "source": [
    "# 불린참조:참 또는 거짓으로 연산되는 것을 불린연산이라고 하는데 그러한 분린을 참조하는 것이다. \n",
    "# 트루에 해당되는 자료를 참조하도록 할 수 있다.\n",
    "a=np.array([1,2,3])\n",
    "b=np.array([True, False, True])\n",
    "print(a)\n",
    "#b에 저장된 값이 true인 위치의 a배열 요소 값을 참조하겠다는 뜻이다. \n",
    "print(a[b])#이것이 불린참조이다.\n",
    "# 판다스에서도 많이 나온다. 데이터분석시에도 많이 나온다. \n"
   ]
  },
  {
   "cell_type": "code",
   "execution_count": 97,
   "id": "3408941e",
   "metadata": {},
   "outputs": [
    {
     "name": "stdout",
     "output_type": "stream",
     "text": [
      "[[False False False  True]\n",
      " [False False False  True]\n",
      " [False False False  True]]\n",
      "[ 4  8 12]\n"
     ]
    }
   ],
   "source": [
    "#불린참조를 응용해보자.arr에서 4의 배수만 추출하고자 한다면?\n",
    "#파이썬으로 한다면 for문이 바로 떠오를 것이다. 하지만 넘파이는 이것을 불린참조로 간단하게 해결 가능하다.\n",
    "print(arr%4==0) #한줄로 매우 간단하게 나왔다.\n",
    "print(arr[arr%4==0])#트루인 부분이 알아서 튀어나온다.\n",
    "#단 두줄로 for문을 돌리지 않고 해결되었다.\n"
   ]
  },
  {
   "cell_type": "code",
   "execution_count": 99,
   "id": "83f5a84f",
   "metadata": {},
   "outputs": [
    {
     "name": "stdout",
     "output_type": "stream",
     "text": [
      "[11 14 16]\n",
      "[11 14 16 16 16 16 16 16]\n"
     ]
    }
   ],
   "source": [
    "a = np.arange(11,20)\n",
    "print(a[np.array([0,3,5])])#0번과 3번과 5번 요소를 참조하는 것이다.\n",
    "print(a[np.array([0,3,5,5,5,5,5,5])])#반복도 가능하다"
   ]
  },
  {
   "cell_type": "code",
   "execution_count": 117,
   "id": "6606f25b",
   "metadata": {},
   "outputs": [
    {
     "name": "stdout",
     "output_type": "stream",
     "text": [
      "[[ 1  2  3  4]\n",
      " [ 5  6  7  8]\n",
      " [ 9 10 11 12]]\n",
      "[[ 9 10 11 12]\n",
      " [ 1  2  3  4]\n",
      " [ 5  6  7  8]]\n",
      "[[ 1  2  3  4]\n",
      " [ 5  6  7  8]\n",
      " [ 9 10 11 12]]\n",
      "[[ 1  2  3  4]\n",
      " [50  6  7  8]\n",
      " [ 9 10 11 12]]\n"
     ]
    }
   ],
   "source": [
    "# 불린참조는 행과 열단위로도 참조가 가능하다.\n",
    "\n",
    "arr = np.array([[ 1,  2,  3,  4],\n",
    "                [ 5,  6,  7,  8],\n",
    "                [ 9, 10, 11, 12]])\n",
    "print(arr[:,:])\n",
    "print(arr[[2,0,1],:])\n",
    "brr = arr\n",
    "print(arr[:,:])\n",
    "arr[1,0] = 50\n",
    "print(brr)\n",
    "# 카피를 하지 않았기에 이런 참사가 발생했다."
   ]
  },
  {
   "cell_type": "code",
   "execution_count": 119,
   "id": "5830dbb9",
   "metadata": {},
   "outputs": [
    {
     "name": "stdout",
     "output_type": "stream",
     "text": [
      "<built-in method copy of numpy.ndarray object at 0x000001C7CB34E790>\n"
     ]
    }
   ],
   "source": [
    "arr[1,0] = 5\n",
    "crr = arr.copy()\n",
    "arr[1,0] = 50\n",
    "print(crr)"
   ]
  },
  {
   "cell_type": "code",
   "execution_count": 128,
   "id": "9d0717ea",
   "metadata": {},
   "outputs": [
    {
     "ename": "SyntaxError",
     "evalue": "incomplete input (61662308.py, line 9)",
     "output_type": "error",
     "traceback": [
      "\u001b[1;36m  Cell \u001b[1;32mIn[128], line 9\u001b[1;36m\u001b[0m\n\u001b[1;33m    print(~(names==\"kim\")\u001b[0m\n\u001b[1;37m                         ^\u001b[0m\n\u001b[1;31mSyntaxError\u001b[0m\u001b[1;31m:\u001b[0m incomplete input\n"
     ]
    }
   ],
   "source": [
    "names = np.array([\"kim\",\"park\",\"lee\"])\n",
    "data=np.array([[4,2],[0,2],[-1,2]])\n",
    "print(names==\"kim\")\n",
    "print(data[names==\"kim\"]) #kim이 트루기 때문에 첫번째 요소가 출력된다.\n",
    "print(data[names==\"kim\",1]) #1번 요소에서 2번째 숫자를 참조했다.\n",
    "print(names!=\"park\")\n",
    "print(data[names!=\"park\"]) # 부정을 사용하여 2개의 리스트를 불러왔다.\n",
    "print(data[names!=\"park\", 0]) # 그 중 첫번째 요소를 가져온다.\n"
   ]
  },
  {
   "cell_type": "code",
   "execution_count": 131,
   "id": "841f1fce",
   "metadata": {},
   "outputs": [
    {
     "name": "stdout",
     "output_type": "stream",
     "text": [
      "[False  True  True]\n",
      "[ True False  True]\n",
      "[[ 4  2]\n",
      " [-1  2]]\n"
     ]
    }
   ],
   "source": [
    "print(~(names==\"kim\"))#첫번째 것과 정 반대이다. 물결무늬는 부정의 의미이다.\n",
    "print((names==\"kim\")|(names==\"lee\")) # or문으로 사용도 가능하다.\n",
    "print(data[(names==\"kim\")|(names==\"lee\")]) #그 것을 추출하는 것도 가능하다."
   ]
  },
  {
   "cell_type": "code",
   "execution_count": 134,
   "id": "56b8be1f",
   "metadata": {},
   "outputs": [
    {
     "name": "stdout",
     "output_type": "stream",
     "text": [
      "[[False False]\n",
      " [False False]\n",
      " [False False]]\n",
      "[[4 2]\n",
      " [0 2]\n",
      " [0 2]]\n"
     ]
    }
   ],
   "source": [
    "print(data < 0) \n",
    "data[data<0] = 0 \n",
    "print(data)"
   ]
  },
  {
   "cell_type": "code",
   "execution_count": 138,
   "id": "e6606c05",
   "metadata": {},
   "outputs": [
    {
     "name": "stdout",
     "output_type": "stream",
     "text": [
      "['kim' 'park' 'lee'] [[4 2]\n",
      " [0 2]\n",
      " [0 2]]\n",
      "[[  4   2]\n",
      " [  0   2]\n",
      " [999 999]]\n"
     ]
    }
   ],
   "source": [
    "print(names, data)\n",
    "(data[names==\"lee\"])= 999\n",
    "print(data)"
   ]
  },
  {
   "cell_type": "code",
   "execution_count": 145,
   "id": "8bdcb0dd",
   "metadata": {},
   "outputs": [
    {
     "name": "stdout",
     "output_type": "stream",
     "text": [
      "[[0. 0. 0. 0.]\n",
      " [0. 0. 0. 0.]\n",
      " [0. 0. 0. 0.]\n",
      " [0. 0. 0. 0.]\n",
      " [0. 0. 0. 0.]\n",
      " [0. 0. 0. 0.]\n",
      " [0. 0. 0. 0.]\n",
      " [0. 0. 0. 0.]]\n"
     ]
    }
   ],
   "source": [
    "arr = np.zeros((8,4))\n",
    "print(arr)"
   ]
  },
  {
   "cell_type": "code",
   "execution_count": 144,
   "id": "6bffb36a",
   "metadata": {},
   "outputs": [
    {
     "name": "stdout",
     "output_type": "stream",
     "text": [
      "[[1. 1. 1. 1.]]\n"
     ]
    }
   ],
   "source": [
    "brr = np.ones((1, 4))\n",
    "print(arr[])"
   ]
  },
  {
   "cell_type": "code",
   "execution_count": 148,
   "id": "c132cd34",
   "metadata": {},
   "outputs": [
    {
     "name": "stdout",
     "output_type": "stream",
     "text": [
      "[[0. 0. 0. 0.]\n",
      " [1. 1. 1. 1.]\n",
      " [2. 2. 2. 2.]\n",
      " [3. 3. 3. 3.]\n",
      " [4. 4. 4. 4.]\n",
      " [5. 5. 5. 5.]\n",
      " [6. 6. 6. 6.]\n",
      " [7. 7. 7. 7.]]\n"
     ]
    }
   ],
   "source": [
    "arr = np.zeros((8, 4))\n",
    "for i in range(arr.shape[0]):\n",
    "    arr[i] = i\n",
    "\n",
    "print(arr)"
   ]
  },
  {
   "cell_type": "code",
   "execution_count": null,
   "id": "cc0456d8",
   "metadata": {},
   "outputs": [],
   "source": [
    "# 사실 0차원을 1차원으로 대입하는 것은 안된다.\n",
    "#[0,0,0,0] = 0 은 0차원에서 1차원으로 가는 것인데 원래는 성립되지 않는 식이다.\n",
    "# 하지만 [0,0,0,0] = [0,0,0,0] 으로 바뀌게 된다. \n",
    "# [0,0,0,0] = 1 로 적으면 [1,1,1,1]로 바뀐다.\n",
    "# 이것을 브로드캐스팅이라고 한다."
   ]
  }
 ],
 "metadata": {
  "kernelspec": {
   "display_name": "Python 3 (ipykernel)",
   "language": "python",
   "name": "python3"
  },
  "language_info": {
   "codemirror_mode": {
    "name": "ipython",
    "version": 3
   },
   "file_extension": ".py",
   "mimetype": "text/x-python",
   "name": "python",
   "nbconvert_exporter": "python",
   "pygments_lexer": "ipython3",
   "version": "3.11.4"
  }
 },
 "nbformat": 4,
 "nbformat_minor": 5
}
