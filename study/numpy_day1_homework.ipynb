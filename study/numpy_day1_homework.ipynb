{
 "cells": [
  {
   "cell_type": "code",
   "execution_count": 2,
   "id": "2bd4fbe0",
   "metadata": {},
   "outputs": [
    {
     "data": {
      "text/plain": [
       "'nohtyp'"
      ]
     },
     "execution_count": 2,
     "metadata": {},
     "output_type": "execute_result"
    }
   ],
   "source": [
    "# 21번 문제\n",
    "def print_reverse(string1):\n",
    "    return string1[::-1]\n",
    "print_reverse(\"python\")"
   ]
  },
  {
   "cell_type": "code",
   "execution_count": 5,
   "id": "9d2d4a32",
   "metadata": {},
   "outputs": [
    {
     "data": {
      "text/plain": [
       "2.0"
      ]
     },
     "execution_count": 5,
     "metadata": {},
     "output_type": "execute_result"
    }
   ],
   "source": [
    "# 22번 문제\n",
    "def print_score(list1):\n",
    "    summ = 0\n",
    "    for i in list1:\n",
    "        summ += i\n",
    "    return summ/len(list1)\n",
    "\n",
    "print_score([1, 2, 3])"
   ]
  },
  {
   "cell_type": "code",
   "execution_count": 6,
   "id": "4491e893",
   "metadata": {},
   "outputs": [
    {
     "name": "stdout",
     "output_type": "stream",
     "text": [
      "2\n",
      "10\n",
      "12\n"
     ]
    }
   ],
   "source": [
    "# 23번 문제\n",
    "def print_even(list2):\n",
    "    for i in list2:\n",
    "        if i%2 ==0:\n",
    "            print(i)\n",
    "\n",
    "print_even ([1, 3, 2, 10, 12, 11, 15])"
   ]
  },
  {
   "cell_type": "code",
   "execution_count": 14,
   "id": "2409cf99",
   "metadata": {},
   "outputs": [
    {
     "name": "stdout",
     "output_type": "stream",
     "text": [
      "이름\n",
      "나이\n",
      "성별\n"
     ]
    }
   ],
   "source": [
    "# 24번 문제\n",
    "def print_keys (dict1):\n",
    "    dict2 = dict1.keys()\n",
    "    for i in dict2:\n",
    "        print(i)\n",
    "print_keys ({\"이름\":\"김말똥\", \"나이\":30, \"성별\":0})"
   ]
  },
  {
   "cell_type": "code",
   "execution_count": 26,
   "id": "a0859b65",
   "metadata": {},
   "outputs": [
    {
     "name": "stdout",
     "output_type": "stream",
     "text": [
      "[100, 130, 100, 100]\n"
     ]
    }
   ],
   "source": [
    "# 25번 문제\n",
    "my_dict = {\"10/26\" : [100, 130, 100, 100],\n",
    "           \"10/27\" : [10, 12, 10, 11]}\n",
    "\n",
    "def print_value_by_key(dict2, day1):\n",
    "    if day1 in dict2:\n",
    "        print(dict2[day1])\n",
    "    else:\n",
    "        print(f\"키값 '{day1}' 가 존재하지 않습니다.\")\n",
    "\n",
    "print_value_by_key(my_dict, \"10/26\")"
   ]
  },
  {
   "cell_type": "code",
   "execution_count": 47,
   "id": "e86f7cb7",
   "metadata": {},
   "outputs": [
    {
     "name": "stdout",
     "output_type": "stream",
     "text": [
      "아이엠어보\n",
      "이유알어걸\n"
     ]
    }
   ],
   "source": [
    "# 26번 문제\n",
    "def print_5xn(munza):\n",
    "    count = 0\n",
    "    for mun in munza:\n",
    "        print(mun, end=\"\")\n",
    "        count += 1\n",
    "        if count % 5 == 0:\n",
    "            print()\n",
    "\n",
    "print_5xn(\"아이엠어보이유알어걸\")"
   ]
  },
  {
   "cell_type": "code",
   "execution_count": 39,
   "id": "625bae9e",
   "metadata": {},
   "outputs": [
    {
     "name": "stdout",
     "output_type": "stream",
     "text": [
      "아이엠\n",
      "어보이\n",
      "유알어\n",
      "걸\n"
     ]
    }
   ],
   "source": [
    "# 27번 문제\n",
    "\n",
    "def printmxn(munza, numb):\n",
    "    mok = int(len(munza)//numb)\n",
    "    nahmerzi = int(len(munza)%numb)\n",
    "    for i in range(mok):\n",
    "        print(munza[i*numb:i*numb+numb])\n",
    "    if nahmerzi != 0:\n",
    "        print(munza[-nahmerzi:])\n",
    "\n",
    "printmxn(\"아이엠어보이유알어걸\", 3)\n"
   ]
  },
  {
   "cell_type": "code",
   "execution_count": 42,
   "id": "92f1f18d",
   "metadata": {},
   "outputs": [
    {
     "name": "stdout",
     "output_type": "stream",
     "text": [
      "1000000\n"
     ]
    }
   ],
   "source": [
    "#28번 문제\n",
    "def calc_monthly_salary(annual_salary): \n",
    "    print(int(annual_salary/12))\n",
    "    \n",
    "calc_monthly_salary(12000000)"
   ]
  },
  {
   "cell_type": "code",
   "execution_count": 48,
   "id": "46300201",
   "metadata": {},
   "outputs": [
    {
     "name": "stdout",
     "output_type": "stream",
     "text": [
      "왼쪽: 100\n",
      "오른쪽: 200\n"
     ]
    }
   ],
   "source": [
    "#29번 문제\n",
    "# 마이프린트 함수를 불러오는데 a를 100로 b를 200으로 정의했다. \n",
    "# 프린트는 엔터가 숨겨져 있기에 다음과 같이 출력될 것이다.\n",
    "# 왼쪽: 100\n",
    "# 오른쪽: 200"
   ]
  },
  {
   "cell_type": "code",
   "execution_count": 50,
   "id": "33f6072d",
   "metadata": {},
   "outputs": [],
   "source": [
    "# 30번 문제\n",
    "# 사실 위와 같다. 만약 my_print(100, 200)이라고 적으면 왼쪽에 100, 오른쪽에 200을 붙이게 된다. \n",
    "# 하지만 이번 것은 b와 a를 정의하고 함수를 호출하였다.\n",
    "# 결과는 a에 200이 들어가고 오른쪽에 100이 들어갈것이다.\n",
    "# 왼쪽: 200\n",
    "# 오른쪽: 100"
   ]
  },
  {
   "cell_type": "code",
   "execution_count": 51,
   "id": "29bfbcc3",
   "metadata": {},
   "outputs": [
    {
     "ename": "NameError",
     "evalue": "name 'result' is not defined",
     "output_type": "error",
     "traceback": [
      "\u001b[1;31m---------------------------------------------------------------------------\u001b[0m",
      "\u001b[1;31mNameError\u001b[0m                                 Traceback (most recent call last)",
      "Cell \u001b[1;32mIn[51], line 9\u001b[0m\n\u001b[0;32m      6\u001b[0m     result \u001b[38;5;241m=\u001b[39m n \u001b[38;5;241m+\u001b[39m \u001b[38;5;241m1\u001b[39m\n\u001b[0;32m      8\u001b[0m n_plus_1(\u001b[38;5;241m3\u001b[39m)\n\u001b[1;32m----> 9\u001b[0m \u001b[38;5;28mprint\u001b[39m (result)\n",
      "\u001b[1;31mNameError\u001b[0m: name 'result' is not defined"
     ]
    }
   ],
   "source": [
    "# 31번 문제\n",
    "# 리턴하는 값이 존재하지 않는다. 또한 result는 함수 안에서 배정되었기에 함수 바깥에 영향을 못준다.\n",
    "# 애러가 출력될 것이다. result라는 변수를 찾지 못했다고 말할 것이다."
   ]
  },
  {
   "cell_type": "code",
   "execution_count": 52,
   "id": "9cd7b8da",
   "metadata": {},
   "outputs": [
    {
     "name": "stdout",
     "output_type": "stream",
     "text": [
      "www.naver.com\n"
     ]
    }
   ],
   "source": [
    "# 32번 문제\n",
    "def make_url(domain):\n",
    "    print(f\"www.{domain}.com\")\n",
    "make_url(\"naver\")"
   ]
  },
  {
   "cell_type": "code",
   "execution_count": 59,
   "id": "a66be987",
   "metadata": {},
   "outputs": [
    {
     "data": {
      "text/plain": [
       "['a', 'b', 'c', 'd']"
      ]
     },
     "execution_count": 59,
     "metadata": {},
     "output_type": "execute_result"
    }
   ],
   "source": [
    "# 33번 문제\n",
    "def make_list(list4):\n",
    "    list5 = []\n",
    "    for i in list4:\n",
    "        list5.append(i)\n",
    "    return list5\n",
    "make_list(\"abcd\")"
   ]
  },
  {
   "cell_type": "code",
   "execution_count": 64,
   "id": "7be76e9c",
   "metadata": {},
   "outputs": [
    {
     "data": {
      "text/plain": [
       "[4, 6, 8]"
      ]
     },
     "execution_count": 64,
     "metadata": {},
     "output_type": "execute_result"
    }
   ],
   "source": [
    "# 34번 문제\n",
    "def pickup_even(list5):\n",
    "    list6 = []\n",
    "    for i in list5:\n",
    "        if i%2 == 0:\n",
    "            list6.append(i)\n",
    "    return list6\n",
    "\n",
    "pickup_even([3, 4, 5, 6, 7, 8])"
   ]
  },
  {
   "cell_type": "code",
   "execution_count": 73,
   "id": "d45c9aa3",
   "metadata": {},
   "outputs": [
    {
     "name": "stdout",
     "output_type": "stream",
     "text": [
      "1234567"
     ]
    }
   ],
   "source": [
    "# 35번 문제\n",
    "import re \n",
    "def convert_int(dot_num):\n",
    "    res = re.findall(\"\\d\",dot_num)\n",
    "    for i in range(len(res)):\n",
    "        print(res[i],end=\"\")\n",
    "\n",
    "convert_int(\"1,234,567\")\n",
    " "
   ]
  },
  {
   "cell_type": "code",
   "execution_count": 74,
   "id": "313790dd",
   "metadata": {},
   "outputs": [
    {
     "name": "stdout",
     "output_type": "stream",
     "text": [
      "22\n"
     ]
    }
   ],
   "source": [
    "# 36번 문제\n",
    "# 함수 안에 함수가 중첩되는 방식이다. \n",
    "# 함수 안의 숫자는 문자 형태가 아니기에 무난하게 22가 나오지 않을까?"
   ]
  },
  {
   "cell_type": "code",
   "execution_count": 75,
   "id": "f9a011cf",
   "metadata": {},
   "outputs": [
    {
     "name": "stdout",
     "output_type": "stream",
     "text": [
      "22\n"
     ]
    }
   ],
   "source": [
    "# 37번 문제\n",
    "# 함수는 중첩적으로 작동할 수 있다. 그리고 함수는 3번 중첩되었다.\n",
    "# 그렇다면 이것도 22가 무난하게 나오지 않을까?"
   ]
  },
  {
   "cell_type": "code",
   "execution_count": 76,
   "id": "e85e3d8c",
   "metadata": {},
   "outputs": [
    {
     "name": "stdout",
     "output_type": "stream",
     "text": [
      "140\n"
     ]
    }
   ],
   "source": [
    "# 38번 문제\n",
    "# 함수 1을 통해 10에 4를 더해 14가 된다.\n",
    "# 그리고 함수 2를 통해 14에 10을 곱하니 140이 된다.\n",
    "# 프린트도 c니 140이 되지 않을까?"
   ]
  },
  {
   "cell_type": "code",
   "execution_count": 77,
   "id": "be5a0d2d",
   "metadata": {},
   "outputs": [
    {
     "name": "stdout",
     "output_type": "stream",
     "text": [
      "16\n"
     ]
    }
   ],
   "source": [
    "# 39번 문제\n",
    "# 함수중첩이 중요하다.\n",
    "# 함수 2가 먼저 가동되고 그 와중에 함수 1이 리턴되는 구조이다.\n",
    "# 함수1에는 12가 들어갈 것이며 함수 1에서 4를 더해서 16이 최종적으로 나올 것이다.\n",
    "# 무난하게 16이 출력될 것이라고 생각한다.\n"
   ]
  },
  {
   "cell_type": "code",
   "execution_count": 78,
   "id": "80a593db",
   "metadata": {},
   "outputs": [
    {
     "name": "stdout",
     "output_type": "stream",
     "text": [
      "28\n"
     ]
    }
   ],
   "source": [
    "# 40번 문제\n",
    "# 현 문제도 함수중첩이다. 함수 2가 먼저 실행되어야 한다.\n",
    "# 함수 1이 리턴되고 함수 1에서는 함수 0이 되는 함수 중첩구조이다.\n",
    "# 먼저 함수 2에서 2에 10을 더해 12가 나올 것이다. \n",
    "# 리턴을 통해 함수 0을 14로 가동시킨다.\n",
    "# 그렇다면 28이 나오지 않을까?"
   ]
  },
  {
   "cell_type": "code",
   "execution_count": null,
   "id": "7053baab",
   "metadata": {},
   "outputs": [],
   "source": []
  }
 ],
 "metadata": {
  "kernelspec": {
   "display_name": "Python 3 (ipykernel)",
   "language": "python",
   "name": "python3"
  },
  "language_info": {
   "codemirror_mode": {
    "name": "ipython",
    "version": 3
   },
   "file_extension": ".py",
   "mimetype": "text/x-python",
   "name": "python",
   "nbconvert_exporter": "python",
   "pygments_lexer": "ipython3",
   "version": "3.11.4"
  }
 },
 "nbformat": 4,
 "nbformat_minor": 5
}
