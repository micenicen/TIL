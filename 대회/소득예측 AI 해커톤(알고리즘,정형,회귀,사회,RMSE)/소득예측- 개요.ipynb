{
 "cells": [
  {
   "cell_type": "code",
   "execution_count": 1,
   "id": "29168dfa",
   "metadata": {},
   "outputs": [
    {
     "data": {
      "text/html": [
       "<div>\n",
       "<style scoped>\n",
       "    .dataframe tbody tr th:only-of-type {\n",
       "        vertical-align: middle;\n",
       "    }\n",
       "\n",
       "    .dataframe tbody tr th {\n",
       "        vertical-align: top;\n",
       "    }\n",
       "\n",
       "    .dataframe thead th {\n",
       "        text-align: right;\n",
       "    }\n",
       "</style>\n",
       "<table border=\"1\" class=\"dataframe\">\n",
       "  <thead>\n",
       "    <tr style=\"text-align: right;\">\n",
       "      <th></th>\n",
       "      <th>ID</th>\n",
       "      <th>Age</th>\n",
       "      <th>Gender</th>\n",
       "      <th>Education_Status</th>\n",
       "      <th>Employment_Status</th>\n",
       "      <th>Working_Week (Yearly)</th>\n",
       "      <th>Industry_Status</th>\n",
       "      <th>Occupation_Status</th>\n",
       "      <th>Race</th>\n",
       "      <th>Hispanic_Origin</th>\n",
       "      <th>...</th>\n",
       "      <th>Citizenship</th>\n",
       "      <th>Birth_Country</th>\n",
       "      <th>Birth_Country (Father)</th>\n",
       "      <th>Birth_Country (Mother)</th>\n",
       "      <th>Tax_Status</th>\n",
       "      <th>Gains</th>\n",
       "      <th>Losses</th>\n",
       "      <th>Dividends</th>\n",
       "      <th>Income_Status</th>\n",
       "      <th>Income</th>\n",
       "    </tr>\n",
       "  </thead>\n",
       "  <tbody>\n",
       "    <tr>\n",
       "      <th>0</th>\n",
       "      <td>TRAIN_00000</td>\n",
       "      <td>63</td>\n",
       "      <td>M</td>\n",
       "      <td>Middle (7-8)</td>\n",
       "      <td>Full-Time</td>\n",
       "      <td>4</td>\n",
       "      <td>Social Services</td>\n",
       "      <td>Services</td>\n",
       "      <td>White</td>\n",
       "      <td>All other</td>\n",
       "      <td>...</td>\n",
       "      <td>Native</td>\n",
       "      <td>US</td>\n",
       "      <td>US</td>\n",
       "      <td>US</td>\n",
       "      <td>Nonfiler</td>\n",
       "      <td>0</td>\n",
       "      <td>0</td>\n",
       "      <td>0</td>\n",
       "      <td>Unknown</td>\n",
       "      <td>425</td>\n",
       "    </tr>\n",
       "    <tr>\n",
       "      <th>1</th>\n",
       "      <td>TRAIN_00001</td>\n",
       "      <td>37</td>\n",
       "      <td>M</td>\n",
       "      <td>Associates degree (Vocational)</td>\n",
       "      <td>Full-Time</td>\n",
       "      <td>52</td>\n",
       "      <td>Entertainment</td>\n",
       "      <td>Services</td>\n",
       "      <td>White</td>\n",
       "      <td>All other</td>\n",
       "      <td>...</td>\n",
       "      <td>Native</td>\n",
       "      <td>US</td>\n",
       "      <td>US</td>\n",
       "      <td>US</td>\n",
       "      <td>Single</td>\n",
       "      <td>0</td>\n",
       "      <td>0</td>\n",
       "      <td>0</td>\n",
       "      <td>Under Median</td>\n",
       "      <td>0</td>\n",
       "    </tr>\n",
       "    <tr>\n",
       "      <th>2</th>\n",
       "      <td>TRAIN_00002</td>\n",
       "      <td>58</td>\n",
       "      <td>F</td>\n",
       "      <td>High graduate</td>\n",
       "      <td>Full-Time</td>\n",
       "      <td>52</td>\n",
       "      <td>Manufacturing (Non-durable)</td>\n",
       "      <td>Admin Support (include Clerical)</td>\n",
       "      <td>Black</td>\n",
       "      <td>All other</td>\n",
       "      <td>...</td>\n",
       "      <td>Native</td>\n",
       "      <td>US</td>\n",
       "      <td>US</td>\n",
       "      <td>US</td>\n",
       "      <td>Married Filling Jointly both under 65 (MFJ)</td>\n",
       "      <td>3411</td>\n",
       "      <td>0</td>\n",
       "      <td>0</td>\n",
       "      <td>Under Median</td>\n",
       "      <td>860</td>\n",
       "    </tr>\n",
       "    <tr>\n",
       "      <th>3</th>\n",
       "      <td>TRAIN_00003</td>\n",
       "      <td>44</td>\n",
       "      <td>M</td>\n",
       "      <td>High graduate</td>\n",
       "      <td>Full-Time</td>\n",
       "      <td>52</td>\n",
       "      <td>Retail</td>\n",
       "      <td>Technicians &amp; Support</td>\n",
       "      <td>White</td>\n",
       "      <td>All other</td>\n",
       "      <td>...</td>\n",
       "      <td>Native</td>\n",
       "      <td>US</td>\n",
       "      <td>US</td>\n",
       "      <td>US</td>\n",
       "      <td>Single</td>\n",
       "      <td>0</td>\n",
       "      <td>0</td>\n",
       "      <td>0</td>\n",
       "      <td>Under Median</td>\n",
       "      <td>850</td>\n",
       "    </tr>\n",
       "    <tr>\n",
       "      <th>4</th>\n",
       "      <td>TRAIN_00004</td>\n",
       "      <td>37</td>\n",
       "      <td>F</td>\n",
       "      <td>High graduate</td>\n",
       "      <td>Full-Time</td>\n",
       "      <td>52</td>\n",
       "      <td>Retail</td>\n",
       "      <td>Sales</td>\n",
       "      <td>White</td>\n",
       "      <td>All other</td>\n",
       "      <td>...</td>\n",
       "      <td>Native</td>\n",
       "      <td>US</td>\n",
       "      <td>US</td>\n",
       "      <td>US</td>\n",
       "      <td>Head of Household (HOH)</td>\n",
       "      <td>0</td>\n",
       "      <td>0</td>\n",
       "      <td>0</td>\n",
       "      <td>Unknown</td>\n",
       "      <td>570</td>\n",
       "    </tr>\n",
       "    <tr>\n",
       "      <th>...</th>\n",
       "      <td>...</td>\n",
       "      <td>...</td>\n",
       "      <td>...</td>\n",
       "      <td>...</td>\n",
       "      <td>...</td>\n",
       "      <td>...</td>\n",
       "      <td>...</td>\n",
       "      <td>...</td>\n",
       "      <td>...</td>\n",
       "      <td>...</td>\n",
       "      <td>...</td>\n",
       "      <td>...</td>\n",
       "      <td>...</td>\n",
       "      <td>...</td>\n",
       "      <td>...</td>\n",
       "      <td>...</td>\n",
       "      <td>...</td>\n",
       "      <td>...</td>\n",
       "      <td>...</td>\n",
       "      <td>...</td>\n",
       "      <td>...</td>\n",
       "    </tr>\n",
       "    <tr>\n",
       "      <th>19995</th>\n",
       "      <td>TRAIN_19995</td>\n",
       "      <td>33</td>\n",
       "      <td>M</td>\n",
       "      <td>High graduate</td>\n",
       "      <td>Children or Armed Forces</td>\n",
       "      <td>52</td>\n",
       "      <td>Manufacturing (Durable)</td>\n",
       "      <td>Handlers/Cleaners</td>\n",
       "      <td>White</td>\n",
       "      <td>All other</td>\n",
       "      <td>...</td>\n",
       "      <td>Native</td>\n",
       "      <td>US</td>\n",
       "      <td>US</td>\n",
       "      <td>US</td>\n",
       "      <td>Single</td>\n",
       "      <td>0</td>\n",
       "      <td>0</td>\n",
       "      <td>0</td>\n",
       "      <td>Under Median</td>\n",
       "      <td>1300</td>\n",
       "    </tr>\n",
       "    <tr>\n",
       "      <th>19996</th>\n",
       "      <td>TRAIN_19996</td>\n",
       "      <td>20</td>\n",
       "      <td>F</td>\n",
       "      <td>College</td>\n",
       "      <td>Full-Time</td>\n",
       "      <td>12</td>\n",
       "      <td>Education</td>\n",
       "      <td>Admin Support (include Clerical)</td>\n",
       "      <td>White</td>\n",
       "      <td>Mexican-American</td>\n",
       "      <td>...</td>\n",
       "      <td>Native</td>\n",
       "      <td>US</td>\n",
       "      <td>Mexico</td>\n",
       "      <td>Mexico</td>\n",
       "      <td>Nonfiler</td>\n",
       "      <td>0</td>\n",
       "      <td>0</td>\n",
       "      <td>0</td>\n",
       "      <td>Under Median</td>\n",
       "      <td>850</td>\n",
       "    </tr>\n",
       "    <tr>\n",
       "      <th>19997</th>\n",
       "      <td>TRAIN_19997</td>\n",
       "      <td>22</td>\n",
       "      <td>M</td>\n",
       "      <td>College</td>\n",
       "      <td>Children or Armed Forces</td>\n",
       "      <td>52</td>\n",
       "      <td>Transportation</td>\n",
       "      <td>Technicians &amp; Support</td>\n",
       "      <td>White</td>\n",
       "      <td>All other</td>\n",
       "      <td>...</td>\n",
       "      <td>Native</td>\n",
       "      <td>US</td>\n",
       "      <td>US</td>\n",
       "      <td>US</td>\n",
       "      <td>Single</td>\n",
       "      <td>0</td>\n",
       "      <td>0</td>\n",
       "      <td>0</td>\n",
       "      <td>Unknown</td>\n",
       "      <td>999</td>\n",
       "    </tr>\n",
       "    <tr>\n",
       "      <th>19998</th>\n",
       "      <td>TRAIN_19998</td>\n",
       "      <td>76</td>\n",
       "      <td>F</td>\n",
       "      <td>High graduate</td>\n",
       "      <td>Not Working</td>\n",
       "      <td>0</td>\n",
       "      <td>Not in universe or children</td>\n",
       "      <td>Unknown</td>\n",
       "      <td>White</td>\n",
       "      <td>All other</td>\n",
       "      <td>...</td>\n",
       "      <td>Native</td>\n",
       "      <td>US</td>\n",
       "      <td>Scotland</td>\n",
       "      <td>England</td>\n",
       "      <td>Single</td>\n",
       "      <td>0</td>\n",
       "      <td>0</td>\n",
       "      <td>0</td>\n",
       "      <td>Under Median</td>\n",
       "      <td>0</td>\n",
       "    </tr>\n",
       "    <tr>\n",
       "      <th>19999</th>\n",
       "      <td>TRAIN_19999</td>\n",
       "      <td>41</td>\n",
       "      <td>F</td>\n",
       "      <td>High graduate</td>\n",
       "      <td>Children or Armed Forces</td>\n",
       "      <td>52</td>\n",
       "      <td>Public Administration</td>\n",
       "      <td>Admin Support (include Clerical)</td>\n",
       "      <td>White</td>\n",
       "      <td>All other</td>\n",
       "      <td>...</td>\n",
       "      <td>Native</td>\n",
       "      <td>US</td>\n",
       "      <td>US</td>\n",
       "      <td>US</td>\n",
       "      <td>Head of Household (HOH)</td>\n",
       "      <td>0</td>\n",
       "      <td>0</td>\n",
       "      <td>0</td>\n",
       "      <td>Under Median</td>\n",
       "      <td>671</td>\n",
       "    </tr>\n",
       "  </tbody>\n",
       "</table>\n",
       "<p>20000 rows × 23 columns</p>\n",
       "</div>"
      ],
      "text/plain": [
       "                ID  Age Gender                Education_Status  \\\n",
       "0      TRAIN_00000   63      M                    Middle (7-8)   \n",
       "1      TRAIN_00001   37      M  Associates degree (Vocational)   \n",
       "2      TRAIN_00002   58      F                   High graduate   \n",
       "3      TRAIN_00003   44      M                   High graduate   \n",
       "4      TRAIN_00004   37      F                   High graduate   \n",
       "...            ...  ...    ...                             ...   \n",
       "19995  TRAIN_19995   33      M                   High graduate   \n",
       "19996  TRAIN_19996   20      F                         College   \n",
       "19997  TRAIN_19997   22      M                         College   \n",
       "19998  TRAIN_19998   76      F                   High graduate   \n",
       "19999  TRAIN_19999   41      F                   High graduate   \n",
       "\n",
       "              Employment_Status  Working_Week (Yearly)  \\\n",
       "0                     Full-Time                      4   \n",
       "1                     Full-Time                     52   \n",
       "2                     Full-Time                     52   \n",
       "3                     Full-Time                     52   \n",
       "4                     Full-Time                     52   \n",
       "...                         ...                    ...   \n",
       "19995  Children or Armed Forces                     52   \n",
       "19996                 Full-Time                     12   \n",
       "19997  Children or Armed Forces                     52   \n",
       "19998               Not Working                      0   \n",
       "19999  Children or Armed Forces                     52   \n",
       "\n",
       "                   Industry_Status                 Occupation_Status   Race  \\\n",
       "0                  Social Services                          Services  White   \n",
       "1                    Entertainment                          Services  White   \n",
       "2      Manufacturing (Non-durable)  Admin Support (include Clerical)  Black   \n",
       "3                           Retail             Technicians & Support  White   \n",
       "4                           Retail                             Sales  White   \n",
       "...                            ...                               ...    ...   \n",
       "19995      Manufacturing (Durable)                 Handlers/Cleaners  White   \n",
       "19996                    Education  Admin Support (include Clerical)  White   \n",
       "19997               Transportation             Technicians & Support  White   \n",
       "19998  Not in universe or children                           Unknown  White   \n",
       "19999        Public Administration  Admin Support (include Clerical)  White   \n",
       "\n",
       "         Hispanic_Origin  ... Citizenship Birth_Country  \\\n",
       "0              All other  ...      Native            US   \n",
       "1              All other  ...      Native            US   \n",
       "2              All other  ...      Native            US   \n",
       "3              All other  ...      Native            US   \n",
       "4              All other  ...      Native            US   \n",
       "...                  ...  ...         ...           ...   \n",
       "19995          All other  ...      Native            US   \n",
       "19996   Mexican-American  ...      Native            US   \n",
       "19997          All other  ...      Native            US   \n",
       "19998          All other  ...      Native            US   \n",
       "19999          All other  ...      Native            US   \n",
       "\n",
       "      Birth_Country (Father) Birth_Country (Mother)  \\\n",
       "0                         US                     US   \n",
       "1                         US                     US   \n",
       "2                         US                     US   \n",
       "3                         US                     US   \n",
       "4                         US                     US   \n",
       "...                      ...                    ...   \n",
       "19995                     US                     US   \n",
       "19996                 Mexico                 Mexico   \n",
       "19997                     US                     US   \n",
       "19998               Scotland                England   \n",
       "19999                     US                     US   \n",
       "\n",
       "                                        Tax_Status Gains Losses Dividends  \\\n",
       "0                                         Nonfiler     0      0         0   \n",
       "1                                           Single     0      0         0   \n",
       "2      Married Filling Jointly both under 65 (MFJ)  3411      0         0   \n",
       "3                                           Single     0      0         0   \n",
       "4                          Head of Household (HOH)     0      0         0   \n",
       "...                                            ...   ...    ...       ...   \n",
       "19995                                       Single     0      0         0   \n",
       "19996                                     Nonfiler     0      0         0   \n",
       "19997                                       Single     0      0         0   \n",
       "19998                                       Single     0      0         0   \n",
       "19999                      Head of Household (HOH)     0      0         0   \n",
       "\n",
       "       Income_Status  Income  \n",
       "0            Unknown     425  \n",
       "1       Under Median       0  \n",
       "2       Under Median     860  \n",
       "3       Under Median     850  \n",
       "4            Unknown     570  \n",
       "...              ...     ...  \n",
       "19995   Under Median    1300  \n",
       "19996   Under Median     850  \n",
       "19997        Unknown     999  \n",
       "19998   Under Median       0  \n",
       "19999   Under Median     671  \n",
       "\n",
       "[20000 rows x 23 columns]"
      ]
     },
     "execution_count": 1,
     "metadata": {},
     "output_type": "execute_result"
    }
   ],
   "source": [
    "# 소득 훈련파일 호출\n",
    "import numpy as np\n",
    "import pandas as pd\n",
    "\n",
    "soduk = pd.read_csv('train.csv')\n",
    "soduk     "
   ]
  },
  {
   "cell_type": "code",
   "execution_count": 2,
   "id": "c14d7a6f",
   "metadata": {},
   "outputs": [
    {
     "name": "stdout",
     "output_type": "stream",
     "text": [
      "<class 'pandas.core.frame.DataFrame'>\n",
      "RangeIndex: 20000 entries, 0 to 19999\n",
      "Data columns (total 23 columns):\n",
      " #   Column                  Non-Null Count  Dtype \n",
      "---  ------                  --------------  ----- \n",
      " 0   ID                      20000 non-null  object\n",
      " 1   Age                     20000 non-null  int64 \n",
      " 2   Gender                  20000 non-null  object\n",
      " 3   Education_Status        20000 non-null  object\n",
      " 4   Employment_Status       20000 non-null  object\n",
      " 5   Working_Week (Yearly)   20000 non-null  int64 \n",
      " 6   Industry_Status         20000 non-null  object\n",
      " 7   Occupation_Status       20000 non-null  object\n",
      " 8   Race                    20000 non-null  object\n",
      " 9   Hispanic_Origin         20000 non-null  object\n",
      " 10  Martial_Status          20000 non-null  object\n",
      " 11  Household_Status        20000 non-null  object\n",
      " 12  Household_Summary       20000 non-null  object\n",
      " 13  Citizenship             20000 non-null  object\n",
      " 14  Birth_Country           20000 non-null  object\n",
      " 15  Birth_Country (Father)  20000 non-null  object\n",
      " 16  Birth_Country (Mother)  20000 non-null  object\n",
      " 17  Tax_Status              20000 non-null  object\n",
      " 18  Gains                   20000 non-null  int64 \n",
      " 19  Losses                  20000 non-null  int64 \n",
      " 20  Dividends               20000 non-null  int64 \n",
      " 21  Income_Status           20000 non-null  object\n",
      " 22  Income                  20000 non-null  int64 \n",
      "dtypes: int64(6), object(17)\n",
      "memory usage: 3.5+ MB\n"
     ]
    }
   ],
   "source": [
    "soduk.info()\n",
    "# 1. 겉으로 보이는 결측값은 존재하지 않는다. \n",
    "# 2. 각각의 요소가 어떤것을 나타내는지 확인하는것이 필요하다. "
   ]
  },
  {
   "cell_type": "code",
   "execution_count": 3,
   "id": "19bca278",
   "metadata": {},
   "outputs": [
    {
     "name": "stdout",
     "output_type": "stream",
     "text": [
      "0\n",
      "90\n"
     ]
    },
    {
     "data": {
      "text/plain": [
       "Age\n",
       "37    476\n",
       "35    475\n",
       "24    473\n",
       "33    467\n",
       "31    466\n",
       "     ... \n",
       "84     20\n",
       "85     16\n",
       "87     11\n",
       "89     10\n",
       "88      9\n",
       "Name: count, Length: 91, dtype: int64"
      ]
     },
     "execution_count": 3,
     "metadata": {},
     "output_type": "execute_result"
    }
   ],
   "source": [
    "print(min(soduk['Age']))\n",
    "print(max(soduk['Age']))\n",
    "soduk.value_counts('Age')\n",
    "# 나이칸의 길이는 0부터 90까지 총 91개의 칸으로 이루어져있다."
   ]
  },
  {
   "cell_type": "code",
   "execution_count": 4,
   "id": "26a55f32",
   "metadata": {},
   "outputs": [
    {
     "data": {
      "text/plain": [
       "Gender\n",
       "F    10472\n",
       "M     9528\n",
       "Name: count, dtype: int64"
      ]
     },
     "execution_count": 4,
     "metadata": {},
     "output_type": "execute_result"
    }
   ],
   "source": [
    "soduk.value_counts('Gender')\n",
    "# 남성은 10472명이고 여성은 9528명이다."
   ]
  },
  {
   "cell_type": "code",
   "execution_count": 5,
   "id": "1d9b8fec",
   "metadata": {},
   "outputs": [
    {
     "data": {
      "text/plain": [
       "Education_Status\n",
       "High graduate                     6494\n",
       "College                           3794\n",
       "Children                          2208\n",
       "Bachelors degree                  1956\n",
       "High Junior                        820\n",
       "High Sophomore                     799\n",
       "Associates degree (Vocational)     741\n",
       "Associates degree (Academic)       609\n",
       "High Freshman                      555\n",
       "Middle (7-8)                       548\n",
       "Masters degree                     505\n",
       "Elementary (5-6)                   317\n",
       "High Senior                        242\n",
       "Elementary (1-4)                   150\n",
       "Professional degree                111\n",
       "Doctorate degree                    87\n",
       "Kindergarten                        64\n",
       "Name: count, dtype: int64"
      ]
     },
     "execution_count": 5,
     "metadata": {},
     "output_type": "execute_result"
    }
   ],
   "source": [
    "soduk.value_counts('Education_Status')\n",
    "# 여기서 미국 학제는 1학년부터 12학년까지 있다는 것을 알아둘 필요가 있다.\n",
    "# 한국은 초등학교 1-6, 중학교 1-3, 고등학교 1-3까지 있는게 일반적이다.\n",
    "# 미국의 고등학교는 1학년(freshman), 2학년(junior), 3학년(senior)로 나뉜다. \n",
    "# 미국의 대학은 1학년 1학년(freshman), 2학년 (sophomore), 3학년 (junior), \n",
    "# 4학년 (senior)을 거치게 된다.  \n",
    "# 문제는 여기에 7-8학년은 있는데 9학년(한국의 중3)이 존재하지 않는다.\n",
    "# 여기서 High가 붙으면 고등학교를 나타내는데 고등학교가 4학년이 아니다.\n",
    "# 중 3을 fresh로 기준하고 분류하면 다음과 같이 분류가 가능하다.\n",
    "\n",
    "# 교육수준은 고졸, 대학, 어린이, 4년제 학사, 고2, 고1, 준학사(직업), 준학사(학술),\n",
    "# 중3, 중1-2, 석사, 초등5-6, 고3,  초등1-4, 전문학위, 박사학위, 유치원\n",
    "# 다음과 같이 분류된다. "
   ]
  },
  {
   "cell_type": "code",
   "execution_count": 6,
   "id": "e450a03e",
   "metadata": {},
   "outputs": [
    {
     "data": {
      "text/plain": [
       "Employment_Status\n",
       "Children or Armed Forces         11142\n",
       "Full-Time                         6588\n",
       "Not Working                       1221\n",
       "Choice Part-Time                   593\n",
       "Part-Time (Usually Part-Time)      158\n",
       "Seeking Full-Time                  121\n",
       "Part-Time (Usually Full-Time)      100\n",
       "Seeking Part-Time                   77\n",
       "Name: count, dtype: int64"
      ]
     },
     "execution_count": 6,
     "metadata": {},
     "output_type": "execute_result"
    }
   ],
   "source": [
    "soduk.value_counts('Employment_Status')\n",
    "# 고용상태에 대한 분류\n",
    "# 미국은 고용을 정규직, 비정규직으로 분류하지 않는다. 풀타임과 파트타임으로 구분한다.\n",
    "# 전일제, 시간제로 불리며 여기서는 편의적으로 정규직을 전일제로 기준한다.\n",
    "\n",
    "# 아이들 또는 군인, 정규직(전일제), 무직, 선택파트타임, 시간제 노동자, 정규직 구직, \n",
    "# 전일제 노동자, 시간제 구직"
   ]
  },
  {
   "cell_type": "code",
   "execution_count": 7,
   "id": "374768b9",
   "metadata": {},
   "outputs": [
    {
     "data": {
      "text/plain": [
       "Working_Week (Yearly)\n",
       "52    10613\n",
       "0      4720\n",
       "40      440\n",
       "50      363\n",
       "48      313\n",
       "26      283\n",
       "20      213\n",
       "12      209\n",
       "30      207\n",
       "36      181\n",
       "32      139\n",
       "44      138\n",
       "16      134\n",
       "51      134\n",
       "8       129\n",
       "49      117\n",
       "35      115\n",
       "24      105\n",
       "46       97\n",
       "45       95\n",
       "42       94\n",
       "39       87\n",
       "28       79\n",
       "4        78\n",
       "10       67\n",
       "25       63\n",
       "43       58\n",
       "38       57\n",
       "6        55\n",
       "13       54\n",
       "15       48\n",
       "18       46\n",
       "22       45\n",
       "47       43\n",
       "2        41\n",
       "1        34\n",
       "14       34\n",
       "5        32\n",
       "3        32\n",
       "17       30\n",
       "7        28\n",
       "34       23\n",
       "9        23\n",
       "37       20\n",
       "41       13\n",
       "19       13\n",
       "27       12\n",
       "11       10\n",
       "21        9\n",
       "23        8\n",
       "29        8\n",
       "31        6\n",
       "33        5\n",
       "Name: count, dtype: int64"
      ]
     },
     "execution_count": 7,
     "metadata": {},
     "output_type": "execute_result"
    }
   ],
   "source": [
    "soduk.value_counts('Working_Week (Yearly)')\n",
    "# 주 노동량\n",
    "# 52주는 1년 내내 일한 것을 말한다. 그리고 0은 아예 일을 하지 않은 것을 말한다."
   ]
  },
  {
   "cell_type": "code",
   "execution_count": 8,
   "id": "9e5bf5a8",
   "metadata": {},
   "outputs": [
    {
     "data": {
      "text/plain": [
       "Industry_Status\n",
       "Not in universe or children                     4688\n",
       "Retail                                          3149\n",
       "Manufacturing (Durable)                         1575\n",
       "Manufacturing (Non-durable)                     1223\n",
       "Education                                       1041\n",
       "Business & Repair                                847\n",
       "Medical (except Hospitals)                       838\n",
       "Construction                                     832\n",
       "Hospitals                                        821\n",
       "Finance Insurance & Real Estate                  727\n",
       "Transportation                                   693\n",
       "Public Administration                            641\n",
       "Other professional services                      477\n",
       "Wholesale                                        450\n",
       "Personal Services (except Private Household)     429\n",
       "Social Services                                  367\n",
       "Entertainment                                    278\n",
       "Agriculture                                      268\n",
       "Utilities & Sanitary                             202\n",
       "Communications                                   195\n",
       "Private Household Services                       125\n",
       "Mining                                           107\n",
       "Forestry & Fisheries                              26\n",
       "Armed Forces                                       1\n",
       "Name: count, dtype: int64"
      ]
     },
     "execution_count": 8,
     "metadata": {},
     "output_type": "execute_result"
    }
   ],
   "source": [
    "soduk.value_counts('Industry_Status')\n",
    "# 산업 고용분포를 나타낸다. \n",
    "# 경제활동 안하거나 어린이, 소매업, 제조업-내구재, 제조업-비내구재, 교육업\n",
    "# 비즈니스와 수리, 의료(병원제외), 건설산업, 병원, 금융보험부동산, 교통산업,\n",
    "# 공공행정산업, 기타 전문서비스, 도매업, 개인서비스, 복지서비스, 엔터테인먼트,\n",
    "# 농업, 공공시설 및 위생, 통신, 가정내 서비스, 광업, 임업과 어업, 군사 \n",
    "\n",
    "# 상당히 많은 분야를 가진다. 여기서 분야별로 소득의 격차가 클 것을 알 수 있다.\n"
   ]
  },
  {
   "cell_type": "code",
   "execution_count": 9,
   "id": "50588342",
   "metadata": {},
   "outputs": [
    {
     "data": {
      "text/plain": [
       "Occupation_Status\n",
       "Unknown                             4688\n",
       "Admin Support (include Clerical)    2709\n",
       "Services                            2313\n",
       "Craft & Repair                      1869\n",
       "Sales                               1692\n",
       "Professional                        1488\n",
       "Machine Operators & Inspectors      1383\n",
       "Management                          1111\n",
       "Handlers/Cleaners                    837\n",
       "Transportation                       690\n",
       "Technicians & Support                558\n",
       "Farming & Forestry & Fishing         296\n",
       "Protective Services                  260\n",
       "Private Household Services           105\n",
       "Armed Forces                           1\n",
       "Name: count, dtype: int64"
      ]
     },
     "execution_count": 9,
     "metadata": {},
     "output_type": "execute_result"
    }
   ],
   "source": [
    "soduk.value_counts('Occupation_Status')\n",
    "# 직업 상태를 말한다. \n",
    "# 미분류, 행정지원, 서비스, 제작수리, 판매, 전문직, 기계조작, 관리직, 취급 및 청소,\n",
    "# 운송직업, 기술 지원, 농업, 치안서비스, 가정 내 서비스, 군사\n"
   ]
  },
  {
   "cell_type": "code",
   "execution_count": 10,
   "id": "42012d5d",
   "metadata": {},
   "outputs": [
    {
     "data": {
      "text/plain": [
       "Race\n",
       "White                           16845\n",
       "Black                            2122\n",
       "Asian/Pacific                     511\n",
       "Other                             296\n",
       "Native American/Aleut/Eskimo      226\n",
       "Name: count, dtype: int64"
      ]
     },
     "execution_count": 10,
     "metadata": {},
     "output_type": "execute_result"
    }
   ],
   "source": [
    "soduk.value_counts('Race')\n",
    "# 인종을 말한다.\n",
    "# 백인, 흑인, 아시아/태평양, 기타, 아메리카 원주민으로 분류된다. "
   ]
  },
  {
   "cell_type": "code",
   "execution_count": 11,
   "id": "cbc86daa",
   "metadata": {},
   "outputs": [
    {
     "data": {
      "text/plain": [
       "Hispanic_Origin\n",
       " All other                    17769\n",
       " Mexican-American               654\n",
       " Mexican (Mexicano)             624\n",
       " Central or South American      325\n",
       " Puerto Rican                   243\n",
       " Other Spanish                  201\n",
       " Cuban                           76\n",
       " NA                              59\n",
       " Chicano                         27\n",
       " Do not know                     22\n",
       "Name: count, dtype: int64"
      ]
     },
     "execution_count": 11,
     "metadata": {},
     "output_type": "execute_result"
    }
   ],
   "source": [
    "soduk.value_counts('Hispanic_Origin')\n",
    "# 히스패닉 기원을 말한다. 라틴계 사람들은 일반적으로 스페인어를 사용한다. \n",
    "# 히스패닉 아님, 맥시코계 미국인, 멕시코인, 남미출신, 푸에르토 리코, 타 스페인권,\n",
    "# 쿠바인, 불명, 강성 멕시코계 미국인, 모름\n",
    "# "
   ]
  },
  {
   "cell_type": "code",
   "execution_count": 12,
   "id": "1cadb8e2",
   "metadata": {},
   "outputs": [
    {
     "data": {
      "text/plain": [
       "Martial_Status\n",
       "Married                         9554\n",
       "Single                          7380\n",
       "Divorced                        1633\n",
       "Widowed                          756\n",
       "Separated                        436\n",
       "Married (Spouse Absent)          171\n",
       "Married (Armed Force Spouse)      70\n",
       "Name: count, dtype: int64"
      ]
     },
     "execution_count": 12,
     "metadata": {},
     "output_type": "execute_result"
    }
   ],
   "source": [
    "soduk.value_counts('Martial_Status')\n",
    "# 결혼 상태\n",
    "# 결혼, 싱글, 이혼상태, 사별, 별거, 기러기, 군복무 기러기"
   ]
  },
  {
   "cell_type": "code",
   "execution_count": 13,
   "id": "d7b11fb1",
   "metadata": {},
   "outputs": [
    {
     "data": {
      "text/plain": [
       "Household_Status\n",
       "Householder                                                               6087\n",
       "Spouse of householder                                                     4794\n",
       "Child <18 never marr not in subfamily                                     2670\n",
       "Nonfamily householder                                                     2465\n",
       "Child 18+ never marr Not in a subfamily                                   1860\n",
       "Secondary individual                                                       845\n",
       "Other Rel 18+ never marr not in subfamily                                  195\n",
       "Other Rel 18+ ever marr not in subfamily                                   154\n",
       "Child 18+ ever marr Not in a subfamily                                     118\n",
       "Child 18+ ever married Responsible Person of subfamily                     101\n",
       "Child 18+ never married Responsible Person of subfamily                     96\n",
       "Grandchild <18 never married child of subfamily Responsible Person          88\n",
       "Responsible Person of unrelated subfamily                                   87\n",
       "Other Relative 18+ ever married Responsible Person of subfamily             77\n",
       "Other Relative 18+ spouse of subfamily Responsible Person                   73\n",
       "Grandchild 18+ never marr not in subfamily                                  63\n",
       "Grandchild <18 never marr not in subfamily                                  43\n",
       "Child under 18 of Responsible Person of unrelated subfamily                 39\n",
       "Other Rel <18 never marr not in subfamily                                   36\n",
       "Other Relative <18 never married child of subfamily Responsible Person      27\n",
       "In group quarters                                                           26\n",
       "Other Relative 18+ never married Responsible Person of subfamily            19\n",
       "Child 18+ spouse of subfamily Responsible Person                            16\n",
       "Child <18 never married Responsible Person of subfamily                      8\n",
       "Child <18 ever marr not in subfamily                                         3\n",
       "Grandchild 18+ ever marr not in subfamily                                    3\n",
       "Spouse of Responsible Person of unrelated subfamily                          3\n",
       "Child <18 ever married Responsible Person of subfamily                       1\n",
       "Other Relative <18 ever married Responsible Person of subfamily              1\n",
       "Grandchild 18+ spouse of subfamily Responsible Person                        1\n",
       "Grandchild 18+ ever married Responsible Person of subfamily                  1\n",
       "Name: count, dtype: int64"
      ]
     },
     "execution_count": 13,
     "metadata": {},
     "output_type": "execute_result"
    }
   ],
   "source": [
    "soduk.value_counts('Household_Status')\n",
    "# 가구 지위를 말하며 매우 복잡하다.\n",
    "# 가장, 가장의 배우자, 미혼 청소년, 1인가구, 캥거루족, 비 가족인원, 친척거주등등..\n",
    "# 더 알면 크루세이더 킹즈니까 대략적인 부분에 집중하자. 어떻게 사는지가 연봉에 영향을\n",
    "# 주는지는 의문이니까 말이다. "
   ]
  },
  {
   "cell_type": "code",
   "execution_count": 14,
   "id": "7e522f82",
   "metadata": {},
   "outputs": [
    {
     "data": {
      "text/plain": [
       "Household_Summary\n",
       "Householder                             8552\n",
       "Spouse of householder                   4794\n",
       "Child under 18 never married            2679\n",
       "Child 18 or older                       2192\n",
       "Nonrelative of householder               974\n",
       "Other relative of householder            781\n",
       "Group Quarters- Secondary individual      24\n",
       "Child under 18 ever married                4\n",
       "Name: count, dtype: int64"
      ]
     },
     "execution_count": 14,
     "metadata": {},
     "output_type": "execute_result"
    }
   ],
   "source": [
    "soduk.value_counts('Household_Summary')\n",
    "# 가구구성 간략화. 사실 이걸 써야할 거 같다. \n",
    "# 가장, 가장의 배우자, 18세 미만, 캥거루족, 혈연x, 기타친척, 집단거주시설, 리틀맘"
   ]
  },
  {
   "cell_type": "code",
   "execution_count": 15,
   "id": "62e9b419",
   "metadata": {},
   "outputs": [
    {
     "data": {
      "text/plain": [
       "Citizenship\n",
       "Native                                         17825\n",
       "Foreign-born (Non-US Citizen)                   1258\n",
       "Foreign-born (Naturalized US Citizen)            588\n",
       "Native (Born Abroad)                             197\n",
       "Native (Born in Puerto Rico or US Outlying)      132\n",
       "Name: count, dtype: int64"
      ]
     },
     "execution_count": 15,
     "metadata": {},
     "output_type": "execute_result"
    }
   ],
   "source": [
    "soduk.value_counts('Citizenship')\n",
    "# 시민권을 말한다. \n",
    "# 본토인, 미귀화자 , 미국 귀화자, 해외탄생 미국인자녀, 푸에르토리코 출신\n",
    "# 푸에르토리코의 국민은 미국 시민으로 간주된다. "
   ]
  },
  {
   "cell_type": "code",
   "execution_count": 16,
   "id": "d0223453",
   "metadata": {},
   "outputs": [
    {
     "data": {
      "text/plain": [
       "Birth_Country\n",
       "US                              17825\n",
       "Mexico                            540\n",
       "Unknown                           330\n",
       "Puerto-Rico                       117\n",
       "Philippines                       112\n",
       "Germany                            90\n",
       "Canada                             75\n",
       "El-Salvador                        68\n",
       "Cuba                               58\n",
       "India                              55\n",
       "Dominican-Republic                 49\n",
       "England                            47\n",
       "Poland                             45\n",
       "Jamaica                            45\n",
       "Columbia                           36\n",
       "Italy                              35\n",
       "South Korea                        31\n",
       "Vietnam                            31\n",
       "Ecuador                            31\n",
       "Japan                              30\n",
       "Portugal                           29\n",
       "Nicaragua                          28\n",
       "China                              28\n",
       "Guatemala                          28\n",
       "Haiti                              25\n",
       "Iran                               24\n",
       "Peru                               22\n",
       "Ireland                            21\n",
       "Hong Kong                          16\n",
       "Outlying-U S (Guam USVI etc)       15\n",
       "France                             14\n",
       "Honduras                           14\n",
       "Greece                             13\n",
       "Laos                               11\n",
       "Taiwan                             11\n",
       "Thailand                           10\n",
       "Trinadad&Tobago                     8\n",
       "Cambodia                            8\n",
       "Scotland                            7\n",
       "Yugoslavia                          7\n",
       "Panama                              4\n",
       "Hungary                             4\n",
       "Holand-Netherlands                  3\n",
       "Name: count, dtype: int64"
      ]
     },
     "execution_count": 16,
     "metadata": {},
     "output_type": "execute_result"
    }
   ],
   "source": [
    "soduk.value_counts('Birth_Country')\n",
    "# 출생지를 말한다. 다만 이것은 작업을 너무 복잡하게 만든다.\n",
    "# 나중에 북미, 남미, 유럽, 아시아, 아프리카,  오세아니아 등으로 나누자.\n",
    "# 같은 원리로 부계, 모계도 별도로 분리하자. "
   ]
  },
  {
   "cell_type": "code",
   "execution_count": 17,
   "id": "d0b3b3ce",
   "metadata": {},
   "outputs": [
    {
     "data": {
      "text/plain": [
       "Tax_Status\n",
       "Married Filling Jointly both under 65 (MFJ)                 8588\n",
       "Single                                                      5547\n",
       "Nonfiler                                                    3874\n",
       "Head of Household (HOH)                                     1217\n",
       "Married Filling Jointly both over 65 (MFJ)                   469\n",
       "Married Filling Jointly one over 65 & one under 65 (MFJ)     305\n",
       "Name: count, dtype: int64"
      ]
     },
     "execution_count": 17,
     "metadata": {},
     "output_type": "execute_result"
    }
   ],
   "source": [
    "soduk.value_counts('Tax_Status')\n",
    "# 세금 보고서를 말한다.\n",
    "# 65세 미만 부부, 미혼, 미보고, 한부모가족, 65세 이상 부부, 한쪽만 65세 이상\n",
    "# 세금공제혜택에 따라 분류된 듯 하다."
   ]
  },
  {
   "cell_type": "code",
   "execution_count": 18,
   "id": "4b751ebb",
   "metadata": {},
   "outputs": [
    {
     "data": {
      "text/plain": [
       "Gains\n",
       "0        19217\n",
       "7298        73\n",
       "15024       60\n",
       "7688        54\n",
       "5178        35\n",
       "         ...  \n",
       "1848         1\n",
       "2009         1\n",
       "4508         1\n",
       "3887         1\n",
       "3456         1\n",
       "Name: count, Length: 106, dtype: int64"
      ]
     },
     "execution_count": 18,
     "metadata": {},
     "output_type": "execute_result"
    }
   ],
   "source": [
    "soduk.value_counts('Gains')\n",
    "# 알 수 없는 자료. 이상치는 800건 이하"
   ]
  },
  {
   "cell_type": "code",
   "execution_count": 19,
   "id": "8b342c72",
   "metadata": {},
   "outputs": [
    {
     "data": {
      "text/plain": [
       "Losses\n",
       "0       19568\n",
       "1902       43\n",
       "1887       41\n",
       "1977       35\n",
       "1602       26\n",
       "        ...  \n",
       "1617        1\n",
       "2231        1\n",
       "1539        1\n",
       "1340        1\n",
       "1825        1\n",
       "Name: count, Length: 86, dtype: int64"
      ]
     },
     "execution_count": 19,
     "metadata": {},
     "output_type": "execute_result"
    }
   ],
   "source": [
    "soduk.value_counts('Losses')\n",
    "# 알 수 없는 자료. 이상치는 450건 이하\n",
    "# 개인적으로 이 자료들은 함정이라고 판단중"
   ]
  },
  {
   "cell_type": "code",
   "execution_count": 20,
   "id": "638f23e0",
   "metadata": {},
   "outputs": [
    {
     "data": {
      "text/plain": [
       "Dividends\n",
       "0        17928\n",
       "100        134\n",
       "500         86\n",
       "50          86\n",
       "1000        86\n",
       "         ...  \n",
       "430          1\n",
       "428          1\n",
       "424          1\n",
       "411          1\n",
       "45000        1\n",
       "Name: count, Length: 420, dtype: int64"
      ]
     },
     "execution_count": 20,
     "metadata": {},
     "output_type": "execute_result"
    }
   ],
   "source": [
    "soduk.value_counts('Dividends')\n",
    "# 배당금. 주식이나 펀드등으로 배당금을 말한다. \n",
    "# 재밌는 점은 배당에 Income이 영향을 크게 주지 않아보인다. "
   ]
  },
  {
   "cell_type": "code",
   "execution_count": 21,
   "id": "062952cd",
   "metadata": {},
   "outputs": [
    {
     "data": {
      "text/plain": [
       "Income_Status\n",
       "Under Median    13237\n",
       "Unknown          6026\n",
       "Over Median       737\n",
       "Name: count, dtype: int64"
      ]
     },
     "execution_count": 21,
     "metadata": {},
     "output_type": "execute_result"
    }
   ],
   "source": [
    "soduk.value_counts('Income_Status')\n",
    "# 소득수준. 3개로 나뉜다.\n",
    "# 저소득, 모름, 고소득으로 분류된다. "
   ]
  },
  {
   "cell_type": "code",
   "execution_count": 22,
   "id": "1a444ac1",
   "metadata": {},
   "outputs": [
    {
     "data": {
      "text/plain": [
       "Income\n",
       "0       8697\n",
       "500      743\n",
       "700      550\n",
       "600      547\n",
       "800      526\n",
       "        ... \n",
       "1265       1\n",
       "1266       1\n",
       "1267       1\n",
       "1268       1\n",
       "9999       1\n",
       "Name: count, Length: 1228, dtype: int64"
      ]
     },
     "execution_count": 22,
     "metadata": {},
     "output_type": "execute_result"
    }
   ],
   "source": [
    "soduk.value_counts('Income')\n",
    "# 소득. 답지 부분을 나타낸다.\n",
    "# 다행스럽게도 100의 배수로 나눠떨어지는 경우가 많아보인다. "
   ]
  },
  {
   "cell_type": "code",
   "execution_count": 25,
   "id": "c82da634",
   "metadata": {},
   "outputs": [
    {
     "name": "stdout",
     "output_type": "stream",
     "text": [
      "13875\n"
     ]
    }
   ],
   "source": [
    "# 여기서 income의 답지부분이 100의 배수로 얼마나 나눠떨어지는지 알아보자.\n",
    "stack = 0\n",
    "tester = soduk['Income']\n",
    "for i in tester:\n",
    "    if i % 100 == 0:\n",
    "        stack += 1\n",
    "print(stack)\n",
    "# 약 14000건 정도가 100의 배수로 나눠떨어지는 경우는 69%이다."
   ]
  },
  {
   "cell_type": "code",
   "execution_count": 26,
   "id": "2793fe06",
   "metadata": {},
   "outputs": [
    {
     "name": "stdout",
     "output_type": "stream",
     "text": [
      "15422\n"
     ]
    }
   ],
   "source": [
    "stack = 0\n",
    "tester = soduk['Income']\n",
    "for i in tester:\n",
    "    if i % 50 == 0:\n",
    "        stack += 1\n",
    "print(stack)\n",
    "# 50의 배수일 확률은 77%이다. "
   ]
  },
  {
   "cell_type": "code",
   "execution_count": 27,
   "id": "5153cf8e",
   "metadata": {},
   "outputs": [
    {
     "name": "stdout",
     "output_type": "stream",
     "text": [
      "16319\n"
     ]
    }
   ],
   "source": [
    "stack = 0\n",
    "tester = soduk['Income']\n",
    "for i in tester:\n",
    "    if i % 10 == 0:\n",
    "        stack += 1\n",
    "print(stack)\n",
    "# 10의 배수일 확률은 82%이다. "
   ]
  },
  {
   "cell_type": "code",
   "execution_count": 28,
   "id": "8ac7a86a",
   "metadata": {},
   "outputs": [
    {
     "name": "stdout",
     "output_type": "stream",
     "text": [
      "18426\n"
     ]
    }
   ],
   "source": [
    "stack = 0\n",
    "tester = soduk['Income']\n",
    "for i in tester:\n",
    "    if i % 5 == 0:\n",
    "        stack += 1\n",
    "print(stack)\n",
    "# 92%의 확률로 5의 배수라는 뜻이다. 즉 대부분의 소득보고는 5의 배수 단위로 \n",
    "# 이루어지는 것이 보편적이라는 이야기이다. "
   ]
  },
  {
   "cell_type": "code",
   "execution_count": null,
   "id": "b93fd6b3",
   "metadata": {},
   "outputs": [],
   "source": [
    "# 이제 전략을 짜도록 하자. 다음과 같은 전략으로 움직일 것이다.\n",
    "# 1. 카테고리 축약 : 원핫 인코딩을 하거나 분석 목적에 맞게 축약을 하는 것이다. \n",
    "# 너무 많은 카테고리는 연구속도를 늦춘다. 보편적인 수준으로 압축을 시켜보자.\n",
    "# 2. 사용자료 축약 : 연관성 분석을 통해 사용가능한 자료를 파악하자. \n",
    "# 3. 답안 제출방식을 2중으로 설정 : 먼저 소득이 0인 사람을 먼저 추정하자. 그리고\n",
    "# 소득이 0 이상인 사람을 측정하는 방향으로 전략을 편성하자. "
   ]
  }
 ],
 "metadata": {
  "kernelspec": {
   "display_name": "Python 3 (ipykernel)",
   "language": "python",
   "name": "python3"
  },
  "language_info": {
   "codemirror_mode": {
    "name": "ipython",
    "version": 3
   },
   "file_extension": ".py",
   "mimetype": "text/x-python",
   "name": "python",
   "nbconvert_exporter": "python",
   "pygments_lexer": "ipython3",
   "version": "3.11.5"
  }
 },
 "nbformat": 4,
 "nbformat_minor": 5
}
