{
 "cells": [
  {
   "cell_type": "code",
   "execution_count": 5,
   "id": "b524c7fb",
   "metadata": {},
   "outputs": [
    {
     "data": {
      "text/plain": [
       "array(['1종', '2종', '대형', '보통', '운전면허', '운전면허1종', '자동차'], dtype=object)"
      ]
     },
     "execution_count": 5,
     "metadata": {},
     "output_type": "execute_result"
    }
   ],
   "source": [
    "import re\n",
    "from sklearn.feature_extraction.text import CountVectorizer\n",
    "vectorizer = CountVectorizer(min_df=1) # 한번 등장해도 단어장에 포함\n",
    "\n",
    "# 후보문장\n",
    "contents = ['자동차 운전면허 1종 보통',\n",
    "           '자동차 운전면허 1종 대형',\n",
    "           '운전면허1종'\n",
    "           ,'2종 보통']\n",
    "\n",
    "X = vectorizer.fit_transform(contents)\n",
    "vectorizer.get_feature_names_out()"
   ]
  },
  {
   "cell_type": "code",
   "execution_count": 8,
   "id": "6837b5ac",
   "metadata": {},
   "outputs": [
    {
     "name": "stdout",
     "output_type": "stream",
     "text": [
      "None\n"
     ]
    }
   ],
   "source": [
    "#임베딩 필요없이 그냥 전부 나눠버리고 빈도수별로 순위를 매기자.\n",
    "print(re.search(\"마진\",'자동차 운전면허 1종 보통'))"
   ]
  },
  {
   "cell_type": "code",
   "execution_count": null,
   "id": "468dd69e",
   "metadata": {},
   "outputs": [],
   "source": []
  }
 ],
 "metadata": {
  "kernelspec": {
   "display_name": "Python 3 (ipykernel)",
   "language": "python",
   "name": "python3"
  },
  "language_info": {
   "codemirror_mode": {
    "name": "ipython",
    "version": 3
   },
   "file_extension": ".py",
   "mimetype": "text/x-python",
   "name": "python",
   "nbconvert_exporter": "python",
   "pygments_lexer": "ipython3",
   "version": "3.11.4"
  }
 },
 "nbformat": 4,
 "nbformat_minor": 5
}
